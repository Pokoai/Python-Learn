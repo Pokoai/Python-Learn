{
 "cells": [
  {
   "cell_type": "markdown",
   "id": "6a432f8c-9157-4367-acaa-7ce5902004c4",
   "metadata": {
    "tags": []
   },
   "source": [
    "## 一、第一个 Python 程序"
   ]
  },
  {
   "cell_type": "markdown",
   "id": "a250c581-9ba3-42ff-82ef-63628fc8a5b4",
   "metadata": {
    "tags": []
   },
   "source": [
    "### 输入输出"
   ]
  },
  {
   "cell_type": "code",
   "execution_count": 2,
   "id": "eb57177c-148a-4ea3-854a-feb29cd8fff5",
   "metadata": {},
   "outputs": [
    {
     "name": "stdout",
     "output_type": "stream",
     "text": [
      "100 + 200 =  300\n"
     ]
    }
   ],
   "source": [
    "print('100 + 200 = ', 100 + 200)"
   ]
  },
  {
   "cell_type": "code",
   "execution_count": 4,
   "id": "ee66a066-cc81-46c1-b303-001271e425c0",
   "metadata": {},
   "outputs": [
    {
     "name": "stdin",
     "output_type": "stream",
     "text": [
      "输入姓名 古月\n"
     ]
    },
    {
     "name": "stdout",
     "output_type": "stream",
     "text": [
      "你输入的是:古月\n"
     ]
    }
   ],
   "source": [
    "name = input('输入姓名')\n",
    "\n",
    "print('你输入的是:' + name)"
   ]
  },
  {
   "cell_type": "code",
   "execution_count": 5,
   "id": "ee3bafe5-9eb5-488a-b615-ef540be05a3b",
   "metadata": {},
   "outputs": [
    {
     "data": {
      "text/plain": [
       "'古月'"
      ]
     },
     "execution_count": 5,
     "metadata": {},
     "output_type": "execute_result"
    }
   ],
   "source": [
    "name"
   ]
  },
  {
   "cell_type": "code",
   "execution_count": 6,
   "id": "39240661-254c-4e53-9350-525a5e2e6ee9",
   "metadata": {},
   "outputs": [
    {
     "name": "stdout",
     "output_type": "stream",
     "text": [
      "1024 * 768 = 786432\n"
     ]
    }
   ],
   "source": [
    "print('1024 * 768 =', 1024 * 768)"
   ]
  },
  {
   "cell_type": "markdown",
   "id": "1d7d6ca4-7a80-4b4a-8781-c8bd653f68aa",
   "metadata": {},
   "source": [
    "#### 禁止转义"
   ]
  },
  {
   "cell_type": "code",
   "execution_count": 11,
   "id": "7c9409a7-a90b-44e8-ad0e-15e622811909",
   "metadata": {},
   "outputs": [
    {
     "name": "stdout",
     "output_type": "stream",
     "text": [
      "\\\t\\\n"
     ]
    }
   ],
   "source": [
    "print('\\\\\\t\\\\')"
   ]
  },
  {
   "cell_type": "code",
   "execution_count": 12,
   "id": "4ea6a318-1403-4e74-bba3-ac53f324df2a",
   "metadata": {},
   "outputs": [
    {
     "name": "stdout",
     "output_type": "stream",
     "text": [
      "\\\\\\t\\\\\n"
     ]
    }
   ],
   "source": [
    "print(r'\\\\\\t\\\\')"
   ]
  },
  {
   "cell_type": "markdown",
   "id": "0bf993c4-779d-4b1b-8ab9-901372060483",
   "metadata": {},
   "source": [
    "#### 换行"
   ]
  },
  {
   "cell_type": "code",
   "execution_count": 14,
   "id": "64c8a07a-de96-41bc-86d8-b683f0492d02",
   "metadata": {},
   "outputs": [
    {
     "name": "stdout",
     "output_type": "stream",
     "text": [
      "line1\n",
      "line2\n",
      "line3\n"
     ]
    }
   ],
   "source": [
    "print('line1\\nline2\\nline3')"
   ]
  },
  {
   "cell_type": "code",
   "execution_count": 19,
   "id": "31df7f02-7804-4a8c-98d3-67df26d854f0",
   "metadata": {},
   "outputs": [
    {
     "name": "stdout",
     "output_type": "stream",
     "text": [
      "line1\n",
      "line2\n",
      "line3\n"
     ]
    }
   ],
   "source": [
    "print('''line1\n",
    "line2\n",
    "line3''')"
   ]
  },
  {
   "cell_type": "code",
   "execution_count": 88,
   "id": "ff2c23c3-e201-428e-bd53-c7013bb67a62",
   "metadata": {},
   "outputs": [
    {
     "name": "stdin",
     "output_type": "stream",
     "text": [
      "birth:  18\n"
     ]
    },
    {
     "data": {
      "text/plain": [
       "18"
      ]
     },
     "execution_count": 88,
     "metadata": {},
     "output_type": "execute_result"
    }
   ],
   "source": [
    "birth = int(input('birth: '))\n",
    "\n",
    "birth"
   ]
  },
  {
   "cell_type": "markdown",
   "id": "4ae00416-953c-4397-8edf-8c147cfbf990",
   "metadata": {},
   "source": [
    "## 二、Python 基础"
   ]
  },
  {
   "cell_type": "markdown",
   "id": "31309c4c-7156-48b5-be4f-a0b4d73da68a",
   "metadata": {},
   "source": [
    "### 数据类型和变量"
   ]
  },
  {
   "cell_type": "markdown",
   "id": "b6e4f3ac-630f-4e84-8697-53b238840041",
   "metadata": {},
   "source": [
    "#### 布尔值"
   ]
  },
  {
   "cell_type": "code",
   "execution_count": 20,
   "id": "7089bf8b-c292-4857-9e7f-3faf6be94667",
   "metadata": {},
   "outputs": [
    {
     "data": {
      "text/plain": [
       "False"
      ]
     },
     "execution_count": 20,
     "metadata": {},
     "output_type": "execute_result"
    }
   ],
   "source": [
    "True and False"
   ]
  },
  {
   "cell_type": "code",
   "execution_count": 21,
   "id": "d2919306-4c25-44cf-9170-7e6de48267d2",
   "metadata": {},
   "outputs": [
    {
     "data": {
      "text/plain": [
       "True"
      ]
     },
     "execution_count": 21,
     "metadata": {},
     "output_type": "execute_result"
    }
   ],
   "source": [
    "True or False"
   ]
  },
  {
   "cell_type": "code",
   "execution_count": 22,
   "id": "90326c09-64b1-436b-8c89-e43568ff8595",
   "metadata": {},
   "outputs": [
    {
     "data": {
      "text/plain": [
       "True"
      ]
     },
     "execution_count": 22,
     "metadata": {},
     "output_type": "execute_result"
    }
   ],
   "source": [
    "not False"
   ]
  },
  {
   "cell_type": "markdown",
   "id": "8876209a-5485-4cd3-8798-d703a106324b",
   "metadata": {},
   "source": [
    "#### 变量"
   ]
  },
  {
   "cell_type": "markdown",
   "id": "9a55cb66-a80f-428f-a138-a7da7f3369a4",
   "metadata": {},
   "source": [
    "- 变量可以改变类型 -> python 为动态语言："
   ]
  },
  {
   "cell_type": "code",
   "execution_count": 25,
   "id": "99d0bc54-e518-47c3-b7f7-c8be91f1e580",
   "metadata": {},
   "outputs": [
    {
     "name": "stdout",
     "output_type": "stream",
     "text": [
      "123\n",
      "ABC\n",
      "True\n"
     ]
    }
   ],
   "source": [
    "a =  123\n",
    "print(a)\n",
    "\n",
    "a = 'ABC'\n",
    "print(a)\n",
    "\n",
    "a = True\n",
    "print(a)"
   ]
  },
  {
   "cell_type": "markdown",
   "id": "21eb9140-6924-4261-9f9d-5ac44d524fdb",
   "metadata": {},
   "source": [
    "- 变量在内存中的表示："
   ]
  },
  {
   "cell_type": "code",
   "execution_count": 31,
   "id": "079f9829-fbdf-44e7-afc1-7e38997c12e3",
   "metadata": {},
   "outputs": [
    {
     "name": "stdout",
     "output_type": "stream",
     "text": [
      "XYZ ABC\n"
     ]
    }
   ],
   "source": [
    "a = 'ABC'\n",
    "\n",
    "b = a\n",
    "\n",
    "a = 'XYZ'\n",
    "\n",
    "print(a, b)"
   ]
  },
  {
   "cell_type": "markdown",
   "id": "0972634a-6da3-481c-8d03-47af76db26d3",
   "metadata": {},
   "source": [
    "#### 常量除法"
   ]
  },
  {
   "cell_type": "code",
   "execution_count": 34,
   "id": "09cc5e1a-13f2-44a7-9542-5893257c417b",
   "metadata": {},
   "outputs": [
    {
     "data": {
      "text/plain": [
       "3.3333333333333335"
      ]
     },
     "execution_count": 34,
     "metadata": {},
     "output_type": "execute_result"
    }
   ],
   "source": [
    "10 / 3"
   ]
  },
  {
   "cell_type": "code",
   "execution_count": 35,
   "id": "eef0bf50-fe17-47ee-a5ed-c1044a6d4c2e",
   "metadata": {},
   "outputs": [
    {
     "data": {
      "text/plain": [
       "3"
      ]
     },
     "execution_count": 35,
     "metadata": {},
     "output_type": "execute_result"
    }
   ],
   "source": [
    "10 // 3\n"
   ]
  },
  {
   "cell_type": "code",
   "execution_count": 36,
   "id": "477d6c23-79e6-4250-8fc0-25ed4f226d12",
   "metadata": {},
   "outputs": [
    {
     "data": {
      "text/plain": [
       "1"
      ]
     },
     "execution_count": 36,
     "metadata": {},
     "output_type": "execute_result"
    }
   ],
   "source": [
    "10 % 3"
   ]
  },
  {
   "cell_type": "markdown",
   "id": "481c11a8-3555-468a-b240-e9304a0dce65",
   "metadata": {},
   "source": [
    "#### 练习"
   ]
  },
  {
   "cell_type": "markdown",
   "id": "d9b8c20a-c0d2-4957-b776-368a0d56d7c7",
   "metadata": {},
   "source": [
    "请打印出以下变量的值：\n",
    "\n",
    "```\n",
    "n = 123\n",
    "f = 456.789\n",
    "s1 = 'Hello, world'\n",
    "s2 = 'Hello, \\'Adam\\''\n",
    "s3 = r'Hello, \"Bart\"'\n",
    "s4 = r'''Hello,\n",
    "Lisa!'''\n",
    "\n",
    "```"
   ]
  },
  {
   "cell_type": "code",
   "execution_count": 44,
   "id": "198971d8-144e-4b43-9eee-ef4ae77c5b8f",
   "metadata": {},
   "outputs": [
    {
     "name": "stdout",
     "output_type": "stream",
     "text": [
      "n =  123\n",
      "f =  456.789\n",
      "s1 = Hello, world\n",
      "s2 =  Hello, \\'Adam\\'\n",
      "s3 =  Hello, \"Bart\"\n",
      "s4 =  Hello\n",
      "Lisa\n"
     ]
    }
   ],
   "source": [
    "print('n = ', 123)\n",
    "print('f = ', 456.789)\n",
    "print('s1 =', 'Hello, world')\n",
    "print('s2 = ', 'Hello, \\\\\\'Adam\\\\\\'')\n",
    "print('s3 = ', r'Hello, \"Bart\"')\n",
    "print('s4 = ', r'''Hello\n",
    "Lisa''')"
   ]
  },
  {
   "cell_type": "markdown",
   "id": "00ea179f-975e-49d2-9025-e177b5623f38",
   "metadata": {},
   "source": [
    "**注意：** \n",
    "Python的整数没有大小限制，而某些语言的整数根据其存储长度是有大小限制的，例如Java对32位整数的范围限制在-2147483648-2147483647。\n",
    "\n",
    "Python的浮点数也没有大小限制，但是超出一定范围就直接表示为inf（无限大）。"
   ]
  },
  {
   "cell_type": "markdown",
   "id": "70148a44-11f3-4d8b-ae3b-bad92ea23be7",
   "metadata": {},
   "source": [
    "### 字符串与编码"
   ]
  },
  {
   "cell_type": "markdown",
   "id": "3c7220a9-b816-4298-aadf-3dce12742520",
   "metadata": {},
   "source": [
    "#### 编码介绍"
   ]
  },
  {
   "cell_type": "markdown",
   "id": "5a74cf45-c99f-4799-a505-ccbb5365582a",
   "metadata": {},
   "source": [
    "|  字符   | 字节数 | 用途  |\n",
    "| ----- | :------: | :-----:|\n",
    "| ASCII | 1 | 英文 |\n",
    "| Unicode | 2 | 全球 |\n",
    "| Unicode | 4 | 生僻字 |\n",
    "| UTF-8 | 可变长（1~6） | 节省空间，方便传输 |\n",
    "\n",
    "在计算机内存中，统一使用 Unicode 编码，当需要保存到硬盘或者需要传输的时候，就转换为 UTF-8 编码。"
   ]
  },
  {
   "cell_type": "markdown",
   "id": "68a630dd-8c4f-464d-9f2b-cb9f46ab97f7",
   "metadata": {},
   "source": [
    "用记事本编辑的时候，从文件读取的UTF-8字符被转换为Unicode字符到内存里，编辑完成后，保存的时候再把Unicode转换为UTF-8保存到文件：\n",
    "\n",
    " ![](https://img.arctee.cn/picgo/202201050408940.png)\n",
    " \n",
    " 浏览网页的时候，服务器会把动态生成的Unicode内容转换为UTF-8再传输到浏览器：\n",
    " \n",
    " ![](https://img.arctee.cn/picgo/202201050409185.png)\n",
    " \n",
    " 所以你看到很多网页的源码上会有类似<meta charset=\"UTF-8\" />的信息，表示该网页正是用的UTF-8编码。"
   ]
  },
  {
   "cell_type": "markdown",
   "id": "8adfca16-01ad-43cb-bf5c-f263b10bda5c",
   "metadata": {},
   "source": [
    "#### .py 源文件开头声明 UTF-8 编码 "
   ]
  },
  {
   "cell_type": "markdown",
   "id": "ac174122-ee43-48cd-8004-81c4d2a18cbc",
   "metadata": {},
   "source": [
    "由于Python源代码也是一个文本文件，所以，当你的源代码中包含中文的时候，在保存源代码时，就需要务必指定保存为UTF-8编码。\n",
    "\n",
    "通常在文件开头写上这两行：\n",
    "\n",
    "```\n",
    "#!/usr/bin/env python3\n",
    "告诉Linux/OS X系统，这是一个Python可执行程序，Windows系统会忽略这个注释；\n",
    "\n",
    "# -*- coding: utf-8 -*-\n",
    "告诉Python解释器，按照UTF-8编码读取源代码，否则，你在源代码中写的中文输出可能会有乱码。\n",
    "```\n",
    "\n",
    "申明了UTF-8编码并不意味着你的.py文件就是UTF-8编码的，必须并且要确保文本编辑器正在使用UTF-8 without BOM编码：\n",
    "\n",
    "![](https://img.arctee.cn/picgo/202201050418214.png)\n"
   ]
  },
  {
   "cell_type": "markdown",
   "id": "01f9a9fe-335c-4d1c-87c9-63bdededd18b",
   "metadata": {},
   "source": [
    "#### 格式化输出字符串"
   ]
  },
  {
   "cell_type": "code",
   "execution_count": 54,
   "id": "bdc37ac8-57dc-47b8-800f-5f7d635307df",
   "metadata": {},
   "outputs": [
    {
     "name": "stdout",
     "output_type": "stream",
     "text": [
      "Hello, world\n",
      "12 - 34.57\n"
     ]
    }
   ],
   "source": [
    "print('Hello, %s' % 'world')\n",
    "\n",
    "print('%2d - %.2f' % (12, 34.5656))"
   ]
  },
  {
   "cell_type": "code",
   "execution_count": 55,
   "id": "1d6ea8cb-0beb-44d7-8796-f4aff1a78b99",
   "metadata": {},
   "outputs": [
    {
     "name": "stdout",
     "output_type": "stream",
     "text": [
      "The area of a circle with radius 2.5 is 15.70\n"
     ]
    }
   ],
   "source": [
    "r = 2.5\n",
    "s = 3.14 * r *2\n",
    "\n",
    "print(f'The area of a circle with radius {r} is {s:.2f}')"
   ]
  },
  {
   "cell_type": "code",
   "execution_count": 59,
   "id": "936bc0aa-4026-4430-bfff-7b618e2f1b1a",
   "metadata": {},
   "outputs": [
    {
     "name": "stdout",
     "output_type": "stream",
     "text": [
      "百分点：18.1%\n"
     ]
    }
   ],
   "source": [
    "s1 = 72\n",
    "s2 = 85\n",
    "\n",
    "print('百分点：%.1f%%' % ((s2 / s1 - 1) * 100) )"
   ]
  },
  {
   "cell_type": "markdown",
   "id": "28c81d70-75aa-4db9-a899-ec481f2a3571",
   "metadata": {},
   "source": [
    "### 使用 list 和 tuple - 有序"
   ]
  },
  {
   "cell_type": "markdown",
   "id": "fe6e5d59-4fb8-40fc-b29e-3b43e150af4a",
   "metadata": {},
   "source": [
    "#### list - 列表"
   ]
  },
  {
   "cell_type": "code",
   "execution_count": 66,
   "id": "33244ffe-8c96-4fad-b30e-22b58ca6a6ad",
   "metadata": {},
   "outputs": [
    {
     "data": {
      "text/plain": [
       "['aa', 'bb', 'cc']"
      ]
     },
     "execution_count": 66,
     "metadata": {},
     "output_type": "execute_result"
    }
   ],
   "source": [
    "classmate = ['aa', 'bb', 'cc']\n",
    "\n",
    "classmate"
   ]
  },
  {
   "cell_type": "code",
   "execution_count": 67,
   "id": "d3687cc0-b6ac-4042-b29a-7a27f2da7f84",
   "metadata": {},
   "outputs": [
    {
     "data": {
      "text/plain": [
       "3"
      ]
     },
     "execution_count": 67,
     "metadata": {},
     "output_type": "execute_result"
    }
   ],
   "source": [
    "len(classmate)"
   ]
  },
  {
   "cell_type": "code",
   "execution_count": 68,
   "id": "95cbae93-2236-427a-980d-68eecfa18cf7",
   "metadata": {},
   "outputs": [
    {
     "data": {
      "text/plain": [
       "'aa'"
      ]
     },
     "execution_count": 68,
     "metadata": {},
     "output_type": "execute_result"
    }
   ],
   "source": [
    "classmate[0]"
   ]
  },
  {
   "cell_type": "code",
   "execution_count": 69,
   "id": "74756b4f-f99e-4f9a-8a00-c430530e64d7",
   "metadata": {},
   "outputs": [
    {
     "data": {
      "text/plain": [
       "'cc'"
      ]
     },
     "execution_count": 69,
     "metadata": {},
     "output_type": "execute_result"
    }
   ],
   "source": [
    "classmate[-1]"
   ]
  },
  {
   "cell_type": "code",
   "execution_count": 70,
   "id": "d6414426-0ab9-4f45-97dc-41ee9c31e58d",
   "metadata": {},
   "outputs": [
    {
     "data": {
      "text/plain": [
       "['aa', 'bb', 'cc', 'dd']"
      ]
     },
     "execution_count": 70,
     "metadata": {},
     "output_type": "execute_result"
    }
   ],
   "source": [
    "classmate.append('dd')\n",
    "\n",
    "classmate"
   ]
  },
  {
   "cell_type": "code",
   "execution_count": 72,
   "id": "d25da259-4b76-4628-9d76-b4a33de152d2",
   "metadata": {},
   "outputs": [
    {
     "data": {
      "text/plain": [
       "['11', 'aa', 'bb', 'cc', 'dd']"
      ]
     },
     "execution_count": 72,
     "metadata": {},
     "output_type": "execute_result"
    }
   ],
   "source": [
    "classmate.insert(0, '11')\n",
    "\n",
    "classmate"
   ]
  },
  {
   "cell_type": "code",
   "execution_count": 73,
   "id": "c9583d70-d41d-4fdf-8ce4-5395cf0a6dc2",
   "metadata": {},
   "outputs": [
    {
     "data": {
      "text/plain": [
       "'dd'"
      ]
     },
     "execution_count": 73,
     "metadata": {},
     "output_type": "execute_result"
    }
   ],
   "source": [
    "classmate.pop()"
   ]
  },
  {
   "cell_type": "code",
   "execution_count": 74,
   "id": "ff422efb-123c-44e2-8fd7-7ca8a77f3bea",
   "metadata": {},
   "outputs": [
    {
     "data": {
      "text/plain": [
       "'11'"
      ]
     },
     "execution_count": 74,
     "metadata": {},
     "output_type": "execute_result"
    }
   ],
   "source": [
    "classmate.pop(0)"
   ]
  },
  {
   "cell_type": "code",
   "execution_count": 75,
   "id": "824afaed-7948-4c19-b08a-d01f15d1d087",
   "metadata": {},
   "outputs": [
    {
     "data": {
      "text/plain": [
       "['aa', 'bb', 'cc']"
      ]
     },
     "execution_count": 75,
     "metadata": {},
     "output_type": "execute_result"
    }
   ],
   "source": [
    "classmate"
   ]
  },
  {
   "cell_type": "code",
   "execution_count": 76,
   "id": "1a05042b-85c1-4283-bc57-ecde23b386e9",
   "metadata": {},
   "outputs": [
    {
     "data": {
      "text/plain": [
       "['aa', 'ff', 'cc']"
      ]
     },
     "execution_count": 76,
     "metadata": {},
     "output_type": "execute_result"
    }
   ],
   "source": [
    "classmate[1] = 'ff'\n",
    "\n",
    "classmate"
   ]
  },
  {
   "cell_type": "code",
   "execution_count": 79,
   "id": "235c3388-74cc-4028-aed6-1e5ad38fe020",
   "metadata": {},
   "outputs": [
    {
     "name": "stdout",
     "output_type": "stream",
     "text": [
      "4\n"
     ]
    },
    {
     "data": {
      "text/plain": [
       "'php'"
      ]
     },
     "execution_count": 79,
     "metadata": {},
     "output_type": "execute_result"
    }
   ],
   "source": [
    "s = ['python', 'java', ['asp', 'php'], 'c']\n",
    "\n",
    "print(len(s))\n",
    "\n",
    "s[2][1]"
   ]
  },
  {
   "cell_type": "markdown",
   "id": "4ae27241-19d3-4c5f-85e3-d411b077a1e0",
   "metadata": {
    "tags": []
   },
   "source": [
    "#### tuple - 元组\n",
    "\n",
    "tuple 和 list 非常类似，但是 tuple 一旦初始化就不能修改\n",
    "\n",
    "_增删改_ 都失效，只剩下 _查_"
   ]
  },
  {
   "cell_type": "markdown",
   "id": "d5e86161-8ca7-4d4c-b2a6-0f5922d680c4",
   "metadata": {},
   "source": [
    "不可变的 tuple 有什么意义？\n",
    "\n",
    "因为 tuple 不可变，所以代码更安全。\n",
    "\n",
    "如果可能，能用 tuple 代替 list 就尽量用 tuple。"
   ]
  },
  {
   "cell_type": "code",
   "execution_count": 80,
   "id": "534b7b18-1137-4c17-9b0b-0075edc694dc",
   "metadata": {},
   "outputs": [
    {
     "data": {
      "text/plain": [
       "('aa', 'bb', 'cc')"
      ]
     },
     "execution_count": 80,
     "metadata": {},
     "output_type": "execute_result"
    }
   ],
   "source": [
    "classmate2 = ('aa', 'bb', 'cc')\n",
    "\n",
    "classmate2"
   ]
  },
  {
   "cell_type": "code",
   "execution_count": 81,
   "id": "6796dcc4-1413-4e18-b2fc-8953c273eb86",
   "metadata": {},
   "outputs": [
    {
     "data": {
      "text/plain": [
       "'bb'"
      ]
     },
     "execution_count": 81,
     "metadata": {},
     "output_type": "execute_result"
    }
   ],
   "source": [
    "classmate2[1]"
   ]
  },
  {
   "cell_type": "markdown",
   "id": "c4ec0571-39db-4199-abc3-0a7dfaa78761",
   "metadata": {},
   "source": [
    "**注意：**只有 1 个元素的 tuple 定义时必须加一个逗号,，来消除歧义："
   ]
  },
  {
   "cell_type": "code",
   "execution_count": 82,
   "id": "a92d02bb-3a65-47b1-95ee-9742a93add91",
   "metadata": {},
   "outputs": [
    {
     "data": {
      "text/plain": [
       "(1,)"
      ]
     },
     "execution_count": 82,
     "metadata": {},
     "output_type": "execute_result"
    }
   ],
   "source": [
    "t = (1, )\n",
    "\n",
    "t"
   ]
  },
  {
   "cell_type": "markdown",
   "id": "1df50db8-897e-47a3-ad56-cefc11ce42bb",
   "metadata": {},
   "source": [
    "### 条件判断 "
   ]
  },
  {
   "cell_type": "code",
   "execution_count": 87,
   "id": "804252b9-2339-4537-b7e7-277958707353",
   "metadata": {},
   "outputs": [
    {
     "name": "stdout",
     "output_type": "stream",
     "text": [
      "kid\n"
     ]
    }
   ],
   "source": [
    "age = 2\n",
    "\n",
    "if age >= 18:\n",
    "    print('your age is', age)\n",
    "    print('adult')\n",
    "elif age >= 6:\n",
    "    print('tennager')\n",
    "else:\n",
    "    print('kid')"
   ]
  },
  {
   "cell_type": "markdown",
   "id": "f720d36d-8393-49d3-b576-3860d924d931",
   "metadata": {},
   "source": [
    "### 循环"
   ]
  },
  {
   "cell_type": "code",
   "execution_count": 100,
   "id": "f6bb7c12-b84e-47f3-bde1-25e08ca0271f",
   "metadata": {},
   "outputs": [
    {
     "name": "stdout",
     "output_type": "stream",
     "text": [
      "Hello, aa!\n",
      "Hello, bb!\n",
      "Hello, cc!\n"
     ]
    }
   ],
   "source": [
    "names = ['aa', 'bb', 'cc']\n",
    "\n",
    "for name in names:\n",
    "    print('Hello, %s!' % name)"
   ]
  },
  {
   "cell_type": "code",
   "execution_count": 90,
   "id": "b740491f-ea49-4863-bbd1-dd96cb6229b8",
   "metadata": {},
   "outputs": [
    {
     "data": {
      "text/plain": [
       "range(0, 5)"
      ]
     },
     "execution_count": 90,
     "metadata": {},
     "output_type": "execute_result"
    }
   ],
   "source": [
    "range(5)"
   ]
  },
  {
   "cell_type": "code",
   "execution_count": 91,
   "id": "1d9f7350-9c9e-44b1-b829-d9f75de04ccc",
   "metadata": {},
   "outputs": [
    {
     "data": {
      "text/plain": [
       "[0, 1, 2, 3, 4]"
      ]
     },
     "execution_count": 91,
     "metadata": {},
     "output_type": "execute_result"
    }
   ],
   "source": [
    "list(range(5))"
   ]
  },
  {
   "cell_type": "code",
   "execution_count": 96,
   "id": "b7756a28-8a04-4582-b27e-210f01bd7f02",
   "metadata": {},
   "outputs": [
    {
     "name": "stdout",
     "output_type": "stream",
     "text": [
      "5050\n"
     ]
    }
   ],
   "source": [
    "sum = 0\n",
    "for n in range(101):\n",
    "    sum +=n\n",
    "\n",
    "print(sum)"
   ]
  },
  {
   "cell_type": "code",
   "execution_count": 98,
   "id": "deee2a38-dfb8-4b05-ac9c-4932f8c78959",
   "metadata": {},
   "outputs": [
    {
     "name": "stdout",
     "output_type": "stream",
     "text": [
      "2500\n"
     ]
    }
   ],
   "source": [
    "sum = 0\n",
    "n = 99\n",
    "\n",
    "while n > 0:\n",
    "    sum += n\n",
    "    n -= 2\n",
    "\n",
    "print(sum)"
   ]
  },
  {
   "cell_type": "markdown",
   "id": "db5b2903-b73a-4770-85da-d8f3b4a5617c",
   "metadata": {},
   "source": [
    "### 使用 dict 和 set "
   ]
  },
  {
   "cell_type": "markdown",
   "id": "29e6e71f-053f-4b5b-8477-b08ba536f7bf",
   "metadata": {},
   "source": [
    "#### dict"
   ]
  },
  {
   "cell_type": "markdown",
   "id": "d704f663-afd5-4867-92d3-19e13ea42444",
   "metadata": {},
   "source": [
    "dict 全称 dictionary，在其他语言中也称为 map，使用「键-值」（key-value）存储，具有极快的查找速度。(哈希算法)"
   ]
  },
  {
   "cell_type": "code",
   "execution_count": 103,
   "id": "8080682d-d2e8-4041-9b01-5f0470596009",
   "metadata": {},
   "outputs": [
    {
     "data": {
      "text/plain": [
       "89"
      ]
     },
     "execution_count": 103,
     "metadata": {},
     "output_type": "execute_result"
    }
   ],
   "source": [
    "d = {'aa': 89, 'bb': 56, 'cc': 99}\n",
    "\n",
    "d['aa']"
   ]
  },
  {
   "cell_type": "code",
   "execution_count": 104,
   "id": "d1d6ad36-7a9d-4241-b05e-267d154b110b",
   "metadata": {},
   "outputs": [
    {
     "data": {
      "text/plain": [
       "{'aa': 89, 'bb': 56, 'cc': 99, 'dd': 90}"
      ]
     },
     "execution_count": 104,
     "metadata": {},
     "output_type": "execute_result"
    }
   ],
   "source": [
    "d['dd'] = 90\n",
    "\n",
    "d"
   ]
  },
  {
   "cell_type": "code",
   "execution_count": 105,
   "id": "92eee6d5-2528-40ff-b728-2516375bdde0",
   "metadata": {},
   "outputs": [
    {
     "data": {
      "text/plain": [
       "False"
      ]
     },
     "execution_count": 105,
     "metadata": {},
     "output_type": "execute_result"
    }
   ],
   "source": [
    "'vv' in d"
   ]
  },
  {
   "cell_type": "code",
   "execution_count": 106,
   "id": "ee1b96e2-ac04-44bd-9796-d8f531041724",
   "metadata": {},
   "outputs": [
    {
     "data": {
      "text/plain": [
       "89"
      ]
     },
     "execution_count": 106,
     "metadata": {},
     "output_type": "execute_result"
    }
   ],
   "source": [
    "d.get('aa')"
   ]
  },
  {
   "cell_type": "code",
   "execution_count": 109,
   "id": "1d447e84-486b-4bf3-bb97-707cf9f7b2a1",
   "metadata": {},
   "outputs": [
    {
     "name": "stdout",
     "output_type": "stream",
     "text": [
      "None\n"
     ]
    }
   ],
   "source": [
    "print(d.get('ff'))"
   ]
  },
  {
   "cell_type": "code",
   "execution_count": 110,
   "id": "8c1ea390-baef-49f0-a1d4-d324ca3b4aeb",
   "metadata": {},
   "outputs": [
    {
     "data": {
      "text/plain": [
       "-1"
      ]
     },
     "execution_count": 110,
     "metadata": {},
     "output_type": "execute_result"
    }
   ],
   "source": [
    "d.get('ff', -1)  # 不存在 key 时，指定返回值。否则返回 None"
   ]
  },
  {
   "cell_type": "code",
   "execution_count": 119,
   "id": "e386aa10-ee3e-4c3c-9af2-856da05fdf37",
   "metadata": {},
   "outputs": [
    {
     "data": {
      "text/plain": [
       "56"
      ]
     },
     "execution_count": 119,
     "metadata": {},
     "output_type": "execute_result"
    }
   ],
   "source": [
    "d.pop('bb')"
   ]
  },
  {
   "cell_type": "code",
   "execution_count": 120,
   "id": "a27d3254-2139-4ef1-9f0e-9fc1fa759be4",
   "metadata": {},
   "outputs": [
    {
     "data": {
      "text/plain": [
       "{'cc': 99, 'dd': 90}"
      ]
     },
     "execution_count": 120,
     "metadata": {},
     "output_type": "execute_result"
    }
   ],
   "source": [
    "d"
   ]
  },
  {
   "cell_type": "markdown",
   "id": "2ff50e42-9afe-424e-93b3-3eaf10b38c66",
   "metadata": {},
   "source": [
    "#### set"
   ]
  },
  {
   "cell_type": "code",
   "execution_count": 121,
   "id": "efc427f5-075a-4e8e-8f49-fd580ecab480",
   "metadata": {},
   "outputs": [
    {
     "data": {
      "text/plain": [
       "{1, 2, 3}"
      ]
     },
     "execution_count": 121,
     "metadata": {},
     "output_type": "execute_result"
    }
   ],
   "source": [
    "# 要创建一个 set，需要提供一个 list 作为输入集合：\n",
    "\n",
    "s = set([1, 2, 3])\n",
    "\n",
    "s"
   ]
  },
  {
   "cell_type": "code",
   "execution_count": 123,
   "id": "7f3f5e85-5bb3-4519-af11-7ed458b36ca3",
   "metadata": {},
   "outputs": [
    {
     "data": {
      "text/plain": [
       "{1, 2, 3}"
      ]
     },
     "execution_count": 123,
     "metadata": {},
     "output_type": "execute_result"
    }
   ],
   "source": [
    "s = set([1, 2, 3, 3])\n",
    "\n",
    "s"
   ]
  },
  {
   "cell_type": "code",
   "execution_count": 125,
   "id": "67a0061b-c979-4856-83f7-b5b12dbe2e57",
   "metadata": {},
   "outputs": [
    {
     "data": {
      "text/plain": [
       "{1, 2, 3, 4}"
      ]
     },
     "execution_count": 125,
     "metadata": {},
     "output_type": "execute_result"
    }
   ],
   "source": [
    "s.add(4)\n",
    "\n",
    "s"
   ]
  },
  {
   "cell_type": "code",
   "execution_count": 126,
   "id": "7ae99b95-2942-4bce-995e-795707720e7d",
   "metadata": {},
   "outputs": [
    {
     "data": {
      "text/plain": [
       "{1, 2, 3, 4}"
      ]
     },
     "execution_count": 126,
     "metadata": {},
     "output_type": "execute_result"
    }
   ],
   "source": [
    "s.add(4)\n",
    "\n",
    "s"
   ]
  },
  {
   "cell_type": "code",
   "execution_count": 129,
   "id": "96cd6df5-7947-40fe-bd82-69b8de18307a",
   "metadata": {},
   "outputs": [
    {
     "data": {
      "text/plain": [
       "{3, 4}"
      ]
     },
     "execution_count": 129,
     "metadata": {},
     "output_type": "execute_result"
    }
   ],
   "source": [
    "s.remove(1)\n",
    "\n",
    "s"
   ]
  },
  {
   "cell_type": "code",
   "execution_count": 130,
   "id": "79a3df9f-0ab5-41c1-8517-ec11c456fe12",
   "metadata": {},
   "outputs": [
    {
     "data": {
      "text/plain": [
       "{2, 3}"
      ]
     },
     "execution_count": 130,
     "metadata": {},
     "output_type": "execute_result"
    }
   ],
   "source": [
    "s1 = set([1, 2, 3])\n",
    "s2 = set([2, 3, 4])\n",
    "\n",
    "s1 & s2"
   ]
  },
  {
   "cell_type": "code",
   "execution_count": 131,
   "id": "04a569df-61d6-4557-9517-a5123f4c13ec",
   "metadata": {},
   "outputs": [
    {
     "data": {
      "text/plain": [
       "{1, 2, 3, 4}"
      ]
     },
     "execution_count": 131,
     "metadata": {},
     "output_type": "execute_result"
    }
   ],
   "source": [
    "s1 | s2"
   ]
  },
  {
   "cell_type": "markdown",
   "id": "55917de0-bccc-4392-87ed-78a6c85e94f8",
   "metadata": {},
   "source": [
    "#### 不可变对象\n",
    "\n",
    "对于不变对象来说，调用对象自身的任意方法，也不会改变该对象自身的内容。相反，这些方法会创建新的对象并返回，这样，就保证了不可变对象本身永远是不可变的。"
   ]
  },
  {
   "cell_type": "code",
   "execution_count": 132,
   "id": "0fc070eb-54d1-4930-984d-854f09309f0b",
   "metadata": {},
   "outputs": [
    {
     "data": {
      "text/plain": [
       "['a', 'b', 'c']"
      ]
     },
     "execution_count": 132,
     "metadata": {},
     "output_type": "execute_result"
    }
   ],
   "source": [
    "# 可变对象 list\n",
    "\n",
    "a = ['c', 'a', 'b']\n",
    "a.sort()\n",
    "\n",
    "a"
   ]
  },
  {
   "cell_type": "code",
   "execution_count": 133,
   "id": "745dd7c8-3d34-4561-b91d-3fb0ebad9432",
   "metadata": {},
   "outputs": [
    {
     "data": {
      "text/plain": [
       "'aBC'"
      ]
     },
     "execution_count": 133,
     "metadata": {},
     "output_type": "execute_result"
    }
   ],
   "source": [
    "# 不可变对象 str\n",
    "\n",
    "s = 'aBC'\n",
    "s.replace('a', 'A')\n",
    "\n",
    "s"
   ]
  },
  {
   "cell_type": "code",
   "execution_count": 134,
   "id": "202686bc-6211-409d-a0ae-76d2788076bd",
   "metadata": {},
   "outputs": [
    {
     "data": {
      "text/plain": [
       "'ABC'"
      ]
     },
     "execution_count": 134,
     "metadata": {},
     "output_type": "execute_result"
    }
   ],
   "source": [
    "s2 = s.replace('a', 'A')\n",
    "\n",
    "s2"
   ]
  },
  {
   "cell_type": "markdown",
   "id": "38b849ff-cd79-4e9b-a37f-2195d7bebc65",
   "metadata": {},
   "source": [
    "## 三、函数"
   ]
  },
  {
   "cell_type": "markdown",
   "id": "2594b44a-c35a-44c2-8cc3-80e5fee9e487",
   "metadata": {},
   "source": [
    "### 调用函数"
   ]
  },
  {
   "cell_type": "code",
   "execution_count": 137,
   "id": "64c3d060-5d7f-4f55-a883-f1af137bdc3e",
   "metadata": {},
   "outputs": [
    {
     "data": {
      "text/plain": [
       "1"
      ]
     },
     "execution_count": 137,
     "metadata": {},
     "output_type": "execute_result"
    }
   ],
   "source": [
    "# 函数名其实就是指向一个函数对象的引用，完全可以把函数名赋给一个变量，相当于给这个函数起了一个“别名”：\n",
    "\n",
    "a = abs\n",
    "\n",
    "a(-1)"
   ]
  },
  {
   "cell_type": "markdown",
   "id": "28e03a8d-d6d1-487d-82d1-0be1002430f4",
   "metadata": {},
   "source": [
    "### 定义函数"
   ]
  },
  {
   "cell_type": "code",
   "execution_count": 138,
   "id": "cf80f7f9-e2ba-43ab-8560-2bb191cd3a77",
   "metadata": {},
   "outputs": [
    {
     "name": "stdout",
     "output_type": "stream",
     "text": [
      "3\n"
     ]
    }
   ],
   "source": [
    "def my_abs(x):\n",
    "    if x >= 0:\n",
    "        return x\n",
    "    else:\n",
    "        return -x\n",
    "\n",
    "print(my_abs(-3))"
   ]
  },
  {
   "cell_type": "code",
   "execution_count": 139,
   "id": "df4ec2a5-a10b-47f1-af91-2e40d5fa0b3f",
   "metadata": {},
   "outputs": [],
   "source": [
    "def nop():\n",
    "    pass"
   ]
  },
  {
   "cell_type": "markdown",
   "id": "2ba6fed5-c7bb-4dfa-ac7b-f10f14e8b861",
   "metadata": {},
   "source": [
    "pass 语句什么都不做，那有什么用？实际上 pass 可以用来作为占位符，比如现在还没想好怎么写函数的代码，就可以先放一个 pass，让代码能运行起来。"
   ]
  },
  {
   "cell_type": "markdown",
   "id": "6f638c31-1c47-4b05-bffb-8567a20adaf8",
   "metadata": {},
   "source": [
    "#### 参数检查"
   ]
  },
  {
   "cell_type": "code",
   "execution_count": 140,
   "id": "eecd1d7f-6502-48df-ab72-17c931f46bbe",
   "metadata": {},
   "outputs": [
    {
     "ename": "TypeError",
     "evalue": "my_abs() takes 1 positional argument but 2 were given",
     "output_type": "error",
     "traceback": [
      "\u001b[1;31m---------------------------------------------------------------------------\u001b[0m",
      "\u001b[1;31mTypeError\u001b[0m                                 Traceback (most recent call last)",
      "\u001b[1;32m~\\AppData\\Local\\Temp/ipykernel_69184/825369421.py\u001b[0m in \u001b[0;36m<module>\u001b[1;34m\u001b[0m\n\u001b[1;32m----> 1\u001b[1;33m \u001b[0mmy_abs\u001b[0m\u001b[1;33m(\u001b[0m\u001b[1;36m1\u001b[0m\u001b[1;33m,\u001b[0m \u001b[1;33m-\u001b[0m\u001b[1;36m2\u001b[0m\u001b[1;33m)\u001b[0m\u001b[1;33m\u001b[0m\u001b[1;33m\u001b[0m\u001b[0m\n\u001b[0m",
      "\u001b[1;31mTypeError\u001b[0m: my_abs() takes 1 positional argument but 2 were given"
     ]
    }
   ],
   "source": [
    "my_abs(1, -2)"
   ]
  },
  {
   "cell_type": "markdown",
   "id": "1faae9b4-c7a3-4444-8309-e95a85a87706",
   "metadata": {},
   "source": [
    "以上参数数量不对，python 解释器会自动检查出来 TypeError 错误。但是如果参数类型不对，解释器就无法检查出了："
   ]
  },
  {
   "cell_type": "code",
   "execution_count": 142,
   "id": "18f29522-c61a-43fd-bd5d-5945d3438ae6",
   "metadata": {},
   "outputs": [
    {
     "ename": "TypeError",
     "evalue": "'>=' not supported between instances of 'str' and 'int'",
     "output_type": "error",
     "traceback": [
      "\u001b[1;31m---------------------------------------------------------------------------\u001b[0m",
      "\u001b[1;31mTypeError\u001b[0m                                 Traceback (most recent call last)",
      "\u001b[1;32m~\\AppData\\Local\\Temp/ipykernel_69184/888016181.py\u001b[0m in \u001b[0;36m<module>\u001b[1;34m\u001b[0m\n\u001b[1;32m----> 1\u001b[1;33m \u001b[0mmy_abs\u001b[0m\u001b[1;33m(\u001b[0m\u001b[1;34m'as'\u001b[0m\u001b[1;33m)\u001b[0m\u001b[1;33m\u001b[0m\u001b[1;33m\u001b[0m\u001b[0m\n\u001b[0m",
      "\u001b[1;32m~\\AppData\\Local\\Temp/ipykernel_69184/2311290822.py\u001b[0m in \u001b[0;36mmy_abs\u001b[1;34m(x)\u001b[0m\n\u001b[0;32m      1\u001b[0m \u001b[1;32mdef\u001b[0m \u001b[0mmy_abs\u001b[0m\u001b[1;33m(\u001b[0m\u001b[0mx\u001b[0m\u001b[1;33m)\u001b[0m\u001b[1;33m:\u001b[0m\u001b[1;33m\u001b[0m\u001b[1;33m\u001b[0m\u001b[0m\n\u001b[1;32m----> 2\u001b[1;33m     \u001b[1;32mif\u001b[0m \u001b[0mx\u001b[0m \u001b[1;33m>=\u001b[0m \u001b[1;36m0\u001b[0m\u001b[1;33m:\u001b[0m\u001b[1;33m\u001b[0m\u001b[1;33m\u001b[0m\u001b[0m\n\u001b[0m\u001b[0;32m      3\u001b[0m         \u001b[1;32mreturn\u001b[0m \u001b[0mx\u001b[0m\u001b[1;33m\u001b[0m\u001b[1;33m\u001b[0m\u001b[0m\n\u001b[0;32m      4\u001b[0m     \u001b[1;32melse\u001b[0m\u001b[1;33m:\u001b[0m\u001b[1;33m\u001b[0m\u001b[1;33m\u001b[0m\u001b[0m\n\u001b[0;32m      5\u001b[0m         \u001b[1;32mreturn\u001b[0m \u001b[1;33m-\u001b[0m\u001b[0mx\u001b[0m\u001b[1;33m\u001b[0m\u001b[1;33m\u001b[0m\u001b[0m\n",
      "\u001b[1;31mTypeError\u001b[0m: '>=' not supported between instances of 'str' and 'int'"
     ]
    }
   ],
   "source": [
    "my_abs('as')"
   ]
  },
  {
   "cell_type": "code",
   "execution_count": 143,
   "id": "120ce420-37d4-4b6e-9e64-c43a59db22e6",
   "metadata": {},
   "outputs": [
    {
     "ename": "TypeError",
     "evalue": "bad operand type for abs(): 'str'",
     "output_type": "error",
     "traceback": [
      "\u001b[1;31m---------------------------------------------------------------------------\u001b[0m",
      "\u001b[1;31mTypeError\u001b[0m                                 Traceback (most recent call last)",
      "\u001b[1;32m~\\AppData\\Local\\Temp/ipykernel_69184/3829370880.py\u001b[0m in \u001b[0;36m<module>\u001b[1;34m\u001b[0m\n\u001b[1;32m----> 1\u001b[1;33m \u001b[0mabs\u001b[0m\u001b[1;33m(\u001b[0m\u001b[1;34m'ab'\u001b[0m\u001b[1;33m)\u001b[0m\u001b[1;33m\u001b[0m\u001b[1;33m\u001b[0m\u001b[0m\n\u001b[0m",
      "\u001b[1;31mTypeError\u001b[0m: bad operand type for abs(): 'str'"
     ]
    }
   ],
   "source": [
    "abs('ab')"
   ]
  },
  {
   "cell_type": "markdown",
   "id": "633c50af-ac53-4729-8a29-baa09acdb2f7",
   "metadata": {},
   "source": [
    "当传入了不恰当的参数时，内置函数 abs 会检查出参数错误，而我们定义的my_abs 没有参数检查，会导致 if 语句出错，出错信息和 abs 不一样。所以，这个函数定义不够完善。"
   ]
  },
  {
   "cell_type": "code",
   "execution_count": 147,
   "id": "655e5734-c6c0-499a-adfe-ad01b88d3a14",
   "metadata": {},
   "outputs": [],
   "source": [
    "def my_abs2(x):\n",
    "    if not isinstance(x, (int, float)):\n",
    "        raise TypeError('bad operand type')  # 抛出异常\n",
    "    if x >= 0:\n",
    "        return x\n",
    "    else:\n",
    "        return -x"
   ]
  },
  {
   "cell_type": "code",
   "execution_count": 146,
   "id": "db361790-2824-4e51-adf3-c40c9bbd4fbd",
   "metadata": {},
   "outputs": [
    {
     "ename": "TypeError",
     "evalue": "bad operand type",
     "output_type": "error",
     "traceback": [
      "\u001b[1;31m---------------------------------------------------------------------------\u001b[0m",
      "\u001b[1;31mTypeError\u001b[0m                                 Traceback (most recent call last)",
      "\u001b[1;32m~\\AppData\\Local\\Temp/ipykernel_69184/3184412580.py\u001b[0m in \u001b[0;36m<module>\u001b[1;34m\u001b[0m\n\u001b[1;32m----> 1\u001b[1;33m \u001b[0mmy_abs2\u001b[0m\u001b[1;33m(\u001b[0m\u001b[1;34m'as'\u001b[0m\u001b[1;33m)\u001b[0m\u001b[1;33m\u001b[0m\u001b[1;33m\u001b[0m\u001b[0m\n\u001b[0m",
      "\u001b[1;32m~\\AppData\\Local\\Temp/ipykernel_69184/2595695054.py\u001b[0m in \u001b[0;36mmy_abs2\u001b[1;34m(x)\u001b[0m\n\u001b[0;32m      1\u001b[0m \u001b[1;32mdef\u001b[0m \u001b[0mmy_abs2\u001b[0m\u001b[1;33m(\u001b[0m\u001b[0mx\u001b[0m\u001b[1;33m)\u001b[0m\u001b[1;33m:\u001b[0m\u001b[1;33m\u001b[0m\u001b[1;33m\u001b[0m\u001b[0m\n\u001b[0;32m      2\u001b[0m     \u001b[1;32mif\u001b[0m \u001b[1;32mnot\u001b[0m \u001b[0misinstance\u001b[0m\u001b[1;33m(\u001b[0m\u001b[0mx\u001b[0m\u001b[1;33m,\u001b[0m \u001b[1;33m(\u001b[0m\u001b[0mint\u001b[0m\u001b[1;33m,\u001b[0m \u001b[0mfloat\u001b[0m\u001b[1;33m)\u001b[0m\u001b[1;33m)\u001b[0m\u001b[1;33m:\u001b[0m\u001b[1;33m\u001b[0m\u001b[1;33m\u001b[0m\u001b[0m\n\u001b[1;32m----> 3\u001b[1;33m         \u001b[1;32mraise\u001b[0m \u001b[0mTypeError\u001b[0m\u001b[1;33m(\u001b[0m\u001b[1;34m'bad operand type'\u001b[0m\u001b[1;33m)\u001b[0m\u001b[1;33m\u001b[0m\u001b[1;33m\u001b[0m\u001b[0m\n\u001b[0m\u001b[0;32m      4\u001b[0m     \u001b[1;32mif\u001b[0m \u001b[0mx\u001b[0m \u001b[1;33m>=\u001b[0m \u001b[1;36m0\u001b[0m\u001b[1;33m:\u001b[0m\u001b[1;33m\u001b[0m\u001b[1;33m\u001b[0m\u001b[0m\n\u001b[0;32m      5\u001b[0m         \u001b[1;32mreturn\u001b[0m \u001b[0mx\u001b[0m\u001b[1;33m\u001b[0m\u001b[1;33m\u001b[0m\u001b[0m\n",
      "\u001b[1;31mTypeError\u001b[0m: bad operand type"
     ]
    }
   ],
   "source": [
    "my_abs2('as')"
   ]
  },
  {
   "cell_type": "code",
   "execution_count": 152,
   "id": "f7537c22-6147-4fec-9c71-8fb42430eaa6",
   "metadata": {},
   "outputs": [],
   "source": [
    "import math \n",
    "\n",
    "def move(x, y, step, angle=0):\n",
    "    nx = x + step * math.cos(angle)\n",
    "    ny = x + step * math.sin(angle)\n",
    "    return nx, ny"
   ]
  },
  {
   "cell_type": "code",
   "execution_count": 154,
   "id": "c356416e-cb7e-4c4e-8b99-5f3323778271",
   "metadata": {},
   "outputs": [
    {
     "name": "stdout",
     "output_type": "stream",
     "text": [
      "14.330127018922195 12.5\n"
     ]
    }
   ],
   "source": [
    "x, y = move(10, 10, 5, math.pi / 6)\n",
    "\n",
    "print(x, y)"
   ]
  },
  {
   "cell_type": "code",
   "execution_count": 155,
   "id": "9a3305f6-9a2b-451c-bd88-6d954b63f704",
   "metadata": {},
   "outputs": [
    {
     "name": "stdout",
     "output_type": "stream",
     "text": [
      "(14.330127018922195, 12.5)\n"
     ]
    }
   ],
   "source": [
    "r = move(10, 10, 5 , math.pi / 6)\n",
    "\n",
    "print(r)"
   ]
  },
  {
   "cell_type": "markdown",
   "id": "8d807679-e0a7-4f02-814f-b138ac23145e",
   "metadata": {},
   "source": [
    "Python 的函数返回多值其实就是返回一个 tuple 在语法上，返回一个 tuple 可以省略括号，"
   ]
  },
  {
   "cell_type": "code",
   "execution_count": null,
   "id": "f8ef56f3-73ac-47f3-8a04-775b72e4da0c",
   "metadata": {},
   "outputs": [],
   "source": [
    "import math\n",
    "\n",
    "def quadratic(a, b, c):\n",
    "    # x = math.pow((b * b - 4 * a *c), 0.5)\n",
    "    x = math.sqrt(b * b - 4 * a * c)\n",
    "    x1 = (-b + x) / 2 / a\n",
    "    x2 = (-b - x) /2/ a\n",
    "    return x1, x2"
   ]
  },
  {
   "cell_type": "markdown",
   "id": "18ffca47-180e-4b86-b0f0-8dafa688bf84",
   "metadata": {},
   "source": [
    "### 函数的参数"
   ]
  },
  {
   "cell_type": "markdown",
   "id": "7aa624f6-dabd-400a-8093-1af6c0bb7a7a",
   "metadata": {},
   "source": [
    "#### 默认参数"
   ]
  },
  {
   "cell_type": "code",
   "execution_count": 157,
   "id": "3f040faf-79bd-49ed-a8f7-5e1d0d629ca3",
   "metadata": {},
   "outputs": [],
   "source": [
    "def enroll(name, gender, age=6, city='hz'):\n",
    "    print('name:', name)\n",
    "    print('gender', gender)\n",
    "    print('age', age)\n",
    "    print('city', city)"
   ]
  },
  {
   "cell_type": "code",
   "execution_count": 158,
   "id": "a4539721-3963-44c5-80f6-b958f0d3eb50",
   "metadata": {},
   "outputs": [
    {
     "name": "stdout",
     "output_type": "stream",
     "text": [
      "name: aa\n",
      "gender F\n",
      "age 6\n",
      "city hz\n"
     ]
    }
   ],
   "source": [
    "enroll('aa', 'F')"
   ]
  },
  {
   "cell_type": "markdown",
   "id": "f0749268-c801-4ff7-a573-2ba7e101248f",
   "metadata": {},
   "source": [
    "#### 可变参数 "
   ]
  },
  {
   "cell_type": "markdown",
   "id": "0b52be0b-d2c3-4f3c-8c78-cf38bb1cc753",
   "metadata": {},
   "source": [
    "可变参数允许你传入 0 个或任意个参数，这些可变参数在函数调用时自动组装为一个 tuple。"
   ]
  },
  {
   "cell_type": "code",
   "execution_count": 159,
   "id": "9a1553c6-b197-4857-a4a4-23a70fd75d4f",
   "metadata": {},
   "outputs": [],
   "source": [
    "def calc(*numbers):\n",
    "    sum = 0\n",
    "    for n in numbers:\n",
    "        sum += n\n",
    "    return sum"
   ]
  },
  {
   "cell_type": "code",
   "execution_count": 160,
   "id": "0c1acc72-532b-46b8-8e36-989e8f6e915d",
   "metadata": {},
   "outputs": [
    {
     "data": {
      "text/plain": [
       "7"
      ]
     },
     "execution_count": 160,
     "metadata": {},
     "output_type": "execute_result"
    }
   ],
   "source": [
    "calc(1, 2, 4)"
   ]
  },
  {
   "cell_type": "code",
   "execution_count": 162,
   "id": "3b357be6-fe78-49a7-b59f-7eae521d6455",
   "metadata": {},
   "outputs": [
    {
     "data": {
      "text/plain": [
       "4"
      ]
     },
     "execution_count": 162,
     "metadata": {},
     "output_type": "execute_result"
    }
   ],
   "source": [
    "calc(4)"
   ]
  },
  {
   "cell_type": "markdown",
   "id": "a208bbcc-6328-4315-9c99-1c7584384a52",
   "metadata": {},
   "source": [
    "Python 允许你在 list 或 tuple 前面加一个 *号，把 list 或 tuple 的元素变成可变参数传进去"
   ]
  },
  {
   "cell_type": "code",
   "execution_count": 163,
   "id": "5816c955-5fcc-4dfe-9a22-62359f3f6b72",
   "metadata": {},
   "outputs": [
    {
     "data": {
      "text/plain": [
       "8"
      ]
     },
     "execution_count": 163,
     "metadata": {},
     "output_type": "execute_result"
    }
   ],
   "source": [
    "nums = [1, 3, 4]\n",
    "\n",
    "calc(*nums)"
   ]
  },
  {
   "cell_type": "markdown",
   "id": "5eb5c325-eeac-422f-85fd-557f37e42c6e",
   "metadata": {},
   "source": [
    "*nums 表示把 nums 这个 list 的所有元素作为可变参数传进去。这种写法相当有用，而且很常见。"
   ]
  },
  {
   "cell_type": "markdown",
   "id": "34d35dc6-06c5-4c2c-8685-d4036614d4de",
   "metadata": {},
   "source": [
    "#### 关键字参数"
   ]
  },
  {
   "cell_type": "markdown",
   "id": "0739b093-c6b3-4623-8557-80414a19a1cb",
   "metadata": {},
   "source": [
    "关键字参数允许你传入 0 个或任意个含参数名的参数，这些关键字参数在函数内部自动组装为一个 dict。"
   ]
  },
  {
   "cell_type": "code",
   "execution_count": 3,
   "id": "530e0b86-951b-40ea-8e5a-fd10281fbf85",
   "metadata": {},
   "outputs": [],
   "source": [
    "def person(name, age, **kw):\n",
    "    print('name:', name, 'age:', age, 'other: ', kw)"
   ]
  },
  {
   "cell_type": "code",
   "execution_count": 4,
   "id": "98de9b69-0e5e-4c44-b608-7dd028549afa",
   "metadata": {},
   "outputs": [
    {
     "name": "stdout",
     "output_type": "stream",
     "text": [
      "name: aa age: 23 other:  {}\n"
     ]
    }
   ],
   "source": [
    "person('aa', 23)"
   ]
  },
  {
   "cell_type": "code",
   "execution_count": 5,
   "id": "d603d1bc-9aa4-468c-8a18-0faee7d8ad3e",
   "metadata": {},
   "outputs": [
    {
     "name": "stdout",
     "output_type": "stream",
     "text": [
      "name: aa age: 23 other:  {'city': 'hz'}\n"
     ]
    }
   ],
   "source": [
    "person('aa', 23, city='hz')"
   ]
  },
  {
   "cell_type": "code",
   "execution_count": 6,
   "id": "dd0aed8d-1bd7-4eb7-9a2d-c5b996fcf60c",
   "metadata": {},
   "outputs": [
    {
     "name": "stdout",
     "output_type": "stream",
     "text": [
      "name: Adam age: 30 other:  {'gender': 'M', 'job': 'Engineer'}\n"
     ]
    }
   ],
   "source": [
    "person('Adam', 30, gender='M', job='Engineer')"
   ]
  },
  {
   "cell_type": "code",
   "execution_count": 8,
   "id": "13756900-629b-49ab-a618-1caae5c4fcd5",
   "metadata": {},
   "outputs": [
    {
     "name": "stdout",
     "output_type": "stream",
     "text": [
      "name: Jack age: 24 other:  {'city': 'Beiging', 'job': 'Engineer'}\n"
     ]
    }
   ],
   "source": [
    "extera = {'city':'Beiging', 'job':'Engineer'}\n",
    "\n",
    "person('Jack', 24, city=extera['city'], job=extera['job'])"
   ]
  },
  {
   "cell_type": "code",
   "execution_count": 10,
   "id": "ddc16bcc-8524-41a6-b2bb-eb2577b1349c",
   "metadata": {},
   "outputs": [
    {
     "name": "stdout",
     "output_type": "stream",
     "text": [
      "name: Jack age: 24 other:  {'city': 'Beiging', 'job': 'Engineer'}\n"
     ]
    }
   ],
   "source": [
    "person('Jack', 24, **extera)"
   ]
  },
  {
   "cell_type": "markdown",
   "id": "35f94966-b0c4-4f8a-a5b1-86ccfd84e669",
   "metadata": {},
   "source": [
    "关键字参数有什么用？它可以扩展函数的功能。比如，在 person 函数里，我们保证能接收到 name 和 age 这两个参数，但是，如果调用者愿意提供更多的参数，我们也能收到。试想你正在做一个用户注册的功能，除了用户名和年龄是必填项外，其他都是可选项，利用关键字参数来定义这个函数就能满足注册的需求。"
   ]
  },
  {
   "cell_type": "markdown",
   "id": "5adeb3f0-8352-459e-ace2-4867880ccd84",
   "metadata": {},
   "source": [
    "上述的关键字参数形式，用户可以输入任意的关键字。如果想要**限制输入的关键字**，就用下面介绍的命名关键字参数。"
   ]
  },
  {
   "cell_type": "code",
   "execution_count": 14,
   "id": "807aeae7-d8b5-4010-85a0-ca7c56e6e75b",
   "metadata": {},
   "outputs": [],
   "source": [
    "# 必须用 * 分割开来\n",
    "\n",
    "def person2(name, age, *, city, job):\n",
    "    print(name, age, city, job)"
   ]
  },
  {
   "cell_type": "code",
   "execution_count": 16,
   "id": "63713372-b9ab-49a1-937e-a30b5087e23c",
   "metadata": {},
   "outputs": [
    {
     "ename": "TypeError",
     "evalue": "person() missing 2 required keyword-only arguments: 'city' and 'job'",
     "output_type": "error",
     "traceback": [
      "\u001b[1;31m---------------------------------------------------------------------------\u001b[0m",
      "\u001b[1;31mTypeError\u001b[0m                                 Traceback (most recent call last)",
      "\u001b[1;32m~\\AppData\\Local\\Temp/ipykernel_32016/2220066166.py\u001b[0m in \u001b[0;36m<module>\u001b[1;34m\u001b[0m\n\u001b[1;32m----> 1\u001b[1;33m \u001b[0mperson\u001b[0m\u001b[1;33m(\u001b[0m\u001b[1;34m'da'\u001b[0m\u001b[1;33m,\u001b[0m \u001b[1;36m32\u001b[0m\u001b[1;33m)\u001b[0m\u001b[1;33m\u001b[0m\u001b[1;33m\u001b[0m\u001b[0m\n\u001b[0m",
      "\u001b[1;31mTypeError\u001b[0m: person() missing 2 required keyword-only arguments: 'city' and 'job'"
     ]
    }
   ],
   "source": [
    "person('da', 32)"
   ]
  },
  {
   "cell_type": "code",
   "execution_count": 15,
   "id": "5688a7fc-d24d-4357-aeec-f59de4e41ae9",
   "metadata": {},
   "outputs": [
    {
     "name": "stdout",
     "output_type": "stream",
     "text": [
      "Jack 34 Beijing Engineer\n"
     ]
    }
   ],
   "source": [
    "person2('Jack', 34, city='Beijing', job='Engineer')"
   ]
  },
  {
   "cell_type": "code",
   "execution_count": 21,
   "id": "bd1545d8-b4a3-4381-88be-1b7ca34e242c",
   "metadata": {},
   "outputs": [],
   "source": [
    "# 或者用 可变参数 分割开来\n",
    "\n",
    "def person3(name, age, *args, city, job):\n",
    "    print(name, age, city, job)\n",
    "    for arg in args:\n",
    "        print(arg)"
   ]
  },
  {
   "cell_type": "code",
   "execution_count": 22,
   "id": "da8639d1-1d4e-4e69-8949-26938f1b5515",
   "metadata": {},
   "outputs": [
    {
     "name": "stdout",
     "output_type": "stream",
     "text": [
      "Jack 23 hz Stu\n"
     ]
    }
   ],
   "source": [
    "person3('Jack', 23, city='hz', job='Stu')"
   ]
  },
  {
   "cell_type": "code",
   "execution_count": 23,
   "id": "1f8815a1-1665-42a3-bf07-6be04d5b50fc",
   "metadata": {},
   "outputs": [
    {
     "name": "stdout",
     "output_type": "stream",
     "text": [
      "jack 23 hz Stu\n",
      "aa\n",
      "34\n"
     ]
    }
   ],
   "source": [
    "person3('jack', 23, 'aa', 34, city='hz', job='Stu')"
   ]
  },
  {
   "cell_type": "code",
   "execution_count": 27,
   "id": "894e2395-e8c8-430a-8566-84a7534f3907",
   "metadata": {},
   "outputs": [],
   "source": [
    "# 命名关键字参数与默认参数结合使用\n",
    "\n",
    "def person4(name, age=25, *, city='hz', job):\n",
    "    print(name, age, city, job)\n"
   ]
  },
  {
   "cell_type": "code",
   "execution_count": 28,
   "id": "605e15ed-6a2d-4a3e-8cbf-af7ea7859b49",
   "metadata": {},
   "outputs": [
    {
     "name": "stdout",
     "output_type": "stream",
     "text": [
      "Jack 25 hz Stu\n"
     ]
    }
   ],
   "source": [
    "person4('Jack', job='Stu')"
   ]
  },
  {
   "cell_type": "markdown",
   "id": "803ea4de-667c-4000-9a9e-dbf275650af6",
   "metadata": {},
   "source": [
    "#### 参数组合"
   ]
  },
  {
   "cell_type": "markdown",
   "id": "ea78c174-471b-46be-ac78-44120fb2fc6e",
   "metadata": {},
   "source": [
    "在 Python 中定义函数，可以用必选参数、默认参数、可变参数、关键字参数和命名关键字参数，这5种参数都可以组合使用。但是请注意，参数定义的顺序必须是：必选参数、默认参数、可变参数、命名关键字参数和关键字参数。"
   ]
  },
  {
   "cell_type": "code",
   "execution_count": 33,
   "id": "0f13f7e1-38d6-4f71-b247-8b2868882a57",
   "metadata": {},
   "outputs": [],
   "source": [
    "def f1(a, b, c=0, *args, **kw):\n",
    "    print('a =', a, 'b =', b, 'c =', c, 'args =', args, 'kw =', kw)"
   ]
  },
  {
   "cell_type": "code",
   "execution_count": 34,
   "id": "b660ea6d-02cb-4a89-bbab-c9e92df2dba9",
   "metadata": {},
   "outputs": [
    {
     "name": "stdout",
     "output_type": "stream",
     "text": [
      "a = 1 b = 2 c = 0 args = () kw = {}\n"
     ]
    }
   ],
   "source": [
    "f1(1, 2)"
   ]
  },
  {
   "cell_type": "code",
   "execution_count": 35,
   "id": "4f67131e-5e5b-40bb-a208-700fd38240f3",
   "metadata": {},
   "outputs": [
    {
     "name": "stdout",
     "output_type": "stream",
     "text": [
      "a = 1 b = 2 c = 3 args = () kw = {}\n"
     ]
    }
   ],
   "source": [
    "f1(1, 2, c=3)"
   ]
  },
  {
   "cell_type": "code",
   "execution_count": 36,
   "id": "bdfb0e7a-463f-4fa1-b282-9e0302405a7a",
   "metadata": {},
   "outputs": [
    {
     "name": "stdout",
     "output_type": "stream",
     "text": [
      "a = 1 b = 2 c = 3 args = ('a', 'b') kw = {}\n"
     ]
    }
   ],
   "source": [
    "f1(1, 2, 3, 'a', 'b')"
   ]
  },
  {
   "cell_type": "code",
   "execution_count": 37,
   "id": "317afc69-06c6-4e58-b4fa-c01230109d97",
   "metadata": {},
   "outputs": [
    {
     "name": "stdout",
     "output_type": "stream",
     "text": [
      "a = 1 b = 2 c = 3 args = ('a', 'b') kw = {'x': 99}\n"
     ]
    }
   ],
   "source": [
    "f1(1, 2, 3, 'a', 'b', x=99)"
   ]
  },
  {
   "cell_type": "code",
   "execution_count": 38,
   "id": "50fef070-6c7f-49bf-891a-a008786570ee",
   "metadata": {},
   "outputs": [
    {
     "name": "stdout",
     "output_type": "stream",
     "text": [
      "a = 1 b = 2 c = 3 args = (4,) kw = {'d': 99, 'x': '#'}\n"
     ]
    }
   ],
   "source": [
    "args = (1, 2, 3, 4)\n",
    "kw = {'d': 99, 'x': '#'}\n",
    "\n",
    "f1(*args, **kw)"
   ]
  },
  {
   "cell_type": "code",
   "execution_count": null,
   "id": "85895b8f-ab3b-4707-90a9-177869cf3ffd",
   "metadata": {},
   "outputs": [],
   "source": [
    "def mul(x, *args):\n",
    "    for arg in args:\n",
    "        x *= arg\n",
    "    return x"
   ]
  },
  {
   "cell_type": "markdown",
   "id": "51c000ef-d88f-418b-8fe4-28bbebc92444",
   "metadata": {},
   "source": [
    "### 递归函数"
   ]
  },
  {
   "cell_type": "code",
   "execution_count": 2,
   "id": "58c9d324-6841-4cfa-9025-aa34fe8f83f3",
   "metadata": {},
   "outputs": [],
   "source": [
    "# n!\n",
    "\n",
    "def fact(n):\n",
    "    if n == 1:\n",
    "        return 1\n",
    "    return n * fact(n-1)"
   ]
  },
  {
   "cell_type": "code",
   "execution_count": 3,
   "id": "0619a0cb-70f0-4d80-a238-831a7c356c04",
   "metadata": {},
   "outputs": [
    {
     "data": {
      "text/plain": [
       "6"
      ]
     },
     "execution_count": 3,
     "metadata": {},
     "output_type": "execute_result"
    }
   ],
   "source": [
    "fact(3)"
   ]
  },
  {
   "cell_type": "code",
   "execution_count": 4,
   "id": "65817a24-1034-4bc2-a178-c4602cb481a5",
   "metadata": {},
   "outputs": [
    {
     "data": {
      "text/plain": [
       "120"
      ]
     },
     "execution_count": 4,
     "metadata": {},
     "output_type": "execute_result"
    }
   ],
   "source": [
    "fact(5)"
   ]
  },
  {
   "cell_type": "code",
   "execution_count": 5,
   "id": "d7e27fcc-80ae-4c2f-8ae6-3e677bafb329",
   "metadata": {},
   "outputs": [
    {
     "data": {
      "text/plain": [
       "93326215443944152681699238856266700490715968264381621468592963895217599993229915608941463976156518286253697920827223758251185210916864000000000000000000000000"
      ]
     },
     "execution_count": 5,
     "metadata": {},
     "output_type": "execute_result"
    }
   ],
   "source": [
    "fact(100)"
   ]
  },
  {
   "cell_type": "markdown",
   "id": "9bd02dc5-402b-4581-8356-9f68462c8b13",
   "metadata": {},
   "source": [
    "如果我们计算 fact(5)，可以根据函数定义看到计算过程如下：\n",
    "```\n",
    "===> fact(5)\n",
    "===> 5 * fact(4)\n",
    "===> 5 * (4 * fact(3))\n",
    "===> 5 * (4 * (3 * fact(2)))\n",
    "===> 5 * (4 * (3 * (2 * fact(1))))\n",
    "===> 5 * (4 * (3 * (2 * 1)))\n",
    "===> 5 * (4 * (3 * 2))\n",
    "===> 5 * (4 * 6)\n",
    "===> 5 * 24\n",
    "===> 120\n",
    "```"
   ]
  },
  {
   "cell_type": "markdown",
   "id": "d2565f81-4e15-455e-9918-6b82780ce74e",
   "metadata": {},
   "source": [
    "由上可见，每 return 一次，就会产生一个栈帧。而且每个栈帧必须在内存中保留到最后一刻，因为直到 120 计算出来后，fact(5) 的值还是不知道的，还需要逐层返回，逐层消栈帧。这也就可能导致栈溢出。"
   ]
  },
  {
   "cell_type": "code",
   "execution_count": null,
   "id": "4aaea7b0-9dce-4981-a920-fc4422ba9b3e",
   "metadata": {},
   "outputs": [],
   "source": [
    "# 使用递归，若层数过大会导致栈溢出\n",
    "\n",
    "#fact(10000)"
   ]
  },
  {
   "cell_type": "markdown",
   "id": "636e3675-f342-40f7-8159-a5c624b7df4d",
   "metadata": {},
   "source": [
    "解决递归调用栈溢出的方法是通过尾递归优化，事实上尾递归和循环的效果是一样的，所以，把循环看成是一种特殊的尾递归函数也是可以的。\n",
    "\n",
    "尾递归是指，在函数返回的时候，调用自身，并且，**return 语句不能包含表达式。**\n",
    "\n",
    "这样，编译器或者解释器就可以把尾递归做优化，使递归本身无论调用多少次，都只占用一个栈帧，不会出现栈溢出的情况。"
   ]
  },
  {
   "cell_type": "markdown",
   "id": "53ea47af-34f7-443a-86e2-d3cb0cbee018",
   "metadata": {},
   "source": [
    "上面的 fact(n) 函数由于 return n * fact(n - 1) 引入了乘法表达式，所以就不是尾递归了。\n",
    "\n",
    "要改成尾递归方式，需要多一点代码，主要是要把每一步的乘积传入到递归函数中："
   ]
  },
  {
   "cell_type": "code",
   "execution_count": 3,
   "id": "f3b4044d-d962-4623-a16d-09b71acf9cfa",
   "metadata": {},
   "outputs": [],
   "source": [
    "def fact(n):\n",
    "    return fact_iter(n, 1)\n",
    "\n",
    "def fact_iter(num, product):\n",
    "    if num == 1:\n",
    "        return product\n",
    "    return fact_iter(num-1, num * product)"
   ]
  },
  {
   "cell_type": "code",
   "execution_count": 5,
   "id": "7a52f679-6d73-4baf-8581-9dae5b991f7d",
   "metadata": {},
   "outputs": [
    {
     "data": {
      "text/plain": [
       "120"
      ]
     },
     "execution_count": 5,
     "metadata": {},
     "output_type": "execute_result"
    }
   ],
   "source": [
    "fact(5)"
   ]
  },
  {
   "cell_type": "markdown",
   "id": "06bfb77e-2599-4373-ba94-c637c3c7d8c0",
   "metadata": {},
   "source": [
    "可以看到，return fact_iter(num - 1, num * product) 仅返回递归函数本身，num - 1 和 num * product 在函数调用前就会被计算，不影响函数调用。"
   ]
  },
  {
   "cell_type": "markdown",
   "id": "a70e3c46-bc27-408a-be6b-29f41213afb6",
   "metadata": {},
   "source": [
    "fact(5) 对应的 fact_iter(5, 1) 的调用如下：\n",
    "```\n",
    "===> fact_iter(5, 1)\n",
    "===> fact_iter(4, 5)\n",
    "===> fact_iter(3, 20)\n",
    "===> fact_iter(2, 60)\n",
    "===> fact_iter(1, 120)\n",
    "===> 120\n",
    "```"
   ]
  },
  {
   "cell_type": "markdown",
   "id": "7a61f391-e010-4a0e-acfd-e7129926a800",
   "metadata": {},
   "source": [
    "由上可见，每次的 return 已经包含了需要的历史值，如 60，并不需要再给上层返回值。前面的 return 其实可以忽略掉，只保留最后一条 return 就行。（我觉得这就是优化的意思吧）"
   ]
  },
  {
   "cell_type": "markdown",
   "id": "8ea5aed2-2545-4744-b72e-9b3c92ec48d0",
   "metadata": {},
   "source": [
    "尾递归调用时，如果做了优化，栈不会增长，因此，无论多少次调用也不会导致栈溢出。\n",
    "\n",
    "遗憾的是，大多数编程语言没有针对尾递归做优化，Python 解释器也没有做优化，所以，即使把上面的 fact(n) 函数改成尾递归方式，也会导致栈溢出。"
   ]
  },
  {
   "cell_type": "code",
   "execution_count": 24,
   "id": "7ec1e32a-01c0-44bd-af36-9242b8c6e673",
   "metadata": {},
   "outputs": [],
   "source": [
    "# 汉诺塔\n",
    "\n",
    "def move(n, fro, buffer, to):\n",
    "    if n == 1:\n",
    "        print('from', fro, '--->', to) # 只有一个，直接从起点移到终点\n",
    "    else:\n",
    "        move(n-1, fro, to, buffer) # 上面的 2~n 个先移到缓冲区\n",
    "        move(1, fro , buffer, to) # 最下面的一个直接移到终点\n",
    "        move(n-1, buffer, fro, to) # 再把 2~n 个从缓冲区移到终点"
   ]
  },
  {
   "cell_type": "code",
   "execution_count": 25,
   "id": "1a88aa62-c958-4214-8bd6-5fb798b6dde2",
   "metadata": {},
   "outputs": [
    {
     "name": "stdout",
     "output_type": "stream",
     "text": [
      "from A ---> C\n",
      "from A ---> B\n",
      "from C ---> B\n",
      "from A ---> C\n",
      "from B ---> A\n",
      "from B ---> C\n",
      "from A ---> C\n"
     ]
    }
   ],
   "source": [
    "move(3, 'A', 'B', 'C')"
   ]
  },
  {
   "cell_type": "code",
   "execution_count": 21,
   "id": "30fd9041-30b3-42dd-9f1a-747e535e725d",
   "metadata": {},
   "outputs": [
    {
     "ename": "SyntaxError",
     "evalue": "invalid syntax (Temp/ipykernel_12792/4131952417.py, line 3)",
     "output_type": "error",
     "traceback": [
      "\u001b[1;36m  File \u001b[1;32m\"C:\\Users\\H.M\\AppData\\Local\\Temp/ipykernel_12792/4131952417.py\"\u001b[1;36m, line \u001b[1;32m3\u001b[0m\n\u001b[1;33m    void move(int n, char a, char b, char c)\u001b[0m\n\u001b[1;37m         ^\u001b[0m\n\u001b[1;31mSyntaxError\u001b[0m\u001b[1;31m:\u001b[0m invalid syntax\n"
     ]
    }
   ],
   "source": [
    "# c 语言\n",
    "\n",
    "void move(int n, char a, char b, char c)\n",
    "{\n",
    "    if (n == 1) {\n",
    "        printf(\"from %c to %c\\n\", a, c);\n",
    "    }\n",
    "    else {\n",
    "        move(n - 1, a, c, b);\n",
    "        move(1, a, b, c);\n",
    "        move(n-1, b, a, c);\n",
    "    }\n",
    "}"
   ]
  },
  {
   "cell_type": "code",
   "execution_count": 19,
   "id": "2de20a12-7fb5-42cc-805b-657b1442b8ca",
   "metadata": {},
   "outputs": [
    {
     "name": "stdout",
     "output_type": "stream",
     "text": [
      "Move 1 from A to C\n",
      "Move 1 from A to B\n",
      "Move 1 from C to B\n",
      "Move 1 from A to C\n",
      "Move 1 from B to A\n",
      "Move 1 from B to C\n",
      "Move 1 from A to C\n"
     ]
    }
   ],
   "source": [
    "move(3, 'A', 'B', 'C')"
   ]
  },
  {
   "cell_type": "markdown",
   "id": "2a00107e-0a5f-491c-8e74-9c5b3d581368",
   "metadata": {},
   "source": [
    "## 四、高级特性"
   ]
  },
  {
   "cell_type": "markdown",
   "id": "1eae80db-3e35-4319-bca8-b34002b1ce60",
   "metadata": {},
   "source": [
    "以上学习了 Python 的数据类型、判断和循环语句、函数，已经可以写出很多有用的程序了。\n",
    "\n",
    "只是此时的代码可能不精简、同样的问题会写很多行代码来解决。但是，Python 的思想是「代码越少越好，越简单越好」，那么就要学习 Python 的高级特性来帮助我们精简自己的代码，来用更少的代码解决问题。\n",
    "\n",
    "学习高级特性之前，要先搞明白为什么学它。"
   ]
  },
  {
   "cell_type": "markdown",
   "id": "93a09707-5bb7-4a1f-a085-a56d8affbf79",
   "metadata": {},
   "source": [
    "接下来要学习的高级特性：\n",
    "\n",
    "- 切片\n",
    "- 迭代\n",
    "- 列表生成式\n",
    "- 生成器\n",
    "- 迭代器"
   ]
  },
  {
   "cell_type": "markdown",
   "id": "a0617b4c-d864-4379-bc02-d0117221bdb3",
   "metadata": {},
   "source": [
    "**在 Python 中，代码不是越多越好，而是越少越好。**代码不是越复杂越好，而是越简单越好。\n",
    "\n",
    "基于这一思想，来学习 Python 中非常有用的**高级特性**，1 行代码能实现的功能，决不写 5 行代码。**请始终牢记，代码越少，开发效率越高。**"
   ]
  },
  {
   "cell_type": "code",
   "execution_count": 32,
   "id": "b25ff28d-7f31-4ada-a44e-bc0a697a25ef",
   "metadata": {},
   "outputs": [
    {
     "data": {
      "text/plain": [
       "[1, 3, 5, 7, 9]"
      ]
     },
     "execution_count": 32,
     "metadata": {},
     "output_type": "execute_result"
    }
   ],
   "source": [
    "# 代码多\n",
    "\n",
    "L = []\n",
    "\n",
    "n = 1\n",
    "while n <= 9:\n",
    "    L.append(n)\n",
    "    n += 2\n",
    "    \n",
    "L"
   ]
  },
  {
   "cell_type": "code",
   "execution_count": 35,
   "id": "bbd19de8-00c8-4a84-bf1e-9660b791ea2d",
   "metadata": {},
   "outputs": [
    {
     "data": {
      "text/plain": [
       "[1, 3, 5, 7]"
      ]
     },
     "execution_count": 35,
     "metadata": {},
     "output_type": "execute_result"
    }
   ],
   "source": [
    "# 精简\n",
    "\n",
    "L1 = list(range(1, 9, 2))\n",
    "\n",
    "L1"
   ]
  },
  {
   "cell_type": "markdown",
   "id": "8d90c581-50ba-499c-b4e6-2779e1a8f34f",
   "metadata": {},
   "source": [
    "### 切片\n",
    "- 便于取子部份"
   ]
  },
  {
   "cell_type": "code",
   "execution_count": 36,
   "id": "89074607-8e51-4fcc-9777-c32d0784db8c",
   "metadata": {},
   "outputs": [],
   "source": [
    "L = ['aa', 'bb', 'cc', 'dd']\n"
   ]
  },
  {
   "cell_type": "code",
   "execution_count": 37,
   "id": "d1139300-b99a-4e11-858f-0230a5d82c04",
   "metadata": {},
   "outputs": [
    {
     "data": {
      "text/plain": [
       "['aa', 'bb', 'cc']"
      ]
     },
     "execution_count": 37,
     "metadata": {},
     "output_type": "execute_result"
    }
   ],
   "source": [
    "# 取前 n 个元素\n",
    "\n",
    "# 原来实现方法：\n",
    "\n",
    "r = []\n",
    "n = 3\n",
    "\n",
    "for i in range(n):\n",
    "    r.append(L[i])\n",
    "\n",
    "r"
   ]
  },
  {
   "cell_type": "code",
   "execution_count": 38,
   "id": "f0cdfc7b-f5ba-4bb2-b2dc-6c0cb0bb1c51",
   "metadata": {},
   "outputs": [
    {
     "data": {
      "text/plain": [
       "['aa', 'bb', 'cc']"
      ]
     },
     "execution_count": 38,
     "metadata": {},
     "output_type": "execute_result"
    }
   ],
   "source": [
    "# 简单实现\n",
    "\n",
    "L[0:3]"
   ]
  },
  {
   "cell_type": "code",
   "execution_count": 39,
   "id": "aa1fb814-4b2b-4f92-a4a0-ba13b5339e93",
   "metadata": {},
   "outputs": [
    {
     "data": {
      "text/plain": [
       "['aa', 'bb', 'cc']"
      ]
     },
     "execution_count": 39,
     "metadata": {},
     "output_type": "execute_result"
    }
   ],
   "source": [
    "L[:3]"
   ]
  },
  {
   "cell_type": "code",
   "execution_count": 1,
   "id": "3b5f74c4-dee5-4cbd-a372-623c69186211",
   "metadata": {},
   "outputs": [],
   "source": [
    "L = list(range(100))"
   ]
  },
  {
   "cell_type": "code",
   "execution_count": 2,
   "id": "151cbc27-81d3-4523-b073-88e5db010e0e",
   "metadata": {},
   "outputs": [
    {
     "data": {
      "text/plain": [
       "[0, 5, 10, 15, 20, 25, 30, 35, 40, 45, 50, 55, 60, 65, 70, 75, 80, 85, 90, 95]"
      ]
     },
     "execution_count": 2,
     "metadata": {},
     "output_type": "execute_result"
    }
   ],
   "source": [
    "L[::5]"
   ]
  },
  {
   "cell_type": "code",
   "execution_count": 5,
   "id": "224cd78f-9957-468a-b949-2791e5730105",
   "metadata": {},
   "outputs": [
    {
     "data": {
      "text/plain": [
       "(0, 1, 2)"
      ]
     },
     "execution_count": 5,
     "metadata": {},
     "output_type": "execute_result"
    }
   ],
   "source": [
    "# tuple 可以切片\n",
    "\n",
    "(0, 1, 2, 3, 4, 5)[:3]"
   ]
  },
  {
   "cell_type": "code",
   "execution_count": 6,
   "id": "5d835b8f-a0f0-4b46-9b70-7eb918f5ae2d",
   "metadata": {},
   "outputs": [
    {
     "data": {
      "text/plain": [
       "'ABC'"
      ]
     },
     "execution_count": 6,
     "metadata": {},
     "output_type": "execute_result"
    }
   ],
   "source": [
    "# 字符串可以切片\n",
    "\n",
    "'ABCDEFG'[:3]"
   ]
  },
  {
   "cell_type": "code",
   "execution_count": 53,
   "id": "d5274f8a-4629-4445-98a9-af602d9217b3",
   "metadata": {},
   "outputs": [],
   "source": [
    "def trim(s):\n",
    "    start = 0\n",
    "    end = 0\n",
    "    \n",
    "    # 开头空格数\n",
    "    for c in s:\n",
    "        if c == ' ':\n",
    "            # start++ 错误，python 没有自增、自减语法\n",
    "            start += 1\n",
    "        else:\n",
    "            break\n",
    "    # 结尾空格数\n",
    "    for c in s[::-1]:\n",
    "        if c == ' ':\n",
    "            end += 1\n",
    "        else:\n",
    "            break\n",
    "    return s[start : len(s)-end]"
   ]
  },
  {
   "cell_type": "code",
   "execution_count": 60,
   "id": "ad8a35d4-6c51-4595-9c89-32b0734acf0d",
   "metadata": {},
   "outputs": [
    {
     "name": "stdout",
     "output_type": "stream",
     "text": [
      "测试成功!\n"
     ]
    }
   ],
   "source": [
    "# 测试:\n",
    "if trim('hello  ') != 'hello':\n",
    "    print('测试失败!')\n",
    "elif trim('  hello') != 'hello':\n",
    "    print('测试失败!')\n",
    "elif trim('  hello  ') != 'hello':\n",
    "    print('测试失败!')\n",
    "elif trim('  hello  world  ') != 'hello  world':\n",
    "    print('测试失败!')\n",
    "elif trim('') != '':\n",
    "    print('测试失败!')\n",
    "elif trim('    ') != '':\n",
    "    print('测试失败!')\n",
    "else:\n",
    "    print('测试成功!')"
   ]
  },
  {
   "cell_type": "code",
   "execution_count": 64,
   "id": "d237d7b2-a797-47ab-940f-0edebfd40e93",
   "metadata": {},
   "outputs": [],
   "source": [
    "# 更好的实现方法\n",
    "\n",
    "def trim2(s):\n",
    "    \n",
    "    while s[:1] == ' ':  # 第一个元素 s[0] 是空格\n",
    "        s = s[1:]  # 舍弃第一个元素，从第二个元素 s[1] 开始\n",
    "    while s[-1:] == ' ': # 最后一个元素 s[-1] 是空格\n",
    "        s = s[0:-1]  # 舍弃最后一个元素\n",
    "    return s"
   ]
  },
  {
   "cell_type": "code",
   "execution_count": 65,
   "id": "5b9c97a3-e44f-4553-b065-53039927edfd",
   "metadata": {},
   "outputs": [
    {
     "name": "stdout",
     "output_type": "stream",
     "text": [
      "测试成功!\n"
     ]
    }
   ],
   "source": [
    "# 测试:\n",
    "if trim2('hello  ') != 'hello':\n",
    "    print('测试失败!')\n",
    "elif trim2('  hello') != 'hello':\n",
    "    print('测试失败!')\n",
    "elif trim2('  hello  ') != 'hello':\n",
    "    print('测试失败!')\n",
    "elif trim2('  hello  world  ') != 'hello  world':\n",
    "    print('测试失败!')\n",
    "elif trim2('') != '':\n",
    "    print('测试失败!')\n",
    "elif trim2('    ') != '':\n",
    "    print('测试失败!')\n",
    "else:\n",
    "    print('测试成功!')"
   ]
  },
  {
   "cell_type": "markdown",
   "id": "8dbf6e50-191a-46ed-9054-b164849ec639",
   "metadata": {},
   "source": [
    "### 迭代(Iteraton)\n",
    "- 便于遍历循环"
   ]
  },
  {
   "cell_type": "code",
   "execution_count": 1,
   "id": "b1a09b19-6b55-4094-ae52-3c85078246b7",
   "metadata": {},
   "outputs": [
    {
     "name": "stdout",
     "output_type": "stream",
     "text": [
      "a\n",
      "b\n",
      "c\n"
     ]
    }
   ],
   "source": [
    "d = {'a': 1, 'b': 2, 'c': 3}\n",
    "\n",
    "for key in d:\n",
    "    print(key)"
   ]
  },
  {
   "cell_type": "code",
   "execution_count": 3,
   "id": "1b96a9bd-31f4-4644-8bdf-71c237002569",
   "metadata": {},
   "outputs": [
    {
     "name": "stdout",
     "output_type": "stream",
     "text": [
      "1\n",
      "2\n",
      "3\n"
     ]
    }
   ],
   "source": [
    "for value in d.values():\n",
    "    print(value)"
   ]
  },
  {
   "cell_type": "code",
   "execution_count": 8,
   "id": "277143ae-6951-4ff2-b30d-4e19b8ed7092",
   "metadata": {},
   "outputs": [
    {
     "name": "stdout",
     "output_type": "stream",
     "text": [
      "a : 1\n",
      "b : 2\n",
      "c : 3\n"
     ]
    }
   ],
   "source": [
    "for k, v in d.items():\n",
    "    print(k, ':', v)"
   ]
  },
  {
   "cell_type": "markdown",
   "id": "e91fed0e-8068-4b44-ade5-a9a2a35aff55",
   "metadata": {},
   "source": [
    "如何判断一个对象是可迭代对象呢？方法是通过 collections.abc 模块的Iterable 类型判断："
   ]
  },
  {
   "cell_type": "code",
   "execution_count": 9,
   "id": "d88336b3-49fe-4d82-a9ba-99f8699e8e85",
   "metadata": {},
   "outputs": [
    {
     "data": {
      "text/plain": [
       "True"
      ]
     },
     "execution_count": 9,
     "metadata": {},
     "output_type": "execute_result"
    }
   ],
   "source": [
    "from collections.abc import Iterable\n",
    "\n",
    "isinstance('abc', Iterable)"
   ]
  },
  {
   "cell_type": "markdown",
   "id": "25d90fb4-ca88-491d-92c8-6bfc106c8846",
   "metadata": {},
   "source": [
    "如何对 list 同时实现索引和元素本身的迭代呢？ \n",
    "需要借助 enumerate() 函数把 list 变为 索引-元素对"
   ]
  },
  {
   "cell_type": "code",
   "execution_count": 10,
   "id": "d25aef86-ffad-4d65-8c29-1c170cabf88c",
   "metadata": {},
   "outputs": [
    {
     "name": "stdout",
     "output_type": "stream",
     "text": [
      "0 A\n",
      "1 B\n",
      "2 C\n",
      "3 D\n"
     ]
    }
   ],
   "source": [
    "for i, v in enumerate(['A', 'B', 'C', 'D']):\n",
    "    print(i, v)"
   ]
  },
  {
   "cell_type": "code",
   "execution_count": 15,
   "id": "a3ddac1d-d0bf-453a-97ba-bbd0c8035b5c",
   "metadata": {},
   "outputs": [],
   "source": [
    "def findMinAndMax(L):\n",
    "    if L == []:\n",
    "        return (None, None)\n",
    "    min = max = L[0]\n",
    "    for n in L:\n",
    "            if n < min:\n",
    "                min = n\n",
    "            if n > max:\n",
    "                max = n\n",
    "    return (min, max)"
   ]
  },
  {
   "cell_type": "code",
   "execution_count": 16,
   "id": "bcab0906-5db4-45e3-be40-6e096ddbf6a2",
   "metadata": {},
   "outputs": [
    {
     "data": {
      "text/plain": [
       "(1, 45)"
      ]
     },
     "execution_count": 16,
     "metadata": {},
     "output_type": "execute_result"
    }
   ],
   "source": [
    "findMinAndMax([1, 3, 5, 3, 6, 45, 6, 8])"
   ]
  },
  {
   "cell_type": "code",
   "execution_count": 17,
   "id": "51fcf3ef-9cb1-451a-99e0-66c39c8da53d",
   "metadata": {},
   "outputs": [
    {
     "name": "stdout",
     "output_type": "stream",
     "text": [
      "测试成功!\n"
     ]
    }
   ],
   "source": [
    "# 测试\n",
    "if findMinAndMax([]) != (None, None):\n",
    "    print('测试失败!')\n",
    "elif findMinAndMax([7]) != (7, 7):\n",
    "    print('测试失败!')\n",
    "elif findMinAndMax([7, 1]) != (1, 7):\n",
    "    print('测试失败!')\n",
    "elif findMinAndMax([7, 1, 3, 9, 5]) != (1, 9):\n",
    "    print('测试失败!')\n",
    "else:\n",
    "    print('测试成功!')"
   ]
  },
  {
   "cell_type": "markdown",
   "id": "0e7a33b4-9820-4c2c-b314-0e645bc644c0",
   "metadata": {},
   "source": [
    "### 列表生成式（List Comprehensions）\n",
    "- 便于生成列表"
   ]
  },
  {
   "cell_type": "markdown",
   "id": "c307a681-cd2b-49b4-a0fd-2416d1d83454",
   "metadata": {},
   "source": [
    "若想要生成这样的 list [1x1, 2x2, 3x3, ..., 10x10]，传统做法："
   ]
  },
  {
   "cell_type": "code",
   "execution_count": 19,
   "id": "a2599b42-ecc9-4bba-ade4-e9e660c3aab9",
   "metadata": {},
   "outputs": [
    {
     "data": {
      "text/plain": [
       "[1, 4, 9, 16, 25, 36, 49, 64, 81, 100]"
      ]
     },
     "execution_count": 19,
     "metadata": {},
     "output_type": "execute_result"
    }
   ],
   "source": [
    "L = []\n",
    "for i in range(1, 11):\n",
    "    L.append(i * i)\n",
    "L"
   ]
  },
  {
   "cell_type": "markdown",
   "id": "067d8ecd-dbee-4808-8616-36d44732a2f9",
   "metadata": {},
   "source": [
    "使用列表生成式，可以简化为一行代码："
   ]
  },
  {
   "cell_type": "code",
   "execution_count": 21,
   "id": "9349a9a6-1121-47fd-9741-5ec09a95ba1b",
   "metadata": {},
   "outputs": [
    {
     "data": {
      "text/plain": [
       "[1, 4, 9, 16, 25, 36, 49, 64, 81, 100]"
      ]
     },
     "execution_count": 21,
     "metadata": {},
     "output_type": "execute_result"
    }
   ],
   "source": [
    "[ i * i for i in range(1, 11)]"
   ]
  },
  {
   "cell_type": "markdown",
   "id": "aff6e5c0-5ae9-4dbd-8595-5d194f321c69",
   "metadata": {},
   "source": [
    "for循环后面还可以加上if判断，这样我们就可以筛选出仅偶数的平方："
   ]
  },
  {
   "cell_type": "code",
   "execution_count": 22,
   "id": "408b2f44-037b-4415-96a1-c29ef7358baf",
   "metadata": {},
   "outputs": [
    {
     "data": {
      "text/plain": [
       "[4, 16, 36, 64, 100]"
      ]
     },
     "execution_count": 22,
     "metadata": {},
     "output_type": "execute_result"
    }
   ],
   "source": [
    "[i * i for i in range(1, 11) if i % 2 == 0]"
   ]
  },
  {
   "cell_type": "markdown",
   "id": "33fe3917-5ea9-4c1b-80ac-473f0236a019",
   "metadata": {},
   "source": [
    "还可以使用两层循环，生成全排列："
   ]
  },
  {
   "cell_type": "code",
   "execution_count": 23,
   "id": "aa65dd03-6741-4018-a7b3-ef5ef22db1a4",
   "metadata": {},
   "outputs": [
    {
     "data": {
      "text/plain": [
       "['AX', 'AY', 'AZ', 'BX', 'BY', 'BZ', 'CX', 'CY', 'CZ']"
      ]
     },
     "execution_count": 23,
     "metadata": {},
     "output_type": "execute_result"
    }
   ],
   "source": [
    "[m + n for m in 'ABC' for n in 'XYZ']"
   ]
  },
  {
   "cell_type": "code",
   "execution_count": 24,
   "id": "5fbb0ee2-392a-4b65-9cdc-20a81c570c00",
   "metadata": {},
   "outputs": [
    {
     "data": {
      "text/plain": [
       "['.ipynb_checkpoints',\n",
       " 'python-notes.ipynb',\n",
       " 'untitled.tex',\n",
       " '廖雪峰教程-代码笔记.ipynb']"
      ]
     },
     "execution_count": 24,
     "metadata": {},
     "output_type": "execute_result"
    }
   ],
   "source": [
    "import os\n",
    "\n",
    "[d for d in os.listdir('.')]"
   ]
  },
  {
   "cell_type": "code",
   "execution_count": 27,
   "id": "0a1e864c-bc53-4eb8-9bbd-d093d440611a",
   "metadata": {},
   "outputs": [
    {
     "data": {
      "text/plain": [
       "['X=A', 'Y=B', 'Z=C']"
      ]
     },
     "execution_count": 27,
     "metadata": {},
     "output_type": "execute_result"
    }
   ],
   "source": [
    "d = {'X': 'A', 'Y': 'B', 'Z': 'C'}\n",
    "\n",
    "[k + '=' + v for k, v in d.items()]"
   ]
  },
  {
   "cell_type": "code",
   "execution_count": 29,
   "id": "e93c90f5-4999-48c4-b624-5528c604c8c3",
   "metadata": {},
   "outputs": [
    {
     "data": {
      "text/plain": [
       "['hello', 'world', 'ibm', 'apple']"
      ]
     },
     "execution_count": 29,
     "metadata": {},
     "output_type": "execute_result"
    }
   ],
   "source": [
    "L = ['Hello', 'World', 'IBM', 'Apple']\n",
    "\n",
    "[s.lower() for s in L]"
   ]
  },
  {
   "cell_type": "markdown",
   "id": "b77c9602-82ed-4c70-9f8c-d77c93a80072",
   "metadata": {},
   "source": [
    "if ... else 注意事项：\n",
    "- if 在 for 后面：if 是筛选条件，不能加 else\n",
    "- if 在 for 前面：if 是表达式，必须加 else"
   ]
  },
  {
   "cell_type": "code",
   "execution_count": 33,
   "id": "42cbca18-1757-44c1-a613-b548a009ae1d",
   "metadata": {},
   "outputs": [
    {
     "data": {
      "text/plain": [
       "[2, 4, 6, 8, 10]"
      ]
     },
     "execution_count": 33,
     "metadata": {},
     "output_type": "execute_result"
    }
   ],
   "source": [
    "# if 在 for 后：\n",
    "\n",
    "[x for x in range(1, 11) if x % 2 == 0]"
   ]
  },
  {
   "cell_type": "code",
   "execution_count": 35,
   "id": "c9409787-d15f-489e-bbc4-d0ab08c9b873",
   "metadata": {},
   "outputs": [
    {
     "data": {
      "text/plain": [
       "[-1, 2, -3, 4, -5, 6, -7, 8, -9, 10]"
      ]
     },
     "execution_count": 35,
     "metadata": {},
     "output_type": "execute_result"
    }
   ],
   "source": [
    "# if 在 for 前：\n",
    "\n",
    "[x if x % 2 == 0 else -x for x in range(1, 11)]"
   ]
  },
  {
   "cell_type": "code",
   "execution_count": 38,
   "id": "f4029082-b4e7-42ed-b80c-3938e8b7c918",
   "metadata": {},
   "outputs": [
    {
     "data": {
      "text/plain": [
       "['hello', 'world', 'apple']"
      ]
     },
     "execution_count": 38,
     "metadata": {},
     "output_type": "execute_result"
    }
   ],
   "source": [
    "L1 = ['Hello', 'World', 18, 'Apple', None]\n",
    "\n",
    "L2 = [s.lower() for s in L1 if isinstance(s, str)]\n",
    "\n",
    "L2"
   ]
  },
  {
   "cell_type": "markdown",
   "id": "b94cb8ec-d9f7-41f2-bec8-d1feb95ef884",
   "metadata": {},
   "source": [
    "### 生成器（generator）"
   ]
  },
  {
   "cell_type": "markdown",
   "id": "73bc07d5-99b9-47ac-ac20-47f16fcd4edd",
   "metadata": {},
   "source": [
    "列表生成式会一次性创建出所有元素，占用很大的内存。\n",
    "\n",
    "而生成器是采用某种算法，一遍循环一边计算出需要的元素。这样就不必创建完整的 list，从而节省大量的空间。"
   ]
  },
  {
   "cell_type": "markdown",
   "id": "3fbebbdf-c7a5-40b1-b71b-6dfa03c73371",
   "metadata": {},
   "source": [
    "#### 方法一：直接将 [] 改为 ()"
   ]
  },
  {
   "cell_type": "code",
   "execution_count": 40,
   "id": "7c706bcb-f33a-4f90-8052-58ad6f6f438f",
   "metadata": {},
   "outputs": [
    {
     "data": {
      "text/plain": [
       "<generator object <genexpr> at 0x00000267E5760430>"
      ]
     },
     "execution_count": 40,
     "metadata": {},
     "output_type": "execute_result"
    }
   ],
   "source": [
    "g = (x * x for x in range(10))\n",
    "\n",
    "g"
   ]
  },
  {
   "cell_type": "code",
   "execution_count": 41,
   "id": "05175d7c-4033-47a6-88ef-1bc3022f8fab",
   "metadata": {},
   "outputs": [
    {
     "data": {
      "text/plain": [
       "0"
      ]
     },
     "execution_count": 41,
     "metadata": {},
     "output_type": "execute_result"
    }
   ],
   "source": [
    "next(g)"
   ]
  },
  {
   "cell_type": "code",
   "execution_count": 42,
   "id": "a6d76df1-86fb-4a48-88ea-a1db042d7213",
   "metadata": {},
   "outputs": [
    {
     "data": {
      "text/plain": [
       "1"
      ]
     },
     "execution_count": 42,
     "metadata": {},
     "output_type": "execute_result"
    }
   ],
   "source": [
    "next(g)"
   ]
  },
  {
   "cell_type": "code",
   "execution_count": 43,
   "id": "baa87aef-c0f2-4822-bf31-ecdfad875524",
   "metadata": {},
   "outputs": [
    {
     "name": "stdout",
     "output_type": "stream",
     "text": [
      "4\n",
      "9\n",
      "16\n",
      "25\n",
      "36\n",
      "49\n",
      "64\n",
      "81\n"
     ]
    }
   ],
   "source": [
    "for i in g:\n",
    "    print(i)"
   ]
  },
  {
   "cell_type": "markdown",
   "id": "cdf51255-099a-4542-86f7-98aef66cf39d",
   "metadata": {},
   "source": [
    "##### 方法二：如果算法比较复杂，用生成式的 for 循环无法实现时，还可以用函数来生成。"
   ]
  },
  {
   "cell_type": "code",
   "execution_count": 45,
   "id": "db9c1a77-a3e8-4d43-9cc5-8cfd0e714d24",
   "metadata": {},
   "outputs": [],
   "source": [
    "# 传统的斐波拉写数列\n",
    "\n",
    "def fib(max):\n",
    "    n, a, b = 0, 0, 1\n",
    "    while n < max:\n",
    "        print(b)\n",
    "        a, b = b, a + b\n",
    "        n += 1\n",
    "    return 'done'"
   ]
  },
  {
   "cell_type": "code",
   "execution_count": 46,
   "id": "612db786-9d0a-4e31-aba3-09f9f0eb635b",
   "metadata": {},
   "outputs": [
    {
     "name": "stdout",
     "output_type": "stream",
     "text": [
      "1\n",
      "1\n",
      "2\n",
      "3\n",
      "5\n"
     ]
    },
    {
     "data": {
      "text/plain": [
       "'done'"
      ]
     },
     "execution_count": 46,
     "metadata": {},
     "output_type": "execute_result"
    }
   ],
   "source": [
    "fib(5)"
   ]
  },
  {
   "cell_type": "markdown",
   "id": "d897a792-f574-4121-9e10-9b80b0012adf",
   "metadata": {},
   "source": [
    "可以看出，fib() 函数实际上是定义了斐波拉契数列的推算规则，可以从第一个元素开始，推算出后续任意的元素，这种逻辑其实非常类似 generator。"
   ]
  },
  {
   "cell_type": "markdown",
   "id": "2ba5f868-f3fc-4228-9ad7-5fc4e7271d99",
   "metadata": {},
   "source": [
    "上面的函数和 generator 仅一步之遥。要把 fib 函数变成 generator 函数，只需要把 print(b) 改为 yield b 就可以了："
   ]
  },
  {
   "cell_type": "code",
   "execution_count": 53,
   "id": "7de4477c-d605-4a72-8a43-2ee84fca0337",
   "metadata": {},
   "outputs": [],
   "source": [
    "def fib2(max):\n",
    "    n, a, b = 0, 0, 1\n",
    "    while n < max:\n",
    "        yield b\n",
    "        a, b = b, a + b\n",
    "        n += 1\n",
    "    return 'done'\n",
    "    "
   ]
  },
  {
   "cell_type": "code",
   "execution_count": 54,
   "id": "c483b8a1-e44f-43a7-9ce3-6fbc0d83e80c",
   "metadata": {},
   "outputs": [
    {
     "data": {
      "text/plain": [
       "<generator object fib2 at 0x00000267E576B190>"
      ]
     },
     "execution_count": 54,
     "metadata": {},
     "output_type": "execute_result"
    }
   ],
   "source": [
    "f = fib2(6)\n",
    "\n",
    "f"
   ]
  },
  {
   "cell_type": "code",
   "execution_count": 51,
   "id": "f4c5bfb3-0b43-4984-a374-cf030299b385",
   "metadata": {},
   "outputs": [
    {
     "name": "stdout",
     "output_type": "stream",
     "text": [
      "1\n",
      "1\n",
      "2\n",
      "3\n",
      "5\n",
      "8\n"
     ]
    }
   ],
   "source": [
    "for n in f:\n",
    "    print(n)"
   ]
  },
  {
   "cell_type": "code",
   "execution_count": 56,
   "id": "a1248705-9286-434c-9753-8a302411483b",
   "metadata": {},
   "outputs": [
    {
     "name": "stdout",
     "output_type": "stream",
     "text": [
      "g: 1\n",
      "g: 1\n",
      "g: 2\n",
      "g: 3\n",
      "g: 5\n",
      "g: 8\n",
      "Generator return value: done\n"
     ]
    }
   ],
   "source": [
    "g = fib(6)\n",
    "\n",
    "while True:\n",
    "    try:\n",
    "        x = next(g)\n",
    "        print('g:', x)\n",
    "    except StopIteration as e:\n",
    "        print('Generator return value:', e.value)\n",
    "        break"
   ]
  },
  {
   "cell_type": "markdown",
   "id": "c3e79174-9699-4931-9c60-9e92e4e94556",
   "metadata": {},
   "source": [
    "#### 杨辉三角课后练习"
   ]
  },
  {
   "cell_type": "code",
   "execution_count": 57,
   "id": "359c7d45-20ac-4c0b-bb78-9bd1d5a89527",
   "metadata": {},
   "outputs": [],
   "source": [
    "# 暂留"
   ]
  },
  {
   "cell_type": "markdown",
   "id": "5c4e5511-fc18-4d24-b5d8-87fd6120bd0d",
   "metadata": {},
   "source": [
    "### 迭代器\n",
    "- 可以被 next() 函数调用并不断返回下一个值的对象称为迭代器：Iterator。"
   ]
  },
  {
   "cell_type": "code",
   "execution_count": 58,
   "id": "9eba8c44-9595-445e-9554-9112ea3d8706",
   "metadata": {},
   "outputs": [
    {
     "data": {
      "text/plain": [
       "False"
      ]
     },
     "execution_count": 58,
     "metadata": {},
     "output_type": "execute_result"
    }
   ],
   "source": [
    "# 可以使用 isinstance()判断一个对象是否是Iterator对象：\n",
    "\n",
    "from collections.abc import Iterator\n",
    "\n",
    "isinstance([], Iterator)"
   ]
  },
  {
   "cell_type": "code",
   "execution_count": 59,
   "id": "5bba827f-54f3-4896-a1b5-f91493393dcd",
   "metadata": {},
   "outputs": [
    {
     "data": {
      "text/plain": [
       "True"
      ]
     },
     "execution_count": 59,
     "metadata": {},
     "output_type": "execute_result"
    }
   ],
   "source": [
    "isinstance((x for x in range(10)), Iterator)"
   ]
  },
  {
   "cell_type": "markdown",
   "id": "0a9c9ec6-8737-4ef0-918b-165bb280c74b",
   "metadata": {},
   "source": [
    "生成器都是 Iterator 对象，但 list、dict、str 虽然是 Iterable，却不是Iterator。\n",
    "\n",
    "把 list、dict、str 等 Iterable 变成 Iterator 可以使用 iter()函数："
   ]
  },
  {
   "cell_type": "code",
   "execution_count": 60,
   "id": "8766695f-f296-45a3-ac29-eef70454bbce",
   "metadata": {},
   "outputs": [
    {
     "data": {
      "text/plain": [
       "True"
      ]
     },
     "execution_count": 60,
     "metadata": {},
     "output_type": "execute_result"
    }
   ],
   "source": [
    "isinstance(iter([]), Iterator)"
   ]
  },
  {
   "cell_type": "markdown",
   "id": "bee259ff-c224-4392-80a7-5d6472a0b731",
   "metadata": {},
   "source": [
    "小结\n",
    "\n",
    "凡是可作用于 for 循环的对象都是 Iterable 类型；\n",
    "\n",
    "凡是可作用于 next() 函数的对象都是 Iterator 类型，它们表示一个惰性计算的序列；\n",
    "\n",
    "集合数据类型如 list、dict、str 等是 Iterable 但不是 Iterator，不过可以通过 iter() 函数获得一个 Iterator对象。\n",
    "\n",
    "Python 的 for 循环本质上就是通过不断调用 next() 函数实现的，例如："
   ]
  },
  {
   "cell_type": "code",
   "execution_count": 61,
   "id": "00934c3d-98c2-4a43-ab64-171f20014a49",
   "metadata": {},
   "outputs": [],
   "source": [
    "for x in [1, 2, 3, 4, 5]:\n",
    "    pass"
   ]
  },
  {
   "cell_type": "code",
   "execution_count": 62,
   "id": "78328c95-d019-40ee-bd83-7afb3f9ee3f9",
   "metadata": {},
   "outputs": [],
   "source": [
    "# 实际上完全等价于：\n",
    "\n",
    "# 首先获得Iterator对象:\n",
    "it = iter([1, 2, 3, 4, 5])\n",
    "# 循环:\n",
    "while True:\n",
    "    try:\n",
    "        # 获得下一个值:\n",
    "        x = next(it)\n",
    "    except StopIteration:\n",
    "        # 遇到StopIteration就退出循环\n",
    "        break"
   ]
  },
  {
   "cell_type": "markdown",
   "id": "f5fcbaa8-cb6a-4547-a60d-44b2f7396320",
   "metadata": {},
   "source": [
    "## 函数式编程"
   ]
  },
  {
   "cell_type": "markdown",
   "id": "826a1e4d-7bed-4cbf-9201-b75eea736cfa",
   "metadata": {},
   "source": [
    "函数式编程（请注意多了一个「式」字）—— Functional Programming，虽然也可以归结到面向过程的程序设计，但其思想更接近数学计算。\n",
    "\n",
    "纯粹的函数式编程语言编写的函数没有变量，因此，任意一个函数，只要输入是确定的，输出就是确定的，这种纯函数我们称之为没有副作用。\n",
    "\n",
    "函数式编程的一个特点就是，允许把函数本身作为参数传入另一个函数，还允许返回一个函数！"
   ]
  },
  {
   "cell_type": "code",
   "execution_count": null,
   "id": "4d5c70e4-9005-4a93-95e9-de1b984aa2f2",
   "metadata": {},
   "outputs": [],
   "source": []
  }
 ],
 "metadata": {
  "kernelspec": {
   "display_name": "Python 3 (ipykernel)",
   "language": "python",
   "name": "python3"
  },
  "language_info": {
   "codemirror_mode": {
    "name": "ipython",
    "version": 3
   },
   "file_extension": ".py",
   "mimetype": "text/x-python",
   "name": "python",
   "nbconvert_exporter": "python",
   "pygments_lexer": "ipython3",
   "version": "3.9.7"
  },
  "widgets": {
   "application/vnd.jupyter.widget-state+json": {
    "state": {},
    "version_major": 2,
    "version_minor": 0
   }
  }
 },
 "nbformat": 4,
 "nbformat_minor": 5
}
