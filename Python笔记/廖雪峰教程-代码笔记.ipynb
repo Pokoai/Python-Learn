{
 "cells": [
  {
   "cell_type": "markdown",
   "id": "6a432f8c-9157-4367-acaa-7ce5902004c4",
   "metadata": {
    "tags": []
   },
   "source": [
    "## 一、第一个 Python 程序"
   ]
  },
  {
   "cell_type": "markdown",
   "id": "a250c581-9ba3-42ff-82ef-63628fc8a5b4",
   "metadata": {
    "tags": []
   },
   "source": [
    "### 输入输出"
   ]
  },
  {
   "cell_type": "code",
   "execution_count": 2,
   "id": "eb57177c-148a-4ea3-854a-feb29cd8fff5",
   "metadata": {},
   "outputs": [
    {
     "name": "stdout",
     "output_type": "stream",
     "text": [
      "100 + 200 =  300\n"
     ]
    }
   ],
   "source": [
    "print('100 + 200 = ', 100 + 200)"
   ]
  },
  {
   "cell_type": "code",
   "execution_count": 4,
   "id": "ee66a066-cc81-46c1-b303-001271e425c0",
   "metadata": {},
   "outputs": [
    {
     "name": "stdin",
     "output_type": "stream",
     "text": [
      "输入姓名 古月\n"
     ]
    },
    {
     "name": "stdout",
     "output_type": "stream",
     "text": [
      "你输入的是:古月\n"
     ]
    }
   ],
   "source": [
    "name = input('输入姓名')\n",
    "\n",
    "print('你输入的是:' + name)"
   ]
  },
  {
   "cell_type": "code",
   "execution_count": 5,
   "id": "ee3bafe5-9eb5-488a-b615-ef540be05a3b",
   "metadata": {},
   "outputs": [
    {
     "data": {
      "text/plain": [
       "'古月'"
      ]
     },
     "execution_count": 5,
     "metadata": {},
     "output_type": "execute_result"
    }
   ],
   "source": [
    "name"
   ]
  },
  {
   "cell_type": "code",
   "execution_count": 6,
   "id": "39240661-254c-4e53-9350-525a5e2e6ee9",
   "metadata": {},
   "outputs": [
    {
     "name": "stdout",
     "output_type": "stream",
     "text": [
      "1024 * 768 = 786432\n"
     ]
    }
   ],
   "source": [
    "print('1024 * 768 =', 1024 * 768)"
   ]
  },
  {
   "cell_type": "markdown",
   "id": "1d7d6ca4-7a80-4b4a-8781-c8bd653f68aa",
   "metadata": {},
   "source": [
    "#### 禁止转义"
   ]
  },
  {
   "cell_type": "code",
   "execution_count": 11,
   "id": "7c9409a7-a90b-44e8-ad0e-15e622811909",
   "metadata": {},
   "outputs": [
    {
     "name": "stdout",
     "output_type": "stream",
     "text": [
      "\\\t\\\n"
     ]
    }
   ],
   "source": [
    "print('\\\\\\t\\\\')"
   ]
  },
  {
   "cell_type": "code",
   "execution_count": 12,
   "id": "4ea6a318-1403-4e74-bba3-ac53f324df2a",
   "metadata": {},
   "outputs": [
    {
     "name": "stdout",
     "output_type": "stream",
     "text": [
      "\\\\\\t\\\\\n"
     ]
    }
   ],
   "source": [
    "print(r'\\\\\\t\\\\')"
   ]
  },
  {
   "cell_type": "markdown",
   "id": "0bf993c4-779d-4b1b-8ab9-901372060483",
   "metadata": {},
   "source": [
    "#### 换行"
   ]
  },
  {
   "cell_type": "code",
   "execution_count": 14,
   "id": "64c8a07a-de96-41bc-86d8-b683f0492d02",
   "metadata": {},
   "outputs": [
    {
     "name": "stdout",
     "output_type": "stream",
     "text": [
      "line1\n",
      "line2\n",
      "line3\n"
     ]
    }
   ],
   "source": [
    "print('line1\\nline2\\nline3')"
   ]
  },
  {
   "cell_type": "code",
   "execution_count": 19,
   "id": "31df7f02-7804-4a8c-98d3-67df26d854f0",
   "metadata": {},
   "outputs": [
    {
     "name": "stdout",
     "output_type": "stream",
     "text": [
      "line1\n",
      "line2\n",
      "line3\n"
     ]
    }
   ],
   "source": [
    "print('''line1\n",
    "line2\n",
    "line3''')"
   ]
  },
  {
   "cell_type": "code",
   "execution_count": 88,
   "id": "ff2c23c3-e201-428e-bd53-c7013bb67a62",
   "metadata": {},
   "outputs": [
    {
     "name": "stdin",
     "output_type": "stream",
     "text": [
      "birth:  18\n"
     ]
    },
    {
     "data": {
      "text/plain": [
       "18"
      ]
     },
     "execution_count": 88,
     "metadata": {},
     "output_type": "execute_result"
    }
   ],
   "source": [
    "birth = int(input('birth: '))\n",
    "\n",
    "birth"
   ]
  },
  {
   "cell_type": "markdown",
   "id": "4ae00416-953c-4397-8edf-8c147cfbf990",
   "metadata": {},
   "source": [
    "## 二、Python 基础"
   ]
  },
  {
   "cell_type": "markdown",
   "id": "31309c4c-7156-48b5-be4f-a0b4d73da68a",
   "metadata": {},
   "source": [
    "### 数据类型和变量"
   ]
  },
  {
   "cell_type": "markdown",
   "id": "b6e4f3ac-630f-4e84-8697-53b238840041",
   "metadata": {},
   "source": [
    "#### 布尔值"
   ]
  },
  {
   "cell_type": "code",
   "execution_count": 20,
   "id": "7089bf8b-c292-4857-9e7f-3faf6be94667",
   "metadata": {},
   "outputs": [
    {
     "data": {
      "text/plain": [
       "False"
      ]
     },
     "execution_count": 20,
     "metadata": {},
     "output_type": "execute_result"
    }
   ],
   "source": [
    "True and False"
   ]
  },
  {
   "cell_type": "code",
   "execution_count": 21,
   "id": "d2919306-4c25-44cf-9170-7e6de48267d2",
   "metadata": {},
   "outputs": [
    {
     "data": {
      "text/plain": [
       "True"
      ]
     },
     "execution_count": 21,
     "metadata": {},
     "output_type": "execute_result"
    }
   ],
   "source": [
    "True or False"
   ]
  },
  {
   "cell_type": "code",
   "execution_count": 22,
   "id": "90326c09-64b1-436b-8c89-e43568ff8595",
   "metadata": {},
   "outputs": [
    {
     "data": {
      "text/plain": [
       "True"
      ]
     },
     "execution_count": 22,
     "metadata": {},
     "output_type": "execute_result"
    }
   ],
   "source": [
    "not False"
   ]
  },
  {
   "cell_type": "markdown",
   "id": "8876209a-5485-4cd3-8798-d703a106324b",
   "metadata": {},
   "source": [
    "#### 变量"
   ]
  },
  {
   "cell_type": "markdown",
   "id": "9a55cb66-a80f-428f-a138-a7da7f3369a4",
   "metadata": {},
   "source": [
    "- 变量可以改变类型 -> python 为动态语言："
   ]
  },
  {
   "cell_type": "code",
   "execution_count": 25,
   "id": "99d0bc54-e518-47c3-b7f7-c8be91f1e580",
   "metadata": {},
   "outputs": [
    {
     "name": "stdout",
     "output_type": "stream",
     "text": [
      "123\n",
      "ABC\n",
      "True\n"
     ]
    }
   ],
   "source": [
    "a =  123\n",
    "print(a)\n",
    "\n",
    "a = 'ABC'\n",
    "print(a)\n",
    "\n",
    "a = True\n",
    "print(a)"
   ]
  },
  {
   "cell_type": "markdown",
   "id": "21eb9140-6924-4261-9f9d-5ac44d524fdb",
   "metadata": {},
   "source": [
    "- 变量在内存中的表示："
   ]
  },
  {
   "cell_type": "code",
   "execution_count": 31,
   "id": "079f9829-fbdf-44e7-afc1-7e38997c12e3",
   "metadata": {},
   "outputs": [
    {
     "name": "stdout",
     "output_type": "stream",
     "text": [
      "XYZ ABC\n"
     ]
    }
   ],
   "source": [
    "a = 'ABC'\n",
    "\n",
    "b = a\n",
    "\n",
    "a = 'XYZ'\n",
    "\n",
    "print(a, b)"
   ]
  },
  {
   "cell_type": "markdown",
   "id": "0972634a-6da3-481c-8d03-47af76db26d3",
   "metadata": {},
   "source": [
    "#### 常量除法"
   ]
  },
  {
   "cell_type": "code",
   "execution_count": 34,
   "id": "09cc5e1a-13f2-44a7-9542-5893257c417b",
   "metadata": {},
   "outputs": [
    {
     "data": {
      "text/plain": [
       "3.3333333333333335"
      ]
     },
     "execution_count": 34,
     "metadata": {},
     "output_type": "execute_result"
    }
   ],
   "source": [
    "10 / 3"
   ]
  },
  {
   "cell_type": "code",
   "execution_count": 35,
   "id": "eef0bf50-fe17-47ee-a5ed-c1044a6d4c2e",
   "metadata": {},
   "outputs": [
    {
     "data": {
      "text/plain": [
       "3"
      ]
     },
     "execution_count": 35,
     "metadata": {},
     "output_type": "execute_result"
    }
   ],
   "source": [
    "10 // 3\n"
   ]
  },
  {
   "cell_type": "code",
   "execution_count": 36,
   "id": "477d6c23-79e6-4250-8fc0-25ed4f226d12",
   "metadata": {},
   "outputs": [
    {
     "data": {
      "text/plain": [
       "1"
      ]
     },
     "execution_count": 36,
     "metadata": {},
     "output_type": "execute_result"
    }
   ],
   "source": [
    "10 % 3"
   ]
  },
  {
   "cell_type": "markdown",
   "id": "481c11a8-3555-468a-b240-e9304a0dce65",
   "metadata": {},
   "source": [
    "#### 练习"
   ]
  },
  {
   "cell_type": "markdown",
   "id": "d9b8c20a-c0d2-4957-b776-368a0d56d7c7",
   "metadata": {},
   "source": [
    "请打印出以下变量的值：\n",
    "\n",
    "```\n",
    "n = 123\n",
    "f = 456.789\n",
    "s1 = 'Hello, world'\n",
    "s2 = 'Hello, \\'Adam\\''\n",
    "s3 = r'Hello, \"Bart\"'\n",
    "s4 = r'''Hello,\n",
    "Lisa!'''\n",
    "\n",
    "```"
   ]
  },
  {
   "cell_type": "code",
   "execution_count": 44,
   "id": "198971d8-144e-4b43-9eee-ef4ae77c5b8f",
   "metadata": {},
   "outputs": [
    {
     "name": "stdout",
     "output_type": "stream",
     "text": [
      "n =  123\n",
      "f =  456.789\n",
      "s1 = Hello, world\n",
      "s2 =  Hello, \\'Adam\\'\n",
      "s3 =  Hello, \"Bart\"\n",
      "s4 =  Hello\n",
      "Lisa\n"
     ]
    }
   ],
   "source": [
    "print('n = ', 123)\n",
    "print('f = ', 456.789)\n",
    "print('s1 =', 'Hello, world')\n",
    "print('s2 = ', 'Hello, \\\\\\'Adam\\\\\\'')\n",
    "print('s3 = ', r'Hello, \"Bart\"')\n",
    "print('s4 = ', r'''Hello\n",
    "Lisa''')"
   ]
  },
  {
   "cell_type": "markdown",
   "id": "00ea179f-975e-49d2-9025-e177b5623f38",
   "metadata": {},
   "source": [
    "**注意：** \n",
    "Python的整数没有大小限制，而某些语言的整数根据其存储长度是有大小限制的，例如Java对32位整数的范围限制在-2147483648-2147483647。\n",
    "\n",
    "Python的浮点数也没有大小限制，但是超出一定范围就直接表示为inf（无限大）。"
   ]
  },
  {
   "cell_type": "markdown",
   "id": "70148a44-11f3-4d8b-ae3b-bad92ea23be7",
   "metadata": {},
   "source": [
    "### 字符串与编码"
   ]
  },
  {
   "cell_type": "markdown",
   "id": "3c7220a9-b816-4298-aadf-3dce12742520",
   "metadata": {},
   "source": [
    "#### 编码介绍"
   ]
  },
  {
   "cell_type": "markdown",
   "id": "5a74cf45-c99f-4799-a505-ccbb5365582a",
   "metadata": {},
   "source": [
    "|  字符   | 字节数 | 用途  |\n",
    "| ----- | :------: | :-----:|\n",
    "| ASCII | 1 | 英文 |\n",
    "| Unicode | 2 | 全球 |\n",
    "| Unicode | 4 | 生僻字 |\n",
    "| UTF-8 | 可变长（1~6） | 节省空间，方便传输 |\n",
    "\n",
    "在计算机内存中，统一使用 Unicode 编码，当需要保存到硬盘或者需要传输的时候，就转换为 UTF-8 编码。"
   ]
  },
  {
   "cell_type": "markdown",
   "id": "68a630dd-8c4f-464d-9f2b-cb9f46ab97f7",
   "metadata": {},
   "source": [
    "用记事本编辑的时候，从文件读取的UTF-8字符被转换为Unicode字符到内存里，编辑完成后，保存的时候再把Unicode转换为UTF-8保存到文件：\n",
    "\n",
    " ![](https://img.arctee.cn/picgo/202201050408940.png)\n",
    " \n",
    " 浏览网页的时候，服务器会把动态生成的Unicode内容转换为UTF-8再传输到浏览器：\n",
    " \n",
    " ![](https://img.arctee.cn/picgo/202201050409185.png)\n",
    " \n",
    " 所以你看到很多网页的源码上会有类似<meta charset=\"UTF-8\" />的信息，表示该网页正是用的UTF-8编码。"
   ]
  },
  {
   "cell_type": "markdown",
   "id": "8adfca16-01ad-43cb-bf5c-f263b10bda5c",
   "metadata": {},
   "source": [
    "#### .py 源文件开头声明 UTF-8 编码 "
   ]
  },
  {
   "cell_type": "markdown",
   "id": "ac174122-ee43-48cd-8004-81c4d2a18cbc",
   "metadata": {},
   "source": [
    "由于Python源代码也是一个文本文件，所以，当你的源代码中包含中文的时候，在保存源代码时，就需要务必指定保存为UTF-8编码。\n",
    "\n",
    "通常在文件开头写上这两行：\n",
    "\n",
    "```\n",
    "#!/usr/bin/env python3\n",
    "告诉Linux/OS X系统，这是一个Python可执行程序，Windows系统会忽略这个注释；\n",
    "\n",
    "# -*- coding: utf-8 -*-\n",
    "告诉Python解释器，按照UTF-8编码读取源代码，否则，你在源代码中写的中文输出可能会有乱码。\n",
    "```\n",
    "\n",
    "申明了UTF-8编码并不意味着你的.py文件就是UTF-8编码的，必须并且要确保文本编辑器正在使用UTF-8 without BOM编码：\n",
    "\n",
    "![](https://img.arctee.cn/picgo/202201050418214.png)\n"
   ]
  },
  {
   "cell_type": "markdown",
   "id": "01f9a9fe-335c-4d1c-87c9-63bdededd18b",
   "metadata": {},
   "source": [
    "#### 格式化输出字符串"
   ]
  },
  {
   "cell_type": "code",
   "execution_count": 54,
   "id": "bdc37ac8-57dc-47b8-800f-5f7d635307df",
   "metadata": {},
   "outputs": [
    {
     "name": "stdout",
     "output_type": "stream",
     "text": [
      "Hello, world\n",
      "12 - 34.57\n"
     ]
    }
   ],
   "source": [
    "print('Hello, %s' % 'world')\n",
    "\n",
    "print('%2d - %.2f' % (12, 34.5656))"
   ]
  },
  {
   "cell_type": "code",
   "execution_count": 55,
   "id": "1d6ea8cb-0beb-44d7-8796-f4aff1a78b99",
   "metadata": {},
   "outputs": [
    {
     "name": "stdout",
     "output_type": "stream",
     "text": [
      "The area of a circle with radius 2.5 is 15.70\n"
     ]
    }
   ],
   "source": [
    "r = 2.5\n",
    "s = 3.14 * r *2\n",
    "\n",
    "print(f'The area of a circle with radius {r} is {s:.2f}')"
   ]
  },
  {
   "cell_type": "code",
   "execution_count": 59,
   "id": "936bc0aa-4026-4430-bfff-7b618e2f1b1a",
   "metadata": {},
   "outputs": [
    {
     "name": "stdout",
     "output_type": "stream",
     "text": [
      "百分点：18.1%\n"
     ]
    }
   ],
   "source": [
    "s1 = 72\n",
    "s2 = 85\n",
    "\n",
    "print('百分点：%.1f%%' % ((s2 / s1 - 1) * 100) )"
   ]
  },
  {
   "cell_type": "markdown",
   "id": "28c81d70-75aa-4db9-a899-ec481f2a3571",
   "metadata": {},
   "source": [
    "### 使用 list 和 tuple - 有序"
   ]
  },
  {
   "cell_type": "markdown",
   "id": "fe6e5d59-4fb8-40fc-b29e-3b43e150af4a",
   "metadata": {},
   "source": [
    "#### list - 列表"
   ]
  },
  {
   "cell_type": "code",
   "execution_count": 66,
   "id": "33244ffe-8c96-4fad-b30e-22b58ca6a6ad",
   "metadata": {},
   "outputs": [
    {
     "data": {
      "text/plain": [
       "['aa', 'bb', 'cc']"
      ]
     },
     "execution_count": 66,
     "metadata": {},
     "output_type": "execute_result"
    }
   ],
   "source": [
    "classmate = ['aa', 'bb', 'cc']\n",
    "\n",
    "classmate"
   ]
  },
  {
   "cell_type": "code",
   "execution_count": 67,
   "id": "d3687cc0-b6ac-4042-b29a-7a27f2da7f84",
   "metadata": {},
   "outputs": [
    {
     "data": {
      "text/plain": [
       "3"
      ]
     },
     "execution_count": 67,
     "metadata": {},
     "output_type": "execute_result"
    }
   ],
   "source": [
    "len(classmate)"
   ]
  },
  {
   "cell_type": "code",
   "execution_count": 68,
   "id": "95cbae93-2236-427a-980d-68eecfa18cf7",
   "metadata": {},
   "outputs": [
    {
     "data": {
      "text/plain": [
       "'aa'"
      ]
     },
     "execution_count": 68,
     "metadata": {},
     "output_type": "execute_result"
    }
   ],
   "source": [
    "classmate[0]"
   ]
  },
  {
   "cell_type": "code",
   "execution_count": 69,
   "id": "74756b4f-f99e-4f9a-8a00-c430530e64d7",
   "metadata": {},
   "outputs": [
    {
     "data": {
      "text/plain": [
       "'cc'"
      ]
     },
     "execution_count": 69,
     "metadata": {},
     "output_type": "execute_result"
    }
   ],
   "source": [
    "classmate[-1]"
   ]
  },
  {
   "cell_type": "code",
   "execution_count": 70,
   "id": "d6414426-0ab9-4f45-97dc-41ee9c31e58d",
   "metadata": {},
   "outputs": [
    {
     "data": {
      "text/plain": [
       "['aa', 'bb', 'cc', 'dd']"
      ]
     },
     "execution_count": 70,
     "metadata": {},
     "output_type": "execute_result"
    }
   ],
   "source": [
    "classmate.append('dd')\n",
    "\n",
    "classmate"
   ]
  },
  {
   "cell_type": "code",
   "execution_count": 72,
   "id": "d25da259-4b76-4628-9d76-b4a33de152d2",
   "metadata": {},
   "outputs": [
    {
     "data": {
      "text/plain": [
       "['11', 'aa', 'bb', 'cc', 'dd']"
      ]
     },
     "execution_count": 72,
     "metadata": {},
     "output_type": "execute_result"
    }
   ],
   "source": [
    "classmate.insert(0, '11')\n",
    "\n",
    "classmate"
   ]
  },
  {
   "cell_type": "code",
   "execution_count": 73,
   "id": "c9583d70-d41d-4fdf-8ce4-5395cf0a6dc2",
   "metadata": {},
   "outputs": [
    {
     "data": {
      "text/plain": [
       "'dd'"
      ]
     },
     "execution_count": 73,
     "metadata": {},
     "output_type": "execute_result"
    }
   ],
   "source": [
    "classmate.pop()"
   ]
  },
  {
   "cell_type": "code",
   "execution_count": 74,
   "id": "ff422efb-123c-44e2-8fd7-7ca8a77f3bea",
   "metadata": {},
   "outputs": [
    {
     "data": {
      "text/plain": [
       "'11'"
      ]
     },
     "execution_count": 74,
     "metadata": {},
     "output_type": "execute_result"
    }
   ],
   "source": [
    "classmate.pop(0)"
   ]
  },
  {
   "cell_type": "code",
   "execution_count": 75,
   "id": "824afaed-7948-4c19-b08a-d01f15d1d087",
   "metadata": {},
   "outputs": [
    {
     "data": {
      "text/plain": [
       "['aa', 'bb', 'cc']"
      ]
     },
     "execution_count": 75,
     "metadata": {},
     "output_type": "execute_result"
    }
   ],
   "source": [
    "classmate"
   ]
  },
  {
   "cell_type": "code",
   "execution_count": 76,
   "id": "1a05042b-85c1-4283-bc57-ecde23b386e9",
   "metadata": {},
   "outputs": [
    {
     "data": {
      "text/plain": [
       "['aa', 'ff', 'cc']"
      ]
     },
     "execution_count": 76,
     "metadata": {},
     "output_type": "execute_result"
    }
   ],
   "source": [
    "classmate[1] = 'ff'\n",
    "\n",
    "classmate"
   ]
  },
  {
   "cell_type": "code",
   "execution_count": 79,
   "id": "235c3388-74cc-4028-aed6-1e5ad38fe020",
   "metadata": {},
   "outputs": [
    {
     "name": "stdout",
     "output_type": "stream",
     "text": [
      "4\n"
     ]
    },
    {
     "data": {
      "text/plain": [
       "'php'"
      ]
     },
     "execution_count": 79,
     "metadata": {},
     "output_type": "execute_result"
    }
   ],
   "source": [
    "s = ['python', 'java', ['asp', 'php'], 'c']\n",
    "\n",
    "print(len(s))\n",
    "\n",
    "s[2][1]"
   ]
  },
  {
   "cell_type": "markdown",
   "id": "4ae27241-19d3-4c5f-85e3-d411b077a1e0",
   "metadata": {
    "tags": []
   },
   "source": [
    "#### tuple - 元组\n",
    "\n",
    "tuple 和 list 非常类似，但是 tuple 一旦初始化就不能修改\n",
    "\n",
    "_增删改_ 都失效，只剩下 _查_"
   ]
  },
  {
   "cell_type": "markdown",
   "id": "d5e86161-8ca7-4d4c-b2a6-0f5922d680c4",
   "metadata": {},
   "source": [
    "不可变的 tuple 有什么意义？\n",
    "\n",
    "因为 tuple 不可变，所以代码更安全。\n",
    "\n",
    "如果可能，能用 tuple 代替 list 就尽量用 tuple。"
   ]
  },
  {
   "cell_type": "code",
   "execution_count": 80,
   "id": "534b7b18-1137-4c17-9b0b-0075edc694dc",
   "metadata": {},
   "outputs": [
    {
     "data": {
      "text/plain": [
       "('aa', 'bb', 'cc')"
      ]
     },
     "execution_count": 80,
     "metadata": {},
     "output_type": "execute_result"
    }
   ],
   "source": [
    "classmate2 = ('aa', 'bb', 'cc')\n",
    "\n",
    "classmate2"
   ]
  },
  {
   "cell_type": "code",
   "execution_count": 81,
   "id": "6796dcc4-1413-4e18-b2fc-8953c273eb86",
   "metadata": {},
   "outputs": [
    {
     "data": {
      "text/plain": [
       "'bb'"
      ]
     },
     "execution_count": 81,
     "metadata": {},
     "output_type": "execute_result"
    }
   ],
   "source": [
    "classmate2[1]"
   ]
  },
  {
   "cell_type": "markdown",
   "id": "c4ec0571-39db-4199-abc3-0a7dfaa78761",
   "metadata": {},
   "source": [
    "**注意：**只有 1 个元素的 tuple 定义时必须加一个逗号,，来消除歧义："
   ]
  },
  {
   "cell_type": "code",
   "execution_count": 82,
   "id": "a92d02bb-3a65-47b1-95ee-9742a93add91",
   "metadata": {},
   "outputs": [
    {
     "data": {
      "text/plain": [
       "(1,)"
      ]
     },
     "execution_count": 82,
     "metadata": {},
     "output_type": "execute_result"
    }
   ],
   "source": [
    "t = (1, )\n",
    "\n",
    "t"
   ]
  },
  {
   "cell_type": "markdown",
   "id": "1df50db8-897e-47a3-ad56-cefc11ce42bb",
   "metadata": {},
   "source": [
    "### 条件判断 "
   ]
  },
  {
   "cell_type": "code",
   "execution_count": 87,
   "id": "804252b9-2339-4537-b7e7-277958707353",
   "metadata": {},
   "outputs": [
    {
     "name": "stdout",
     "output_type": "stream",
     "text": [
      "kid\n"
     ]
    }
   ],
   "source": [
    "age = 2\n",
    "\n",
    "if age >= 18:\n",
    "    print('your age is', age)\n",
    "    print('adult')\n",
    "elif age >= 6:\n",
    "    print('tennager')\n",
    "else:\n",
    "    print('kid')"
   ]
  },
  {
   "cell_type": "markdown",
   "id": "f720d36d-8393-49d3-b576-3860d924d931",
   "metadata": {},
   "source": [
    "### 循环"
   ]
  },
  {
   "cell_type": "code",
   "execution_count": 100,
   "id": "f6bb7c12-b84e-47f3-bde1-25e08ca0271f",
   "metadata": {},
   "outputs": [
    {
     "name": "stdout",
     "output_type": "stream",
     "text": [
      "Hello, aa!\n",
      "Hello, bb!\n",
      "Hello, cc!\n"
     ]
    }
   ],
   "source": [
    "names = ['aa', 'bb', 'cc']\n",
    "\n",
    "for name in names:\n",
    "    print('Hello, %s!' % name)"
   ]
  },
  {
   "cell_type": "code",
   "execution_count": 90,
   "id": "b740491f-ea49-4863-bbd1-dd96cb6229b8",
   "metadata": {},
   "outputs": [
    {
     "data": {
      "text/plain": [
       "range(0, 5)"
      ]
     },
     "execution_count": 90,
     "metadata": {},
     "output_type": "execute_result"
    }
   ],
   "source": [
    "range(5)"
   ]
  },
  {
   "cell_type": "code",
   "execution_count": 91,
   "id": "1d9f7350-9c9e-44b1-b829-d9f75de04ccc",
   "metadata": {},
   "outputs": [
    {
     "data": {
      "text/plain": [
       "[0, 1, 2, 3, 4]"
      ]
     },
     "execution_count": 91,
     "metadata": {},
     "output_type": "execute_result"
    }
   ],
   "source": [
    "list(range(5))"
   ]
  },
  {
   "cell_type": "code",
   "execution_count": 96,
   "id": "b7756a28-8a04-4582-b27e-210f01bd7f02",
   "metadata": {},
   "outputs": [
    {
     "name": "stdout",
     "output_type": "stream",
     "text": [
      "5050\n"
     ]
    }
   ],
   "source": [
    "sum = 0\n",
    "for n in range(101):\n",
    "    sum +=n\n",
    "\n",
    "print(sum)"
   ]
  },
  {
   "cell_type": "code",
   "execution_count": 98,
   "id": "deee2a38-dfb8-4b05-ac9c-4932f8c78959",
   "metadata": {},
   "outputs": [
    {
     "name": "stdout",
     "output_type": "stream",
     "text": [
      "2500\n"
     ]
    }
   ],
   "source": [
    "sum = 0\n",
    "n = 99\n",
    "\n",
    "while n > 0:\n",
    "    sum += n\n",
    "    n -= 2\n",
    "\n",
    "print(sum)"
   ]
  },
  {
   "cell_type": "markdown",
   "id": "db5b2903-b73a-4770-85da-d8f3b4a5617c",
   "metadata": {},
   "source": [
    "### 使用 dict 和 set "
   ]
  },
  {
   "cell_type": "markdown",
   "id": "29e6e71f-053f-4b5b-8477-b08ba536f7bf",
   "metadata": {},
   "source": [
    "#### dict"
   ]
  },
  {
   "cell_type": "markdown",
   "id": "d704f663-afd5-4867-92d3-19e13ea42444",
   "metadata": {},
   "source": [
    "dict 全称 dictionary，在其他语言中也称为 map，使用「键-值」（key-value）存储，具有极快的查找速度。(哈希算法)"
   ]
  },
  {
   "cell_type": "code",
   "execution_count": 103,
   "id": "8080682d-d2e8-4041-9b01-5f0470596009",
   "metadata": {},
   "outputs": [
    {
     "data": {
      "text/plain": [
       "89"
      ]
     },
     "execution_count": 103,
     "metadata": {},
     "output_type": "execute_result"
    }
   ],
   "source": [
    "d = {'aa': 89, 'bb': 56, 'cc': 99}\n",
    "\n",
    "d['aa']"
   ]
  },
  {
   "cell_type": "code",
   "execution_count": 104,
   "id": "d1d6ad36-7a9d-4241-b05e-267d154b110b",
   "metadata": {},
   "outputs": [
    {
     "data": {
      "text/plain": [
       "{'aa': 89, 'bb': 56, 'cc': 99, 'dd': 90}"
      ]
     },
     "execution_count": 104,
     "metadata": {},
     "output_type": "execute_result"
    }
   ],
   "source": [
    "d['dd'] = 90\n",
    "\n",
    "d"
   ]
  },
  {
   "cell_type": "code",
   "execution_count": 105,
   "id": "92eee6d5-2528-40ff-b728-2516375bdde0",
   "metadata": {},
   "outputs": [
    {
     "data": {
      "text/plain": [
       "False"
      ]
     },
     "execution_count": 105,
     "metadata": {},
     "output_type": "execute_result"
    }
   ],
   "source": [
    "'vv' in d"
   ]
  },
  {
   "cell_type": "code",
   "execution_count": 106,
   "id": "ee1b96e2-ac04-44bd-9796-d8f531041724",
   "metadata": {},
   "outputs": [
    {
     "data": {
      "text/plain": [
       "89"
      ]
     },
     "execution_count": 106,
     "metadata": {},
     "output_type": "execute_result"
    }
   ],
   "source": [
    "d.get('aa')"
   ]
  },
  {
   "cell_type": "code",
   "execution_count": 109,
   "id": "1d447e84-486b-4bf3-bb97-707cf9f7b2a1",
   "metadata": {},
   "outputs": [
    {
     "name": "stdout",
     "output_type": "stream",
     "text": [
      "None\n"
     ]
    }
   ],
   "source": [
    "print(d.get('ff'))"
   ]
  },
  {
   "cell_type": "code",
   "execution_count": 110,
   "id": "8c1ea390-baef-49f0-a1d4-d324ca3b4aeb",
   "metadata": {},
   "outputs": [
    {
     "data": {
      "text/plain": [
       "-1"
      ]
     },
     "execution_count": 110,
     "metadata": {},
     "output_type": "execute_result"
    }
   ],
   "source": [
    "d.get('ff', -1)  # 不存在 key 时，指定返回值。否则返回 None"
   ]
  },
  {
   "cell_type": "code",
   "execution_count": 119,
   "id": "e386aa10-ee3e-4c3c-9af2-856da05fdf37",
   "metadata": {},
   "outputs": [
    {
     "data": {
      "text/plain": [
       "56"
      ]
     },
     "execution_count": 119,
     "metadata": {},
     "output_type": "execute_result"
    }
   ],
   "source": [
    "d.pop('bb')"
   ]
  },
  {
   "cell_type": "code",
   "execution_count": 120,
   "id": "a27d3254-2139-4ef1-9f0e-9fc1fa759be4",
   "metadata": {},
   "outputs": [
    {
     "data": {
      "text/plain": [
       "{'cc': 99, 'dd': 90}"
      ]
     },
     "execution_count": 120,
     "metadata": {},
     "output_type": "execute_result"
    }
   ],
   "source": [
    "d"
   ]
  },
  {
   "cell_type": "markdown",
   "id": "2ff50e42-9afe-424e-93b3-3eaf10b38c66",
   "metadata": {},
   "source": [
    "#### set"
   ]
  },
  {
   "cell_type": "code",
   "execution_count": 121,
   "id": "efc427f5-075a-4e8e-8f49-fd580ecab480",
   "metadata": {},
   "outputs": [
    {
     "data": {
      "text/plain": [
       "{1, 2, 3}"
      ]
     },
     "execution_count": 121,
     "metadata": {},
     "output_type": "execute_result"
    }
   ],
   "source": [
    "# 要创建一个 set，需要提供一个 list 作为输入集合：\n",
    "\n",
    "s = set([1, 2, 3])\n",
    "\n",
    "s"
   ]
  },
  {
   "cell_type": "code",
   "execution_count": 123,
   "id": "7f3f5e85-5bb3-4519-af11-7ed458b36ca3",
   "metadata": {},
   "outputs": [
    {
     "data": {
      "text/plain": [
       "{1, 2, 3}"
      ]
     },
     "execution_count": 123,
     "metadata": {},
     "output_type": "execute_result"
    }
   ],
   "source": [
    "s = set([1, 2, 3, 3])\n",
    "\n",
    "s"
   ]
  },
  {
   "cell_type": "code",
   "execution_count": 125,
   "id": "67a0061b-c979-4856-83f7-b5b12dbe2e57",
   "metadata": {},
   "outputs": [
    {
     "data": {
      "text/plain": [
       "{1, 2, 3, 4}"
      ]
     },
     "execution_count": 125,
     "metadata": {},
     "output_type": "execute_result"
    }
   ],
   "source": [
    "s.add(4)\n",
    "\n",
    "s"
   ]
  },
  {
   "cell_type": "code",
   "execution_count": 126,
   "id": "7ae99b95-2942-4bce-995e-795707720e7d",
   "metadata": {},
   "outputs": [
    {
     "data": {
      "text/plain": [
       "{1, 2, 3, 4}"
      ]
     },
     "execution_count": 126,
     "metadata": {},
     "output_type": "execute_result"
    }
   ],
   "source": [
    "s.add(4)\n",
    "\n",
    "s"
   ]
  },
  {
   "cell_type": "code",
   "execution_count": 129,
   "id": "96cd6df5-7947-40fe-bd82-69b8de18307a",
   "metadata": {},
   "outputs": [
    {
     "data": {
      "text/plain": [
       "{3, 4}"
      ]
     },
     "execution_count": 129,
     "metadata": {},
     "output_type": "execute_result"
    }
   ],
   "source": [
    "s.remove(1)\n",
    "\n",
    "s"
   ]
  },
  {
   "cell_type": "code",
   "execution_count": 130,
   "id": "79a3df9f-0ab5-41c1-8517-ec11c456fe12",
   "metadata": {},
   "outputs": [
    {
     "data": {
      "text/plain": [
       "{2, 3}"
      ]
     },
     "execution_count": 130,
     "metadata": {},
     "output_type": "execute_result"
    }
   ],
   "source": [
    "s1 = set([1, 2, 3])\n",
    "s2 = set([2, 3, 4])\n",
    "\n",
    "s1 & s2"
   ]
  },
  {
   "cell_type": "code",
   "execution_count": 131,
   "id": "04a569df-61d6-4557-9517-a5123f4c13ec",
   "metadata": {},
   "outputs": [
    {
     "data": {
      "text/plain": [
       "{1, 2, 3, 4}"
      ]
     },
     "execution_count": 131,
     "metadata": {},
     "output_type": "execute_result"
    }
   ],
   "source": [
    "s1 | s2"
   ]
  },
  {
   "cell_type": "markdown",
   "id": "55917de0-bccc-4392-87ed-78a6c85e94f8",
   "metadata": {},
   "source": [
    "#### 不可变对象\n",
    "\n",
    "对于不变对象来说，调用对象自身的任意方法，也不会改变该对象自身的内容。相反，这些方法会创建新的对象并返回，这样，就保证了不可变对象本身永远是不可变的。"
   ]
  },
  {
   "cell_type": "code",
   "execution_count": 132,
   "id": "0fc070eb-54d1-4930-984d-854f09309f0b",
   "metadata": {},
   "outputs": [
    {
     "data": {
      "text/plain": [
       "['a', 'b', 'c']"
      ]
     },
     "execution_count": 132,
     "metadata": {},
     "output_type": "execute_result"
    }
   ],
   "source": [
    "# 可变对象 list\n",
    "\n",
    "a = ['c', 'a', 'b']\n",
    "a.sort()\n",
    "\n",
    "a"
   ]
  },
  {
   "cell_type": "code",
   "execution_count": 133,
   "id": "745dd7c8-3d34-4561-b91d-3fb0ebad9432",
   "metadata": {},
   "outputs": [
    {
     "data": {
      "text/plain": [
       "'aBC'"
      ]
     },
     "execution_count": 133,
     "metadata": {},
     "output_type": "execute_result"
    }
   ],
   "source": [
    "# 不可变对象 str\n",
    "\n",
    "s = 'aBC'\n",
    "s.replace('a', 'A')\n",
    "\n",
    "s"
   ]
  },
  {
   "cell_type": "code",
   "execution_count": 134,
   "id": "202686bc-6211-409d-a0ae-76d2788076bd",
   "metadata": {},
   "outputs": [
    {
     "data": {
      "text/plain": [
       "'ABC'"
      ]
     },
     "execution_count": 134,
     "metadata": {},
     "output_type": "execute_result"
    }
   ],
   "source": [
    "s2 = s.replace('a', 'A')\n",
    "\n",
    "s2"
   ]
  },
  {
   "cell_type": "markdown",
   "id": "38b849ff-cd79-4e9b-a37f-2195d7bebc65",
   "metadata": {},
   "source": [
    "## 三、函数"
   ]
  },
  {
   "cell_type": "markdown",
   "id": "2594b44a-c35a-44c2-8cc3-80e5fee9e487",
   "metadata": {},
   "source": [
    "### 调用函数"
   ]
  },
  {
   "cell_type": "code",
   "execution_count": 137,
   "id": "64c3d060-5d7f-4f55-a883-f1af137bdc3e",
   "metadata": {},
   "outputs": [
    {
     "data": {
      "text/plain": [
       "1"
      ]
     },
     "execution_count": 137,
     "metadata": {},
     "output_type": "execute_result"
    }
   ],
   "source": [
    "# 函数名其实就是指向一个函数对象的引用，完全可以把函数名赋给一个变量，相当于给这个函数起了一个“别名”：\n",
    "\n",
    "a = abs\n",
    "\n",
    "a(-1)"
   ]
  },
  {
   "cell_type": "markdown",
   "id": "28e03a8d-d6d1-487d-82d1-0be1002430f4",
   "metadata": {},
   "source": [
    "### 定义函数"
   ]
  },
  {
   "cell_type": "code",
   "execution_count": 138,
   "id": "cf80f7f9-e2ba-43ab-8560-2bb191cd3a77",
   "metadata": {},
   "outputs": [
    {
     "name": "stdout",
     "output_type": "stream",
     "text": [
      "3\n"
     ]
    }
   ],
   "source": [
    "def my_abs(x):\n",
    "    if x >= 0:\n",
    "        return x\n",
    "    else:\n",
    "        return -x\n",
    "\n",
    "print(my_abs(-3))"
   ]
  },
  {
   "cell_type": "code",
   "execution_count": 139,
   "id": "df4ec2a5-a10b-47f1-af91-2e40d5fa0b3f",
   "metadata": {},
   "outputs": [],
   "source": [
    "def nop():\n",
    "    pass"
   ]
  },
  {
   "cell_type": "markdown",
   "id": "2ba6fed5-c7bb-4dfa-ac7b-f10f14e8b861",
   "metadata": {},
   "source": [
    "pass 语句什么都不做，那有什么用？实际上 pass 可以用来作为占位符，比如现在还没想好怎么写函数的代码，就可以先放一个 pass，让代码能运行起来。"
   ]
  },
  {
   "cell_type": "markdown",
   "id": "6f638c31-1c47-4b05-bffb-8567a20adaf8",
   "metadata": {},
   "source": [
    "#### 参数检查"
   ]
  },
  {
   "cell_type": "code",
   "execution_count": 140,
   "id": "eecd1d7f-6502-48df-ab72-17c931f46bbe",
   "metadata": {},
   "outputs": [
    {
     "ename": "TypeError",
     "evalue": "my_abs() takes 1 positional argument but 2 were given",
     "output_type": "error",
     "traceback": [
      "\u001b[1;31m---------------------------------------------------------------------------\u001b[0m",
      "\u001b[1;31mTypeError\u001b[0m                                 Traceback (most recent call last)",
      "\u001b[1;32m~\\AppData\\Local\\Temp/ipykernel_69184/825369421.py\u001b[0m in \u001b[0;36m<module>\u001b[1;34m\u001b[0m\n\u001b[1;32m----> 1\u001b[1;33m \u001b[0mmy_abs\u001b[0m\u001b[1;33m(\u001b[0m\u001b[1;36m1\u001b[0m\u001b[1;33m,\u001b[0m \u001b[1;33m-\u001b[0m\u001b[1;36m2\u001b[0m\u001b[1;33m)\u001b[0m\u001b[1;33m\u001b[0m\u001b[1;33m\u001b[0m\u001b[0m\n\u001b[0m",
      "\u001b[1;31mTypeError\u001b[0m: my_abs() takes 1 positional argument but 2 were given"
     ]
    }
   ],
   "source": [
    "my_abs(1, -2)"
   ]
  },
  {
   "cell_type": "markdown",
   "id": "1faae9b4-c7a3-4444-8309-e95a85a87706",
   "metadata": {},
   "source": [
    "以上参数数量不对，python 解释器会自动检查出来 TypeError 错误。但是如果参数类型不对，解释器就无法检查出了："
   ]
  },
  {
   "cell_type": "code",
   "execution_count": 142,
   "id": "18f29522-c61a-43fd-bd5d-5945d3438ae6",
   "metadata": {},
   "outputs": [
    {
     "ename": "TypeError",
     "evalue": "'>=' not supported between instances of 'str' and 'int'",
     "output_type": "error",
     "traceback": [
      "\u001b[1;31m---------------------------------------------------------------------------\u001b[0m",
      "\u001b[1;31mTypeError\u001b[0m                                 Traceback (most recent call last)",
      "\u001b[1;32m~\\AppData\\Local\\Temp/ipykernel_69184/888016181.py\u001b[0m in \u001b[0;36m<module>\u001b[1;34m\u001b[0m\n\u001b[1;32m----> 1\u001b[1;33m \u001b[0mmy_abs\u001b[0m\u001b[1;33m(\u001b[0m\u001b[1;34m'as'\u001b[0m\u001b[1;33m)\u001b[0m\u001b[1;33m\u001b[0m\u001b[1;33m\u001b[0m\u001b[0m\n\u001b[0m",
      "\u001b[1;32m~\\AppData\\Local\\Temp/ipykernel_69184/2311290822.py\u001b[0m in \u001b[0;36mmy_abs\u001b[1;34m(x)\u001b[0m\n\u001b[0;32m      1\u001b[0m \u001b[1;32mdef\u001b[0m \u001b[0mmy_abs\u001b[0m\u001b[1;33m(\u001b[0m\u001b[0mx\u001b[0m\u001b[1;33m)\u001b[0m\u001b[1;33m:\u001b[0m\u001b[1;33m\u001b[0m\u001b[1;33m\u001b[0m\u001b[0m\n\u001b[1;32m----> 2\u001b[1;33m     \u001b[1;32mif\u001b[0m \u001b[0mx\u001b[0m \u001b[1;33m>=\u001b[0m \u001b[1;36m0\u001b[0m\u001b[1;33m:\u001b[0m\u001b[1;33m\u001b[0m\u001b[1;33m\u001b[0m\u001b[0m\n\u001b[0m\u001b[0;32m      3\u001b[0m         \u001b[1;32mreturn\u001b[0m \u001b[0mx\u001b[0m\u001b[1;33m\u001b[0m\u001b[1;33m\u001b[0m\u001b[0m\n\u001b[0;32m      4\u001b[0m     \u001b[1;32melse\u001b[0m\u001b[1;33m:\u001b[0m\u001b[1;33m\u001b[0m\u001b[1;33m\u001b[0m\u001b[0m\n\u001b[0;32m      5\u001b[0m         \u001b[1;32mreturn\u001b[0m \u001b[1;33m-\u001b[0m\u001b[0mx\u001b[0m\u001b[1;33m\u001b[0m\u001b[1;33m\u001b[0m\u001b[0m\n",
      "\u001b[1;31mTypeError\u001b[0m: '>=' not supported between instances of 'str' and 'int'"
     ]
    }
   ],
   "source": [
    "my_abs('as')"
   ]
  },
  {
   "cell_type": "code",
   "execution_count": 143,
   "id": "120ce420-37d4-4b6e-9e64-c43a59db22e6",
   "metadata": {},
   "outputs": [
    {
     "ename": "TypeError",
     "evalue": "bad operand type for abs(): 'str'",
     "output_type": "error",
     "traceback": [
      "\u001b[1;31m---------------------------------------------------------------------------\u001b[0m",
      "\u001b[1;31mTypeError\u001b[0m                                 Traceback (most recent call last)",
      "\u001b[1;32m~\\AppData\\Local\\Temp/ipykernel_69184/3829370880.py\u001b[0m in \u001b[0;36m<module>\u001b[1;34m\u001b[0m\n\u001b[1;32m----> 1\u001b[1;33m \u001b[0mabs\u001b[0m\u001b[1;33m(\u001b[0m\u001b[1;34m'ab'\u001b[0m\u001b[1;33m)\u001b[0m\u001b[1;33m\u001b[0m\u001b[1;33m\u001b[0m\u001b[0m\n\u001b[0m",
      "\u001b[1;31mTypeError\u001b[0m: bad operand type for abs(): 'str'"
     ]
    }
   ],
   "source": [
    "abs('ab')"
   ]
  },
  {
   "cell_type": "markdown",
   "id": "633c50af-ac53-4729-8a29-baa09acdb2f7",
   "metadata": {},
   "source": [
    "当传入了不恰当的参数时，内置函数 abs 会检查出参数错误，而我们定义的my_abs 没有参数检查，会导致 if 语句出错，出错信息和 abs 不一样。所以，这个函数定义不够完善。"
   ]
  },
  {
   "cell_type": "code",
   "execution_count": 147,
   "id": "655e5734-c6c0-499a-adfe-ad01b88d3a14",
   "metadata": {},
   "outputs": [],
   "source": [
    "def my_abs2(x):\n",
    "    if not isinstance(x, (int, float)):\n",
    "        raise TypeError('bad operand type')  # 抛出异常\n",
    "    if x >= 0:\n",
    "        return x\n",
    "    else:\n",
    "        return -x"
   ]
  },
  {
   "cell_type": "code",
   "execution_count": 146,
   "id": "db361790-2824-4e51-adf3-c40c9bbd4fbd",
   "metadata": {},
   "outputs": [
    {
     "ename": "TypeError",
     "evalue": "bad operand type",
     "output_type": "error",
     "traceback": [
      "\u001b[1;31m---------------------------------------------------------------------------\u001b[0m",
      "\u001b[1;31mTypeError\u001b[0m                                 Traceback (most recent call last)",
      "\u001b[1;32m~\\AppData\\Local\\Temp/ipykernel_69184/3184412580.py\u001b[0m in \u001b[0;36m<module>\u001b[1;34m\u001b[0m\n\u001b[1;32m----> 1\u001b[1;33m \u001b[0mmy_abs2\u001b[0m\u001b[1;33m(\u001b[0m\u001b[1;34m'as'\u001b[0m\u001b[1;33m)\u001b[0m\u001b[1;33m\u001b[0m\u001b[1;33m\u001b[0m\u001b[0m\n\u001b[0m",
      "\u001b[1;32m~\\AppData\\Local\\Temp/ipykernel_69184/2595695054.py\u001b[0m in \u001b[0;36mmy_abs2\u001b[1;34m(x)\u001b[0m\n\u001b[0;32m      1\u001b[0m \u001b[1;32mdef\u001b[0m \u001b[0mmy_abs2\u001b[0m\u001b[1;33m(\u001b[0m\u001b[0mx\u001b[0m\u001b[1;33m)\u001b[0m\u001b[1;33m:\u001b[0m\u001b[1;33m\u001b[0m\u001b[1;33m\u001b[0m\u001b[0m\n\u001b[0;32m      2\u001b[0m     \u001b[1;32mif\u001b[0m \u001b[1;32mnot\u001b[0m \u001b[0misinstance\u001b[0m\u001b[1;33m(\u001b[0m\u001b[0mx\u001b[0m\u001b[1;33m,\u001b[0m \u001b[1;33m(\u001b[0m\u001b[0mint\u001b[0m\u001b[1;33m,\u001b[0m \u001b[0mfloat\u001b[0m\u001b[1;33m)\u001b[0m\u001b[1;33m)\u001b[0m\u001b[1;33m:\u001b[0m\u001b[1;33m\u001b[0m\u001b[1;33m\u001b[0m\u001b[0m\n\u001b[1;32m----> 3\u001b[1;33m         \u001b[1;32mraise\u001b[0m \u001b[0mTypeError\u001b[0m\u001b[1;33m(\u001b[0m\u001b[1;34m'bad operand type'\u001b[0m\u001b[1;33m)\u001b[0m\u001b[1;33m\u001b[0m\u001b[1;33m\u001b[0m\u001b[0m\n\u001b[0m\u001b[0;32m      4\u001b[0m     \u001b[1;32mif\u001b[0m \u001b[0mx\u001b[0m \u001b[1;33m>=\u001b[0m \u001b[1;36m0\u001b[0m\u001b[1;33m:\u001b[0m\u001b[1;33m\u001b[0m\u001b[1;33m\u001b[0m\u001b[0m\n\u001b[0;32m      5\u001b[0m         \u001b[1;32mreturn\u001b[0m \u001b[0mx\u001b[0m\u001b[1;33m\u001b[0m\u001b[1;33m\u001b[0m\u001b[0m\n",
      "\u001b[1;31mTypeError\u001b[0m: bad operand type"
     ]
    }
   ],
   "source": [
    "my_abs2('as')"
   ]
  },
  {
   "cell_type": "code",
   "execution_count": 152,
   "id": "f7537c22-6147-4fec-9c71-8fb42430eaa6",
   "metadata": {},
   "outputs": [],
   "source": [
    "import math \n",
    "\n",
    "def move(x, y, step, angle=0):\n",
    "    nx = x + step * math.cos(angle)\n",
    "    ny = x + step * math.sin(angle)\n",
    "    return nx, ny"
   ]
  },
  {
   "cell_type": "code",
   "execution_count": 154,
   "id": "c356416e-cb7e-4c4e-8b99-5f3323778271",
   "metadata": {},
   "outputs": [
    {
     "name": "stdout",
     "output_type": "stream",
     "text": [
      "14.330127018922195 12.5\n"
     ]
    }
   ],
   "source": [
    "x, y = move(10, 10, 5, math.pi / 6)\n",
    "\n",
    "print(x, y)"
   ]
  },
  {
   "cell_type": "code",
   "execution_count": 155,
   "id": "9a3305f6-9a2b-451c-bd88-6d954b63f704",
   "metadata": {},
   "outputs": [
    {
     "name": "stdout",
     "output_type": "stream",
     "text": [
      "(14.330127018922195, 12.5)\n"
     ]
    }
   ],
   "source": [
    "r = move(10, 10, 5 , math.pi / 6)\n",
    "\n",
    "print(r)"
   ]
  },
  {
   "cell_type": "markdown",
   "id": "8d807679-e0a7-4f02-814f-b138ac23145e",
   "metadata": {},
   "source": [
    "Python 的函数返回多值其实就是返回一个 tuple 在语法上，返回一个 tuple 可以省略括号，"
   ]
  },
  {
   "cell_type": "code",
   "execution_count": null,
   "id": "f8ef56f3-73ac-47f3-8a04-775b72e4da0c",
   "metadata": {},
   "outputs": [],
   "source": [
    "import math\n",
    "\n",
    "def quadratic(a, b, c):\n",
    "    # x = math.pow((b * b - 4 * a *c), 0.5)\n",
    "    x = math.sqrt(b * b - 4 * a * c)\n",
    "    x1 = (-b + x) / 2 / a\n",
    "    x2 = (-b - x) /2/ a\n",
    "    return x1, x2"
   ]
  },
  {
   "cell_type": "markdown",
   "id": "18ffca47-180e-4b86-b0f0-8dafa688bf84",
   "metadata": {},
   "source": [
    "### 函数的参数"
   ]
  },
  {
   "cell_type": "markdown",
   "id": "7aa624f6-dabd-400a-8093-1af6c0bb7a7a",
   "metadata": {},
   "source": [
    "#### 默认参数"
   ]
  },
  {
   "cell_type": "code",
   "execution_count": 157,
   "id": "3f040faf-79bd-49ed-a8f7-5e1d0d629ca3",
   "metadata": {},
   "outputs": [],
   "source": [
    "def enroll(name, gender, age=6, city='hz'):\n",
    "    print('name:', name)\n",
    "    print('gender', gender)\n",
    "    print('age', age)\n",
    "    print('city', city)"
   ]
  },
  {
   "cell_type": "code",
   "execution_count": 158,
   "id": "a4539721-3963-44c5-80f6-b958f0d3eb50",
   "metadata": {},
   "outputs": [
    {
     "name": "stdout",
     "output_type": "stream",
     "text": [
      "name: aa\n",
      "gender F\n",
      "age 6\n",
      "city hz\n"
     ]
    }
   ],
   "source": [
    "enroll('aa', 'F')"
   ]
  },
  {
   "cell_type": "markdown",
   "id": "f0749268-c801-4ff7-a573-2ba7e101248f",
   "metadata": {},
   "source": [
    "#### 可变参数 "
   ]
  },
  {
   "cell_type": "markdown",
   "id": "0b52be0b-d2c3-4f3c-8c78-cf38bb1cc753",
   "metadata": {},
   "source": [
    "可变参数允许你传入 0 个或任意个参数，这些可变参数在函数调用时自动组装为一个 tuple。"
   ]
  },
  {
   "cell_type": "code",
   "execution_count": 159,
   "id": "9a1553c6-b197-4857-a4a4-23a70fd75d4f",
   "metadata": {},
   "outputs": [],
   "source": [
    "def calc(*numbers):\n",
    "    sum = 0\n",
    "    for n in numbers:\n",
    "        sum += n\n",
    "    return sum"
   ]
  },
  {
   "cell_type": "code",
   "execution_count": 160,
   "id": "0c1acc72-532b-46b8-8e36-989e8f6e915d",
   "metadata": {},
   "outputs": [
    {
     "data": {
      "text/plain": [
       "7"
      ]
     },
     "execution_count": 160,
     "metadata": {},
     "output_type": "execute_result"
    }
   ],
   "source": [
    "calc(1, 2, 4)"
   ]
  },
  {
   "cell_type": "code",
   "execution_count": 162,
   "id": "3b357be6-fe78-49a7-b59f-7eae521d6455",
   "metadata": {},
   "outputs": [
    {
     "data": {
      "text/plain": [
       "4"
      ]
     },
     "execution_count": 162,
     "metadata": {},
     "output_type": "execute_result"
    }
   ],
   "source": [
    "calc(4)"
   ]
  },
  {
   "cell_type": "markdown",
   "id": "a208bbcc-6328-4315-9c99-1c7584384a52",
   "metadata": {},
   "source": [
    "Python 允许你在 list 或 tuple 前面加一个 *号，把 list 或 tuple 的元素变成可变参数传进去"
   ]
  },
  {
   "cell_type": "code",
   "execution_count": 163,
   "id": "5816c955-5fcc-4dfe-9a22-62359f3f6b72",
   "metadata": {},
   "outputs": [
    {
     "data": {
      "text/plain": [
       "8"
      ]
     },
     "execution_count": 163,
     "metadata": {},
     "output_type": "execute_result"
    }
   ],
   "source": [
    "nums = [1, 3, 4]\n",
    "\n",
    "calc(*nums)"
   ]
  },
  {
   "cell_type": "markdown",
   "id": "5eb5c325-eeac-422f-85fd-557f37e42c6e",
   "metadata": {},
   "source": [
    "*nums 表示把 nums 这个 list 的所有元素作为可变参数传进去。这种写法相当有用，而且很常见。"
   ]
  },
  {
   "cell_type": "markdown",
   "id": "34d35dc6-06c5-4c2c-8685-d4036614d4de",
   "metadata": {},
   "source": [
    "#### 关键字参数"
   ]
  },
  {
   "cell_type": "code",
   "execution_count": null,
   "id": "942ed894-4e72-4e44-8e9f-49ea8c539df9",
   "metadata": {},
   "outputs": [],
   "source": []
  }
 ],
 "metadata": {
  "kernelspec": {
   "display_name": "Python 3 (ipykernel)",
   "language": "python",
   "name": "python3"
  },
  "language_info": {
   "codemirror_mode": {
    "name": "ipython",
    "version": 3
   },
   "file_extension": ".py",
   "mimetype": "text/x-python",
   "name": "python",
   "nbconvert_exporter": "python",
   "pygments_lexer": "ipython3",
   "version": "3.9.7"
  },
  "widgets": {
   "application/vnd.jupyter.widget-state+json": {
    "state": {},
    "version_major": 2,
    "version_minor": 0
   }
  }
 },
 "nbformat": 4,
 "nbformat_minor": 5
}
