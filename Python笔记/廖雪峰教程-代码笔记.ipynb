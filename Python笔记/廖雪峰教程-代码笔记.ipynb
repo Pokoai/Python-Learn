{
 "cells": [
  {
   "cell_type": "markdown",
   "id": "6a432f8c-9157-4367-acaa-7ce5902004c4",
   "metadata": {
    "tags": []
   },
   "source": [
    "## 一、第一个 Python 程序"
   ]
  },
  {
   "cell_type": "markdown",
   "id": "a250c581-9ba3-42ff-82ef-63628fc8a5b4",
   "metadata": {
    "tags": []
   },
   "source": [
    "### 输入输出"
   ]
  },
  {
   "cell_type": "code",
   "execution_count": 2,
   "id": "eb57177c-148a-4ea3-854a-feb29cd8fff5",
   "metadata": {},
   "outputs": [
    {
     "name": "stdout",
     "output_type": "stream",
     "text": [
      "100 + 200 =  300\n"
     ]
    }
   ],
   "source": [
    "print('100 + 200 = ', 100 + 200)"
   ]
  },
  {
   "cell_type": "code",
   "execution_count": 4,
   "id": "ee66a066-cc81-46c1-b303-001271e425c0",
   "metadata": {},
   "outputs": [
    {
     "name": "stdin",
     "output_type": "stream",
     "text": [
      "输入姓名 古月\n"
     ]
    },
    {
     "name": "stdout",
     "output_type": "stream",
     "text": [
      "你输入的是:古月\n"
     ]
    }
   ],
   "source": [
    "name = input('输入姓名')\n",
    "\n",
    "print('你输入的是:' + name)"
   ]
  },
  {
   "cell_type": "code",
   "execution_count": 5,
   "id": "ee3bafe5-9eb5-488a-b615-ef540be05a3b",
   "metadata": {},
   "outputs": [
    {
     "data": {
      "text/plain": [
       "'古月'"
      ]
     },
     "execution_count": 5,
     "metadata": {},
     "output_type": "execute_result"
    }
   ],
   "source": [
    "name"
   ]
  },
  {
   "cell_type": "code",
   "execution_count": 6,
   "id": "39240661-254c-4e53-9350-525a5e2e6ee9",
   "metadata": {},
   "outputs": [
    {
     "name": "stdout",
     "output_type": "stream",
     "text": [
      "1024 * 768 = 786432\n"
     ]
    }
   ],
   "source": [
    "print('1024 * 768 =', 1024 * 768)"
   ]
  },
  {
   "cell_type": "markdown",
   "id": "1d7d6ca4-7a80-4b4a-8781-c8bd653f68aa",
   "metadata": {},
   "source": [
    "#### 禁止转义"
   ]
  },
  {
   "cell_type": "code",
   "execution_count": 11,
   "id": "7c9409a7-a90b-44e8-ad0e-15e622811909",
   "metadata": {},
   "outputs": [
    {
     "name": "stdout",
     "output_type": "stream",
     "text": [
      "\\\t\\\n"
     ]
    }
   ],
   "source": [
    "print('\\\\\\t\\\\')"
   ]
  },
  {
   "cell_type": "code",
   "execution_count": 12,
   "id": "4ea6a318-1403-4e74-bba3-ac53f324df2a",
   "metadata": {},
   "outputs": [
    {
     "name": "stdout",
     "output_type": "stream",
     "text": [
      "\\\\\\t\\\\\n"
     ]
    }
   ],
   "source": [
    "print(r'\\\\\\t\\\\')"
   ]
  },
  {
   "cell_type": "markdown",
   "id": "0bf993c4-779d-4b1b-8ab9-901372060483",
   "metadata": {},
   "source": [
    "#### 换行"
   ]
  },
  {
   "cell_type": "code",
   "execution_count": 14,
   "id": "64c8a07a-de96-41bc-86d8-b683f0492d02",
   "metadata": {},
   "outputs": [
    {
     "name": "stdout",
     "output_type": "stream",
     "text": [
      "line1\n",
      "line2\n",
      "line3\n"
     ]
    }
   ],
   "source": [
    "print('line1\\nline2\\nline3')"
   ]
  },
  {
   "cell_type": "code",
   "execution_count": 19,
   "id": "31df7f02-7804-4a8c-98d3-67df26d854f0",
   "metadata": {},
   "outputs": [
    {
     "name": "stdout",
     "output_type": "stream",
     "text": [
      "line1\n",
      "line2\n",
      "line3\n"
     ]
    }
   ],
   "source": [
    "print('''line1\n",
    "line2\n",
    "line3''')"
   ]
  },
  {
   "cell_type": "code",
   "execution_count": 88,
   "id": "ff2c23c3-e201-428e-bd53-c7013bb67a62",
   "metadata": {},
   "outputs": [
    {
     "name": "stdin",
     "output_type": "stream",
     "text": [
      "birth:  18\n"
     ]
    },
    {
     "data": {
      "text/plain": [
       "18"
      ]
     },
     "execution_count": 88,
     "metadata": {},
     "output_type": "execute_result"
    }
   ],
   "source": [
    "birth = int(input('birth: '))\n",
    "\n",
    "birth"
   ]
  },
  {
   "cell_type": "markdown",
   "id": "4ae00416-953c-4397-8edf-8c147cfbf990",
   "metadata": {},
   "source": [
    "## 二、Python 基础"
   ]
  },
  {
   "cell_type": "markdown",
   "id": "31309c4c-7156-48b5-be4f-a0b4d73da68a",
   "metadata": {},
   "source": [
    "### 数据类型和变量"
   ]
  },
  {
   "cell_type": "markdown",
   "id": "b6e4f3ac-630f-4e84-8697-53b238840041",
   "metadata": {},
   "source": [
    "#### 布尔值"
   ]
  },
  {
   "cell_type": "code",
   "execution_count": 20,
   "id": "7089bf8b-c292-4857-9e7f-3faf6be94667",
   "metadata": {},
   "outputs": [
    {
     "data": {
      "text/plain": [
       "False"
      ]
     },
     "execution_count": 20,
     "metadata": {},
     "output_type": "execute_result"
    }
   ],
   "source": [
    "True and False"
   ]
  },
  {
   "cell_type": "code",
   "execution_count": 21,
   "id": "d2919306-4c25-44cf-9170-7e6de48267d2",
   "metadata": {},
   "outputs": [
    {
     "data": {
      "text/plain": [
       "True"
      ]
     },
     "execution_count": 21,
     "metadata": {},
     "output_type": "execute_result"
    }
   ],
   "source": [
    "True or False"
   ]
  },
  {
   "cell_type": "code",
   "execution_count": 22,
   "id": "90326c09-64b1-436b-8c89-e43568ff8595",
   "metadata": {},
   "outputs": [
    {
     "data": {
      "text/plain": [
       "True"
      ]
     },
     "execution_count": 22,
     "metadata": {},
     "output_type": "execute_result"
    }
   ],
   "source": [
    "not False"
   ]
  },
  {
   "cell_type": "markdown",
   "id": "8876209a-5485-4cd3-8798-d703a106324b",
   "metadata": {},
   "source": [
    "#### 变量"
   ]
  },
  {
   "cell_type": "markdown",
   "id": "9a55cb66-a80f-428f-a138-a7da7f3369a4",
   "metadata": {},
   "source": [
    "- 变量可以改变类型 -> python 为动态语言："
   ]
  },
  {
   "cell_type": "code",
   "execution_count": 25,
   "id": "99d0bc54-e518-47c3-b7f7-c8be91f1e580",
   "metadata": {},
   "outputs": [
    {
     "name": "stdout",
     "output_type": "stream",
     "text": [
      "123\n",
      "ABC\n",
      "True\n"
     ]
    }
   ],
   "source": [
    "a =  123\n",
    "print(a)\n",
    "\n",
    "a = 'ABC'\n",
    "print(a)\n",
    "\n",
    "a = True\n",
    "print(a)"
   ]
  },
  {
   "cell_type": "markdown",
   "id": "21eb9140-6924-4261-9f9d-5ac44d524fdb",
   "metadata": {},
   "source": [
    "- 变量在内存中的表示："
   ]
  },
  {
   "cell_type": "code",
   "execution_count": 31,
   "id": "079f9829-fbdf-44e7-afc1-7e38997c12e3",
   "metadata": {},
   "outputs": [
    {
     "name": "stdout",
     "output_type": "stream",
     "text": [
      "XYZ ABC\n"
     ]
    }
   ],
   "source": [
    "a = 'ABC'\n",
    "\n",
    "b = a\n",
    "\n",
    "a = 'XYZ'\n",
    "\n",
    "print(a, b)"
   ]
  },
  {
   "cell_type": "markdown",
   "id": "0972634a-6da3-481c-8d03-47af76db26d3",
   "metadata": {},
   "source": [
    "#### 常量除法"
   ]
  },
  {
   "cell_type": "code",
   "execution_count": 34,
   "id": "09cc5e1a-13f2-44a7-9542-5893257c417b",
   "metadata": {},
   "outputs": [
    {
     "data": {
      "text/plain": [
       "3.3333333333333335"
      ]
     },
     "execution_count": 34,
     "metadata": {},
     "output_type": "execute_result"
    }
   ],
   "source": [
    "10 / 3"
   ]
  },
  {
   "cell_type": "code",
   "execution_count": 35,
   "id": "eef0bf50-fe17-47ee-a5ed-c1044a6d4c2e",
   "metadata": {},
   "outputs": [
    {
     "data": {
      "text/plain": [
       "3"
      ]
     },
     "execution_count": 35,
     "metadata": {},
     "output_type": "execute_result"
    }
   ],
   "source": [
    "10 // 3\n"
   ]
  },
  {
   "cell_type": "code",
   "execution_count": 36,
   "id": "477d6c23-79e6-4250-8fc0-25ed4f226d12",
   "metadata": {},
   "outputs": [
    {
     "data": {
      "text/plain": [
       "1"
      ]
     },
     "execution_count": 36,
     "metadata": {},
     "output_type": "execute_result"
    }
   ],
   "source": [
    "10 % 3"
   ]
  },
  {
   "cell_type": "markdown",
   "id": "481c11a8-3555-468a-b240-e9304a0dce65",
   "metadata": {},
   "source": [
    "#### 练习"
   ]
  },
  {
   "cell_type": "markdown",
   "id": "d9b8c20a-c0d2-4957-b776-368a0d56d7c7",
   "metadata": {},
   "source": [
    "请打印出以下变量的值：\n",
    "\n",
    "```\n",
    "n = 123\n",
    "f = 456.789\n",
    "s1 = 'Hello, world'\n",
    "s2 = 'Hello, \\'Adam\\''\n",
    "s3 = r'Hello, \"Bart\"'\n",
    "s4 = r'''Hello,\n",
    "Lisa!'''\n",
    "\n",
    "```"
   ]
  },
  {
   "cell_type": "code",
   "execution_count": 44,
   "id": "198971d8-144e-4b43-9eee-ef4ae77c5b8f",
   "metadata": {},
   "outputs": [
    {
     "name": "stdout",
     "output_type": "stream",
     "text": [
      "n =  123\n",
      "f =  456.789\n",
      "s1 = Hello, world\n",
      "s2 =  Hello, \\'Adam\\'\n",
      "s3 =  Hello, \"Bart\"\n",
      "s4 =  Hello\n",
      "Lisa\n"
     ]
    }
   ],
   "source": [
    "print('n = ', 123)\n",
    "print('f = ', 456.789)\n",
    "print('s1 =', 'Hello, world')\n",
    "print('s2 = ', 'Hello, \\\\\\'Adam\\\\\\'')\n",
    "print('s3 = ', r'Hello, \"Bart\"')\n",
    "print('s4 = ', r'''Hello\n",
    "Lisa''')"
   ]
  },
  {
   "cell_type": "markdown",
   "id": "00ea179f-975e-49d2-9025-e177b5623f38",
   "metadata": {},
   "source": [
    "**注意：** \n",
    "Python的整数没有大小限制，而某些语言的整数根据其存储长度是有大小限制的，例如Java对32位整数的范围限制在-2147483648-2147483647。\n",
    "\n",
    "Python的浮点数也没有大小限制，但是超出一定范围就直接表示为inf（无限大）。"
   ]
  },
  {
   "cell_type": "markdown",
   "id": "70148a44-11f3-4d8b-ae3b-bad92ea23be7",
   "metadata": {},
   "source": [
    "### 字符串与编码"
   ]
  },
  {
   "cell_type": "markdown",
   "id": "3c7220a9-b816-4298-aadf-3dce12742520",
   "metadata": {},
   "source": [
    "#### 编码介绍"
   ]
  },
  {
   "cell_type": "markdown",
   "id": "5a74cf45-c99f-4799-a505-ccbb5365582a",
   "metadata": {},
   "source": [
    "|  字符   | 字节数 | 用途  |\n",
    "| ----- | :------: | :-----:|\n",
    "| ASCII | 1 | 英文 |\n",
    "| Unicode | 2 | 全球 |\n",
    "| Unicode | 4 | 生僻字 |\n",
    "| UTF-8 | 可变长（1~6） | 节省空间，方便传输 |\n",
    "\n",
    "在计算机内存中，统一使用 Unicode 编码，当需要保存到硬盘或者需要传输的时候，就转换为 UTF-8 编码。"
   ]
  },
  {
   "cell_type": "markdown",
   "id": "68a630dd-8c4f-464d-9f2b-cb9f46ab97f7",
   "metadata": {},
   "source": [
    "用记事本编辑的时候，从文件读取的UTF-8字符被转换为Unicode字符到内存里，编辑完成后，保存的时候再把Unicode转换为UTF-8保存到文件：\n",
    "\n",
    " ![](https://img.arctee.cn/picgo/202201050408940.png)\n",
    " \n",
    " 浏览网页的时候，服务器会把动态生成的Unicode内容转换为UTF-8再传输到浏览器：\n",
    " \n",
    " ![](https://img.arctee.cn/picgo/202201050409185.png)\n",
    " \n",
    " 所以你看到很多网页的源码上会有类似<meta charset=\"UTF-8\" />的信息，表示该网页正是用的UTF-8编码。"
   ]
  },
  {
   "cell_type": "markdown",
   "id": "8adfca16-01ad-43cb-bf5c-f263b10bda5c",
   "metadata": {},
   "source": [
    "#### .py 源文件开头声明 UTF-8 编码 "
   ]
  },
  {
   "cell_type": "markdown",
   "id": "ac174122-ee43-48cd-8004-81c4d2a18cbc",
   "metadata": {},
   "source": [
    "由于Python源代码也是一个文本文件，所以，当你的源代码中包含中文的时候，在保存源代码时，就需要务必指定保存为UTF-8编码。\n",
    "\n",
    "通常在文件开头写上这两行：\n",
    "\n",
    "```\n",
    "#!/usr/bin/env python3\n",
    "告诉Linux/OS X系统，这是一个Python可执行程序，Windows系统会忽略这个注释；\n",
    "\n",
    "# -*- coding: utf-8 -*-\n",
    "告诉Python解释器，按照UTF-8编码读取源代码，否则，你在源代码中写的中文输出可能会有乱码。\n",
    "```\n",
    "\n",
    "申明了UTF-8编码并不意味着你的.py文件就是UTF-8编码的，必须并且要确保文本编辑器正在使用UTF-8 without BOM编码：\n",
    "\n",
    "![](https://img.arctee.cn/picgo/202201050418214.png)\n"
   ]
  },
  {
   "cell_type": "markdown",
   "id": "01f9a9fe-335c-4d1c-87c9-63bdededd18b",
   "metadata": {},
   "source": [
    "#### 格式化输出字符串"
   ]
  },
  {
   "cell_type": "code",
   "execution_count": 54,
   "id": "bdc37ac8-57dc-47b8-800f-5f7d635307df",
   "metadata": {},
   "outputs": [
    {
     "name": "stdout",
     "output_type": "stream",
     "text": [
      "Hello, world\n",
      "12 - 34.57\n"
     ]
    }
   ],
   "source": [
    "print('Hello, %s' % 'world')\n",
    "\n",
    "print('%2d - %.2f' % (12, 34.5656))"
   ]
  },
  {
   "cell_type": "code",
   "execution_count": 55,
   "id": "1d6ea8cb-0beb-44d7-8796-f4aff1a78b99",
   "metadata": {},
   "outputs": [
    {
     "name": "stdout",
     "output_type": "stream",
     "text": [
      "The area of a circle with radius 2.5 is 15.70\n"
     ]
    }
   ],
   "source": [
    "r = 2.5\n",
    "s = 3.14 * r *2\n",
    "\n",
    "print(f'The area of a circle with radius {r} is {s:.2f}')"
   ]
  },
  {
   "cell_type": "code",
   "execution_count": 59,
   "id": "936bc0aa-4026-4430-bfff-7b618e2f1b1a",
   "metadata": {},
   "outputs": [
    {
     "name": "stdout",
     "output_type": "stream",
     "text": [
      "百分点：18.1%\n"
     ]
    }
   ],
   "source": [
    "s1 = 72\n",
    "s2 = 85\n",
    "\n",
    "print('百分点：%.1f%%' % ((s2 / s1 - 1) * 100) )"
   ]
  },
  {
   "cell_type": "markdown",
   "id": "28c81d70-75aa-4db9-a899-ec481f2a3571",
   "metadata": {},
   "source": [
    "### 使用 list 和 tuple - 有序"
   ]
  },
  {
   "cell_type": "markdown",
   "id": "fe6e5d59-4fb8-40fc-b29e-3b43e150af4a",
   "metadata": {},
   "source": [
    "#### list - 列表"
   ]
  },
  {
   "cell_type": "code",
   "execution_count": 66,
   "id": "33244ffe-8c96-4fad-b30e-22b58ca6a6ad",
   "metadata": {},
   "outputs": [
    {
     "data": {
      "text/plain": [
       "['aa', 'bb', 'cc']"
      ]
     },
     "execution_count": 66,
     "metadata": {},
     "output_type": "execute_result"
    }
   ],
   "source": [
    "classmate = ['aa', 'bb', 'cc']\n",
    "\n",
    "classmate"
   ]
  },
  {
   "cell_type": "code",
   "execution_count": 67,
   "id": "d3687cc0-b6ac-4042-b29a-7a27f2da7f84",
   "metadata": {},
   "outputs": [
    {
     "data": {
      "text/plain": [
       "3"
      ]
     },
     "execution_count": 67,
     "metadata": {},
     "output_type": "execute_result"
    }
   ],
   "source": [
    "len(classmate)"
   ]
  },
  {
   "cell_type": "code",
   "execution_count": 68,
   "id": "95cbae93-2236-427a-980d-68eecfa18cf7",
   "metadata": {},
   "outputs": [
    {
     "data": {
      "text/plain": [
       "'aa'"
      ]
     },
     "execution_count": 68,
     "metadata": {},
     "output_type": "execute_result"
    }
   ],
   "source": [
    "classmate[0]"
   ]
  },
  {
   "cell_type": "code",
   "execution_count": 69,
   "id": "74756b4f-f99e-4f9a-8a00-c430530e64d7",
   "metadata": {},
   "outputs": [
    {
     "data": {
      "text/plain": [
       "'cc'"
      ]
     },
     "execution_count": 69,
     "metadata": {},
     "output_type": "execute_result"
    }
   ],
   "source": [
    "classmate[-1]"
   ]
  },
  {
   "cell_type": "code",
   "execution_count": 70,
   "id": "d6414426-0ab9-4f45-97dc-41ee9c31e58d",
   "metadata": {},
   "outputs": [
    {
     "data": {
      "text/plain": [
       "['aa', 'bb', 'cc', 'dd']"
      ]
     },
     "execution_count": 70,
     "metadata": {},
     "output_type": "execute_result"
    }
   ],
   "source": [
    "classmate.append('dd')\n",
    "\n",
    "classmate"
   ]
  },
  {
   "cell_type": "code",
   "execution_count": 72,
   "id": "d25da259-4b76-4628-9d76-b4a33de152d2",
   "metadata": {},
   "outputs": [
    {
     "data": {
      "text/plain": [
       "['11', 'aa', 'bb', 'cc', 'dd']"
      ]
     },
     "execution_count": 72,
     "metadata": {},
     "output_type": "execute_result"
    }
   ],
   "source": [
    "classmate.insert(0, '11')\n",
    "\n",
    "classmate"
   ]
  },
  {
   "cell_type": "code",
   "execution_count": 73,
   "id": "c9583d70-d41d-4fdf-8ce4-5395cf0a6dc2",
   "metadata": {},
   "outputs": [
    {
     "data": {
      "text/plain": [
       "'dd'"
      ]
     },
     "execution_count": 73,
     "metadata": {},
     "output_type": "execute_result"
    }
   ],
   "source": [
    "classmate.pop()"
   ]
  },
  {
   "cell_type": "code",
   "execution_count": 74,
   "id": "ff422efb-123c-44e2-8fd7-7ca8a77f3bea",
   "metadata": {},
   "outputs": [
    {
     "data": {
      "text/plain": [
       "'11'"
      ]
     },
     "execution_count": 74,
     "metadata": {},
     "output_type": "execute_result"
    }
   ],
   "source": [
    "classmate.pop(0)"
   ]
  },
  {
   "cell_type": "code",
   "execution_count": 75,
   "id": "824afaed-7948-4c19-b08a-d01f15d1d087",
   "metadata": {},
   "outputs": [
    {
     "data": {
      "text/plain": [
       "['aa', 'bb', 'cc']"
      ]
     },
     "execution_count": 75,
     "metadata": {},
     "output_type": "execute_result"
    }
   ],
   "source": [
    "classmate"
   ]
  },
  {
   "cell_type": "code",
   "execution_count": 76,
   "id": "1a05042b-85c1-4283-bc57-ecde23b386e9",
   "metadata": {},
   "outputs": [
    {
     "data": {
      "text/plain": [
       "['aa', 'ff', 'cc']"
      ]
     },
     "execution_count": 76,
     "metadata": {},
     "output_type": "execute_result"
    }
   ],
   "source": [
    "classmate[1] = 'ff'\n",
    "\n",
    "classmate"
   ]
  },
  {
   "cell_type": "code",
   "execution_count": 79,
   "id": "235c3388-74cc-4028-aed6-1e5ad38fe020",
   "metadata": {},
   "outputs": [
    {
     "name": "stdout",
     "output_type": "stream",
     "text": [
      "4\n"
     ]
    },
    {
     "data": {
      "text/plain": [
       "'php'"
      ]
     },
     "execution_count": 79,
     "metadata": {},
     "output_type": "execute_result"
    }
   ],
   "source": [
    "s = ['python', 'java', ['asp', 'php'], 'c']\n",
    "\n",
    "print(len(s))\n",
    "\n",
    "s[2][1]"
   ]
  },
  {
   "cell_type": "markdown",
   "id": "4ae27241-19d3-4c5f-85e3-d411b077a1e0",
   "metadata": {
    "tags": []
   },
   "source": [
    "#### tuple - 元组\n",
    "\n",
    "tuple 和 list 非常类似，但是 tuple 一旦初始化就不能修改\n",
    "\n",
    "_增删改_ 都失效，只剩下 _查_"
   ]
  },
  {
   "cell_type": "markdown",
   "id": "d5e86161-8ca7-4d4c-b2a6-0f5922d680c4",
   "metadata": {},
   "source": [
    "不可变的 tuple 有什么意义？\n",
    "\n",
    "因为 tuple 不可变，所以代码更安全。\n",
    "\n",
    "如果可能，能用 tuple 代替 list 就尽量用 tuple。"
   ]
  },
  {
   "cell_type": "code",
   "execution_count": 80,
   "id": "534b7b18-1137-4c17-9b0b-0075edc694dc",
   "metadata": {},
   "outputs": [
    {
     "data": {
      "text/plain": [
       "('aa', 'bb', 'cc')"
      ]
     },
     "execution_count": 80,
     "metadata": {},
     "output_type": "execute_result"
    }
   ],
   "source": [
    "classmate2 = ('aa', 'bb', 'cc')\n",
    "\n",
    "classmate2"
   ]
  },
  {
   "cell_type": "code",
   "execution_count": 81,
   "id": "6796dcc4-1413-4e18-b2fc-8953c273eb86",
   "metadata": {},
   "outputs": [
    {
     "data": {
      "text/plain": [
       "'bb'"
      ]
     },
     "execution_count": 81,
     "metadata": {},
     "output_type": "execute_result"
    }
   ],
   "source": [
    "classmate2[1]"
   ]
  },
  {
   "cell_type": "markdown",
   "id": "c4ec0571-39db-4199-abc3-0a7dfaa78761",
   "metadata": {},
   "source": [
    "**注意：**只有 1 个元素的 tuple 定义时必须加一个逗号,，来消除歧义："
   ]
  },
  {
   "cell_type": "code",
   "execution_count": 82,
   "id": "a92d02bb-3a65-47b1-95ee-9742a93add91",
   "metadata": {},
   "outputs": [
    {
     "data": {
      "text/plain": [
       "(1,)"
      ]
     },
     "execution_count": 82,
     "metadata": {},
     "output_type": "execute_result"
    }
   ],
   "source": [
    "t = (1, )\n",
    "\n",
    "t"
   ]
  },
  {
   "cell_type": "markdown",
   "id": "1df50db8-897e-47a3-ad56-cefc11ce42bb",
   "metadata": {},
   "source": [
    "### 条件判断 "
   ]
  },
  {
   "cell_type": "code",
   "execution_count": 87,
   "id": "804252b9-2339-4537-b7e7-277958707353",
   "metadata": {},
   "outputs": [
    {
     "name": "stdout",
     "output_type": "stream",
     "text": [
      "kid\n"
     ]
    }
   ],
   "source": [
    "age = 2\n",
    "\n",
    "if age >= 18:\n",
    "    print('your age is', age)\n",
    "    print('adult')\n",
    "elif age >= 6:\n",
    "    print('tennager')\n",
    "else:\n",
    "    print('kid')"
   ]
  },
  {
   "cell_type": "markdown",
   "id": "f720d36d-8393-49d3-b576-3860d924d931",
   "metadata": {},
   "source": [
    "### 循环"
   ]
  },
  {
   "cell_type": "code",
   "execution_count": 100,
   "id": "f6bb7c12-b84e-47f3-bde1-25e08ca0271f",
   "metadata": {},
   "outputs": [
    {
     "name": "stdout",
     "output_type": "stream",
     "text": [
      "Hello, aa!\n",
      "Hello, bb!\n",
      "Hello, cc!\n"
     ]
    }
   ],
   "source": [
    "names = ['aa', 'bb', 'cc']\n",
    "\n",
    "for name in names:\n",
    "    print('Hello, %s!' % name)"
   ]
  },
  {
   "cell_type": "code",
   "execution_count": 90,
   "id": "b740491f-ea49-4863-bbd1-dd96cb6229b8",
   "metadata": {},
   "outputs": [
    {
     "data": {
      "text/plain": [
       "range(0, 5)"
      ]
     },
     "execution_count": 90,
     "metadata": {},
     "output_type": "execute_result"
    }
   ],
   "source": [
    "range(5)"
   ]
  },
  {
   "cell_type": "code",
   "execution_count": 91,
   "id": "1d9f7350-9c9e-44b1-b829-d9f75de04ccc",
   "metadata": {},
   "outputs": [
    {
     "data": {
      "text/plain": [
       "[0, 1, 2, 3, 4]"
      ]
     },
     "execution_count": 91,
     "metadata": {},
     "output_type": "execute_result"
    }
   ],
   "source": [
    "list(range(5))"
   ]
  },
  {
   "cell_type": "code",
   "execution_count": 96,
   "id": "b7756a28-8a04-4582-b27e-210f01bd7f02",
   "metadata": {},
   "outputs": [
    {
     "name": "stdout",
     "output_type": "stream",
     "text": [
      "5050\n"
     ]
    }
   ],
   "source": [
    "sum = 0\n",
    "for n in range(101):\n",
    "    sum +=n\n",
    "\n",
    "print(sum)"
   ]
  },
  {
   "cell_type": "code",
   "execution_count": 98,
   "id": "deee2a38-dfb8-4b05-ac9c-4932f8c78959",
   "metadata": {},
   "outputs": [
    {
     "name": "stdout",
     "output_type": "stream",
     "text": [
      "2500\n"
     ]
    }
   ],
   "source": [
    "sum = 0\n",
    "n = 99\n",
    "\n",
    "while n > 0:\n",
    "    sum += n\n",
    "    n -= 2\n",
    "\n",
    "print(sum)"
   ]
  },
  {
   "cell_type": "markdown",
   "id": "db5b2903-b73a-4770-85da-d8f3b4a5617c",
   "metadata": {},
   "source": [
    "### 使用 dict 和 set "
   ]
  },
  {
   "cell_type": "markdown",
   "id": "29e6e71f-053f-4b5b-8477-b08ba536f7bf",
   "metadata": {},
   "source": [
    "#### dict"
   ]
  },
  {
   "cell_type": "markdown",
   "id": "d704f663-afd5-4867-92d3-19e13ea42444",
   "metadata": {},
   "source": [
    "dict 全称 dictionary，在其他语言中也称为 map，使用「键-值」（key-value）存储，具有极快的查找速度。(哈希算法)"
   ]
  },
  {
   "cell_type": "code",
   "execution_count": 103,
   "id": "8080682d-d2e8-4041-9b01-5f0470596009",
   "metadata": {},
   "outputs": [
    {
     "data": {
      "text/plain": [
       "89"
      ]
     },
     "execution_count": 103,
     "metadata": {},
     "output_type": "execute_result"
    }
   ],
   "source": [
    "d = {'aa': 89, 'bb': 56, 'cc': 99}\n",
    "\n",
    "d['aa']"
   ]
  },
  {
   "cell_type": "code",
   "execution_count": 104,
   "id": "d1d6ad36-7a9d-4241-b05e-267d154b110b",
   "metadata": {},
   "outputs": [
    {
     "data": {
      "text/plain": [
       "{'aa': 89, 'bb': 56, 'cc': 99, 'dd': 90}"
      ]
     },
     "execution_count": 104,
     "metadata": {},
     "output_type": "execute_result"
    }
   ],
   "source": [
    "d['dd'] = 90\n",
    "\n",
    "d"
   ]
  },
  {
   "cell_type": "code",
   "execution_count": 105,
   "id": "92eee6d5-2528-40ff-b728-2516375bdde0",
   "metadata": {},
   "outputs": [
    {
     "data": {
      "text/plain": [
       "False"
      ]
     },
     "execution_count": 105,
     "metadata": {},
     "output_type": "execute_result"
    }
   ],
   "source": [
    "'vv' in d"
   ]
  },
  {
   "cell_type": "code",
   "execution_count": 106,
   "id": "ee1b96e2-ac04-44bd-9796-d8f531041724",
   "metadata": {},
   "outputs": [
    {
     "data": {
      "text/plain": [
       "89"
      ]
     },
     "execution_count": 106,
     "metadata": {},
     "output_type": "execute_result"
    }
   ],
   "source": [
    "d.get('aa')"
   ]
  },
  {
   "cell_type": "code",
   "execution_count": 109,
   "id": "1d447e84-486b-4bf3-bb97-707cf9f7b2a1",
   "metadata": {},
   "outputs": [
    {
     "name": "stdout",
     "output_type": "stream",
     "text": [
      "None\n"
     ]
    }
   ],
   "source": [
    "print(d.get('ff'))"
   ]
  },
  {
   "cell_type": "code",
   "execution_count": 110,
   "id": "8c1ea390-baef-49f0-a1d4-d324ca3b4aeb",
   "metadata": {},
   "outputs": [
    {
     "data": {
      "text/plain": [
       "-1"
      ]
     },
     "execution_count": 110,
     "metadata": {},
     "output_type": "execute_result"
    }
   ],
   "source": [
    "d.get('ff', -1)  # 不存在 key 时，指定返回值。否则返回 None"
   ]
  },
  {
   "cell_type": "code",
   "execution_count": 119,
   "id": "e386aa10-ee3e-4c3c-9af2-856da05fdf37",
   "metadata": {},
   "outputs": [
    {
     "data": {
      "text/plain": [
       "56"
      ]
     },
     "execution_count": 119,
     "metadata": {},
     "output_type": "execute_result"
    }
   ],
   "source": [
    "d.pop('bb')"
   ]
  },
  {
   "cell_type": "code",
   "execution_count": 120,
   "id": "a27d3254-2139-4ef1-9f0e-9fc1fa759be4",
   "metadata": {},
   "outputs": [
    {
     "data": {
      "text/plain": [
       "{'cc': 99, 'dd': 90}"
      ]
     },
     "execution_count": 120,
     "metadata": {},
     "output_type": "execute_result"
    }
   ],
   "source": [
    "d"
   ]
  },
  {
   "cell_type": "markdown",
   "id": "2ff50e42-9afe-424e-93b3-3eaf10b38c66",
   "metadata": {},
   "source": [
    "#### set"
   ]
  },
  {
   "cell_type": "code",
   "execution_count": 121,
   "id": "efc427f5-075a-4e8e-8f49-fd580ecab480",
   "metadata": {},
   "outputs": [
    {
     "data": {
      "text/plain": [
       "{1, 2, 3}"
      ]
     },
     "execution_count": 121,
     "metadata": {},
     "output_type": "execute_result"
    }
   ],
   "source": [
    "# 要创建一个 set，需要提供一个 list 作为输入集合：\n",
    "\n",
    "s = set([1, 2, 3])\n",
    "\n",
    "s"
   ]
  },
  {
   "cell_type": "code",
   "execution_count": 123,
   "id": "7f3f5e85-5bb3-4519-af11-7ed458b36ca3",
   "metadata": {},
   "outputs": [
    {
     "data": {
      "text/plain": [
       "{1, 2, 3}"
      ]
     },
     "execution_count": 123,
     "metadata": {},
     "output_type": "execute_result"
    }
   ],
   "source": [
    "s = set([1, 2, 3, 3])\n",
    "\n",
    "s"
   ]
  },
  {
   "cell_type": "code",
   "execution_count": 125,
   "id": "67a0061b-c979-4856-83f7-b5b12dbe2e57",
   "metadata": {},
   "outputs": [
    {
     "data": {
      "text/plain": [
       "{1, 2, 3, 4}"
      ]
     },
     "execution_count": 125,
     "metadata": {},
     "output_type": "execute_result"
    }
   ],
   "source": [
    "s.add(4)\n",
    "\n",
    "s"
   ]
  },
  {
   "cell_type": "code",
   "execution_count": 126,
   "id": "7ae99b95-2942-4bce-995e-795707720e7d",
   "metadata": {},
   "outputs": [
    {
     "data": {
      "text/plain": [
       "{1, 2, 3, 4}"
      ]
     },
     "execution_count": 126,
     "metadata": {},
     "output_type": "execute_result"
    }
   ],
   "source": [
    "s.add(4)\n",
    "\n",
    "s"
   ]
  },
  {
   "cell_type": "code",
   "execution_count": 129,
   "id": "96cd6df5-7947-40fe-bd82-69b8de18307a",
   "metadata": {},
   "outputs": [
    {
     "data": {
      "text/plain": [
       "{3, 4}"
      ]
     },
     "execution_count": 129,
     "metadata": {},
     "output_type": "execute_result"
    }
   ],
   "source": [
    "s.remove(1)\n",
    "\n",
    "s"
   ]
  },
  {
   "cell_type": "code",
   "execution_count": 130,
   "id": "79a3df9f-0ab5-41c1-8517-ec11c456fe12",
   "metadata": {},
   "outputs": [
    {
     "data": {
      "text/plain": [
       "{2, 3}"
      ]
     },
     "execution_count": 130,
     "metadata": {},
     "output_type": "execute_result"
    }
   ],
   "source": [
    "s1 = set([1, 2, 3])\n",
    "s2 = set([2, 3, 4])\n",
    "\n",
    "s1 & s2"
   ]
  },
  {
   "cell_type": "code",
   "execution_count": 131,
   "id": "04a569df-61d6-4557-9517-a5123f4c13ec",
   "metadata": {},
   "outputs": [
    {
     "data": {
      "text/plain": [
       "{1, 2, 3, 4}"
      ]
     },
     "execution_count": 131,
     "metadata": {},
     "output_type": "execute_result"
    }
   ],
   "source": [
    "s1 | s2"
   ]
  },
  {
   "cell_type": "markdown",
   "id": "55917de0-bccc-4392-87ed-78a6c85e94f8",
   "metadata": {},
   "source": [
    "#### 不可变对象\n",
    "\n",
    "对于不变对象来说，调用对象自身的任意方法，也不会改变该对象自身的内容。相反，这些方法会创建新的对象并返回，这样，就保证了不可变对象本身永远是不可变的。"
   ]
  },
  {
   "cell_type": "code",
   "execution_count": 132,
   "id": "0fc070eb-54d1-4930-984d-854f09309f0b",
   "metadata": {},
   "outputs": [
    {
     "data": {
      "text/plain": [
       "['a', 'b', 'c']"
      ]
     },
     "execution_count": 132,
     "metadata": {},
     "output_type": "execute_result"
    }
   ],
   "source": [
    "# 可变对象 list\n",
    "\n",
    "a = ['c', 'a', 'b']\n",
    "a.sort()\n",
    "\n",
    "a"
   ]
  },
  {
   "cell_type": "code",
   "execution_count": 133,
   "id": "745dd7c8-3d34-4561-b91d-3fb0ebad9432",
   "metadata": {},
   "outputs": [
    {
     "data": {
      "text/plain": [
       "'aBC'"
      ]
     },
     "execution_count": 133,
     "metadata": {},
     "output_type": "execute_result"
    }
   ],
   "source": [
    "# 不可变对象 str\n",
    "\n",
    "s = 'aBC'\n",
    "s.replace('a', 'A')\n",
    "\n",
    "s"
   ]
  },
  {
   "cell_type": "code",
   "execution_count": 134,
   "id": "202686bc-6211-409d-a0ae-76d2788076bd",
   "metadata": {},
   "outputs": [
    {
     "data": {
      "text/plain": [
       "'ABC'"
      ]
     },
     "execution_count": 134,
     "metadata": {},
     "output_type": "execute_result"
    }
   ],
   "source": [
    "s2 = s.replace('a', 'A')\n",
    "\n",
    "s2"
   ]
  },
  {
   "cell_type": "markdown",
   "id": "38b849ff-cd79-4e9b-a37f-2195d7bebc65",
   "metadata": {},
   "source": [
    "## 三、函数"
   ]
  },
  {
   "cell_type": "markdown",
   "id": "2594b44a-c35a-44c2-8cc3-80e5fee9e487",
   "metadata": {},
   "source": [
    "### 调用函数"
   ]
  },
  {
   "cell_type": "code",
   "execution_count": 137,
   "id": "64c3d060-5d7f-4f55-a883-f1af137bdc3e",
   "metadata": {},
   "outputs": [
    {
     "data": {
      "text/plain": [
       "1"
      ]
     },
     "execution_count": 137,
     "metadata": {},
     "output_type": "execute_result"
    }
   ],
   "source": [
    "# 函数名其实就是指向一个函数对象的引用，完全可以把函数名赋给一个变量，相当于给这个函数起了一个“别名”：\n",
    "\n",
    "a = abs\n",
    "\n",
    "a(-1)"
   ]
  },
  {
   "cell_type": "markdown",
   "id": "28e03a8d-d6d1-487d-82d1-0be1002430f4",
   "metadata": {},
   "source": [
    "### 定义函数"
   ]
  },
  {
   "cell_type": "code",
   "execution_count": 138,
   "id": "cf80f7f9-e2ba-43ab-8560-2bb191cd3a77",
   "metadata": {},
   "outputs": [
    {
     "name": "stdout",
     "output_type": "stream",
     "text": [
      "3\n"
     ]
    }
   ],
   "source": [
    "def my_abs(x):\n",
    "    if x >= 0:\n",
    "        return x\n",
    "    else:\n",
    "        return -x\n",
    "\n",
    "print(my_abs(-3))"
   ]
  },
  {
   "cell_type": "code",
   "execution_count": 139,
   "id": "df4ec2a5-a10b-47f1-af91-2e40d5fa0b3f",
   "metadata": {},
   "outputs": [],
   "source": [
    "def nop():\n",
    "    pass"
   ]
  },
  {
   "cell_type": "markdown",
   "id": "2ba6fed5-c7bb-4dfa-ac7b-f10f14e8b861",
   "metadata": {},
   "source": [
    "pass 语句什么都不做，那有什么用？实际上 pass 可以用来作为占位符，比如现在还没想好怎么写函数的代码，就可以先放一个 pass，让代码能运行起来。"
   ]
  },
  {
   "cell_type": "markdown",
   "id": "6f638c31-1c47-4b05-bffb-8567a20adaf8",
   "metadata": {},
   "source": [
    "#### 参数检查"
   ]
  },
  {
   "cell_type": "code",
   "execution_count": 140,
   "id": "eecd1d7f-6502-48df-ab72-17c931f46bbe",
   "metadata": {},
   "outputs": [
    {
     "ename": "TypeError",
     "evalue": "my_abs() takes 1 positional argument but 2 were given",
     "output_type": "error",
     "traceback": [
      "\u001b[1;31m---------------------------------------------------------------------------\u001b[0m",
      "\u001b[1;31mTypeError\u001b[0m                                 Traceback (most recent call last)",
      "\u001b[1;32m~\\AppData\\Local\\Temp/ipykernel_69184/825369421.py\u001b[0m in \u001b[0;36m<module>\u001b[1;34m\u001b[0m\n\u001b[1;32m----> 1\u001b[1;33m \u001b[0mmy_abs\u001b[0m\u001b[1;33m(\u001b[0m\u001b[1;36m1\u001b[0m\u001b[1;33m,\u001b[0m \u001b[1;33m-\u001b[0m\u001b[1;36m2\u001b[0m\u001b[1;33m)\u001b[0m\u001b[1;33m\u001b[0m\u001b[1;33m\u001b[0m\u001b[0m\n\u001b[0m",
      "\u001b[1;31mTypeError\u001b[0m: my_abs() takes 1 positional argument but 2 were given"
     ]
    }
   ],
   "source": [
    "my_abs(1, -2)"
   ]
  },
  {
   "cell_type": "markdown",
   "id": "1faae9b4-c7a3-4444-8309-e95a85a87706",
   "metadata": {},
   "source": [
    "以上参数数量不对，python 解释器会自动检查出来 TypeError 错误。但是如果参数类型不对，解释器就无法检查出了："
   ]
  },
  {
   "cell_type": "code",
   "execution_count": 142,
   "id": "18f29522-c61a-43fd-bd5d-5945d3438ae6",
   "metadata": {},
   "outputs": [
    {
     "ename": "TypeError",
     "evalue": "'>=' not supported between instances of 'str' and 'int'",
     "output_type": "error",
     "traceback": [
      "\u001b[1;31m---------------------------------------------------------------------------\u001b[0m",
      "\u001b[1;31mTypeError\u001b[0m                                 Traceback (most recent call last)",
      "\u001b[1;32m~\\AppData\\Local\\Temp/ipykernel_69184/888016181.py\u001b[0m in \u001b[0;36m<module>\u001b[1;34m\u001b[0m\n\u001b[1;32m----> 1\u001b[1;33m \u001b[0mmy_abs\u001b[0m\u001b[1;33m(\u001b[0m\u001b[1;34m'as'\u001b[0m\u001b[1;33m)\u001b[0m\u001b[1;33m\u001b[0m\u001b[1;33m\u001b[0m\u001b[0m\n\u001b[0m",
      "\u001b[1;32m~\\AppData\\Local\\Temp/ipykernel_69184/2311290822.py\u001b[0m in \u001b[0;36mmy_abs\u001b[1;34m(x)\u001b[0m\n\u001b[0;32m      1\u001b[0m \u001b[1;32mdef\u001b[0m \u001b[0mmy_abs\u001b[0m\u001b[1;33m(\u001b[0m\u001b[0mx\u001b[0m\u001b[1;33m)\u001b[0m\u001b[1;33m:\u001b[0m\u001b[1;33m\u001b[0m\u001b[1;33m\u001b[0m\u001b[0m\n\u001b[1;32m----> 2\u001b[1;33m     \u001b[1;32mif\u001b[0m \u001b[0mx\u001b[0m \u001b[1;33m>=\u001b[0m \u001b[1;36m0\u001b[0m\u001b[1;33m:\u001b[0m\u001b[1;33m\u001b[0m\u001b[1;33m\u001b[0m\u001b[0m\n\u001b[0m\u001b[0;32m      3\u001b[0m         \u001b[1;32mreturn\u001b[0m \u001b[0mx\u001b[0m\u001b[1;33m\u001b[0m\u001b[1;33m\u001b[0m\u001b[0m\n\u001b[0;32m      4\u001b[0m     \u001b[1;32melse\u001b[0m\u001b[1;33m:\u001b[0m\u001b[1;33m\u001b[0m\u001b[1;33m\u001b[0m\u001b[0m\n\u001b[0;32m      5\u001b[0m         \u001b[1;32mreturn\u001b[0m \u001b[1;33m-\u001b[0m\u001b[0mx\u001b[0m\u001b[1;33m\u001b[0m\u001b[1;33m\u001b[0m\u001b[0m\n",
      "\u001b[1;31mTypeError\u001b[0m: '>=' not supported between instances of 'str' and 'int'"
     ]
    }
   ],
   "source": [
    "my_abs('as')"
   ]
  },
  {
   "cell_type": "code",
   "execution_count": 143,
   "id": "120ce420-37d4-4b6e-9e64-c43a59db22e6",
   "metadata": {},
   "outputs": [
    {
     "ename": "TypeError",
     "evalue": "bad operand type for abs(): 'str'",
     "output_type": "error",
     "traceback": [
      "\u001b[1;31m---------------------------------------------------------------------------\u001b[0m",
      "\u001b[1;31mTypeError\u001b[0m                                 Traceback (most recent call last)",
      "\u001b[1;32m~\\AppData\\Local\\Temp/ipykernel_69184/3829370880.py\u001b[0m in \u001b[0;36m<module>\u001b[1;34m\u001b[0m\n\u001b[1;32m----> 1\u001b[1;33m \u001b[0mabs\u001b[0m\u001b[1;33m(\u001b[0m\u001b[1;34m'ab'\u001b[0m\u001b[1;33m)\u001b[0m\u001b[1;33m\u001b[0m\u001b[1;33m\u001b[0m\u001b[0m\n\u001b[0m",
      "\u001b[1;31mTypeError\u001b[0m: bad operand type for abs(): 'str'"
     ]
    }
   ],
   "source": [
    "abs('ab')"
   ]
  },
  {
   "cell_type": "markdown",
   "id": "633c50af-ac53-4729-8a29-baa09acdb2f7",
   "metadata": {},
   "source": [
    "当传入了不恰当的参数时，内置函数 abs 会检查出参数错误，而我们定义的my_abs 没有参数检查，会导致 if 语句出错，出错信息和 abs 不一样。所以，这个函数定义不够完善。"
   ]
  },
  {
   "cell_type": "code",
   "execution_count": 147,
   "id": "655e5734-c6c0-499a-adfe-ad01b88d3a14",
   "metadata": {},
   "outputs": [],
   "source": [
    "def my_abs2(x):\n",
    "    if not isinstance(x, (int, float)):\n",
    "        raise TypeError('bad operand type')  # 抛出异常\n",
    "    if x >= 0:\n",
    "        return x\n",
    "    else:\n",
    "        return -x"
   ]
  },
  {
   "cell_type": "code",
   "execution_count": 146,
   "id": "db361790-2824-4e51-adf3-c40c9bbd4fbd",
   "metadata": {},
   "outputs": [
    {
     "ename": "TypeError",
     "evalue": "bad operand type",
     "output_type": "error",
     "traceback": [
      "\u001b[1;31m---------------------------------------------------------------------------\u001b[0m",
      "\u001b[1;31mTypeError\u001b[0m                                 Traceback (most recent call last)",
      "\u001b[1;32m~\\AppData\\Local\\Temp/ipykernel_69184/3184412580.py\u001b[0m in \u001b[0;36m<module>\u001b[1;34m\u001b[0m\n\u001b[1;32m----> 1\u001b[1;33m \u001b[0mmy_abs2\u001b[0m\u001b[1;33m(\u001b[0m\u001b[1;34m'as'\u001b[0m\u001b[1;33m)\u001b[0m\u001b[1;33m\u001b[0m\u001b[1;33m\u001b[0m\u001b[0m\n\u001b[0m",
      "\u001b[1;32m~\\AppData\\Local\\Temp/ipykernel_69184/2595695054.py\u001b[0m in \u001b[0;36mmy_abs2\u001b[1;34m(x)\u001b[0m\n\u001b[0;32m      1\u001b[0m \u001b[1;32mdef\u001b[0m \u001b[0mmy_abs2\u001b[0m\u001b[1;33m(\u001b[0m\u001b[0mx\u001b[0m\u001b[1;33m)\u001b[0m\u001b[1;33m:\u001b[0m\u001b[1;33m\u001b[0m\u001b[1;33m\u001b[0m\u001b[0m\n\u001b[0;32m      2\u001b[0m     \u001b[1;32mif\u001b[0m \u001b[1;32mnot\u001b[0m \u001b[0misinstance\u001b[0m\u001b[1;33m(\u001b[0m\u001b[0mx\u001b[0m\u001b[1;33m,\u001b[0m \u001b[1;33m(\u001b[0m\u001b[0mint\u001b[0m\u001b[1;33m,\u001b[0m \u001b[0mfloat\u001b[0m\u001b[1;33m)\u001b[0m\u001b[1;33m)\u001b[0m\u001b[1;33m:\u001b[0m\u001b[1;33m\u001b[0m\u001b[1;33m\u001b[0m\u001b[0m\n\u001b[1;32m----> 3\u001b[1;33m         \u001b[1;32mraise\u001b[0m \u001b[0mTypeError\u001b[0m\u001b[1;33m(\u001b[0m\u001b[1;34m'bad operand type'\u001b[0m\u001b[1;33m)\u001b[0m\u001b[1;33m\u001b[0m\u001b[1;33m\u001b[0m\u001b[0m\n\u001b[0m\u001b[0;32m      4\u001b[0m     \u001b[1;32mif\u001b[0m \u001b[0mx\u001b[0m \u001b[1;33m>=\u001b[0m \u001b[1;36m0\u001b[0m\u001b[1;33m:\u001b[0m\u001b[1;33m\u001b[0m\u001b[1;33m\u001b[0m\u001b[0m\n\u001b[0;32m      5\u001b[0m         \u001b[1;32mreturn\u001b[0m \u001b[0mx\u001b[0m\u001b[1;33m\u001b[0m\u001b[1;33m\u001b[0m\u001b[0m\n",
      "\u001b[1;31mTypeError\u001b[0m: bad operand type"
     ]
    }
   ],
   "source": [
    "my_abs2('as')"
   ]
  },
  {
   "cell_type": "code",
   "execution_count": 152,
   "id": "f7537c22-6147-4fec-9c71-8fb42430eaa6",
   "metadata": {},
   "outputs": [],
   "source": [
    "import math \n",
    "\n",
    "def move(x, y, step, angle=0):\n",
    "    nx = x + step * math.cos(angle)\n",
    "    ny = x + step * math.sin(angle)\n",
    "    return nx, ny"
   ]
  },
  {
   "cell_type": "code",
   "execution_count": 154,
   "id": "c356416e-cb7e-4c4e-8b99-5f3323778271",
   "metadata": {},
   "outputs": [
    {
     "name": "stdout",
     "output_type": "stream",
     "text": [
      "14.330127018922195 12.5\n"
     ]
    }
   ],
   "source": [
    "x, y = move(10, 10, 5, math.pi / 6)\n",
    "\n",
    "print(x, y)"
   ]
  },
  {
   "cell_type": "code",
   "execution_count": 155,
   "id": "9a3305f6-9a2b-451c-bd88-6d954b63f704",
   "metadata": {},
   "outputs": [
    {
     "name": "stdout",
     "output_type": "stream",
     "text": [
      "(14.330127018922195, 12.5)\n"
     ]
    }
   ],
   "source": [
    "r = move(10, 10, 5 , math.pi / 6)\n",
    "\n",
    "print(r)"
   ]
  },
  {
   "cell_type": "markdown",
   "id": "8d807679-e0a7-4f02-814f-b138ac23145e",
   "metadata": {},
   "source": [
    "Python 的函数返回多值其实就是返回一个 tuple 在语法上，返回一个 tuple 可以省略括号，"
   ]
  },
  {
   "cell_type": "code",
   "execution_count": null,
   "id": "f8ef56f3-73ac-47f3-8a04-775b72e4da0c",
   "metadata": {},
   "outputs": [],
   "source": [
    "import math\n",
    "\n",
    "def quadratic(a, b, c):\n",
    "    # x = math.pow((b * b - 4 * a *c), 0.5)\n",
    "    x = math.sqrt(b * b - 4 * a * c)\n",
    "    x1 = (-b + x) / 2 / a\n",
    "    x2 = (-b - x) /2/ a\n",
    "    return x1, x2"
   ]
  },
  {
   "cell_type": "markdown",
   "id": "18ffca47-180e-4b86-b0f0-8dafa688bf84",
   "metadata": {},
   "source": [
    "### 函数的参数"
   ]
  },
  {
   "cell_type": "markdown",
   "id": "7aa624f6-dabd-400a-8093-1af6c0bb7a7a",
   "metadata": {},
   "source": [
    "#### 默认参数"
   ]
  },
  {
   "cell_type": "code",
   "execution_count": 157,
   "id": "3f040faf-79bd-49ed-a8f7-5e1d0d629ca3",
   "metadata": {},
   "outputs": [],
   "source": [
    "def enroll(name, gender, age=6, city='hz'):\n",
    "    print('name:', name)\n",
    "    print('gender', gender)\n",
    "    print('age', age)\n",
    "    print('city', city)"
   ]
  },
  {
   "cell_type": "code",
   "execution_count": 158,
   "id": "a4539721-3963-44c5-80f6-b958f0d3eb50",
   "metadata": {},
   "outputs": [
    {
     "name": "stdout",
     "output_type": "stream",
     "text": [
      "name: aa\n",
      "gender F\n",
      "age 6\n",
      "city hz\n"
     ]
    }
   ],
   "source": [
    "enroll('aa', 'F')"
   ]
  },
  {
   "cell_type": "markdown",
   "id": "f0749268-c801-4ff7-a573-2ba7e101248f",
   "metadata": {},
   "source": [
    "#### 可变参数 "
   ]
  },
  {
   "cell_type": "markdown",
   "id": "0b52be0b-d2c3-4f3c-8c78-cf38bb1cc753",
   "metadata": {},
   "source": [
    "可变参数允许你传入 0 个或任意个参数，这些可变参数在函数调用时自动组装为一个 tuple。"
   ]
  },
  {
   "cell_type": "code",
   "execution_count": 159,
   "id": "9a1553c6-b197-4857-a4a4-23a70fd75d4f",
   "metadata": {},
   "outputs": [],
   "source": [
    "def calc(*numbers):\n",
    "    sum = 0\n",
    "    for n in numbers:\n",
    "        sum += n\n",
    "    return sum"
   ]
  },
  {
   "cell_type": "code",
   "execution_count": 160,
   "id": "0c1acc72-532b-46b8-8e36-989e8f6e915d",
   "metadata": {},
   "outputs": [
    {
     "data": {
      "text/plain": [
       "7"
      ]
     },
     "execution_count": 160,
     "metadata": {},
     "output_type": "execute_result"
    }
   ],
   "source": [
    "calc(1, 2, 4)"
   ]
  },
  {
   "cell_type": "code",
   "execution_count": 162,
   "id": "3b357be6-fe78-49a7-b59f-7eae521d6455",
   "metadata": {},
   "outputs": [
    {
     "data": {
      "text/plain": [
       "4"
      ]
     },
     "execution_count": 162,
     "metadata": {},
     "output_type": "execute_result"
    }
   ],
   "source": [
    "calc(4)"
   ]
  },
  {
   "cell_type": "markdown",
   "id": "a208bbcc-6328-4315-9c99-1c7584384a52",
   "metadata": {},
   "source": [
    "Python 允许你在 list 或 tuple 前面加一个 *号，把 list 或 tuple 的元素变成可变参数传进去"
   ]
  },
  {
   "cell_type": "code",
   "execution_count": 163,
   "id": "5816c955-5fcc-4dfe-9a22-62359f3f6b72",
   "metadata": {},
   "outputs": [
    {
     "data": {
      "text/plain": [
       "8"
      ]
     },
     "execution_count": 163,
     "metadata": {},
     "output_type": "execute_result"
    }
   ],
   "source": [
    "nums = [1, 3, 4]\n",
    "\n",
    "calc(*nums)"
   ]
  },
  {
   "cell_type": "markdown",
   "id": "5eb5c325-eeac-422f-85fd-557f37e42c6e",
   "metadata": {},
   "source": [
    "*nums 表示把 nums 这个 list 的所有元素作为可变参数传进去。这种写法相当有用，而且很常见。"
   ]
  },
  {
   "cell_type": "markdown",
   "id": "34d35dc6-06c5-4c2c-8685-d4036614d4de",
   "metadata": {},
   "source": [
    "#### 关键字参数"
   ]
  },
  {
   "cell_type": "markdown",
   "id": "0739b093-c6b3-4623-8557-80414a19a1cb",
   "metadata": {},
   "source": [
    "关键字参数允许你传入 0 个或任意个含参数名的参数，这些关键字参数在函数内部自动组装为一个 dict。"
   ]
  },
  {
   "cell_type": "code",
   "execution_count": 3,
   "id": "530e0b86-951b-40ea-8e5a-fd10281fbf85",
   "metadata": {},
   "outputs": [],
   "source": [
    "def person(name, age, **kw):\n",
    "    print('name:', name, 'age:', age, 'other: ', kw)"
   ]
  },
  {
   "cell_type": "code",
   "execution_count": 4,
   "id": "98de9b69-0e5e-4c44-b608-7dd028549afa",
   "metadata": {},
   "outputs": [
    {
     "name": "stdout",
     "output_type": "stream",
     "text": [
      "name: aa age: 23 other:  {}\n"
     ]
    }
   ],
   "source": [
    "person('aa', 23)"
   ]
  },
  {
   "cell_type": "code",
   "execution_count": 5,
   "id": "d603d1bc-9aa4-468c-8a18-0faee7d8ad3e",
   "metadata": {},
   "outputs": [
    {
     "name": "stdout",
     "output_type": "stream",
     "text": [
      "name: aa age: 23 other:  {'city': 'hz'}\n"
     ]
    }
   ],
   "source": [
    "person('aa', 23, city='hz')"
   ]
  },
  {
   "cell_type": "code",
   "execution_count": 6,
   "id": "dd0aed8d-1bd7-4eb7-9a2d-c5b996fcf60c",
   "metadata": {},
   "outputs": [
    {
     "name": "stdout",
     "output_type": "stream",
     "text": [
      "name: Adam age: 30 other:  {'gender': 'M', 'job': 'Engineer'}\n"
     ]
    }
   ],
   "source": [
    "person('Adam', 30, gender='M', job='Engineer')"
   ]
  },
  {
   "cell_type": "code",
   "execution_count": 8,
   "id": "13756900-629b-49ab-a618-1caae5c4fcd5",
   "metadata": {},
   "outputs": [
    {
     "name": "stdout",
     "output_type": "stream",
     "text": [
      "name: Jack age: 24 other:  {'city': 'Beiging', 'job': 'Engineer'}\n"
     ]
    }
   ],
   "source": [
    "extera = {'city':'Beiging', 'job':'Engineer'}\n",
    "\n",
    "person('Jack', 24, city=extera['city'], job=extera['job'])"
   ]
  },
  {
   "cell_type": "code",
   "execution_count": 10,
   "id": "ddc16bcc-8524-41a6-b2bb-eb2577b1349c",
   "metadata": {},
   "outputs": [
    {
     "name": "stdout",
     "output_type": "stream",
     "text": [
      "name: Jack age: 24 other:  {'city': 'Beiging', 'job': 'Engineer'}\n"
     ]
    }
   ],
   "source": [
    "person('Jack', 24, **extera)"
   ]
  },
  {
   "cell_type": "markdown",
   "id": "35f94966-b0c4-4f8a-a5b1-86ccfd84e669",
   "metadata": {},
   "source": [
    "关键字参数有什么用？它可以扩展函数的功能。比如，在 person 函数里，我们保证能接收到 name 和 age 这两个参数，但是，如果调用者愿意提供更多的参数，我们也能收到。试想你正在做一个用户注册的功能，除了用户名和年龄是必填项外，其他都是可选项，利用关键字参数来定义这个函数就能满足注册的需求。"
   ]
  },
  {
   "cell_type": "markdown",
   "id": "5adeb3f0-8352-459e-ace2-4867880ccd84",
   "metadata": {},
   "source": [
    "上述的关键字参数形式，用户可以输入任意的关键字。如果想要**限制输入的关键字**，就用下面介绍的命名关键字参数。"
   ]
  },
  {
   "cell_type": "code",
   "execution_count": 14,
   "id": "807aeae7-d8b5-4010-85a0-ca7c56e6e75b",
   "metadata": {},
   "outputs": [],
   "source": [
    "# 必须用 * 分割开来\n",
    "\n",
    "def person2(name, age, *, city, job):\n",
    "    print(name, age, city, job)"
   ]
  },
  {
   "cell_type": "code",
   "execution_count": 16,
   "id": "63713372-b9ab-49a1-937e-a30b5087e23c",
   "metadata": {},
   "outputs": [
    {
     "ename": "TypeError",
     "evalue": "person() missing 2 required keyword-only arguments: 'city' and 'job'",
     "output_type": "error",
     "traceback": [
      "\u001b[1;31m---------------------------------------------------------------------------\u001b[0m",
      "\u001b[1;31mTypeError\u001b[0m                                 Traceback (most recent call last)",
      "\u001b[1;32m~\\AppData\\Local\\Temp/ipykernel_32016/2220066166.py\u001b[0m in \u001b[0;36m<module>\u001b[1;34m\u001b[0m\n\u001b[1;32m----> 1\u001b[1;33m \u001b[0mperson\u001b[0m\u001b[1;33m(\u001b[0m\u001b[1;34m'da'\u001b[0m\u001b[1;33m,\u001b[0m \u001b[1;36m32\u001b[0m\u001b[1;33m)\u001b[0m\u001b[1;33m\u001b[0m\u001b[1;33m\u001b[0m\u001b[0m\n\u001b[0m",
      "\u001b[1;31mTypeError\u001b[0m: person() missing 2 required keyword-only arguments: 'city' and 'job'"
     ]
    }
   ],
   "source": [
    "person('da', 32)"
   ]
  },
  {
   "cell_type": "code",
   "execution_count": 15,
   "id": "5688a7fc-d24d-4357-aeec-f59de4e41ae9",
   "metadata": {},
   "outputs": [
    {
     "name": "stdout",
     "output_type": "stream",
     "text": [
      "Jack 34 Beijing Engineer\n"
     ]
    }
   ],
   "source": [
    "person2('Jack', 34, city='Beijing', job='Engineer')"
   ]
  },
  {
   "cell_type": "code",
   "execution_count": 21,
   "id": "bd1545d8-b4a3-4381-88be-1b7ca34e242c",
   "metadata": {},
   "outputs": [],
   "source": [
    "# 或者用 可变参数 分割开来\n",
    "\n",
    "def person3(name, age, *args, city, job):\n",
    "    print(name, age, city, job)\n",
    "    for arg in args:\n",
    "        print(arg)"
   ]
  },
  {
   "cell_type": "code",
   "execution_count": 22,
   "id": "da8639d1-1d4e-4e69-8949-26938f1b5515",
   "metadata": {},
   "outputs": [
    {
     "name": "stdout",
     "output_type": "stream",
     "text": [
      "Jack 23 hz Stu\n"
     ]
    }
   ],
   "source": [
    "person3('Jack', 23, city='hz', job='Stu')"
   ]
  },
  {
   "cell_type": "code",
   "execution_count": 23,
   "id": "1f8815a1-1665-42a3-bf07-6be04d5b50fc",
   "metadata": {},
   "outputs": [
    {
     "name": "stdout",
     "output_type": "stream",
     "text": [
      "jack 23 hz Stu\n",
      "aa\n",
      "34\n"
     ]
    }
   ],
   "source": [
    "person3('jack', 23, 'aa', 34, city='hz', job='Stu')"
   ]
  },
  {
   "cell_type": "code",
   "execution_count": 27,
   "id": "894e2395-e8c8-430a-8566-84a7534f3907",
   "metadata": {},
   "outputs": [],
   "source": [
    "# 命名关键字参数与默认参数结合使用\n",
    "\n",
    "def person4(name, age=25, *, city='hz', job):\n",
    "    print(name, age, city, job)\n"
   ]
  },
  {
   "cell_type": "code",
   "execution_count": 28,
   "id": "605e15ed-6a2d-4a3e-8cbf-af7ea7859b49",
   "metadata": {},
   "outputs": [
    {
     "name": "stdout",
     "output_type": "stream",
     "text": [
      "Jack 25 hz Stu\n"
     ]
    }
   ],
   "source": [
    "person4('Jack', job='Stu')"
   ]
  },
  {
   "cell_type": "markdown",
   "id": "803ea4de-667c-4000-9a9e-dbf275650af6",
   "metadata": {},
   "source": [
    "#### 参数组合"
   ]
  },
  {
   "cell_type": "markdown",
   "id": "ea78c174-471b-46be-ac78-44120fb2fc6e",
   "metadata": {},
   "source": [
    "在 Python 中定义函数，可以用必选参数、默认参数、可变参数、关键字参数和命名关键字参数，这5种参数都可以组合使用。但是请注意，参数定义的顺序必须是：必选参数、默认参数、可变参数、命名关键字参数和关键字参数。"
   ]
  },
  {
   "cell_type": "code",
   "execution_count": 33,
   "id": "0f13f7e1-38d6-4f71-b247-8b2868882a57",
   "metadata": {},
   "outputs": [],
   "source": [
    "def f1(a, b, c=0, *args, **kw):\n",
    "    print('a =', a, 'b =', b, 'c =', c, 'args =', args, 'kw =', kw)"
   ]
  },
  {
   "cell_type": "code",
   "execution_count": 34,
   "id": "b660ea6d-02cb-4a89-bbab-c9e92df2dba9",
   "metadata": {},
   "outputs": [
    {
     "name": "stdout",
     "output_type": "stream",
     "text": [
      "a = 1 b = 2 c = 0 args = () kw = {}\n"
     ]
    }
   ],
   "source": [
    "f1(1, 2)"
   ]
  },
  {
   "cell_type": "code",
   "execution_count": 35,
   "id": "4f67131e-5e5b-40bb-a208-700fd38240f3",
   "metadata": {},
   "outputs": [
    {
     "name": "stdout",
     "output_type": "stream",
     "text": [
      "a = 1 b = 2 c = 3 args = () kw = {}\n"
     ]
    }
   ],
   "source": [
    "f1(1, 2, c=3)"
   ]
  },
  {
   "cell_type": "code",
   "execution_count": 36,
   "id": "bdfb0e7a-463f-4fa1-b282-9e0302405a7a",
   "metadata": {},
   "outputs": [
    {
     "name": "stdout",
     "output_type": "stream",
     "text": [
      "a = 1 b = 2 c = 3 args = ('a', 'b') kw = {}\n"
     ]
    }
   ],
   "source": [
    "f1(1, 2, 3, 'a', 'b')"
   ]
  },
  {
   "cell_type": "code",
   "execution_count": 37,
   "id": "317afc69-06c6-4e58-b4fa-c01230109d97",
   "metadata": {},
   "outputs": [
    {
     "name": "stdout",
     "output_type": "stream",
     "text": [
      "a = 1 b = 2 c = 3 args = ('a', 'b') kw = {'x': 99}\n"
     ]
    }
   ],
   "source": [
    "f1(1, 2, 3, 'a', 'b', x=99)"
   ]
  },
  {
   "cell_type": "code",
   "execution_count": 38,
   "id": "50fef070-6c7f-49bf-891a-a008786570ee",
   "metadata": {},
   "outputs": [
    {
     "name": "stdout",
     "output_type": "stream",
     "text": [
      "a = 1 b = 2 c = 3 args = (4,) kw = {'d': 99, 'x': '#'}\n"
     ]
    }
   ],
   "source": [
    "args = (1, 2, 3, 4)\n",
    "kw = {'d': 99, 'x': '#'}\n",
    "\n",
    "f1(*args, **kw)"
   ]
  },
  {
   "cell_type": "code",
   "execution_count": null,
   "id": "85895b8f-ab3b-4707-90a9-177869cf3ffd",
   "metadata": {},
   "outputs": [],
   "source": [
    "def mul(x, *args):\n",
    "    for arg in args:\n",
    "        x *= arg\n",
    "    return x"
   ]
  },
  {
   "cell_type": "markdown",
   "id": "51c000ef-d88f-418b-8fe4-28bbebc92444",
   "metadata": {},
   "source": [
    "### 递归函数"
   ]
  },
  {
   "cell_type": "code",
   "execution_count": 2,
   "id": "58c9d324-6841-4cfa-9025-aa34fe8f83f3",
   "metadata": {},
   "outputs": [],
   "source": [
    "# n!\n",
    "\n",
    "def fact(n):\n",
    "    if n == 1:\n",
    "        return 1\n",
    "    return n * fact(n-1)"
   ]
  },
  {
   "cell_type": "code",
   "execution_count": 3,
   "id": "0619a0cb-70f0-4d80-a238-831a7c356c04",
   "metadata": {},
   "outputs": [
    {
     "data": {
      "text/plain": [
       "6"
      ]
     },
     "execution_count": 3,
     "metadata": {},
     "output_type": "execute_result"
    }
   ],
   "source": [
    "fact(3)"
   ]
  },
  {
   "cell_type": "code",
   "execution_count": 4,
   "id": "65817a24-1034-4bc2-a178-c4602cb481a5",
   "metadata": {},
   "outputs": [
    {
     "data": {
      "text/plain": [
       "120"
      ]
     },
     "execution_count": 4,
     "metadata": {},
     "output_type": "execute_result"
    }
   ],
   "source": [
    "fact(5)"
   ]
  },
  {
   "cell_type": "code",
   "execution_count": 5,
   "id": "d7e27fcc-80ae-4c2f-8ae6-3e677bafb329",
   "metadata": {},
   "outputs": [
    {
     "data": {
      "text/plain": [
       "93326215443944152681699238856266700490715968264381621468592963895217599993229915608941463976156518286253697920827223758251185210916864000000000000000000000000"
      ]
     },
     "execution_count": 5,
     "metadata": {},
     "output_type": "execute_result"
    }
   ],
   "source": [
    "fact(100)"
   ]
  },
  {
   "cell_type": "markdown",
   "id": "9bd02dc5-402b-4581-8356-9f68462c8b13",
   "metadata": {},
   "source": [
    "如果我们计算 fact(5)，可以根据函数定义看到计算过程如下：\n",
    "```\n",
    "===> fact(5)\n",
    "===> 5 * fact(4)\n",
    "===> 5 * (4 * fact(3))\n",
    "===> 5 * (4 * (3 * fact(2)))\n",
    "===> 5 * (4 * (3 * (2 * fact(1))))\n",
    "===> 5 * (4 * (3 * (2 * 1)))\n",
    "===> 5 * (4 * (3 * 2))\n",
    "===> 5 * (4 * 6)\n",
    "===> 5 * 24\n",
    "===> 120\n",
    "```"
   ]
  },
  {
   "cell_type": "markdown",
   "id": "d2565f81-4e15-455e-9918-6b82780ce74e",
   "metadata": {},
   "source": [
    "由上可见，每 return 一次，就会产生一个栈帧。而且每个栈帧必须在内存中保留到最后一刻，因为直到 120 计算出来后，fact(5) 的值还是不知道的，还需要逐层返回，逐层消栈帧。这也就可能导致栈溢出。"
   ]
  },
  {
   "cell_type": "code",
   "execution_count": null,
   "id": "4aaea7b0-9dce-4981-a920-fc4422ba9b3e",
   "metadata": {},
   "outputs": [],
   "source": [
    "# 使用递归，若层数过大会导致栈溢出\n",
    "\n",
    "#fact(10000)"
   ]
  },
  {
   "cell_type": "markdown",
   "id": "636e3675-f342-40f7-8159-a5c624b7df4d",
   "metadata": {},
   "source": [
    "解决递归调用栈溢出的方法是通过尾递归优化，事实上尾递归和循环的效果是一样的，所以，把循环看成是一种特殊的尾递归函数也是可以的。\n",
    "\n",
    "尾递归是指，在函数返回的时候，调用自身，并且，**return 语句不能包含表达式。**\n",
    "\n",
    "这样，编译器或者解释器就可以把尾递归做优化，使递归本身无论调用多少次，都只占用一个栈帧，不会出现栈溢出的情况。"
   ]
  },
  {
   "cell_type": "markdown",
   "id": "53ea47af-34f7-443a-86e2-d3cb0cbee018",
   "metadata": {},
   "source": [
    "上面的 fact(n) 函数由于 return n * fact(n - 1) 引入了乘法表达式，所以就不是尾递归了。\n",
    "\n",
    "要改成尾递归方式，需要多一点代码，主要是要把每一步的乘积传入到递归函数中："
   ]
  },
  {
   "cell_type": "code",
   "execution_count": 3,
   "id": "f3b4044d-d962-4623-a16d-09b71acf9cfa",
   "metadata": {},
   "outputs": [],
   "source": [
    "def fact(n):\n",
    "    return fact_iter(n, 1)\n",
    "\n",
    "def fact_iter(num, product):\n",
    "    if num == 1:\n",
    "        return product\n",
    "    return fact_iter(num-1, num * product)"
   ]
  },
  {
   "cell_type": "code",
   "execution_count": 5,
   "id": "7a52f679-6d73-4baf-8581-9dae5b991f7d",
   "metadata": {},
   "outputs": [
    {
     "data": {
      "text/plain": [
       "120"
      ]
     },
     "execution_count": 5,
     "metadata": {},
     "output_type": "execute_result"
    }
   ],
   "source": [
    "fact(5)"
   ]
  },
  {
   "cell_type": "markdown",
   "id": "06bfb77e-2599-4373-ba94-c637c3c7d8c0",
   "metadata": {},
   "source": [
    "可以看到，return fact_iter(num - 1, num * product) 仅返回递归函数本身，num - 1 和 num * product 在函数调用前就会被计算，不影响函数调用。"
   ]
  },
  {
   "cell_type": "markdown",
   "id": "a70e3c46-bc27-408a-be6b-29f41213afb6",
   "metadata": {},
   "source": [
    "fact(5) 对应的 fact_iter(5, 1) 的调用如下：\n",
    "```\n",
    "===> fact_iter(5, 1)\n",
    "===> fact_iter(4, 5)\n",
    "===> fact_iter(3, 20)\n",
    "===> fact_iter(2, 60)\n",
    "===> fact_iter(1, 120)\n",
    "===> 120\n",
    "```"
   ]
  },
  {
   "cell_type": "markdown",
   "id": "7a61f391-e010-4a0e-acfd-e7129926a800",
   "metadata": {},
   "source": [
    "由上可见，每次的 return 已经包含了需要的历史值，如 60，并不需要再给上层返回值。前面的 return 其实可以忽略掉，只保留最后一条 return 就行。（我觉得这就是优化的意思吧）"
   ]
  },
  {
   "cell_type": "markdown",
   "id": "8ea5aed2-2545-4744-b72e-9b3c92ec48d0",
   "metadata": {},
   "source": [
    "尾递归调用时，如果做了优化，栈不会增长，因此，无论多少次调用也不会导致栈溢出。\n",
    "\n",
    "遗憾的是，大多数编程语言没有针对尾递归做优化，Python 解释器也没有做优化，所以，即使把上面的 fact(n) 函数改成尾递归方式，也会导致栈溢出。"
   ]
  },
  {
   "cell_type": "code",
   "execution_count": 24,
   "id": "7ec1e32a-01c0-44bd-af36-9242b8c6e673",
   "metadata": {},
   "outputs": [],
   "source": [
    "# 汉诺塔\n",
    "\n",
    "def move(n, fro, buffer, to):\n",
    "    if n == 1:\n",
    "        print('from', fro, '--->', to) # 只有一个，直接从起点移到终点\n",
    "    else:\n",
    "        move(n-1, fro, to, buffer) # 上面的 2~n 个先移到缓冲区\n",
    "        move(1, fro , buffer, to) # 最下面的一个直接移到终点\n",
    "        move(n-1, buffer, fro, to) # 再把 2~n 个从缓冲区移到终点"
   ]
  },
  {
   "cell_type": "code",
   "execution_count": 25,
   "id": "1a88aa62-c958-4214-8bd6-5fb798b6dde2",
   "metadata": {},
   "outputs": [
    {
     "name": "stdout",
     "output_type": "stream",
     "text": [
      "from A ---> C\n",
      "from A ---> B\n",
      "from C ---> B\n",
      "from A ---> C\n",
      "from B ---> A\n",
      "from B ---> C\n",
      "from A ---> C\n"
     ]
    }
   ],
   "source": [
    "move(3, 'A', 'B', 'C')"
   ]
  },
  {
   "cell_type": "code",
   "execution_count": 21,
   "id": "30fd9041-30b3-42dd-9f1a-747e535e725d",
   "metadata": {},
   "outputs": [
    {
     "ename": "SyntaxError",
     "evalue": "invalid syntax (Temp/ipykernel_12792/4131952417.py, line 3)",
     "output_type": "error",
     "traceback": [
      "\u001b[1;36m  File \u001b[1;32m\"C:\\Users\\H.M\\AppData\\Local\\Temp/ipykernel_12792/4131952417.py\"\u001b[1;36m, line \u001b[1;32m3\u001b[0m\n\u001b[1;33m    void move(int n, char a, char b, char c)\u001b[0m\n\u001b[1;37m         ^\u001b[0m\n\u001b[1;31mSyntaxError\u001b[0m\u001b[1;31m:\u001b[0m invalid syntax\n"
     ]
    }
   ],
   "source": [
    "# c 语言\n",
    "\n",
    "void move(int n, char a, char b, char c)\n",
    "{\n",
    "    if (n == 1) {\n",
    "        printf(\"from %c to %c\\n\", a, c);\n",
    "    }\n",
    "    else {\n",
    "        move(n - 1, a, c, b);\n",
    "        move(1, a, b, c);\n",
    "        move(n-1, b, a, c);\n",
    "    }\n",
    "}"
   ]
  },
  {
   "cell_type": "code",
   "execution_count": 19,
   "id": "2de20a12-7fb5-42cc-805b-657b1442b8ca",
   "metadata": {},
   "outputs": [
    {
     "name": "stdout",
     "output_type": "stream",
     "text": [
      "Move 1 from A to C\n",
      "Move 1 from A to B\n",
      "Move 1 from C to B\n",
      "Move 1 from A to C\n",
      "Move 1 from B to A\n",
      "Move 1 from B to C\n",
      "Move 1 from A to C\n"
     ]
    }
   ],
   "source": [
    "move(3, 'A', 'B', 'C')"
   ]
  },
  {
   "cell_type": "markdown",
   "id": "2a00107e-0a5f-491c-8e74-9c5b3d581368",
   "metadata": {},
   "source": [
    "## 四、高级特性"
   ]
  },
  {
   "cell_type": "markdown",
   "id": "1eae80db-3e35-4319-bca8-b34002b1ce60",
   "metadata": {},
   "source": [
    "以上学习了 Python 的数据类型、判断和循环语句、函数，已经可以写出很多有用的程序了。\n",
    "\n",
    "只是此时的代码可能不精简、同样的问题会写很多行代码来解决。但是，Python 的思想是「代码越少越好，越简单越好」，那么就要学习 Python 的高级特性来帮助我们精简自己的代码，来用更少的代码解决问题。\n",
    "\n",
    "学习高级特性之前，要先搞明白为什么学它。"
   ]
  },
  {
   "cell_type": "markdown",
   "id": "93a09707-5bb7-4a1f-a085-a56d8affbf79",
   "metadata": {},
   "source": [
    "接下来要学习的高级特性：\n",
    "\n",
    "- 切片\n",
    "- 迭代\n",
    "- 列表生成式\n",
    "- 生成器\n",
    "- 迭代器"
   ]
  },
  {
   "cell_type": "markdown",
   "id": "a0617b4c-d864-4379-bc02-d0117221bdb3",
   "metadata": {},
   "source": [
    "**在 Python 中，代码不是越多越好，而是越少越好。**代码不是越复杂越好，而是越简单越好。\n",
    "\n",
    "基于这一思想，来学习 Python 中非常有用的**高级特性**，1 行代码能实现的功能，决不写 5 行代码。**请始终牢记，代码越少，开发效率越高。**"
   ]
  },
  {
   "cell_type": "code",
   "execution_count": 32,
   "id": "b25ff28d-7f31-4ada-a44e-bc0a697a25ef",
   "metadata": {},
   "outputs": [
    {
     "data": {
      "text/plain": [
       "[1, 3, 5, 7, 9]"
      ]
     },
     "execution_count": 32,
     "metadata": {},
     "output_type": "execute_result"
    }
   ],
   "source": [
    "# 代码多\n",
    "\n",
    "L = []\n",
    "\n",
    "n = 1\n",
    "while n <= 9:\n",
    "    L.append(n)\n",
    "    n += 2\n",
    "    \n",
    "L"
   ]
  },
  {
   "cell_type": "code",
   "execution_count": 35,
   "id": "bbd19de8-00c8-4a84-bf1e-9660b791ea2d",
   "metadata": {},
   "outputs": [
    {
     "data": {
      "text/plain": [
       "[1, 3, 5, 7]"
      ]
     },
     "execution_count": 35,
     "metadata": {},
     "output_type": "execute_result"
    }
   ],
   "source": [
    "# 精简\n",
    "\n",
    "L1 = list(range(1, 9, 2))\n",
    "\n",
    "L1"
   ]
  },
  {
   "cell_type": "markdown",
   "id": "8d90c581-50ba-499c-b4e6-2779e1a8f34f",
   "metadata": {},
   "source": [
    "### 切片\n",
    "- 便于取子部份"
   ]
  },
  {
   "cell_type": "code",
   "execution_count": 36,
   "id": "89074607-8e51-4fcc-9777-c32d0784db8c",
   "metadata": {},
   "outputs": [],
   "source": [
    "L = ['aa', 'bb', 'cc', 'dd']\n"
   ]
  },
  {
   "cell_type": "code",
   "execution_count": 37,
   "id": "d1139300-b99a-4e11-858f-0230a5d82c04",
   "metadata": {},
   "outputs": [
    {
     "data": {
      "text/plain": [
       "['aa', 'bb', 'cc']"
      ]
     },
     "execution_count": 37,
     "metadata": {},
     "output_type": "execute_result"
    }
   ],
   "source": [
    "# 取前 n 个元素\n",
    "\n",
    "# 原来实现方法：\n",
    "\n",
    "r = []\n",
    "n = 3\n",
    "\n",
    "for i in range(n):\n",
    "    r.append(L[i])\n",
    "\n",
    "r"
   ]
  },
  {
   "cell_type": "code",
   "execution_count": 38,
   "id": "f0cdfc7b-f5ba-4bb2-b2dc-6c0cb0bb1c51",
   "metadata": {},
   "outputs": [
    {
     "data": {
      "text/plain": [
       "['aa', 'bb', 'cc']"
      ]
     },
     "execution_count": 38,
     "metadata": {},
     "output_type": "execute_result"
    }
   ],
   "source": [
    "# 简单实现\n",
    "\n",
    "L[0:3]"
   ]
  },
  {
   "cell_type": "code",
   "execution_count": 39,
   "id": "aa1fb814-4b2b-4f92-a4a0-ba13b5339e93",
   "metadata": {},
   "outputs": [
    {
     "data": {
      "text/plain": [
       "['aa', 'bb', 'cc']"
      ]
     },
     "execution_count": 39,
     "metadata": {},
     "output_type": "execute_result"
    }
   ],
   "source": [
    "L[:3]"
   ]
  },
  {
   "cell_type": "code",
   "execution_count": 1,
   "id": "3b5f74c4-dee5-4cbd-a372-623c69186211",
   "metadata": {},
   "outputs": [],
   "source": [
    "L = list(range(100))"
   ]
  },
  {
   "cell_type": "code",
   "execution_count": 2,
   "id": "151cbc27-81d3-4523-b073-88e5db010e0e",
   "metadata": {},
   "outputs": [
    {
     "data": {
      "text/plain": [
       "[0, 5, 10, 15, 20, 25, 30, 35, 40, 45, 50, 55, 60, 65, 70, 75, 80, 85, 90, 95]"
      ]
     },
     "execution_count": 2,
     "metadata": {},
     "output_type": "execute_result"
    }
   ],
   "source": [
    "L[::5]"
   ]
  },
  {
   "cell_type": "code",
   "execution_count": 5,
   "id": "224cd78f-9957-468a-b949-2791e5730105",
   "metadata": {},
   "outputs": [
    {
     "data": {
      "text/plain": [
       "(0, 1, 2)"
      ]
     },
     "execution_count": 5,
     "metadata": {},
     "output_type": "execute_result"
    }
   ],
   "source": [
    "# tuple 可以切片\n",
    "\n",
    "(0, 1, 2, 3, 4, 5)[:3]"
   ]
  },
  {
   "cell_type": "code",
   "execution_count": 6,
   "id": "5d835b8f-a0f0-4b46-9b70-7eb918f5ae2d",
   "metadata": {},
   "outputs": [
    {
     "data": {
      "text/plain": [
       "'ABC'"
      ]
     },
     "execution_count": 6,
     "metadata": {},
     "output_type": "execute_result"
    }
   ],
   "source": [
    "# 字符串可以切片\n",
    "\n",
    "'ABCDEFG'[:3]"
   ]
  },
  {
   "cell_type": "code",
   "execution_count": 53,
   "id": "d5274f8a-4629-4445-98a9-af602d9217b3",
   "metadata": {},
   "outputs": [],
   "source": [
    "def trim(s):\n",
    "    start = 0\n",
    "    end = 0\n",
    "    \n",
    "    # 开头空格数\n",
    "    for c in s:\n",
    "        if c == ' ':\n",
    "            # start++ 错误，python 没有自增、自减语法\n",
    "            start += 1\n",
    "        else:\n",
    "            break\n",
    "    # 结尾空格数\n",
    "    for c in s[::-1]:\n",
    "        if c == ' ':\n",
    "            end += 1\n",
    "        else:\n",
    "            break\n",
    "    return s[start : len(s)-end]"
   ]
  },
  {
   "cell_type": "code",
   "execution_count": 60,
   "id": "ad8a35d4-6c51-4595-9c89-32b0734acf0d",
   "metadata": {},
   "outputs": [
    {
     "name": "stdout",
     "output_type": "stream",
     "text": [
      "测试成功!\n"
     ]
    }
   ],
   "source": [
    "# 测试:\n",
    "if trim('hello  ') != 'hello':\n",
    "    print('测试失败!')\n",
    "elif trim('  hello') != 'hello':\n",
    "    print('测试失败!')\n",
    "elif trim('  hello  ') != 'hello':\n",
    "    print('测试失败!')\n",
    "elif trim('  hello  world  ') != 'hello  world':\n",
    "    print('测试失败!')\n",
    "elif trim('') != '':\n",
    "    print('测试失败!')\n",
    "elif trim('    ') != '':\n",
    "    print('测试失败!')\n",
    "else:\n",
    "    print('测试成功!')"
   ]
  },
  {
   "cell_type": "code",
   "execution_count": 64,
   "id": "d237d7b2-a797-47ab-940f-0edebfd40e93",
   "metadata": {},
   "outputs": [],
   "source": [
    "# 更好的实现方法\n",
    "\n",
    "def trim2(s):\n",
    "    \n",
    "    while s[:1] == ' ':  # 第一个元素 s[0] 是空格\n",
    "        s = s[1:]  # 舍弃第一个元素，从第二个元素 s[1] 开始\n",
    "    while s[-1:] == ' ': # 最后一个元素 s[-1] 是空格\n",
    "        s = s[0:-1]  # 舍弃最后一个元素\n",
    "    return s"
   ]
  },
  {
   "cell_type": "code",
   "execution_count": 65,
   "id": "5b9c97a3-e44f-4553-b065-53039927edfd",
   "metadata": {},
   "outputs": [
    {
     "name": "stdout",
     "output_type": "stream",
     "text": [
      "测试成功!\n"
     ]
    }
   ],
   "source": [
    "# 测试:\n",
    "if trim2('hello  ') != 'hello':\n",
    "    print('测试失败!')\n",
    "elif trim2('  hello') != 'hello':\n",
    "    print('测试失败!')\n",
    "elif trim2('  hello  ') != 'hello':\n",
    "    print('测试失败!')\n",
    "elif trim2('  hello  world  ') != 'hello  world':\n",
    "    print('测试失败!')\n",
    "elif trim2('') != '':\n",
    "    print('测试失败!')\n",
    "elif trim2('    ') != '':\n",
    "    print('测试失败!')\n",
    "else:\n",
    "    print('测试成功!')"
   ]
  },
  {
   "cell_type": "markdown",
   "id": "8dbf6e50-191a-46ed-9054-b164849ec639",
   "metadata": {},
   "source": [
    "### 迭代(Iteraton)\n",
    "- 便于遍历循环"
   ]
  },
  {
   "cell_type": "code",
   "execution_count": 1,
   "id": "b1a09b19-6b55-4094-ae52-3c85078246b7",
   "metadata": {},
   "outputs": [
    {
     "name": "stdout",
     "output_type": "stream",
     "text": [
      "a\n",
      "b\n",
      "c\n"
     ]
    }
   ],
   "source": [
    "d = {'a': 1, 'b': 2, 'c': 3}\n",
    "\n",
    "for key in d:\n",
    "    print(key)"
   ]
  },
  {
   "cell_type": "code",
   "execution_count": 3,
   "id": "1b96a9bd-31f4-4644-8bdf-71c237002569",
   "metadata": {},
   "outputs": [
    {
     "name": "stdout",
     "output_type": "stream",
     "text": [
      "1\n",
      "2\n",
      "3\n"
     ]
    }
   ],
   "source": [
    "for value in d.values():\n",
    "    print(value)"
   ]
  },
  {
   "cell_type": "code",
   "execution_count": 8,
   "id": "277143ae-6951-4ff2-b30d-4e19b8ed7092",
   "metadata": {},
   "outputs": [
    {
     "name": "stdout",
     "output_type": "stream",
     "text": [
      "a : 1\n",
      "b : 2\n",
      "c : 3\n"
     ]
    }
   ],
   "source": [
    "for k, v in d.items():\n",
    "    print(k, ':', v)"
   ]
  },
  {
   "cell_type": "markdown",
   "id": "e91fed0e-8068-4b44-ade5-a9a2a35aff55",
   "metadata": {},
   "source": [
    "如何判断一个对象是可迭代对象呢？方法是通过 collections.abc 模块的Iterable 类型判断："
   ]
  },
  {
   "cell_type": "code",
   "execution_count": 9,
   "id": "d88336b3-49fe-4d82-a9ba-99f8699e8e85",
   "metadata": {},
   "outputs": [
    {
     "data": {
      "text/plain": [
       "True"
      ]
     },
     "execution_count": 9,
     "metadata": {},
     "output_type": "execute_result"
    }
   ],
   "source": [
    "from collections.abc import Iterable\n",
    "\n",
    "isinstance('abc', Iterable)"
   ]
  },
  {
   "cell_type": "markdown",
   "id": "25d90fb4-ca88-491d-92c8-6bfc106c8846",
   "metadata": {},
   "source": [
    "如何对 list 同时实现索引和元素本身的迭代呢？ \n",
    "需要借助 enumerate() 函数把 list 变为 索引-元素对"
   ]
  },
  {
   "cell_type": "code",
   "execution_count": 10,
   "id": "d25aef86-ffad-4d65-8c29-1c170cabf88c",
   "metadata": {},
   "outputs": [
    {
     "name": "stdout",
     "output_type": "stream",
     "text": [
      "0 A\n",
      "1 B\n",
      "2 C\n",
      "3 D\n"
     ]
    }
   ],
   "source": [
    "for i, v in enumerate(['A', 'B', 'C', 'D']):\n",
    "    print(i, v)"
   ]
  },
  {
   "cell_type": "code",
   "execution_count": 15,
   "id": "a3ddac1d-d0bf-453a-97ba-bbd0c8035b5c",
   "metadata": {},
   "outputs": [],
   "source": [
    "def findMinAndMax(L):\n",
    "    if L == []:\n",
    "        return (None, None)\n",
    "    min = max = L[0]\n",
    "    for n in L:\n",
    "            if n < min:\n",
    "                min = n\n",
    "            if n > max:\n",
    "                max = n\n",
    "    return (min, max)"
   ]
  },
  {
   "cell_type": "code",
   "execution_count": 16,
   "id": "bcab0906-5db4-45e3-be40-6e096ddbf6a2",
   "metadata": {},
   "outputs": [
    {
     "data": {
      "text/plain": [
       "(1, 45)"
      ]
     },
     "execution_count": 16,
     "metadata": {},
     "output_type": "execute_result"
    }
   ],
   "source": [
    "findMinAndMax([1, 3, 5, 3, 6, 45, 6, 8])"
   ]
  },
  {
   "cell_type": "code",
   "execution_count": 17,
   "id": "51fcf3ef-9cb1-451a-99e0-66c39c8da53d",
   "metadata": {},
   "outputs": [
    {
     "name": "stdout",
     "output_type": "stream",
     "text": [
      "测试成功!\n"
     ]
    }
   ],
   "source": [
    "# 测试\n",
    "if findMinAndMax([]) != (None, None):\n",
    "    print('测试失败!')\n",
    "elif findMinAndMax([7]) != (7, 7):\n",
    "    print('测试失败!')\n",
    "elif findMinAndMax([7, 1]) != (1, 7):\n",
    "    print('测试失败!')\n",
    "elif findMinAndMax([7, 1, 3, 9, 5]) != (1, 9):\n",
    "    print('测试失败!')\n",
    "else:\n",
    "    print('测试成功!')"
   ]
  },
  {
   "cell_type": "markdown",
   "id": "0e7a33b4-9820-4c2c-b314-0e645bc644c0",
   "metadata": {},
   "source": [
    "### 列表生成式（List Comprehensions）\n",
    "- 便于生成列表"
   ]
  },
  {
   "cell_type": "markdown",
   "id": "c307a681-cd2b-49b4-a0fd-2416d1d83454",
   "metadata": {},
   "source": [
    "若想要生成这样的 list [1x1, 2x2, 3x3, ..., 10x10]，传统做法："
   ]
  },
  {
   "cell_type": "code",
   "execution_count": 19,
   "id": "a2599b42-ecc9-4bba-ade4-e9e660c3aab9",
   "metadata": {},
   "outputs": [
    {
     "data": {
      "text/plain": [
       "[1, 4, 9, 16, 25, 36, 49, 64, 81, 100]"
      ]
     },
     "execution_count": 19,
     "metadata": {},
     "output_type": "execute_result"
    }
   ],
   "source": [
    "L = []\n",
    "for i in range(1, 11):\n",
    "    L.append(i * i)\n",
    "L"
   ]
  },
  {
   "cell_type": "markdown",
   "id": "067d8ecd-dbee-4808-8616-36d44732a2f9",
   "metadata": {},
   "source": [
    "使用列表生成式，可以简化为一行代码："
   ]
  },
  {
   "cell_type": "code",
   "execution_count": 21,
   "id": "9349a9a6-1121-47fd-9741-5ec09a95ba1b",
   "metadata": {},
   "outputs": [
    {
     "data": {
      "text/plain": [
       "[1, 4, 9, 16, 25, 36, 49, 64, 81, 100]"
      ]
     },
     "execution_count": 21,
     "metadata": {},
     "output_type": "execute_result"
    }
   ],
   "source": [
    "[ i * i for i in range(1, 11)]"
   ]
  },
  {
   "cell_type": "markdown",
   "id": "aff6e5c0-5ae9-4dbd-8595-5d194f321c69",
   "metadata": {},
   "source": [
    "for循环后面还可以加上if判断，这样我们就可以筛选出仅偶数的平方："
   ]
  },
  {
   "cell_type": "code",
   "execution_count": 22,
   "id": "408b2f44-037b-4415-96a1-c29ef7358baf",
   "metadata": {},
   "outputs": [
    {
     "data": {
      "text/plain": [
       "[4, 16, 36, 64, 100]"
      ]
     },
     "execution_count": 22,
     "metadata": {},
     "output_type": "execute_result"
    }
   ],
   "source": [
    "[i * i for i in range(1, 11) if i % 2 == 0]"
   ]
  },
  {
   "cell_type": "markdown",
   "id": "33fe3917-5ea9-4c1b-80ac-473f0236a019",
   "metadata": {},
   "source": [
    "还可以使用两层循环，生成全排列："
   ]
  },
  {
   "cell_type": "code",
   "execution_count": 23,
   "id": "aa65dd03-6741-4018-a7b3-ef5ef22db1a4",
   "metadata": {},
   "outputs": [
    {
     "data": {
      "text/plain": [
       "['AX', 'AY', 'AZ', 'BX', 'BY', 'BZ', 'CX', 'CY', 'CZ']"
      ]
     },
     "execution_count": 23,
     "metadata": {},
     "output_type": "execute_result"
    }
   ],
   "source": [
    "[m + n for m in 'ABC' for n in 'XYZ']"
   ]
  },
  {
   "cell_type": "code",
   "execution_count": 24,
   "id": "5fbb0ee2-392a-4b65-9cdc-20a81c570c00",
   "metadata": {},
   "outputs": [
    {
     "data": {
      "text/plain": [
       "['.ipynb_checkpoints',\n",
       " 'python-notes.ipynb',\n",
       " 'untitled.tex',\n",
       " '廖雪峰教程-代码笔记.ipynb']"
      ]
     },
     "execution_count": 24,
     "metadata": {},
     "output_type": "execute_result"
    }
   ],
   "source": [
    "import os\n",
    "\n",
    "[d for d in os.listdir('.')]"
   ]
  },
  {
   "cell_type": "code",
   "execution_count": 27,
   "id": "0a1e864c-bc53-4eb8-9bbd-d093d440611a",
   "metadata": {},
   "outputs": [
    {
     "data": {
      "text/plain": [
       "['X=A', 'Y=B', 'Z=C']"
      ]
     },
     "execution_count": 27,
     "metadata": {},
     "output_type": "execute_result"
    }
   ],
   "source": [
    "d = {'X': 'A', 'Y': 'B', 'Z': 'C'}\n",
    "\n",
    "[k + '=' + v for k, v in d.items()]"
   ]
  },
  {
   "cell_type": "code",
   "execution_count": 29,
   "id": "e93c90f5-4999-48c4-b624-5528c604c8c3",
   "metadata": {},
   "outputs": [
    {
     "data": {
      "text/plain": [
       "['hello', 'world', 'ibm', 'apple']"
      ]
     },
     "execution_count": 29,
     "metadata": {},
     "output_type": "execute_result"
    }
   ],
   "source": [
    "L = ['Hello', 'World', 'IBM', 'Apple']\n",
    "\n",
    "[s.lower() for s in L]"
   ]
  },
  {
   "cell_type": "markdown",
   "id": "b77c9602-82ed-4c70-9f8c-d77c93a80072",
   "metadata": {},
   "source": [
    "if ... else 注意事项：\n",
    "- if 在 for 后面：if 是筛选条件，不能加 else\n",
    "- if 在 for 前面：if 是表达式，必须加 else"
   ]
  },
  {
   "cell_type": "code",
   "execution_count": 33,
   "id": "42cbca18-1757-44c1-a613-b548a009ae1d",
   "metadata": {},
   "outputs": [
    {
     "data": {
      "text/plain": [
       "[2, 4, 6, 8, 10]"
      ]
     },
     "execution_count": 33,
     "metadata": {},
     "output_type": "execute_result"
    }
   ],
   "source": [
    "# if 在 for 后：\n",
    "\n",
    "[x for x in range(1, 11) if x % 2 == 0]"
   ]
  },
  {
   "cell_type": "code",
   "execution_count": 35,
   "id": "c9409787-d15f-489e-bbc4-d0ab08c9b873",
   "metadata": {},
   "outputs": [
    {
     "data": {
      "text/plain": [
       "[-1, 2, -3, 4, -5, 6, -7, 8, -9, 10]"
      ]
     },
     "execution_count": 35,
     "metadata": {},
     "output_type": "execute_result"
    }
   ],
   "source": [
    "# if 在 for 前：\n",
    "\n",
    "[x if x % 2 == 0 else -x for x in range(1, 11)]"
   ]
  },
  {
   "cell_type": "code",
   "execution_count": 38,
   "id": "f4029082-b4e7-42ed-b80c-3938e8b7c918",
   "metadata": {},
   "outputs": [
    {
     "data": {
      "text/plain": [
       "['hello', 'world', 'apple']"
      ]
     },
     "execution_count": 38,
     "metadata": {},
     "output_type": "execute_result"
    }
   ],
   "source": [
    "L1 = ['Hello', 'World', 18, 'Apple', None]\n",
    "\n",
    "L2 = [s.lower() for s in L1 if isinstance(s, str)]\n",
    "\n",
    "L2"
   ]
  },
  {
   "cell_type": "markdown",
   "id": "b94cb8ec-d9f7-41f2-bec8-d1feb95ef884",
   "metadata": {},
   "source": [
    "### 生成器（generator）"
   ]
  },
  {
   "cell_type": "markdown",
   "id": "73bc07d5-99b9-47ac-ac20-47f16fcd4edd",
   "metadata": {},
   "source": [
    "列表生成式会一次性创建出所有元素，占用很大的内存。\n",
    "\n",
    "而生成器是采用某种算法，一遍循环一边计算出需要的元素。这样就不必创建完整的 list，从而节省大量的空间。"
   ]
  },
  {
   "cell_type": "markdown",
   "id": "3fbebbdf-c7a5-40b1-b71b-6dfa03c73371",
   "metadata": {},
   "source": [
    "#### 方法一：直接将 [] 改为 ()"
   ]
  },
  {
   "cell_type": "code",
   "execution_count": 40,
   "id": "7c706bcb-f33a-4f90-8052-58ad6f6f438f",
   "metadata": {},
   "outputs": [
    {
     "data": {
      "text/plain": [
       "<generator object <genexpr> at 0x00000267E5760430>"
      ]
     },
     "execution_count": 40,
     "metadata": {},
     "output_type": "execute_result"
    }
   ],
   "source": [
    "g = (x * x for x in range(10))\n",
    "\n",
    "g"
   ]
  },
  {
   "cell_type": "code",
   "execution_count": 41,
   "id": "05175d7c-4033-47a6-88ef-1bc3022f8fab",
   "metadata": {},
   "outputs": [
    {
     "data": {
      "text/plain": [
       "0"
      ]
     },
     "execution_count": 41,
     "metadata": {},
     "output_type": "execute_result"
    }
   ],
   "source": [
    "next(g)"
   ]
  },
  {
   "cell_type": "code",
   "execution_count": 42,
   "id": "a6d76df1-86fb-4a48-88ea-a1db042d7213",
   "metadata": {},
   "outputs": [
    {
     "data": {
      "text/plain": [
       "1"
      ]
     },
     "execution_count": 42,
     "metadata": {},
     "output_type": "execute_result"
    }
   ],
   "source": [
    "next(g)"
   ]
  },
  {
   "cell_type": "code",
   "execution_count": 43,
   "id": "baa87aef-c0f2-4822-bf31-ecdfad875524",
   "metadata": {},
   "outputs": [
    {
     "name": "stdout",
     "output_type": "stream",
     "text": [
      "4\n",
      "9\n",
      "16\n",
      "25\n",
      "36\n",
      "49\n",
      "64\n",
      "81\n"
     ]
    }
   ],
   "source": [
    "for i in g:\n",
    "    print(i)"
   ]
  },
  {
   "cell_type": "markdown",
   "id": "cdf51255-099a-4542-86f7-98aef66cf39d",
   "metadata": {},
   "source": [
    "##### 方法二：如果算法比较复杂，用生成式的 for 循环无法实现时，还可以用函数来生成。"
   ]
  },
  {
   "cell_type": "code",
   "execution_count": 45,
   "id": "db9c1a77-a3e8-4d43-9cc5-8cfd0e714d24",
   "metadata": {},
   "outputs": [],
   "source": [
    "# 传统的斐波拉写数列\n",
    "\n",
    "def fib(max):\n",
    "    n, a, b = 0, 0, 1\n",
    "    while n < max:\n",
    "        print(b)\n",
    "        a, b = b, a + b\n",
    "        n += 1\n",
    "    return 'done'"
   ]
  },
  {
   "cell_type": "code",
   "execution_count": 46,
   "id": "612db786-9d0a-4e31-aba3-09f9f0eb635b",
   "metadata": {},
   "outputs": [
    {
     "name": "stdout",
     "output_type": "stream",
     "text": [
      "1\n",
      "1\n",
      "2\n",
      "3\n",
      "5\n"
     ]
    },
    {
     "data": {
      "text/plain": [
       "'done'"
      ]
     },
     "execution_count": 46,
     "metadata": {},
     "output_type": "execute_result"
    }
   ],
   "source": [
    "fib(5)"
   ]
  },
  {
   "cell_type": "markdown",
   "id": "d897a792-f574-4121-9e10-9b80b0012adf",
   "metadata": {},
   "source": [
    "可以看出，fib() 函数实际上是定义了斐波拉契数列的推算规则，可以从第一个元素开始，推算出后续任意的元素，这种逻辑其实非常类似 generator。"
   ]
  },
  {
   "cell_type": "markdown",
   "id": "2ba5f868-f3fc-4228-9ad7-5fc4e7271d99",
   "metadata": {},
   "source": [
    "上面的函数和 generator 仅一步之遥。要把 fib 函数变成 generator 函数，只需要把 print(b) 改为 yield b 就可以了："
   ]
  },
  {
   "cell_type": "code",
   "execution_count": 53,
   "id": "7de4477c-d605-4a72-8a43-2ee84fca0337",
   "metadata": {},
   "outputs": [],
   "source": [
    "def fib2(max):\n",
    "    n, a, b = 0, 0, 1\n",
    "    while n < max:\n",
    "        yield b\n",
    "        a, b = b, a + b\n",
    "        n += 1\n",
    "    return 'done'\n",
    "    "
   ]
  },
  {
   "cell_type": "code",
   "execution_count": 54,
   "id": "c483b8a1-e44f-43a7-9ce3-6fbc0d83e80c",
   "metadata": {},
   "outputs": [
    {
     "data": {
      "text/plain": [
       "<generator object fib2 at 0x00000267E576B190>"
      ]
     },
     "execution_count": 54,
     "metadata": {},
     "output_type": "execute_result"
    }
   ],
   "source": [
    "f = fib2(6)\n",
    "\n",
    "f"
   ]
  },
  {
   "cell_type": "code",
   "execution_count": 51,
   "id": "f4c5bfb3-0b43-4984-a374-cf030299b385",
   "metadata": {},
   "outputs": [
    {
     "name": "stdout",
     "output_type": "stream",
     "text": [
      "1\n",
      "1\n",
      "2\n",
      "3\n",
      "5\n",
      "8\n"
     ]
    }
   ],
   "source": [
    "for n in f:\n",
    "    print(n)"
   ]
  },
  {
   "cell_type": "code",
   "execution_count": 56,
   "id": "a1248705-9286-434c-9753-8a302411483b",
   "metadata": {},
   "outputs": [
    {
     "name": "stdout",
     "output_type": "stream",
     "text": [
      "g: 1\n",
      "g: 1\n",
      "g: 2\n",
      "g: 3\n",
      "g: 5\n",
      "g: 8\n",
      "Generator return value: done\n"
     ]
    }
   ],
   "source": [
    "g = fib(6)\n",
    "\n",
    "while True:\n",
    "    try:\n",
    "        x = next(g)\n",
    "        print('g:', x)\n",
    "    except StopIteration as e:\n",
    "        print('Generator return value:', e.value)\n",
    "        break"
   ]
  },
  {
   "cell_type": "markdown",
   "id": "c3e79174-9699-4931-9c60-9e92e4e94556",
   "metadata": {},
   "source": [
    "#### 杨辉三角课后练习"
   ]
  },
  {
   "cell_type": "markdown",
   "id": "6be93258-4b72-4ae8-ae2e-3c85a19411ab",
   "metadata": {},
   "source": [
    "# tag: 课后习题未做"
   ]
  },
  {
   "cell_type": "markdown",
   "id": "5c4e5511-fc18-4d24-b5d8-87fd6120bd0d",
   "metadata": {},
   "source": [
    "### 迭代器\n",
    "- 可以被 next() 函数调用并不断返回下一个值的对象称为迭代器：Iterator。"
   ]
  },
  {
   "cell_type": "code",
   "execution_count": 58,
   "id": "9eba8c44-9595-445e-9554-9112ea3d8706",
   "metadata": {},
   "outputs": [
    {
     "data": {
      "text/plain": [
       "False"
      ]
     },
     "execution_count": 58,
     "metadata": {},
     "output_type": "execute_result"
    }
   ],
   "source": [
    "# 可以使用 isinstance()判断一个对象是否是Iterator对象：\n",
    "\n",
    "from collections.abc import Iterator\n",
    "\n",
    "isinstance([], Iterator)"
   ]
  },
  {
   "cell_type": "code",
   "execution_count": 59,
   "id": "5bba827f-54f3-4896-a1b5-f91493393dcd",
   "metadata": {},
   "outputs": [
    {
     "data": {
      "text/plain": [
       "True"
      ]
     },
     "execution_count": 59,
     "metadata": {},
     "output_type": "execute_result"
    }
   ],
   "source": [
    "isinstance((x for x in range(10)), Iterator)"
   ]
  },
  {
   "cell_type": "markdown",
   "id": "0a9c9ec6-8737-4ef0-918b-165bb280c74b",
   "metadata": {},
   "source": [
    "生成器都是 Iterator 对象，但 list、dict、str 虽然是 Iterable，却不是Iterator。\n",
    "\n",
    "把 list、dict、str 等 Iterable 变成 Iterator 可以使用 iter()函数："
   ]
  },
  {
   "cell_type": "code",
   "execution_count": 60,
   "id": "8766695f-f296-45a3-ac29-eef70454bbce",
   "metadata": {},
   "outputs": [
    {
     "data": {
      "text/plain": [
       "True"
      ]
     },
     "execution_count": 60,
     "metadata": {},
     "output_type": "execute_result"
    }
   ],
   "source": [
    "isinstance(iter([]), Iterator)"
   ]
  },
  {
   "cell_type": "markdown",
   "id": "bee259ff-c224-4392-80a7-5d6472a0b731",
   "metadata": {},
   "source": [
    "小结\n",
    "\n",
    "凡是可作用于 for 循环的对象都是 Iterable 类型；\n",
    "\n",
    "凡是可作用于 next() 函数的对象都是 Iterator 类型，它们表示一个惰性计算的序列；\n",
    "\n",
    "集合数据类型如 list、dict、str 等是 Iterable 但不是 Iterator，不过可以通过 iter() 函数获得一个 Iterator对象。\n",
    "\n",
    "Python 的 for 循环本质上就是通过不断调用 next() 函数实现的，例如："
   ]
  },
  {
   "cell_type": "code",
   "execution_count": 61,
   "id": "00934c3d-98c2-4a43-ab64-171f20014a49",
   "metadata": {},
   "outputs": [],
   "source": [
    "for x in [1, 2, 3, 4, 5]:\n",
    "    pass"
   ]
  },
  {
   "cell_type": "code",
   "execution_count": 62,
   "id": "78328c95-d019-40ee-bd83-7afb3f9ee3f9",
   "metadata": {},
   "outputs": [],
   "source": [
    "# 实际上完全等价于：\n",
    "\n",
    "# 首先获得Iterator对象:\n",
    "it = iter([1, 2, 3, 4, 5])\n",
    "# 循环:\n",
    "while True:\n",
    "    try:\n",
    "        # 获得下一个值:\n",
    "        x = next(it)\n",
    "    except StopIteration:\n",
    "        # 遇到StopIteration就退出循环\n",
    "        break"
   ]
  },
  {
   "cell_type": "markdown",
   "id": "f5fcbaa8-cb6a-4547-a60d-44b2f7396320",
   "metadata": {},
   "source": [
    "## 五、函数式编程"
   ]
  },
  {
   "cell_type": "markdown",
   "id": "826a1e4d-7bed-4cbf-9201-b75eea736cfa",
   "metadata": {},
   "source": [
    "函数式编程（请注意多了一个「式」字）—— Functional Programming，虽然也可以归结到面向过程的程序设计，但其思想更接近数学计算。\n",
    "\n",
    "纯粹的函数式编程语言编写的函数没有变量，因此，任意一个函数，只要输入是确定的，输出就是确定的，这种纯函数我们称之为没有副作用。\n",
    "\n",
    "函数式编程的一个特点就是，允许把函数本身作为参数传入另一个函数，还允许返回一个函数！"
   ]
  },
  {
   "cell_type": "markdown",
   "id": "013bd020-2a43-4647-b7f4-b5d0176629e9",
   "metadata": {},
   "source": [
    "### 高阶函数\n",
    "\n",
    "- 可以接受函数作为参数的函数称为高阶函数"
   ]
  },
  {
   "cell_type": "code",
   "execution_count": 63,
   "id": "a1fe31fc-d783-47e3-90b5-1d16e920ee82",
   "metadata": {},
   "outputs": [
    {
     "data": {
      "text/plain": [
       "<function abs(x, /)>"
      ]
     },
     "execution_count": 63,
     "metadata": {},
     "output_type": "execute_result"
    }
   ],
   "source": [
    "abs"
   ]
  },
  {
   "cell_type": "code",
   "execution_count": 64,
   "id": "5ec28598-da62-444c-b9d2-2f3925f14c4f",
   "metadata": {},
   "outputs": [
    {
     "data": {
      "text/plain": [
       "10"
      ]
     },
     "execution_count": 64,
     "metadata": {},
     "output_type": "execute_result"
    }
   ],
   "source": [
    "abs(-10)"
   ]
  },
  {
   "cell_type": "code",
   "execution_count": 65,
   "id": "148e5ef4-7cc5-4563-a6d9-d441125d6fde",
   "metadata": {},
   "outputs": [],
   "source": [
    "abs = 10"
   ]
  },
  {
   "cell_type": "code",
   "execution_count": 66,
   "id": "98b5aa57-a89c-4767-99e3-bc9ded829a95",
   "metadata": {},
   "outputs": [
    {
     "ename": "TypeError",
     "evalue": "'int' object is not callable",
     "output_type": "error",
     "traceback": [
      "\u001b[1;31m---------------------------------------------------------------------------\u001b[0m",
      "\u001b[1;31mTypeError\u001b[0m                                 Traceback (most recent call last)",
      "\u001b[1;32m~\\AppData\\Local\\Temp/ipykernel_2312/2703416571.py\u001b[0m in \u001b[0;36m<module>\u001b[1;34m\u001b[0m\n\u001b[1;32m----> 1\u001b[1;33m \u001b[0mabs\u001b[0m\u001b[1;33m(\u001b[0m\u001b[1;33m-\u001b[0m\u001b[1;36m10\u001b[0m\u001b[1;33m)\u001b[0m\u001b[1;33m\u001b[0m\u001b[1;33m\u001b[0m\u001b[0m\n\u001b[0m",
      "\u001b[1;31mTypeError\u001b[0m: 'int' object is not callable"
     ]
    }
   ],
   "source": [
    "abs(-10)"
   ]
  },
  {
   "cell_type": "code",
   "execution_count": 1,
   "id": "1336a78a-1ec3-421f-99d9-f62cb5d06a1c",
   "metadata": {},
   "outputs": [],
   "source": [
    "def add(a, b, f):\n",
    "    return f(a) + f(b)\n"
   ]
  },
  {
   "cell_type": "code",
   "execution_count": 2,
   "id": "4a9ba44f-a6b0-47eb-9acf-973e981a3aed",
   "metadata": {},
   "outputs": [
    {
     "data": {
      "text/plain": [
       "4"
      ]
     },
     "execution_count": 2,
     "metadata": {},
     "output_type": "execute_result"
    }
   ],
   "source": [
    "add(1, -3, abs)"
   ]
  },
  {
   "cell_type": "markdown",
   "id": "11d8a602-5914-403c-8d29-4db9508274b7",
   "metadata": {},
   "source": [
    "#### map / reduce"
   ]
  },
  {
   "cell_type": "markdown",
   "id": "11c973ce-64d4-4a22-8347-ca85c9c62183",
   "metadata": {},
   "source": [
    "- map\n",
    "\n",
    "map() 函数接收两个参数，一个是函数，一个是 Iterable，map 将传入的函数依次作用到序列的每个元素，并把结果作为新的 Iterator 返回。"
   ]
  },
  {
   "cell_type": "code",
   "execution_count": 8,
   "id": "f7f4862a-bf5f-4352-af90-dbe10f1c8407",
   "metadata": {},
   "outputs": [],
   "source": [
    "def f(x):\n",
    "    return x * x\n",
    "\n",
    "r = map(f, [1, 2, 3, 4, 5, 6, 7, 8, 9])"
   ]
  },
  {
   "cell_type": "markdown",
   "id": "df009fe7-5644-4019-b897-bd118450589f",
   "metadata": {},
   "source": [
    "结果 r 是一个 Iterator，Iterator 是惰性序列，因此通过 list() 函数让它把整个序列都计算出来并返回一个 list。"
   ]
  },
  {
   "cell_type": "code",
   "execution_count": 9,
   "id": "c8bcd9b8-4d19-4a0a-9c7c-cea9e2fa5626",
   "metadata": {},
   "outputs": [
    {
     "data": {
      "text/plain": [
       "['1', '2', '3', '4', '5', '6', '7', '8']"
      ]
     },
     "execution_count": 9,
     "metadata": {},
     "output_type": "execute_result"
    }
   ],
   "source": [
    "list(map(str, [1, 2, 3, 4, 5, 6, 7, 8]))"
   ]
  },
  {
   "cell_type": "markdown",
   "id": "332b73a2-15d0-4f87-b8b8-57bd9fc167df",
   "metadata": {},
   "source": [
    "- reduce\n",
    "\n",
    "reduce 把一个函数作用在一个序列 [x1, x2, x3, ...] 上，这个函数必须接收两个参数，reduce 把结果继续和序列的下一个元素做累积计算，其效果就是：\n",
    "reduce(f, [x1, x2, x3, x4]) = f(f(f(x1, x2), x3), x4)"
   ]
  },
  {
   "cell_type": "code",
   "execution_count": 10,
   "id": "ece460af-4d95-441a-be84-b1a9d7650db0",
   "metadata": {},
   "outputs": [
    {
     "data": {
      "text/plain": [
       "15"
      ]
     },
     "execution_count": 10,
     "metadata": {},
     "output_type": "execute_result"
    }
   ],
   "source": [
    "from functools import reduce\n",
    "\n",
    "def add(x, y):\n",
    "    return x + y\n",
    "\n",
    "reduce(add, [1, 2, 3, 4, 5])"
   ]
  },
  {
   "cell_type": "code",
   "execution_count": 12,
   "id": "b65d5ace-5c55-4f0f-b6b1-75153dac01b2",
   "metadata": {},
   "outputs": [
    {
     "data": {
      "text/plain": [
       "13456"
      ]
     },
     "execution_count": 12,
     "metadata": {},
     "output_type": "execute_result"
    }
   ],
   "source": [
    "# 将 str 转化为 int\n",
    "\n",
    "from functools import reduce\n",
    "\n",
    "def fn(x, y):\n",
    "    return x * 10 + y\n",
    "\n",
    "def char2num(s):\n",
    "    digits = {'0': 0, '1': 1, '2': 2, '3': 3, '4': 4, '5': 5, '6': 6, '7': 7, '8': 8, '9': 9}\n",
    "    return digits[s]\n",
    "\n",
    "reduce(fn, map(char2num, '13456'))"
   ]
  },
  {
   "cell_type": "code",
   "execution_count": 13,
   "id": "dd7e5fe1-962c-40f6-bd68-31e561a03725",
   "metadata": {},
   "outputs": [],
   "source": [
    "# 整理\n",
    "\n",
    "from functools import reduce\n",
    "\n",
    "DIGITS = {'0': 0, '1': 1, '2': 2, '3': 3, '4': 4, '5': 5, '6': 6, '7': 7, '8': 8, '9': 9}\n",
    "\n",
    "def str2int(s):\n",
    "    def fn(x, y):\n",
    "        return x * 10 + y\n",
    "    \n",
    "    def char2num(s):\n",
    "        return DIGITS[s]\n",
    "    \n",
    "    return reduce(fn, map(char2num, s))\n"
   ]
  },
  {
   "cell_type": "code",
   "execution_count": 14,
   "id": "6de67cbc-63dc-45a8-a4ca-889670025711",
   "metadata": {},
   "outputs": [
    {
     "data": {
      "text/plain": [
       "43534"
      ]
     },
     "execution_count": 14,
     "metadata": {},
     "output_type": "execute_result"
    }
   ],
   "source": [
    "str2int('43534')"
   ]
  },
  {
   "cell_type": "code",
   "execution_count": 16,
   "id": "3f59124c-d67b-40af-91d9-dfc87e26dcbb",
   "metadata": {},
   "outputs": [],
   "source": [
    "# 进一步用 lambda 函数简化：\n",
    "\n",
    "DIGITS = {'0': 0, '1': 1, '2': 2, '3': 3, '4': 4, '5': 5, '6': 6, '7': 7, '8': 8, '9': 9}\n",
    "\n",
    "def char2num(s):\n",
    "    return DIGITS[s]\n",
    "\n",
    "def str2int2(s):\n",
    "    return reduce(lambda x, y: x * 10 + y, map(char2num, s))"
   ]
  },
  {
   "cell_type": "code",
   "execution_count": 17,
   "id": "c3354020-532b-43d2-b142-d7cac5d6bd67",
   "metadata": {},
   "outputs": [
    {
     "data": {
      "text/plain": [
       "67590"
      ]
     },
     "execution_count": 17,
     "metadata": {},
     "output_type": "execute_result"
    }
   ],
   "source": [
    "str2int2('67590')"
   ]
  },
  {
   "cell_type": "code",
   "execution_count": 22,
   "id": "b0dd8a00-3e59-4017-98ff-f5bdd23df9ff",
   "metadata": {},
   "outputs": [],
   "source": [
    "# 练习1\n",
    "\n",
    "def name_format(s):\n",
    "    return s[:1].upper() + s[1:].lower()"
   ]
  },
  {
   "cell_type": "code",
   "execution_count": 23,
   "id": "900b6848-78a7-44e5-9371-82180ea81ddf",
   "metadata": {},
   "outputs": [
    {
     "data": {
      "text/plain": [
       "'Adf'"
      ]
     },
     "execution_count": 23,
     "metadata": {},
     "output_type": "execute_result"
    }
   ],
   "source": [
    "name_fomat('adf')"
   ]
  },
  {
   "cell_type": "code",
   "execution_count": 24,
   "id": "30edbe03-cce8-426f-9c12-7a387fe82b4b",
   "metadata": {},
   "outputs": [
    {
     "data": {
      "text/plain": [
       "['Admin', 'Lisa', 'Bart']"
      ]
     },
     "execution_count": 24,
     "metadata": {},
     "output_type": "execute_result"
    }
   ],
   "source": [
    "list(map(name_format, ['admin', 'LISA', 'barT']))"
   ]
  },
  {
   "cell_type": "code",
   "execution_count": 29,
   "id": "f6e4fcef-8e09-41ce-9e7a-cab7727496b5",
   "metadata": {},
   "outputs": [],
   "source": [
    "# 改进\n",
    "\n",
    "def normalize2(name):\n",
    "    return list(map(lambda s: s[:1].upper() + s[1:].lower(), name))"
   ]
  },
  {
   "cell_type": "code",
   "execution_count": 30,
   "id": "3daa03de-2b6b-4a70-ba80-c01e37590595",
   "metadata": {},
   "outputs": [
    {
     "data": {
      "text/plain": [
       "['Admin', 'Lisa', 'Bart']"
      ]
     },
     "execution_count": 30,
     "metadata": {},
     "output_type": "execute_result"
    }
   ],
   "source": [
    "normalize2(['admin', 'LISA', 'barT'])"
   ]
  },
  {
   "cell_type": "code",
   "execution_count": 31,
   "id": "b4a8afe3-f77b-43e3-a54b-7a7823232775",
   "metadata": {},
   "outputs": [],
   "source": [
    "# 练习2\n",
    "\n",
    "from functools import reduce\n",
    "\n",
    "def prod(list):\n",
    "    return reduce(lambda x, y: x * y, list)"
   ]
  },
  {
   "cell_type": "code",
   "execution_count": 32,
   "id": "6f74b464-4c1c-4cad-b443-7904cb7ef28d",
   "metadata": {},
   "outputs": [
    {
     "data": {
      "text/plain": [
       "6"
      ]
     },
     "execution_count": 32,
     "metadata": {},
     "output_type": "execute_result"
    }
   ],
   "source": [
    "prod([1, 2, 3])"
   ]
  },
  {
   "cell_type": "code",
   "execution_count": 63,
   "id": "f2e8efa5-89a4-4c95-9fb2-af59e6b8bd94",
   "metadata": {},
   "outputs": [],
   "source": [
    "# 练习3\n",
    "\n",
    "from functools import reduce\n",
    "\n",
    "DIGITS = {'0': 0, '1': 1, '2': 2, '3': 3, '4': 4, '5': 5, '6': 6, '7': 7, '8': 8, '9': 9}\n",
    "\n",
    "def str2float(s):\n",
    "    i = 0\n",
    "    for c in s:\n",
    "        if (c == '.'):\n",
    "            break\n",
    "        i += 1\n",
    "    s1 = s[:i]\n",
    "    s2 = s[i+1:]\n",
    "    \n",
    "    def char2num(s):\n",
    "        return DIGITS[s]\n",
    "    \n",
    "    sum1 = reduce(lambda x, y: x * 10 + y, map(char2num, s1))\n",
    "    sum2 = reduce(lambda x, y: x * 10 + y, map(char2num, s2)) / pow(10, len(s2))\n",
    "    \n",
    "    return sum1 + sum2"
   ]
  },
  {
   "cell_type": "code",
   "execution_count": 64,
   "id": "29b145c1-4b4f-44f0-9372-d822d38492f5",
   "metadata": {},
   "outputs": [
    {
     "data": {
      "text/plain": [
       "123.456"
      ]
     },
     "execution_count": 64,
     "metadata": {},
     "output_type": "execute_result"
    }
   ],
   "source": [
    "str2float('123.456')"
   ]
  },
  {
   "cell_type": "code",
   "execution_count": 73,
   "id": "49ee614b-6ab9-413b-a1a9-6505fa02273d",
   "metadata": {},
   "outputs": [],
   "source": [
    "# 练习3\n",
    "\n",
    "from functools import reduce\n",
    "\n",
    "DIGITS = {'0': 0, '1': 1, '2': 2, '3': 3, '4': 4, '5': 5, '6': 6, '7': 7, '8': 8, '9': 9}\n",
    "\n",
    "def str2float(s):\n",
    "    i = 0\n",
    "    for c in s:\n",
    "        if (c == '.'):\n",
    "            break\n",
    "        i += 1\n",
    "    s1 = s[:i]\n",
    "    s2 = s[i+1:]\n",
    "    ss = s1 + s2\n",
    "    \n",
    "    def char2num(s):\n",
    "        return DIGITS[s]\n",
    "    \n",
    "    return reduce(lambda x, y: x * 10 + y, map(char2num, ss)) / pow(10, len(s)-i -1)\n",
    "   "
   ]
  },
  {
   "cell_type": "code",
   "execution_count": 74,
   "id": "a1334c7c-d591-4520-a809-113d1de6cd30",
   "metadata": {},
   "outputs": [
    {
     "data": {
      "text/plain": [
       "2324.45"
      ]
     },
     "execution_count": 74,
     "metadata": {},
     "output_type": "execute_result"
    }
   ],
   "source": [
    "str2float('2324.45')"
   ]
  },
  {
   "cell_type": "markdown",
   "id": "5e90c24c-a19a-497a-a0d7-069a21ae7738",
   "metadata": {},
   "source": [
    "#### filter \n",
    "\n",
    "filter() 也接收一个函数和一个序列。\n",
    "\n",
    "filter() 把传入的函数依次作用于每个元素，然后根据返回值是 True 还是False 决定保留还是丢弃该元素。"
   ]
  },
  {
   "cell_type": "code",
   "execution_count": 78,
   "id": "452b3415-a9ec-4c54-8d1b-1d19aeadd2c6",
   "metadata": {},
   "outputs": [
    {
     "data": {
      "text/plain": [
       "False"
      ]
     },
     "execution_count": 78,
     "metadata": {},
     "output_type": "execute_result"
    }
   ],
   "source": [
    "# 筛选奇数\n",
    "\n",
    "def is_odd(n):\n",
    "    return n % 2 == 1\n",
    "\n",
    "is_odd(4)"
   ]
  },
  {
   "cell_type": "code",
   "execution_count": 79,
   "id": "2d5c1606-8175-46f4-9eaf-1297354615e0",
   "metadata": {},
   "outputs": [
    {
     "data": {
      "text/plain": [
       "[1, 3, 5]"
      ]
     },
     "execution_count": 79,
     "metadata": {},
     "output_type": "execute_result"
    }
   ],
   "source": [
    "list(filter(is_odd, [1, 2, 3, 4, 5, 6]))"
   ]
  },
  {
   "cell_type": "code",
   "execution_count": 77,
   "id": "1a74216d-27a0-4a85-85b1-54951f767838",
   "metadata": {},
   "outputs": [
    {
     "data": {
      "text/plain": [
       "['A', 'B', 'C']"
      ]
     },
     "execution_count": 77,
     "metadata": {},
     "output_type": "execute_result"
    }
   ],
   "source": [
    "# 删除空字符串\n",
    "\n",
    "def not_empty(s):\n",
    "    return s and s.strip()\n",
    "\n",
    "list(filter(not_empty, ['A', '', 'B', None, 'C', '  ']))"
   ]
  },
  {
   "cell_type": "markdown",
   "id": "7d2add51-32ad-4afd-87a9-46dc7b1a4915",
   "metadata": {},
   "source": [
    "# tag: 从「用 filter 求素数」开始未看，做个标记"
   ]
  },
  {
   "cell_type": "markdown",
   "id": "ffb28e7f-2733-4f78-bf40-b07de06d4bd2",
   "metadata": {},
   "source": [
    "#### sorted\n",
    "\n",
    "sorted() 函数也是一个高阶函数，它还可以接收一个 key 函数来实现自定义的排序.\n",
    "\n",
    "用 sorted() 排序的关键在于实现一个映射函数。"
   ]
  },
  {
   "cell_type": "code",
   "execution_count": 81,
   "id": "a5948a7b-fb90-486c-89f5-2290f34c03af",
   "metadata": {},
   "outputs": [
    {
     "data": {
      "text/plain": [
       "[-5, -3, 6, 12, 43, 46]"
      ]
     },
     "execution_count": 81,
     "metadata": {},
     "output_type": "execute_result"
    }
   ],
   "source": [
    "sorted([43, -5, 6, -3, 12, 46])"
   ]
  },
  {
   "cell_type": "code",
   "execution_count": 82,
   "id": "e1bfc9d8-18eb-4fbb-b48b-e6086c8175d4",
   "metadata": {},
   "outputs": [
    {
     "data": {
      "text/plain": [
       "[-3, -5, 6, 12, 43, 46]"
      ]
     },
     "execution_count": 82,
     "metadata": {},
     "output_type": "execute_result"
    }
   ],
   "source": [
    "sorted([43, -5, 6, -3, 12, 46], key=abs)"
   ]
  },
  {
   "cell_type": "code",
   "execution_count": 83,
   "id": "b9c74d02-3d8c-452f-b087-67831ead80b1",
   "metadata": {},
   "outputs": [
    {
     "data": {
      "text/plain": [
       "['Credit', 'Zoo', 'about', 'bob']"
      ]
     },
     "execution_count": 83,
     "metadata": {},
     "output_type": "execute_result"
    }
   ],
   "source": [
    "sorted(['bob', 'about', 'Zoo', 'Credit'])"
   ]
  },
  {
   "cell_type": "code",
   "execution_count": 84,
   "id": "8b947db0-b437-40db-a048-d4f9f3dfd316",
   "metadata": {},
   "outputs": [
    {
     "ename": "NameError",
     "evalue": "name 'lower' is not defined",
     "output_type": "error",
     "traceback": [
      "\u001b[1;31m---------------------------------------------------------------------------\u001b[0m",
      "\u001b[1;31mNameError\u001b[0m                                 Traceback (most recent call last)",
      "\u001b[1;32m~\\AppData\\Local\\Temp/ipykernel_4256/1833428979.py\u001b[0m in \u001b[0;36m<module>\u001b[1;34m\u001b[0m\n\u001b[1;32m----> 1\u001b[1;33m \u001b[0msorted\u001b[0m\u001b[1;33m(\u001b[0m\u001b[1;33m[\u001b[0m\u001b[1;34m'bob'\u001b[0m\u001b[1;33m,\u001b[0m \u001b[1;34m'about'\u001b[0m\u001b[1;33m,\u001b[0m \u001b[1;34m'Zoo'\u001b[0m\u001b[1;33m,\u001b[0m \u001b[1;34m'Credit'\u001b[0m\u001b[1;33m]\u001b[0m\u001b[1;33m,\u001b[0m \u001b[0mkey\u001b[0m\u001b[1;33m=\u001b[0m\u001b[0mlower\u001b[0m\u001b[1;33m)\u001b[0m\u001b[1;33m\u001b[0m\u001b[1;33m\u001b[0m\u001b[0m\n\u001b[0m",
      "\u001b[1;31mNameError\u001b[0m: name 'lower' is not defined"
     ]
    }
   ],
   "source": [
    " sorted(['bob', 'about', 'Zoo', 'Credit'], key=lower)"
   ]
  },
  {
   "cell_type": "code",
   "execution_count": 85,
   "id": "70fb9775-0c45-4091-b11e-c6b6ff5c2135",
   "metadata": {},
   "outputs": [
    {
     "data": {
      "text/plain": [
       "['about', 'bob', 'Credit', 'Zoo']"
      ]
     },
     "execution_count": 85,
     "metadata": {},
     "output_type": "execute_result"
    }
   ],
   "source": [
    " sorted(['bob', 'about', 'Zoo', 'Credit'], key=str.lower)"
   ]
  },
  {
   "cell_type": "code",
   "execution_count": 88,
   "id": "047f820c-a65e-40de-a560-96d0118a18be",
   "metadata": {},
   "outputs": [
    {
     "data": {
      "text/plain": [
       "['Zoo', 'Credit', 'bob', 'about']"
      ]
     },
     "execution_count": 88,
     "metadata": {},
     "output_type": "execute_result"
    }
   ],
   "source": [
    "# 反向排序\n",
    "\n",
    "sorted(['bob', 'about', 'Zoo', 'Credit'], key=str.lower, reverse=True)"
   ]
  },
  {
   "cell_type": "code",
   "execution_count": 99,
   "id": "8d30e17c-5b6c-4e5a-b4c2-3f9679ceee86",
   "metadata": {},
   "outputs": [],
   "source": [
    "# 练习\n",
    "\n",
    "L = [('Bob', 75), ('Adam', 92), ('Bart', 66), ('Lisa', 88)]\n",
    "\n",
    "def by_name(t):  # 我理解错了，这里的 t 已经是一个元组元素了，而非 L\n",
    "    L = []\n",
    "    for iterm in t:\n",
    "        L.append(iterm[0])\n",
    "    return L"
   ]
  },
  {
   "cell_type": "code",
   "execution_count": 100,
   "id": "f71b06e7-8ed8-4556-a250-4a865cc52f4e",
   "metadata": {},
   "outputs": [
    {
     "data": {
      "text/plain": [
       "['Bob', 'Adam', 'Bart', 'Lisa']"
      ]
     },
     "execution_count": 100,
     "metadata": {},
     "output_type": "execute_result"
    }
   ],
   "source": [
    "by_name(L)"
   ]
  },
  {
   "cell_type": "code",
   "execution_count": 98,
   "id": "1ffc125a-e194-4833-9026-ff377f524aa3",
   "metadata": {},
   "outputs": [
    {
     "ename": "TypeError",
     "evalue": "'int' object is not subscriptable",
     "output_type": "error",
     "traceback": [
      "\u001b[1;31m---------------------------------------------------------------------------\u001b[0m",
      "\u001b[1;31mTypeError\u001b[0m                                 Traceback (most recent call last)",
      "\u001b[1;32m~\\AppData\\Local\\Temp/ipykernel_4256/1219581985.py\u001b[0m in \u001b[0;36m<module>\u001b[1;34m\u001b[0m\n\u001b[1;32m----> 1\u001b[1;33m \u001b[0msorted\u001b[0m\u001b[1;33m(\u001b[0m\u001b[0mL\u001b[0m\u001b[1;33m,\u001b[0m \u001b[0mkey\u001b[0m\u001b[1;33m=\u001b[0m\u001b[0mby_name\u001b[0m\u001b[1;33m)\u001b[0m\u001b[1;33m\u001b[0m\u001b[1;33m\u001b[0m\u001b[0m\n\u001b[0m",
      "\u001b[1;32m~\\AppData\\Local\\Temp/ipykernel_4256/4155555369.py\u001b[0m in \u001b[0;36mby_name\u001b[1;34m(t)\u001b[0m\n\u001b[0;32m      6\u001b[0m     \u001b[0mL\u001b[0m \u001b[1;33m=\u001b[0m \u001b[1;33m[\u001b[0m\u001b[1;33m]\u001b[0m\u001b[1;33m\u001b[0m\u001b[1;33m\u001b[0m\u001b[0m\n\u001b[0;32m      7\u001b[0m     \u001b[1;32mfor\u001b[0m \u001b[0miterm\u001b[0m \u001b[1;32min\u001b[0m \u001b[0mt\u001b[0m\u001b[1;33m:\u001b[0m\u001b[1;33m\u001b[0m\u001b[1;33m\u001b[0m\u001b[0m\n\u001b[1;32m----> 8\u001b[1;33m         \u001b[0mL\u001b[0m\u001b[1;33m.\u001b[0m\u001b[0mappend\u001b[0m\u001b[1;33m(\u001b[0m\u001b[0miterm\u001b[0m\u001b[1;33m[\u001b[0m\u001b[1;36m1\u001b[0m\u001b[1;33m]\u001b[0m\u001b[1;33m)\u001b[0m\u001b[1;33m\u001b[0m\u001b[1;33m\u001b[0m\u001b[0m\n\u001b[0m\u001b[0;32m      9\u001b[0m     \u001b[1;32mreturn\u001b[0m \u001b[0mL\u001b[0m\u001b[1;33m\u001b[0m\u001b[1;33m\u001b[0m\u001b[0m\n",
      "\u001b[1;31mTypeError\u001b[0m: 'int' object is not subscriptable"
     ]
    }
   ],
   "source": [
    "sorted(L, key=by_name)"
   ]
  },
  {
   "cell_type": "code",
   "execution_count": 101,
   "id": "cc8f4fa9-0061-4204-b0fe-d93e01e21937",
   "metadata": {},
   "outputs": [
    {
     "data": {
      "text/plain": [
       "[('Adam', 92), ('Bart', 66), ('Bob', 75), ('Lisa', 88)]"
      ]
     },
     "execution_count": 101,
     "metadata": {},
     "output_type": "execute_result"
    }
   ],
   "source": [
    "def by_name(t):\n",
    "    return t[0]\n",
    "\n",
    "sorted(L, key = by_name)"
   ]
  },
  {
   "cell_type": "code",
   "execution_count": 102,
   "id": "759cde06-bcf1-48bf-8ce2-3daacc7ed719",
   "metadata": {},
   "outputs": [
    {
     "data": {
      "text/plain": [
       "[('Adam', 92), ('Lisa', 88), ('Bob', 75), ('Bart', 66)]"
      ]
     },
     "execution_count": 102,
     "metadata": {},
     "output_type": "execute_result"
    }
   ],
   "source": [
    "def by_score(t):\n",
    "    return t[1]\n",
    "\n",
    "sorted(L, key = by_score, reverse=True)"
   ]
  },
  {
   "cell_type": "code",
   "execution_count": 104,
   "id": "4a5165d0-00de-4acd-93f5-bd94d04fe39b",
   "metadata": {},
   "outputs": [
    {
     "data": {
      "text/plain": [
       "[('Adam', 92), ('Lisa', 88), ('Bob', 75), ('Bart', 66)]"
      ]
     },
     "execution_count": 104,
     "metadata": {},
     "output_type": "execute_result"
    }
   ],
   "source": [
    "# 简化\n",
    "\n",
    "sorted(L, key = lambda x: x[1], reverse=True)"
   ]
  },
  {
   "cell_type": "markdown",
   "id": "a339c923-8e01-43f4-80c5-40d6dbef5fb2",
   "metadata": {},
   "source": [
    "### 返回函数\n",
    "\n",
    "把函数作为结果返回"
   ]
  },
  {
   "cell_type": "code",
   "execution_count": 2,
   "id": "153811a3-9166-46f3-bd07-2efada670d86",
   "metadata": {},
   "outputs": [],
   "source": [
    "def lazy_sum(*args):\n",
    "    def sum():\n",
    "        ax = 0\n",
    "        for n in args:\n",
    "            ax += n\n",
    "        return ax\n",
    "    return sum"
   ]
  },
  {
   "cell_type": "code",
   "execution_count": 3,
   "id": "d90a67e6-0508-4a80-94f1-2ab0a49a2668",
   "metadata": {},
   "outputs": [],
   "source": [
    "f = lazy_sum(1, 3, 5, 7)"
   ]
  },
  {
   "cell_type": "code",
   "execution_count": 4,
   "id": "9c102d58-b1a6-4ee7-a6fb-599466478d04",
   "metadata": {},
   "outputs": [
    {
     "data": {
      "text/plain": [
       "<function __main__.lazy_sum.<locals>.sum()>"
      ]
     },
     "execution_count": 4,
     "metadata": {},
     "output_type": "execute_result"
    }
   ],
   "source": [
    "f"
   ]
  },
  {
   "cell_type": "code",
   "execution_count": 5,
   "id": "91f9bac5-7a99-47c8-82e1-82215250b144",
   "metadata": {},
   "outputs": [
    {
     "data": {
      "text/plain": [
       "16"
      ]
     },
     "execution_count": 5,
     "metadata": {},
     "output_type": "execute_result"
    }
   ],
   "source": [
    "f()"
   ]
  },
  {
   "cell_type": "code",
   "execution_count": 3,
   "id": "292c6b68-573d-41fc-ace0-a2cdf823f293",
   "metadata": {},
   "outputs": [
    {
     "data": {
      "text/plain": [
       "False"
      ]
     },
     "execution_count": 3,
     "metadata": {},
     "output_type": "execute_result"
    }
   ],
   "source": [
    "f1 = lazy_sum()\n",
    "f2 = lazy_sum()\n",
    "\n",
    "f1 == f2"
   ]
  },
  {
   "cell_type": "code",
   "execution_count": 7,
   "id": "6f270988-e1fd-4c8a-bc23-6f3bbb4b5970",
   "metadata": {},
   "outputs": [],
   "source": [
    "def createCounter():\n",
    "    n = 0\n",
    "    def counter():\n",
    "        nonlocal n\n",
    "        n = n + 1\n",
    "        return n\n",
    "    return counter"
   ]
  },
  {
   "cell_type": "code",
   "execution_count": 8,
   "id": "31af639e-f96a-45c7-8604-c399b25ac055",
   "metadata": {},
   "outputs": [],
   "source": [
    "f = createCounter()"
   ]
  },
  {
   "cell_type": "code",
   "execution_count": 11,
   "id": "47ea0831-d71f-45f0-8394-5d325ce5c4d0",
   "metadata": {},
   "outputs": [
    {
     "data": {
      "text/plain": [
       "3"
      ]
     },
     "execution_count": 11,
     "metadata": {},
     "output_type": "execute_result"
    }
   ],
   "source": [
    "f()"
   ]
  },
  {
   "cell_type": "markdown",
   "id": "c75dd61b-c854-4406-acc4-24cb5b3016db",
   "metadata": {},
   "source": [
    "### 匿名函数 lambda\n",
    "\n",
    "只有一些简单的情况下可以使用匿名函数"
   ]
  },
  {
   "cell_type": "code",
   "execution_count": 8,
   "id": "e1a50996-fd8e-477c-adc6-d6dec8f60807",
   "metadata": {},
   "outputs": [],
   "source": [
    "L = list(filter(lambda x: x % 2 == 1, range(1, 20)))"
   ]
  },
  {
   "cell_type": "code",
   "execution_count": 9,
   "id": "c23e3e5b-d97d-4395-b877-67f08b89e110",
   "metadata": {},
   "outputs": [
    {
     "data": {
      "text/plain": [
       "[1, 3, 5, 7, 9, 11, 13, 15, 17, 19]"
      ]
     },
     "execution_count": 9,
     "metadata": {},
     "output_type": "execute_result"
    }
   ],
   "source": [
    "L"
   ]
  },
  {
   "cell_type": "markdown",
   "id": "334e7979-0103-43aa-9525-b38d37b4581c",
   "metadata": {},
   "source": [
    "### 装饰器（Decorator)"
   ]
  },
  {
   "cell_type": "markdown",
   "id": "055d7be8-b604-400e-9a49-f5442ea87382",
   "metadata": {},
   "source": [
    "代码运行期间调用函数时，动态增加函数功能的方式，叫做装饰器"
   ]
  },
  {
   "cell_type": "code",
   "execution_count": 10,
   "id": "a102c796-00d1-4a26-8f55-47165f299f6e",
   "metadata": {},
   "outputs": [],
   "source": [
    "def now():\n",
    "    print('2022-1-13')"
   ]
  },
  {
   "cell_type": "code",
   "execution_count": 11,
   "id": "e372d328-a0d0-4b4c-9a79-fdd86a28811c",
   "metadata": {},
   "outputs": [
    {
     "name": "stdout",
     "output_type": "stream",
     "text": [
      "2022-1-13\n"
     ]
    }
   ],
   "source": [
    "f = now\n",
    "f()"
   ]
  },
  {
   "cell_type": "code",
   "execution_count": 12,
   "id": "3498f67e-f5fc-4f39-942a-94f50d0b4c93",
   "metadata": {},
   "outputs": [
    {
     "data": {
      "text/plain": [
       "'now'"
      ]
     },
     "execution_count": 12,
     "metadata": {},
     "output_type": "execute_result"
    }
   ],
   "source": [
    "now.__name__"
   ]
  },
  {
   "cell_type": "code",
   "execution_count": 13,
   "id": "75f67c59-031d-4758-8bf0-5b6a1b8f0fff",
   "metadata": {},
   "outputs": [
    {
     "data": {
      "text/plain": [
       "'now'"
      ]
     },
     "execution_count": 13,
     "metadata": {},
     "output_type": "execute_result"
    }
   ],
   "source": [
    "f.__name__"
   ]
  },
  {
   "cell_type": "code",
   "execution_count": 18,
   "id": "db68b895-090a-4b79-8b32-073774df3b96",
   "metadata": {},
   "outputs": [],
   "source": [
    "# 实现调用任意函数时打印日志\n",
    "\n",
    "import functools\n",
    "\n",
    "def log(func):\n",
    "    @functools.wraps(func)\n",
    "    def wrapper(*args, **kw):\n",
    "        print('call %s()' % func.__name__)\n",
    "        return func(*args, **kw)\n",
    "    return wrapper\n",
    "\n",
    "@log\n",
    "def now():\n",
    "    print('2022-1-14')\n",
    "    \n",
    "# 相当于 now = log(now)"
   ]
  },
  {
   "cell_type": "code",
   "execution_count": 19,
   "id": "0e5c72bf-4640-4af3-a346-d24b395256f4",
   "metadata": {},
   "outputs": [
    {
     "name": "stdout",
     "output_type": "stream",
     "text": [
      "call now()\n",
      "2022-1-14\n"
     ]
    }
   ],
   "source": [
    "now()"
   ]
  },
  {
   "cell_type": "code",
   "execution_count": 20,
   "id": "fab0faf8-feb4-4f05-a718-d596110e8e24",
   "metadata": {},
   "outputs": [
    {
     "data": {
      "text/plain": [
       "'now'"
      ]
     },
     "execution_count": 20,
     "metadata": {},
     "output_type": "execute_result"
    }
   ],
   "source": [
    "now.__name__"
   ]
  },
  {
   "cell_type": "markdown",
   "id": "08f10c1f-d6bb-489e-b025-edb8fffe87fe",
   "metadata": {},
   "source": [
    "练习：请设计一个decorator，它可作用于任何函数上，并打印该函数的执行时间："
   ]
  },
  {
   "cell_type": "code",
   "execution_count": 22,
   "id": "ee406593-04a8-4ad9-af2e-c65bea9cdeae",
   "metadata": {},
   "outputs": [],
   "source": [
    "import time, functools\n",
    "\n",
    "def metric(func):\n",
    "    @functools.wraps(func)\n",
    "    def wrapper(*args, **kw):\n",
    "        t = time.perf_counter()\n",
    "        f = func(*args, **kw)\n",
    "        print('%s executed in %s ms' % (func.__name__, time.perf_counter() - t))\n",
    "        return f\n",
    "    return wrapper"
   ]
  },
  {
   "cell_type": "markdown",
   "id": "9892f4af-de46-4271-a67c-2b10191685df",
   "metadata": {},
   "source": [
    "### 偏函数"
   ]
  },
  {
   "cell_type": "markdown",
   "id": "7e8a5a00-5ae2-4c72-baa5-b2574a98217b",
   "metadata": {},
   "source": [
    "作用：把一个函数的某些参数给固定住（也就是设置默认值），返回一个新函数\n",
    "\n",
    "当函数的参数个数太多，需要简化时，使用 functools.partial 可以创建一个新的函数，这个新函数可以固定住原函数的部分参数，从而在调用时更简单。"
   ]
  },
  {
   "cell_type": "code",
   "execution_count": 23,
   "id": "1da32887-fd2c-414d-919c-8d15039cf30e",
   "metadata": {},
   "outputs": [],
   "source": [
    "import functools\n",
    "\n",
    "int2 = functools.partial(int, base=2)"
   ]
  },
  {
   "cell_type": "code",
   "execution_count": 24,
   "id": "37755f74-e605-4c95-b60a-7fad9d03e559",
   "metadata": {},
   "outputs": [
    {
     "data": {
      "text/plain": [
       "85"
      ]
     },
     "execution_count": 24,
     "metadata": {},
     "output_type": "execute_result"
    }
   ],
   "source": [
    "int2('1010101')"
   ]
  },
  {
   "cell_type": "code",
   "execution_count": 25,
   "id": "bd8f8883-90c1-4134-bcc1-2e5d739c0d41",
   "metadata": {},
   "outputs": [
    {
     "data": {
      "text/plain": [
       "1010101"
      ]
     },
     "execution_count": 25,
     "metadata": {},
     "output_type": "execute_result"
    }
   ],
   "source": [
    "int2('1010101', base=10)"
   ]
  },
  {
   "cell_type": "markdown",
   "id": "605ae5ea-47ca-4f72-a0f6-8417064fbefc",
   "metadata": {},
   "source": [
    "## 六、模块"
   ]
  },
  {
   "cell_type": "markdown",
   "id": "15e1a6a8-bcdc-4554-b27f-b78ecc4e6677",
   "metadata": {},
   "source": [
    "包：文件夹（目录）。目录下面都会有一个 __init__.py 的文件，这个文件是必须存在的，否则，Python 就把这个目录当成普通目录，而不是一个包。\n",
    "\n",
    "__init__.py 可以是空文件，也可以有Python代码，因为__init__.py本身就是一个模块\n",
    "\n",
    "模块：xx.py ，自定义、系统内置、第三方\n",
    "\n",
    "- 自定义模块名不要与系统的模块名冲突，否则会导致系统模块无法使用；\n",
    "- 检查方法：在 Python 交互式环境下执行 import 自定义的模块名 ，若成功则说明系统存在此模块。"
   ]
  },
  {
   "cell_type": "markdown",
   "id": "458a5469-b52c-4083-bacc-44a7b8f2218c",
   "metadata": {},
   "source": [
    "自定义模块名不要与系统的模块名冲突，否则会导致系统模块无法使用；\n",
    "\n",
    "检查方法：在 Python 交互式环境下执行 `import 自定义的模块名` ，若成功则说明系统存在此模块。"
   ]
  },
  {
   "cell_type": "markdown",
   "id": "11b4da44-36cb-4f98-8401-66621ac62ef2",
   "metadata": {},
   "source": [
    "### 使用模块"
   ]
  },
  {
   "cell_type": "markdown",
   "id": "de4435f7-ae66-4110-a9c9-76f38ea8b657",
   "metadata": {},
   "source": [
    "Python 模块的标准文件模板："
   ]
  },
  {
   "cell_type": "code",
   "execution_count": 26,
   "id": "5d763383-d8cb-4d5f-a80e-f8b2263e2883",
   "metadata": {},
   "outputs": [],
   "source": [
    "#!/usr/bin/env python3   \n",
    "# -*- coding: utf-8 -*-\n",
    "\n",
    "'a test module'   # 文档注释\n",
    "\n",
    "__author__ = 'Pokoai'\n",
    "\n",
    "import sys\n",
    "\n",
    "def test():\n",
    "    args = sys.argv\n",
    "    if len(args) == 1:\n",
    "        print('Hello, World')\n",
    "    elif len(args) == 2:\n",
    "        print('Hello, %s' % args[1])\n",
    "    else:\n",
    "        print('Too many arguments!')\n",
    "        \n",
    "if __name__ == '__main__':\n",
    "    test()"
   ]
  },
  {
   "cell_type": "markdown",
   "id": "374b54e2-d06c-4ff9-bdbd-cc6b3a4b8f19",
   "metadata": {},
   "source": [
    "在命令行运行该模块时，Python 解释器会把 __name__ 这个特殊变量置为 __main__，因此可以在 if 下执行一些额外的代码，最常见的就是运行测试。\n",
    "\n",
    "而如果在其他地方导入该模块时，if 判断将失败，其下面的语句不会执行。"
   ]
  },
  {
   "cell_type": "markdown",
   "id": "57de8111-7b46-4afc-a71d-56482649e16a",
   "metadata": {},
   "source": [
    "#### 作用域"
   ]
  },
  {
   "cell_type": "markdown",
   "id": "4b24a2d0-f02f-4614-bdb0-39ed00fff376",
   "metadata": {},
   "source": [
    "模块文件中的某些函数和变量不希望给别人使用，仅仅在模块内部使用时，通过 _ 前缀来实现。\n",
    "\n",
    "类似 _xxx 和 __xxx 这样的函数或变量就是非公开的（private），不应该被直接引用，比如 _abc，__abc 等。\n",
    "\n",
    "类似 __xxx__ 这样的变量是特殊变量，可以被直接引用，但是有特殊用途。\n",
    "\n",
    "模块定义的文档注释也可以用特殊变量 __doc__ 访问。"
   ]
  },
  {
   "cell_type": "markdown",
   "id": "960db9f2-7d91-417d-8283-8e5f646d4ca4",
   "metadata": {},
   "source": [
    "### 安装第三方模块"
   ]
  },
  {
   "cell_type": "markdown",
   "id": "554ab164-8b8c-46b8-adba-421bbfa44cf2",
   "metadata": {},
   "source": [
    "用 pip 一个一个安装费时费力，还需要考虑兼容性。\n",
    "\n",
    "推荐直接使用 Anaconda，这是一个基于 Python 的数据处理和科学计算平台，它已经内置了许多非常有用的第三方库。\n",
    "\n",
    "下载后直接安装，Anaconda 会把系统 Path 中的 python 指向自己自带的 Python，并且，Anaconda 安装的第三方模块会安装在 Anaconda 自己的路径下，不影响系统已安装的 Python 目录。"
   ]
  },
  {
   "cell_type": "markdown",
   "id": "635bbe83-4446-44d2-934e-47e2faef8628",
   "metadata": {},
   "source": [
    "#### 模块搜索路径"
   ]
  },
  {
   "cell_type": "code",
   "execution_count": 29,
   "id": "3c704276-a0c8-443b-888b-5232b9b413be",
   "metadata": {},
   "outputs": [
    {
     "data": {
      "text/plain": [
       "['D:\\\\Project\\\\Python-Learning\\\\Python笔记',\n",
       " 'C:\\\\Users\\\\H.M\\\\anaconda3\\\\envs\\\\jupyterlab\\\\python39.zip',\n",
       " 'C:\\\\Users\\\\H.M\\\\anaconda3\\\\envs\\\\jupyterlab\\\\DLLs',\n",
       " 'C:\\\\Users\\\\H.M\\\\anaconda3\\\\envs\\\\jupyterlab\\\\lib',\n",
       " 'C:\\\\Users\\\\H.M\\\\anaconda3\\\\envs\\\\jupyterlab',\n",
       " '',\n",
       " 'C:\\\\Users\\\\H.M\\\\anaconda3\\\\envs\\\\jupyterlab\\\\lib\\\\site-packages',\n",
       " 'C:\\\\Users\\\\H.M\\\\anaconda3\\\\envs\\\\jupyterlab\\\\lib\\\\site-packages\\\\locket-0.2.1-py3.9.egg',\n",
       " 'C:\\\\Users\\\\H.M\\\\anaconda3\\\\envs\\\\jupyterlab\\\\lib\\\\site-packages\\\\win32',\n",
       " 'C:\\\\Users\\\\H.M\\\\anaconda3\\\\envs\\\\jupyterlab\\\\lib\\\\site-packages\\\\win32\\\\lib',\n",
       " 'C:\\\\Users\\\\H.M\\\\anaconda3\\\\envs\\\\jupyterlab\\\\lib\\\\site-packages\\\\Pythonwin',\n",
       " 'C:\\\\Users\\\\H.M\\\\anaconda3\\\\envs\\\\jupyterlab\\\\lib\\\\site-packages\\\\IPython\\\\extensions',\n",
       " 'C:\\\\Users\\\\H.M\\\\.ipython']"
      ]
     },
     "execution_count": 29,
     "metadata": {},
     "output_type": "execute_result"
    }
   ],
   "source": [
    "import sys\n",
    "\n",
    "sys.path"
   ]
  },
  {
   "cell_type": "markdown",
   "id": "ba6adb90-fa93-4f5e-8e84-df978d77b484",
   "metadata": {},
   "source": [
    "如果要添加自己的搜索目录，有两种方法："
   ]
  },
  {
   "cell_type": "code",
   "execution_count": 33,
   "id": "250f5c06-24bd-4d38-b647-5b6499be60d5",
   "metadata": {},
   "outputs": [],
   "source": [
    "# 法1：直接修改 sys.path，临时生效\n",
    "\n",
    "import sys\n",
    "\n",
    "# sys.path.append('/Users/poko/my_py_scripts')\n",
    "\n",
    "# 这种方法是在运行时修改，运行结束后失效"
   ]
  },
  {
   "cell_type": "markdown",
   "id": "192e2655-7732-490a-9b11-cc3aab30bf91",
   "metadata": {},
   "source": [
    "法2：设置环境变量 PYTHONPATH\n",
    "\n",
    "该环境变量的内容会被自动添加到模块搜索路径中，设置方式与设置 Path 环境变量类似。\n",
    "\n",
    "注意只需要添加你自己的搜索路径，Python 自己本身的搜索路径不受影响。"
   ]
  },
  {
   "cell_type": "markdown",
   "id": "8bcd0127-aef3-4163-b353-ccc7820b1651",
   "metadata": {},
   "source": [
    "## 七、面向对象编程（Object Oriented Programming，OOP)"
   ]
  },
  {
   "cell_type": "markdown",
   "id": "eeb5e4e7-fdab-49d9-9a22-5d803166ed74",
   "metadata": {},
   "source": [
    "面向对象的程序设计把计算机程序视为一组对象的集合，而每个对象都可以接收其他对象发过来的消息，并处理这些消息，计算机程序的执行就是一系列消息在各个对象之间传递。\n",
    "\n",
    "面向对象的三大特点：数据封装、继承、多态。"
   ]
  },
  {
   "cell_type": "markdown",
   "id": "9b422ac9-3ec1-4d0f-a452-31e4ea7c3609",
   "metadata": {},
   "source": [
    "### 类和实例"
   ]
  },
  {
   "cell_type": "code",
   "execution_count": 36,
   "id": "029433ca-d107-4ff2-a65a-745e823be098",
   "metadata": {},
   "outputs": [],
   "source": [
    "class Student(object):\n",
    "    \n",
    "    def __init__(self, name, score):\n",
    "        self.name = name\n",
    "        self.age = score"
   ]
  },
  {
   "cell_type": "markdown",
   "id": "f9b169d6-1f1a-4c4b-a7a7-f2776d7e67bd",
   "metadata": {},
   "source": [
    "- (object)，表示该类是从哪个类继承下来的,如果没有合适的继承类，就使用object 类，这是所有类最终都会继承的类;\n",
    "- 通过定义一个特殊的 __init__ 方法，在**创建实例**的时候，就把 name，score 等属性绑上去;\n",
    "- __init__ 方法的第一个参数永远是 self，表示创建的实例本身;\n",
    "- 在创建实例的时，self 不需要传，Python 解释器自己会把实例变量传进去；\n",
    "- 方法就是与实例绑定的函数，和普通函数不同，方法可以直接访问实例的数据."
   ]
  },
  {
   "cell_type": "markdown",
   "id": "c625f676-b931-463c-badf-24fc56d21374",
   "metadata": {},
   "source": [
    "#### 数据封装"
   ]
  },
  {
   "cell_type": "code",
   "execution_count": 46,
   "id": "42f9dc58-11f8-4133-b2ac-0ca92d62598a",
   "metadata": {},
   "outputs": [],
   "source": [
    "class Student(object):\n",
    "    \n",
    "    def __init__(self, name, score):\n",
    "        self.name = name\n",
    "        self.score = score\n",
    "    \n",
    "    # 将 name、score 属性封装起来，直接在内部访问\n",
    "    def print_score(self):\n",
    "        print('%s: %s' % (self.name, self.score))"
   ]
  },
  {
   "cell_type": "code",
   "execution_count": 47,
   "id": "aa99fd9d-0792-4929-b27c-b5480c538030",
   "metadata": {},
   "outputs": [
    {
     "name": "stdout",
     "output_type": "stream",
     "text": [
      "pole: 99\n"
     ]
    }
   ],
   "source": [
    "pole = Student('pole', 99)\n",
    "\n",
    "pole.print_score()"
   ]
  },
  {
   "cell_type": "code",
   "execution_count": 48,
   "id": "d95c54d0-2cd9-4ae2-b313-eae3f2068f13",
   "metadata": {},
   "outputs": [
    {
     "data": {
      "text/plain": [
       "'pole'"
      ]
     },
     "execution_count": 48,
     "metadata": {},
     "output_type": "execute_result"
    }
   ],
   "source": [
    "pole.name"
   ]
  },
  {
   "cell_type": "markdown",
   "id": "901b1fd2-6dba-45af-ab18-2f573a4205d8",
   "metadata": {},
   "source": [
    "### 访问限制"
   ]
  },
  {
   "cell_type": "markdown",
   "id": "7bf0ffc5-c3cb-42fb-95a9-6307e894c97e",
   "metadata": {},
   "source": [
    "如果要让内部属性不被外部访问，可以把属性的名称前加上两个下划线__，在Python 中，实例的变量名如果以 __ 开头，就变成了一个私有变量（private），只有内部可以访问，外部不能访问."
   ]
  },
  {
   "cell_type": "markdown",
   "id": "8e180999-1a65-4c2f-b680-6325f5e71c86",
   "metadata": {},
   "source": [
    "有些时候，你会看到以一个下划线开头的实例变量名，比如 _name，这样的实例变量外部是可以访问的，但是，按照约定俗成的规定，当你看到这样的变量时，意思就是，“虽然我可以被访问，但是，请把我视为私有变量，不要随意访问”。"
   ]
  },
  {
   "cell_type": "code",
   "execution_count": 50,
   "id": "329452e6-7165-4ec1-8812-554125c6cf43",
   "metadata": {},
   "outputs": [],
   "source": [
    "class Student(object):\n",
    "    \n",
    "    def __init__(self, name, score):\n",
    "        self.__name = name\n",
    "        self.__score = score\n",
    "        \n",
    "    def print_score(self):\n",
    "        print('%s: %s' % (self.name, self.score))"
   ]
  },
  {
   "cell_type": "code",
   "execution_count": 51,
   "id": "83b45a1e-d372-431a-8c4d-4b01f8c5d4a1",
   "metadata": {},
   "outputs": [
    {
     "ename": "AttributeError",
     "evalue": "'Student' object has no attribute '__name'",
     "output_type": "error",
     "traceback": [
      "\u001b[1;31m---------------------------------------------------------------------------\u001b[0m",
      "\u001b[1;31mAttributeError\u001b[0m                            Traceback (most recent call last)",
      "\u001b[1;32m~\\AppData\\Local\\Temp/ipykernel_35576/85655864.py\u001b[0m in \u001b[0;36m<module>\u001b[1;34m\u001b[0m\n\u001b[0;32m      1\u001b[0m \u001b[0mpole\u001b[0m \u001b[1;33m=\u001b[0m \u001b[0mStudent\u001b[0m\u001b[1;33m(\u001b[0m\u001b[1;34m'pole'\u001b[0m\u001b[1;33m,\u001b[0m \u001b[1;36m99\u001b[0m\u001b[1;33m)\u001b[0m\u001b[1;33m\u001b[0m\u001b[1;33m\u001b[0m\u001b[0m\n\u001b[0;32m      2\u001b[0m \u001b[1;33m\u001b[0m\u001b[0m\n\u001b[1;32m----> 3\u001b[1;33m \u001b[0mpole\u001b[0m\u001b[1;33m.\u001b[0m\u001b[0m__name\u001b[0m\u001b[1;33m\u001b[0m\u001b[1;33m\u001b[0m\u001b[0m\n\u001b[0m",
      "\u001b[1;31mAttributeError\u001b[0m: 'Student' object has no attribute '__name'"
     ]
    }
   ],
   "source": [
    "pole = Student('pole', 99)\n",
    "\n",
    "pole.__name"
   ]
  },
  {
   "cell_type": "markdown",
   "id": "626cd5ef-a448-43dd-a3e8-6030a2863ed8",
   "metadata": {},
   "source": [
    "### 继承和多态"
   ]
  },
  {
   "cell_type": "code",
   "execution_count": 62,
   "id": "2e41a8cc-247e-4cf6-9385-b2a0497363f1",
   "metadata": {},
   "outputs": [],
   "source": [
    "class Animal(object):\n",
    "    def run(self):\n",
    "        print('Animal is running...')"
   ]
  },
  {
   "cell_type": "code",
   "execution_count": 53,
   "id": "4defaff2-2fee-49e3-99a0-9dbbece0d810",
   "metadata": {},
   "outputs": [],
   "source": [
    "class Dog(Animal):\n",
    "    pass"
   ]
  },
  {
   "cell_type": "code",
   "execution_count": 54,
   "id": "1d2beab9-e53b-4d34-9536-772729d0a1b8",
   "metadata": {},
   "outputs": [
    {
     "name": "stdout",
     "output_type": "stream",
     "text": [
      "Animal is running...\n"
     ]
    }
   ],
   "source": [
    "dog = Dog()\n",
    "dog.run()"
   ]
  },
  {
   "cell_type": "code",
   "execution_count": 65,
   "id": "8327e911-44ae-4240-a6a2-ddf15249c0b4",
   "metadata": {},
   "outputs": [],
   "source": [
    "class Dog(Animal):\n",
    "    def run(self):\n",
    "        print('Dog is running...')"
   ]
  },
  {
   "cell_type": "code",
   "execution_count": 66,
   "id": "d88b2b20-a609-4a59-abc2-2d52abe99e02",
   "metadata": {},
   "outputs": [
    {
     "name": "stdout",
     "output_type": "stream",
     "text": [
      "Dog is running...\n"
     ]
    }
   ],
   "source": [
    "dog1 = Dog()\n",
    "dog1.run()"
   ]
  },
  {
   "cell_type": "markdown",
   "id": "59620252-3b17-4cee-926e-77e67bfd5bf3",
   "metadata": {},
   "source": [
    "要理解什么是多态，我们首先要对数据类型再作一点说明。\n",
    "\n",
    "当我们定义一个 class 的时候，我们实际上就定义了一种数据类型。我们定义的数据类型和 Python 自带的数据类型，比如 str、list、dict 没什么两样:"
   ]
  },
  {
   "cell_type": "code",
   "execution_count": 73,
   "id": "cdd22336-cf3f-4274-bde4-e20640602b05",
   "metadata": {},
   "outputs": [],
   "source": [
    "a = list()    # a是 list 类型\n",
    "b = Animal()  # b是 Animal 类型\n",
    "c = Dog()     # c是 Dog 类型"
   ]
  },
  {
   "cell_type": "code",
   "execution_count": 74,
   "id": "d6eedc91-f7a3-40c1-ad31-eb480120168d",
   "metadata": {},
   "outputs": [
    {
     "data": {
      "text/plain": [
       "True"
      ]
     },
     "execution_count": 74,
     "metadata": {},
     "output_type": "execute_result"
    }
   ],
   "source": [
    "isinstance(c, Animal)"
   ]
  },
  {
   "cell_type": "markdown",
   "id": "ac14becf-1a32-45fc-bd02-a23971f3c0ba",
   "metadata": {},
   "source": [
    "看来 c 不仅仅是 Dog，c还是Animal"
   ]
  },
  {
   "cell_type": "code",
   "execution_count": 77,
   "id": "18bd8bfc-16e5-4f8c-a026-4d1307c08402",
   "metadata": {},
   "outputs": [],
   "source": [
    "def run_twice(animal):\n",
    "    animal.run()\n",
    "    animal.run()"
   ]
  },
  {
   "cell_type": "code",
   "execution_count": 78,
   "id": "a37724e3-92f7-4e70-adbf-3acb0afa8703",
   "metadata": {},
   "outputs": [
    {
     "name": "stdout",
     "output_type": "stream",
     "text": [
      "Animal is running...\n",
      "Animal is running...\n"
     ]
    }
   ],
   "source": [
    "run_twice(Animal())"
   ]
  },
  {
   "cell_type": "code",
   "execution_count": 79,
   "id": "ccab2833-660c-42a2-a8a3-5bba743b01a1",
   "metadata": {},
   "outputs": [
    {
     "name": "stdout",
     "output_type": "stream",
     "text": [
      "Dog is running...\n",
      "Dog is running...\n"
     ]
    }
   ],
   "source": [
    "run_twice(Dog())"
   ]
  },
  {
   "cell_type": "markdown",
   "id": "f650cb18-7b19-4af9-b14c-a8eef9536474",
   "metadata": {},
   "source": [
    "多态的好处就是：当某个函数需要传入 Dog、Cat……时，在设计该函数时，我们只需要考虑接收 Animal 类型就可以了，不需要单独为各个子类单独设计。因为 Dog、Cat、Tortoise……都是 Animal 类型，按照 Animal 类型进行操作即可。"
   ]
  },
  {
   "cell_type": "markdown",
   "id": "0af7fbce-6104-4432-8d58-845647d04ab9",
   "metadata": {},
   "source": [
    "- 静态语言 vs 动态语言"
   ]
  },
  {
   "cell_type": "markdown",
   "id": "b181e348-5957-4a7b-8986-23c3788b2107",
   "metadata": {},
   "source": [
    "对于静态语言（例如Java）来说，如果需要传入 Animal 类型，则传入的对象必须是 Animal 类型或者它的子类，否则，将无法调用 run() 方法。\n",
    "\n",
    "对于 Python 这样的动态语言来说，则不一定需要传入 Animal 类型。我们只需要保证传入的对象有一个 run() 方法就可以了： "
   ]
  },
  {
   "cell_type": "code",
   "execution_count": 80,
   "id": "b22540a0-9b26-4005-89e3-bb5b69f77b5c",
   "metadata": {},
   "outputs": [],
   "source": [
    "class Timer(object):\n",
    "    def run(self):\n",
    "        print('Start...')"
   ]
  },
  {
   "cell_type": "code",
   "execution_count": 81,
   "id": "a7e8ddfa-94ee-455c-9bc6-270ba19c1fc1",
   "metadata": {},
   "outputs": [
    {
     "name": "stdout",
     "output_type": "stream",
     "text": [
      "Start...\n",
      "Start...\n"
     ]
    }
   ],
   "source": [
    "run_twice(Timer())"
   ]
  },
  {
   "cell_type": "markdown",
   "id": "1c13c027-82fd-4b03-93b7-6964b9d7055f",
   "metadata": {},
   "source": [
    "这就是动态语言的「鸭子类型」，它并不要求严格的继承体系，一个对象只要「看起来像鸭子，走起路来像鸭子」，那它就可以被看做是鸭子。"
   ]
  },
  {
   "cell_type": "markdown",
   "id": "b31c3cfd-0b1f-459c-af83-8ce8281cc413",
   "metadata": {},
   "source": [
    "Python 的「file-like object」就是一种鸭子类型。对真正的文件对象，它有一个 read() 方法，返回其内容。\n",
    "\n",
    "但是，许多对象只要有 read() 方法，都被视为「file-like object」。\n",
    "\n",
    "许多函数接收的参数就是「file-like object」，你不一定要传入真正的文件对象，完全可以传入任何实现了 read() 方法的对象。"
   ]
  },
  {
   "cell_type": "markdown",
   "id": "6531b81e-bb91-46a6-bd62-0fe21d9506c2",
   "metadata": {},
   "source": [
    "### 获取对象信息"
   ]
  },
  {
   "cell_type": "markdown",
   "id": "36a0dd5e-3424-4872-b719-b79a1898fadb",
   "metadata": {},
   "source": [
    "当我们拿到一个对象的引用时，如何知道这个对象是什么类型、有哪些方法呢？"
   ]
  },
  {
   "cell_type": "markdown",
   "id": "b8a262f2-12ed-4c0c-916a-efab726dcb3e",
   "metadata": {},
   "source": [
    "#### 使用 type()"
   ]
  },
  {
   "cell_type": "code",
   "execution_count": 82,
   "id": "4c3d23b9-1bbe-4bd1-bb79-79d96c9c93fa",
   "metadata": {},
   "outputs": [
    {
     "data": {
      "text/plain": [
       "int"
      ]
     },
     "execution_count": 82,
     "metadata": {},
     "output_type": "execute_result"
    }
   ],
   "source": [
    "type(123)"
   ]
  },
  {
   "cell_type": "code",
   "execution_count": 83,
   "id": "edaed21d-8805-4899-9599-f8cb00c924ec",
   "metadata": {},
   "outputs": [
    {
     "data": {
      "text/plain": [
       "str"
      ]
     },
     "execution_count": 83,
     "metadata": {},
     "output_type": "execute_result"
    }
   ],
   "source": [
    "type('sf')"
   ]
  },
  {
   "cell_type": "code",
   "execution_count": 84,
   "id": "e5a69ff4-f127-47bb-9aa0-fb656699ca5b",
   "metadata": {},
   "outputs": [
    {
     "data": {
      "text/plain": [
       "builtin_function_or_method"
      ]
     },
     "execution_count": 84,
     "metadata": {},
     "output_type": "execute_result"
    }
   ],
   "source": [
    "type(abs)"
   ]
  },
  {
   "cell_type": "code",
   "execution_count": 86,
   "id": "778b4efe-b5b4-41a4-b8f5-d43bb6b803ac",
   "metadata": {},
   "outputs": [
    {
     "data": {
      "text/plain": [
       "__main__.Animal"
      ]
     },
     "execution_count": 86,
     "metadata": {},
     "output_type": "execute_result"
    }
   ],
   "source": [
    "type(b)"
   ]
  },
  {
   "cell_type": "markdown",
   "id": "bf00b9b9-9c53-4415-994b-da413ad9cf3a",
   "metadata": {},
   "source": [
    "判断基本数据类型可以直接写 int，str 等，但如果要判断一个对象是否是函数怎么办？可以使用 types 模块中定义的常量："
   ]
  },
  {
   "cell_type": "code",
   "execution_count": 87,
   "id": "1d47f5dc-52d5-41fe-ae55-65d4384a4b07",
   "metadata": {},
   "outputs": [
    {
     "data": {
      "text/plain": [
       "True"
      ]
     },
     "execution_count": 87,
     "metadata": {},
     "output_type": "execute_result"
    }
   ],
   "source": [
    "type('abd') == str"
   ]
  },
  {
   "cell_type": "code",
   "execution_count": 88,
   "id": "2da8ab98-6f07-43cb-a45a-7a6ddcdc804b",
   "metadata": {},
   "outputs": [
    {
     "data": {
      "text/plain": [
       "True"
      ]
     },
     "execution_count": 88,
     "metadata": {},
     "output_type": "execute_result"
    }
   ],
   "source": [
    "import types\n",
    "\n",
    "def fn():\n",
    "    pass\n",
    "\n",
    "type(fn) == types.FunctionType"
   ]
  },
  {
   "cell_type": "markdown",
   "id": "95eeca4f-5591-4432-b445-a3e8f6cca825",
   "metadata": {},
   "source": [
    "#### 使用 isinstance()"
   ]
  },
  {
   "cell_type": "markdown",
   "id": "3089feae-c1d0-4756-b021-167e36519482",
   "metadata": {},
   "source": [
    "对于 class 的继承关系来说，使用 type() 就很不方便。我们要判断 class 的类型，可以使用 isinstance() 函数。\n",
    "\n",
    "总是优先使用 isinstance() 判断类型，可以将指定类型及其子类“一网打尽”。"
   ]
  },
  {
   "cell_type": "code",
   "execution_count": 92,
   "id": "a983a7ff-cbe6-4d1c-b488-0e5c435acb8a",
   "metadata": {},
   "outputs": [
    {
     "data": {
      "text/plain": [
       "True"
      ]
     },
     "execution_count": 92,
     "metadata": {},
     "output_type": "execute_result"
    }
   ],
   "source": [
    "d = Dog()\n",
    "\n",
    "isinstance(d, Dog) and isinstance(d, Animal)"
   ]
  },
  {
   "cell_type": "markdown",
   "id": "c0174d05-6775-4b2d-a8cf-bdcef74fdc9f",
   "metadata": {},
   "source": [
    "#### 使用 dir()\n",
    "\n",
    "获得一个对象的所有属性和方法"
   ]
  },
  {
   "cell_type": "code",
   "execution_count": 94,
   "id": "058b6ca1-561a-41ea-9abc-d5b6c480680e",
   "metadata": {},
   "outputs": [
    {
     "data": {
      "text/plain": [
       "['__add__',\n",
       " '__class__',\n",
       " '__contains__',\n",
       " '__delattr__',\n",
       " '__dir__',\n",
       " '__doc__',\n",
       " '__eq__',\n",
       " '__format__',\n",
       " '__ge__',\n",
       " '__getattribute__',\n",
       " '__getitem__',\n",
       " '__getnewargs__',\n",
       " '__gt__',\n",
       " '__hash__',\n",
       " '__init__',\n",
       " '__init_subclass__',\n",
       " '__iter__',\n",
       " '__le__',\n",
       " '__len__',\n",
       " '__lt__',\n",
       " '__mod__',\n",
       " '__mul__',\n",
       " '__ne__',\n",
       " '__new__',\n",
       " '__reduce__',\n",
       " '__reduce_ex__',\n",
       " '__repr__',\n",
       " '__rmod__',\n",
       " '__rmul__',\n",
       " '__setattr__',\n",
       " '__sizeof__',\n",
       " '__str__',\n",
       " '__subclasshook__',\n",
       " 'capitalize',\n",
       " 'casefold',\n",
       " 'center',\n",
       " 'count',\n",
       " 'encode',\n",
       " 'endswith',\n",
       " 'expandtabs',\n",
       " 'find',\n",
       " 'format',\n",
       " 'format_map',\n",
       " 'index',\n",
       " 'isalnum',\n",
       " 'isalpha',\n",
       " 'isascii',\n",
       " 'isdecimal',\n",
       " 'isdigit',\n",
       " 'isidentifier',\n",
       " 'islower',\n",
       " 'isnumeric',\n",
       " 'isprintable',\n",
       " 'isspace',\n",
       " 'istitle',\n",
       " 'isupper',\n",
       " 'join',\n",
       " 'ljust',\n",
       " 'lower',\n",
       " 'lstrip',\n",
       " 'maketrans',\n",
       " 'partition',\n",
       " 'removeprefix',\n",
       " 'removesuffix',\n",
       " 'replace',\n",
       " 'rfind',\n",
       " 'rindex',\n",
       " 'rjust',\n",
       " 'rpartition',\n",
       " 'rsplit',\n",
       " 'rstrip',\n",
       " 'split',\n",
       " 'splitlines',\n",
       " 'startswith',\n",
       " 'strip',\n",
       " 'swapcase',\n",
       " 'title',\n",
       " 'translate',\n",
       " 'upper',\n",
       " 'zfill']"
      ]
     },
     "execution_count": 94,
     "metadata": {},
     "output_type": "execute_result"
    }
   ],
   "source": [
    "dir('ABC')"
   ]
  },
  {
   "cell_type": "markdown",
   "id": "1d8965e3-716d-463d-a813-196a8c90687c",
   "metadata": {},
   "source": [
    "配合 getattr()、setattr() 以及 hasattr()，我们可以直接操作一个对象的状态："
   ]
  },
  {
   "cell_type": "code",
   "execution_count": 95,
   "id": "a79c9ae3-9980-4cbb-9fef-b1435a4629c4",
   "metadata": {},
   "outputs": [],
   "source": [
    "class MyObject(object):\n",
    "    def __init__(self):\n",
    "        self.x = 9\n",
    "    def power(self):\n",
    "        return self.x * self.x\n",
    "\n",
    "obj = MyObject()"
   ]
  },
  {
   "cell_type": "code",
   "execution_count": 96,
   "id": "b13a4b32-425a-4070-979e-5b01d274b762",
   "metadata": {},
   "outputs": [
    {
     "data": {
      "text/plain": [
       "True"
      ]
     },
     "execution_count": 96,
     "metadata": {},
     "output_type": "execute_result"
    }
   ],
   "source": [
    "hasattr(obj, 'x')"
   ]
  },
  {
   "cell_type": "code",
   "execution_count": 97,
   "id": "2aea3fd5-9075-4ac6-9475-01a630d90f6b",
   "metadata": {},
   "outputs": [
    {
     "data": {
      "text/plain": [
       "False"
      ]
     },
     "execution_count": 97,
     "metadata": {},
     "output_type": "execute_result"
    }
   ],
   "source": [
    "hasattr(obj, 'y')"
   ]
  },
  {
   "cell_type": "code",
   "execution_count": 98,
   "id": "55fd3ef8-06c1-4e0a-b6ac-7ba10f87d486",
   "metadata": {},
   "outputs": [],
   "source": [
    "setattr(obj, 'y', 19)"
   ]
  },
  {
   "cell_type": "code",
   "execution_count": 99,
   "id": "3008e73a-8429-4547-aea4-0f53f09a3ca6",
   "metadata": {},
   "outputs": [
    {
     "data": {
      "text/plain": [
       "True"
      ]
     },
     "execution_count": 99,
     "metadata": {},
     "output_type": "execute_result"
    }
   ],
   "source": [
    "hasattr(obj, 'y')"
   ]
  },
  {
   "cell_type": "code",
   "execution_count": 100,
   "id": "adb6ac03-1ab0-4004-a2fa-a6dc0e47d826",
   "metadata": {},
   "outputs": [
    {
     "data": {
      "text/plain": [
       "19"
      ]
     },
     "execution_count": 100,
     "metadata": {},
     "output_type": "execute_result"
    }
   ],
   "source": [
    "getattr(obj, 'y')"
   ]
  },
  {
   "cell_type": "code",
   "execution_count": 101,
   "id": "2a951297-e106-4252-b1d4-cce454a0aab7",
   "metadata": {},
   "outputs": [
    {
     "data": {
      "text/plain": [
       "19"
      ]
     },
     "execution_count": 101,
     "metadata": {},
     "output_type": "execute_result"
    }
   ],
   "source": [
    "obj.y"
   ]
  },
  {
   "cell_type": "code",
   "execution_count": 102,
   "id": "7553b3b6-600b-46b0-80dd-48724a6d3216",
   "metadata": {},
   "outputs": [
    {
     "data": {
      "text/plain": [
       "404"
      ]
     },
     "execution_count": 102,
     "metadata": {},
     "output_type": "execute_result"
    }
   ],
   "source": [
    "getattr(obj, 'z', 404)"
   ]
  },
  {
   "cell_type": "code",
   "execution_count": 103,
   "id": "5e35f3bb-2270-4f35-8d7f-7a15bb26a7ea",
   "metadata": {},
   "outputs": [
    {
     "data": {
      "text/plain": [
       "True"
      ]
     },
     "execution_count": 103,
     "metadata": {},
     "output_type": "execute_result"
    }
   ],
   "source": [
    "hasattr(obj, 'power')"
   ]
  },
  {
   "cell_type": "markdown",
   "id": "c7dea0ec-d946-41e6-bac9-19f651ee8d9b",
   "metadata": {},
   "source": [
    "通过内置的一系列函数，我们可以对任意一个 Python 对象进行剖析，拿到其内部的数据。"
   ]
  },
  {
   "cell_type": "code",
   "execution_count": 104,
   "id": "e75a6296-e6e3-4953-98a8-6bfae2b5d278",
   "metadata": {},
   "outputs": [],
   "source": [
    "# 用法\n",
    "\n",
    "def readImage(fp):\n",
    "    if hasattr(fp, 'read'):\n",
    "        return readData(fp)\n",
    "    return None"
   ]
  },
  {
   "cell_type": "markdown",
   "id": "ef30f7e4-bc03-4854-a05b-844b19fcde49",
   "metadata": {},
   "source": [
    "假设我们希望从文件流 fp 中读取图像，我们首先要判断该 fp 对象是否存在read 方法，如果存在，则该对象是一个流，如果不存在，则无法读取。hasattr() 就派上了用场。"
   ]
  },
  {
   "cell_type": "markdown",
   "id": "c664dd0b-5651-470e-9272-1e2a722045c2",
   "metadata": {},
   "source": [
    "请注意，在 Python 这类动态语言中，根据鸭子类型，有 read() 方法，不代表该 fp 对象就是一个文件流，它也可能是网络流，也可能是内存中的一个字节流，但只要 read() 方法返回的是有效的图像数据，就不影响读取图像的功能。"
   ]
  },
  {
   "cell_type": "markdown",
   "id": "0edb5566-0bc7-4b35-af30-5a5fd808bc93",
   "metadata": {},
   "source": [
    "### 实例属性和类属性\n",
    "\n",
    "实例可以访问到类属性,类属性属于类所有，所有实例共享一个属性；\n",
    "\n",
    "不要对实例属性和类属性使用相同的名字，因为相同名称的实例属性将屏蔽掉类属性."
   ]
  },
  {
   "cell_type": "code",
   "execution_count": 106,
   "id": "c705ad7d-e748-40e8-9d58-29fa31ba4c52",
   "metadata": {},
   "outputs": [],
   "source": [
    "class Student(object):\n",
    "    name = 'Student'"
   ]
  },
  {
   "cell_type": "code",
   "execution_count": 115,
   "id": "6419eff7-6c2a-4fa9-ac1e-207bf9fbcb29",
   "metadata": {},
   "outputs": [
    {
     "name": "stdout",
     "output_type": "stream",
     "text": [
      "Student\n"
     ]
    }
   ],
   "source": [
    "s = Student()\n",
    "print(s.name)"
   ]
  },
  {
   "cell_type": "code",
   "execution_count": 116,
   "id": "e2355978-f7a8-48bc-a9fc-3ba08337bad6",
   "metadata": {},
   "outputs": [],
   "source": [
    "s.name = 'Poko'  # 实际上是给实例绑定 name 属性"
   ]
  },
  {
   "cell_type": "code",
   "execution_count": 117,
   "id": "a4214e73-af18-4a2f-ab95-68dd137dbae4",
   "metadata": {},
   "outputs": [
    {
     "name": "stdout",
     "output_type": "stream",
     "text": [
      "Student\n"
     ]
    }
   ],
   "source": [
    "print(Student.name)"
   ]
  },
  {
   "cell_type": "code",
   "execution_count": 118,
   "id": "ec098479-9813-4bab-b989-301bb29d768c",
   "metadata": {},
   "outputs": [
    {
     "name": "stdout",
     "output_type": "stream",
     "text": [
      "Poko\n"
     ]
    }
   ],
   "source": [
    "print(s.name)"
   ]
  },
  {
   "cell_type": "code",
   "execution_count": 119,
   "id": "2aafa46e-f19d-4d17-aede-ef3e16495e12",
   "metadata": {},
   "outputs": [],
   "source": [
    "del s.name  # 山粗实例属性"
   ]
  },
  {
   "cell_type": "code",
   "execution_count": 120,
   "id": "7ad79bb0-e0b8-4bb4-a336-1ca0d4506150",
   "metadata": {},
   "outputs": [
    {
     "name": "stdout",
     "output_type": "stream",
     "text": [
      "Student\n"
     ]
    }
   ],
   "source": [
    "print(s.name)"
   ]
  },
  {
   "cell_type": "code",
   "execution_count": 121,
   "id": "8bb0591b-1c73-4d5a-acf8-1014ba057922",
   "metadata": {},
   "outputs": [],
   "source": [
    "class Student(object):\n",
    "    count = 0\n",
    "    def __init__(self, name):\n",
    "        self.name = name\n",
    "        Student.count += 1"
   ]
  },
  {
   "cell_type": "markdown",
   "id": "6f672587-aaa7-407c-bb21-46762f42e0ec",
   "metadata": {},
   "source": [
    "## 八、面向对象高级特性\n",
    "\n",
    "数据封装、继承和多态只是面向对象程序设计中最基础的3个概念。\n",
    "\n",
    "在 Python 中，面向对象还有很多高级特性，允许我们写出非常强大的功能。\n",
    "\n",
    "我们会讨论多重继承、定制类、元类等概念。"
   ]
  },
  {
   "cell_type": "markdown",
   "id": "294f7709-802a-46af-a6b5-d09f00b54dd8",
   "metadata": {},
   "source": [
    "### 使用__slots__"
   ]
  },
  {
   "cell_type": "markdown",
   "id": "49e381c3-c6ff-49d6-8867-9021b9441ca5",
   "metadata": {},
   "source": [
    "别刻意研究，正常写法是 class 内部直接定义方法，动态绑定那是万不得已，用到的时候再研究。\n",
    "\n",
    "你问我有什么区别，我也得查官方文档才知道。\n",
    "\n",
    "编程不是考试，一切以实用主义为原则，把每个细节都搞清楚，那是不可能的。"
   ]
  },
  {
   "cell_type": "markdown",
   "id": "0d28ee62-6373-4363-8b61-b9afa455f1fb",
   "metadata": {},
   "source": [
    "### 使用 @property\n",
    "\n",
    "Python 内置的 @property 装饰器就是负责把一个方法变成属性调用的"
   ]
  },
  {
   "cell_type": "code",
   "execution_count": 129,
   "id": "5d8b69a2-61b9-4a04-a27b-40f617ba7b10",
   "metadata": {},
   "outputs": [],
   "source": [
    "# 原始写法：\n",
    "\n",
    "class Student2(object):\n",
    "    \n",
    "    def get_score(self):\n",
    "        return self.__score\n",
    "    \n",
    "    def set_score(self, value):\n",
    "        if not isinstance(value, int):\n",
    "            raise ValueError('score must be integer')\n",
    "        if value < 0 or value > 100:\n",
    "            raise ValueError('score must be 0~100')\n",
    "        self.__score = value"
   ]
  },
  {
   "cell_type": "code",
   "execution_count": 130,
   "id": "ce5e58f5-21ad-4bf0-8988-286d0b3bb182",
   "metadata": {},
   "outputs": [],
   "source": [
    "s = Student2()"
   ]
  },
  {
   "cell_type": "code",
   "execution_count": 131,
   "id": "4ae5c9ea-768f-4ec7-981b-861eceb0f5b9",
   "metadata": {},
   "outputs": [
    {
     "ename": "ValueError",
     "evalue": "score must be 0~100",
     "output_type": "error",
     "traceback": [
      "\u001b[1;31m---------------------------------------------------------------------------\u001b[0m",
      "\u001b[1;31mValueError\u001b[0m                                Traceback (most recent call last)",
      "\u001b[1;32m~\\AppData\\Local\\Temp/ipykernel_35576/3201371834.py\u001b[0m in \u001b[0;36m<module>\u001b[1;34m\u001b[0m\n\u001b[1;32m----> 1\u001b[1;33m \u001b[0ms\u001b[0m\u001b[1;33m.\u001b[0m\u001b[0mset_score\u001b[0m\u001b[1;33m(\u001b[0m\u001b[1;36m101\u001b[0m\u001b[1;33m)\u001b[0m\u001b[1;33m\u001b[0m\u001b[1;33m\u001b[0m\u001b[0m\n\u001b[0m",
      "\u001b[1;32m~\\AppData\\Local\\Temp/ipykernel_35576/2075724310.py\u001b[0m in \u001b[0;36mset_score\u001b[1;34m(self, value)\u001b[0m\n\u001b[0;32m     10\u001b[0m             \u001b[1;32mraise\u001b[0m \u001b[0mValueError\u001b[0m\u001b[1;33m(\u001b[0m\u001b[1;34m'score must be integer'\u001b[0m\u001b[1;33m)\u001b[0m\u001b[1;33m\u001b[0m\u001b[1;33m\u001b[0m\u001b[0m\n\u001b[0;32m     11\u001b[0m         \u001b[1;32mif\u001b[0m \u001b[0mvalue\u001b[0m \u001b[1;33m<\u001b[0m \u001b[1;36m0\u001b[0m \u001b[1;32mor\u001b[0m \u001b[0mvalue\u001b[0m \u001b[1;33m>\u001b[0m \u001b[1;36m100\u001b[0m\u001b[1;33m:\u001b[0m\u001b[1;33m\u001b[0m\u001b[1;33m\u001b[0m\u001b[0m\n\u001b[1;32m---> 12\u001b[1;33m             \u001b[1;32mraise\u001b[0m \u001b[0mValueError\u001b[0m\u001b[1;33m(\u001b[0m\u001b[1;34m'score must be 0~100'\u001b[0m\u001b[1;33m)\u001b[0m\u001b[1;33m\u001b[0m\u001b[1;33m\u001b[0m\u001b[0m\n\u001b[0m\u001b[0;32m     13\u001b[0m         \u001b[0mself\u001b[0m\u001b[1;33m.\u001b[0m\u001b[0m__score\u001b[0m \u001b[1;33m=\u001b[0m \u001b[0mvalue\u001b[0m\u001b[1;33m\u001b[0m\u001b[1;33m\u001b[0m\u001b[0m\n",
      "\u001b[1;31mValueError\u001b[0m: score must be 0~100"
     ]
    }
   ],
   "source": [
    "s.set_score(101)"
   ]
  },
  {
   "cell_type": "markdown",
   "id": "22dbfde4-b1fc-41e9-bedc-b0503f78454b",
   "metadata": {},
   "source": [
    "上面的调用方法略显复杂，没有用属性这么直接简单。\n",
    "\n",
    "有没有既能检查参数，又可以用类似属性这样简单的方式来访问类的变量呢？\n",
    "\n",
    "Python 内置的 @property 装饰器就是负责把一个方法变成属性调用的："
   ]
  },
  {
   "cell_type": "code",
   "execution_count": 132,
   "id": "e6ac04b0-e5f7-460b-8252-743d03aa0b99",
   "metadata": {},
   "outputs": [],
   "source": [
    "class Student3(object):\n",
    "    \n",
    "    @property\n",
    "    def score(self):\n",
    "        return self.__score\n",
    "    \n",
    "    @score.setter\n",
    "    def score(self, value):\n",
    "        if not isinstance(value, int):\n",
    "            raise ValueError('score must be integer')\n",
    "        if value < 0 or value > 100:\n",
    "            raise ValueError('score must be 0~100')\n",
    "        self.__score = value"
   ]
  },
  {
   "cell_type": "code",
   "execution_count": 133,
   "id": "eb22c3dc-be14-4047-b605-2a53b2a486e0",
   "metadata": {},
   "outputs": [],
   "source": [
    "s = Student3()"
   ]
  },
  {
   "cell_type": "code",
   "execution_count": 134,
   "id": "cb5da14a-3267-4129-bedd-986ffae8c247",
   "metadata": {},
   "outputs": [],
   "source": [
    "s.score = 60"
   ]
  },
  {
   "cell_type": "code",
   "execution_count": 135,
   "id": "6bb8fa4b-20f5-4556-9461-22cfe97abb37",
   "metadata": {},
   "outputs": [
    {
     "ename": "ValueError",
     "evalue": "score must be 0~100",
     "output_type": "error",
     "traceback": [
      "\u001b[1;31m---------------------------------------------------------------------------\u001b[0m",
      "\u001b[1;31mValueError\u001b[0m                                Traceback (most recent call last)",
      "\u001b[1;32m~\\AppData\\Local\\Temp/ipykernel_35576/3888801273.py\u001b[0m in \u001b[0;36m<module>\u001b[1;34m\u001b[0m\n\u001b[1;32m----> 1\u001b[1;33m \u001b[0ms\u001b[0m\u001b[1;33m.\u001b[0m\u001b[0mscore\u001b[0m \u001b[1;33m=\u001b[0m \u001b[1;36m101\u001b[0m\u001b[1;33m\u001b[0m\u001b[1;33m\u001b[0m\u001b[0m\n\u001b[0m",
      "\u001b[1;32m~\\AppData\\Local\\Temp/ipykernel_35576/2838160833.py\u001b[0m in \u001b[0;36mscore\u001b[1;34m(self, value)\u001b[0m\n\u001b[0;32m     10\u001b[0m             \u001b[1;32mraise\u001b[0m \u001b[0mValueError\u001b[0m\u001b[1;33m(\u001b[0m\u001b[1;34m'score must be integer'\u001b[0m\u001b[1;33m)\u001b[0m\u001b[1;33m\u001b[0m\u001b[1;33m\u001b[0m\u001b[0m\n\u001b[0;32m     11\u001b[0m         \u001b[1;32mif\u001b[0m \u001b[0mvalue\u001b[0m \u001b[1;33m<\u001b[0m \u001b[1;36m0\u001b[0m \u001b[1;32mor\u001b[0m \u001b[0mvalue\u001b[0m \u001b[1;33m>\u001b[0m \u001b[1;36m100\u001b[0m\u001b[1;33m:\u001b[0m\u001b[1;33m\u001b[0m\u001b[1;33m\u001b[0m\u001b[0m\n\u001b[1;32m---> 12\u001b[1;33m             \u001b[1;32mraise\u001b[0m \u001b[0mValueError\u001b[0m\u001b[1;33m(\u001b[0m\u001b[1;34m'score must be 0~100'\u001b[0m\u001b[1;33m)\u001b[0m\u001b[1;33m\u001b[0m\u001b[1;33m\u001b[0m\u001b[0m\n\u001b[0m\u001b[0;32m     13\u001b[0m         \u001b[0mself\u001b[0m\u001b[1;33m.\u001b[0m\u001b[0m__score\u001b[0m \u001b[1;33m=\u001b[0m \u001b[0mvalue\u001b[0m\u001b[1;33m\u001b[0m\u001b[1;33m\u001b[0m\u001b[0m\n",
      "\u001b[1;31mValueError\u001b[0m: score must be 0~100"
     ]
    }
   ],
   "source": [
    "s.score = 101"
   ]
  },
  {
   "cell_type": "markdown",
   "id": "f64c2cac-410a-47c2-bbb4-fea47a2a8546",
   "metadata": {},
   "source": [
    "### 多重继承"
   ]
  },
  {
   "cell_type": "markdown",
   "id": "a8838397-551a-4ada-b5b5-92578feec318",
   "metadata": {},
   "source": [
    "在设计类的继承关系时，通常，主线都是单一继承下来的，例如，Ostrich 继承自 Bird。但是，如果需要「混入」额外的功能，通过多重继承就可以实现，比如，让 Ostrich 除了继承自 Bird 外，再同时继承 Runnable。这种设计通常称之为 MixIn。\n",
    "\n",
    "为了更好地看出继承关系，我们把 Runnable 改为 RunnableMixIn。"
   ]
  },
  {
   "cell_type": "code",
   "execution_count": 138,
   "id": "3b7cc721-fce2-4bac-bc39-ffccebe7a938",
   "metadata": {},
   "outputs": [
    {
     "name": "stdout",
     "output_type": "stream",
     "text": [
      "Running\n"
     ]
    }
   ],
   "source": [
    "class Animal(object):\n",
    "    pass\n",
    "\n",
    "# 大类：\n",
    "class Mammal(Animal):\n",
    "    pass\n",
    "\n",
    "class Bird(Animal):\n",
    "    pass\n",
    "\n",
    "# 功能类：\n",
    "class RunnableMixIn(object):\n",
    "    print('Running')\n",
    "    \n",
    "# 各种动物\n",
    "class Dog(Mammal, RunnableMixIn):\n",
    "    pass"
   ]
  },
  {
   "cell_type": "markdown",
   "id": "58a6bcad-4087-4d14-9627-f1e0aa3f1372",
   "metadata": {},
   "source": [
    "### 定制类"
   ]
  },
  {
   "cell_type": "markdown",
   "id": "f7880503-a6c1-4e46-abe3-4267bd9d849c",
   "metadata": {},
   "source": [
    "### 使用枚举类"
   ]
  },
  {
   "cell_type": "code",
   "execution_count": 2,
   "id": "35ff585e-86c0-4d73-aa74-a86511c5bd81",
   "metadata": {},
   "outputs": [],
   "source": [
    "from enum import Enum\n",
    "\n",
    "Month = Enum('Month', ('Jan', 'Feb', 'Mar', 'Apr', 'May', 'Jun', 'Jul', 'Aug', 'Sep', 'Oct', 'Nov', 'Dec'))"
   ]
  },
  {
   "cell_type": "code",
   "execution_count": 3,
   "id": "3b3870cc-1940-41a6-acdb-06a525e9d71c",
   "metadata": {},
   "outputs": [
    {
     "data": {
      "text/plain": [
       "<Month.Jan: 1>"
      ]
     },
     "execution_count": 3,
     "metadata": {},
     "output_type": "execute_result"
    }
   ],
   "source": [
    "Month.Jan"
   ]
  },
  {
   "cell_type": "code",
   "execution_count": 8,
   "id": "8a364d4e-0f96-4826-97d7-c89d5b4cbbfd",
   "metadata": {},
   "outputs": [
    {
     "name": "stdout",
     "output_type": "stream",
     "text": [
      "Jan => Month.Jan , 1\n",
      "Feb => Month.Feb , 2\n",
      "Mar => Month.Mar , 3\n",
      "Apr => Month.Apr , 4\n",
      "May => Month.May , 5\n",
      "Jun => Month.Jun , 6\n",
      "Jul => Month.Jul , 7\n",
      "Aug => Month.Aug , 8\n",
      "Sep => Month.Sep , 9\n",
      "Oct => Month.Oct , 10\n",
      "Nov => Month.Nov , 11\n",
      "Dec => Month.Dec , 12\n"
     ]
    }
   ],
   "source": [
    "for name, member in Month.__members__.items():\n",
    "    print(name, '=>', member, ',', member.value)"
   ]
  },
  {
   "cell_type": "markdown",
   "id": "8a2a4831-0075-4697-ba39-91c7453be12b",
   "metadata": {},
   "source": [
    "精确控制枚举类："
   ]
  },
  {
   "cell_type": "code",
   "execution_count": 9,
   "id": "0cf2d56c-e574-4bd0-ae44-be63d5e78ab0",
   "metadata": {},
   "outputs": [],
   "source": [
    "from enum import Enum, unique\n",
    "\n",
    "@unique\n",
    "class Weekday(Enum):\n",
    "    Sun = 0\n",
    "    Mon = 1\n",
    "    Tue = 2\n",
    "    Wed = 3\n",
    "    Thu = 4\n",
    "    Fri = 5\n",
    "    Sat = 6"
   ]
  },
  {
   "cell_type": "code",
   "execution_count": 10,
   "id": "bc66c267-b9ac-4b21-8a50-b20b99527980",
   "metadata": {},
   "outputs": [
    {
     "name": "stdout",
     "output_type": "stream",
     "text": [
      "Weekday.Mon\n"
     ]
    }
   ],
   "source": [
    "day1 = Weekday.Mon\n",
    "print(day1)"
   ]
  },
  {
   "cell_type": "code",
   "execution_count": 11,
   "id": "a4ebf51b-7f0b-48d4-b223-89af873546b9",
   "metadata": {},
   "outputs": [
    {
     "name": "stdout",
     "output_type": "stream",
     "text": [
      "1\n"
     ]
    }
   ],
   "source": [
    "print(Weekday.Mon.value)"
   ]
  },
  {
   "cell_type": "code",
   "execution_count": 17,
   "id": "e706d2c7-c55e-4b87-ae4f-81ce3a2af58e",
   "metadata": {},
   "outputs": [],
   "source": [
    "from enum import Enum, unique\n",
    "\n",
    "@unique\n",
    "class Gender(Enum):\n",
    "    Male = 0\n",
    "    Female = 1\n",
    "    \n",
    "class Student(object):\n",
    "    def __init__(self, name, age, gender):\n",
    "        self.name = name;\n",
    "        self.age = age\n",
    "        self.gender = gender"
   ]
  },
  {
   "cell_type": "code",
   "execution_count": 18,
   "id": "0233d1c0-c9a2-4d90-96b4-a26968db52f2",
   "metadata": {},
   "outputs": [],
   "source": [
    "bart = Student('Bart', 18, Gender.Male)"
   ]
  },
  {
   "cell_type": "code",
   "execution_count": 19,
   "id": "40ca50de-c3b7-409b-998d-89e2a8714f53",
   "metadata": {},
   "outputs": [
    {
     "name": "stdout",
     "output_type": "stream",
     "text": [
      "测试通过\n"
     ]
    }
   ],
   "source": [
    "if bart.gender == Gender.Male:\n",
    "    print('测试通过')"
   ]
  },
  {
   "cell_type": "markdown",
   "id": "5019abe4-1cdf-4092-8e7d-6905087d9e45",
   "metadata": {},
   "source": [
    "### 使用元类"
   ]
  },
  {
   "cell_type": "markdown",
   "id": "2bba2568-a685-43cb-85b3-d94032841f5c",
   "metadata": {},
   "source": [
    "## 九、错误、调试和测试"
   ]
  },
  {
   "cell_type": "markdown",
   "id": "ac111c08-ca6b-48bc-a59c-41598461ce7a",
   "metadata": {},
   "source": [
    "### 错误处理"
   ]
  },
  {
   "cell_type": "code",
   "execution_count": 22,
   "id": "b35fa746-3dcf-4557-9d17-c7f62957a9c1",
   "metadata": {},
   "outputs": [
    {
     "name": "stdout",
     "output_type": "stream",
     "text": [
      "try...\n",
      "result: 5.0\n",
      "no error\n",
      "finally...\n",
      "END\n"
     ]
    }
   ],
   "source": [
    "try:\n",
    "    print('try...')\n",
    "    r = 10 / 2\n",
    "    print('result:', r)\n",
    "except ZeroDivisionError as e:\n",
    "    print('except:', e)\n",
    "except ValueError as e:\n",
    "    print('ValueErro:', e)\n",
    "else:\n",
    "    print('no error')\n",
    "finally:\n",
    "    print('finally...')\n",
    "print('END')"
   ]
  },
  {
   "cell_type": "markdown",
   "id": "468df7ee-d0d1-40c1-a7ac-ef25e6fd93ab",
   "metadata": {},
   "source": [
    "#### 记录错误"
   ]
  },
  {
   "cell_type": "code",
   "execution_count": 23,
   "id": "ed19db4b-5d04-429d-b6d5-c0d4c60366bc",
   "metadata": {},
   "outputs": [
    {
     "name": "stderr",
     "output_type": "stream",
     "text": [
      "ERROR:root:division by zero\n",
      "Traceback (most recent call last):\n",
      "  File \"C:\\Users\\H.M\\AppData\\Local\\Temp/ipykernel_55132/1371240815.py\", line 11, in main\n",
      "    bar('0')\n",
      "  File \"C:\\Users\\H.M\\AppData\\Local\\Temp/ipykernel_55132/1371240815.py\", line 7, in bar\n",
      "    return foo(s) * 2\n",
      "  File \"C:\\Users\\H.M\\AppData\\Local\\Temp/ipykernel_55132/1371240815.py\", line 4, in foo\n",
      "    return 10 / int(s)\n",
      "ZeroDivisionError: division by zero\n"
     ]
    },
    {
     "name": "stdout",
     "output_type": "stream",
     "text": [
      "END\n"
     ]
    }
   ],
   "source": [
    "import logging\n",
    "\n",
    "def foo(s):\n",
    "    return 10 / int(s)\n",
    "\n",
    "def bar(s):\n",
    "    return foo(s) * 2\n",
    "\n",
    "def main():\n",
    "    try:\n",
    "        bar('0')\n",
    "    except Exception as e:\n",
    "        logging.exception(e)\n",
    "\n",
    "main()\n",
    "print('END')"
   ]
  },
  {
   "cell_type": "markdown",
   "id": "40d355e2-3844-4bca-bad6-c9f2e8e7753e",
   "metadata": {},
   "source": [
    "#### 抛出错误"
   ]
  },
  {
   "cell_type": "code",
   "execution_count": 24,
   "id": "03f2f996-9c11-4ed6-9331-f6ad294b2b2b",
   "metadata": {},
   "outputs": [
    {
     "ename": "FooError",
     "evalue": "('invalid value: %s', '0')",
     "output_type": "error",
     "traceback": [
      "\u001b[1;31m---------------------------------------------------------------------------\u001b[0m",
      "\u001b[1;31mFooError\u001b[0m                                  Traceback (most recent call last)",
      "\u001b[1;32m~\\AppData\\Local\\Temp/ipykernel_55132/302939016.py\u001b[0m in \u001b[0;36m<module>\u001b[1;34m\u001b[0m\n\u001b[0;32m     10\u001b[0m     \u001b[1;32mreturn\u001b[0m \u001b[1;36m10\u001b[0m \u001b[1;33m/\u001b[0m \u001b[0mn\u001b[0m\u001b[1;33m\u001b[0m\u001b[1;33m\u001b[0m\u001b[0m\n\u001b[0;32m     11\u001b[0m \u001b[1;33m\u001b[0m\u001b[0m\n\u001b[1;32m---> 12\u001b[1;33m \u001b[0mfoo\u001b[0m\u001b[1;33m(\u001b[0m\u001b[1;34m'0'\u001b[0m\u001b[1;33m)\u001b[0m\u001b[1;33m\u001b[0m\u001b[1;33m\u001b[0m\u001b[0m\n\u001b[0m",
      "\u001b[1;32m~\\AppData\\Local\\Temp/ipykernel_55132/302939016.py\u001b[0m in \u001b[0;36mfoo\u001b[1;34m(s)\u001b[0m\n\u001b[0;32m      7\u001b[0m     \u001b[0mn\u001b[0m \u001b[1;33m=\u001b[0m \u001b[0mint\u001b[0m\u001b[1;33m(\u001b[0m\u001b[0ms\u001b[0m\u001b[1;33m)\u001b[0m\u001b[1;33m\u001b[0m\u001b[1;33m\u001b[0m\u001b[0m\n\u001b[0;32m      8\u001b[0m     \u001b[1;32mif\u001b[0m \u001b[0mn\u001b[0m \u001b[1;33m==\u001b[0m \u001b[1;36m0\u001b[0m\u001b[1;33m:\u001b[0m\u001b[1;33m\u001b[0m\u001b[1;33m\u001b[0m\u001b[0m\n\u001b[1;32m----> 9\u001b[1;33m         \u001b[1;32mraise\u001b[0m \u001b[0mFooError\u001b[0m\u001b[1;33m(\u001b[0m\u001b[1;34m'invalid value: %s'\u001b[0m\u001b[1;33m,\u001b[0m \u001b[0ms\u001b[0m\u001b[1;33m)\u001b[0m\u001b[1;33m\u001b[0m\u001b[1;33m\u001b[0m\u001b[0m\n\u001b[0m\u001b[0;32m     10\u001b[0m     \u001b[1;32mreturn\u001b[0m \u001b[1;36m10\u001b[0m \u001b[1;33m/\u001b[0m \u001b[0mn\u001b[0m\u001b[1;33m\u001b[0m\u001b[1;33m\u001b[0m\u001b[0m\n\u001b[0;32m     11\u001b[0m \u001b[1;33m\u001b[0m\u001b[0m\n",
      "\u001b[1;31mFooError\u001b[0m: ('invalid value: %s', '0')"
     ]
    }
   ],
   "source": [
    "# 自定义一个错误类型\n",
    "\n",
    "class FooError(ValueError):\n",
    "    pass\n",
    "\n",
    "def foo(s):\n",
    "    n = int(s)\n",
    "    if n == 0:\n",
    "        raise FooError('invalid value: %s', s)\n",
    "    return 10 / n\n",
    "\n",
    "foo('0')\n"
   ]
  },
  {
   "cell_type": "markdown",
   "id": "03aa49a7-992f-44e2-9ffe-99d254a36b38",
   "metadata": {},
   "source": [
    "只有在必要的时候才定义我们自己的错误类型。如果可以选择 Python 已有的内置的错误类型（比如 ValueError，TypeError），尽量使用 Python 内置的错误类型。"
   ]
  },
  {
   "cell_type": "code",
   "execution_count": 27,
   "id": "8380fdaf-b35d-4112-abc5-c7c9a28de5e6",
   "metadata": {},
   "outputs": [
    {
     "ename": "ValueError",
     "evalue": "invalid literal for int() with base 10: '7.6'",
     "output_type": "error",
     "traceback": [
      "\u001b[1;31m---------------------------------------------------------------------------\u001b[0m",
      "\u001b[1;31mValueError\u001b[0m                                Traceback (most recent call last)",
      "\u001b[1;32m~\\AppData\\Local\\Temp/ipykernel_55132/2163499016.py\u001b[0m in \u001b[0;36m<module>\u001b[1;34m\u001b[0m\n\u001b[1;32m----> 1\u001b[1;33m \u001b[0mint\u001b[0m\u001b[1;33m(\u001b[0m\u001b[1;34m'7.6'\u001b[0m\u001b[1;33m)\u001b[0m\u001b[1;33m\u001b[0m\u001b[1;33m\u001b[0m\u001b[0m\n\u001b[0m",
      "\u001b[1;31mValueError\u001b[0m: invalid literal for int() with base 10: '7.6'"
     ]
    }
   ],
   "source": [
    "int('7.6')"
   ]
  },
  {
   "cell_type": "markdown",
   "id": "2e2a811d-ac38-48ff-a35e-2a695f761080",
   "metadata": {},
   "source": [
    "### 调试"
   ]
  },
  {
   "cell_type": "markdown",
   "id": "42f1d0f2-06b8-4a88-9e4b-c09bbd41056a",
   "metadata": {},
   "source": [
    "#### 断言"
   ]
  },
  {
   "cell_type": "code",
   "execution_count": 29,
   "id": "4b6ca3b0-24a6-4485-afff-6771e9cd9de1",
   "metadata": {},
   "outputs": [
    {
     "ename": "AssertionError",
     "evalue": "n is zero",
     "output_type": "error",
     "traceback": [
      "\u001b[1;31m---------------------------------------------------------------------------\u001b[0m",
      "\u001b[1;31mAssertionError\u001b[0m                            Traceback (most recent call last)",
      "\u001b[1;32m~\\AppData\\Local\\Temp/ipykernel_55132/1204480950.py\u001b[0m in \u001b[0;36m<module>\u001b[1;34m\u001b[0m\n\u001b[0;32m      7\u001b[0m     \u001b[0mfoo\u001b[0m\u001b[1;33m(\u001b[0m\u001b[1;34m'0'\u001b[0m\u001b[1;33m)\u001b[0m\u001b[1;33m\u001b[0m\u001b[1;33m\u001b[0m\u001b[0m\n\u001b[0;32m      8\u001b[0m \u001b[1;33m\u001b[0m\u001b[0m\n\u001b[1;32m----> 9\u001b[1;33m \u001b[0mmain\u001b[0m\u001b[1;33m(\u001b[0m\u001b[1;33m)\u001b[0m\u001b[1;33m\u001b[0m\u001b[1;33m\u001b[0m\u001b[0m\n\u001b[0m",
      "\u001b[1;32m~\\AppData\\Local\\Temp/ipykernel_55132/1204480950.py\u001b[0m in \u001b[0;36mmain\u001b[1;34m()\u001b[0m\n\u001b[0;32m      5\u001b[0m \u001b[1;33m\u001b[0m\u001b[0m\n\u001b[0;32m      6\u001b[0m \u001b[1;32mdef\u001b[0m \u001b[0mmain\u001b[0m\u001b[1;33m(\u001b[0m\u001b[1;33m)\u001b[0m\u001b[1;33m:\u001b[0m\u001b[1;33m\u001b[0m\u001b[1;33m\u001b[0m\u001b[0m\n\u001b[1;32m----> 7\u001b[1;33m     \u001b[0mfoo\u001b[0m\u001b[1;33m(\u001b[0m\u001b[1;34m'0'\u001b[0m\u001b[1;33m)\u001b[0m\u001b[1;33m\u001b[0m\u001b[1;33m\u001b[0m\u001b[0m\n\u001b[0m\u001b[0;32m      8\u001b[0m \u001b[1;33m\u001b[0m\u001b[0m\n\u001b[0;32m      9\u001b[0m \u001b[0mmain\u001b[0m\u001b[1;33m(\u001b[0m\u001b[1;33m)\u001b[0m\u001b[1;33m\u001b[0m\u001b[1;33m\u001b[0m\u001b[0m\n",
      "\u001b[1;32m~\\AppData\\Local\\Temp/ipykernel_55132/1204480950.py\u001b[0m in \u001b[0;36mfoo\u001b[1;34m(s)\u001b[0m\n\u001b[0;32m      1\u001b[0m \u001b[1;32mdef\u001b[0m \u001b[0mfoo\u001b[0m\u001b[1;33m(\u001b[0m\u001b[0ms\u001b[0m\u001b[1;33m)\u001b[0m\u001b[1;33m:\u001b[0m\u001b[1;33m\u001b[0m\u001b[1;33m\u001b[0m\u001b[0m\n\u001b[0;32m      2\u001b[0m     \u001b[0mn\u001b[0m \u001b[1;33m=\u001b[0m \u001b[0mint\u001b[0m\u001b[1;33m(\u001b[0m\u001b[0ms\u001b[0m\u001b[1;33m)\u001b[0m\u001b[1;33m\u001b[0m\u001b[1;33m\u001b[0m\u001b[0m\n\u001b[1;32m----> 3\u001b[1;33m     \u001b[1;32massert\u001b[0m \u001b[0mn\u001b[0m \u001b[1;33m!=\u001b[0m \u001b[1;36m0\u001b[0m\u001b[1;33m,\u001b[0m \u001b[1;34m'n is zero'\u001b[0m\u001b[1;33m\u001b[0m\u001b[1;33m\u001b[0m\u001b[0m\n\u001b[0m\u001b[0;32m      4\u001b[0m     \u001b[1;32mreturn\u001b[0m \u001b[1;36m10\u001b[0m \u001b[1;33m/\u001b[0m \u001b[0mn\u001b[0m\u001b[1;33m\u001b[0m\u001b[1;33m\u001b[0m\u001b[0m\n\u001b[0;32m      5\u001b[0m \u001b[1;33m\u001b[0m\u001b[0m\n",
      "\u001b[1;31mAssertionError\u001b[0m: n is zero"
     ]
    }
   ],
   "source": [
    "def foo(s):\n",
    "    n = int(s)\n",
    "    assert n != 0, 'n is zero'\n",
    "    return 10 / n\n",
    "\n",
    "def main():\n",
    "    foo('0')\n",
    "    \n",
    "main()"
   ]
  },
  {
   "cell_type": "markdown",
   "id": "b09b67e6-5a89-4d2f-b1a0-723a0414093b",
   "metadata": {},
   "source": [
    "#### logging\n",
    "\n",
    "logging 不会抛出错误，而且可以输出到文件中\n",
    "\n",
    "它允许你指定记录信息的级别，有debug，info，warning，error等几个级别，当我们指定level=INFO时，logging.debug就不起作用了。同理，指定level=WARNING后，debug和info就不起作用了。这样一来，你可以放心地输出不同级别的信息，也不用删除，最后统一控制输出哪个级别的信息。\n",
    "\n",
    "等级如下：m\n",
    "\n",
    "DEBUG < INFO < WARNING < ERROR < CRITICAL"
   ]
  },
  {
   "cell_type": "code",
   "execution_count": 33,
   "id": "b1094f25-866c-43b4-a1a9-4222db9b057f",
   "metadata": {},
   "outputs": [
    {
     "ename": "ZeroDivisionError",
     "evalue": "division by zero",
     "output_type": "error",
     "traceback": [
      "\u001b[1;31m---------------------------------------------------------------------------\u001b[0m",
      "\u001b[1;31mZeroDivisionError\u001b[0m                         Traceback (most recent call last)",
      "\u001b[1;32m~\\AppData\\Local\\Temp/ipykernel_55132/632790896.py\u001b[0m in \u001b[0;36m<module>\u001b[1;34m\u001b[0m\n\u001b[0;32m      5\u001b[0m \u001b[0mn\u001b[0m \u001b[1;33m=\u001b[0m \u001b[0mint\u001b[0m\u001b[1;33m(\u001b[0m\u001b[0ms\u001b[0m\u001b[1;33m)\u001b[0m\u001b[1;33m\u001b[0m\u001b[1;33m\u001b[0m\u001b[0m\n\u001b[0;32m      6\u001b[0m \u001b[0mlogging\u001b[0m\u001b[1;33m.\u001b[0m\u001b[0minfo\u001b[0m\u001b[1;33m(\u001b[0m\u001b[1;34m'n = %d'\u001b[0m \u001b[1;33m%\u001b[0m \u001b[0mn\u001b[0m\u001b[1;33m)\u001b[0m\u001b[1;33m\u001b[0m\u001b[1;33m\u001b[0m\u001b[0m\n\u001b[1;32m----> 7\u001b[1;33m \u001b[0mprint\u001b[0m\u001b[1;33m(\u001b[0m\u001b[1;36m10\u001b[0m \u001b[1;33m/\u001b[0m \u001b[0mn\u001b[0m\u001b[1;33m)\u001b[0m\u001b[1;33m\u001b[0m\u001b[1;33m\u001b[0m\u001b[0m\n\u001b[0m",
      "\u001b[1;31mZeroDivisionError\u001b[0m: division by zero"
     ]
    }
   ],
   "source": [
    "import logging \n",
    "logging.basicConfig(level=logging.INFO)\n",
    "\n",
    "s = '0'\n",
    "n = int(s)\n",
    "logging.info('n = %d' % n)\n",
    "print(10 / n)"
   ]
  },
  {
   "cell_type": "markdown",
   "id": "a0476eea-43ae-46e8-8bbf-20640792f31e",
   "metadata": {},
   "source": [
    "### 单元测试\n",
    "\n",
    "单元测试是用来对一个模块、一个函数或者一个类来进行正确性检验的测试工作。"
   ]
  },
  {
   "cell_type": "markdown",
   "id": "b7b9ee97-8ea9-4ee0-99f7-cda28ea888fb",
   "metadata": {},
   "source": [
    "## 十、IO 编程 "
   ]
  },
  {
   "cell_type": "markdown",
   "id": "8dc2340c-3e0d-4724-b813-6dbc816e0c1d",
   "metadata": {},
   "source": [
    "操作 IO 的能力是操作系统提供的，每一种语言都会把操作系统提供的低级接口封装起来方便使用。\n",
    "\n",
    "同步 IO：CPU 将数据传送给磁盘时，等待数据传送完毕后才会接着往下执行；\n",
    "\n",
    "异步 IO：CPU 不等待数据传送完毕，直接执行后续的代码；\n",
    "\n",
    "区别：异步 IO 性能远远高于同步 IO，但是编程复杂。\n",
    "\n",
    "注意：本章的 IO 编程都是同步模式，异步 IO 由于复杂度太高，后续涉及到服务器端程序开发时再学习。"
   ]
  },
  {
   "cell_type": "markdown",
   "id": "44b1bac4-8f06-4baf-a6d2-19a27a262a99",
   "metadata": {},
   "source": [
    "### 读写文件"
   ]
  },
  {
   "cell_type": "markdown",
   "id": "17a7b939-e195-48aa-a695-9cf5b60b4bbc",
   "metadata": {},
   "source": [
    "#### 读文件"
   ]
  },
  {
   "cell_type": "code",
   "execution_count": 44,
   "id": "241c87aa-06a0-4af3-ab28-ce0ca120fdb1",
   "metadata": {},
   "outputs": [],
   "source": [
    "# 读文件的模式打开一个文件对象\n",
    "\n",
    "f = open('./hello.py', 'r')"
   ]
  },
  {
   "cell_type": "code",
   "execution_count": 45,
   "id": "81711337-968d-4854-be35-97afe9314f44",
   "metadata": {},
   "outputs": [
    {
     "data": {
      "text/plain": [
       "\"#!/usr/bin/env python3   \\n# -*- coding: utf-8 -*-\\n\\n'a test module'   # 鏂囨。娉ㄩ噴\\n\\n__author__ = 'Pokoai'\\n\\nimport sys\\n\\ndef test():\\n    args = sys.argv\\n    if len(args) == 1:\\n        print('Hello, World')\\n    elif len(args) == 2:\\n        print('Hello, %s' % args[1])\\n    else:\\n        print('Too many arguments!')\\n        \\nif __name__ == '__main__':\\n    test()\""
      ]
     },
     "execution_count": 45,
     "metadata": {},
     "output_type": "execute_result"
    }
   ],
   "source": [
    "# 读取内容，python 会把读取的内容放在内存中\n",
    "\n",
    "f.read()"
   ]
  },
  {
   "cell_type": "code",
   "execution_count": 46,
   "id": "377ec987-e046-4f7b-864a-2c23ba59176d",
   "metadata": {},
   "outputs": [],
   "source": [
    "# 关闭文件\n",
    "\n",
    "f.close()"
   ]
  },
  {
   "cell_type": "markdown",
   "id": "963213b9-a4ae-455d-9631-39c3029137f8",
   "metadata": {},
   "source": [
    "注：文件使用完毕后必须关闭，因为\n",
    "\n",
    "1. 文件对象会占用操作系统资源\n",
    "2. 操作系统同一时间打开的文件数量有限"
   ]
  },
  {
   "cell_type": "code",
   "execution_count": 47,
   "id": "cbb254b5-01e5-4fdd-bc9d-0f08ad4c8c9e",
   "metadata": {},
   "outputs": [
    {
     "name": "stdout",
     "output_type": "stream",
     "text": [
      "#!/usr/bin/env python3   \n",
      "# -*- coding: utf-8 -*-\n",
      "\n",
      "'a test module'   # 鏂囨。娉ㄩ噴\n",
      "\n",
      "__author__ = 'Pokoai'\n",
      "\n",
      "import sys\n",
      "\n",
      "def test():\n",
      "    args = sys.argv\n",
      "    if len(args) == 1:\n",
      "        print('Hello, World')\n",
      "    elif len(args) == 2:\n",
      "        print('Hello, %s' % args[1])\n",
      "    else:\n",
      "        print('Too many arguments!')\n",
      "        \n",
      "if __name__ == '__main__':\n",
      "    test()\n"
     ]
    }
   ],
   "source": [
    "# 自动关闭文件\n",
    "\n",
    "with open('./hello.py', 'r') as f:\n",
    "    print(f.read())"
   ]
  },
  {
   "cell_type": "markdown",
   "id": "54f8485c-b776-42c3-a983-465fb5b3c04c",
   "metadata": {},
   "source": [
    "- read()：一次性读取，文件很小时；\n",
    "- read(size)：读取 size 个字节，文件大小不确定时；\n",
    "- readline()：读取一行\n",
    "- readlines()：一次性读取返回 list，读取配置文件时。"
   ]
  },
  {
   "cell_type": "code",
   "execution_count": 48,
   "id": "bfdbdaff-2efc-432d-bc2b-983bf6f6d6fa",
   "metadata": {},
   "outputs": [
    {
     "ename": "ValueError",
     "evalue": "I/O operation on closed file.",
     "output_type": "error",
     "traceback": [
      "\u001b[1;31m---------------------------------------------------------------------------\u001b[0m",
      "\u001b[1;31mValueError\u001b[0m                                Traceback (most recent call last)",
      "\u001b[1;32m~\\AppData\\Local\\Temp/ipykernel_55132/3921878270.py\u001b[0m in \u001b[0;36m<module>\u001b[1;34m\u001b[0m\n\u001b[1;32m----> 1\u001b[1;33m \u001b[1;32mfor\u001b[0m \u001b[0mline\u001b[0m \u001b[1;32min\u001b[0m \u001b[0mf\u001b[0m\u001b[1;33m.\u001b[0m\u001b[0mreadlines\u001b[0m\u001b[1;33m(\u001b[0m\u001b[1;33m)\u001b[0m\u001b[1;33m:\u001b[0m\u001b[1;33m\u001b[0m\u001b[1;33m\u001b[0m\u001b[0m\n\u001b[0m\u001b[0;32m      2\u001b[0m     \u001b[0mprint\u001b[0m\u001b[1;33m(\u001b[0m\u001b[0mline\u001b[0m\u001b[1;33m.\u001b[0m\u001b[0msrip\u001b[0m\u001b[1;33m(\u001b[0m\u001b[1;33m)\u001b[0m\u001b[1;33m)\u001b[0m\u001b[1;33m\u001b[0m\u001b[1;33m\u001b[0m\u001b[0m\n",
      "\u001b[1;31mValueError\u001b[0m: I/O operation on closed file."
     ]
    }
   ],
   "source": [
    "for line in f.readlines():\n",
    "    print(line.srip())"
   ]
  },
  {
   "cell_type": "markdown",
   "id": "ccccab47-c3f5-4b35-95f6-6c91b38d1993",
   "metadata": {},
   "source": [
    "- 二进制文件读取"
   ]
  },
  {
   "cell_type": "code",
   "execution_count": 51,
   "id": "1260e0b6-7c2d-4120-8567-e3a1967701a4",
   "metadata": {},
   "outputs": [],
   "source": [
    "f = open('./icon.jpg', 'rb')\n",
    "#f.read()"
   ]
  },
  {
   "cell_type": "markdown",
   "id": "c2883c67-dfd8-4105-a4a9-e08f30fd0f43",
   "metadata": {},
   "source": [
    "- 读取非 UTF-8 编码的文本文件"
   ]
  },
  {
   "cell_type": "code",
   "execution_count": 53,
   "id": "e7d47d8d-aeeb-452b-9f26-27fdeb32f823",
   "metadata": {},
   "outputs": [
    {
     "ename": "UnicodeDecodeError",
     "evalue": "'gbk' codec can't decode byte 0xb6 in position 14: illegal multibyte sequence",
     "output_type": "error",
     "traceback": [
      "\u001b[1;31m---------------------------------------------------------------------------\u001b[0m",
      "\u001b[1;31mUnicodeDecodeError\u001b[0m                        Traceback (most recent call last)",
      "\u001b[1;32m~\\AppData\\Local\\Temp/ipykernel_55132/105072928.py\u001b[0m in \u001b[0;36m<module>\u001b[1;34m\u001b[0m\n\u001b[0;32m      1\u001b[0m \u001b[0mf\u001b[0m \u001b[1;33m=\u001b[0m \u001b[0mopen\u001b[0m\u001b[1;33m(\u001b[0m\u001b[1;34m'./非UTF-8文件.txt'\u001b[0m\u001b[1;33m,\u001b[0m \u001b[1;34m'r'\u001b[0m\u001b[1;33m)\u001b[0m\u001b[1;33m\u001b[0m\u001b[1;33m\u001b[0m\u001b[0m\n\u001b[1;32m----> 2\u001b[1;33m \u001b[0mf\u001b[0m\u001b[1;33m.\u001b[0m\u001b[0mread\u001b[0m\u001b[1;33m(\u001b[0m\u001b[1;33m)\u001b[0m\u001b[1;33m\u001b[0m\u001b[1;33m\u001b[0m\u001b[0m\n\u001b[0m",
      "\u001b[1;31mUnicodeDecodeError\u001b[0m: 'gbk' codec can't decode byte 0xb6 in position 14: illegal multibyte sequence"
     ]
    }
   ],
   "source": [
    "f = open('./非UTF-8文件.txt', 'r')\n",
    "f.read()"
   ]
  },
  {
   "cell_type": "code",
   "execution_count": 54,
   "id": "c87a61eb-c6fd-4d2a-ac01-b56856981ed8",
   "metadata": {},
   "outputs": [
    {
     "ename": "UnicodeDecodeError",
     "evalue": "'gbk' codec can't decode byte 0xb6 in position 14: illegal multibyte sequence",
     "output_type": "error",
     "traceback": [
      "\u001b[1;31m---------------------------------------------------------------------------\u001b[0m",
      "\u001b[1;31mUnicodeDecodeError\u001b[0m                        Traceback (most recent call last)",
      "\u001b[1;32m~\\AppData\\Local\\Temp/ipykernel_55132/1946291487.py\u001b[0m in \u001b[0;36m<module>\u001b[1;34m\u001b[0m\n\u001b[0;32m      1\u001b[0m \u001b[0mf\u001b[0m \u001b[1;33m=\u001b[0m \u001b[0mopen\u001b[0m\u001b[1;33m(\u001b[0m\u001b[1;34m'./非UTF-8文件.txt'\u001b[0m\u001b[1;33m,\u001b[0m \u001b[1;34m'r'\u001b[0m\u001b[1;33m,\u001b[0m \u001b[0mencoding\u001b[0m\u001b[1;33m=\u001b[0m\u001b[1;34m'gbk'\u001b[0m\u001b[1;33m)\u001b[0m\u001b[1;33m\u001b[0m\u001b[1;33m\u001b[0m\u001b[0m\n\u001b[0;32m      2\u001b[0m \u001b[1;33m\u001b[0m\u001b[0m\n\u001b[1;32m----> 3\u001b[1;33m \u001b[0mf\u001b[0m\u001b[1;33m.\u001b[0m\u001b[0mread\u001b[0m\u001b[1;33m(\u001b[0m\u001b[1;33m)\u001b[0m\u001b[1;33m\u001b[0m\u001b[1;33m\u001b[0m\u001b[0m\n\u001b[0m",
      "\u001b[1;31mUnicodeDecodeError\u001b[0m: 'gbk' codec can't decode byte 0xb6 in position 14: illegal multibyte sequence"
     ]
    }
   ],
   "source": [
    "f = open('./非UTF-8文件.txt', 'r', encoding='gbk')\n",
    "\n",
    "f.read()"
   ]
  },
  {
   "cell_type": "code",
   "execution_count": 55,
   "id": "580e5ace-fec8-4cde-bbff-7f3f12405469",
   "metadata": {},
   "outputs": [
    {
     "data": {
      "text/plain": [
       "'娴嬭瘯鐢ㄦ枃浠\\n闈 UTF-8 缂栫爜'"
      ]
     },
     "execution_count": 55,
     "metadata": {},
     "output_type": "execute_result"
    }
   ],
   "source": [
    "f = open('./非UTF-8文件.txt', 'r', encoding='gbk', errors='ignore')\n",
    "f.read()"
   ]
  },
  {
   "cell_type": "markdown",
   "id": "71c1b19b-21aa-41e8-b9e2-da34b0eaace2",
   "metadata": {},
   "source": [
    "#### 写文件\n",
    "\n",
    "写文件时，操作系统往往不会立刻把数据写入磁盘，而是放到内存中缓存起来，在空闲时再慢慢写入。只有调用 close() 方法时，操作系统才保证把没有写入的数据全部写入磁盘。\n",
    "\n",
    "忘记调用 close() 的后果是数据可能只写了一部分到磁盘，剩下的丢失了。\n",
    "\n",
    "所以还是用 with 语句来得保险。"
   ]
  },
  {
   "cell_type": "code",
   "execution_count": 56,
   "id": "d7fbad30-e38f-46e4-b9d0-40ef6a275eea",
   "metadata": {},
   "outputs": [],
   "source": [
    "f = open('./io-write.txt', 'w')\n",
    "f.write('Hello, world!')\n",
    "f.close()"
   ]
  },
  {
   "cell_type": "markdown",
   "id": "f0b47993-400a-4b83-be26-c50c5627ea35",
   "metadata": {},
   "source": [
    "### StringIO 和 BytesIO\n",
    "\n",
    "很多时候数据的读写不一定是文件，也可以在内存中读写"
   ]
  },
  {
   "cell_type": "markdown",
   "id": "ce329e48-3190-4e2c-b8c7-36dba712bc60",
   "metadata": {},
   "source": [
    "#### StringIO"
   ]
  },
  {
   "cell_type": "code",
   "execution_count": 64,
   "id": "1109c096-e8a2-4089-9982-bd8f66ac7eda",
   "metadata": {},
   "outputs": [
    {
     "data": {
      "text/plain": [
       "5"
      ]
     },
     "execution_count": 64,
     "metadata": {},
     "output_type": "execute_result"
    }
   ],
   "source": [
    "from io import StringIO\n",
    "\n",
    "f = StringIO()\n",
    "f.write('hello')"
   ]
  },
  {
   "cell_type": "code",
   "execution_count": 65,
   "id": "fd2284c5-d3f0-42fc-b7ab-a46c90245292",
   "metadata": {},
   "outputs": [
    {
     "data": {
      "text/plain": [
       "1"
      ]
     },
     "execution_count": 65,
     "metadata": {},
     "output_type": "execute_result"
    }
   ],
   "source": [
    "f.write(' ')"
   ]
  },
  {
   "cell_type": "code",
   "execution_count": 66,
   "id": "45059c2b-d318-4fd8-b563-e5b7ebeee3de",
   "metadata": {},
   "outputs": [
    {
     "data": {
      "text/plain": [
       "6"
      ]
     },
     "execution_count": 66,
     "metadata": {},
     "output_type": "execute_result"
    }
   ],
   "source": [
    "f.write('world!')"
   ]
  },
  {
   "cell_type": "code",
   "execution_count": 67,
   "id": "d4670714-5ef2-435d-8d6f-b4de1db4ed40",
   "metadata": {},
   "outputs": [
    {
     "name": "stdout",
     "output_type": "stream",
     "text": [
      "hello world!\n"
     ]
    }
   ],
   "source": [
    "print(f.getvalue())"
   ]
  },
  {
   "cell_type": "code",
   "execution_count": 68,
   "id": "feed6cd3-c935-4c89-9325-652a87ea7535",
   "metadata": {},
   "outputs": [
    {
     "name": "stdout",
     "output_type": "stream",
     "text": [
      "Hello!\n",
      "Hi!\n",
      "Goodbye!\n"
     ]
    }
   ],
   "source": [
    "from io import StringIO\n",
    "\n",
    "f = StringIO('Hello!\\nHi!\\nGoodbye!')\n",
    "while True:\n",
    "    s = f.readline()\n",
    "    if s == '':\n",
    "        break\n",
    "    print(s.strip())"
   ]
  },
  {
   "cell_type": "markdown",
   "id": "2afdb482-5c34-4bb4-b54c-c80aeec76e94",
   "metadata": {},
   "source": [
    "#### BytesIO"
   ]
  },
  {
   "cell_type": "code",
   "execution_count": 73,
   "id": "2cdf089a-db93-4d47-a867-dbea4ac5b863",
   "metadata": {},
   "outputs": [
    {
     "data": {
      "text/plain": [
       "6"
      ]
     },
     "execution_count": 73,
     "metadata": {},
     "output_type": "execute_result"
    }
   ],
   "source": [
    "from io import BytesIO\n",
    "\n",
    "f = BytesIO()\n",
    "f.write('中文'.encode('utf-8'))"
   ]
  },
  {
   "cell_type": "code",
   "execution_count": 74,
   "id": "427d0ee1-196d-4f36-a70a-4513322b7247",
   "metadata": {},
   "outputs": [
    {
     "name": "stdout",
     "output_type": "stream",
     "text": [
      "b'\\xe4\\xb8\\xad\\xe6\\x96\\x87'\n"
     ]
    }
   ],
   "source": [
    "print(f.getvalue())"
   ]
  },
  {
   "cell_type": "markdown",
   "id": "84887cee-6869-4ec6-a7c9-35d52f911f2e",
   "metadata": {},
   "source": [
    "### 操作文件和目录\n",
    "\n",
    "操作文件和目录的函数一部分放在 os 模块中，另一部分放在 os.path 模块中"
   ]
  },
  {
   "cell_type": "code",
   "execution_count": 75,
   "id": "742fd9c3-3dbc-436c-8d00-3e129939c984",
   "metadata": {},
   "outputs": [],
   "source": [
    "import os"
   ]
  },
  {
   "cell_type": "code",
   "execution_count": 76,
   "id": "3ecdc6c3-6d76-44cd-b602-466d2821b2ab",
   "metadata": {},
   "outputs": [
    {
     "data": {
      "text/plain": [
       "'nt'"
      ]
     },
     "execution_count": 76,
     "metadata": {},
     "output_type": "execute_result"
    }
   ],
   "source": [
    "os.name"
   ]
  },
  {
   "cell_type": "code",
   "execution_count": 77,
   "id": "5f4c4a2a-b852-4b3b-9f14-a2dd67c9429f",
   "metadata": {},
   "outputs": [
    {
     "ename": "AttributeError",
     "evalue": "module 'os' has no attribute 'uname'",
     "output_type": "error",
     "traceback": [
      "\u001b[1;31m---------------------------------------------------------------------------\u001b[0m",
      "\u001b[1;31mAttributeError\u001b[0m                            Traceback (most recent call last)",
      "\u001b[1;32m~\\AppData\\Local\\Temp/ipykernel_55132/1012030353.py\u001b[0m in \u001b[0;36m<module>\u001b[1;34m\u001b[0m\n\u001b[1;32m----> 1\u001b[1;33m \u001b[0mos\u001b[0m\u001b[1;33m.\u001b[0m\u001b[0muname\u001b[0m\u001b[1;33m(\u001b[0m\u001b[1;33m)\u001b[0m\u001b[1;33m\u001b[0m\u001b[1;33m\u001b[0m\u001b[0m\n\u001b[0m",
      "\u001b[1;31mAttributeError\u001b[0m: module 'os' has no attribute 'uname'"
     ]
    }
   ],
   "source": [
    "os.uname()"
   ]
  },
  {
   "cell_type": "markdown",
   "id": "702fa7ac-d9dc-41f5-98c6-f4388781ed03",
   "metadata": {},
   "source": [
    "- 环境变量"
   ]
  },
  {
   "cell_type": "code",
   "execution_count": 80,
   "id": "6777c7e5-1419-401f-a2ff-309ea1bfb988",
   "metadata": {},
   "outputs": [
    {
     "data": {
      "text/plain": [
       "environ{'ALLUSERSPROFILE': 'C:\\\\ProgramData',\n",
       "        'APPDATA': 'C:\\\\Users\\\\H.M\\\\AppData\\\\Roaming',\n",
       "        'ASL.LOG': 'Destination=file',\n",
       "        'CHOCOLATEYINSTALL': 'C:\\\\ProgramData\\\\chocolatey',\n",
       "        'CHOCOLATEYLASTPATHUPDATE': '132842275252312007',\n",
       "        'COMMONPROGRAMFILES': 'C:\\\\Program Files\\\\Common Files',\n",
       "        'COMMONPROGRAMFILES(X86)': 'C:\\\\Program Files (x86)\\\\Common Files',\n",
       "        'COMMONPROGRAMW6432': 'C:\\\\Program Files\\\\Common Files',\n",
       "        'COMPUTERNAME': 'LAPTOP-HNKMFHLS',\n",
       "        'COMSPEC': 'C:\\\\Windows\\\\system32\\\\cmd.exe',\n",
       "        'CONDA_DEFAULT_ENV': 'jupyterlab',\n",
       "        'CONDA_EXE': 'C:\\\\Users\\\\H.M\\\\anaconda3\\\\Scripts\\\\conda.exe',\n",
       "        'CONDA_PREFIX': 'C:\\\\Users\\\\H.M\\\\anaconda3\\\\envs\\\\jupyterlab',\n",
       "        'CONDA_PREFIX_1': 'C:\\\\Users\\\\H.M\\\\anaconda3',\n",
       "        'CONDA_PROMPT_MODIFIER': '(jupyterlab) ',\n",
       "        'CONDA_PYTHON_EXE': 'C:\\\\Users\\\\H.M\\\\anaconda3\\\\python.exe',\n",
       "        'CONDA_SHLVL': '2',\n",
       "        'DRIVERDATA': 'C:\\\\Windows\\\\System32\\\\Drivers\\\\DriverData',\n",
       "        'FPS_BROWSER_APP_PROFILE_STRING': 'Internet Explorer',\n",
       "        'FPS_BROWSER_USER_PROFILE_STRING': 'Default',\n",
       "        'HOMEDRIVE': 'C:',\n",
       "        'HOMEPATH': '\\\\Users\\\\H.M',\n",
       "        'INTELLIJ IDEA': 'C:\\\\Program Files\\\\JetBrains\\\\IntelliJ IDEA 2021.2.3\\\\bin;',\n",
       "        'LOCALAPPDATA': 'C:\\\\Users\\\\H.M\\\\AppData\\\\Local',\n",
       "        'LOGONSERVER': '\\\\\\\\LAPTOP-HNKMFHLS',\n",
       "        'NUMBER_OF_PROCESSORS': '16',\n",
       "        'ONEDRIVE': 'D:\\\\Media\\\\OneDrive - zju.edu.cn',\n",
       "        'ONEDRIVECOMMERCIAL': 'D:\\\\Media\\\\OneDrive - zju.edu.cn',\n",
       "        'OS': 'Windows_NT',\n",
       "        'PATH': 'C:\\\\Users\\\\H.M\\\\anaconda3\\\\envs\\\\jupyterlab;C:\\\\Users\\\\H.M\\\\anaconda3\\\\envs\\\\jupyterlab\\\\Library\\\\mingw-w64\\\\bin;C:\\\\Users\\\\H.M\\\\anaconda3\\\\envs\\\\jupyterlab\\\\Library\\\\usr\\\\bin;C:\\\\Users\\\\H.M\\\\anaconda3\\\\envs\\\\jupyterlab\\\\Library\\\\bin;C:\\\\Users\\\\H.M\\\\anaconda3\\\\envs\\\\jupyterlab\\\\Scripts;C:\\\\Users\\\\H.M\\\\anaconda3\\\\envs\\\\jupyterlab\\\\bin;C:\\\\Users\\\\H.M\\\\anaconda3\\\\condabin;C:\\\\Program Files\\\\PowerShell\\\\7;C:\\\\Windows\\\\system32;C:\\\\Windows;C:\\\\Windows\\\\System32\\\\Wbem;C:\\\\Windows\\\\System32\\\\WindowsPowerShell\\\\v1.0;C:\\\\Windows\\\\System32\\\\OpenSSH;C:\\\\Program Files\\\\nodejs;C:\\\\ProgramData\\\\chocolatey\\\\bin;C:\\\\Program Files\\\\Git\\\\cmd;C:\\\\Program Files\\\\dotnet;C:\\\\Program Files\\\\PowerShell\\\\7;D:\\\\Software\\\\hugo;C:\\\\Program Files (x86)\\\\NetSarang\\\\Xshell 7;C:\\\\Program Files (x86)\\\\NetSarang\\\\Xftp 7;C:\\\\Users\\\\H.M\\\\anaconda3\\\\bin;C:\\\\Users\\\\H.M\\\\anaconda3\\\\Scripts;C:\\\\Users\\\\H.M\\\\AppData\\\\Local\\\\Microsoft\\\\WindowsApps;C:\\\\Program Files\\\\Bandizip;C:\\\\Users\\\\H.M\\\\AppData\\\\Roaming\\\\npm;C:\\\\Users\\\\H.M\\\\AppData\\\\Local\\\\Programs\\\\VSCode\\\\bin;C:\\\\Users\\\\H.M\\\\.dotnet\\\\tools;C:\\\\Program Files\\\\JetBrains\\\\IntelliJ IDEA 2021.2.3\\\\bin;.;C:\\\\Program Files\\\\JetBrains\\\\PyCharm Community Edition 2021.3\\\\bin;.;D:\\\\Software\\\\mingw64\\\\bin;.',\n",
       "        'PATHEXT': '.COM;.EXE;.BAT;.CMD;.VBS;.VBE;.JS;.JSE;.WSF;.WSH;.MSC;.CPL',\n",
       "        'POWERSHELL_DISTRIBUTION_CHANNEL': 'MSI:Windows 10 Pro',\n",
       "        'PROCESSOR_ARCHITECTURE': 'AMD64',\n",
       "        'PROCESSOR_IDENTIFIER': 'AMD64 Family 25 Model 80 Stepping 0, AuthenticAMD',\n",
       "        'PROCESSOR_LEVEL': '25',\n",
       "        'PROCESSOR_REVISION': '5000',\n",
       "        'PROGRAMDATA': 'C:\\\\ProgramData',\n",
       "        'PROGRAMFILES': 'C:\\\\Program Files',\n",
       "        'PROGRAMFILES(X86)': 'C:\\\\Program Files (x86)',\n",
       "        'PROGRAMW6432': 'C:\\\\Program Files',\n",
       "        'PSMODULEPATH': 'D:\\\\Media\\\\Documents\\\\PowerShell\\\\Modules;C:\\\\Program Files\\\\PowerShell\\\\Modules;c:\\\\program files\\\\powershell\\\\7\\\\Modules;C:\\\\Program Files\\\\WindowsPowerShell\\\\Modules;C:\\\\Windows\\\\system32\\\\WindowsPowerShell\\\\v1.0\\\\Modules',\n",
       "        'PUBLIC': 'C:\\\\Users\\\\Public',\n",
       "        'PYCHARM COMMUNITY EDITION': 'C:\\\\Program Files\\\\JetBrains\\\\PyCharm Community Edition 2021.3\\\\bin;',\n",
       "        'SESSIONNAME': 'Console',\n",
       "        'SYSTEMDRIVE': 'C:',\n",
       "        'SYSTEMROOT': 'C:\\\\Windows',\n",
       "        'TEMP': 'C:\\\\Users\\\\H.M\\\\AppData\\\\Local\\\\Temp',\n",
       "        'TMP': 'C:\\\\Users\\\\H.M\\\\AppData\\\\Local\\\\Temp',\n",
       "        'USERDOMAIN': 'LAPTOP-HNKMFHLS',\n",
       "        'USERDOMAIN_ROAMINGPROFILE': 'LAPTOP-HNKMFHLS',\n",
       "        'USERNAME': 'H.M',\n",
       "        'USERPROFILE': 'C:\\\\Users\\\\H.M',\n",
       "        'WINDIR': 'C:\\\\Windows',\n",
       "        '_CONDA_EXE': 'C:\\\\Users\\\\H.M\\\\anaconda3\\\\Scripts\\\\conda.exe',\n",
       "        '_CONDA_ROOT': 'C:\\\\Users\\\\H.M\\\\anaconda3',\n",
       "        'GIT_PYTHON_REFRESH': 'quiet',\n",
       "        'PYDEVD_USE_FRAME_EVAL': 'NO',\n",
       "        'JPY_INTERRUPT_EVENT': '3868',\n",
       "        'IPY_INTERRUPT_EVENT': '3868',\n",
       "        'JPY_PARENT_PID': '3936',\n",
       "        'TERM': 'xterm-color',\n",
       "        'CLICOLOR': '1',\n",
       "        'PAGER': 'cat',\n",
       "        'GIT_PAGER': 'cat',\n",
       "        'MPLBACKEND': 'module://matplotlib_inline.backend_inline'}"
      ]
     },
     "execution_count": 80,
     "metadata": {},
     "output_type": "execute_result"
    }
   ],
   "source": [
    "os.environ"
   ]
  },
  {
   "cell_type": "code",
   "execution_count": 82,
   "id": "a17c85fe-b330-40ee-ab21-66f47644ccd8",
   "metadata": {},
   "outputs": [
    {
     "data": {
      "text/plain": [
       "'C:\\\\Users\\\\H.M\\\\anaconda3\\\\envs\\\\jupyterlab;C:\\\\Users\\\\H.M\\\\anaconda3\\\\envs\\\\jupyterlab\\\\Library\\\\mingw-w64\\\\bin;C:\\\\Users\\\\H.M\\\\anaconda3\\\\envs\\\\jupyterlab\\\\Library\\\\usr\\\\bin;C:\\\\Users\\\\H.M\\\\anaconda3\\\\envs\\\\jupyterlab\\\\Library\\\\bin;C:\\\\Users\\\\H.M\\\\anaconda3\\\\envs\\\\jupyterlab\\\\Scripts;C:\\\\Users\\\\H.M\\\\anaconda3\\\\envs\\\\jupyterlab\\\\bin;C:\\\\Users\\\\H.M\\\\anaconda3\\\\condabin;C:\\\\Program Files\\\\PowerShell\\\\7;C:\\\\Windows\\\\system32;C:\\\\Windows;C:\\\\Windows\\\\System32\\\\Wbem;C:\\\\Windows\\\\System32\\\\WindowsPowerShell\\\\v1.0;C:\\\\Windows\\\\System32\\\\OpenSSH;C:\\\\Program Files\\\\nodejs;C:\\\\ProgramData\\\\chocolatey\\\\bin;C:\\\\Program Files\\\\Git\\\\cmd;C:\\\\Program Files\\\\dotnet;C:\\\\Program Files\\\\PowerShell\\\\7;D:\\\\Software\\\\hugo;C:\\\\Program Files (x86)\\\\NetSarang\\\\Xshell 7;C:\\\\Program Files (x86)\\\\NetSarang\\\\Xftp 7;C:\\\\Users\\\\H.M\\\\anaconda3\\\\bin;C:\\\\Users\\\\H.M\\\\anaconda3\\\\Scripts;C:\\\\Users\\\\H.M\\\\AppData\\\\Local\\\\Microsoft\\\\WindowsApps;C:\\\\Program Files\\\\Bandizip;C:\\\\Users\\\\H.M\\\\AppData\\\\Roaming\\\\npm;C:\\\\Users\\\\H.M\\\\AppData\\\\Local\\\\Programs\\\\VSCode\\\\bin;C:\\\\Users\\\\H.M\\\\.dotnet\\\\tools;C:\\\\Program Files\\\\JetBrains\\\\IntelliJ IDEA 2021.2.3\\\\bin;.;C:\\\\Program Files\\\\JetBrains\\\\PyCharm Community Edition 2021.3\\\\bin;.;D:\\\\Software\\\\mingw64\\\\bin;.'"
      ]
     },
     "execution_count": 82,
     "metadata": {},
     "output_type": "execute_result"
    }
   ],
   "source": [
    "# 获取某个环境变量的值\n",
    "\n",
    "os.environ.get('path')"
   ]
  },
  {
   "cell_type": "markdown",
   "id": "cabc95b5-d80b-47dc-a28f-802d872c887f",
   "metadata": {},
   "source": [
    "- 操作文件和目录"
   ]
  },
  {
   "cell_type": "code",
   "execution_count": 83,
   "id": "9e813898-56e1-4639-b66d-9a83f56e7c97",
   "metadata": {},
   "outputs": [
    {
     "data": {
      "text/plain": [
       "'D:\\\\Project\\\\Python-Learning\\\\Python笔记'"
      ]
     },
     "execution_count": 83,
     "metadata": {},
     "output_type": "execute_result"
    }
   ],
   "source": [
    "# 查看当前目录的绝对路径\n",
    "\n",
    "os.path.abspath('.')"
   ]
  },
  {
   "cell_type": "code",
   "execution_count": 86,
   "id": "a3371cff-e759-41fb-9dc7-100436398768",
   "metadata": {},
   "outputs": [
    {
     "data": {
      "text/plain": [
       "'./testdir'"
      ]
     },
     "execution_count": 86,
     "metadata": {},
     "output_type": "execute_result"
    }
   ],
   "source": [
    "# 在某个目录下创建新目录\n",
    "\n",
    "# 首先把新目录的完整路径表示出来\n",
    "os.path.join('./', 'testdir')"
   ]
  },
  {
   "cell_type": "code",
   "execution_count": 92,
   "id": "55e7a988-c974-4d04-9c47-64a288ee060b",
   "metadata": {},
   "outputs": [],
   "source": [
    "# 然后创建一个目录\n",
    "\n",
    "os.mkdir('./testdir')"
   ]
  },
  {
   "cell_type": "code",
   "execution_count": 93,
   "id": "eb5c5eac-f88b-4746-b4ba-f92da38df024",
   "metadata": {},
   "outputs": [],
   "source": [
    "# 删除一个目录\n",
    "\n",
    "os.rmdir('./testdir')"
   ]
  },
  {
   "cell_type": "markdown",
   "id": "c36ac1e1-553b-4ae7-a7bd-dab1b71712e4",
   "metadata": {},
   "source": [
    "把两个路径合成一个时，不要直接拼字符串，而要通过 os.path.join() 函数，这样可以正确处理不同操作系统的路径分隔符。"
   ]
  },
  {
   "cell_type": "markdown",
   "id": "e640425d-4f06-4a68-b0c2-e5534432375b",
   "metadata": {},
   "source": [
    "同样的道理，要拆分路径时，也不要直接去拆字符串，而要通过os.path.split() 函数，这样可以把一个路径拆分为两部分，**后一部分总是最后级别的目录或文件名**："
   ]
  },
  {
   "cell_type": "code",
   "execution_count": 94,
   "id": "2b0a3900-1f48-4b37-89a0-b9ae2ae80e14",
   "metadata": {},
   "outputs": [
    {
     "data": {
      "text/plain": [
       "('.', 'python-notes.ipynb')"
      ]
     },
     "execution_count": 94,
     "metadata": {},
     "output_type": "execute_result"
    }
   ],
   "source": [
    "os.path.split('./python-notes.ipynb')"
   ]
  },
  {
   "cell_type": "code",
   "execution_count": 97,
   "id": "4d01c783-860e-4ea2-8b29-a2b6206c7b74",
   "metadata": {},
   "outputs": [
    {
     "data": {
      "text/plain": [
       "('./非UTF-8文件', '.txt')"
      ]
     },
     "execution_count": 97,
     "metadata": {},
     "output_type": "execute_result"
    }
   ],
   "source": [
    "# 得到文件扩展名\n",
    "\n",
    "os.path.splitext('./非UTF-8文件.txt')"
   ]
  },
  {
   "cell_type": "markdown",
   "id": "e375f56b-0a40-4253-8ebb-38b2d725cefb",
   "metadata": {},
   "source": [
    "这些合并、拆分路径的函数并不要求目录和文件要真实存在，它们只对字符串进行操作。"
   ]
  },
  {
   "cell_type": "code",
   "execution_count": 8,
   "id": "1461fd87-15fd-4448-b7ce-24d000e4f65a",
   "metadata": {},
   "outputs": [
    {
     "data": {
      "text/plain": [
       "['.ipynb_checkpoints', '__pycache__']"
      ]
     },
     "execution_count": 8,
     "metadata": {},
     "output_type": "execute_result"
    }
   ],
   "source": [
    "# 当前路径下的所有目录\n",
    "\n",
    "[x for x in os.listdir('.') if os.path.isdir(x)]"
   ]
  },
  {
   "cell_type": "code",
   "execution_count": 10,
   "id": "db1007bd-b5ea-452e-8210-b79d76ebc4b6",
   "metadata": {},
   "outputs": [
    {
     "data": {
      "text/plain": [
       "['hello.py']"
      ]
     },
     "execution_count": 10,
     "metadata": {},
     "output_type": "execute_result"
    }
   ],
   "source": [
    "# 当前路径下 .py 文件\n",
    "\n",
    "[x for x in os.listdir('.') if os.path.isfile(x) and os.path.splitext(x)[1]=='.py']"
   ]
  },
  {
   "cell_type": "markdown",
   "id": "d21f388c-5046-4eea-8a4a-810ba9b0bda4",
   "metadata": {},
   "source": [
    "#### 练习"
   ]
  },
  {
   "cell_type": "code",
   "execution_count": 11,
   "id": "e5592575-7376-41af-9c6d-6bbd10d40d99",
   "metadata": {},
   "outputs": [],
   "source": [
    "# 利用 os 模块编写一个能实现 dir -l 输出的程序。\n",
    "\n"
   ]
  },
  {
   "cell_type": "code",
   "execution_count": 52,
   "id": "b3496867-3bae-4e01-acf5-2c84e14f4523",
   "metadata": {},
   "outputs": [
    {
     "data": {
      "text/plain": [
       "['.ipynb_checkpoints', '__pycache__']"
      ]
     },
     "execution_count": 52,
     "metadata": {},
     "output_type": "execute_result"
    }
   ],
   "source": [
    "# 编写一个程序，能在当前目录以及当前目录的所有子目录下查找文件名包含指定字符串的文件，并打印出相对路径。\n",
    "\n",
    "[x for x in os.listdir('.') if os.path.isdir(os.path.join('.', x))] \n"
   ]
  },
  {
   "cell_type": "code",
   "execution_count": 45,
   "id": "26427157-60a1-4621-90c9-1d46114fe7c2",
   "metadata": {},
   "outputs": [
    {
     "name": "stdout",
     "output_type": "stream",
     "text": [
      ".ipynb_checkpoints\n",
      "hello.py\n",
      "icon.jpg\n",
      "io-write.txt\n",
      "python-notes.ipynb\n",
      "Untitled.ipynb\n",
      "__pycache__\n",
      "廖雪峰教程-代码笔记.ipynb\n",
      "非UTF-8文件.txt\n"
     ]
    }
   ],
   "source": [
    "findfile('hello')"
   ]
  },
  {
   "cell_type": "code",
   "execution_count": 49,
   "id": "49d100f4-cd04-4945-a342-96b22b115bb3",
   "metadata": {},
   "outputs": [
    {
     "data": {
      "text/plain": [
       "['.ipynb_checkpoints',\n",
       " 'hello.py',\n",
       " 'icon.jpg',\n",
       " 'io-write.txt',\n",
       " 'python-notes.ipynb',\n",
       " 'Untitled.ipynb',\n",
       " '__pycache__',\n",
       " '廖雪峰教程-代码笔记.ipynb',\n",
       " '非UTF-8文件.txt']"
      ]
     },
     "execution_count": 49,
     "metadata": {},
     "output_type": "execute_result"
    }
   ],
   "source": [
    "file = [x for x in os.listdir('.')] \n",
    "\n",
    "file"
   ]
  },
  {
   "cell_type": "markdown",
   "id": "12d5fc83-02d9-4ea0-b724-ad74d3efa28c",
   "metadata": {},
   "source": [
    "### 序列化\n",
    "\n",
    "将变量从内存中变成可存储或传输的过程称之为序列化。\n",
    "\n",
    "在 Python 中叫 pickling，其他语言中叫 serialization\\marshalling\\flatterning。\n",
    "\n",
    "序列化后，就可以将序列化后的内容写入磁盘，或者通过网络传输到别的机器上。\n",
    "\n",
    "反过来，将变量内容从序列化的对象重新读到内存里称之为反序列化，即 unpickling。"
   ]
  },
  {
   "cell_type": "markdown",
   "id": "f8df1023-3040-4f24-b0e0-106308e1e437",
   "metadata": {},
   "source": [
    "## 十一、进程和线程\n",
    "\n",
    "进程（Prcess）：一个任务即一个进程，如打开一个浏览器、打开一个记事本；\n",
    "线程（Thread）：进程中的子任务即线程，如一个进程 Word 同时进行打字、拼写检查、打印等子任务（线程）。\n",
    "\n",
    "每个进程至少要干一件事，所以一个进程至少有一个线程。\n",
    "\n",
    "操作系统在每个进程、线程之间快速切换，让每个进程、线程交替运行，看起来像是同时执行一样。\n",
    "\n",
    "真正地同时执行是需要多喝 CPU 才能实现。"
   ]
  },
  {
   "cell_type": "markdown",
   "id": "2d40dfde-46ae-493e-983e-aa7fc21d095a",
   "metadata": {},
   "source": [
    "前面编写的所有的 Python 程序，都是执行单任务的进程，也就是只有一个线程。如果我们要同时执行多个任务怎么办？\n",
    "\n",
    "有两种解决方案：\n",
    "\n",
    "1. 启动多个进程，每个进程只有一个线程，多个进程一块执行多个任务。\n",
    "2. 启动一个进程，在一个进程内启动多个线程，这样，多个线程也可以一块执行多个任务。\n",
    "\n",
    "当然还有第三种方法，就是启动多个进程，每个进程再启动多个线程，这样同时执行的任务就更多了，当然这种模型更复杂，实际很少采用。\n",
    "\n",
    "- 多进程模式；\n",
    "- 多线程模式；\n",
    "- 多进程+多线程模式。"
   ]
  },
  {
   "cell_type": "markdown",
   "id": "d649ad06-3582-4dd5-99cf-f45b468adf55",
   "metadata": {},
   "source": [
    "同时执行多个任务通常各个任务之间并不是没有关联的，而是需要**相互通信和协调**。\n",
    "\n",
    "有时，任务 1 必须暂停等待任务 2 完成后才能继续执行，有时，任务 3  和任务 4 又不能同时执。\n",
    "\n",
    "所以，多进程和多线程的程序的复杂度要远远高于我们前面写的单进程单线程的程序。"
   ]
  },
  {
   "cell_type": "markdown",
   "id": "ce42f1f3-bf6a-4de1-954b-89db403e3b74",
   "metadata": {},
   "source": [
    "**其他参考资料：**\n",
    "\n",
    "1. [搞定python多线程和多进程](http://www.cnblogs.com/whatisfantasy/p/6440585.html)\n",
    "\n",
    "2. [深入理解Python中的ThreadLocal变量（上）]()\n",
    "3. [深入理解Python中的ThreadLocal变量（下）]()"
   ]
  },
  {
   "cell_type": "markdown",
   "id": "4ce0ce6a-5a57-4b55-b3e3-493cc8d4a105",
   "metadata": {},
   "source": [
    "### 多进程（multiprocessing)"
   ]
  },
  {
   "cell_type": "markdown",
   "id": "ea0ec836-f2f2-43bb-8869-b718e39c86d6",
   "metadata": {},
   "source": [
    "Linux 系统可以直接使用 fork() 复制出一个子进程，然后分别在父进程和子进程中返回\n",
    "\n",
    "子进程返回 0 ，父进程返回子进程的 id，子进程可以通过 getppid() 得到父进程 id。"
   ]
  },
  {
   "cell_type": "code",
   "execution_count": null,
   "id": "cd21922f-b8b8-4af6-88f7-f2686d89cdc3",
   "metadata": {},
   "outputs": [],
   "source": [
    "import os\n",
    "\n",
    "print('Process (%s) start... % os.getpid()')\n",
    "# 创建子进程\n",
    "pid = os.fork()\n",
    "# 子进程\n",
    "if pid == 0:\n",
    "    print('I am child process (%s) and my parent is %s.' % (os.getpid(), os.getppid()))\n",
    "# 父进程\n",
    "esle:\n",
    "    print('I (%s) just created a child process (%s).' % (os.getpid(), pid))\n",
    "    "
   ]
  },
  {
   "cell_type": "markdown",
   "id": "f4d83916-bcfe-4974-89ab-a0e9e597189c",
   "metadata": {},
   "source": [
    "但是 Windows 系统没有 fork() ，就要借助 multiprocessing 模块实现跨平台的多进程"
   ]
  },
  {
   "cell_type": "code",
   "execution_count": 6,
   "id": "bf7c6e92-4eb2-445b-95e8-4e50b2fbd6f2",
   "metadata": {},
   "outputs": [],
   "source": [
    "from multiprocessing import Process\n",
    "import os"
   ]
  },
  {
   "cell_type": "code",
   "execution_count": null,
   "id": "5925649a-ec0f-4938-a4e2-bde643c47ba2",
   "metadata": {},
   "outputs": [],
   "source": [
    "# 子进程要执行的代码\n",
    "def run_proc(name):\n",
    "    print('Run child process %s (%s)' % (name, os.getpid()))\n",
    "    \n",
    "# 主进程\n",
    "if __name__ == '__main__':\n",
    "    print('Parent process %s.' % os.getpid())\n",
    "    p = Process(target=run_proc, args=('test',)) # 创建子进程\n",
    "    print('Chile process will start.')\n",
    "    p.start()\n",
    "    p.join() \n",
    "    print('Child process end.')\n",
    "    \n",
    "# join()方法可以等待子进程结束后再继续往下运行，\n",
    "# 通常用于进程间的同步。"
   ]
  },
  {
   "cell_type": "markdown",
   "id": "a7fbcbbd-4389-4739-9619-1bee4a1212af",
   "metadata": {},
   "source": [
    "#### Pool\n",
    "\n",
    "线程池用于创建大量的子线程"
   ]
  },
  {
   "cell_type": "code",
   "execution_count": null,
   "id": "b0e544ba-6f03-440e-bba6-7ba9674f7524",
   "metadata": {},
   "outputs": [],
   "source": [
    "from multiprocessing import Pool\n",
    "import os, time, random"
   ]
  },
  {
   "cell_type": "code",
   "execution_count": null,
   "id": "f415ef1e-feb1-4660-82bf-123fe5c4873a",
   "metadata": {},
   "outputs": [],
   "source": [
    "# 子进程执行体\n",
    "def long_time_task(name):\n",
    "    print('Run task %s (%s)...' % (name, os.getpid()))\n",
    "    start = time.time()\n",
    "    time.sleep(random.random() * 3)\n",
    "    end = time.time()\n",
    "    print('Task %s runs %0.2f seconds.' % (name, end - start))\n",
    "\n",
    "# 主进程\n",
    "if __name__ == '__main__':\n",
    "    print('Parent process %s.' % os.getpid())\n",
    "    p = Pool() # 首先创建线程池\n",
    "    for i in range(5):\n",
    "        p.apply_async(long_time_task, args=(i,))\n",
    "    print('Wating for all subprocesses done...')\n",
    "    p.close()\n",
    "    p.join()\n",
    "    print('All subprocesses done.')"
   ]
  },
  {
   "cell_type": "markdown",
   "id": "e1a0d199-eb32-41c4-bcc1-9a8ed7d78dc7",
   "metadata": {},
   "source": [
    "对 Pool 对象调用 close() 之后就不能继续添加新的 Process 了\n",
    "\n",
    "调用 join() 方法会等待所有子进程执行完毕，调用 join() 之前必须先调用 close()"
   ]
  },
  {
   "cell_type": "markdown",
   "id": "d602e023-e440-4092-8d9b-714064bfdd24",
   "metadata": {},
   "source": [
    "#### 子进程\n",
    "\n",
    "很多时候，子进程并不是自身，而是一个外部进程。我们创建了子进程后，还需要控制子进程的输入和输出。\n",
    "\n",
    "subprocess 模块可以方便的启动一个子进程，然后控制其输入输出"
   ]
  },
  {
   "cell_type": "code",
   "execution_count": null,
   "id": "e86ccb26-5993-4479-bed0-911677a4abd8",
   "metadata": {},
   "outputs": [],
   "source": [
    "import subprocess\n",
    "\n",
    "print('$ nslookup www.pyhon.org')\n",
    "# 创建子进程，子进程输出\n",
    "r = subprocess.call(['nslookup', 'www.pyhon.org'])\n",
    "print('Exit code:', r)"
   ]
  },
  {
   "cell_type": "code",
   "execution_count": null,
   "id": "c61a1a30-2520-458f-84e7-0c80f5e7f023",
   "metadata": {},
   "outputs": [],
   "source": [
    "# 如果子进程还需要输入，则使用 conmmunicate() 方法输入\n",
    "\n",
    "import subprocess\n",
    "\n",
    "print('$ nslookup')\n",
    "p = subprocess.Popen(['nslookup'], stdin=subprocess.PIPE, stdout=subprocess.PIPE, stderr=subprocess.PIPE)\n",
    "output, err = p.communicate(b'set q=mx\\npython.org\\nexit\\n')\n",
    "print(output.dcode('utf-8'))\n",
    "print('Exit code:', p.returncode)"
   ]
  },
  {
   "cell_type": "markdown",
   "id": "044bcf3f-16de-4c16-a05c-469f0aae4144",
   "metadata": {},
   "source": [
    "上面的代码相当于在命令行执行命令 nslookup，然后手动输入：\n",
    "```\n",
    "set q=mx\n",
    "python.org\n",
    "exit\n",
    "```"
   ]
  },
  {
   "cell_type": "markdown",
   "id": "43bd2559-73aa-4961-b50d-d5d17c562f94",
   "metadata": {},
   "source": [
    "#### 进程间通信\n",
    "\n",
    "Python 的 multiprocessing 模块包装了底层的机制，提供了 Queue、Pipes 等多种方式来交换数据。"
   ]
  },
  {
   "cell_type": "code",
   "execution_count": null,
   "id": "89d99e53-0b79-4cdc-b685-aa19559bc3a3",
   "metadata": {},
   "outputs": [],
   "source": [
    "from multiprocessing import Process, Queue\n",
    "import os, time, random\n",
    "\n",
    "# 写数据进程\n",
    "def write(q):\n",
    "    print('Process to write: %s' % os.getpid())\n",
    "    for value in ['A', 'B', 'C']:\n",
    "        print('Put %s to queue...' % value)\n",
    "        q.put(value)\n",
    "        time.sleep(random.random())\n",
    "        \n",
    "# 读数据进程\n",
    "def read(q):\n",
    "    print('Process to read: %s' % os.getpid())\n",
    "    while True:\n",
    "        value = q.get(True)\n",
    "        print('Get %s from queue.' % value)\n",
    "\n",
    "if __name__ == '__main__':\n",
    "    # 父进程创建 Queue，并传给各个子进程\n",
    "    q = Queue()\n",
    "    # 创建两个子进程\n",
    "    pw = Process(target=write, args=(q,))\n",
    "    pr = Process(target=read, args=(q, ))\n",
    "    # 启动子进程\n",
    "    pw.start()\n",
    "    pr.start()\n",
    "    # 等待 pw 结束\n",
    "    pw.join()\n",
    "    # pr 进程里是死循环，无法等待其结束，只能强制终止\n",
    "    pr.terminate()"
   ]
  },
  {
   "cell_type": "markdown",
   "id": "32e2ad09-4453-4f75-85cf-10eae6e52289",
   "metadata": {},
   "source": [
    "### 多线程"
   ]
  },
  {
   "cell_type": "code",
   "execution_count": null,
   "id": "9199e236-bc7b-40e2-a981-ff9f229a1d95",
   "metadata": {},
   "outputs": [],
   "source": [
    "import threading, time\n",
    "\n",
    "# 子线程执行的代码\n",
    "def loop():\n",
    "    print('thread %s is running...' % threading.current_thread().name)\n",
    "    n = 0\n",
    "    while n < 5:\n",
    "        n = n + 1\n",
    "        print('thread %s >>> %s' % (threading.current_thread().name, n))\n",
    "        time.sleep(1)\n",
    "    print('thread %s ended.' % threading.current_thread().name)\n",
    "\n",
    "# 主线程\n",
    "print('thread %s is running...' % threading.current_thread().name)\n",
    "# 创建线程\n",
    "t = threading.Thread(target=loop, name='LoopThread')\n",
    "t.start()\n",
    "t.join()\n",
    "print('thread %s ended.' % threading.current_thread().name)"
   ]
  },
  {
   "cell_type": "markdown",
   "id": "3f55eb82-daa1-4e59-8f31-7df72095030f",
   "metadata": {},
   "source": [
    "current_thread() 函数，它永远返回当前线程的实例\n",
    "\n",
    "主线程实例的名字叫 MainThread，子线程的名字在创建时指定，我们用LoopThread 命名子线程。"
   ]
  },
  {
   "cell_type": "markdown",
   "id": "5b453d0f-6c00-4c2e-abbb-0a603f5fbef7",
   "metadata": {},
   "source": [
    "#### Lock\n",
    "\n",
    "多进程中，同一个变量，各自有一份拷贝存在于每个进程中，互不影响;\n",
    "\n",
    "多线程中，所有变量都由所有线程共享，所以，任何一个变量都可以被任何一个线程修改;\n",
    "\n",
    "因此，线程之间共享数据最大的危险在于多个线程同时改一个变量，把内容给改乱了。"
   ]
  },
  {
   "cell_type": "code",
   "execution_count": null,
   "id": "5a58ddd2-87d3-45d2-a4bd-52fd8e41d8b1",
   "metadata": {},
   "outputs": [],
   "source": [
    "import threading, time\n",
    "\n",
    "# 银行存款\n",
    "balance = 0\n",
    "\n",
    "# 存取函数\n",
    "def change_it(n):\n",
    "    # 先存后取，结果应该不变，为0\n",
    "    global balance\n",
    "    balance = balance + n\n",
    "    balance = balance -n\n",
    "    \n",
    "# 执行数次\n",
    "def run_thread(n):\n",
    "    for i in range(2000000):\n",
    "        change_it(n)\n",
    "        \n",
    "# 创建两个线程\n",
    "t1 = threading.Thread(target=run_thread, args=(5,))\n",
    "t2 = threading.Thread(target=run_thread, args=(8,))\n",
    "\n",
    "t1.start()\n",
    "t2.start()\n",
    "\n",
    "t1.join()\n",
    "t2.join()\n",
    "\n",
    "print(balance)"
   ]
  },
  {
   "cell_type": "markdown",
   "id": "4e440778-369b-4607-b860-9aa6bd771b64",
   "metadata": {},
   "source": [
    "最终 balance 不为 0 ，原因是高级语言的一条语句在 CPU 执行时是若干条语句，即使一个简单的计算：balance = balance + n，也会分为两步：\n",
    "\n",
    "1. 计算 balance + n，存入到临时变量中\n",
    "2. 将临时变量的值赋给 balance\n"
   ]
  },
  {
   "cell_type": "markdown",
   "id": "82ef3764-3e16-4683-b8b4-de057f698455",
   "metadata": {},
   "source": [
    "如果我们要确保 balance 计算正确，就要给 change_it() 上一把锁，当某个线程开始执行 change_it() 时，我们说，该线程因为获得了锁，因此其他线程不能同时执行 change_it()，只能等待，直到锁被释放后，获得该锁以后才能改。"
   ]
  },
  {
   "cell_type": "code",
   "execution_count": null,
   "id": "dcf1ca2a-0d53-4b79-a2dd-0045a694e434",
   "metadata": {},
   "outputs": [],
   "source": [
    "balance = 0\n",
    "# 创建一把锁\n",
    "lock = threading.Lock()\n",
    "\n",
    "def run_thread(n):\n",
    "    for i in range(2000000):\n",
    "        # 先要获得锁\n",
    "        lock.acquire()\n",
    "        try:\n",
    "            change_it()\n",
    "        finally:\n",
    "            lock.release()"
   ]
  },
  {
   "cell_type": "markdown",
   "id": "ac12d874-43c2-4910-aa6e-d342ca72fdd0",
   "metadata": {},
   "source": [
    "#### 多核 CPU\n",
    "\n",
    "Python 解释器由于设计时有 GIL(Global Interpreter Lock)全局锁，导致了多线程无法利用多核。\n",
    "\n",
    "Python 不能利用多线程实现多核任务，但可以通过多进程实现多核任务。多个Python 进程有各自独立的GIL锁，互不影响。"
   ]
  },
  {
   "cell_type": "markdown",
   "id": "6d162be2-21c2-44ac-aa72-9746fdb56f90",
   "metadata": {},
   "source": [
    "### ThreadLocal"
   ]
  },
  {
   "cell_type": "markdown",
   "id": "51afe616-27a2-4df2-bbb5-d43bce8f4a8a",
   "metadata": {},
   "source": [
    "tag: 暂时不看"
   ]
  },
  {
   "cell_type": "markdown",
   "id": "a2e08f8f-eba4-4cff-ad08-98278ad6a9ec",
   "metadata": {},
   "source": [
    "### 分布式进程\n",
    "\n",
    "Python 的分布式进程接口简单，封装良好，适合需要把繁重任务分布到多台机器的环境下。\n",
    "\n",
    "在 Thread 和 Process 中，应当优选 Process，因为 Process 更稳定，而且，Process 可以分布到多台机器上，而 Thread 最多只能分布到同一台机器的多个 CPU 上。"
   ]
  },
  {
   "cell_type": "markdown",
   "id": "ce53781a-af18-40d7-991e-f6211f909c03",
   "metadata": {},
   "source": [
    "Python 的 multiprocessing 模块不但支持多进程，其中 managers 子模块还支持把多进程分布到多台机器上。\n",
    "\n",
    "一个服务进程可以作为调度者，将任务分布到其他多个进程中，**依靠网络通信**。\n",
    "\n",
    "由于 managers 模块封装很好，不必了解网络通信的细节，就可以很容易地编写分布式多进程程序。"
   ]
  },
  {
   "cell_type": "markdown",
   "id": "6414c590-cb00-41ec-bc4e-a0ebfb6528ab",
   "metadata": {},
   "source": [
    "原有的 Queue 可以继续使用，通过 managers 模块把 Queue 过网络暴露出去，就可以让其他机器的进程访问 Queue 了。"
   ]
  },
  {
   "cell_type": "markdown",
   "id": "babc8943-b9db-4fe3-bae8-60c86239f35b",
   "metadata": {},
   "source": [
    "tag: 暂时未看"
   ]
  },
  {
   "cell_type": "markdown",
   "id": "3854aa30-b911-4b08-8b78-25d6e1bc993d",
   "metadata": {},
   "source": [
    "## 十二、正则表达式"
   ]
  },
  {
   "cell_type": "markdown",
   "id": "30a0653e-7e12-412c-a818-8c13a6b85a53",
   "metadata": {},
   "source": [
    "\\d：可以匹配一个数字\n",
    "\n",
    "\\w：可以匹配一个字母或数字\n",
    "\n",
    ".（点）：可以匹配任意字符"
   ]
  },
  {
   "cell_type": "markdown",
   "id": "a9651033-978c-4ccb-80e2-aa0ce046e5c3",
   "metadata": {},
   "source": [
    "*：任意个字符\n",
    "\n",
    "+：至少一个\n",
    "\n",
    "?：0 或 1 个\n",
    "\n",
    "{n}：n 个\n",
    "\n",
    "{n, m}；n-m个"
   ]
  },
  {
   "cell_type": "markdown",
   "id": "ed0f3e78-0cad-4692-9383-c1a25e1dd97e",
   "metadata": {},
   "source": [
    "[0-9a-zA-Z\\_]：匹配一个数字、字母或者下划线；\n",
    "\n",
    "[0-9a-zA-Z\\_]+：可以匹配至少由一个数字、字母或者下划线组成的字符串，比如'a100'，'0_Z'，'Py3000'等等；"
   ]
  },
  {
   "cell_type": "markdown",
   "id": "00863a25-f69d-4ad3-900c-19ac31d34b84",
   "metadata": {},
   "source": [
    "A|B 可以匹配 A 或 B，所以 (P|p)ython 可以匹配'Python'或者'python'。\n",
    "\n",
    "^ 表示行的开头，^\\d 表示必须以数字开头。\n",
    "\n",
    "$表示行的结束，\\d$表示必须以数字结束。"
   ]
  },
  {
   "cell_type": "markdown",
   "id": "37c40249-793e-4dbb-8208-d57028139c28",
   "metadata": {},
   "source": [
    "### Re 模块"
   ]
  },
  {
   "cell_type": "code",
   "execution_count": 1,
   "id": "0825b969-fc55-4cc6-8665-c55c67bfdd17",
   "metadata": {},
   "outputs": [
    {
     "data": {
      "text/plain": [
       "<re.Match object; span=(0, 9), match='010-12345'>"
      ]
     },
     "execution_count": 1,
     "metadata": {},
     "output_type": "execute_result"
    }
   ],
   "source": [
    "import re\n",
    "\n",
    "re.match(r'^\\d{3}\\-\\d{3,8}$', '010-12345')"
   ]
  },
  {
   "cell_type": "code",
   "execution_count": 2,
   "id": "a7e3bee0-ff13-4c3f-a0e4-d4e091e91622",
   "metadata": {},
   "outputs": [
    {
     "name": "stdout",
     "output_type": "stream",
     "text": [
      "failed\n"
     ]
    }
   ],
   "source": [
    "# 常用的方法：\n",
    "\n",
    "test = '用户输入的字符串'\n",
    "if re.match(r'正则表达式', test):\n",
    "    print('ok')\n",
    "else:\n",
    "    print('failed')"
   ]
  },
  {
   "cell_type": "markdown",
   "id": "5b08bd5f-1e5b-41db-bdff-8c3358e24fd8",
   "metadata": {},
   "source": [
    "### 切分字符串\n",
    "\n",
    "用正则表达式切分字符串比用固定的字符更加灵活"
   ]
  },
  {
   "cell_type": "code",
   "execution_count": 3,
   "id": "bb0041fa-8ba9-497a-9de4-b60e4a869cad",
   "metadata": {},
   "outputs": [
    {
     "data": {
      "text/plain": [
       "['a', 'b', '', '', 'c']"
      ]
     },
     "execution_count": 3,
     "metadata": {},
     "output_type": "execute_result"
    }
   ],
   "source": [
    "s = 'a b   c'\n",
    "\n",
    "s.split(' ')"
   ]
  },
  {
   "cell_type": "code",
   "execution_count": 7,
   "id": "f1b97fc2-4cac-4dbc-87dd-8e96e80f644b",
   "metadata": {},
   "outputs": [
    {
     "data": {
      "text/plain": [
       "['a', 'b', 'c']"
      ]
     },
     "execution_count": 7,
     "metadata": {},
     "output_type": "execute_result"
    }
   ],
   "source": [
    "re.split(r'\\s+', s)"
   ]
  },
  {
   "cell_type": "code",
   "execution_count": 8,
   "id": "2538b370-7429-42ac-b268-2fdaef25ee76",
   "metadata": {},
   "outputs": [
    {
     "data": {
      "text/plain": [
       "['a', 'b', 'c', 'd']"
      ]
     },
     "execution_count": 8,
     "metadata": {},
     "output_type": "execute_result"
    }
   ],
   "source": [
    "re.split(r'[\\,\\;\\s]+', 'a,b;; c  d')"
   ]
  },
  {
   "cell_type": "markdown",
   "id": "f1704d32-dbad-48e2-865c-c1aa6bb5beba",
   "metadata": {},
   "source": [
    "### 分组\n",
    "\n",
    "正则表达式还有**提取子串**的强大功能。用 () 表示的就是要提取的分组（Group）。\n",
    "\n",
    "可以在Match对象上用group()方法提取出子串来。\n",
    "\n",
    "group(0) 永远是与整个正则表达式相匹配的字符串，group(1)、group(2)……表示第1、2、……个子串"
   ]
  },
  {
   "cell_type": "code",
   "execution_count": 9,
   "id": "bc31cf05-9e1f-488e-8d0c-7765cc3e849a",
   "metadata": {},
   "outputs": [
    {
     "data": {
      "text/plain": [
       "'010-12345'"
      ]
     },
     "execution_count": 9,
     "metadata": {},
     "output_type": "execute_result"
    }
   ],
   "source": [
    "m = re.match(r'^(\\d{3})-(\\d{3,8})$', '010-12345')\n",
    "\n",
    "m.group(0)"
   ]
  },
  {
   "cell_type": "code",
   "execution_count": 10,
   "id": "2b9c7f48-5253-4b08-ae43-1a1802be8e46",
   "metadata": {},
   "outputs": [
    {
     "data": {
      "text/plain": [
       "'010'"
      ]
     },
     "execution_count": 10,
     "metadata": {},
     "output_type": "execute_result"
    }
   ],
   "source": [
    "m.group(1)"
   ]
  },
  {
   "cell_type": "code",
   "execution_count": 11,
   "id": "01d79e9b-4fc1-4ff9-a203-23642575315e",
   "metadata": {},
   "outputs": [
    {
     "data": {
      "text/plain": [
       "'12345'"
      ]
     },
     "execution_count": 11,
     "metadata": {},
     "output_type": "execute_result"
    }
   ],
   "source": [
    "m.group(2)"
   ]
  },
  {
   "cell_type": "markdown",
   "id": "cb096201-4d7b-47e4-af43-0118f1e4c08e",
   "metadata": {},
   "source": [
    "### 贪婪匹配\n",
    "\n",
    "加个 ? 就可以让 \\d+ 采用非贪婪匹配：\\d+?"
   ]
  },
  {
   "cell_type": "markdown",
   "id": "957937b9-5a49-4341-a9db-a6181aa4e2c9",
   "metadata": {},
   "source": [
    "### 编译\n",
    "\n",
    "如果一个正则表达式要重复使用几千次，出于效率的考虑，我们可以预编译该正则表达式，接下来重复使用时就不需要编译这个步骤了，直接匹配："
   ]
  },
  {
   "cell_type": "code",
   "execution_count": 15,
   "id": "7871a77f-dc0c-4dd1-b908-0cdb1bbf2787",
   "metadata": {},
   "outputs": [],
   "source": [
    "import re\n",
    "\n",
    "re_telephone = re.compile(r'^(\\d{3})-(\\d{3,8})$')"
   ]
  },
  {
   "cell_type": "code",
   "execution_count": 17,
   "id": "844166ee-1710-4e00-9751-92fe98b934be",
   "metadata": {},
   "outputs": [
    {
     "data": {
      "text/plain": [
       "'010-12345'"
      ]
     },
     "execution_count": 17,
     "metadata": {},
     "output_type": "execute_result"
    }
   ],
   "source": [
    "re_telephone.match('010-12345').group()"
   ]
  },
  {
   "cell_type": "code",
   "execution_count": 18,
   "id": "0be4cb73-c80f-406b-b880-fc853dfddaa8",
   "metadata": {},
   "outputs": [
    {
     "data": {
      "text/plain": [
       "'055-16755'"
      ]
     },
     "execution_count": 18,
     "metadata": {},
     "output_type": "execute_result"
    }
   ],
   "source": [
    "re_telephone.match('055-16755').group()"
   ]
  },
  {
   "cell_type": "markdown",
   "id": "1346b523-b2e8-44f7-9f0e-91d14abeb6d7",
   "metadata": {},
   "source": [
    "正则表达式非常强大，要在短短的一节里讲完是不可能的。要讲清楚正则的所有内容，可以写一本厚厚的书了。如果你经常遇到正则表达式的问题，你可能需要一本正则表达式的参考书。"
   ]
  },
  {
   "cell_type": "code",
   "execution_count": 20,
   "id": "591686e9-e514-4a74-a6e6-2f474da85421",
   "metadata": {},
   "outputs": [],
   "source": [
    "import re\n",
    "\n",
    "def is_valid_email(addr):\n",
    "    re_email = re.compile(r'([\\w\\.])+@(\\w)+\\.com$')\n",
    "    if re_email.match(addr):\n",
    "        return True\n",
    "    return False"
   ]
  },
  {
   "cell_type": "code",
   "execution_count": 146,
   "id": "b3ea06d2-e918-4e39-8901-fd4f31c3b8fd",
   "metadata": {},
   "outputs": [],
   "source": [
    "def name_of_email(addr):\n",
    "    name_check = re.compile(r'<?(\\w+\\s?\\w+)>?')\n",
    "    return name_check.match(addr).group(1)"
   ]
  },
  {
   "cell_type": "code",
   "execution_count": 145,
   "id": "96768f32-7040-49c5-bd76-e02d86c64320",
   "metadata": {},
   "outputs": [
    {
     "data": {
      "text/plain": [
       "'tom'"
      ]
     },
     "execution_count": 145,
     "metadata": {},
     "output_type": "execute_result"
    }
   ],
   "source": [
    "addr = 'tom@voyager.org'\n",
    "\n",
    "re.compile(r'<?(\\w+\\s?\\w+)>?').match(addr).group(1)"
   ]
  },
  {
   "cell_type": "markdown",
   "id": "f4250ca6-e80e-4117-807d-8b8c91c8216d",
   "metadata": {},
   "source": [
    "## 十二、常用内建模块"
   ]
  },
  {
   "cell_type": "markdown",
   "id": "37cca800-70be-4f76-b56a-54a6f92acd85",
   "metadata": {},
   "source": [
    "### datetime"
   ]
  },
  {
   "cell_type": "markdown",
   "id": "41b65609-ec47-4f58-8942-a3882d33193b",
   "metadata": {},
   "source": [
    "### urllib\n",
    "\n",
    "参考学习：https://blog.csdn.net/weixin_42157432/article/details/104441027\n",
    "\n",
    "urllib 提供的功能就是利用程序去执行各种 HTTP 请求。\n",
    "\n",
    "如果要模拟浏览器完成特定功能，需要把请求伪装成浏览器。\n",
    "\n",
    "伪装的方法是先监控浏览器发出的请求，再根据浏览器的请求头来伪装，User-Agent 头就是用来标识浏览器的。"
   ]
  },
  {
   "cell_type": "markdown",
   "id": "1ad6718e-a32e-4a01-84d7-8e230184e802",
   "metadata": {},
   "source": [
    "#### Get"
   ]
  },
  {
   "cell_type": "markdown",
   "id": "1e24f874-922b-46fe-be46-4703b76d08e4",
   "metadata": {},
   "source": [
    "urllib 的 request 模块可以非常方便地抓取 URL 内容，也就是发送一个 GET请求到指定的页面，然后返回 HTTP 的响应："
   ]
  },
  {
   "cell_type": "code",
   "execution_count": 158,
   "id": "ce95d823-d0c5-4e65-90e2-602a7a28c7af",
   "metadata": {},
   "outputs": [
    {
     "ename": "HTTPError",
     "evalue": "HTTP Error 418: ",
     "output_type": "error",
     "traceback": [
      "\u001b[1;31m---------------------------------------------------------------------------\u001b[0m",
      "\u001b[1;31mHTTPError\u001b[0m                                 Traceback (most recent call last)",
      "\u001b[1;32m~\\AppData\\Local\\Temp/ipykernel_22460/2147924744.py\u001b[0m in \u001b[0;36m<module>\u001b[1;34m\u001b[0m\n\u001b[0;32m      1\u001b[0m \u001b[1;32mfrom\u001b[0m \u001b[0murllib\u001b[0m \u001b[1;32mimport\u001b[0m \u001b[0mrequest\u001b[0m\u001b[1;33m\u001b[0m\u001b[1;33m\u001b[0m\u001b[0m\n\u001b[0;32m      2\u001b[0m \u001b[1;33m\u001b[0m\u001b[0m\n\u001b[1;32m----> 3\u001b[1;33m \u001b[1;32mwith\u001b[0m \u001b[0mrequest\u001b[0m\u001b[1;33m.\u001b[0m\u001b[0murlopen\u001b[0m\u001b[1;33m(\u001b[0m\u001b[1;34m'http://www.douban.com/'\u001b[0m\u001b[1;33m)\u001b[0m \u001b[1;32mas\u001b[0m \u001b[0mf\u001b[0m\u001b[1;33m:\u001b[0m\u001b[1;33m\u001b[0m\u001b[1;33m\u001b[0m\u001b[0m\n\u001b[0m\u001b[0;32m      4\u001b[0m     \u001b[0mdata\u001b[0m \u001b[1;33m=\u001b[0m \u001b[0mf\u001b[0m\u001b[1;33m.\u001b[0m\u001b[0mread\u001b[0m\u001b[1;33m(\u001b[0m\u001b[1;33m)\u001b[0m\u001b[1;33m\u001b[0m\u001b[1;33m\u001b[0m\u001b[0m\n\u001b[0;32m      5\u001b[0m     \u001b[0mprint\u001b[0m\u001b[1;33m(\u001b[0m\u001b[1;34m'Status:'\u001b[0m\u001b[1;33m,\u001b[0m \u001b[0mf\u001b[0m\u001b[1;33m.\u001b[0m\u001b[0mstatus\u001b[0m\u001b[1;33m,\u001b[0m \u001b[0mf\u001b[0m\u001b[1;33m.\u001b[0m\u001b[0mreason\u001b[0m\u001b[1;33m)\u001b[0m\u001b[1;33m\u001b[0m\u001b[1;33m\u001b[0m\u001b[0m\n",
      "\u001b[1;32m~\\anaconda3\\envs\\jupyterlab\\lib\\urllib\\request.py\u001b[0m in \u001b[0;36murlopen\u001b[1;34m(url, data, timeout, cafile, capath, cadefault, context)\u001b[0m\n\u001b[0;32m    212\u001b[0m     \u001b[1;32melse\u001b[0m\u001b[1;33m:\u001b[0m\u001b[1;33m\u001b[0m\u001b[1;33m\u001b[0m\u001b[0m\n\u001b[0;32m    213\u001b[0m         \u001b[0mopener\u001b[0m \u001b[1;33m=\u001b[0m \u001b[0m_opener\u001b[0m\u001b[1;33m\u001b[0m\u001b[1;33m\u001b[0m\u001b[0m\n\u001b[1;32m--> 214\u001b[1;33m     \u001b[1;32mreturn\u001b[0m \u001b[0mopener\u001b[0m\u001b[1;33m.\u001b[0m\u001b[0mopen\u001b[0m\u001b[1;33m(\u001b[0m\u001b[0murl\u001b[0m\u001b[1;33m,\u001b[0m \u001b[0mdata\u001b[0m\u001b[1;33m,\u001b[0m \u001b[0mtimeout\u001b[0m\u001b[1;33m)\u001b[0m\u001b[1;33m\u001b[0m\u001b[1;33m\u001b[0m\u001b[0m\n\u001b[0m\u001b[0;32m    215\u001b[0m \u001b[1;33m\u001b[0m\u001b[0m\n\u001b[0;32m    216\u001b[0m \u001b[1;32mdef\u001b[0m \u001b[0minstall_opener\u001b[0m\u001b[1;33m(\u001b[0m\u001b[0mopener\u001b[0m\u001b[1;33m)\u001b[0m\u001b[1;33m:\u001b[0m\u001b[1;33m\u001b[0m\u001b[1;33m\u001b[0m\u001b[0m\n",
      "\u001b[1;32m~\\anaconda3\\envs\\jupyterlab\\lib\\urllib\\request.py\u001b[0m in \u001b[0;36mopen\u001b[1;34m(self, fullurl, data, timeout)\u001b[0m\n\u001b[0;32m    521\u001b[0m         \u001b[1;32mfor\u001b[0m \u001b[0mprocessor\u001b[0m \u001b[1;32min\u001b[0m \u001b[0mself\u001b[0m\u001b[1;33m.\u001b[0m\u001b[0mprocess_response\u001b[0m\u001b[1;33m.\u001b[0m\u001b[0mget\u001b[0m\u001b[1;33m(\u001b[0m\u001b[0mprotocol\u001b[0m\u001b[1;33m,\u001b[0m \u001b[1;33m[\u001b[0m\u001b[1;33m]\u001b[0m\u001b[1;33m)\u001b[0m\u001b[1;33m:\u001b[0m\u001b[1;33m\u001b[0m\u001b[1;33m\u001b[0m\u001b[0m\n\u001b[0;32m    522\u001b[0m             \u001b[0mmeth\u001b[0m \u001b[1;33m=\u001b[0m \u001b[0mgetattr\u001b[0m\u001b[1;33m(\u001b[0m\u001b[0mprocessor\u001b[0m\u001b[1;33m,\u001b[0m \u001b[0mmeth_name\u001b[0m\u001b[1;33m)\u001b[0m\u001b[1;33m\u001b[0m\u001b[1;33m\u001b[0m\u001b[0m\n\u001b[1;32m--> 523\u001b[1;33m             \u001b[0mresponse\u001b[0m \u001b[1;33m=\u001b[0m \u001b[0mmeth\u001b[0m\u001b[1;33m(\u001b[0m\u001b[0mreq\u001b[0m\u001b[1;33m,\u001b[0m \u001b[0mresponse\u001b[0m\u001b[1;33m)\u001b[0m\u001b[1;33m\u001b[0m\u001b[1;33m\u001b[0m\u001b[0m\n\u001b[0m\u001b[0;32m    524\u001b[0m \u001b[1;33m\u001b[0m\u001b[0m\n\u001b[0;32m    525\u001b[0m         \u001b[1;32mreturn\u001b[0m \u001b[0mresponse\u001b[0m\u001b[1;33m\u001b[0m\u001b[1;33m\u001b[0m\u001b[0m\n",
      "\u001b[1;32m~\\anaconda3\\envs\\jupyterlab\\lib\\urllib\\request.py\u001b[0m in \u001b[0;36mhttp_response\u001b[1;34m(self, request, response)\u001b[0m\n\u001b[0;32m    630\u001b[0m         \u001b[1;31m# request was successfully received, understood, and accepted.\u001b[0m\u001b[1;33m\u001b[0m\u001b[1;33m\u001b[0m\u001b[0m\n\u001b[0;32m    631\u001b[0m         \u001b[1;32mif\u001b[0m \u001b[1;32mnot\u001b[0m \u001b[1;33m(\u001b[0m\u001b[1;36m200\u001b[0m \u001b[1;33m<=\u001b[0m \u001b[0mcode\u001b[0m \u001b[1;33m<\u001b[0m \u001b[1;36m300\u001b[0m\u001b[1;33m)\u001b[0m\u001b[1;33m:\u001b[0m\u001b[1;33m\u001b[0m\u001b[1;33m\u001b[0m\u001b[0m\n\u001b[1;32m--> 632\u001b[1;33m             response = self.parent.error(\n\u001b[0m\u001b[0;32m    633\u001b[0m                 'http', request, response, code, msg, hdrs)\n\u001b[0;32m    634\u001b[0m \u001b[1;33m\u001b[0m\u001b[0m\n",
      "\u001b[1;32m~\\anaconda3\\envs\\jupyterlab\\lib\\urllib\\request.py\u001b[0m in \u001b[0;36merror\u001b[1;34m(self, proto, *args)\u001b[0m\n\u001b[0;32m    559\u001b[0m         \u001b[1;32mif\u001b[0m \u001b[0mhttp_err\u001b[0m\u001b[1;33m:\u001b[0m\u001b[1;33m\u001b[0m\u001b[1;33m\u001b[0m\u001b[0m\n\u001b[0;32m    560\u001b[0m             \u001b[0margs\u001b[0m \u001b[1;33m=\u001b[0m \u001b[1;33m(\u001b[0m\u001b[0mdict\u001b[0m\u001b[1;33m,\u001b[0m \u001b[1;34m'default'\u001b[0m\u001b[1;33m,\u001b[0m \u001b[1;34m'http_error_default'\u001b[0m\u001b[1;33m)\u001b[0m \u001b[1;33m+\u001b[0m \u001b[0morig_args\u001b[0m\u001b[1;33m\u001b[0m\u001b[1;33m\u001b[0m\u001b[0m\n\u001b[1;32m--> 561\u001b[1;33m             \u001b[1;32mreturn\u001b[0m \u001b[0mself\u001b[0m\u001b[1;33m.\u001b[0m\u001b[0m_call_chain\u001b[0m\u001b[1;33m(\u001b[0m\u001b[1;33m*\u001b[0m\u001b[0margs\u001b[0m\u001b[1;33m)\u001b[0m\u001b[1;33m\u001b[0m\u001b[1;33m\u001b[0m\u001b[0m\n\u001b[0m\u001b[0;32m    562\u001b[0m \u001b[1;33m\u001b[0m\u001b[0m\n\u001b[0;32m    563\u001b[0m \u001b[1;31m# XXX probably also want an abstract factory that knows when it makes\u001b[0m\u001b[1;33m\u001b[0m\u001b[1;33m\u001b[0m\u001b[0m\n",
      "\u001b[1;32m~\\anaconda3\\envs\\jupyterlab\\lib\\urllib\\request.py\u001b[0m in \u001b[0;36m_call_chain\u001b[1;34m(self, chain, kind, meth_name, *args)\u001b[0m\n\u001b[0;32m    492\u001b[0m         \u001b[1;32mfor\u001b[0m \u001b[0mhandler\u001b[0m \u001b[1;32min\u001b[0m \u001b[0mhandlers\u001b[0m\u001b[1;33m:\u001b[0m\u001b[1;33m\u001b[0m\u001b[1;33m\u001b[0m\u001b[0m\n\u001b[0;32m    493\u001b[0m             \u001b[0mfunc\u001b[0m \u001b[1;33m=\u001b[0m \u001b[0mgetattr\u001b[0m\u001b[1;33m(\u001b[0m\u001b[0mhandler\u001b[0m\u001b[1;33m,\u001b[0m \u001b[0mmeth_name\u001b[0m\u001b[1;33m)\u001b[0m\u001b[1;33m\u001b[0m\u001b[1;33m\u001b[0m\u001b[0m\n\u001b[1;32m--> 494\u001b[1;33m             \u001b[0mresult\u001b[0m \u001b[1;33m=\u001b[0m \u001b[0mfunc\u001b[0m\u001b[1;33m(\u001b[0m\u001b[1;33m*\u001b[0m\u001b[0margs\u001b[0m\u001b[1;33m)\u001b[0m\u001b[1;33m\u001b[0m\u001b[1;33m\u001b[0m\u001b[0m\n\u001b[0m\u001b[0;32m    495\u001b[0m             \u001b[1;32mif\u001b[0m \u001b[0mresult\u001b[0m \u001b[1;32mis\u001b[0m \u001b[1;32mnot\u001b[0m \u001b[1;32mNone\u001b[0m\u001b[1;33m:\u001b[0m\u001b[1;33m\u001b[0m\u001b[1;33m\u001b[0m\u001b[0m\n\u001b[0;32m    496\u001b[0m                 \u001b[1;32mreturn\u001b[0m \u001b[0mresult\u001b[0m\u001b[1;33m\u001b[0m\u001b[1;33m\u001b[0m\u001b[0m\n",
      "\u001b[1;32m~\\anaconda3\\envs\\jupyterlab\\lib\\urllib\\request.py\u001b[0m in \u001b[0;36mhttp_error_default\u001b[1;34m(self, req, fp, code, msg, hdrs)\u001b[0m\n\u001b[0;32m    639\u001b[0m \u001b[1;32mclass\u001b[0m \u001b[0mHTTPDefaultErrorHandler\u001b[0m\u001b[1;33m(\u001b[0m\u001b[0mBaseHandler\u001b[0m\u001b[1;33m)\u001b[0m\u001b[1;33m:\u001b[0m\u001b[1;33m\u001b[0m\u001b[1;33m\u001b[0m\u001b[0m\n\u001b[0;32m    640\u001b[0m     \u001b[1;32mdef\u001b[0m \u001b[0mhttp_error_default\u001b[0m\u001b[1;33m(\u001b[0m\u001b[0mself\u001b[0m\u001b[1;33m,\u001b[0m \u001b[0mreq\u001b[0m\u001b[1;33m,\u001b[0m \u001b[0mfp\u001b[0m\u001b[1;33m,\u001b[0m \u001b[0mcode\u001b[0m\u001b[1;33m,\u001b[0m \u001b[0mmsg\u001b[0m\u001b[1;33m,\u001b[0m \u001b[0mhdrs\u001b[0m\u001b[1;33m)\u001b[0m\u001b[1;33m:\u001b[0m\u001b[1;33m\u001b[0m\u001b[1;33m\u001b[0m\u001b[0m\n\u001b[1;32m--> 641\u001b[1;33m         \u001b[1;32mraise\u001b[0m \u001b[0mHTTPError\u001b[0m\u001b[1;33m(\u001b[0m\u001b[0mreq\u001b[0m\u001b[1;33m.\u001b[0m\u001b[0mfull_url\u001b[0m\u001b[1;33m,\u001b[0m \u001b[0mcode\u001b[0m\u001b[1;33m,\u001b[0m \u001b[0mmsg\u001b[0m\u001b[1;33m,\u001b[0m \u001b[0mhdrs\u001b[0m\u001b[1;33m,\u001b[0m \u001b[0mfp\u001b[0m\u001b[1;33m)\u001b[0m\u001b[1;33m\u001b[0m\u001b[1;33m\u001b[0m\u001b[0m\n\u001b[0m\u001b[0;32m    642\u001b[0m \u001b[1;33m\u001b[0m\u001b[0m\n\u001b[0;32m    643\u001b[0m \u001b[1;32mclass\u001b[0m \u001b[0mHTTPRedirectHandler\u001b[0m\u001b[1;33m(\u001b[0m\u001b[0mBaseHandler\u001b[0m\u001b[1;33m)\u001b[0m\u001b[1;33m:\u001b[0m\u001b[1;33m\u001b[0m\u001b[1;33m\u001b[0m\u001b[0m\n",
      "\u001b[1;31mHTTPError\u001b[0m: HTTP Error 418: "
     ]
    }
   ],
   "source": [
    "from urllib import request\n",
    "\n",
    "with request.urlopen('http://www.douban.com/') as f:\n",
    "    data = f.read()\n",
    "    print('Status:', f.status, f.reason)\n",
    "    for k, v in f.getheaders():\n",
    "        print('%s, %s' % (k, v))\n",
    "    print('Data:', data.decode('utf-8'))"
   ]
  },
  {
   "cell_type": "markdown",
   "id": "0f294383-366c-4253-b3d6-8b149706975b",
   "metadata": {},
   "source": [
    "如果我们要想模拟浏览器发送 GET 请求，就需要使用 Request 对象，\n",
    "\n",
    "通过往 Request 对象添加 HTTP 头，我们就可以把请求伪装成浏览器。\n",
    "\n",
    "例如，模拟 iPhone 6 去请求豆瓣首页："
   ]
  },
  {
   "cell_type": "code",
   "execution_count": 159,
   "id": "93b25f8f-7471-4279-acef-c8e460aea6c7",
   "metadata": {},
   "outputs": [
    {
     "name": "stdout",
     "output_type": "stream",
     "text": [
      "Status: 200 OK\n",
      "Date：Mon, 17 Jan 2022 21:27:35 GMT\n",
      "Content-Type：text/html; charset=utf-8\n",
      "Transfer-Encoding：chunked\n",
      "Connection：close\n",
      "X-Xss-Protection：1; mode=block\n",
      "X-Douban-Mobileapp：0\n",
      "Expires：Sun, 1 Jan 2006 01:00:00 GMT\n",
      "Pragma：no-cache\n",
      "Cache-Control：must-revalidate, no-cache, private\n",
      "X-DAE-App：talion\n",
      "X-DAE-Instance：default\n",
      "Set-Cookie：bid=sqX0olV65n0; Expires=Tue, 17-Jan-23 21:27:35 GMT; Domain=.douban.com; Path=/\n",
      "X-DOUBAN-NEWBID：sqX0olV65n0\n",
      "Server：dae\n",
      "Strict-Transport-Security：max-age=15552000\n",
      "X-Content-Type-Options：nosniff\n",
      "X-Frame-Options：SAMEORIGIN\n",
      "Data: \n",
      "\n",
      "<!DOCTYPE html>\n",
      "<html itemscope itemtype=\"http://schema.org/WebPage\" class=\"ua-safari ua-mobile \">\n",
      "  <head>\n",
      "      <meta charset=\"UTF-8\">\n",
      "      <title>豆瓣(手机版)</title>\n",
      "      <meta name=\"google-site-verification\" content=\"ok0wCgT20tBBgo9_zat2iAcimtN4Ftf5ccsh092Xeyw\" />\n",
      "      <meta name=\"viewport\" content=\"width=device-width, height=device-height, user-scalable=no, initial-scale=1.0, minimum-scale=1.0, maximum-scale=1.0\">\n",
      "      <meta name=\"format-detection\" content=\"telephone=no\">\n",
      "      <meta name=\"description\" content=\"读书、看电影、涨知识、学穿搭...，加入兴趣小组，获得达人们的高质量生活经验，找到有相同爱好的小伙伴。\">\n",
      "      <meta name=\"keywords\" content=\"豆瓣,手机豆瓣,豆瓣手机版,豆瓣电影,豆瓣读书,豆瓣同城\">\n",
      "      <link rel=\"canonical\" href=\"\n",
      "https://m.douban.com/\">\n",
      "      <link href=\"https://img3.doubanio.com/f/talion/4eddaaed2bec5a0baa663274d47d136c54a2c03c/css/card/base.css\" rel=\"stylesheet\">\n",
      "      \n",
      "<script>\n",
      "  var saveKey = '_t_splash'\n",
      "  var day = 3\n",
      "  if (Date.now() - window.localStorage.getItem(saveKey) < 1000 * 60 * 60 * 24 * day) {\n",
      "    window.location.replace('/home_guide')\n",
      "  } else {\n",
      "    window.addEventListener('click', function(e) {\n",
      "      if (e.target.id === 'home_guide') {\n",
      "        window.localStorage.setItem(saveKey, Date.now())\n",
      "      }\n",
      "    })\n",
      "  }\n",
      "</script>\n",
      "\n",
      "      <link rel=\"stylesheet\" href=\"https://img3.doubanio.com/misc/mixed_static/4f3062503e5a7c84.css\">\n",
      "      <link rel=\"shortcut  icon\" href=\"https://img3.doubanio.com/f/talion/2f3c0bc0f35b031d4535fd993ae3936f4e40e6c8/pics/icon/dou32.png\" type=\"image/x-icon\" />\n",
      "      <link rel=\"icon\" type=\"image/png\" sizes=\"16x16\" href=\"https://img3.doubanio.com/f/talion/c970bb0d720963a7392f7dd6c77068bb9925caaf/pics/icon/dou16.png\">\n",
      "      <link rel=\"icon\" type=\"image/png\" sizes=\"32x32\" href=\"https://img3.doubanio.com/f/talion/2f3c0bc0f35b031d4535fd993ae3936f4e40e6c8/pics/icon/dou32.png\">\n",
      "      <link rel=\"icon\" type=\"image/png\" sizes=\"48x48\" href=\"https://img3.doubanio.com/f/talion/10a4a913a5715f628e4b598f7f9f2c18621bdcb3/pics/icon/dou48.png\">\n",
      "      <!-- iOS touch icon -->\n",
      "      <link rel=\"apple-touch-icon-precomposed\" href=\"https://img3.doubanio.com/f/talion/997f2018d82979da970030a5eb84c77f0123ae5f/pics/icon/m_logo_76.png\">\n",
      "      <link rel=\"apple-touch-icon-precomposed\" sizes=\"76x76\" href=\"https://img3.doubanio.com/f/talion/997f2018d82979da970030a5eb84c77f0123ae5f/pics/icon/m_logo_76.png\">\n",
      "      <link rel=\"apple-touch-icon-precomposed\" sizes=\"120x120\" href=\"https://img3.doubanio.com/f/talion/18932a3e71a60ed7150ca2ca7ebf21ddadd7092e/pics/icon/m_logo_120.png\">\n",
      "      <link rel=\"apple-touch-icon-precomposed\" sizes=\"152x152\" href=\"https://img3.doubanio.com/f/talion/b99497ff8538c54b9ba6f40867da932396ab2562/pics/icon/m_logo_152.png\">\n",
      "      <link rel=\"apple-touch-icon-precomposed\" sizes=\"167x167\" href=\"https://img3.doubanio.com/f/talion/0c233ada957a95e632f81607e30230d16e8293e8/pics/icon/m_logo_167.png\">\n",
      "      <link rel=\"apple-touch-icon-precomposed\" sizes=\"180x180\" href=\"https://img3.doubanio.com/f/talion/8e7b9cbd097c02972c4191aa03fdb084524505c4/pics/icon/m_logo_180.png\">\n",
      "      <link rel=\"apple-touch-icon-precomposed\" sizes=\"200x200\" href=\"https://img3.doubanio.com/f/talion/7c6364aadf368dc0210173c940cfd0f64ceddc66/pics/icon/m_logo_200.png\">\n",
      "      <!-- For Android -->\n",
      "      <link rel=\"icon\" sizes=\"128x128\" href=\"https://img3.doubanio.com/f/talion/b99497ff8538c54b9ba6f40867da932396ab2562/pics/icon/m_logo_152.png\">\n",
      "      <link rel=\"icon\" sizes=\"192x192\" href=\"https://img3.doubanio.com/f/talion/7c6364aadf368dc0210173c940cfd0f64ceddc66/pics/icon/m_logo_200.png\">\n",
      "      <!-- For Web App Manifest -->\n",
      "      <link type=\"application/opensearchdescription+xml\" rel=\"search\" href=\"/opensearch\"/>\n",
      "          <!-- hm baidu -->\n",
      "          <script type=\"text/javascript\">\n",
      "          var _hmt = _hmt || [];\n",
      "          (function() {\n",
      "            var hm = document.createElement(\"script\");\n",
      "            hm.src = \"https://hm.baidu.com/hm.js?6d4a8cfea88fa457c3127e14fb5fabc2\";\n",
      "            var s = document.getElementsByTagName(\"script\")[0];\n",
      "            s.parentNode.insertBefore(hm, s);\n",
      "          })();\n",
      "          _hmt.logTruncate = function(type) {\n",
      "              _hmt.push(['_trackEvent', 'article', 'truncate', type, 1]);\n",
      "          }\n",
      "          </script>\n",
      "  </head>\n",
      "  <body ontouchstart=\"\">\n",
      "    \n",
      "    <div class=\"page\">\n",
      "        \n",
      "  \n",
      "  \n",
      "  <div class=\"splash\">\n",
      "    <div class=\"splash-content\">\n",
      "      <div class=\"splash-pic\">\n",
      "        <img src=\"https://img3.doubanio.com/f/talion/706ae8511b66f390ae0427daf85df7ddd93ab1b9/pics/card/splash/splash_bg.jpg\" />\n",
      "      </div>\n",
      "    </div>\n",
      "    <div class=\"splash-bottom\">\n",
      "      <div class=\"splash-text\">\n",
      "        <p class=\"splash-text-main\">来豆瓣，记录你的书影音生活</p>\n",
      "        <!-- <p>更多书影音讨论在豆瓣App</p> -->\n",
      "      </div>\n",
      "      <a class=\"splash-btn\" href=\"https://m.douban.com/to_app?copy_open=1&url=/recommend_feed&source=splash\">下载App</a>\n",
      "      <a class=\"splash-link\" id=\"home_guide\" href=\"/home_guide\">进入网页版 &gt;</a>\n",
      "    </div>\n",
      "  </div>\n",
      "\n",
      "    </div>\n",
      "    <script src=\"https://img3.doubanio.com/f/talion/ee8e0c54293aefb5709ececbdf082f8091ad5e49/js/card/zepto.min.js\"></script>\n",
      "    \n",
      "  </body>\n",
      "</html>\n",
      "\n",
      "\n",
      "\n",
      "\n",
      "\n",
      "\n",
      "\n",
      "\n"
     ]
    }
   ],
   "source": [
    "from urllib import request\n",
    "\n",
    "req = request.Request('http://www.douban.com/')\n",
    "req.add_header('User-Agent', 'Mozilla/6.0 (iPhone; CPU iPhone OS 8_0 like Mac OS X) AppleWebKit/536.26 (KHTML, like Gecko) Version/8.0 Mobile/10A5376e Safari/8536.25')\n",
    "with request.urlopen(req) as f:\n",
    "    print('Status:', f.status, f.reason)\n",
    "    for k, v in f.getheaders():\n",
    "        print('%s：%s' % (k, v))\n",
    "    print('Data:', f.read().decode('utf-8'))"
   ]
  },
  {
   "cell_type": "markdown",
   "id": "820e9563-f655-4139-bb42-307ee70b0883",
   "metadata": {},
   "source": [
    "#### Post"
   ]
  },
  {
   "cell_type": "code",
   "execution_count": 160,
   "id": "7d697a15-7458-40fe-8ecc-0c67a7cee739",
   "metadata": {},
   "outputs": [
    {
     "name": "stdout",
     "output_type": "stream",
     "text": [
      "Login to weibo.cn...\n"
     ]
    },
    {
     "name": "stdin",
     "output_type": "stream",
     "text": [
      "Email:  fgsdf\n",
      "Password:  gsd\n"
     ]
    },
    {
     "name": "stdout",
     "output_type": "stream",
     "text": [
      "Status: 200 OK\n",
      "Server: WeiBo/LB\n",
      "Date: Mon, 17 Jan 2022 21:55:18 GMT\n",
      "Content-Type: text/html\n",
      "Transfer-Encoding: chunked\n",
      "Connection: close\n",
      "Vary: Accept-Encoding\n",
      "Cache-Control: no-cache, must-revalidate\n",
      "Expires: Sat, 26 Jul 1997 05:00:00 GMT\n",
      "Pragma: no-cache\n",
      "Access-Control-Allow-Origin: https://passport.weibo.cn\n",
      "Access-Control-Allow-Credentials: true\n",
      "DPOOL_HEADER: yf-10-85-144-202\n",
      "Data: {\"retcode\":50011002,\"msg\":\"\\u7528\\u6237\\u540d\\u6216\\u5bc6\\u7801\\u9519\\u8bef\",\"data\":{\"username\":\"fgsdf\",\"errline\":15}}\n"
     ]
    }
   ],
   "source": [
    "from urllib import request, parse\n",
    "\n",
    "print('Login to weibo.cn...')\n",
    "email = input('Email: ')\n",
    "passwd = input('Password: ')\n",
    "login_data = parse.urlencode([\n",
    "    ('username', email),\n",
    "    ('password', passwd),\n",
    "    ('entry', 'mweibo'),\n",
    "    ('client_id', ''),\n",
    "    ('savestate', '1'),\n",
    "    ('ec', ''),\n",
    "    ('pagerefer', 'https://passport.weibo.cn/signin/welcome?entry=mweibo&r=http%3A%2F%2Fm.weibo.cn%2F')\n",
    "])\n",
    "\n",
    "req = request.Request('https://passport.weibo.cn/sso/login')\n",
    "req.add_header('Origin', 'https://passport.weibo.cn')\n",
    "req.add_header('User-Agent', 'Mozilla/6.0 (iPhone; CPU iPhone OS 8_0 like Mac OS X) AppleWebKit/536.26 (KHTML, like Gecko) Version/8.0 Mobile/10A5376e Safari/8536.25')\n",
    "req.add_header('Referer', 'https://passport.weibo.cn/signin/login?entry=mweibo&res=wel&wm=3349&r=http%3A%2F%2Fm.weibo.cn%2F')\n",
    "\n",
    "with request.urlopen(req, data=login_data.encode('utf-8')) as f:\n",
    "    print('Status:', f.status, f.reason)\n",
    "    for k, v in f.getheaders():\n",
    "        print('%s: %s' % (k, v))\n",
    "    print('Data:', f.read().decode('utf-8'))"
   ]
  },
  {
   "cell_type": "code",
   "execution_count": 165,
   "id": "d333e138-d315-4f32-9b73-4c228ec16de0",
   "metadata": {},
   "outputs": [
    {
     "data": {
      "text/plain": [
       "<Signature (url, data=None, timeout=<object object at 0x0000029A4CBD8610>, *, cafile=None, capath=None, cadefault=False, context=None)>"
      ]
     },
     "execution_count": 165,
     "metadata": {},
     "output_type": "execute_result"
    }
   ],
   "source": [
    "from inspect import signature\n",
    "signature(request.urlopen)"
   ]
  },
  {
   "cell_type": "code",
   "execution_count": 166,
   "id": "76094fca-faef-4b63-92e1-8091d79552b3",
   "metadata": {},
   "outputs": [],
   "source": [
    "from urllib import request\n",
    "url='https://www.douban.com/search?q=' \n",
    "key=request.quote('罪恶都市')\t\t\t\t\t#由于字段含有中文，需要编码\n",
    "url_all=url+key\n",
    "header={'User-Agent':'Mozilla/5.0 (Windows NT 10.0; WOW64) AppleWebKit/537.36 (KHTML, like Gecko) Chrome/76.0.3809.87 Safari/537.36'}\n",
    "req=request.Request(url_all,headers=header)\n",
    "with request.urlopen(req) as f:\t\t\t\t#爬去网页\n",
    "\tdata=f.read()\n",
    "\n",
    "with open('./dbsearch.html','wb') as fw:#写入文件\n",
    "\tfw.write(data)"
   ]
  },
  {
   "cell_type": "markdown",
   "id": "e2ce4c41-b0d8-40e4-9fec-aa5ec9bb3239",
   "metadata": {},
   "source": [
    "### XML"
   ]
  },
  {
   "cell_type": "markdown",
   "id": "7a88231e-57db-47a2-ab04-784a62d8c904",
   "metadata": {},
   "source": [
    "SAX 是流模式，边读边解析，占用内存小，解析快，缺点是我们需要自己处理事件。\n",
    "\n",
    "在 Python 中使用 SAX 解析 XML 非常简洁，通常我们关心的事件是start_element，end_element和char_data，准备好这3个函数，然后就可以解析 xml 了。\n",
    "\n",
    "利用 SAX 解析 XM L文档牵涉到两个部分: 解析器和事件处理器\n",
    "\n",
    "解析器：负责读取 XML 文档，并向事件处理器发送事件，如元素开始跟元素结束事件；\n",
    "\n",
    "事件处理器：则负责对事件作出响应，对传递的 XML 数据进行处理。"
   ]
  },
  {
   "cell_type": "code",
   "execution_count": null,
   "id": "c0b8f043-79ad-43a6-a37a-e54bedfad30b",
   "metadata": {},
   "outputs": [],
   "source": [
    "from xml.parsers.expat import ParserCreate\n",
    "\n",
    "\n",
    "class DefualtSaxHandler(object):\n",
    "    def start_element(self, name, attrs):\n",
    "        print('sax:start_elment: %s, attrs: %s' % (name, str(attrs)))\n",
    "        # name表示节点名称，attrs表示节点属性（字典）\n",
    "        \n",
    "    def end_element(self, name):\n",
    "        print('sax:end_element: %s' % name)\n",
    "        \n",
    "    def char_data(self, text):\n",
    "        print('sax:char_data: %s' % text)\n",
    "        # text表示节点数据\n",
    "        \n",
    "xml=r'''<?xml version=\"1.0\"?>\n",
    "<ol>\n",
    "    <li><a href=\"/python\">Python</a></li>\n",
    "    <li><a href=\"/ruby\">Ruby</a></li>\n",
    "</ol>\n",
    "'''\n",
    "\n",
    "# 处理器实例\n",
    "handler = DefualtSaxHandler()\n",
    "# 解析器实例\n",
    "parser = ParserCreate()\n",
    "\n",
    "# 下面3行为解析器设置自定义的回调函数\n",
    "# 回调函数的概念，请搜索知乎，见1.9K赞的答案\n",
    "parser.StartElementHandler = handler.start_element\n",
    "parser.EndElementHandler = handler.end_element\n",
    "parser.CharacterDataHandler = handler.char_data\n",
    "\n",
    "# 开始解析XML\n",
    "parser.Parse(xml)\n",
    "\n",
    "# 然后就是等待 expat 解析，\n",
    "# 一旦 expat 解析器遇到 xml 的 元素开始，元素结束，元素值 事件时\n",
    "# 会回分别调用 start_element, end_element, char_data 函数\n",
    "\n",
    "# 关于 XMLParser Objects 的方法介绍下\n",
    "# 详见 python 文档：xml.parsers.expat\n",
    "# xmlparser.StartElementHandler(name, attributes)\n",
    "# 遇到XML开始标签时调用，name是标签的名字，attrs 是标签的属性值字典\n",
    "# xmlparser.EndElementHandler(name)\n",
    "# 遇到XML结束标签时调用。\n",
    "# xmlparser.CharacterDataHandler(data) \n",
    "#调用时机：\n",
    "#从行开始，遇到标签之前，存在字符，content 的值为这些字符串。\n",
    "#从一个标签，遇到下一个标签之前， 存在字符，content 的值为这些字符串。\n",
    "#从一个标签，遇到行结束符之前，存在字符，content 的值为这些字符串。\n",
    "#标签可以是开始标签，也可以是结束标签。\n",
    "\n",
    "#为了方便理解，我已经在下面还原来解析过程，\n",
    "#标出何时调用，分别用S：表示开始；E：表示结束；D：表示data\n",
    "\n",
    "如果看不明白，请配合脚本输出结果一起看\n",
    "S<ol>C\n",
    "D   S<li>S<a href=\"/python\">DPython</a>E</li>EC\n",
    "D   S<li>S<a href=\"/ruby\">DRuby</a>E</li>EC\n",
    "S</ol>E"
   ]
  },
  {
   "cell_type": "code",
   "execution_count": 178,
   "id": "f5f3f484-be80-4c4d-8e4b-6e85d8394442",
   "metadata": {},
   "outputs": [
    {
     "name": "stdout",
     "output_type": "stream",
     "text": [
      "sax:start_element: ol, attrs: {}\n",
      "sax:char_data: \n",
      "\n",
      "sax:char_data:     \n",
      "sax:start_element: li, attrs: {}\n",
      "sax:start_element: a, attrs: {'href': '/python'}\n",
      "sax:char_data: Python\n",
      "sax:end_element: a\n",
      "sax:end_element: li\n",
      "sax:char_data: \n",
      "\n",
      "sax:char_data:     \n",
      "sax:start_element: li, attrs: {}\n",
      "sax:start_element: a, attrs: {'href': '/ruby'}\n",
      "sax:char_data: Ruby\n",
      "sax:end_element: a\n",
      "sax:end_element: li\n",
      "sax:char_data: \n",
      "\n",
      "sax:end_element: ol\n"
     ]
    },
    {
     "data": {
      "text/plain": [
       "1"
      ]
     },
     "execution_count": 178,
     "metadata": {},
     "output_type": "execute_result"
    }
   ],
   "source": [
    "from xml.parsers.expat import ParserCreate\n",
    "\n",
    "# 处理器\n",
    "class DefaultSaxhandler(object):\n",
    "    def start_element(self, name, attrs):\n",
    "        print('sax:start_element: %s, attrs: %s' % (name, str(attrs)))\n",
    "    \n",
    "    def end_element(self, name):\n",
    "        print('sax:end_element: %s' % name)\n",
    "              \n",
    "    def char_data(self, text):\n",
    "        print('sax:char_data: %s' % text)\n",
    "              \n",
    "xml = r'''<?xml version=\"1.0\"?>\n",
    "<ol>\n",
    "    <li><a href=\"/python\">Python</a></li>\n",
    "    <li><a href=\"/ruby\">Ruby</a></li>\n",
    "</ol>\n",
    "'''\n",
    "              \n",
    "handler = DefaultSaxHandler()\n",
    "parser = ParserCreate()\n",
    "parser.StartElementHandler = handler.start_element\n",
    "parser.EndElementHandler = handler.end_element\n",
    "parser.CharacterDataHandler = handler.char_data\n",
    "             \n",
    "parser.Parse(xml)"
   ]
  },
  {
   "cell_type": "markdown",
   "id": "6ec6ddbd-a82b-4dca-8f21-0fc589fb4a69",
   "metadata": {},
   "source": [
    "解析 XML 时，注意找出自己感兴趣的节点，响应事件时，把节点数据保存起来。解析完毕后，就可以处理数据。"
   ]
  },
  {
   "cell_type": "code",
   "execution_count": null,
   "id": "0b679b07-ad5f-4bdc-a29c-dfe733b794d7",
   "metadata": {},
   "outputs": [],
   "source": [
    "class DefaultSaxHandler(object):\n",
    "    def __init__(self):\n",
    "        "
   ]
  },
  {
   "cell_type": "markdown",
   "id": "f5f8382e-931b-478c-bea8-67317839b981",
   "metadata": {},
   "source": [
    "### HTMLParser\n",
    "\n",
    "HTML 本质上是 XML 的子集，但是 HTML 的语法没有 XML 那么严格，所以不能用标准的 DOM 或 SAX 来解析 HTML。\n",
    "\n",
    "好在 Python 提供了 HTMLParser 来非常方便地解析 HTML。"
   ]
  },
  {
   "cell_type": "code",
   "execution_count": 124,
   "id": "38015615-13aa-44d1-b6e8-7dddfe4f9320",
   "metadata": {},
   "outputs": [],
   "source": [
    "from html.parser import HTMLParser\n",
    "from urllib import request\n",
    "import re"
   ]
  },
  {
   "cell_type": "code",
   "execution_count": 125,
   "id": "15206227-19ee-4ae2-923d-cc29ad6e1e0d",
   "metadata": {},
   "outputs": [],
   "source": [
    "# 爬取网页，获取 html \n",
    "\n",
    "def get_html(url):\n",
    "    # 模拟手机浏览器的头信息\n",
    "    headers = {\n",
    "        'User-Agent':'Mozilla/5.0 (Windows NT 10.0; Win64; x64) AppleWebKit/537.36 (KHTML, like Gecko) Chrome/90.0.4430.212 Safari/537.36'        \n",
    "    }\n",
    "    # 创建 Request 实例，设置 headers 参数\n",
    "    req = request.Request(url, headers=headers)\n",
    "    # 向网站发送 GET 请求\n",
    "    with request.urlopen(req, timeout=25) as f:\n",
    "        # 打印连接状态\n",
    "        print(f'Status: {f.status}')\n",
    "        print()\n",
    "        # 读取返回的数据\n",
    "        data = f.read()  # 二进制流 \n",
    "    # 将 html 数据写入本地文件中进行查看分析\n",
    "    with open('./html.txt', 'wb') as fw:\n",
    "        fw.write(data)\n",
    "    # 函数返回经 utf-8 编码后的字符串\n",
    "    return data.decode('utf-8')"
   ]
  },
  {
   "cell_type": "code",
   "execution_count": 138,
   "id": "0acb771d-cb3e-4a2a-b6bf-ee93cca5c09f",
   "metadata": {},
   "outputs": [],
   "source": [
    "# 借助 HUTMLParser 对 html 文件进行解析\n",
    "\n",
    "class MyHTMLParser(HTMLParser):\n",
    "    # 构造器，初始化\n",
    "    def __init__(self):\n",
    "        # 调用父构造器\n",
    "        super().__init__()\n",
    "        # 存储感兴趣的节点信息，最后要输出\n",
    "        self.info = []\n",
    "        # 标志位\n",
    "        self.__parsedata = ''\n",
    "    \n",
    "    # 重载 3 个父类方法，实现解析自定义\n",
    "    def handle_starttag(self, tag, attrs):\n",
    "        if ('class', 'event-title') in attrs:\n",
    "            self.__parsedata = 'name'\n",
    "        if tag == 'time':\n",
    "            self.__parsedata = 'time'\n",
    "        if ('class', 'event-location') in attrs:\n",
    "            self.__parsedata = 'location'\n",
    "        if ('class', 'say-no-more') in attrs:\n",
    "            self.__parsedata = 'year'\n",
    "        \n",
    "    def handle_endtag(self, tag):\n",
    "        # 达到 tag 尾时，清空标志位\n",
    "        self.__parsedata = ''\n",
    "        \n",
    "    def handle_data(self, data):\n",
    "        if self.__parsedata == 'name':\n",
    "            self.info.append(f'会议名称：{data}')\n",
    "        if self.__parsedata == 'time':\n",
    "            self.info.append(f'会议时间：{data}')\n",
    "        if self.__parsedata == 'year':\n",
    "            if re.match(r'\\s\\d{4}', data):\n",
    "                self.info.append(f'会议年份：{data.strip()}')\n",
    "        if self.__parsedata == 'location':\n",
    "            self.info.append(f'会议地点：{data}\\n')\n",
    "            "
   ]
  },
  {
   "cell_type": "code",
   "execution_count": 139,
   "id": "c35c9d33-1de7-4a0d-a089-919d6324297d",
   "metadata": {},
   "outputs": [
    {
     "name": "stdout",
     "output_type": "stream",
     "text": [
      "Status: 200\n",
      "\n",
      "会议名称：PyCascades Remote 2020\n",
      "会议时间：05 Feb. – 06 Feb. \n",
      "会议年份：2022\n",
      "会议地点：Online\n",
      "\n",
      "会议名称：Kiwi PyCon\n",
      "会议时间：18 Feb. – 20 Feb. \n",
      "会议年份：2022\n",
      "会议地点：Ōtautahi/Christchurch, Aotearoa/New Zealand\n",
      "\n",
      "会议名称：Python Web Conference 2022\n",
      "会议时间：21 March – 25 March \n",
      "会议年份：2022\n",
      "会议地点：Online\n",
      "\n",
      "会议名称：PyCamp Spain 2022\n",
      "会议时间：15 April – 18 April \n",
      "会议年份：2022\n",
      "会议地点：Girona, Spain\n",
      "\n",
      "会议名称：PyCon US 2022\n",
      "会议时间：27 April – 05 May \n",
      "会议年份：2022\n",
      "会议地点：Salt Lake City, Utah, USA\n",
      "\n",
      "会议名称：PyCon Italy 22\n",
      "会议时间：02 June – 05 June \n",
      "会议年份：2022\n",
      "会议地点：Florence, Italy\n",
      "\n",
      "会议名称：Pyjamas Conf 2021\n",
      "会议时间：04 Dec. – 05 Dec. \n",
      "会议年份：2021\n",
      "会议地点：Online\n",
      "\n",
      "会议名称：PyCon Indonesia 2021\n",
      "会议时间：04 Dec. – 05 Dec. \n",
      "会议年份：2021\n",
      "会议地点：online\n",
      "\n"
     ]
    }
   ],
   "source": [
    "# 主函数\n",
    "\n",
    "def main():\n",
    "    URL = 'https://www.python.org/events/python-events/'\n",
    "    html_data = get_html(URL)\n",
    "    \n",
    "    parser = MyHTMLParser()\n",
    "    # 开始解析\n",
    "    parser.feed(html_data)\n",
    "    \n",
    "    # 输出感兴趣的信息\n",
    "    #n = 0\n",
    "    for s in parser.info: \n",
    "        print(s)\n",
    "        \n",
    "#         n = n + 1\n",
    "#         if (4 == n):\n",
    "#             print()\n",
    "#             n = 0\n",
    "        \n",
    "\n",
    "if __name__ == '__main__':\n",
    "    main()"
   ]
  },
  {
   "cell_type": "markdown",
   "id": "727d70db-74f9-497b-8f0a-48946ab8e9e5",
   "metadata": {},
   "source": [
    "## 十三、第三方常用模块"
   ]
  },
  {
   "cell_type": "markdown",
   "id": "f7db88a4-28b7-465e-af5c-d91b475a837d",
   "metadata": {},
   "source": [
    "### Pilliow\n",
    "\n",
    "PIL：Python Imaging Library，功能异常强大，但 API 却非常简单。\n",
    "\n",
    "由于 PIL 仅支持到 Python 2.7，加上年久失修，于是一群志愿者在 PIL 的基础上创建了兼容的版本，名字叫 Pillow。"
   ]
  },
  {
   "cell_type": "code",
   "execution_count": 142,
   "id": "60b31b48-8f77-4dd9-954e-e643d538a6cd",
   "metadata": {},
   "outputs": [],
   "source": [
    "from PIL import Image"
   ]
  },
  {
   "cell_type": "code",
   "execution_count": 144,
   "id": "0fe7b57d-10cf-4a3d-bcdd-3c6ca8b84191",
   "metadata": {},
   "outputs": [
    {
     "name": "stdout",
     "output_type": "stream",
     "text": [
      "Original image size: 400x400\n"
     ]
    }
   ],
   "source": [
    "# 打开图像文件\n",
    "im = Image.open('./icon.jpg')\n",
    "# 获取尺寸\n",
    "w, h = im.size\n",
    "print(f'Original image size: {w}x{h}')\n",
    "# 缩放\n",
    "im.thumbnail((w//2, h//2))\n",
    "# 保存\n",
    "im.save('thumbnail.jpg', 'jpeg')"
   ]
  },
  {
   "cell_type": "markdown",
   "id": "85ee3c24-087f-4148-b9cf-c9a994d219ed",
   "metadata": {},
   "source": [
    "其他功能如切片、旋转、滤镜、输出文字、调色板等一应俱全。"
   ]
  },
  {
   "cell_type": "code",
   "execution_count": 146,
   "id": "4baa845e-fe01-4895-b3e2-ad4c8fea03d4",
   "metadata": {},
   "outputs": [],
   "source": [
    "# 模糊效果\n",
    "\n",
    "from PIL import Image, ImageFilter\n",
    "\n",
    "im = Image.open('./icon.jpg')\n",
    "# 应用模糊滤镜\n",
    "im2 = im.filter(ImageFilter.BLUR)\n",
    "im2.save('blur.jpg', 'jpeg')"
   ]
  },
  {
   "cell_type": "markdown",
   "id": "21d3b118-2425-45ce-bedc-59038a3f2807",
   "metadata": {},
   "source": [
    "ImageDraw 提供了一系列的绘图方法，下面生成字母验证码图片："
   ]
  },
  {
   "cell_type": "code",
   "execution_count": 170,
   "id": "bf0aa04e-b06b-4a03-aaad-71f14e18d746",
   "metadata": {},
   "outputs": [
    {
     "name": "stdout",
     "output_type": "stream",
     "text": [
      "HBVI\n"
     ]
    }
   ],
   "source": [
    "from PIL import Image, ImageDraw, ImageFilter, ImageFont\n",
    "import random\n",
    "\n",
    "# 随机字符\n",
    "def rndChar():\n",
    "    return chr(random.randint(65, 90))\n",
    "\n",
    "# 随机颜色1\n",
    "def rndColor():\n",
    "    return (random.randint(64, 255), random.randint(64, 255), random.randint(64, 255))\n",
    "\n",
    "# 随机颜色2\n",
    "def rndColor2():\n",
    "    return (random.randint(32, 127), random.randint(32, 127), random.randint(32, 127))\n",
    "\n",
    "# 240 x 60\n",
    "width = 60 * 4\n",
    "height = 60\n",
    "\n",
    "# make a blank image, initialized to transparent text color\n",
    "image = Image.new('RGB', (width, height), (255, 255, 255))\n",
    "\n",
    "# 创建 font 对象\n",
    "font = ImageFont.truetype('C:\\Windows\\Fonts\\Arial.ttf', 36)\n",
    "\n",
    "# 创建 Draw 对象\n",
    "draw = ImageDraw.Draw(image)\n",
    "\n",
    "# 填充每个像素\n",
    "for x in range(width):\n",
    "    for y in range(height):\n",
    "        draw.point((x, y), fill=rndColor())\n",
    "# 输出文字\n",
    "text = []\n",
    "for t in range(4):\n",
    "    c = rndChar()\n",
    "    text .append(c)\n",
    "    draw.text((60 * t + 10, 10), c, font=font, fill=rndColor2())\n",
    "\n",
    "# 模糊\n",
    "image = image.filter(ImageFilter.BLUR)\n",
    "image.save('code.jpg', 'jpeg')\n",
    "print(''.join(text))"
   ]
  },
  {
   "cell_type": "markdown",
   "id": "967a35df-5b86-4b88-9a86-8ad331e7b9f3",
   "metadata": {},
   "source": [
    "### requests"
   ]
  },
  {
   "cell_type": "code",
   "execution_count": 172,
   "id": "2c19ef88-c739-4ee6-bc85-4d57568e950e",
   "metadata": {},
   "outputs": [],
   "source": [
    "import requests"
   ]
  },
  {
   "cell_type": "code",
   "execution_count": 197,
   "id": "b2b121ae-b362-41e9-b266-7fb34ab4e86f",
   "metadata": {},
   "outputs": [
    {
     "data": {
      "text/plain": [
       "'https://www.douban.com/?q=python&cat=1001'"
      ]
     },
     "execution_count": 197,
     "metadata": {},
     "output_type": "execute_result"
    }
   ],
   "source": [
    "url = 'https://www.douban.com/'\n",
    "headers = {'User-Agent':'Mozilla/5.0 (Windows NT 6.3; WOW64) AppleWebKit/537.36 (KHTML, like Gecko) Chrome/63.0.3239.132 Safari/537.36'}\n",
    "#r = requests.get(url, headers=headers, timeout=2.5)\n",
    "# url 带参数\n",
    "r = requests.get(url, params={'q':'python', 'cat':'1001'}, headers=headers)\n",
    "r.url"
   ]
  },
  {
   "cell_type": "code",
   "execution_count": 182,
   "id": "cb1b539f-7dce-4030-ad16-4643549e13c6",
   "metadata": {},
   "outputs": [
    {
     "data": {
      "text/plain": [
       "200"
      ]
     },
     "execution_count": 182,
     "metadata": {},
     "output_type": "execute_result"
    }
   ],
   "source": [
    "r.status_code"
   ]
  },
  {
   "cell_type": "code",
   "execution_count": 184,
   "id": "d283ffa6-2665-45fd-83bb-ff5e0d19a442",
   "metadata": {},
   "outputs": [],
   "source": [
    "# r.text"
   ]
  },
  {
   "cell_type": "code",
   "execution_count": 185,
   "id": "bc96d53f-ddf1-4709-a9a9-a38b0dac8bd4",
   "metadata": {},
   "outputs": [
    {
     "data": {
      "text/plain": [
       "'utf-8'"
      ]
     },
     "execution_count": 185,
     "metadata": {},
     "output_type": "execute_result"
    }
   ],
   "source": [
    "r.encoding"
   ]
  },
  {
   "cell_type": "code",
   "execution_count": 186,
   "id": "84175c95-4169-44e1-a649-a65a7ebbe966",
   "metadata": {},
   "outputs": [],
   "source": [
    "# 无论响应是文本还是二进制内容，我们都可以用 content 属性获得 bytes 对象：\n",
    "\n",
    "# r.content"
   ]
  },
  {
   "cell_type": "markdown",
   "id": "264d93a5-2614-4c76-89e9-4e1f3c0b386c",
   "metadata": {},
   "source": [
    "requests 的方便之处还在于，对于特定类型的响应，例如 JSON，可以直接获取："
   ]
  },
  {
   "cell_type": "code",
   "execution_count": 189,
   "id": "12804771-596f-46ea-b69c-bcbe1db504ed",
   "metadata": {},
   "outputs": [],
   "source": [
    "#r = requests.get('https://query.yahooapis.com/v1/public/yql?q=select%20*%20from%20weather.forecast%20where%20woeid%20%3D%202151330&format=json')\n",
    "\n",
    "#r.json()"
   ]
  },
  {
   "cell_type": "markdown",
   "id": "d89cacf9-1a32-4d5b-9fc3-ea5e636092c8",
   "metadata": {},
   "source": [
    "要发送 POST 请求，只需要把 get() 方法变成 post()，然后传入 data 参数作为 POST 请求的数据： "
   ]
  },
  {
   "cell_type": "code",
   "execution_count": 188,
   "id": "dc4ec161-6574-4057-9463-bfa7552973cc",
   "metadata": {},
   "outputs": [],
   "source": [
    " r = requests.post('https://accounts.douban.com/login', data={'form_email': 'abc@example.com', 'form_password': '123456'})"
   ]
  },
  {
   "cell_type": "markdown",
   "id": "19772671-759e-491c-974e-a3af4de8b704",
   "metadata": {},
   "source": [
    "requests 默认使用 application/x-www-form-urlencoded 对 POST 数据编码。如果要传递 JSON 数据，可以直接传入 json 参数："
   ]
  },
  {
   "cell_type": "code",
   "execution_count": 191,
   "id": "b0ae82ea-b833-430a-9f72-2abc0fedcbba",
   "metadata": {},
   "outputs": [],
   "source": [
    "params = {'key':'value'}\n",
    "r = requests.post(url, json=params) # 内部自动序列化为 JSON"
   ]
  },
  {
   "cell_type": "code",
   "execution_count": 192,
   "id": "e2acb9bc-234c-425a-8e5b-75b67a6ed467",
   "metadata": {},
   "outputs": [
    {
     "ename": "FileNotFoundError",
     "evalue": "[Errno 2] No such file or directory: 'report.xls'",
     "output_type": "error",
     "traceback": [
      "\u001b[1;31m---------------------------------------------------------------------------\u001b[0m",
      "\u001b[1;31mFileNotFoundError\u001b[0m                         Traceback (most recent call last)",
      "\u001b[1;32m~\\AppData\\Local\\Temp/ipykernel_50656/2155138436.py\u001b[0m in \u001b[0;36m<module>\u001b[1;34m\u001b[0m\n\u001b[0;32m      1\u001b[0m \u001b[1;31m# 上传文件\u001b[0m\u001b[1;33m\u001b[0m\u001b[1;33m\u001b[0m\u001b[0m\n\u001b[0;32m      2\u001b[0m \u001b[1;33m\u001b[0m\u001b[0m\n\u001b[1;32m----> 3\u001b[1;33m \u001b[0mupload_files\u001b[0m \u001b[1;33m=\u001b[0m \u001b[1;33m{\u001b[0m\u001b[1;34m'file'\u001b[0m\u001b[1;33m:\u001b[0m \u001b[0mopen\u001b[0m\u001b[1;33m(\u001b[0m\u001b[1;34m'report.xls'\u001b[0m\u001b[1;33m,\u001b[0m \u001b[1;34m'rb'\u001b[0m\u001b[1;33m)\u001b[0m\u001b[1;33m}\u001b[0m\u001b[1;33m\u001b[0m\u001b[1;33m\u001b[0m\u001b[0m\n\u001b[0m\u001b[0;32m      4\u001b[0m \u001b[1;33m\u001b[0m\u001b[0m\n\u001b[0;32m      5\u001b[0m \u001b[0mr\u001b[0m \u001b[1;33m=\u001b[0m \u001b[0mrequests\u001b[0m\u001b[1;33m.\u001b[0m\u001b[0mpost\u001b[0m\u001b[1;33m(\u001b[0m\u001b[0murl\u001b[0m\u001b[1;33m,\u001b[0m  \u001b[0mfiles\u001b[0m\u001b[1;33m=\u001b[0m\u001b[0mupload_files\u001b[0m\u001b[1;33m)\u001b[0m\u001b[1;33m\u001b[0m\u001b[1;33m\u001b[0m\u001b[0m\n",
      "\u001b[1;31mFileNotFoundError\u001b[0m: [Errno 2] No such file or directory: 'report.xls'"
     ]
    }
   ],
   "source": [
    "# 上传文件\n",
    "\n",
    "upload_files = {'file': open('report.xls', 'rb')}\n",
    "\n",
    "r = requests.post(url,  files=upload_files)\n",
    "\n",
    "# 在读取文件时，注意务必使用'rb'即二进制模式读取，这样获取的bytes长度才是文件的长度。"
   ]
  },
  {
   "cell_type": "markdown",
   "id": "f07efa46-8810-4648-8288-7c59c0410124",
   "metadata": {},
   "source": [
    "把post()方法替换为put()，delete()等，就可以以PUT或DELETE方式请求资源。"
   ]
  },
  {
   "cell_type": "code",
   "execution_count": 195,
   "id": "c5d9035d-9e20-475c-be11-1d469f6532ac",
   "metadata": {},
   "outputs": [
    {
     "data": {
      "text/plain": [
       "<RequestsCookieJar[]>"
      ]
     },
     "execution_count": 195,
     "metadata": {},
     "output_type": "execute_result"
    }
   ],
   "source": [
    "# requests对Cookie做了特殊处理，使得我们不必解析Cookie就可以轻松获取指定的Cookie：\n",
    "r.cookies"
   ]
  },
  {
   "cell_type": "code",
   "execution_count": 196,
   "id": "3d284740-3433-45d4-9058-6c18d0c1ad5c",
   "metadata": {},
   "outputs": [
    {
     "ename": "AttributeError",
     "evalue": "module 'urllib.request' has no attribute 'get'",
     "output_type": "error",
     "traceback": [
      "\u001b[1;31m---------------------------------------------------------------------------\u001b[0m",
      "\u001b[1;31mAttributeError\u001b[0m                            Traceback (most recent call last)",
      "\u001b[1;32m~\\AppData\\Local\\Temp/ipykernel_50656/2963075574.py\u001b[0m in \u001b[0;36m<module>\u001b[1;34m\u001b[0m\n\u001b[0;32m      2\u001b[0m \u001b[1;33m\u001b[0m\u001b[0m\n\u001b[0;32m      3\u001b[0m \u001b[0mcs\u001b[0m \u001b[1;33m=\u001b[0m \u001b[1;33m{\u001b[0m\u001b[1;34m'token'\u001b[0m\u001b[1;33m:\u001b[0m\u001b[1;34m'12345'\u001b[0m\u001b[1;33m,\u001b[0m \u001b[1;34m'status'\u001b[0m\u001b[1;33m:\u001b[0m\u001b[1;34m'working'\u001b[0m\u001b[1;33m}\u001b[0m\u001b[1;33m\u001b[0m\u001b[1;33m\u001b[0m\u001b[0m\n\u001b[1;32m----> 4\u001b[1;33m \u001b[0mr\u001b[0m \u001b[1;33m=\u001b[0m \u001b[0mrequest\u001b[0m\u001b[1;33m.\u001b[0m\u001b[0mget\u001b[0m\u001b[1;33m(\u001b[0m\u001b[0murl\u001b[0m\u001b[1;33m,\u001b[0m \u001b[0mcookies\u001b[0m\u001b[1;33m=\u001b[0m\u001b[0mcs\u001b[0m\u001b[1;33m)\u001b[0m\u001b[1;33m\u001b[0m\u001b[1;33m\u001b[0m\u001b[0m\n\u001b[0m",
      "\u001b[1;31mAttributeError\u001b[0m: module 'urllib.request' has no attribute 'get'"
     ]
    }
   ],
   "source": [
    "# 要在请求中传入 Cookie，只需准备一个 dict 传入 cookies 参数：\n",
    "\n",
    "cs = {'token':'12345', 'status':'working'}\n",
    "r = request.get(url, cookies=cs)"
   ]
  },
  {
   "cell_type": "markdown",
   "id": "d69dd62e-cae8-4221-b00e-a7dfaf150171",
   "metadata": {},
   "source": [
    "多核版知乎爬虫（任意问题下的所有图片）： 需要在  F盘新建一个 img 文件夹（可自己修改）\n",
    "\n",
    "1个进程分析图片地址； \n",
    "\n",
    "2个进程8线程下载图片；\n",
    "\n",
    "1个进程4线程解决第一次下载失败的图片； \n",
    "\n",
    "主进程的主线程实现程序监听，判断是否终止系统，优雅退出程序。\n"
   ]
  },
  {
   "cell_type": "code",
   "execution_count": null,
   "id": "d59ad946-6e00-4bb7-9156-70b5dca975fb",
   "metadata": {},
   "outputs": [],
   "source": [
    "import requests,json,os,threading,time,logging\n",
    "from bs4 import BeautifulSoup\n",
    "from multiprocessing import Process,Queue\n",
    "from multiprocessing.queues import Empty\n",
    "from urllib.request import urlretrieve\n",
    "\n",
    "\n",
    "logging.basicConfig(level=logging.ERROR,filename='failed_img.log')\n",
    "\n",
    "# 抓取地址\n",
    "answers_url='https://www.zhihu.com/api/v4/questions/29815334/answers?data[*].author.follower_count%2Cbadge[*].topics=&data[*].mark_infos[*].url=&include=data[*].is_normal%2Cadmin_closed_comment%2Creward_info%2Cis_collapsed%2Cannotation_action%2Cannotation_detail%2Ccollapse_reason%2Cis_sticky%2Ccollapsed_by%2Csuggest_edit%2Ccomment_count%2Ccan_comment%2Ccontent%2Ceditable_content%2Cvoteup_count%2Creshipment_settings%2Ccomment_permission%2Ccreated_time%2Cupdated_time%2Creview_info%2Crelevant_info%2Cquestion%2Cexcerpt%2Crelationship.is_authorized%2Cis_author%2Cvoting%2Cis_thanked%2Cis_nothelp%2Cis_labeled&limit=5&offset=0&platform=desktop&sort_by=default'\n",
    "\n",
    "# 待下载图片队列\n",
    "img_queue = Queue()\n",
    "# 下载图片失败队列\n",
    "bad_queue = Queue()\n",
    "\n",
    "# 请求头\n",
    "headers={\n",
    "    'User-Agent':'Mozilla/5.0 (Windows NT 10.0; Win64; x64; rv:64.0) Gecko/20100101 Firefox/64.0',\n",
    "    'Host':'www.zhihu.com'\n",
    "}\n",
    "\n",
    "\n",
    "'''\n",
    "请求知乎回答数据\n",
    ":param answers_url: 知乎问题的第一个回答请求地址\n",
    ":param imgq: 待下载图片队列\n",
    ":param count: 递归结束标识，用于判断是否最后一页\n",
    ":return: \n",
    "'''\n",
    "def getR(answers_url, imgq, count=0):\n",
    "\n",
    "    while True:\n",
    "        try:\n",
    "            r = requests.get(answers_url, headers=headers)\n",
    "        except BaseException:\n",
    "            continue\n",
    "        else:\n",
    "            rj = str(r.json()).replace(\"True\", \"\\\"true\\\"\").replace(\"False\", \"\\\"false\\\"\")\n",
    "            rj = json.loads(json.dumps(eval(rj)))\n",
    "\n",
    "            for x in rj['data']:\n",
    "                content = x['content']\n",
    "                soup = BeautifulSoup(content, 'lxml')\n",
    "                # 查找img标签并且class属性等于origin_image zh-lightbox-thumb的元素\n",
    "                for img in soup.find_all('img', attrs={'class': 'origin_image zh-lightbox-thumb'}):\n",
    "                    # 保存图片到img_queue队列\n",
    "                    imgq.put(img['data-original'])\n",
    "                    print('保存%s到img_queue' % os.path.split(img['data-original'])[1])\n",
    "            if rj['paging']['is_end'] != 'true':\n",
    "                answers_url = rj['paging']['next']\n",
    "            else:\n",
    "                print('request_pro 执行完毕')\n",
    "                # 最后一页\n",
    "                break\n",
    "\n",
    "\n",
    "'''\n",
    "下载进程：分别创建四个线程，用于下载图片\n",
    ":param imgq:    待下载图片队列\n",
    ":param badq:    下载图片失败队列\n",
    ":param pname:   进程名称\n",
    ":return: \n",
    "'''\n",
    "def download_pro(imgq,badq,pname):\n",
    "\n",
    "    # 这里设置name可用于区分是哪个进程的哪个线程\n",
    "    t1 = threading.Thread(target=download,args=(imgq,badq),name='%s - 下载线程1' % pname)\n",
    "    t2 = threading.Thread(target=download,args=(imgq,badq),name='%s - 下载线程2' % pname)\n",
    "    t3 = threading.Thread(target=download,args=(imgq,badq),name='%s - 下载线程3' % pname)\n",
    "    t4 = threading.Thread(target=download,args=(imgq,badq),name='%s - 下载线程4' % pname)\n",
    "\n",
    "    t1.start()\n",
    "    t2.start()\n",
    "    t3.start()\n",
    "    t4.start()\n",
    "\n",
    "    t1.join()\n",
    "    t2.join()\n",
    "    t3.join()\n",
    "    t4.join()\n",
    "\n",
    "\n",
    "'''\n",
    "下载图片函数\n",
    ":param imgq:    待下载图片队列\n",
    ":param badq:    下载图片失败队列\n",
    ":return: \n",
    "'''\n",
    "def download(imgq,badq):\n",
    "\n",
    "    thread_name = threading.current_thread().name\n",
    "    while True:\n",
    "        try:\n",
    "            # 设置timeout=10,10秒后队列都拿取不到数据，那么数据已经下载完毕\n",
    "            c = imgq.get(True, timeout=10)\n",
    "            name = os.path.split(c)[1]\n",
    "        except Empty:\n",
    "            print('%s 执行完毕' % thread_name)\n",
    "            # 退出循环\n",
    "            break\n",
    "        else:\n",
    "            imgcontent = requests.get(c)\n",
    "            ''' 图片请求失败,将图片地址放入bad_queue,等待bad_pro处理'''\n",
    "            if imgcontent.status_code != 200:\n",
    "                print('%s 下载%s失败' % (thread_name,name))\n",
    "                badq.put(c)\n",
    "                continue\n",
    "            with open(r'F:\\img\\%s' % name, 'wb') as f:\n",
    "                f.write(imgcontent.content)\n",
    "                print('%s 下载%s成功' % (threading.current_thread().name, name))\n",
    "\n",
    "\n",
    "'''\n",
    "创建四个线程用于尝试bad_queue队列中的图片，\n",
    ":param badp: bad_queue\n",
    ":return: \n",
    "'''\n",
    "def again_pro(badq):\n",
    "\n",
    "    b1 = threading.Thread(target=again_download, args=(badq,),name='重下线程1')\n",
    "    b2 = threading.Thread(target=again_download, args=(badq,),name='重下线程2')\n",
    "    b3 = threading.Thread(target=again_download, args=(badq,),name='重下线程3')\n",
    "    b4 = threading.Thread(target=again_download, args=(badq,),name='重下线程4')\n",
    "\n",
    "    b1.start()\n",
    "    b2.start()\n",
    "    b3.start()\n",
    "    b4.start()\n",
    "\n",
    "\n",
    "'''\n",
    "尝试重复下载bad_queue队列中的图片\n",
    ":param badq: bad_queue\n",
    ":return: \n",
    "'''\n",
    "def again_download(badq):\n",
    "\n",
    "    while True:\n",
    "        c = badq.get(True)\n",
    "        name = os.path.split(c)[1]\n",
    "        # 尝试重复下载5次，如果5次均下载失败，记录到错误日志中\n",
    "        for x in range(5):\n",
    "            try:\n",
    "                # 个人感觉使用urlretrieve下载的成功率要高些，哈哈^_^\n",
    "                urlretrieve(c,r'F:\\img\\%s'%name)\n",
    "            except BaseException as e:\n",
    "                if x==4:\n",
    "                    logging.error('%s 重复下载失败,error：[%s]'% (c,repr(e)))\n",
    "                # 下载失败; 再次尝试\n",
    "                continue\n",
    "            else:\n",
    "                # 下载成功；跳出循环\n",
    "                print('%s 在第%s次下载%s成功' % (threading.current_thread().name,(x+1),name))\n",
    "                break\n",
    "\n",
    "\n",
    "'''\n",
    "监听器，用于关闭程序，10秒刷新一次\n",
    ":param imgq: img_queue\n",
    ":param badq: bad_queue\n",
    ":return: \n",
    "'''\n",
    "def monitor(imgq,badq):\n",
    "\n",
    "    while True:\n",
    "        time.sleep(10)\n",
    "        if imgq.empty() and badq.empty():\n",
    "            print('所有任务执行完毕，40秒后系统关闭')\n",
    "            count = 39\n",
    "            while count > 0:\n",
    "                time.sleep(1)\n",
    "                print('距离系统关闭还剩：%s秒'%count)\n",
    "                count-=1\n",
    "            break\n",
    "\n",
    "\n",
    "if __name__=='__main__':\n",
    "\n",
    "    # 请求数据进程\n",
    "    request_pro = Process(target=getR, args=(answers_url, img_queue))\n",
    "\n",
    "    ''' 下载图片进程[first]和[second] '''\n",
    "    download_pro_first = Process(target=download_pro, args=(img_queue,bad_queue,'download process first'))\n",
    "    download_pro_second = Process(target=download_pro, args=(img_queue,bad_queue,'download process second'))\n",
    "\n",
    "    # 处理[first]和[second]进程下载失败的图片\n",
    "    bad_pro = Process(target=again_pro,args=(bad_queue,))\n",
    "    bad_pro.daemon = True\n",
    "\n",
    "    # req_pro进程启动\n",
    "    request_pro.start()\n",
    "    print('3秒之后开始下载 >>>>>>>>>>>>>>>')\n",
    "    time.sleep(3)\n",
    "\n",
    "    # first 和 second 进程启动\n",
    "    download_pro_first.start()\n",
    "    download_pro_second.start()\n",
    "\n",
    "    # 重复下载进程启动\n",
    "    bad_pro.start()\n",
    "\n",
    "    # 监听线程：判断系统是否退出\n",
    "    request_pro.join()\n",
    "    print('监听线程启动 >>>>>>>>>>>>>>>')\n",
    "    sys_close_t = threading.Thread(target=monitor,args=(img_queue,bad_queue,))\n",
    "    sys_close_t.start()"
   ]
  },
  {
   "cell_type": "markdown",
   "id": "ea9f7e71-b8dc-41a2-8195-1750d004729d",
   "metadata": {},
   "source": [
    "### chardet\n",
    "\n",
    "对于未知编码的 bytes，要把它转换成 str，需要先“猜测”编码。猜测的方式是先收集各种编码的特征字符，根据特征字符判断，就能有很大概率“猜对”。"
   ]
  },
  {
   "cell_type": "code",
   "execution_count": 198,
   "id": "0536d254-5ff4-49a0-8500-f93da60a2881",
   "metadata": {},
   "outputs": [],
   "source": [
    "import chardet"
   ]
  },
  {
   "cell_type": "code",
   "execution_count": 199,
   "id": "deab7a3f-f2ac-4365-bbaa-c3815fdc081f",
   "metadata": {},
   "outputs": [
    {
     "data": {
      "text/plain": [
       "{'encoding': 'ascii', 'confidence': 1.0, 'language': ''}"
      ]
     },
     "execution_count": 199,
     "metadata": {},
     "output_type": "execute_result"
    }
   ],
   "source": [
    "chardet.detect(b'Hello, world')"
   ]
  },
  {
   "cell_type": "code",
   "execution_count": 200,
   "id": "e38bfa59-2154-452e-b26b-c9285ad0599d",
   "metadata": {},
   "outputs": [
    {
     "data": {
      "text/plain": [
       "{'encoding': 'GB2312', 'confidence': 0.99, 'language': 'Chinese'}"
      ]
     },
     "execution_count": 200,
     "metadata": {},
     "output_type": "execute_result"
    }
   ],
   "source": [
    "data = '君不见黄河之水天上来，奔流到海不复回'.encode('gbk')\n",
    "chardet.detect(data)"
   ]
  },
  {
   "cell_type": "code",
   "execution_count": 201,
   "id": "7a515cf4-b303-4fa3-af5e-2ce91048883d",
   "metadata": {},
   "outputs": [
    {
     "data": {
      "text/plain": [
       "{'encoding': 'utf-8', 'confidence': 0.99, 'language': ''}"
      ]
     },
     "execution_count": 201,
     "metadata": {},
     "output_type": "execute_result"
    }
   ],
   "source": [
    "data = '君不见黄河之水天上来，奔流到海不复回'.encode('utf-8')\n",
    "chardet.detect(data)"
   ]
  },
  {
   "cell_type": "code",
   "execution_count": 202,
   "id": "a70299a4-02f5-45e3-9cab-cfb37624feb4",
   "metadata": {},
   "outputs": [
    {
     "data": {
      "text/plain": [
       "{'encoding': 'EUC-JP', 'confidence': 0.99, 'language': 'Japanese'}"
      ]
     },
     "execution_count": 202,
     "metadata": {},
     "output_type": "execute_result"
    }
   ],
   "source": [
    "data = '最新の主要ニュース'.encode('euc-jp')\n",
    "chardet.detect(data)"
   ]
  },
  {
   "cell_type": "markdown",
   "id": "a15d05d9-4e0d-419a-a5b1-3a5fd88727ef",
   "metadata": {},
   "source": [
    "可见，用 chardet 检测编码，使用简单。获取到编码后，再转换为 str，就可以方便后续处理。\n",
    "\n",
    "chardet 支持检测的编码列表请参考官方文档 [Supported encodings](https://chardet.readthedocs.io/en/latest/supported-encodings.html)。"
   ]
  },
  {
   "cell_type": "markdown",
   "id": "57e34885-b01b-4da0-bd5f-5b2eeee5bb00",
   "metadata": {},
   "source": [
    "### psutil\n",
    "\n",
    "用 Python 来编写脚本简化日常的运维工作是 Python 的一个重要用途。\n",
    "\n",
    "在 Linux 下，有许多系统命令可以让我们时刻监控系统运行的状态，如 ps，top，free 等等\n",
    "\n",
    "在 Python 中获取系统信息的另一个好办法是使用 psutil 这个第三方模块。\n",
    "\n",
    "顾名思义，psutil = process and system utilities，\n",
    "\n",
    "它不仅可以通过一两行代码实现系统监控，还可以跨平台使用，支持Linux／UNIX／OSX／Windows等，是系统管理员和运维小伙伴不可或缺的必备模块。"
   ]
  },
  {
   "cell_type": "code",
   "execution_count": 203,
   "id": "3ee5f1b0-b3d3-4c36-a9bc-21b8b7aa59db",
   "metadata": {},
   "outputs": [],
   "source": [
    "import psutil"
   ]
  },
  {
   "cell_type": "code",
   "execution_count": 208,
   "id": "a3988936-98ec-4d13-ac41-6b10e08762d3",
   "metadata": {},
   "outputs": [
    {
     "data": {
      "text/plain": [
       "16"
      ]
     },
     "execution_count": 208,
     "metadata": {},
     "output_type": "execute_result"
    }
   ],
   "source": [
    "psutil.cpu_count()  # CPU 逻辑数量"
   ]
  },
  {
   "cell_type": "code",
   "execution_count": 209,
   "id": "7edac53c-fc3b-40a4-ba5b-9fb9cb8c6de0",
   "metadata": {},
   "outputs": [
    {
     "data": {
      "text/plain": [
       "8"
      ]
     },
     "execution_count": 209,
     "metadata": {},
     "output_type": "execute_result"
    }
   ],
   "source": [
    "psutil.cpu_count(logical=False) # CPU 物理核心"
   ]
  },
  {
   "cell_type": "code",
   "execution_count": 210,
   "id": "9a297fc6-6ed2-4fe2-9a0a-4a7098287765",
   "metadata": {},
   "outputs": [
    {
     "data": {
      "text/plain": [
       "scputimes(user=70936.96874999999, system=22082.31249999907, idle=4239356.53125, interrupt=793.546875, dpc=980.703125)"
      ]
     },
     "execution_count": 210,
     "metadata": {},
     "output_type": "execute_result"
    }
   ],
   "source": [
    "psutil.cpu_times()"
   ]
  },
  {
   "cell_type": "markdown",
   "id": "159e6af8-97e4-4fa4-bd92-9a50fcf167ba",
   "metadata": {},
   "source": [
    "psutil 使得 Python程序获取系统信息变得易如反掌。\n",
    "\n",
    "psutil 还可以获取用户信息、Windows 服务等很多有用的系统信息，具体请参考 psutil 的官网：https://github.com/giampaolo/psutil"
   ]
  },
  {
   "cell_type": "markdown",
   "id": "36a0f37c-d23d-41e0-80b6-7d0f998fd9ba",
   "metadata": {},
   "source": [
    "tag: 本小节未细看，待用到时再回来看\n",
    "\n",
    "评论区摘录：可以尝试用 Python 仿照宝塔面板做一个 Linux 的运维管理平台。"
   ]
  },
  {
   "cell_type": "markdown",
   "id": "1acd46cd-ed5a-4fa2-85ee-825546148875",
   "metadata": {},
   "source": [
    "## 十三、virtualenv\n",
    "\n",
    "参考文章：https://pythonguidecn.readthedocs.io/zh/latest/dev/virtualenvs.html"
   ]
  },
  {
   "cell_type": "markdown",
   "id": "d4e4eaa2-b7cc-479e-b3d9-2a12c17003f5",
   "metadata": {},
   "source": [
    "pip 是基本的必须要会，至于 Anaconda 和 virtualenv 随意；\n",
    "\n",
    "如果是一个工程项目的话要线上部署最好选择 virtualenv 或者 pipenv(比较推荐)；\n",
    "\n",
    "如果仅仅只是学习使用的话 Anaconda 是很好的选择。"
   ]
  },
  {
   "cell_type": "markdown",
   "id": "d41b9451-c579-4907-b8c2-0d06d7a66dd0",
   "metadata": {},
   "source": [
    "## 十四、图形界面\n",
    "\n",
    "Python 支持多种图形界面的第三方库，包括：\n",
    "- Tk\n",
    "- wxWidgets\n",
    "- Qt\n",
    "- GTK\n",
    "\n",
    "Python 自带的库是支持 Tk 的 Tkinter。使用 Tkinter，无需安装任何包，就可以直接使用。"
   ]
  },
  {
   "cell_type": "markdown",
   "id": "46ba8855-963c-4140-bc08-587e4ae3de73",
   "metadata": {},
   "source": [
    "### thinter\n",
    "\n",
    "参考：https://www.cnblogs.com/collectionne/p/6885066.html"
   ]
  },
  {
   "cell_type": "code",
   "execution_count": 14,
   "id": "d5296e45-bf5d-4a91-b251-a6c76040d79e",
   "metadata": {},
   "outputs": [],
   "source": [
    "# 第一步: 导入 Tkinter 包的所有内容：\n",
    "\n",
    "from tkinter import *\n",
    "import tkinter.messagebox as messagebox"
   ]
  },
  {
   "cell_type": "code",
   "execution_count": 15,
   "id": "5cede544-a92b-449b-9553-e4f305f4bf26",
   "metadata": {},
   "outputs": [],
   "source": [
    "# 第二步：从 Frame 派生一个 Application 类，这是所有 Widget 的父容器\n",
    "\n",
    "class Application(Frame):\n",
    "    def __init__(self, master=None):\n",
    "        Frame.__init__(self, master)\n",
    "        self.pack()\n",
    "        self.createWidgets()\n",
    "\n",
    "    def createWidgets(self):\n",
    "        self.nameInput = Entry(self)\n",
    "        self.nameInput.pack()\n",
    "        \n",
    "        # self.helloLabel = Label(self, text='Hello, world!')\n",
    "        # self.helloLabel.pack()\n",
    "        \n",
    "        self.alertButton = Button(self, text='Hello', command=self.hello)\n",
    "        self.alertButton.pack()\n",
    "        \n",
    "    def hello(self):\n",
    "        name = self.nameInput.get() or 'world'\n",
    "        messagebox.showinfo('Message', 'Hello, %s' % name)"
   ]
  },
  {
   "cell_type": "markdown",
   "id": "7d78d1fa-f93c-4bc3-b4fa-4477c0f213e5",
   "metadata": {},
   "source": [
    "在 GUI 中，每个 Button、Label、输入框等，都是一个 Widget。\n",
    "\n",
    "Frame 则是可以容纳其他 Widget 的 Widget，所有的 Widge t组合起来就是一棵树。\n",
    "\n",
    "pack() 方法把 Widget 加入到父容器中，并实现布局。pack() 是最简单的布局，grid() 可以实现更复杂的布局。"
   ]
  },
  {
   "cell_type": "code",
   "execution_count": 16,
   "id": "bf7fa907-9e1b-409b-a112-8ae464519d1f",
   "metadata": {},
   "outputs": [],
   "source": [
    "# 第三步：实例化 Application，并启动消息循环\n",
    "\n",
    "app = Application()\n",
    "#设置窗口标题\n",
    "app.master.title('Hello World')\n",
    "# 主消息循环\n",
    "app.mainloop()"
   ]
  },
  {
   "cell_type": "markdown",
   "id": "76832369-18b8-4034-9163-6335657d5eb4",
   "metadata": {},
   "source": [
    "Python 内置的 Tkinter 可以满足基本的 GUI 程序的要求，如果是非常复杂的GUI 程序，建议用「操作系统原生支持」的语言和库来编写。"
   ]
  },
  {
   "cell_type": "markdown",
   "id": "1bcfe9b9-11fc-41a6-a2a8-ce221ed308d5",
   "metadata": {},
   "source": [
    "### turtle 绘图\n",
    "\n",
    "更多操作请参考 [turtle库](https://docs.python.org/zh-cn/3.10/library/turtle.html?highlight=turtle#module-turtle)  的说明。\n",
    "\n",
    "[turtle库的一些基本函数-CSDN博客](https://blog.csdn.net/lilililimu/article/details/106584678)\n",
    "\n",
    "[turtle方法汇总-简书](https://www.jianshu.com/p/7bdb648e91a7)"
   ]
  },
  {
   "cell_type": "code",
   "execution_count": 17,
   "id": "d4c3b54e-7da7-41e5-9f8b-afabc0101405",
   "metadata": {},
   "outputs": [],
   "source": [
    "from turtle import *"
   ]
  },
  {
   "cell_type": "code",
   "execution_count": 18,
   "id": "38957fa9-2b77-405d-a3ee-bb106eb664be",
   "metadata": {},
   "outputs": [],
   "source": [
    "# 导入turtle包的所有内容:\n",
    "from turtle import *\n",
    "\n",
    "# 设置笔刷宽度:\n",
    "width(4)\n",
    "\n",
    "# 前进:\n",
    "forward(200)\n",
    "# 右转90度:\n",
    "right(90)\n",
    "\n",
    "# 笔刷颜色:\n",
    "pencolor('red')\n",
    "forward(100)\n",
    "right(90)\n",
    "\n",
    "pencolor('green')\n",
    "forward(200)\n",
    "right(90)\n",
    "\n",
    "pencolor('blue')\n",
    "forward(100)\n",
    "right(90)\n",
    "\n",
    "# 调用done()使得窗口等待被关闭，否则将立刻关闭窗口:\n",
    "done()"
   ]
  },
  {
   "cell_type": "code",
   "execution_count": null,
   "id": "32d86fe7-11fd-4bea-9e6d-66067bc55442",
   "metadata": {},
   "outputs": [],
   "source": [
    "# 使用递归，可以绘制出非常复杂的图形。例如，下面的代码可以绘制一棵分型树：\n",
    "\n",
    "from turtle import *\n",
    "\n",
    "# 设置色彩模式是RGB:\n",
    "colormode(255)\n",
    "\n",
    "lt(90)\n",
    "\n",
    "lv = 14\n",
    "l = 120\n",
    "s = 45\n",
    "\n",
    "width(lv)\n",
    "\n",
    "# 初始化RGB颜色:\n",
    "r = 0\n",
    "g = 0\n",
    "b = 0\n",
    "pencolor(r, g, b)\n",
    "\n",
    "penup()\n",
    "bk(l)\n",
    "pendown()\n",
    "fd(l)\n",
    "\n",
    "def draw_tree(l, level):\n",
    "    global r, g, b\n",
    "    # save the current pen width\n",
    "    w = width()\n",
    "\n",
    "    # narrow the pen width\n",
    "    width(w * 3.0 / 4.0)\n",
    "    # set color:\n",
    "    r = r + 1\n",
    "    g = g + 2\n",
    "    b = b + 3\n",
    "    pencolor(r % 200, g % 200, b % 200)\n",
    "\n",
    "    l = 3.0 / 4.0 * l\n",
    "\n",
    "    lt(s)\n",
    "    fd(l)\n",
    "\n",
    "    if level < lv:\n",
    "        draw_tree(l, level + 1)\n",
    "    bk(l)\n",
    "    rt(2 * s)\n",
    "    fd(l)\n",
    "\n",
    "    if level < lv:\n",
    "        draw_tree(l, level + 1)\n",
    "    bk(l)\n",
    "    lt(s)\n",
    "\n",
    "    # restore the previous pen width\n",
    "    width(w)\n",
    "\n",
    "speed(\"fastest\")\n",
    "\n",
    "draw_tree(l, 4)\n",
    "\n",
    "done()"
   ]
  },
  {
   "cell_type": "code",
   "execution_count": 21,
   "id": "4b9c3afa-3bf7-49b9-866f-387050b9c151",
   "metadata": {},
   "outputs": [],
   "source": [
    "# 给我一点时间，还你一棵树\n",
    "\n",
    "from turtle import Turtle,done,colormode,setup,title\n",
    "\n",
    "from random import randint,uniform\n",
    "\n",
    "title('给我一点时间，还你一棵树')\n",
    "\n",
    "colormode(255)      #设置画笔颜色模式，为随机生成RGB色彩做准备\n",
    "\n",
    "p1 = Turtle()       #实例化一个画笔\n",
    "\n",
    "p1.width(20)       #设置画笔宽度，初始宽度，主树干宽度\n",
    "\n",
    "p1.speed(100)      #设置画笔速度，具体是多少最快，查阅一下\n",
    "\n",
    "p1.pencolor(randint(0,254),randint(0,254),randint(0,254))      #初始画笔颜色,这是随机颜色，可以用0,0,0,表示黑色\n",
    "\n",
    "p1.hideturtle()    #隐藏画笔外形\n",
    "\n",
    "l = 150   #初始树干长度\n",
    "\n",
    "s = 45    #侧枝生长角度  ，这里可以改，观察生长状态\n",
    "\n",
    "p1.lt(90)          #默认画笔在画布正中央，方向向右，lt(90)调整为向上。\n",
    "\n",
    "p1.penup()         #提起画笔，以便直接调整画笔位置，移动路径画布上没有痕迹\n",
    "\n",
    "p1.bk(l)           #向后（向下）移动，调整树干起点\n",
    "\n",
    "p1.pendown()       #落下画笔，可以继续画\n",
    "\n",
    "p1.fd(l)           #画主树干\n",
    "\n",
    "plist = [p1]       #列表化画笔，便于树干分支控制\n",
    "\n",
    "def draw_tree(plist,l,s,level):      #参数level为分支层数，数值越大分支越多，相对画的时间也越长。\n",
    "\n",
    "    l = l*uniform(0.7,0.8)           #分支树干为上一个的随机比例，这里可以改\n",
    "\n",
    "    for p1 in plist:\n",
    "\n",
    "        w = p1.width()\n",
    "\n",
    "        p1.width(w*3/4)\n",
    "\n",
    "        p1.pencolor(randint(0,254),randint(0,254),randint(0,254))\n",
    "\n",
    "        p2 = p1.clone()\n",
    "\n",
    "        p1.lt(s)\n",
    "\n",
    "        p1.fd(l)\n",
    "\n",
    "        p2.rt(s)\n",
    "\n",
    "        p2.fd(l)\n",
    "\n",
    "        lst = []\n",
    "\n",
    "        lst.append(p1)\n",
    "\n",
    "        lst.append(p2)\n",
    "\n",
    "        if level > 0:\n",
    "\n",
    "            draw_tree(lst,l,s,level-1)\n",
    "\n",
    "draw_tree(plist,l,s,5)\n",
    "\n",
    "done()"
   ]
  },
  {
   "cell_type": "code",
   "execution_count": null,
   "id": "ef0c671f-9f05-48bd-8e80-8d508a6c5a5d",
   "metadata": {},
   "outputs": [],
   "source": [
    "# 画了一个小秒表\n",
    "\n",
    "from turtle import *\n",
    "\n",
    "import time\n",
    "\n",
    "ht()\n",
    "\n",
    "speed(0)\n",
    "\n",
    "penup()\n",
    "\n",
    "goto(0, 120)\n",
    "\n",
    "pendown()\n",
    "\n",
    "for i in range(12):\n",
    "\n",
    "    right(90)\n",
    "\n",
    "    forward(10)\n",
    "\n",
    "    backward(10)\n",
    "\n",
    "    left(90)\n",
    "\n",
    "    for j in range(4):\n",
    "\n",
    "        circle(-120, 6)\n",
    "\n",
    "        right(90)\n",
    "\n",
    "        forward(5)\n",
    "\n",
    "        backward(5)\n",
    "\n",
    "        left(90)\n",
    "\n",
    "    circle(-120, 6)\n",
    "\n",
    "penup()\n",
    "\n",
    "goto(0, 0)\n",
    "\n",
    "pendown()\n",
    "\n",
    "def pin(p, long, angle):\n",
    "\n",
    "    p.left(90 - angle)\n",
    "\n",
    "    p.forward(long)\n",
    "\n",
    "def undopin(p):\n",
    "\n",
    "    for _ in range(2):\n",
    "\n",
    "        p.undo()\n",
    "\n",
    "fen = clone()\n",
    "\n",
    "miao =  clone()\n",
    "\n",
    "miaolong = 100\n",
    "\n",
    "fenlong = 60\n",
    "\n",
    "miaoang = 0\n",
    "\n",
    "fenang = 0\n",
    "\n",
    "while True:\n",
    "\n",
    "    pin(fen, fenlong, fenang)\n",
    "\n",
    "    for i in range(60):\n",
    "\n",
    "        pin(miao, miaolong, miaoang + (i * 6))\n",
    "\n",
    "        time.sleep(0.93)\n",
    "\n",
    "        undopin(miao)\n",
    "\n",
    "    undopin(fen)\n",
    "\n",
    "    fenang += 6"
   ]
  },
  {
   "cell_type": "code",
   "execution_count": null,
   "id": "a298c705-4a1e-4790-a791-f9919634c80e",
   "metadata": {},
   "outputs": [],
   "source": []
  }
 ],
 "metadata": {
  "kernelspec": {
   "display_name": "Python 3 (ipykernel)",
   "language": "python",
   "name": "python3"
  },
  "language_info": {
   "codemirror_mode": {
    "name": "ipython",
    "version": 3
   },
   "file_extension": ".py",
   "mimetype": "text/x-python",
   "name": "python",
   "nbconvert_exporter": "python",
   "pygments_lexer": "ipython3",
   "version": "3.9.7"
  },
  "widgets": {
   "application/vnd.jupyter.widget-state+json": {
    "state": {},
    "version_major": 2,
    "version_minor": 0
   }
  }
 },
 "nbformat": 4,
 "nbformat_minor": 5
}
