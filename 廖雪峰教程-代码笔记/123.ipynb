{
 "cells": [
  {
   "cell_type": "code",
   "execution_count": 1,
   "id": "ed00dbe5-8092-4211-8349-b2cbd6c4bb7e",
   "metadata": {},
   "outputs": [],
   "source": [
    "import numpy as np"
   ]
  },
  {
   "cell_type": "code",
   "execution_count": 2,
   "id": "15eee628-0029-4a39-a239-482a26d2513a",
   "metadata": {},
   "outputs": [],
   "source": [
    "import pandas as pd"
   ]
  },
  {
   "cell_type": "code",
   "execution_count": 3,
   "id": "9de94271-e6c8-4f3b-9bfd-0755a6682067",
   "metadata": {},
   "outputs": [],
   "source": [
    "import matplotlib.pyplot as plt"
   ]
  },
  {
   "cell_type": "code",
   "execution_count": 4,
   "id": "1c49dfad-a1cc-4eb6-b200-bb8c6914f9f8",
   "metadata": {},
   "outputs": [
    {
     "data": {
      "text/plain": [
       "[3, 8, 10, 12, 7]"
      ]
     },
     "execution_count": 4,
     "metadata": {},
     "output_type": "execute_result"
    }
   ],
   "source": [
    "a = [1, 3, 4, 5, 5]\n",
    "b = [2, 5, 6, 7, 2]\n",
    "c = []\n",
    "\n",
    "for i in range(len(a)):\n",
    "    c.append(a[i] + b[i])\n",
    "    \n",
    "c"
   ]
  },
  {
   "cell_type": "code",
   "execution_count": 5,
   "id": "d08665ff-cbc7-4b9b-9e78-ade05292c495",
   "metadata": {},
   "outputs": [
    {
     "data": {
      "text/plain": [
       "[3, 8, 10, 12, 7]"
      ]
     },
     "execution_count": 5,
     "metadata": {},
     "output_type": "execute_result"
    }
   ],
   "source": [
    "[a[i]+b[i] for i in range(len(a))]"
   ]
  },
  {
   "cell_type": "code",
   "execution_count": 6,
   "id": "68cc693b-372a-4733-a86f-c5842d1115f2",
   "metadata": {},
   "outputs": [
    {
     "data": {
      "text/plain": [
       "array([ 26,  40,  80, 106,  52], dtype=int32)"
      ]
     },
     "execution_count": 6,
     "metadata": {},
     "output_type": "execute_result"
    }
   ],
   "source": [
    "a = np.array([1, 2, 4, 5, 6])\n",
    "b = np.array([5, 6, 8, 9, 4])\n",
    "\n",
    "c = a**2 + b**2\n",
    "c"
   ]
  },
  {
   "cell_type": "code",
   "execution_count": 7,
   "id": "4c7a7912-494b-4cf2-a393-6cc270469d21",
   "metadata": {},
   "outputs": [
    {
     "data": {
      "text/plain": [
       "[26, 40, 80, 106, 52]"
      ]
     },
     "execution_count": 7,
     "metadata": {},
     "output_type": "execute_result"
    }
   ],
   "source": [
    "list(c)"
   ]
  },
  {
   "cell_type": "code",
   "execution_count": 9,
   "id": "6ec6442d-5c79-4d5b-8615-1d9b9569c8b4",
   "metadata": {},
   "outputs": [
    {
     "data": {
      "text/plain": [
       "range(0, 10)"
      ]
     },
     "execution_count": 9,
     "metadata": {},
     "output_type": "execute_result"
    }
   ],
   "source": [
    "a = range(10)\n",
    "\n",
    "a"
   ]
  },
  {
   "cell_type": "code",
   "execution_count": 11,
   "id": "5623d4b6-53d0-4af4-87d9-e597e04e31b8",
   "metadata": {},
   "outputs": [
    {
     "name": "stdout",
     "output_type": "stream",
     "text": [
      "0\n",
      "1\n",
      "2\n",
      "3\n",
      "4\n",
      "5\n",
      "6\n",
      "7\n",
      "8\n",
      "9\n"
     ]
    }
   ],
   "source": [
    "for i in range(10):\n",
    "    print(i)"
   ]
  },
  {
   "cell_type": "raw",
   "id": "3b6101c6-afde-48e7-9912-822015c402d6",
   "metadata": {},
   "source": [
    "type(range(10))\n"
   ]
  },
  {
   "cell_type": "code",
   "execution_count": 12,
   "id": "703cc19c-8a47-49a4-8a8a-f53627b1969c",
   "metadata": {},
   "outputs": [],
   "source": [
    "a = np.array([[1, 2, 4, 6],\n",
    "              [3, 6, 4, 7]])"
   ]
  },
  {
   "cell_type": "code",
   "execution_count": 13,
   "id": "214d5b06-d0e1-4c28-a04b-f3f423e639ca",
   "metadata": {},
   "outputs": [
    {
     "data": {
      "text/plain": [
       "2"
      ]
     },
     "execution_count": 13,
     "metadata": {},
     "output_type": "execute_result"
    }
   ],
   "source": [
    "a.ndim"
   ]
  },
  {
   "cell_type": "code",
   "execution_count": 14,
   "id": "ef97c298-67bc-4aef-a122-f96a36a3b9fe",
   "metadata": {},
   "outputs": [
    {
     "data": {
      "text/plain": [
       "8"
      ]
     },
     "execution_count": 14,
     "metadata": {},
     "output_type": "execute_result"
    }
   ],
   "source": [
    "a.size"
   ]
  },
  {
   "cell_type": "code",
   "execution_count": 15,
   "id": "c7058b45-5292-4154-a1c9-8b6104b9eff0",
   "metadata": {},
   "outputs": [
    {
     "data": {
      "text/plain": [
       "(2, 4)"
      ]
     },
     "execution_count": 15,
     "metadata": {},
     "output_type": "execute_result"
    }
   ],
   "source": [
    "a.shape\n"
   ]
  },
  {
   "cell_type": "code",
   "execution_count": 16,
   "id": "3f5caa70-d320-4bfd-8a34-a1dee8a3b823",
   "metadata": {},
   "outputs": [
    {
     "data": {
      "text/plain": [
       "4"
      ]
     },
     "execution_count": 16,
     "metadata": {},
     "output_type": "execute_result"
    }
   ],
   "source": [
    "a.itemsize"
   ]
  },
  {
   "cell_type": "code",
   "execution_count": 17,
   "id": "04867680-4db3-4cb3-8134-a19f64dce9a5",
   "metadata": {},
   "outputs": [
    {
     "data": {
      "text/plain": [
       "dtype('int32')"
      ]
     },
     "execution_count": 17,
     "metadata": {},
     "output_type": "execute_result"
    }
   ],
   "source": [
    "a.dtype\n"
   ]
  },
  {
   "cell_type": "code",
   "execution_count": 18,
   "id": "116136dd-8821-4076-89ce-8934819e2d7c",
   "metadata": {},
   "outputs": [],
   "source": [
    "a = np.arange(10)"
   ]
  },
  {
   "cell_type": "code",
   "execution_count": 19,
   "id": "e8481f97-771a-4c73-9ab4-396bb0cee212",
   "metadata": {},
   "outputs": [
    {
     "data": {
      "text/plain": [
       "array([0, 1, 2, 3, 4, 5, 6, 7, 8, 9])"
      ]
     },
     "execution_count": 19,
     "metadata": {},
     "output_type": "execute_result"
    }
   ],
   "source": [
    "a"
   ]
  },
  {
   "cell_type": "code",
   "execution_count": 21,
   "id": "8709bb6d-8e32-4dca-937d-99d16a54d2e5",
   "metadata": {},
   "outputs": [
    {
     "data": {
      "text/plain": [
       "array([1., 1., 1., 1., 1., 1., 1., 1., 1., 1.])"
      ]
     },
     "execution_count": 21,
     "metadata": {},
     "output_type": "execute_result"
    }
   ],
   "source": [
    "b = np.ones(10)\n",
    "b"
   ]
  },
  {
   "cell_type": "code",
   "execution_count": 22,
   "id": "d09f6ab5-0ee5-4730-9ab2-2042a9116667",
   "metadata": {},
   "outputs": [
    {
     "data": {
      "text/plain": [
       "array([0., 0., 0., 0., 0., 0., 0., 0., 0., 0.])"
      ]
     },
     "execution_count": 22,
     "metadata": {},
     "output_type": "execute_result"
    }
   ],
   "source": [
    "c = np.zeros(10)\n",
    "c"
   ]
  },
  {
   "cell_type": "code",
   "execution_count": 23,
   "id": "01e1afce-574f-482d-9149-610bcf808dea",
   "metadata": {},
   "outputs": [],
   "source": [
    "d = np.full((2, 3), 1)"
   ]
  },
  {
   "cell_type": "code",
   "execution_count": 24,
   "id": "69c502ef-f507-4078-a3b4-5c4f7f71ed6c",
   "metadata": {},
   "outputs": [
    {
     "data": {
      "text/plain": [
       "array([[1, 1, 1],\n",
       "       [1, 1, 1]])"
      ]
     },
     "execution_count": 24,
     "metadata": {},
     "output_type": "execute_result"
    }
   ],
   "source": [
    "d"
   ]
  },
  {
   "cell_type": "code",
   "execution_count": 25,
   "id": "a3638749-4b18-4ba6-9354-fd64ef02a461",
   "metadata": {},
   "outputs": [
    {
     "data": {
      "text/plain": [
       "array([[1., 0., 0., 0., 0.],\n",
       "       [0., 1., 0., 0., 0.],\n",
       "       [0., 0., 1., 0., 0.],\n",
       "       [0., 0., 0., 1., 0.],\n",
       "       [0., 0., 0., 0., 1.]])"
      ]
     },
     "execution_count": 25,
     "metadata": {},
     "output_type": "execute_result"
    }
   ],
   "source": [
    "np.eye(5)"
   ]
  },
  {
   "cell_type": "code",
   "execution_count": 26,
   "id": "98e755b8-6b82-496f-b4ad-96903dd769e0",
   "metadata": {},
   "outputs": [
    {
     "data": {
      "text/plain": [
       "array([[1., 1., 1.],\n",
       "       [1., 1., 1.],\n",
       "       [1., 1., 1.]])"
      ]
     },
     "execution_count": 26,
     "metadata": {},
     "output_type": "execute_result"
    }
   ],
   "source": [
    "np.ones((3,3))"
   ]
  },
  {
   "cell_type": "code",
   "execution_count": 27,
   "id": "e88a2e61-661b-4b8b-8e66-dff410dab84e",
   "metadata": {},
   "outputs": [
    {
     "data": {
      "text/plain": [
       "array([[0, 0, 0],\n",
       "       [0, 0, 0]])"
      ]
     },
     "execution_count": 27,
     "metadata": {},
     "output_type": "execute_result"
    }
   ],
   "source": [
    "np.zeros_like(d)"
   ]
  },
  {
   "cell_type": "code",
   "execution_count": 29,
   "id": "19e32501-64a5-4b12-8d56-fe615bcd765e",
   "metadata": {},
   "outputs": [
    {
     "data": {
      "text/plain": [
       "array([ 1. ,  5.5, 10. ])"
      ]
     },
     "execution_count": 29,
     "metadata": {},
     "output_type": "execute_result"
    }
   ],
   "source": [
    "np.linspace(1, 10, 3)"
   ]
  },
  {
   "cell_type": "code",
   "execution_count": 30,
   "id": "5873dabb-75cf-4706-9b05-6ec08c2567a0",
   "metadata": {},
   "outputs": [
    {
     "data": {
      "text/plain": [
       "array([1. , 5.5])"
      ]
     },
     "execution_count": 30,
     "metadata": {},
     "output_type": "execute_result"
    }
   ],
   "source": [
    "np.arange(1, 10, 4.5)"
   ]
  },
  {
   "cell_type": "code",
   "execution_count": 31,
   "id": "5615e085-908a-4164-8d37-36ec67469fee",
   "metadata": {},
   "outputs": [],
   "source": [
    "a = np.ones((2, 3, 4))"
   ]
  },
  {
   "cell_type": "code",
   "execution_count": 32,
   "id": "5aae1b5b-745f-4a41-ae62-9fdd1f5ad9e7",
   "metadata": {},
   "outputs": [
    {
     "data": {
      "text/plain": [
       "array([[[1., 1., 1., 1.],\n",
       "        [1., 1., 1., 1.],\n",
       "        [1., 1., 1., 1.]],\n",
       "\n",
       "       [[1., 1., 1., 1.],\n",
       "        [1., 1., 1., 1.],\n",
       "        [1., 1., 1., 1.]]])"
      ]
     },
     "execution_count": 32,
     "metadata": {},
     "output_type": "execute_result"
    }
   ],
   "source": [
    "a"
   ]
  },
  {
   "cell_type": "code",
   "execution_count": 33,
   "id": "48804740-c004-405a-a29a-6d2880f9e33c",
   "metadata": {},
   "outputs": [
    {
     "data": {
      "text/plain": [
       "array([[1., 1., 1., 1., 1., 1.],\n",
       "       [1., 1., 1., 1., 1., 1.],\n",
       "       [1., 1., 1., 1., 1., 1.],\n",
       "       [1., 1., 1., 1., 1., 1.]])"
      ]
     },
     "execution_count": 33,
     "metadata": {},
     "output_type": "execute_result"
    }
   ],
   "source": [
    "a.reshape((4, 6))"
   ]
  },
  {
   "cell_type": "code",
   "execution_count": 34,
   "id": "a5a9e662-1335-4d9b-95af-0fa3438d1905",
   "metadata": {},
   "outputs": [
    {
     "data": {
      "text/plain": [
       "array([[[1., 1., 1., 1.],\n",
       "        [1., 1., 1., 1.],\n",
       "        [1., 1., 1., 1.]],\n",
       "\n",
       "       [[1., 1., 1., 1.],\n",
       "        [1., 1., 1., 1.],\n",
       "        [1., 1., 1., 1.]]])"
      ]
     },
     "execution_count": 34,
     "metadata": {},
     "output_type": "execute_result"
    }
   ],
   "source": [
    "a"
   ]
  },
  {
   "cell_type": "code",
   "execution_count": 35,
   "id": "d08176b6-43e0-4b3c-9328-d4e0663bda40",
   "metadata": {},
   "outputs": [],
   "source": [
    "a.resize((4, 6))"
   ]
  },
  {
   "cell_type": "code",
   "execution_count": 36,
   "id": "6fcfa118-cd04-48dc-9ad1-e40481f1b863",
   "metadata": {},
   "outputs": [
    {
     "data": {
      "text/plain": [
       "array([[1., 1., 1., 1., 1., 1.],\n",
       "       [1., 1., 1., 1., 1., 1.],\n",
       "       [1., 1., 1., 1., 1., 1.],\n",
       "       [1., 1., 1., 1., 1., 1.]])"
      ]
     },
     "execution_count": 36,
     "metadata": {},
     "output_type": "execute_result"
    }
   ],
   "source": [
    "a"
   ]
  },
  {
   "cell_type": "code",
   "execution_count": 39,
   "id": "c70580f3-62e6-4614-afaf-0a5f01edd9fa",
   "metadata": {},
   "outputs": [
    {
     "data": {
      "text/plain": [
       "24"
      ]
     },
     "execution_count": 39,
     "metadata": {},
     "output_type": "execute_result"
    }
   ],
   "source": [
    "a.size"
   ]
  },
  {
   "cell_type": "code",
   "execution_count": 40,
   "id": "e8c75368-bc71-480c-83f2-919cfedfc0f9",
   "metadata": {},
   "outputs": [
    {
     "data": {
      "text/plain": [
       "array([1., 1., 1., 1., 1., 1., 1., 1., 1., 1., 1., 1., 1., 1., 1., 1., 1.,\n",
       "       1., 1., 1., 1., 1., 1., 1.])"
      ]
     },
     "execution_count": 40,
     "metadata": {},
     "output_type": "execute_result"
    }
   ],
   "source": [
    "a.flatten()"
   ]
  },
  {
   "cell_type": "code",
   "execution_count": 43,
   "id": "88d7b00e-82ec-47bd-96e9-5106bee8abb8",
   "metadata": {},
   "outputs": [
    {
     "data": {
      "text/plain": [
       "dtype('float64')"
      ]
     },
     "execution_count": 43,
     "metadata": {},
     "output_type": "execute_result"
    }
   ],
   "source": [
    "a.dtype"
   ]
  },
  {
   "cell_type": "code",
   "execution_count": 45,
   "id": "291bf57e-78c2-4b71-bae1-0b8920fb243e",
   "metadata": {},
   "outputs": [],
   "source": [
    "b = a.astype(np.int32)"
   ]
  },
  {
   "cell_type": "code",
   "execution_count": 46,
   "id": "f8e39c19-f5a8-46eb-834f-21f9a55631bd",
   "metadata": {},
   "outputs": [
    {
     "data": {
      "text/plain": [
       "array([[1, 1, 1, 1, 1, 1],\n",
       "       [1, 1, 1, 1, 1, 1],\n",
       "       [1, 1, 1, 1, 1, 1],\n",
       "       [1, 1, 1, 1, 1, 1]])"
      ]
     },
     "execution_count": 46,
     "metadata": {},
     "output_type": "execute_result"
    }
   ],
   "source": [
    "b"
   ]
  },
  {
   "cell_type": "code",
   "execution_count": 47,
   "id": "29d8c19f-4f52-486e-9fbb-9da6a434ce70",
   "metadata": {},
   "outputs": [
    {
     "data": {
      "text/plain": [
       "dtype('int32')"
      ]
     },
     "execution_count": 47,
     "metadata": {},
     "output_type": "execute_result"
    }
   ],
   "source": [
    "b.dtype"
   ]
  },
  {
   "cell_type": "code",
   "execution_count": 48,
   "id": "5f982aac-48c0-4374-af0b-1ff70739804c",
   "metadata": {},
   "outputs": [],
   "source": [
    "c = b.tolist()"
   ]
  },
  {
   "cell_type": "code",
   "execution_count": 49,
   "id": "eb28cd22-9fc4-4357-a4e2-c5165a95c1fc",
   "metadata": {},
   "outputs": [
    {
     "data": {
      "text/plain": [
       "[[1, 1, 1, 1, 1, 1],\n",
       " [1, 1, 1, 1, 1, 1],\n",
       " [1, 1, 1, 1, 1, 1],\n",
       " [1, 1, 1, 1, 1, 1]]"
      ]
     },
     "execution_count": 49,
     "metadata": {},
     "output_type": "execute_result"
    }
   ],
   "source": [
    "c"
   ]
  },
  {
   "cell_type": "code",
   "execution_count": 50,
   "id": "27b02073-3332-4f69-b4bb-3f00d1c59266",
   "metadata": {},
   "outputs": [
    {
     "data": {
      "text/plain": [
       "array([[1., 1., 1., 1., 1., 1.],\n",
       "       [1., 1., 1., 1., 1., 1.],\n",
       "       [1., 1., 1., 1., 1., 1.],\n",
       "       [1., 1., 1., 1., 1., 1.]])"
      ]
     },
     "execution_count": 50,
     "metadata": {},
     "output_type": "execute_result"
    }
   ],
   "source": [
    "a"
   ]
  },
  {
   "cell_type": "code",
   "execution_count": 51,
   "id": "5349c62a-10b1-4d00-940f-dcf45622b0cf",
   "metadata": {},
   "outputs": [
    {
     "data": {
      "text/plain": [
       "array([1., 1., 1., 1., 1., 1., 1., 1., 1., 1., 1., 1., 1., 1., 1., 1., 1.,\n",
       "       1., 1., 1., 1., 1., 1., 1.])"
      ]
     },
     "execution_count": 51,
     "metadata": {},
     "output_type": "execute_result"
    }
   ],
   "source": [
    "a.ravel()"
   ]
  },
  {
   "cell_type": "code",
   "execution_count": 52,
   "id": "9ebae2b0-746f-4c24-bde4-87993055c118",
   "metadata": {},
   "outputs": [
    {
     "data": {
      "text/plain": [
       "array([[1., 1., 1., 1., 1., 1.],\n",
       "       [1., 1., 1., 1., 1., 1.],\n",
       "       [1., 1., 1., 1., 1., 1.],\n",
       "       [1., 1., 1., 1., 1., 1.]])"
      ]
     },
     "execution_count": 52,
     "metadata": {},
     "output_type": "execute_result"
    }
   ],
   "source": [
    "a"
   ]
  },
  {
   "cell_type": "code",
   "execution_count": 53,
   "id": "cdbb0223-7fdb-43e1-be20-d0914feb655c",
   "metadata": {},
   "outputs": [
    {
     "data": {
      "text/plain": [
       "array([1., 1., 1., 1., 1., 1., 1., 1., 1., 1., 1., 1., 1., 1., 1., 1., 1.,\n",
       "       1., 1., 1., 1., 1., 1., 1.])"
      ]
     },
     "execution_count": 53,
     "metadata": {},
     "output_type": "execute_result"
    }
   ],
   "source": [
    "a.flatten()"
   ]
  },
  {
   "cell_type": "code",
   "execution_count": 54,
   "id": "f635a86d-ec33-458d-8569-a29fa560ba60",
   "metadata": {},
   "outputs": [
    {
     "data": {
      "text/plain": [
       "array([[1., 1., 1., 1., 1., 1.],\n",
       "       [1., 1., 1., 1., 1., 1.],\n",
       "       [1., 1., 1., 1., 1., 1.],\n",
       "       [1., 1., 1., 1., 1., 1.]])"
      ]
     },
     "execution_count": 54,
     "metadata": {},
     "output_type": "execute_result"
    }
   ],
   "source": [
    "a"
   ]
  },
  {
   "cell_type": "code",
   "execution_count": 55,
   "id": "62f37d78-a53f-4f3e-9ab9-9255ad201bea",
   "metadata": {},
   "outputs": [],
   "source": [
    "a = np.arange(24).reshape(2, 3, 4)"
   ]
  },
  {
   "cell_type": "code",
   "execution_count": 56,
   "id": "5e87add5-6be3-44a9-9f65-952152f6f338",
   "metadata": {},
   "outputs": [
    {
     "data": {
      "text/plain": [
       "array([[[ 0,  1,  2,  3],\n",
       "        [ 4,  5,  6,  7],\n",
       "        [ 8,  9, 10, 11]],\n",
       "\n",
       "       [[12, 13, 14, 15],\n",
       "        [16, 17, 18, 19],\n",
       "        [20, 21, 22, 23]]])"
      ]
     },
     "execution_count": 56,
     "metadata": {},
     "output_type": "execute_result"
    }
   ],
   "source": [
    "a"
   ]
  },
  {
   "cell_type": "code",
   "execution_count": 57,
   "id": "cd72b431-eb33-4595-9fd5-edb8fe405857",
   "metadata": {},
   "outputs": [
    {
     "data": {
      "text/plain": [
       "23"
      ]
     },
     "execution_count": 57,
     "metadata": {},
     "output_type": "execute_result"
    }
   ],
   "source": [
    "a[1, 2, 3]"
   ]
  },
  {
   "cell_type": "code",
   "execution_count": 58,
   "id": "95791d35-b7f4-4421-bbd6-752c449939a8",
   "metadata": {},
   "outputs": [
    {
     "data": {
      "text/plain": [
       "array([11, 23])"
      ]
     },
     "execution_count": 58,
     "metadata": {},
     "output_type": "execute_result"
    }
   ],
   "source": [
    "a[:, 2, 3]"
   ]
  },
  {
   "cell_type": "code",
   "execution_count": 59,
   "id": "5fac94ef-f6cf-4e12-872c-9f2aa6eb12e9",
   "metadata": {},
   "outputs": [
    {
     "data": {
      "text/plain": [
       "array([[ 7, 11],\n",
       "       [19, 23]])"
      ]
     },
     "execution_count": 59,
     "metadata": {},
     "output_type": "execute_result"
    }
   ],
   "source": [
    "a[:, 1:3, 3]"
   ]
  },
  {
   "cell_type": "code",
   "execution_count": 60,
   "id": "90251922-7b8f-46fd-a30d-b50c14c9586f",
   "metadata": {},
   "outputs": [
    {
     "data": {
      "text/plain": [
       "array([[[ 0,  2],\n",
       "        [ 4,  6],\n",
       "        [ 8, 10]],\n",
       "\n",
       "       [[12, 14],\n",
       "        [16, 18],\n",
       "        [20, 22]]])"
      ]
     },
     "execution_count": 60,
     "metadata": {},
     "output_type": "execute_result"
    }
   ],
   "source": [
    "a[:, :, ::2]"
   ]
  },
  {
   "cell_type": "code",
   "execution_count": 61,
   "id": "5d57c529-0b46-4128-a829-809337b9c798",
   "metadata": {},
   "outputs": [
    {
     "data": {
      "text/plain": [
       "array([[[ 0,  1,  2,  3],\n",
       "        [ 4,  5,  6,  7],\n",
       "        [ 8,  9, 10, 11]],\n",
       "\n",
       "       [[12, 13, 14, 15],\n",
       "        [16, 17, 18, 19],\n",
       "        [20, 21, 22, 23]]])"
      ]
     },
     "execution_count": 61,
     "metadata": {},
     "output_type": "execute_result"
    }
   ],
   "source": [
    "a"
   ]
  },
  {
   "cell_type": "code",
   "execution_count": 62,
   "id": "3dcc4b30-146a-417c-92a6-61570882b9a4",
   "metadata": {},
   "outputs": [
    {
     "data": {
      "text/plain": [
       "11.5"
      ]
     },
     "execution_count": 62,
     "metadata": {},
     "output_type": "execute_result"
    }
   ],
   "source": [
    "a.mean()"
   ]
  },
  {
   "cell_type": "code",
   "execution_count": 63,
   "id": "58e66477-1359-45cf-ad6c-50f1ada0b561",
   "metadata": {},
   "outputs": [
    {
     "data": {
      "text/plain": [
       "array([[[0.        , 0.08695652, 0.17391304, 0.26086957],\n",
       "        [0.34782609, 0.43478261, 0.52173913, 0.60869565],\n",
       "        [0.69565217, 0.7826087 , 0.86956522, 0.95652174]],\n",
       "\n",
       "       [[1.04347826, 1.13043478, 1.2173913 , 1.30434783],\n",
       "        [1.39130435, 1.47826087, 1.56521739, 1.65217391],\n",
       "        [1.73913043, 1.82608696, 1.91304348, 2.        ]]])"
      ]
     },
     "execution_count": 63,
     "metadata": {},
     "output_type": "execute_result"
    }
   ],
   "source": [
    "a = a / a.mean()\n",
    "a"
   ]
  },
  {
   "cell_type": "code",
   "execution_count": 64,
   "id": "27909efe-2a43-495f-85f3-1357fc54f565",
   "metadata": {},
   "outputs": [
    {
     "data": {
      "text/plain": [
       "array([[[0.        , 0.08695652, 0.17391304, 0.26086957],\n",
       "        [0.34782609, 0.43478261, 0.52173913, 0.60869565],\n",
       "        [0.69565217, 0.7826087 , 0.86956522, 0.95652174]],\n",
       "\n",
       "       [[1.04347826, 1.13043478, 1.2173913 , 1.30434783],\n",
       "        [1.39130435, 1.47826087, 1.56521739, 1.65217391],\n",
       "        [1.73913043, 1.82608696, 1.91304348, 2.        ]]])"
      ]
     },
     "execution_count": 64,
     "metadata": {},
     "output_type": "execute_result"
    }
   ],
   "source": [
    "np.abs(a)"
   ]
  },
  {
   "cell_type": "code",
   "execution_count": 66,
   "id": "ac0d7f2e-6c20-4dde-a5e1-fdc73067711e",
   "metadata": {},
   "outputs": [
    {
     "data": {
      "text/plain": [
       "array([[[ 0,  1,  2,  3],\n",
       "        [ 4,  5,  6,  7],\n",
       "        [ 8,  9, 10, 11]],\n",
       "\n",
       "       [[12, 13, 14, 15],\n",
       "        [16, 17, 18, 19],\n",
       "        [20, 21, 22, 23]]])"
      ]
     },
     "execution_count": 66,
     "metadata": {},
     "output_type": "execute_result"
    }
   ],
   "source": [
    "a = np.arange(24).reshape(2, 3, 4)\n",
    "a"
   ]
  },
  {
   "cell_type": "code",
   "execution_count": 67,
   "id": "5756f70b-af61-4f2d-87d3-1b7069b4a186",
   "metadata": {},
   "outputs": [
    {
     "data": {
      "text/plain": [
       "array([[[0.        , 1.        , 1.41421356, 1.73205081],\n",
       "        [2.        , 2.23606798, 2.44948974, 2.64575131],\n",
       "        [2.82842712, 3.        , 3.16227766, 3.31662479]],\n",
       "\n",
       "       [[3.46410162, 3.60555128, 3.74165739, 3.87298335],\n",
       "        [4.        , 4.12310563, 4.24264069, 4.35889894],\n",
       "        [4.47213595, 4.58257569, 4.69041576, 4.79583152]]])"
      ]
     },
     "execution_count": 67,
     "metadata": {},
     "output_type": "execute_result"
    }
   ],
   "source": [
    "np.sqrt(a)"
   ]
  },
  {
   "cell_type": "code",
   "execution_count": 68,
   "id": "e8a56ee3-1ae9-453f-ba1f-374461ed1760",
   "metadata": {},
   "outputs": [],
   "source": [
    "a = np.mat('1 2 3 4')\n",
    "b = np.mat('2 2 2 2')\n"
   ]
  },
  {
   "cell_type": "code",
   "execution_count": 69,
   "id": "3ede0705-f8c5-49a0-bacc-fb1be1ceba79",
   "metadata": {},
   "outputs": [
    {
     "data": {
      "text/plain": [
       "matrix([[1, 2, 3, 4]])"
      ]
     },
     "execution_count": 69,
     "metadata": {},
     "output_type": "execute_result"
    }
   ],
   "source": [
    "a"
   ]
  },
  {
   "cell_type": "code",
   "execution_count": 70,
   "id": "9017ecd3-ce95-4d2e-b498-dad58837d263",
   "metadata": {},
   "outputs": [
    {
     "data": {
      "text/plain": [
       "array([1, 2, 3, 4])"
      ]
     },
     "execution_count": 70,
     "metadata": {},
     "output_type": "execute_result"
    }
   ],
   "source": [
    "c = np.array([1, 2, 3 ,4])\n",
    "c"
   ]
  },
  {
   "cell_type": "code",
   "execution_count": 71,
   "id": "d0914372-8b8e-43ad-a9df-37b7161f5326",
   "metadata": {},
   "outputs": [
    {
     "data": {
      "text/plain": [
       "(4,)"
      ]
     },
     "execution_count": 71,
     "metadata": {},
     "output_type": "execute_result"
    }
   ],
   "source": [
    "c.shape"
   ]
  },
  {
   "cell_type": "code",
   "execution_count": 72,
   "id": "beeb402f-f6e5-4aad-92f7-30cd1af5cece",
   "metadata": {},
   "outputs": [
    {
     "data": {
      "text/plain": [
       "(1, 4)"
      ]
     },
     "execution_count": 72,
     "metadata": {},
     "output_type": "execute_result"
    }
   ],
   "source": [
    "a.shape"
   ]
  },
  {
   "cell_type": "code",
   "execution_count": 73,
   "id": "169b3f30-a76f-4e4b-9be2-72926e925b9a",
   "metadata": {},
   "outputs": [
    {
     "ename": "ValueError",
     "evalue": "shapes (1,4) and (1,4) not aligned: 4 (dim 1) != 1 (dim 0)",
     "output_type": "error",
     "traceback": [
      "\u001b[1;31m---------------------------------------------------------------------------\u001b[0m",
      "\u001b[1;31mValueError\u001b[0m                                Traceback (most recent call last)",
      "\u001b[1;32m~\\AppData\\Local\\Temp/ipykernel_2340/937666681.py\u001b[0m in \u001b[0;36m<module>\u001b[1;34m\u001b[0m\n\u001b[1;32m----> 1\u001b[1;33m \u001b[0ma\u001b[0m \u001b[1;33m*\u001b[0m \u001b[0mb\u001b[0m\u001b[1;33m\u001b[0m\u001b[1;33m\u001b[0m\u001b[0m\n\u001b[0m",
      "\u001b[1;32m~\\anaconda3\\lib\\site-packages\\numpy\\matrixlib\\defmatrix.py\u001b[0m in \u001b[0;36m__mul__\u001b[1;34m(self, other)\u001b[0m\n\u001b[0;32m    216\u001b[0m         \u001b[1;32mif\u001b[0m \u001b[0misinstance\u001b[0m\u001b[1;33m(\u001b[0m\u001b[0mother\u001b[0m\u001b[1;33m,\u001b[0m \u001b[1;33m(\u001b[0m\u001b[0mN\u001b[0m\u001b[1;33m.\u001b[0m\u001b[0mndarray\u001b[0m\u001b[1;33m,\u001b[0m \u001b[0mlist\u001b[0m\u001b[1;33m,\u001b[0m \u001b[0mtuple\u001b[0m\u001b[1;33m)\u001b[0m\u001b[1;33m)\u001b[0m \u001b[1;33m:\u001b[0m\u001b[1;33m\u001b[0m\u001b[1;33m\u001b[0m\u001b[0m\n\u001b[0;32m    217\u001b[0m             \u001b[1;31m# This promotes 1-D vectors to row vectors\u001b[0m\u001b[1;33m\u001b[0m\u001b[1;33m\u001b[0m\u001b[0m\n\u001b[1;32m--> 218\u001b[1;33m             \u001b[1;32mreturn\u001b[0m \u001b[0mN\u001b[0m\u001b[1;33m.\u001b[0m\u001b[0mdot\u001b[0m\u001b[1;33m(\u001b[0m\u001b[0mself\u001b[0m\u001b[1;33m,\u001b[0m \u001b[0masmatrix\u001b[0m\u001b[1;33m(\u001b[0m\u001b[0mother\u001b[0m\u001b[1;33m)\u001b[0m\u001b[1;33m)\u001b[0m\u001b[1;33m\u001b[0m\u001b[1;33m\u001b[0m\u001b[0m\n\u001b[0m\u001b[0;32m    219\u001b[0m         \u001b[1;32mif\u001b[0m \u001b[0misscalar\u001b[0m\u001b[1;33m(\u001b[0m\u001b[0mother\u001b[0m\u001b[1;33m)\u001b[0m \u001b[1;32mor\u001b[0m \u001b[1;32mnot\u001b[0m \u001b[0mhasattr\u001b[0m\u001b[1;33m(\u001b[0m\u001b[0mother\u001b[0m\u001b[1;33m,\u001b[0m \u001b[1;34m'__rmul__'\u001b[0m\u001b[1;33m)\u001b[0m \u001b[1;33m:\u001b[0m\u001b[1;33m\u001b[0m\u001b[1;33m\u001b[0m\u001b[0m\n\u001b[0;32m    220\u001b[0m             \u001b[1;32mreturn\u001b[0m \u001b[0mN\u001b[0m\u001b[1;33m.\u001b[0m\u001b[0mdot\u001b[0m\u001b[1;33m(\u001b[0m\u001b[0mself\u001b[0m\u001b[1;33m,\u001b[0m \u001b[0mother\u001b[0m\u001b[1;33m)\u001b[0m\u001b[1;33m\u001b[0m\u001b[1;33m\u001b[0m\u001b[0m\n",
      "\u001b[1;32m<__array_function__ internals>\u001b[0m in \u001b[0;36mdot\u001b[1;34m(*args, **kwargs)\u001b[0m\n",
      "\u001b[1;31mValueError\u001b[0m: shapes (1,4) and (1,4) not aligned: 4 (dim 1) != 1 (dim 0)"
     ]
    }
   ],
   "source": [
    "a * b"
   ]
  },
  {
   "cell_type": "code",
   "execution_count": 74,
   "id": "177d7588-2cbd-4df0-acec-e576f1a896e5",
   "metadata": {},
   "outputs": [
    {
     "data": {
      "text/plain": [
       "matrix([[2, 4, 6, 8]])"
      ]
     },
     "execution_count": 74,
     "metadata": {},
     "output_type": "execute_result"
    }
   ],
   "source": [
    "np.multiply(a, b)"
   ]
  },
  {
   "cell_type": "code",
   "execution_count": 75,
   "id": "55cce649-b0d3-4ae1-a1bb-d5acb478ea6e",
   "metadata": {},
   "outputs": [],
   "source": [
    "a = np.arange(12).reshape(3, 4)"
   ]
  },
  {
   "cell_type": "code",
   "execution_count": 76,
   "id": "8bb8acfb-561a-414c-a3cd-c2263f9f7469",
   "metadata": {},
   "outputs": [
    {
     "data": {
      "text/plain": [
       "array([[ 0,  1,  2,  3],\n",
       "       [ 4,  5,  6,  7],\n",
       "       [ 8,  9, 10, 11]])"
      ]
     },
     "execution_count": 76,
     "metadata": {},
     "output_type": "execute_result"
    }
   ],
   "source": [
    "a"
   ]
  },
  {
   "cell_type": "code",
   "execution_count": 77,
   "id": "f7be2398-2c98-4250-9c51-dbeefa4fcb19",
   "metadata": {},
   "outputs": [
    {
     "data": {
      "text/plain": [
       "array([[ 0,  4,  8],\n",
       "       [ 1,  5,  9],\n",
       "       [ 2,  6, 10],\n",
       "       [ 3,  7, 11]])"
      ]
     },
     "execution_count": 77,
     "metadata": {},
     "output_type": "execute_result"
    }
   ],
   "source": [
    "a.T"
   ]
  },
  {
   "cell_type": "code",
   "execution_count": 78,
   "id": "18b80e00-3235-43c6-ad4d-5baef744c554",
   "metadata": {},
   "outputs": [
    {
     "data": {
      "text/plain": [
       "(3, 4)"
      ]
     },
     "execution_count": 78,
     "metadata": {},
     "output_type": "execute_result"
    }
   ],
   "source": [
    "a.shape"
   ]
  },
  {
   "cell_type": "code",
   "execution_count": 79,
   "id": "de2120ae-4b64-4257-aed7-70ad577bace4",
   "metadata": {},
   "outputs": [
    {
     "data": {
      "text/plain": [
       "array([[ 0,  4,  8],\n",
       "       [ 1,  5,  9],\n",
       "       [ 2,  6, 10],\n",
       "       [ 3,  7, 11]])"
      ]
     },
     "execution_count": 79,
     "metadata": {},
     "output_type": "execute_result"
    }
   ],
   "source": [
    "a.transpose()"
   ]
  },
  {
   "cell_type": "code",
   "execution_count": 80,
   "id": "d84bef56-c81c-4aa1-a037-ccfa8195d52d",
   "metadata": {},
   "outputs": [],
   "source": [
    "c = np.random.randn(3, 3)"
   ]
  },
  {
   "cell_type": "code",
   "execution_count": 81,
   "id": "6e624cd4-f65d-4388-9745-3f4064edf96e",
   "metadata": {},
   "outputs": [
    {
     "data": {
      "text/plain": [
       "array([[ 0.81385371,  1.08369481, -2.61605081],\n",
       "       [-0.68064121,  0.63639044, -0.15285719],\n",
       "       [ 0.44184384,  0.05588125,  0.95877704]])"
      ]
     },
     "execution_count": 81,
     "metadata": {},
     "output_type": "execute_result"
    }
   ],
   "source": [
    "c"
   ]
  },
  {
   "cell_type": "code",
   "execution_count": 82,
   "id": "d3c41a37-bea4-4f4f-a09e-a29ecd6eaeb8",
   "metadata": {},
   "outputs": [
    {
     "data": {
      "text/plain": [
       "array([[ 0.81385371, -0.68064121,  0.44184384],\n",
       "       [ 1.08369481,  0.63639044,  0.05588125],\n",
       "       [-2.61605081, -0.15285719,  0.95877704]])"
      ]
     },
     "execution_count": 82,
     "metadata": {},
     "output_type": "execute_result"
    }
   ],
   "source": [
    "c.T"
   ]
  },
  {
   "cell_type": "code",
   "execution_count": 83,
   "id": "27ecec90-137f-4709-a166-51399f53911c",
   "metadata": {},
   "outputs": [
    {
     "data": {
      "text/plain": [
       "array([[ 8.68047413,  0.53559281, -2.08805498],\n",
       "       [ 0.53559281,  0.89163056, -0.41173079],\n",
       "       [-2.08805498, -0.41173079,  1.11760211]])"
      ]
     },
     "execution_count": 83,
     "metadata": {},
     "output_type": "execute_result"
    }
   ],
   "source": [
    "np.dot(c, c.T)"
   ]
  },
  {
   "cell_type": "code",
   "execution_count": 84,
   "id": "785b036c-ed0b-4c8c-b3a9-93cc4173b8b6",
   "metadata": {},
   "outputs": [],
   "source": [
    "x = np.arange(0, 10, 2)\n",
    "y = np.arange(5)"
   ]
  },
  {
   "cell_type": "code",
   "execution_count": 86,
   "id": "41f36c57-739e-408b-9933-191cdecdbd01",
   "metadata": {},
   "outputs": [
    {
     "data": {
      "text/plain": [
       "array([[0, 2, 4, 6, 8],\n",
       "       [0, 1, 2, 3, 4]])"
      ]
     },
     "execution_count": 86,
     "metadata": {},
     "output_type": "execute_result"
    }
   ],
   "source": [
    "np.vstack([x, y])"
   ]
  },
  {
   "cell_type": "code",
   "execution_count": 87,
   "id": "a227ce48-49f5-478e-be99-e0894d528324",
   "metadata": {},
   "outputs": [
    {
     "data": {
      "text/plain": [
       "array([0, 2, 4, 6, 8, 0, 1, 2, 3, 4])"
      ]
     },
     "execution_count": 87,
     "metadata": {},
     "output_type": "execute_result"
    }
   ],
   "source": [
    "np.hstack([x, y])"
   ]
  },
  {
   "cell_type": "code",
   "execution_count": 89,
   "id": "a942f786-b836-45ac-be48-70b3330e2930",
   "metadata": {},
   "outputs": [],
   "source": [
    "import matplotlib.pyplot as plt\n"
   ]
  },
  {
   "cell_type": "code",
   "execution_count": 91,
   "id": "d460abe0-be60-4698-b7da-36f876eaf37d",
   "metadata": {},
   "outputs": [],
   "source": [
    "v = np.random.normal(2, 0.5, 10000)"
   ]
  },
  {
   "cell_type": "code",
   "execution_count": null,
   "id": "35929fb5-77b5-4785-ba3e-8fcc5075c5cf",
   "metadata": {},
   "outputs": [],
   "source": []
  },
  {
   "cell_type": "code",
   "execution_count": 92,
   "id": "9c5199a0-cbda-4f54-83ee-681bd7724d37",
   "metadata": {},
   "outputs": [
    {
     "data": {
      "text/plain": [
       "array([1.84560074, 2.77146712, 1.93075592, ..., 2.41437271, 2.00416839,\n",
       "       2.00686107])"
      ]
     },
     "execution_count": 92,
     "metadata": {},
     "output_type": "execute_result"
    }
   ],
   "source": [
    "v"
   ]
  },
  {
   "cell_type": "code",
   "execution_count": 93,
   "id": "cc70102b-19e1-4024-a615-145c7befa431",
   "metadata": {},
   "outputs": [
    {
     "data": {
      "text/plain": [
       "(10000,)"
      ]
     },
     "execution_count": 93,
     "metadata": {},
     "output_type": "execute_result"
    }
   ],
   "source": [
    "v.shape"
   ]
  },
  {
   "cell_type": "code",
   "execution_count": 95,
   "id": "25cda491-00ea-48c6-abbb-9bdcd995126f",
   "metadata": {},
   "outputs": [
    {
     "data": {
      "text/plain": [
       "(array([0.00272417, 0.00681043, 0.00681043, 0.00408626, 0.00681043,\n",
       "        0.01498295, 0.01770713, 0.02724173, 0.03677634, 0.03813843,\n",
       "        0.08308729, 0.0926219 , 0.14301911, 0.18796797, 0.21248553,\n",
       "        0.2778657 , 0.34597003, 0.43041941, 0.45493697, 0.565266  ,\n",
       "        0.62519781, 0.67559502, 0.68512963, 0.76276858, 0.83359709,\n",
       "        0.80226909, 0.79818283, 0.70964719, 0.72871641, 0.68240546,\n",
       "        0.58842147, 0.50124792, 0.45493697, 0.37321177, 0.34052169,\n",
       "        0.27922778, 0.22883057, 0.16889876, 0.12394989, 0.1130532 ,\n",
       "        0.0612939 , 0.04903512, 0.0204313 , 0.01362087, 0.01498295,\n",
       "        0.01089669, 0.00681043, 0.00408626, 0.00408626, 0.00408626]),\n",
       " array([0.13866111, 0.21207788, 0.28549464, 0.3589114 , 0.43232817,\n",
       "        0.50574493, 0.57916169, 0.65257846, 0.72599522, 0.79941198,\n",
       "        0.87282875, 0.94624551, 1.01966227, 1.09307904, 1.1664958 ,\n",
       "        1.23991256, 1.31332933, 1.38674609, 1.46016285, 1.53357962,\n",
       "        1.60699638, 1.68041314, 1.75382991, 1.82724667, 1.90066343,\n",
       "        1.9740802 , 2.04749696, 2.12091372, 2.19433049, 2.26774725,\n",
       "        2.34116401, 2.41458078, 2.48799754, 2.5614143 , 2.63483107,\n",
       "        2.70824783, 2.78166459, 2.85508136, 2.92849812, 3.00191488,\n",
       "        3.07533165, 3.14874841, 3.22216517, 3.29558194, 3.3689987 ,\n",
       "        3.44241546, 3.51583223, 3.58924899, 3.66266575, 3.73608252,\n",
       "        3.80949928]),\n",
       " <BarContainer object of 50 artists>)"
      ]
     },
     "execution_count": 95,
     "metadata": {},
     "output_type": "execute_result"
    },
    {
     "data": {
      "image/png": "[encoded data removed]",
      "text/plain": [
       "<Figure size 432x288 with 1 Axes>"
      ]
     },
     "metadata": {
      "needs_background": "light"
     },
     "output_type": "display_data"
    }
   ],
   "source": [
    "plt.hist(v, bins=50, density=1)"
   ]
  },
  {
   "cell_type": "code",
   "execution_count": null,
   "id": "23f5725b-a05c-43e8-b317-5c201f40cbe8",
   "metadata": {},
   "outputs": [],
   "source": [
    "np.array([])"
   ]
  },
  {
   "cell_type": "code",
   "execution_count": null,
   "id": "98424d83-4b58-493c-bde2-9e4532cb3edc",
   "metadata": {},
   "outputs": [],
   "source": []
  },
  {
   "cell_type": "code",
   "execution_count": 96,
   "id": "0d4e41e8-ab3c-4bdb-a9e8-5bc2bca92148",
   "metadata": {},
   "outputs": [],
   "source": [
    "a = np.arange(100).reshape(5, 20)"
   ]
  },
  {
   "cell_type": "code",
   "execution_count": 97,
   "id": "da32a6d9-5e70-457b-a5c7-aa9e38971960",
   "metadata": {},
   "outputs": [
    {
     "data": {
      "text/plain": [
       "array([[ 0,  1,  2,  3,  4,  5,  6,  7,  8,  9, 10, 11, 12, 13, 14, 15,\n",
       "        16, 17, 18, 19],\n",
       "       [20, 21, 22, 23, 24, 25, 26, 27, 28, 29, 30, 31, 32, 33, 34, 35,\n",
       "        36, 37, 38, 39],\n",
       "       [40, 41, 42, 43, 44, 45, 46, 47, 48, 49, 50, 51, 52, 53, 54, 55,\n",
       "        56, 57, 58, 59],\n",
       "       [60, 61, 62, 63, 64, 65, 66, 67, 68, 69, 70, 71, 72, 73, 74, 75,\n",
       "        76, 77, 78, 79],\n",
       "       [80, 81, 82, 83, 84, 85, 86, 87, 88, 89, 90, 91, 92, 93, 94, 95,\n",
       "        96, 97, 98, 99]])"
      ]
     },
     "execution_count": 97,
     "metadata": {},
     "output_type": "execute_result"
    }
   ],
   "source": [
    "a"
   ]
  },
  {
   "cell_type": "code",
   "execution_count": 98,
   "id": "2f39209c-3089-4585-8aa7-d856c4e4d95e",
   "metadata": {},
   "outputs": [],
   "source": [
    "np.savetxt('a.csv', a, fmt='%d', delimiter=',')"
   ]
  },
  {
   "cell_type": "code",
   "execution_count": 99,
   "id": "d2ec1723-ce14-4363-838b-818d159b9ed8",
   "metadata": {},
   "outputs": [],
   "source": [
    "b = np.loadtxt('a.csv', delimiter=',')\n"
   ]
  },
  {
   "cell_type": "code",
   "execution_count": 100,
   "id": "9c832a05-210f-4158-9538-1fd9869e594b",
   "metadata": {},
   "outputs": [
    {
     "data": {
      "text/plain": [
       "array([[1.0e+04, 1.0e+00, 2.0e+00, 3.0e+00, 4.0e+00, 5.0e+00, 6.0e+00,\n",
       "        7.0e+00, 8.0e+00, 9.0e+00, 1.0e+01, 1.1e+01, 1.2e+01, 1.3e+01,\n",
       "        1.4e+01, 1.5e+01, 1.6e+01, 1.7e+01, 1.8e+01, 1.9e+01],\n",
       "       [2.0e+01, 2.1e+01, 2.2e+01, 2.3e+01, 2.4e+01, 2.5e+01, 2.6e+01,\n",
       "        2.7e+01, 2.8e+01, 2.9e+01, 3.0e+01, 3.1e+01, 3.2e+01, 3.3e+01,\n",
       "        3.4e+01, 3.5e+01, 3.6e+01, 3.7e+01, 3.8e+01, 3.9e+01],\n",
       "       [4.0e+01, 4.1e+01, 4.2e+01, 4.3e+01, 4.4e+01, 4.5e+01, 4.6e+01,\n",
       "        4.7e+01, 4.8e+01, 4.9e+01, 5.0e+01, 5.1e+01, 5.2e+01, 5.3e+01,\n",
       "        5.4e+01, 5.5e+01, 5.6e+01, 5.7e+01, 5.8e+01, 5.9e+01],\n",
       "       [6.0e+01, 6.1e+01, 6.2e+01, 6.3e+01, 6.4e+01, 6.5e+01, 6.6e+01,\n",
       "        6.7e+01, 6.8e+01, 6.9e+01, 7.0e+01, 7.1e+01, 7.2e+01, 7.3e+01,\n",
       "        7.4e+01, 7.5e+01, 7.6e+01, 7.7e+01, 7.8e+01, 7.9e+01],\n",
       "       [8.0e+01, 8.1e+01, 8.2e+01, 8.3e+01, 8.4e+01, 8.5e+01, 8.6e+01,\n",
       "        8.7e+01, 8.8e+01, 8.9e+01, 9.0e+01, 9.1e+01, 9.2e+01, 9.3e+01,\n",
       "        9.4e+01, 9.5e+01, 9.6e+01, 9.7e+01, 9.8e+01, 9.9e+01]])"
      ]
     },
     "execution_count": 100,
     "metadata": {},
     "output_type": "execute_result"
    }
   ],
   "source": [
    "b"
   ]
  },
  {
   "cell_type": "code",
   "execution_count": 103,
   "id": "97396529-80c4-4db3-a573-a51fbe133264",
   "metadata": {},
   "outputs": [],
   "source": [
    "c = np.loadtxt('a.csv',  delimiter=',')"
   ]
  },
  {
   "cell_type": "code",
   "execution_count": 104,
   "id": "58deebdf-540a-4ae3-a3a3-4ddcd0c93b5b",
   "metadata": {},
   "outputs": [],
   "source": [
    "a = np.arange(100).reshape(5, 10, 2)"
   ]
  },
  {
   "cell_type": "code",
   "execution_count": 105,
   "id": "b818c6fd-bdd9-4c06-874c-34ab77ff2068",
   "metadata": {},
   "outputs": [
    {
     "data": {
      "text/plain": [
       "array([[[ 0,  1],\n",
       "        [ 2,  3],\n",
       "        [ 4,  5],\n",
       "        [ 6,  7],\n",
       "        [ 8,  9],\n",
       "        [10, 11],\n",
       "        [12, 13],\n",
       "        [14, 15],\n",
       "        [16, 17],\n",
       "        [18, 19]],\n",
       "\n",
       "       [[20, 21],\n",
       "        [22, 23],\n",
       "        [24, 25],\n",
       "        [26, 27],\n",
       "        [28, 29],\n",
       "        [30, 31],\n",
       "        [32, 33],\n",
       "        [34, 35],\n",
       "        [36, 37],\n",
       "        [38, 39]],\n",
       "\n",
       "       [[40, 41],\n",
       "        [42, 43],\n",
       "        [44, 45],\n",
       "        [46, 47],\n",
       "        [48, 49],\n",
       "        [50, 51],\n",
       "        [52, 53],\n",
       "        [54, 55],\n",
       "        [56, 57],\n",
       "        [58, 59]],\n",
       "\n",
       "       [[60, 61],\n",
       "        [62, 63],\n",
       "        [64, 65],\n",
       "        [66, 67],\n",
       "        [68, 69],\n",
       "        [70, 71],\n",
       "        [72, 73],\n",
       "        [74, 75],\n",
       "        [76, 77],\n",
       "        [78, 79]],\n",
       "\n",
       "       [[80, 81],\n",
       "        [82, 83],\n",
       "        [84, 85],\n",
       "        [86, 87],\n",
       "        [88, 89],\n",
       "        [90, 91],\n",
       "        [92, 93],\n",
       "        [94, 95],\n",
       "        [96, 97],\n",
       "        [98, 99]]])"
      ]
     },
     "execution_count": 105,
     "metadata": {},
     "output_type": "execute_result"
    }
   ],
   "source": [
    "a"
   ]
  },
  {
   "cell_type": "code",
   "execution_count": 106,
   "id": "5089d5f4-7ac5-44fb-af18-0ca7f7f30eb0",
   "metadata": {},
   "outputs": [
    {
     "ename": "ValueError",
     "evalue": "Expected 1D or 2D array, got 0D array instead",
     "output_type": "error",
     "traceback": [
      "\u001b[1;31m---------------------------------------------------------------------------\u001b[0m",
      "\u001b[1;31mValueError\u001b[0m                                Traceback (most recent call last)",
      "\u001b[1;32m~\\AppData\\Local\\Temp/ipykernel_2340/51510541.py\u001b[0m in \u001b[0;36m<module>\u001b[1;34m\u001b[0m\n\u001b[1;32m----> 1\u001b[1;33m \u001b[0mnp\u001b[0m\u001b[1;33m.\u001b[0m\u001b[0msavetxt\u001b[0m\u001b[1;33m(\u001b[0m\u001b[1;34m'b.csv'\u001b[0m\u001b[1;33m,\u001b[0m \u001b[1;34m'a'\u001b[0m\u001b[1;33m,\u001b[0m \u001b[0mdelimiter\u001b[0m\u001b[1;33m=\u001b[0m\u001b[1;34m','\u001b[0m\u001b[1;33m)\u001b[0m\u001b[1;33m\u001b[0m\u001b[1;33m\u001b[0m\u001b[0m\n\u001b[0m",
      "\u001b[1;32m<__array_function__ internals>\u001b[0m in \u001b[0;36msavetxt\u001b[1;34m(*args, **kwargs)\u001b[0m\n",
      "\u001b[1;32m~\\anaconda3\\lib\\site-packages\\numpy\\lib\\npyio.py\u001b[0m in \u001b[0;36msavetxt\u001b[1;34m(fname, X, fmt, delimiter, newline, header, footer, comments, encoding)\u001b[0m\n\u001b[0;32m   1378\u001b[0m         \u001b[1;31m# Handle 1-dimensional arrays\u001b[0m\u001b[1;33m\u001b[0m\u001b[1;33m\u001b[0m\u001b[0m\n\u001b[0;32m   1379\u001b[0m         \u001b[1;32mif\u001b[0m \u001b[0mX\u001b[0m\u001b[1;33m.\u001b[0m\u001b[0mndim\u001b[0m \u001b[1;33m==\u001b[0m \u001b[1;36m0\u001b[0m \u001b[1;32mor\u001b[0m \u001b[0mX\u001b[0m\u001b[1;33m.\u001b[0m\u001b[0mndim\u001b[0m \u001b[1;33m>\u001b[0m \u001b[1;36m2\u001b[0m\u001b[1;33m:\u001b[0m\u001b[1;33m\u001b[0m\u001b[1;33m\u001b[0m\u001b[0m\n\u001b[1;32m-> 1380\u001b[1;33m             raise ValueError(\n\u001b[0m\u001b[0;32m   1381\u001b[0m                 \"Expected 1D or 2D array, got %dD array instead\" % X.ndim)\n\u001b[0;32m   1382\u001b[0m         \u001b[1;32melif\u001b[0m \u001b[0mX\u001b[0m\u001b[1;33m.\u001b[0m\u001b[0mndim\u001b[0m \u001b[1;33m==\u001b[0m \u001b[1;36m1\u001b[0m\u001b[1;33m:\u001b[0m\u001b[1;33m\u001b[0m\u001b[1;33m\u001b[0m\u001b[0m\n",
      "\u001b[1;31mValueError\u001b[0m: Expected 1D or 2D array, got 0D array instead"
     ]
    }
   ],
   "source": [
    "np.savetxt('b.csv', 'a', delimiter=',')"
   ]
  },
  {
   "cell_type": "code",
   "execution_count": 108,
   "id": "2785d735-7438-431d-b8c8-51e1a1779e95",
   "metadata": {},
   "outputs": [],
   "source": [
    "a.tofile('b.dat', sep=',', format='%d')"
   ]
  },
  {
   "cell_type": "code",
   "execution_count": 109,
   "id": "1768bf73-e89f-493f-abff-ca4be8abe531",
   "metadata": {},
   "outputs": [
    {
     "data": {
      "text/plain": [
       "array([[0.70353244, 0.48166751, 0.36825741, 0.18411683],\n",
       "       [0.55333966, 0.86982566, 0.70021128, 0.09475038],\n",
       "       [0.0258557 , 0.71745999, 0.61800024, 0.01783902]])"
      ]
     },
     "execution_count": 109,
     "metadata": {},
     "output_type": "execute_result"
    }
   ],
   "source": [
    "np.random.rand(3, 4)"
   ]
  },
  {
   "cell_type": "code",
   "execution_count": 110,
   "id": "26b70647-fd5d-45c0-a7f9-8c6ddec30cb9",
   "metadata": {},
   "outputs": [
    {
     "data": {
      "text/plain": [
       "array([[6.60420585, 8.50823098, 0.80242482, 2.4004788 ],\n",
       "       [2.02699895, 4.64958155, 7.02624237, 2.27435193],\n",
       "       [3.15021404, 3.87317826, 5.50003494, 7.08934612]])"
      ]
     },
     "execution_count": 110,
     "metadata": {},
     "output_type": "execute_result"
    }
   ],
   "source": [
    "np.random.uniform(0, 10, (3, 4))"
   ]
  },
  {
   "cell_type": "code",
   "execution_count": 111,
   "id": "812f67af-d49b-4038-98fd-c03b64734721",
   "metadata": {},
   "outputs": [
    {
     "data": {
      "text/plain": [
       "array([[ 0.81273702,  1.19662587, -2.12381887, -1.20346439],\n",
       "       [-0.82205569,  1.56323217,  0.24380321, -0.52577956],\n",
       "       [-0.37757988,  1.42427167,  0.02146211, -1.77761156]])"
      ]
     },
     "execution_count": 111,
     "metadata": {},
     "output_type": "execute_result"
    }
   ],
   "source": [
    "np.random.randn(3, 4)"
   ]
  },
  {
   "cell_type": "code",
   "execution_count": 112,
   "id": "dd89fdf2-9a06-4d09-a1aa-644574ae7264",
   "metadata": {},
   "outputs": [],
   "source": [
    "a = np.arange(15).reshape(3, 5)"
   ]
  },
  {
   "cell_type": "code",
   "execution_count": 113,
   "id": "b70880c6-0336-4888-b16d-dc8b7650a24d",
   "metadata": {},
   "outputs": [
    {
     "data": {
      "text/plain": [
       "array([[ 0,  1,  2,  3,  4],\n",
       "       [ 5,  6,  7,  8,  9],\n",
       "       [10, 11, 12, 13, 14]])"
      ]
     },
     "execution_count": 113,
     "metadata": {},
     "output_type": "execute_result"
    }
   ],
   "source": [
    "a"
   ]
  },
  {
   "cell_type": "code",
   "execution_count": 114,
   "id": "f048dbe1-0527-4e5a-a9b5-b66e96153cd1",
   "metadata": {},
   "outputs": [
    {
     "data": {
      "text/plain": [
       "7.0"
      ]
     },
     "execution_count": 114,
     "metadata": {},
     "output_type": "execute_result"
    }
   ],
   "source": [
    "np.mean(a)"
   ]
  },
  {
   "cell_type": "code",
   "execution_count": 116,
   "id": "81a2eb2b-ac25-4bec-8ffa-c016b388c8a2",
   "metadata": {},
   "outputs": [
    {
     "data": {
      "text/plain": [
       "array([ 2.,  7., 12.])"
      ]
     },
     "execution_count": 116,
     "metadata": {},
     "output_type": "execute_result"
    }
   ],
   "source": [
    "np.mean(a, 1)"
   ]
  },
  {
   "cell_type": "code",
   "execution_count": 117,
   "id": "f0aaf068-e576-4875-af1e-8e5481123db5",
   "metadata": {},
   "outputs": [
    {
     "data": {
      "text/plain": [
       "array([ 2.,  7., 12.])"
      ]
     },
     "execution_count": 117,
     "metadata": {},
     "output_type": "execute_result"
    }
   ],
   "source": [
    "np.mean(a, 1)"
   ]
  },
  {
   "cell_type": "code",
   "execution_count": 118,
   "id": "998baf97-4c2b-415a-a94e-0c047d23d41f",
   "metadata": {},
   "outputs": [
    {
     "data": {
      "text/plain": [
       "array([10, 35, 60])"
      ]
     },
     "execution_count": 118,
     "metadata": {},
     "output_type": "execute_result"
    }
   ],
   "source": [
    "np.sum(a, 1)"
   ]
  },
  {
   "cell_type": "code",
   "execution_count": 119,
   "id": "1c3ccb60-e38c-4156-84a7-22e9b1d8f1f4",
   "metadata": {},
   "outputs": [
    {
     "data": {
      "text/plain": [
       "array([ 6.66666667,  7.66666667,  8.66666667,  9.66666667, 10.66666667])"
      ]
     },
     "execution_count": 119,
     "metadata": {},
     "output_type": "execute_result"
    }
   ],
   "source": [
    "np.average(a, 0, weights=[1, 2, 3])"
   ]
  },
  {
   "cell_type": "code",
   "execution_count": 120,
   "id": "f577a28e-58dc-4889-84b2-a4f6b90bbc64",
   "metadata": {},
   "outputs": [
    {
     "data": {
      "text/plain": [
       "0"
      ]
     },
     "execution_count": 120,
     "metadata": {},
     "output_type": "execute_result"
    }
   ],
   "source": [
    "np.min(a)"
   ]
  },
  {
   "cell_type": "code",
   "execution_count": 121,
   "id": "7993d1de-052b-4551-a5d5-607c1747d156",
   "metadata": {},
   "outputs": [
    {
     "data": {
      "text/plain": [
       "14"
      ]
     },
     "execution_count": 121,
     "metadata": {},
     "output_type": "execute_result"
    }
   ],
   "source": [
    "np.max(a)"
   ]
  },
  {
   "cell_type": "code",
   "execution_count": 122,
   "id": "50f3f87f-ba21-4727-a1a2-882ca938183d",
   "metadata": {},
   "outputs": [
    {
     "data": {
      "text/plain": [
       "14"
      ]
     },
     "execution_count": 122,
     "metadata": {},
     "output_type": "execute_result"
    }
   ],
   "source": [
    "np.ptp(a)"
   ]
  },
  {
   "cell_type": "code",
   "execution_count": 123,
   "id": "68aa9fd5-fe01-49e1-8dcf-b021a6268058",
   "metadata": {},
   "outputs": [
    {
     "data": {
      "text/plain": [
       "7.0"
      ]
     },
     "execution_count": 123,
     "metadata": {},
     "output_type": "execute_result"
    }
   ],
   "source": [
    "np.median(a)"
   ]
  },
  {
   "cell_type": "code",
   "execution_count": 124,
   "id": "11cde2d8-ac31-4643-8973-da7a658f7942",
   "metadata": {},
   "outputs": [
    {
     "data": {
      "text/plain": [
       "array([[ 0,  1,  2,  3,  4],\n",
       "       [ 5,  6,  7,  8,  9],\n",
       "       [10, 11, 12, 13, 14]])"
      ]
     },
     "execution_count": 124,
     "metadata": {},
     "output_type": "execute_result"
    }
   ],
   "source": [
    "a"
   ]
  },
  {
   "cell_type": "code",
   "execution_count": 127,
   "id": "2d4286ab-d294-4d21-81e8-2c282ec8d9aa",
   "metadata": {},
   "outputs": [],
   "source": [
    "a = np.random.randint(0, 20, (5))"
   ]
  },
  {
   "cell_type": "code",
   "execution_count": 128,
   "id": "17575cb5-84ca-4e23-9832-566604c76e87",
   "metadata": {},
   "outputs": [
    {
     "data": {
      "text/plain": [
       "array([14,  1, 15, 17, 18])"
      ]
     },
     "execution_count": 128,
     "metadata": {},
     "output_type": "execute_result"
    }
   ],
   "source": [
    "a"
   ]
  },
  {
   "cell_type": "code",
   "execution_count": 129,
   "id": "6d82ed3b-8428-4930-bcaa-c86b5f4d80a3",
   "metadata": {},
   "outputs": [
    {
     "data": {
      "text/plain": [
       "array([-13. ,   0.5,   8. ,   1.5,   1. ])"
      ]
     },
     "execution_count": 129,
     "metadata": {},
     "output_type": "execute_result"
    }
   ],
   "source": [
    "np.gradient(a)"
   ]
  },
  {
   "cell_type": "code",
   "execution_count": 131,
   "id": "e08e37b1-0bda-4504-95ff-a8f94f031de0",
   "metadata": {},
   "outputs": [
    {
     "data": {
      "text/plain": [
       "array([[ 0, 16, 13, 13, 17],\n",
       "       [17, 16,  5, 11,  5],\n",
       "       [17,  3, 16, 17, 10],\n",
       "       [14,  1, 14, 13, 12]])"
      ]
     },
     "execution_count": 131,
     "metadata": {},
     "output_type": "execute_result"
    }
   ],
   "source": [
    "c = np.random.randint(0, 20, (4, 5))\n",
    "c"
   ]
  },
  {
   "cell_type": "code",
   "execution_count": 132,
   "id": "c1e4241d-fa43-4867-a161-b5d550354001",
   "metadata": {},
   "outputs": [
    {
     "data": {
      "text/plain": [
       "[array([[ 17. ,   0. ,  -8. ,  -2. , -12. ],\n",
       "        [  8.5,  -6.5,   1.5,   2. ,  -3.5],\n",
       "        [ -1.5,  -7.5,   4.5,   1. ,   3.5],\n",
       "        [ -3. ,  -2. ,  -2. ,  -4. ,   2. ]]),\n",
       " array([[ 16. ,   6.5,  -1.5,   2. ,   4. ],\n",
       "        [ -1. ,  -6. ,  -2.5,   0. ,  -6. ],\n",
       "        [-14. ,  -0.5,   7. ,  -3. ,  -7. ],\n",
       "        [-13. ,   0. ,   6. ,  -1. ,  -1. ]])]"
      ]
     },
     "execution_count": 132,
     "metadata": {},
     "output_type": "execute_result"
    }
   ],
   "source": [
    "np.gradient(c)"
   ]
  },
  {
   "cell_type": "code",
   "execution_count": 133,
   "id": "2e06f813-1a89-403f-acdc-698f78cec8ab",
   "metadata": {},
   "outputs": [],
   "source": [
    "from PIL import Image"
   ]
  },
  {
   "cell_type": "code",
   "execution_count": 134,
   "id": "16011a78-7867-4f21-83d5-5fdbe96d68cc",
   "metadata": {},
   "outputs": [],
   "source": [
    "im = Image.open(\"D:\\\\Project\\Data-Analysis-and-Display\\\\data\\\\DV03-实例1-图像的手绘效果.jpg\")"
   ]
  },
  {
   "cell_type": "code",
   "execution_count": 136,
   "id": "3f9ab7db-455f-425f-be93-e5768371dfae",
   "metadata": {},
   "outputs": [],
   "source": [
    "a = np.array(im)\n"
   ]
  },
  {
   "cell_type": "code",
   "execution_count": 137,
   "id": "c1d606c8-6f4c-48d6-bd31-c07e56d40bd0",
   "metadata": {},
   "outputs": [
    {
     "data": {
      "text/plain": [
       "array([[[ 90, 148, 232],\n",
       "        [ 90, 148, 232],\n",
       "        [ 90, 148, 232],\n",
       "        ...,\n",
       "        [101, 157, 232],\n",
       "        [101, 157, 232],\n",
       "        [101, 157, 232]],\n",
       "\n",
       "       [[ 90, 148, 232],\n",
       "        [ 90, 148, 232],\n",
       "        [ 90, 148, 232],\n",
       "        ...,\n",
       "        [100, 156, 231],\n",
       "        [100, 156, 231],\n",
       "        [100, 156, 231]],\n",
       "\n",
       "       [[ 91, 149, 233],\n",
       "        [ 91, 149, 233],\n",
       "        [ 91, 149, 233],\n",
       "        ...,\n",
       "        [ 98, 154, 229],\n",
       "        [ 98, 154, 229],\n",
       "        [ 98, 154, 229]],\n",
       "\n",
       "       ...,\n",
       "\n",
       "       [[ 47,  56,  73],\n",
       "        [ 50,  59,  76],\n",
       "        [ 41,  50,  67],\n",
       "        ...,\n",
       "        [ 88, 113, 144],\n",
       "        [ 93, 119, 152],\n",
       "        [ 98, 124, 157]],\n",
       "\n",
       "       [[ 35,  44,  61],\n",
       "        [ 39,  48,  65],\n",
       "        [ 37,  46,  63],\n",
       "        ...,\n",
       "        [ 79, 104, 135],\n",
       "        [ 87, 113, 146],\n",
       "        [ 87, 113, 146]],\n",
       "\n",
       "       [[ 55,  64,  81],\n",
       "        [ 58,  67,  84],\n",
       "        [ 52,  61,  78],\n",
       "        ...,\n",
       "        [ 88, 113, 144],\n",
       "        [ 83, 109, 142],\n",
       "        [ 62,  88, 121]]], dtype=uint8)"
      ]
     },
     "execution_count": 137,
     "metadata": {},
     "output_type": "execute_result"
    }
   ],
   "source": [
    "a"
   ]
  },
  {
   "cell_type": "code",
   "execution_count": 138,
   "id": "e9a9a773-6cf4-4348-872f-7290fb6d9a85",
   "metadata": {},
   "outputs": [
    {
     "data": {
      "text/plain": [
       "dtype('uint8')"
      ]
     },
     "execution_count": 138,
     "metadata": {},
     "output_type": "execute_result"
    }
   ],
   "source": [
    "a.dtype"
   ]
  },
  {
   "cell_type": "code",
   "execution_count": 139,
   "id": "693ef1e9-f8e9-4514-8afb-ca2d4452c177",
   "metadata": {},
   "outputs": [
    {
     "ename": "AttributeError",
     "evalue": "'numpy.ndarray' object has no attribute 'type'",
     "output_type": "error",
     "traceback": [
      "\u001b[1;31m---------------------------------------------------------------------------\u001b[0m",
      "\u001b[1;31mAttributeError\u001b[0m                            Traceback (most recent call last)",
      "\u001b[1;32m~\\AppData\\Local\\Temp/ipykernel_2340/1014832636.py\u001b[0m in \u001b[0;36m<module>\u001b[1;34m\u001b[0m\n\u001b[1;32m----> 1\u001b[1;33m \u001b[0ma\u001b[0m\u001b[1;33m.\u001b[0m\u001b[0mtype\u001b[0m\u001b[1;33m\u001b[0m\u001b[1;33m\u001b[0m\u001b[0m\n\u001b[0m",
      "\u001b[1;31mAttributeError\u001b[0m: 'numpy.ndarray' object has no attribute 'type'"
     ]
    }
   ],
   "source": [
    "a.type"
   ]
  },
  {
   "cell_type": "code",
   "execution_count": 140,
   "id": "4ba9ca11-dc8f-4e4e-b367-b7620c15e5f3",
   "metadata": {},
   "outputs": [
    {
     "data": {
      "text/plain": [
       "(245, 488, 3)"
      ]
     },
     "execution_count": 140,
     "metadata": {},
     "output_type": "execute_result"
    }
   ],
   "source": [
    "a.shape"
   ]
  },
  {
   "cell_type": "code",
   "execution_count": 141,
   "id": "62839251-41b2-4d8a-8b40-bc4e688842f0",
   "metadata": {},
   "outputs": [
    {
     "data": {
      "text/plain": [
       "1"
      ]
     },
     "execution_count": 141,
     "metadata": {},
     "output_type": "execute_result"
    }
   ],
   "source": [
    "a.itemsize"
   ]
  },
  {
   "cell_type": "code",
   "execution_count": 142,
   "id": "4e83f688-e459-4b1d-8472-36ddc61a6752",
   "metadata": {},
   "outputs": [
    {
     "data": {
      "text/plain": [
       "358680"
      ]
     },
     "execution_count": 142,
     "metadata": {},
     "output_type": "execute_result"
    }
   ],
   "source": [
    "a.size"
   ]
  },
  {
   "cell_type": "code",
   "execution_count": 143,
   "id": "eeaf0adf-3d07-47d3-afea-4ff790916e36",
   "metadata": {},
   "outputs": [],
   "source": [
    "b = [255, 255, 255] - a "
   ]
  },
  {
   "cell_type": "code",
   "execution_count": 144,
   "id": "1b684e61-e753-480f-b266-2f70863c3c50",
   "metadata": {},
   "outputs": [
    {
     "data": {
      "text/plain": [
       "array([[[165, 107,  23],\n",
       "        [165, 107,  23],\n",
       "        [165, 107,  23],\n",
       "        ...,\n",
       "        [154,  98,  23],\n",
       "        [154,  98,  23],\n",
       "        [154,  98,  23]],\n",
       "\n",
       "       [[165, 107,  23],\n",
       "        [165, 107,  23],\n",
       "        [165, 107,  23],\n",
       "        ...,\n",
       "        [155,  99,  24],\n",
       "        [155,  99,  24],\n",
       "        [155,  99,  24]],\n",
       "\n",
       "       [[164, 106,  22],\n",
       "        [164, 106,  22],\n",
       "        [164, 106,  22],\n",
       "        ...,\n",
       "        [157, 101,  26],\n",
       "        [157, 101,  26],\n",
       "        [157, 101,  26]],\n",
       "\n",
       "       ...,\n",
       "\n",
       "       [[208, 199, 182],\n",
       "        [205, 196, 179],\n",
       "        [214, 205, 188],\n",
       "        ...,\n",
       "        [167, 142, 111],\n",
       "        [162, 136, 103],\n",
       "        [157, 131,  98]],\n",
       "\n",
       "       [[220, 211, 194],\n",
       "        [216, 207, 190],\n",
       "        [218, 209, 192],\n",
       "        ...,\n",
       "        [176, 151, 120],\n",
       "        [168, 142, 109],\n",
       "        [168, 142, 109]],\n",
       "\n",
       "       [[200, 191, 174],\n",
       "        [197, 188, 171],\n",
       "        [203, 194, 177],\n",
       "        ...,\n",
       "        [167, 142, 111],\n",
       "        [172, 146, 113],\n",
       "        [193, 167, 134]]])"
      ]
     },
     "execution_count": 144,
     "metadata": {},
     "output_type": "execute_result"
    }
   ],
   "source": [
    "b"
   ]
  },
  {
   "cell_type": "code",
   "execution_count": 145,
   "id": "a25e3f98-a5cf-4417-b65e-6ee6aa9c5854",
   "metadata": {},
   "outputs": [
    {
     "data": {
      "text/plain": [
       "dtype('int32')"
      ]
     },
     "execution_count": 145,
     "metadata": {},
     "output_type": "execute_result"
    }
   ],
   "source": [
    "b.dtype"
   ]
  },
  {
   "cell_type": "code",
   "execution_count": 147,
   "id": "1c61ce95-42ba-4dc0-8560-8f475d464337",
   "metadata": {},
   "outputs": [
    {
     "data": {
      "text/plain": [
       "array([[[165, 107,  23],\n",
       "        [165, 107,  23],\n",
       "        [165, 107,  23],\n",
       "        ...,\n",
       "        [154,  98,  23],\n",
       "        [154,  98,  23],\n",
       "        [154,  98,  23]],\n",
       "\n",
       "       [[165, 107,  23],\n",
       "        [165, 107,  23],\n",
       "        [165, 107,  23],\n",
       "        ...,\n",
       "        [155,  99,  24],\n",
       "        [155,  99,  24],\n",
       "        [155,  99,  24]],\n",
       "\n",
       "       [[164, 106,  22],\n",
       "        [164, 106,  22],\n",
       "        [164, 106,  22],\n",
       "        ...,\n",
       "        [157, 101,  26],\n",
       "        [157, 101,  26],\n",
       "        [157, 101,  26]],\n",
       "\n",
       "       ...,\n",
       "\n",
       "       [[208, 199, 182],\n",
       "        [205, 196, 179],\n",
       "        [214, 205, 188],\n",
       "        ...,\n",
       "        [167, 142, 111],\n",
       "        [162, 136, 103],\n",
       "        [157, 131,  98]],\n",
       "\n",
       "       [[220, 211, 194],\n",
       "        [216, 207, 190],\n",
       "        [218, 209, 192],\n",
       "        ...,\n",
       "        [176, 151, 120],\n",
       "        [168, 142, 109],\n",
       "        [168, 142, 109]],\n",
       "\n",
       "       [[200, 191, 174],\n",
       "        [197, 188, 171],\n",
       "        [203, 194, 177],\n",
       "        ...,\n",
       "        [167, 142, 111],\n",
       "        [172, 146, 113],\n",
       "        [193, 167, 134]]], dtype=uint8)"
      ]
     },
     "execution_count": 147,
     "metadata": {},
     "output_type": "execute_result"
    }
   ],
   "source": [
    "b.astype('uint8')"
   ]
  },
  {
   "cell_type": "code",
   "execution_count": 148,
   "id": "9efd9571-99cf-4cb8-9f63-812ae472c439",
   "metadata": {},
   "outputs": [],
   "source": [
    "newImg = Image.fromarray(b.astype('uint8'))\n",
    "im.save(\"D:\\\\Media\\\\Desktop\\\\new.jpg\")"
   ]
  },
  {
   "cell_type": "code",
   "execution_count": 154,
   "id": "1691ae89-6516-4f99-a0a3-38e09a00eca4",
   "metadata": {},
   "outputs": [
    {
     "data": {
      "text/plain": [
       "dtype('uint8')"
      ]
     },
     "execution_count": 154,
     "metadata": {},
     "output_type": "execute_result"
    }
   ],
   "source": [
    "i = np.random.randint(0, 255, (1000, 1000, 3)).astype('uint8')\n",
    "i.dtype"
   ]
  },
  {
   "cell_type": "code",
   "execution_count": 155,
   "id": "1b0d3708-6f19-451b-b271-a5725c30a9fb",
   "metadata": {},
   "outputs": [],
   "source": [
    "im2 = Image.fromarray(i)\n",
    "im2.save(\"D:\\\\Media\\\\Desktop\\\\new2.jpg\")"
   ]
  },
  {
   "cell_type": "code",
   "execution_count": null,
   "id": "ec086fda-2d4e-4d5b-ba5d-9e7095eaa5d9",
   "metadata": {},
   "outputs": [],
   "source": []
  },
  {
   "cell_type": "code",
   "execution_count": null,
   "id": "a05c999c-3a33-4c02-8808-1270c75abc1f",
   "metadata": {},
   "outputs": [],
   "source": []
  },
  {
   "cell_type": "code",
   "execution_count": null,
   "id": "51232eb7-0a6c-4239-8717-223077f07625",
   "metadata": {},
   "outputs": [],
   "source": []
  },
  {
   "cell_type": "code",
   "execution_count": null,
   "id": "80bc91db-ab31-476c-9cc7-0ca4100c5208",
   "metadata": {},
   "outputs": [],
   "source": []
  },
  {
   "cell_type": "code",
   "execution_count": 157,
   "id": "0840ce41-fc61-48ed-b51b-21bcdbc9b7c1",
   "metadata": {},
   "outputs": [],
   "source": [
    "import matplotlib.pyplot as plt\n"
   ]
  },
  {
   "cell_type": "code",
   "execution_count": 158,
   "id": "ce40267d-ddbe-497c-abfe-85d5bc9da0af",
   "metadata": {},
   "outputs": [],
   "source": [
    "a = np.array([1, 2, 3, 5, 1, 4, 5])"
   ]
  },
  {
   "cell_type": "code",
   "execution_count": 166,
   "id": "1c4d320d-a824-4d7f-9e4d-4489ed49d533",
   "metadata": {},
   "outputs": [
    {
     "data": {
      "image/png": "[encoded data removed]",
      "text/plain": [
       "<Figure size 432x288 with 1 Axes>"
      ]
     },
     "metadata": {
      "needs_background": "light"
     },
     "output_type": "display_data"
    }
   ],
   "source": [
    "plt.plot(a)\n",
    "plt.xlabel('X')\n",
    "plt.ylabel('Y')\n",
    "plt.savefig('test', dpi=600)\n",
    "plt.show()"
   ]
  },
  {
   "cell_type": "code",
   "execution_count": 168,
   "id": "3ce292c4-43d0-46d3-94f8-58558f21b270",
   "metadata": {},
   "outputs": [
    {
     "data": {
      "image/png": "[encoded data removed]",
      "text/plain": [
       "<Figure size 432x288 with 1 Axes>"
      ]
     },
     "metadata": {
      "needs_background": "light"
     },
     "output_type": "display_data"
    }
   ],
   "source": [
    "plt.plot([0, 2, 4, 16, 18], [3, 1, 4, 5, 2])\n",
    "plt.ylabel(\"Grade\")\n",
    "\n",
    "plt.show()"
   ]
  },
  {
   "cell_type": "code",
   "execution_count": 175,
   "id": "12186b37-aacd-4d15-838b-1c8edd0a1d9c",
   "metadata": {},
   "outputs": [
    {
     "data": {
      "image/png": "[encoded data removed]",
      "text/plain": [
       "<Figure size 432x288 with 1 Axes>"
      ]
     },
     "metadata": {
      "needs_background": "light"
     },
     "output_type": "display_data"
    }
   ],
   "source": [
    "a = np.arange(10)\n",
    "\n",
    "plt.plot(a, a*1.5, 'r:',a, a*2.5, 'x', a, a*3.5)\n",
    "plt.show()"
   ]
  },
  {
   "cell_type": "code",
   "execution_count": 180,
   "id": "a44e3fe4-8051-4a6e-9241-2b816bf4066b",
   "metadata": {},
   "outputs": [],
   "source": [
    "plt.rcParams['font.family'] = 'SimHei' # 'SimHei'是黑体\n",
    "plt.rcParams['font.style'] = 'italic' # 斜体\n",
    "plt.rcParams['font.size'] = '20'\n",
    "plt.rcParams['axes.unicode_minus'] = False # 用来正常显示负号"
   ]
  },
  {
   "cell_type": "code",
   "execution_count": 181,
   "id": "471dcced-97c3-4246-ba98-8d34790e27c2",
   "metadata": {},
   "outputs": [
    {
     "data": {
      "image/png": "[encoded data removed]",
      "text/plain": [
       "<Figure size 432x288 with 1 Axes>"
      ]
     },
     "metadata": {
      "needs_background": "light"
     },
     "output_type": "display_data"
    }
   ],
   "source": [
    "x = np.arange(0, 3*np.pi, 0.1)\n",
    "ySin = np.sin(x)\n",
    "yCos = np.cos(x)\n",
    "\n",
    "plt.plot(x, ySin, ':', x, yCos)\n",
    "plt.xlabel('X')\n",
    "plt.ylabel('Y')\n",
    "\n",
    "plt.title('Sine and Cos')\n",
    "plt.legend(['Sin', 'Cos'])\n",
    "\n",
    "plt.show()"
   ]
  },
  {
   "cell_type": "code",
   "execution_count": 179,
   "id": "d1c1ad6c-5634-4022-b9d4-a807fea04410",
   "metadata": {},
   "outputs": [
    {
     "data": {
      "text/plain": [
       "<AxesSubplot:>"
      ]
     },
     "execution_count": 179,
     "metadata": {},
     "output_type": "execute_result"
    },
    {
     "data": {
      "image/png": "[encoded data removed]",
      "text/plain": [
       "<Figure size 432x288 with 1 Axes>"
      ]
     },
     "metadata": {
      "needs_background": "light"
     },
     "output_type": "display_data"
    }
   ],
   "source": [
    "plt.subplot(2, 1, 2)"
   ]
  },
  {
   "cell_type": "code",
   "execution_count": 183,
   "id": "127a7232-6398-4e66-a422-a7b29fe523a0",
   "metadata": {},
   "outputs": [
    {
     "data": {
      "image/png": "[encoded data removed]",
      "text/plain": [
       "<Figure size 432x288 with 1 Axes>"
      ]
     },
     "metadata": {
      "needs_background": "light"
     },
     "output_type": "display_data"
    }
   ],
   "source": [
    "import matplotlib.pyplot as plt\n",
    "\n",
    "plt.rcParams['font.family'] = 'SimHei' # 'SimHei'是黑体\n",
    "plt.rcParams['font.style'] = 'italic' # 斜体\n",
    "plt.rcParams['font.size'] = '10'\n",
    "plt.rcParams['axes.unicode_minus'] = False # 用来正常显示负号\n",
    "\n",
    "a = np.arange(0.0, 5.0, 0.02)\n",
    "\n",
    "plt.xlabel(\"横轴：时间\")\n",
    "plt.ylabel(\"纵轴：振幅\")\n",
    "plt.plot(a, np.cos(2*np.pi*a), 'r--')\n",
    "plt.show()"
   ]
  },
  {
   "cell_type": "code",
   "execution_count": 196,
   "id": "28c8dfa0-a85d-4a44-8896-774fe1c891a6",
   "metadata": {},
   "outputs": [
    {
     "data": {
      "image/png": "[encoded data removed]",
      "text/plain": [
       "<Figure size 432x288 with 1 Axes>"
      ]
     },
     "metadata": {
      "needs_background": "light"
     },
     "output_type": "display_data"
    }
   ],
   "source": [
    "a = np.arange(0.0, 5.0, 0.02)\n",
    "plt.plot(a, np.cos(2*np.pi*a), 'r--')\n",
    "plt.xlabel('横轴：时间', fontproperties='SimHei', fontsize=15, color='green')\n",
    "plt.ylabel('纵轴：振幅', fontproperties='SimHei', fontsize=15, color='green')\n",
    "\n",
    "plt.title(r'正弦波实例 ', fontproperties='SimHei', fontsize=25)\n",
    "plt.show()\n"
   ]
  },
  {
   "cell_type": "code",
   "execution_count": 198,
   "id": "b12d1057-b828-458c-9c79-c500b9c87122",
   "metadata": {},
   "outputs": [
    {
     "data": {
      "image/png": "[encoded data removed]",
      "text/plain": [
       "<Figure size 432x288 with 2 Axes>"
      ]
     },
     "metadata": {
      "needs_background": "light"
     },
     "output_type": "display_data"
    }
   ],
   "source": [
    "x = np.arange(0, 3*np.pi, 0.1)\n",
    "ySin = np.sin(x)\n",
    "yCos = np.cos(x)\n",
    "\n",
    "plt.subplot(2, 1, 1)\n",
    "plt.plot(x, ySin, 'r:')\n",
    "plt.subplot(2, 1, 2)\n",
    "plt.plot(x, yCos)\n",
    "\n",
    "plt.xlabel('X')\n",
    "plt.ylabel('Y')\n",
    "\n",
    "plt.title('Sine and Cos')\n",
    "\n",
    "\n",
    "plt.show()"
   ]
  },
  {
   "cell_type": "code",
   "execution_count": 200,
   "id": "6385d935-18b2-4365-98df-e73ce874dcc8",
   "metadata": {},
   "outputs": [],
   "source": [
    "from scipy import misc"
   ]
  },
  {
   "cell_type": "code",
   "execution_count": 201,
   "id": "e1724e20-70a3-49e9-89a3-078980506868",
   "metadata": {},
   "outputs": [
    {
     "data": {
      "image/png": "[encoded data removed]",
      "text/plain": [
       "<Figure size 432x288 with 1 Axes>"
      ]
     },
     "metadata": {
      "needs_background": "light"
     },
     "output_type": "display_data"
    }
   ],
   "source": [
    "face = misc.face()\n",
    "plt.imshow(face)\n",
    "plt.show()"
   ]
  },
  {
   "cell_type": "code",
   "execution_count": 202,
   "id": "8ef58324-7e73-4037-b99f-ad11293706b0",
   "metadata": {},
   "outputs": [],
   "source": [
    "import pandas as pd\n"
   ]
  },
  {
   "cell_type": "code",
   "execution_count": 203,
   "id": "1ad316a0-b4fa-4385-9e53-e8869ae36cc1",
   "metadata": {},
   "outputs": [],
   "source": [
    "d = pd.Series(range(20))"
   ]
  },
  {
   "cell_type": "code",
   "execution_count": 204,
   "id": "2aa63be8-8ae5-4680-8e30-f87f435c6e99",
   "metadata": {},
   "outputs": [
    {
     "data": {
      "text/plain": [
       "0      0\n",
       "1      1\n",
       "2      2\n",
       "3      3\n",
       "4      4\n",
       "5      5\n",
       "6      6\n",
       "7      7\n",
       "8      8\n",
       "9      9\n",
       "10    10\n",
       "11    11\n",
       "12    12\n",
       "13    13\n",
       "14    14\n",
       "15    15\n",
       "16    16\n",
       "17    17\n",
       "18    18\n",
       "19    19\n",
       "dtype: int64"
      ]
     },
     "execution_count": 204,
     "metadata": {},
     "output_type": "execute_result"
    }
   ],
   "source": [
    "d"
   ]
  },
  {
   "cell_type": "code",
   "execution_count": 205,
   "id": "fe410c49-d939-46eb-ac7f-ddc738e82645",
   "metadata": {},
   "outputs": [
    {
     "data": {
      "text/plain": [
       "0       0\n",
       "1       1\n",
       "2       3\n",
       "3       6\n",
       "4      10\n",
       "5      15\n",
       "6      21\n",
       "7      28\n",
       "8      36\n",
       "9      45\n",
       "10     55\n",
       "11     66\n",
       "12     78\n",
       "13     91\n",
       "14    105\n",
       "15    120\n",
       "16    136\n",
       "17    153\n",
       "18    171\n",
       "19    190\n",
       "dtype: int64"
      ]
     },
     "execution_count": 205,
     "metadata": {},
     "output_type": "execute_result"
    }
   ],
   "source": [
    "d.cumsum()\n"
   ]
  },
  {
   "cell_type": "code",
   "execution_count": 206,
   "id": "19310e16-0bec-4a82-825a-040af1b28506",
   "metadata": {},
   "outputs": [
    {
     "data": {
      "text/plain": [
       "0    9\n",
       "1    8\n",
       "2    7\n",
       "3    6\n",
       "dtype: int64"
      ]
     },
     "execution_count": 206,
     "metadata": {},
     "output_type": "execute_result"
    }
   ],
   "source": [
    "a = pd.Series([9, 8, 7, 6])\n",
    "\n",
    "a"
   ]
  },
  {
   "cell_type": "code",
   "execution_count": 207,
   "id": "269deb9e-6d6d-4f0f-951c-bbd9d5690ced",
   "metadata": {},
   "outputs": [],
   "source": [
    "b = pd.Series([9, 8, 7, 6], index=['a', 'b', 'c', 'd'])"
   ]
  },
  {
   "cell_type": "code",
   "execution_count": 208,
   "id": "0de45b75-fe84-446a-bf88-22d1390894c9",
   "metadata": {},
   "outputs": [
    {
     "data": {
      "text/plain": [
       "a    9\n",
       "b    8\n",
       "c    7\n",
       "d    6\n",
       "dtype: int64"
      ]
     },
     "execution_count": 208,
     "metadata": {},
     "output_type": "execute_result"
    }
   ],
   "source": [
    "b"
   ]
  },
  {
   "cell_type": "code",
   "execution_count": 209,
   "id": "ed0e82e9-879f-4ad6-84bc-c343ea296a39",
   "metadata": {},
   "outputs": [],
   "source": [
    "s = pd.Series(4, index=['a', 'b'])"
   ]
  },
  {
   "cell_type": "code",
   "execution_count": 210,
   "id": "61246876-0495-45f0-aa3d-4957342bc1ac",
   "metadata": {},
   "outputs": [
    {
     "data": {
      "text/plain": [
       "a    4\n",
       "b    4\n",
       "dtype: int64"
      ]
     },
     "execution_count": 210,
     "metadata": {},
     "output_type": "execute_result"
    }
   ],
   "source": [
    "s"
   ]
  },
  {
   "cell_type": "code",
   "execution_count": 211,
   "id": "232b8132-0a33-45c6-9183-c1f612ec12ea",
   "metadata": {},
   "outputs": [],
   "source": [
    "d = {'name': 'guo', 'age': 12}"
   ]
  },
  {
   "cell_type": "code",
   "execution_count": 212,
   "id": "a84f2e79-f635-467a-a060-00c87fe1f4c2",
   "metadata": {},
   "outputs": [
    {
     "data": {
      "text/plain": [
       "name    guo\n",
       "age      12\n",
       "dtype: object"
      ]
     },
     "execution_count": 212,
     "metadata": {},
     "output_type": "execute_result"
    }
   ],
   "source": [
    "pd.Series(d)"
   ]
  },
  {
   "cell_type": "code",
   "execution_count": 214,
   "id": "2192ba27-da47-4713-beb3-3cf95402a4eb",
   "metadata": {},
   "outputs": [
    {
     "data": {
      "text/html": [
       "<div>\n",
       "<style scoped>\n",
       "    .dataframe tbody tr th:only-of-type {\n",
       "        vertical-align: middle;\n",
       "    }\n",
       "\n",
       "    .dataframe tbody tr th {\n",
       "        vertical-align: top;\n",
       "    }\n",
       "\n",
       "    .dataframe thead th {\n",
       "        text-align: right;\n",
       "    }\n",
       "</style>\n",
       "<table border=\"1\" class=\"dataframe\">\n",
       "  <thead>\n",
       "    <tr style=\"text-align: right;\">\n",
       "      <th></th>\n",
       "      <th>航程</th>\n",
       "      <th>视频时间百分比</th>\n",
       "      <th>冰淇淋升数</th>\n",
       "      <th>标签</th>\n",
       "    </tr>\n",
       "  </thead>\n",
       "  <tbody>\n",
       "    <tr>\n",
       "      <th>0</th>\n",
       "      <td>40920</td>\n",
       "      <td>8.326976</td>\n",
       "      <td>0.953952</td>\n",
       "      <td>3</td>\n",
       "    </tr>\n",
       "    <tr>\n",
       "      <th>1</th>\n",
       "      <td>14488</td>\n",
       "      <td>7.153469</td>\n",
       "      <td>1.673904</td>\n",
       "      <td>2</td>\n",
       "    </tr>\n",
       "    <tr>\n",
       "      <th>2</th>\n",
       "      <td>26052</td>\n",
       "      <td>1.441871</td>\n",
       "      <td>0.805124</td>\n",
       "      <td>1</td>\n",
       "    </tr>\n",
       "    <tr>\n",
       "      <th>3</th>\n",
       "      <td>75136</td>\n",
       "      <td>13.147394</td>\n",
       "      <td>0.428964</td>\n",
       "      <td>1</td>\n",
       "    </tr>\n",
       "    <tr>\n",
       "      <th>4</th>\n",
       "      <td>38344</td>\n",
       "      <td>1.669788</td>\n",
       "      <td>0.134296</td>\n",
       "      <td>1</td>\n",
       "    </tr>\n",
       "    <tr>\n",
       "      <th>...</th>\n",
       "      <td>...</td>\n",
       "      <td>...</td>\n",
       "      <td>...</td>\n",
       "      <td>...</td>\n",
       "    </tr>\n",
       "    <tr>\n",
       "      <th>995</th>\n",
       "      <td>11145</td>\n",
       "      <td>3.410627</td>\n",
       "      <td>0.631838</td>\n",
       "      <td>2</td>\n",
       "    </tr>\n",
       "    <tr>\n",
       "      <th>996</th>\n",
       "      <td>68846</td>\n",
       "      <td>9.974715</td>\n",
       "      <td>0.669787</td>\n",
       "      <td>1</td>\n",
       "    </tr>\n",
       "    <tr>\n",
       "      <th>997</th>\n",
       "      <td>26575</td>\n",
       "      <td>10.650102</td>\n",
       "      <td>0.866627</td>\n",
       "      <td>3</td>\n",
       "    </tr>\n",
       "    <tr>\n",
       "      <th>998</th>\n",
       "      <td>48111</td>\n",
       "      <td>9.134528</td>\n",
       "      <td>0.728045</td>\n",
       "      <td>3</td>\n",
       "    </tr>\n",
       "    <tr>\n",
       "      <th>999</th>\n",
       "      <td>43757</td>\n",
       "      <td>7.882601</td>\n",
       "      <td>1.332446</td>\n",
       "      <td>3</td>\n",
       "    </tr>\n",
       "  </tbody>\n",
       "</table>\n",
       "<p>1000 rows × 4 columns</p>\n",
       "</div>"
      ],
      "text/plain": [
       "        航程    视频时间百分比     冰淇淋升数  标签\n",
       "0    40920   8.326976  0.953952   3\n",
       "1    14488   7.153469  1.673904   2\n",
       "2    26052   1.441871  0.805124   1\n",
       "3    75136  13.147394  0.428964   1\n",
       "4    38344   1.669788  0.134296   1\n",
       "..     ...        ...       ...  ..\n",
       "995  11145   3.410627  0.631838   2\n",
       "996  68846   9.974715  0.669787   1\n",
       "997  26575  10.650102  0.866627   3\n",
       "998  48111   9.134528  0.728045   3\n",
       "999  43757   7.882601  1.332446   3\n",
       "\n",
       "[1000 rows x 4 columns]"
      ]
     },
     "execution_count": 214,
     "metadata": {},
     "output_type": "execute_result"
    }
   ],
   "source": [
    "path = \"D:\\\\Project\\\\Data-Analysis-and-Display\\\\data\\\\datingTestSet2.txt\"\n",
    "\n",
    "data = pd.read_csv(path, sep='\\t', names=['航程', '视频时间百分比',\\\n",
    "                                          '冰淇淋升数', '标签'])\n",
    "data"
   ]
  },
  {
   "cell_type": "code",
   "execution_count": 216,
   "id": "e0083f44-77da-4aee-81a8-b03d9860fe12",
   "metadata": {},
   "outputs": [
    {
     "data": {
      "text/html": [
       "<div>\n",
       "<style scoped>\n",
       "    .dataframe tbody tr th:only-of-type {\n",
       "        vertical-align: middle;\n",
       "    }\n",
       "\n",
       "    .dataframe tbody tr th {\n",
       "        vertical-align: top;\n",
       "    }\n",
       "\n",
       "    .dataframe thead th {\n",
       "        text-align: right;\n",
       "    }\n",
       "</style>\n",
       "<table border=\"1\" class=\"dataframe\">\n",
       "  <thead>\n",
       "    <tr style=\"text-align: right;\">\n",
       "      <th></th>\n",
       "      <th>航程</th>\n",
       "      <th>视频时间百分比</th>\n",
       "      <th>冰淇淋升数</th>\n",
       "      <th>标签</th>\n",
       "    </tr>\n",
       "  </thead>\n",
       "  <tbody>\n",
       "    <tr>\n",
       "      <th>0</th>\n",
       "      <td>40920</td>\n",
       "      <td>8.326976</td>\n",
       "      <td>0.953952</td>\n",
       "      <td>3</td>\n",
       "    </tr>\n",
       "    <tr>\n",
       "      <th>1</th>\n",
       "      <td>14488</td>\n",
       "      <td>7.153469</td>\n",
       "      <td>1.673904</td>\n",
       "      <td>2</td>\n",
       "    </tr>\n",
       "    <tr>\n",
       "      <th>2</th>\n",
       "      <td>26052</td>\n",
       "      <td>1.441871</td>\n",
       "      <td>0.805124</td>\n",
       "      <td>1</td>\n",
       "    </tr>\n",
       "    <tr>\n",
       "      <th>3</th>\n",
       "      <td>75136</td>\n",
       "      <td>13.147394</td>\n",
       "      <td>0.428964</td>\n",
       "      <td>1</td>\n",
       "    </tr>\n",
       "    <tr>\n",
       "      <th>4</th>\n",
       "      <td>38344</td>\n",
       "      <td>1.669788</td>\n",
       "      <td>0.134296</td>\n",
       "      <td>1</td>\n",
       "    </tr>\n",
       "  </tbody>\n",
       "</table>\n",
       "</div>"
      ],
      "text/plain": [
       "      航程    视频时间百分比     冰淇淋升数  标签\n",
       "0  40920   8.326976  0.953952   3\n",
       "1  14488   7.153469  1.673904   2\n",
       "2  26052   1.441871  0.805124   1\n",
       "3  75136  13.147394  0.428964   1\n",
       "4  38344   1.669788  0.134296   1"
      ]
     },
     "execution_count": 216,
     "metadata": {},
     "output_type": "execute_result"
    }
   ],
   "source": [
    "data.head()"
   ]
  },
  {
   "cell_type": "code",
   "execution_count": 217,
   "id": "aed58347-e7e3-42da-9f0d-c09a59e3b0a8",
   "metadata": {},
   "outputs": [
    {
     "data": {
      "text/html": [
       "<div>\n",
       "<style scoped>\n",
       "    .dataframe tbody tr th:only-of-type {\n",
       "        vertical-align: middle;\n",
       "    }\n",
       "\n",
       "    .dataframe tbody tr th {\n",
       "        vertical-align: top;\n",
       "    }\n",
       "\n",
       "    .dataframe thead th {\n",
       "        text-align: right;\n",
       "    }\n",
       "</style>\n",
       "<table border=\"1\" class=\"dataframe\">\n",
       "  <thead>\n",
       "    <tr style=\"text-align: right;\">\n",
       "      <th></th>\n",
       "      <th>航程</th>\n",
       "      <th>视频时间百分比</th>\n",
       "      <th>冰淇淋升数</th>\n",
       "      <th>标签</th>\n",
       "    </tr>\n",
       "  </thead>\n",
       "  <tbody>\n",
       "    <tr>\n",
       "      <th>995</th>\n",
       "      <td>11145</td>\n",
       "      <td>3.410627</td>\n",
       "      <td>0.631838</td>\n",
       "      <td>2</td>\n",
       "    </tr>\n",
       "    <tr>\n",
       "      <th>996</th>\n",
       "      <td>68846</td>\n",
       "      <td>9.974715</td>\n",
       "      <td>0.669787</td>\n",
       "      <td>1</td>\n",
       "    </tr>\n",
       "    <tr>\n",
       "      <th>997</th>\n",
       "      <td>26575</td>\n",
       "      <td>10.650102</td>\n",
       "      <td>0.866627</td>\n",
       "      <td>3</td>\n",
       "    </tr>\n",
       "    <tr>\n",
       "      <th>998</th>\n",
       "      <td>48111</td>\n",
       "      <td>9.134528</td>\n",
       "      <td>0.728045</td>\n",
       "      <td>3</td>\n",
       "    </tr>\n",
       "    <tr>\n",
       "      <th>999</th>\n",
       "      <td>43757</td>\n",
       "      <td>7.882601</td>\n",
       "      <td>1.332446</td>\n",
       "      <td>3</td>\n",
       "    </tr>\n",
       "  </tbody>\n",
       "</table>\n",
       "</div>"
      ],
      "text/plain": [
       "        航程    视频时间百分比     冰淇淋升数  标签\n",
       "995  11145   3.410627  0.631838   2\n",
       "996  68846   9.974715  0.669787   1\n",
       "997  26575  10.650102  0.866627   3\n",
       "998  48111   9.134528  0.728045   3\n",
       "999  43757   7.882601  1.332446   3"
      ]
     },
     "execution_count": 217,
     "metadata": {},
     "output_type": "execute_result"
    }
   ],
   "source": [
    "data.tail()"
   ]
  },
  {
   "cell_type": "code",
   "execution_count": 219,
   "id": "d7056107-aa25-4c66-9168-f385243b5b11",
   "metadata": {},
   "outputs": [
    {
     "data": {
      "text/plain": [
       "0      40920\n",
       "1      14488\n",
       "2      26052\n",
       "3      75136\n",
       "4      38344\n",
       "       ...  \n",
       "995    11145\n",
       "996    68846\n",
       "997    26575\n",
       "998    48111\n",
       "999    43757\n",
       "Name: 航程, Length: 1000, dtype: int64"
      ]
     },
     "execution_count": 219,
     "metadata": {},
     "output_type": "execute_result"
    }
   ],
   "source": [
    "data.航程\n"
   ]
  },
  {
   "cell_type": "code",
   "execution_count": 221,
   "id": "fba9b2a0-2e1f-45ac-a2b3-9e118b68ab91",
   "metadata": {},
   "outputs": [
    {
     "data": {
      "text/html": [
       "<div>\n",
       "<style scoped>\n",
       "    .dataframe tbody tr th:only-of-type {\n",
       "        vertical-align: middle;\n",
       "    }\n",
       "\n",
       "    .dataframe tbody tr th {\n",
       "        vertical-align: top;\n",
       "    }\n",
       "\n",
       "    .dataframe thead th {\n",
       "        text-align: right;\n",
       "    }\n",
       "</style>\n",
       "<table border=\"1\" class=\"dataframe\">\n",
       "  <thead>\n",
       "    <tr style=\"text-align: right;\">\n",
       "      <th></th>\n",
       "      <th>冰淇淋升数</th>\n",
       "      <th>标签</th>\n",
       "    </tr>\n",
       "  </thead>\n",
       "  <tbody>\n",
       "    <tr>\n",
       "      <th>0</th>\n",
       "      <td>0.953952</td>\n",
       "      <td>3</td>\n",
       "    </tr>\n",
       "    <tr>\n",
       "      <th>1</th>\n",
       "      <td>1.673904</td>\n",
       "      <td>2</td>\n",
       "    </tr>\n",
       "    <tr>\n",
       "      <th>2</th>\n",
       "      <td>0.805124</td>\n",
       "      <td>1</td>\n",
       "    </tr>\n",
       "    <tr>\n",
       "      <th>3</th>\n",
       "      <td>0.428964</td>\n",
       "      <td>1</td>\n",
       "    </tr>\n",
       "    <tr>\n",
       "      <th>4</th>\n",
       "      <td>0.134296</td>\n",
       "      <td>1</td>\n",
       "    </tr>\n",
       "    <tr>\n",
       "      <th>...</th>\n",
       "      <td>...</td>\n",
       "      <td>...</td>\n",
       "    </tr>\n",
       "    <tr>\n",
       "      <th>995</th>\n",
       "      <td>0.631838</td>\n",
       "      <td>2</td>\n",
       "    </tr>\n",
       "    <tr>\n",
       "      <th>996</th>\n",
       "      <td>0.669787</td>\n",
       "      <td>1</td>\n",
       "    </tr>\n",
       "    <tr>\n",
       "      <th>997</th>\n",
       "      <td>0.866627</td>\n",
       "      <td>3</td>\n",
       "    </tr>\n",
       "    <tr>\n",
       "      <th>998</th>\n",
       "      <td>0.728045</td>\n",
       "      <td>3</td>\n",
       "    </tr>\n",
       "    <tr>\n",
       "      <th>999</th>\n",
       "      <td>1.332446</td>\n",
       "      <td>3</td>\n",
       "    </tr>\n",
       "  </tbody>\n",
       "</table>\n",
       "<p>1000 rows × 2 columns</p>\n",
       "</div>"
      ],
      "text/plain": [
       "        冰淇淋升数  标签\n",
       "0    0.953952   3\n",
       "1    1.673904   2\n",
       "2    0.805124   1\n",
       "3    0.428964   1\n",
       "4    0.134296   1\n",
       "..        ...  ..\n",
       "995  0.631838   2\n",
       "996  0.669787   1\n",
       "997  0.866627   3\n",
       "998  0.728045   3\n",
       "999  1.332446   3\n",
       "\n",
       "[1000 rows x 2 columns]"
      ]
     },
     "execution_count": 221,
     "metadata": {},
     "output_type": "execute_result"
    }
   ],
   "source": [
    "data.iloc[:, -2:]"
   ]
  },
  {
   "cell_type": "code",
   "execution_count": 222,
   "id": "ea4552f3-7ec0-4aac-8441-756224a197a4",
   "metadata": {},
   "outputs": [
    {
     "data": {
      "text/plain": [
       "0      3\n",
       "1      2\n",
       "2      1\n",
       "3      1\n",
       "4      1\n",
       "      ..\n",
       "995    2\n",
       "996    1\n",
       "997    3\n",
       "998    3\n",
       "999    3\n",
       "Name: 标签, Length: 1000, dtype: int64"
      ]
     },
     "execution_count": 222,
     "metadata": {},
     "output_type": "execute_result"
    }
   ],
   "source": [
    "data['标签']"
   ]
  },
  {
   "cell_type": "code",
   "execution_count": 223,
   "id": "04bd839d-1320-4927-90c2-0cf223594876",
   "metadata": {},
   "outputs": [
    {
     "data": {
      "text/html": [
       "<div>\n",
       "<style scoped>\n",
       "    .dataframe tbody tr th:only-of-type {\n",
       "        vertical-align: middle;\n",
       "    }\n",
       "\n",
       "    .dataframe tbody tr th {\n",
       "        vertical-align: top;\n",
       "    }\n",
       "\n",
       "    .dataframe thead th {\n",
       "        text-align: right;\n",
       "    }\n",
       "</style>\n",
       "<table border=\"1\" class=\"dataframe\">\n",
       "  <thead>\n",
       "    <tr style=\"text-align: right;\">\n",
       "      <th></th>\n",
       "      <th>航程</th>\n",
       "      <th>视频时间百分比</th>\n",
       "      <th>冰淇淋升数</th>\n",
       "      <th>标签</th>\n",
       "    </tr>\n",
       "  </thead>\n",
       "  <tbody>\n",
       "    <tr>\n",
       "      <th>2</th>\n",
       "      <td>26052</td>\n",
       "      <td>1.441871</td>\n",
       "      <td>0.805124</td>\n",
       "      <td>1</td>\n",
       "    </tr>\n",
       "    <tr>\n",
       "      <th>3</th>\n",
       "      <td>75136</td>\n",
       "      <td>13.147394</td>\n",
       "      <td>0.428964</td>\n",
       "      <td>1</td>\n",
       "    </tr>\n",
       "    <tr>\n",
       "      <th>4</th>\n",
       "      <td>38344</td>\n",
       "      <td>1.669788</td>\n",
       "      <td>0.134296</td>\n",
       "      <td>1</td>\n",
       "    </tr>\n",
       "    <tr>\n",
       "      <th>5</th>\n",
       "      <td>72993</td>\n",
       "      <td>10.141740</td>\n",
       "      <td>1.032955</td>\n",
       "      <td>1</td>\n",
       "    </tr>\n",
       "    <tr>\n",
       "      <th>8</th>\n",
       "      <td>67497</td>\n",
       "      <td>8.631577</td>\n",
       "      <td>0.749278</td>\n",
       "      <td>1</td>\n",
       "    </tr>\n",
       "    <tr>\n",
       "      <th>...</th>\n",
       "      <td>...</td>\n",
       "      <td>...</td>\n",
       "      <td>...</td>\n",
       "      <td>...</td>\n",
       "    </tr>\n",
       "    <tr>\n",
       "      <th>962</th>\n",
       "      <td>70839</td>\n",
       "      <td>15.600252</td>\n",
       "      <td>0.021935</td>\n",
       "      <td>1</td>\n",
       "    </tr>\n",
       "    <tr>\n",
       "      <th>971</th>\n",
       "      <td>64371</td>\n",
       "      <td>9.149678</td>\n",
       "      <td>0.874905</td>\n",
       "      <td>1</td>\n",
       "    </tr>\n",
       "    <tr>\n",
       "      <th>973</th>\n",
       "      <td>60613</td>\n",
       "      <td>3.620110</td>\n",
       "      <td>0.287767</td>\n",
       "      <td>1</td>\n",
       "    </tr>\n",
       "    <tr>\n",
       "      <th>976</th>\n",
       "      <td>74676</td>\n",
       "      <td>14.445740</td>\n",
       "      <td>1.211160</td>\n",
       "      <td>1</td>\n",
       "    </tr>\n",
       "    <tr>\n",
       "      <th>996</th>\n",
       "      <td>68846</td>\n",
       "      <td>9.974715</td>\n",
       "      <td>0.669787</td>\n",
       "      <td>1</td>\n",
       "    </tr>\n",
       "  </tbody>\n",
       "</table>\n",
       "<p>342 rows × 4 columns</p>\n",
       "</div>"
      ],
      "text/plain": [
       "        航程    视频时间百分比     冰淇淋升数  标签\n",
       "2    26052   1.441871  0.805124   1\n",
       "3    75136  13.147394  0.428964   1\n",
       "4    38344   1.669788  0.134296   1\n",
       "5    72993  10.141740  1.032955   1\n",
       "8    67497   8.631577  0.749278   1\n",
       "..     ...        ...       ...  ..\n",
       "962  70839  15.600252  0.021935   1\n",
       "971  64371   9.149678  0.874905   1\n",
       "973  60613   3.620110  0.287767   1\n",
       "976  74676  14.445740  1.211160   1\n",
       "996  68846   9.974715  0.669787   1\n",
       "\n",
       "[342 rows x 4 columns]"
      ]
     },
     "execution_count": 223,
     "metadata": {},
     "output_type": "execute_result"
    }
   ],
   "source": [
    "data.loc[data.标签 == 1]"
   ]
  },
  {
   "cell_type": "code",
   "execution_count": 224,
   "id": "a724273b-575e-4965-adce-1e911c715d31",
   "metadata": {},
   "outputs": [
    {
     "data": {
      "text/html": [
       "<div>\n",
       "<style scoped>\n",
       "    .dataframe tbody tr th:only-of-type {\n",
       "        vertical-align: middle;\n",
       "    }\n",
       "\n",
       "    .dataframe tbody tr th {\n",
       "        vertical-align: top;\n",
       "    }\n",
       "\n",
       "    .dataframe thead th {\n",
       "        text-align: right;\n",
       "    }\n",
       "</style>\n",
       "<table border=\"1\" class=\"dataframe\">\n",
       "  <thead>\n",
       "    <tr style=\"text-align: right;\">\n",
       "      <th></th>\n",
       "      <th>航程</th>\n",
       "      <th>视频时间百分比</th>\n",
       "      <th>冰淇淋升数</th>\n",
       "      <th>标签</th>\n",
       "    </tr>\n",
       "  </thead>\n",
       "  <tbody>\n",
       "    <tr>\n",
       "      <th>0</th>\n",
       "      <td>40920</td>\n",
       "      <td>8.326976</td>\n",
       "      <td>0.953952</td>\n",
       "      <td>3</td>\n",
       "    </tr>\n",
       "    <tr>\n",
       "      <th>2</th>\n",
       "      <td>26052</td>\n",
       "      <td>1.441871</td>\n",
       "      <td>0.805124</td>\n",
       "      <td>1</td>\n",
       "    </tr>\n",
       "    <tr>\n",
       "      <th>3</th>\n",
       "      <td>75136</td>\n",
       "      <td>13.147394</td>\n",
       "      <td>0.428964</td>\n",
       "      <td>1</td>\n",
       "    </tr>\n",
       "    <tr>\n",
       "      <th>4</th>\n",
       "      <td>38344</td>\n",
       "      <td>1.669788</td>\n",
       "      <td>0.134296</td>\n",
       "      <td>1</td>\n",
       "    </tr>\n",
       "    <tr>\n",
       "      <th>5</th>\n",
       "      <td>72993</td>\n",
       "      <td>10.141740</td>\n",
       "      <td>1.032955</td>\n",
       "      <td>1</td>\n",
       "    </tr>\n",
       "    <tr>\n",
       "      <th>...</th>\n",
       "      <td>...</td>\n",
       "      <td>...</td>\n",
       "      <td>...</td>\n",
       "      <td>...</td>\n",
       "    </tr>\n",
       "    <tr>\n",
       "      <th>990</th>\n",
       "      <td>27750</td>\n",
       "      <td>8.546741</td>\n",
       "      <td>0.128706</td>\n",
       "      <td>3</td>\n",
       "    </tr>\n",
       "    <tr>\n",
       "      <th>996</th>\n",
       "      <td>68846</td>\n",
       "      <td>9.974715</td>\n",
       "      <td>0.669787</td>\n",
       "      <td>1</td>\n",
       "    </tr>\n",
       "    <tr>\n",
       "      <th>997</th>\n",
       "      <td>26575</td>\n",
       "      <td>10.650102</td>\n",
       "      <td>0.866627</td>\n",
       "      <td>3</td>\n",
       "    </tr>\n",
       "    <tr>\n",
       "      <th>998</th>\n",
       "      <td>48111</td>\n",
       "      <td>9.134528</td>\n",
       "      <td>0.728045</td>\n",
       "      <td>3</td>\n",
       "    </tr>\n",
       "    <tr>\n",
       "      <th>999</th>\n",
       "      <td>43757</td>\n",
       "      <td>7.882601</td>\n",
       "      <td>1.332446</td>\n",
       "      <td>3</td>\n",
       "    </tr>\n",
       "  </tbody>\n",
       "</table>\n",
       "<p>669 rows × 4 columns</p>\n",
       "</div>"
      ],
      "text/plain": [
       "        航程    视频时间百分比     冰淇淋升数  标签\n",
       "0    40920   8.326976  0.953952   3\n",
       "2    26052   1.441871  0.805124   1\n",
       "3    75136  13.147394  0.428964   1\n",
       "4    38344   1.669788  0.134296   1\n",
       "5    72993  10.141740  1.032955   1\n",
       "..     ...        ...       ...  ..\n",
       "990  27750   8.546741  0.128706   3\n",
       "996  68846   9.974715  0.669787   1\n",
       "997  26575  10.650102  0.866627   3\n",
       "998  48111   9.134528  0.728045   3\n",
       "999  43757   7.882601  1.332446   3\n",
       "\n",
       "[669 rows x 4 columns]"
      ]
     },
     "execution_count": 224,
     "metadata": {},
     "output_type": "execute_result"
    }
   ],
   "source": [
    "data.loc[data.标签.isin([1, 3])]"
   ]
  },
  {
   "cell_type": "code",
   "execution_count": 226,
   "id": "3fa1ad92-e7ff-408b-b059-725b41cb8d91",
   "metadata": {},
   "outputs": [
    {
     "data": {
      "text/html": [
       "<div>\n",
       "<style scoped>\n",
       "    .dataframe tbody tr th:only-of-type {\n",
       "        vertical-align: middle;\n",
       "    }\n",
       "\n",
       "    .dataframe tbody tr th {\n",
       "        vertical-align: top;\n",
       "    }\n",
       "\n",
       "    .dataframe thead th {\n",
       "        text-align: right;\n",
       "    }\n",
       "</style>\n",
       "<table border=\"1\" class=\"dataframe\">\n",
       "  <thead>\n",
       "    <tr style=\"text-align: right;\">\n",
       "      <th></th>\n",
       "      <th>航程</th>\n",
       "      <th>视频时间百分比</th>\n",
       "      <th>冰淇淋升数</th>\n",
       "      <th>标签</th>\n",
       "    </tr>\n",
       "  </thead>\n",
       "  <tbody>\n",
       "    <tr>\n",
       "      <th>360</th>\n",
       "      <td>91273</td>\n",
       "      <td>20.919349</td>\n",
       "      <td>0.644571</td>\n",
       "      <td>1</td>\n",
       "    </tr>\n",
       "    <tr>\n",
       "      <th>434</th>\n",
       "      <td>81046</td>\n",
       "      <td>15.833048</td>\n",
       "      <td>1.568245</td>\n",
       "      <td>1</td>\n",
       "    </tr>\n",
       "    <tr>\n",
       "      <th>483</th>\n",
       "      <td>82008</td>\n",
       "      <td>8.362736</td>\n",
       "      <td>1.285939</td>\n",
       "      <td>1</td>\n",
       "    </tr>\n",
       "    <tr>\n",
       "      <th>818</th>\n",
       "      <td>86686</td>\n",
       "      <td>15.557263</td>\n",
       "      <td>1.430029</td>\n",
       "      <td>1</td>\n",
       "    </tr>\n",
       "    <tr>\n",
       "      <th>943</th>\n",
       "      <td>81597</td>\n",
       "      <td>11.221874</td>\n",
       "      <td>1.395015</td>\n",
       "      <td>1</td>\n",
       "    </tr>\n",
       "  </tbody>\n",
       "</table>\n",
       "</div>"
      ],
      "text/plain": [
       "        航程    视频时间百分比     冰淇淋升数  标签\n",
       "360  91273  20.919349  0.644571   1\n",
       "434  81046  15.833048  1.568245   1\n",
       "483  82008   8.362736  1.285939   1\n",
       "818  86686  15.557263  1.430029   1\n",
       "943  81597  11.221874  1.395015   1"
      ]
     },
     "execution_count": 226,
     "metadata": {},
     "output_type": "execute_result"
    }
   ],
   "source": [
    "data.loc[(data.标签==1) & (data.航程 > 80886)]"
   ]
  },
  {
   "cell_type": "code",
   "execution_count": 227,
   "id": "5f292d71-53db-42fe-86f4-9d1781634a58",
   "metadata": {},
   "outputs": [
    {
     "data": {
      "text/html": [
       "<div>\n",
       "<style scoped>\n",
       "    .dataframe tbody tr th:only-of-type {\n",
       "        vertical-align: middle;\n",
       "    }\n",
       "\n",
       "    .dataframe tbody tr th {\n",
       "        vertical-align: top;\n",
       "    }\n",
       "\n",
       "    .dataframe thead th {\n",
       "        text-align: right;\n",
       "    }\n",
       "</style>\n",
       "<table border=\"1\" class=\"dataframe\">\n",
       "  <thead>\n",
       "    <tr style=\"text-align: right;\">\n",
       "      <th></th>\n",
       "      <th>航程</th>\n",
       "      <th>视频时间百分比</th>\n",
       "      <th>冰淇淋升数</th>\n",
       "      <th>标签</th>\n",
       "    </tr>\n",
       "  </thead>\n",
       "  <tbody>\n",
       "    <tr>\n",
       "      <th>0</th>\n",
       "      <td>40920</td>\n",
       "      <td>8.326976</td>\n",
       "      <td>0.953952</td>\n",
       "      <td>3</td>\n",
       "    </tr>\n",
       "    <tr>\n",
       "      <th>6</th>\n",
       "      <td>35948</td>\n",
       "      <td>6.830792</td>\n",
       "      <td>1.213192</td>\n",
       "      <td>3</td>\n",
       "    </tr>\n",
       "    <tr>\n",
       "      <th>7</th>\n",
       "      <td>42666</td>\n",
       "      <td>13.276369</td>\n",
       "      <td>0.543880</td>\n",
       "      <td>3</td>\n",
       "    </tr>\n",
       "    <tr>\n",
       "      <th>9</th>\n",
       "      <td>35483</td>\n",
       "      <td>12.273169</td>\n",
       "      <td>1.508053</td>\n",
       "      <td>3</td>\n",
       "    </tr>\n",
       "    <tr>\n",
       "      <th>19</th>\n",
       "      <td>28488</td>\n",
       "      <td>10.528555</td>\n",
       "      <td>1.304844</td>\n",
       "      <td>3</td>\n",
       "    </tr>\n",
       "    <tr>\n",
       "      <th>...</th>\n",
       "      <td>...</td>\n",
       "      <td>...</td>\n",
       "      <td>...</td>\n",
       "      <td>...</td>\n",
       "    </tr>\n",
       "    <tr>\n",
       "      <th>977</th>\n",
       "      <td>34143</td>\n",
       "      <td>13.609528</td>\n",
       "      <td>0.364240</td>\n",
       "      <td>3</td>\n",
       "    </tr>\n",
       "    <tr>\n",
       "      <th>990</th>\n",
       "      <td>27750</td>\n",
       "      <td>8.546741</td>\n",
       "      <td>0.128706</td>\n",
       "      <td>3</td>\n",
       "    </tr>\n",
       "    <tr>\n",
       "      <th>997</th>\n",
       "      <td>26575</td>\n",
       "      <td>10.650102</td>\n",
       "      <td>0.866627</td>\n",
       "      <td>3</td>\n",
       "    </tr>\n",
       "    <tr>\n",
       "      <th>998</th>\n",
       "      <td>48111</td>\n",
       "      <td>9.134528</td>\n",
       "      <td>0.728045</td>\n",
       "      <td>3</td>\n",
       "    </tr>\n",
       "    <tr>\n",
       "      <th>999</th>\n",
       "      <td>43757</td>\n",
       "      <td>7.882601</td>\n",
       "      <td>1.332446</td>\n",
       "      <td>3</td>\n",
       "    </tr>\n",
       "  </tbody>\n",
       "</table>\n",
       "<p>327 rows × 4 columns</p>\n",
       "</div>"
      ],
      "text/plain": [
       "        航程    视频时间百分比     冰淇淋升数  标签\n",
       "0    40920   8.326976  0.953952   3\n",
       "6    35948   6.830792  1.213192   3\n",
       "7    42666  13.276369  0.543880   3\n",
       "9    35483  12.273169  1.508053   3\n",
       "19   28488  10.528555  1.304844   3\n",
       "..     ...        ...       ...  ..\n",
       "977  34143  13.609528  0.364240   3\n",
       "990  27750   8.546741  0.128706   3\n",
       "997  26575  10.650102  0.866627   3\n",
       "998  48111   9.134528  0.728045   3\n",
       "999  43757   7.882601  1.332446   3\n",
       "\n",
       "[327 rows x 4 columns]"
      ]
     },
     "execution_count": 227,
     "metadata": {},
     "output_type": "execute_result"
    }
   ],
   "source": [
    "data.loc[~data.标签.isin([1, 2])]"
   ]
  },
  {
   "cell_type": "code",
   "execution_count": 228,
   "id": "dd0c7044-05fb-448e-9ba1-6131de19af8b",
   "metadata": {},
   "outputs": [
    {
     "data": {
      "text/html": [
       "<div>\n",
       "<style scoped>\n",
       "    .dataframe tbody tr th:only-of-type {\n",
       "        vertical-align: middle;\n",
       "    }\n",
       "\n",
       "    .dataframe tbody tr th {\n",
       "        vertical-align: top;\n",
       "    }\n",
       "\n",
       "    .dataframe thead th {\n",
       "        text-align: right;\n",
       "    }\n",
       "</style>\n",
       "<table border=\"1\" class=\"dataframe\">\n",
       "  <thead>\n",
       "    <tr style=\"text-align: right;\">\n",
       "      <th></th>\n",
       "      <th>航程</th>\n",
       "      <th>视频时间百分比</th>\n",
       "      <th>冰淇淋升数</th>\n",
       "      <th>标签</th>\n",
       "    </tr>\n",
       "  </thead>\n",
       "  <tbody>\n",
       "    <tr>\n",
       "      <th>0</th>\n",
       "      <td>40920</td>\n",
       "      <td>8.326976</td>\n",
       "      <td>0.953952</td>\n",
       "      <td>3</td>\n",
       "    </tr>\n",
       "    <tr>\n",
       "      <th>1</th>\n",
       "      <td>14488</td>\n",
       "      <td>7.153469</td>\n",
       "      <td>1.673904</td>\n",
       "      <td>2</td>\n",
       "    </tr>\n",
       "    <tr>\n",
       "      <th>2</th>\n",
       "      <td>26052</td>\n",
       "      <td>1.441871</td>\n",
       "      <td>0.805124</td>\n",
       "      <td>1</td>\n",
       "    </tr>\n",
       "    <tr>\n",
       "      <th>3</th>\n",
       "      <td>75136</td>\n",
       "      <td>13.147394</td>\n",
       "      <td>0.428964</td>\n",
       "      <td>1</td>\n",
       "    </tr>\n",
       "    <tr>\n",
       "      <th>4</th>\n",
       "      <td>38344</td>\n",
       "      <td>1.669788</td>\n",
       "      <td>0.134296</td>\n",
       "      <td>1</td>\n",
       "    </tr>\n",
       "    <tr>\n",
       "      <th>...</th>\n",
       "      <td>...</td>\n",
       "      <td>...</td>\n",
       "      <td>...</td>\n",
       "      <td>...</td>\n",
       "    </tr>\n",
       "    <tr>\n",
       "      <th>995</th>\n",
       "      <td>11145</td>\n",
       "      <td>3.410627</td>\n",
       "      <td>0.631838</td>\n",
       "      <td>2</td>\n",
       "    </tr>\n",
       "    <tr>\n",
       "      <th>996</th>\n",
       "      <td>68846</td>\n",
       "      <td>9.974715</td>\n",
       "      <td>0.669787</td>\n",
       "      <td>1</td>\n",
       "    </tr>\n",
       "    <tr>\n",
       "      <th>997</th>\n",
       "      <td>26575</td>\n",
       "      <td>10.650102</td>\n",
       "      <td>0.866627</td>\n",
       "      <td>3</td>\n",
       "    </tr>\n",
       "    <tr>\n",
       "      <th>998</th>\n",
       "      <td>48111</td>\n",
       "      <td>9.134528</td>\n",
       "      <td>0.728045</td>\n",
       "      <td>3</td>\n",
       "    </tr>\n",
       "    <tr>\n",
       "      <th>999</th>\n",
       "      <td>43757</td>\n",
       "      <td>7.882601</td>\n",
       "      <td>1.332446</td>\n",
       "      <td>3</td>\n",
       "    </tr>\n",
       "  </tbody>\n",
       "</table>\n",
       "<p>1000 rows × 4 columns</p>\n",
       "</div>"
      ],
      "text/plain": [
       "        航程    视频时间百分比     冰淇淋升数  标签\n",
       "0    40920   8.326976  0.953952   3\n",
       "1    14488   7.153469  1.673904   2\n",
       "2    26052   1.441871  0.805124   1\n",
       "3    75136  13.147394  0.428964   1\n",
       "4    38344   1.669788  0.134296   1\n",
       "..     ...        ...       ...  ..\n",
       "995  11145   3.410627  0.631838   2\n",
       "996  68846   9.974715  0.669787   1\n",
       "997  26575  10.650102  0.866627   3\n",
       "998  48111   9.134528  0.728045   3\n",
       "999  43757   7.882601  1.332446   3\n",
       "\n",
       "[1000 rows x 4 columns]"
      ]
     },
     "execution_count": 228,
     "metadata": {},
     "output_type": "execute_result"
    }
   ],
   "source": [
    "data"
   ]
  },
  {
   "cell_type": "code",
   "execution_count": 229,
   "id": "62575c84-6f10-48cb-b427-351f11fa75bb",
   "metadata": {},
   "outputs": [
    {
     "data": {
      "text/html": [
       "<div>\n",
       "<style scoped>\n",
       "    .dataframe tbody tr th:only-of-type {\n",
       "        vertical-align: middle;\n",
       "    }\n",
       "\n",
       "    .dataframe tbody tr th {\n",
       "        vertical-align: top;\n",
       "    }\n",
       "\n",
       "    .dataframe thead th {\n",
       "        text-align: right;\n",
       "    }\n",
       "</style>\n",
       "<table border=\"1\" class=\"dataframe\">\n",
       "  <thead>\n",
       "    <tr style=\"text-align: right;\">\n",
       "      <th></th>\n",
       "      <th>航程</th>\n",
       "      <th>视频时间百分比</th>\n",
       "      <th>冰淇淋升数</th>\n",
       "      <th>标签</th>\n",
       "    </tr>\n",
       "  </thead>\n",
       "  <tbody>\n",
       "    <tr>\n",
       "      <th>count</th>\n",
       "      <td>1000.000000</td>\n",
       "      <td>1000.000000</td>\n",
       "      <td>1000.000000</td>\n",
       "      <td>1000.000000</td>\n",
       "    </tr>\n",
       "    <tr>\n",
       "      <th>mean</th>\n",
       "      <td>33635.421000</td>\n",
       "      <td>6.559961</td>\n",
       "      <td>0.832073</td>\n",
       "      <td>1.985000</td>\n",
       "    </tr>\n",
       "    <tr>\n",
       "      <th>std</th>\n",
       "      <td>21957.006833</td>\n",
       "      <td>4.243618</td>\n",
       "      <td>0.497239</td>\n",
       "      <td>0.818196</td>\n",
       "    </tr>\n",
       "    <tr>\n",
       "      <th>min</th>\n",
       "      <td>0.000000</td>\n",
       "      <td>0.000000</td>\n",
       "      <td>0.001156</td>\n",
       "      <td>1.000000</td>\n",
       "    </tr>\n",
       "    <tr>\n",
       "      <th>25%</th>\n",
       "      <td>13796.000000</td>\n",
       "      <td>2.933963</td>\n",
       "      <td>0.408995</td>\n",
       "      <td>1.000000</td>\n",
       "    </tr>\n",
       "    <tr>\n",
       "      <th>50%</th>\n",
       "      <td>31669.000000</td>\n",
       "      <td>6.595204</td>\n",
       "      <td>0.809420</td>\n",
       "      <td>2.000000</td>\n",
       "    </tr>\n",
       "    <tr>\n",
       "      <th>75%</th>\n",
       "      <td>47716.250000</td>\n",
       "      <td>10.056501</td>\n",
       "      <td>1.272847</td>\n",
       "      <td>3.000000</td>\n",
       "    </tr>\n",
       "    <tr>\n",
       "      <th>max</th>\n",
       "      <td>91273.000000</td>\n",
       "      <td>20.919349</td>\n",
       "      <td>1.695517</td>\n",
       "      <td>3.000000</td>\n",
       "    </tr>\n",
       "  </tbody>\n",
       "</table>\n",
       "</div>"
      ],
      "text/plain": [
       "                 航程      视频时间百分比        冰淇淋升数           标签\n",
       "count   1000.000000  1000.000000  1000.000000  1000.000000\n",
       "mean   33635.421000     6.559961     0.832073     1.985000\n",
       "std    21957.006833     4.243618     0.497239     0.818196\n",
       "min        0.000000     0.000000     0.001156     1.000000\n",
       "25%    13796.000000     2.933963     0.408995     1.000000\n",
       "50%    31669.000000     6.595204     0.809420     2.000000\n",
       "75%    47716.250000    10.056501     1.272847     3.000000\n",
       "max    91273.000000    20.919349     1.695517     3.000000"
      ]
     },
     "execution_count": 229,
     "metadata": {},
     "output_type": "execute_result"
    }
   ],
   "source": [
    "data.describe()"
   ]
  },
  {
   "cell_type": "code",
   "execution_count": 230,
   "id": "efd6c63b-f4f0-4a87-97e1-1da4e19d4ba9",
   "metadata": {},
   "outputs": [
    {
     "data": {
      "text/html": [
       "<div>\n",
       "<style scoped>\n",
       "    .dataframe tbody tr th:only-of-type {\n",
       "        vertical-align: middle;\n",
       "    }\n",
       "\n",
       "    .dataframe tbody tr th {\n",
       "        vertical-align: top;\n",
       "    }\n",
       "\n",
       "    .dataframe thead th {\n",
       "        text-align: right;\n",
       "    }\n",
       "</style>\n",
       "<table border=\"1\" class=\"dataframe\">\n",
       "  <thead>\n",
       "    <tr style=\"text-align: right;\">\n",
       "      <th></th>\n",
       "      <th>航程</th>\n",
       "      <th>视频时间百分比</th>\n",
       "      <th>冰淇淋升数</th>\n",
       "      <th>标签</th>\n",
       "    </tr>\n",
       "  </thead>\n",
       "  <tbody>\n",
       "    <tr>\n",
       "      <th>0</th>\n",
       "      <td>40920</td>\n",
       "      <td>8.326976</td>\n",
       "      <td>0.953952</td>\n",
       "      <td>3</td>\n",
       "    </tr>\n",
       "    <tr>\n",
       "      <th>1</th>\n",
       "      <td>14488</td>\n",
       "      <td>7.153469</td>\n",
       "      <td>1.673904</td>\n",
       "      <td>2</td>\n",
       "    </tr>\n",
       "    <tr>\n",
       "      <th>2</th>\n",
       "      <td>26052</td>\n",
       "      <td>1.441871</td>\n",
       "      <td>0.805124</td>\n",
       "      <td>1</td>\n",
       "    </tr>\n",
       "    <tr>\n",
       "      <th>3</th>\n",
       "      <td>75136</td>\n",
       "      <td>13.147394</td>\n",
       "      <td>0.428964</td>\n",
       "      <td>1</td>\n",
       "    </tr>\n",
       "    <tr>\n",
       "      <th>4</th>\n",
       "      <td>38344</td>\n",
       "      <td>1.669788</td>\n",
       "      <td>0.134296</td>\n",
       "      <td>1</td>\n",
       "    </tr>\n",
       "    <tr>\n",
       "      <th>...</th>\n",
       "      <td>...</td>\n",
       "      <td>...</td>\n",
       "      <td>...</td>\n",
       "      <td>...</td>\n",
       "    </tr>\n",
       "    <tr>\n",
       "      <th>995</th>\n",
       "      <td>11145</td>\n",
       "      <td>3.410627</td>\n",
       "      <td>0.631838</td>\n",
       "      <td>2</td>\n",
       "    </tr>\n",
       "    <tr>\n",
       "      <th>996</th>\n",
       "      <td>68846</td>\n",
       "      <td>9.974715</td>\n",
       "      <td>0.669787</td>\n",
       "      <td>1</td>\n",
       "    </tr>\n",
       "    <tr>\n",
       "      <th>997</th>\n",
       "      <td>26575</td>\n",
       "      <td>10.650102</td>\n",
       "      <td>0.866627</td>\n",
       "      <td>3</td>\n",
       "    </tr>\n",
       "    <tr>\n",
       "      <th>998</th>\n",
       "      <td>48111</td>\n",
       "      <td>9.134528</td>\n",
       "      <td>0.728045</td>\n",
       "      <td>3</td>\n",
       "    </tr>\n",
       "    <tr>\n",
       "      <th>999</th>\n",
       "      <td>43757</td>\n",
       "      <td>7.882601</td>\n",
       "      <td>1.332446</td>\n",
       "      <td>3</td>\n",
       "    </tr>\n",
       "  </tbody>\n",
       "</table>\n",
       "<p>1000 rows × 4 columns</p>\n",
       "</div>"
      ],
      "text/plain": [
       "        航程    视频时间百分比     冰淇淋升数  标签\n",
       "0    40920   8.326976  0.953952   3\n",
       "1    14488   7.153469  1.673904   2\n",
       "2    26052   1.441871  0.805124   1\n",
       "3    75136  13.147394  0.428964   1\n",
       "4    38344   1.669788  0.134296   1\n",
       "..     ...        ...       ...  ..\n",
       "995  11145   3.410627  0.631838   2\n",
       "996  68846   9.974715  0.669787   1\n",
       "997  26575  10.650102  0.866627   3\n",
       "998  48111   9.134528  0.728045   3\n",
       "999  43757   7.882601  1.332446   3\n",
       "\n",
       "[1000 rows x 4 columns]"
      ]
     },
     "execution_count": 230,
     "metadata": {},
     "output_type": "execute_result"
    }
   ],
   "source": [
    "data.sort_index()"
   ]
  },
  {
   "cell_type": "code",
   "execution_count": 231,
   "id": "d59ecee3-e5c9-4447-8486-7bb96cd26161",
   "metadata": {},
   "outputs": [
    {
     "data": {
      "text/html": [
       "<div>\n",
       "<style scoped>\n",
       "    .dataframe tbody tr th:only-of-type {\n",
       "        vertical-align: middle;\n",
       "    }\n",
       "\n",
       "    .dataframe tbody tr th {\n",
       "        vertical-align: top;\n",
       "    }\n",
       "\n",
       "    .dataframe thead th {\n",
       "        text-align: right;\n",
       "    }\n",
       "</style>\n",
       "<table border=\"1\" class=\"dataframe\">\n",
       "  <thead>\n",
       "    <tr style=\"text-align: right;\">\n",
       "      <th></th>\n",
       "      <th>冰淇淋升数</th>\n",
       "      <th>标签</th>\n",
       "      <th>航程</th>\n",
       "      <th>视频时间百分比</th>\n",
       "    </tr>\n",
       "  </thead>\n",
       "  <tbody>\n",
       "    <tr>\n",
       "      <th>0</th>\n",
       "      <td>0.953952</td>\n",
       "      <td>3</td>\n",
       "      <td>40920</td>\n",
       "      <td>8.326976</td>\n",
       "    </tr>\n",
       "    <tr>\n",
       "      <th>1</th>\n",
       "      <td>1.673904</td>\n",
       "      <td>2</td>\n",
       "      <td>14488</td>\n",
       "      <td>7.153469</td>\n",
       "    </tr>\n",
       "    <tr>\n",
       "      <th>2</th>\n",
       "      <td>0.805124</td>\n",
       "      <td>1</td>\n",
       "      <td>26052</td>\n",
       "      <td>1.441871</td>\n",
       "    </tr>\n",
       "    <tr>\n",
       "      <th>3</th>\n",
       "      <td>0.428964</td>\n",
       "      <td>1</td>\n",
       "      <td>75136</td>\n",
       "      <td>13.147394</td>\n",
       "    </tr>\n",
       "    <tr>\n",
       "      <th>4</th>\n",
       "      <td>0.134296</td>\n",
       "      <td>1</td>\n",
       "      <td>38344</td>\n",
       "      <td>1.669788</td>\n",
       "    </tr>\n",
       "    <tr>\n",
       "      <th>...</th>\n",
       "      <td>...</td>\n",
       "      <td>...</td>\n",
       "      <td>...</td>\n",
       "      <td>...</td>\n",
       "    </tr>\n",
       "    <tr>\n",
       "      <th>995</th>\n",
       "      <td>0.631838</td>\n",
       "      <td>2</td>\n",
       "      <td>11145</td>\n",
       "      <td>3.410627</td>\n",
       "    </tr>\n",
       "    <tr>\n",
       "      <th>996</th>\n",
       "      <td>0.669787</td>\n",
       "      <td>1</td>\n",
       "      <td>68846</td>\n",
       "      <td>9.974715</td>\n",
       "    </tr>\n",
       "    <tr>\n",
       "      <th>997</th>\n",
       "      <td>0.866627</td>\n",
       "      <td>3</td>\n",
       "      <td>26575</td>\n",
       "      <td>10.650102</td>\n",
       "    </tr>\n",
       "    <tr>\n",
       "      <th>998</th>\n",
       "      <td>0.728045</td>\n",
       "      <td>3</td>\n",
       "      <td>48111</td>\n",
       "      <td>9.134528</td>\n",
       "    </tr>\n",
       "    <tr>\n",
       "      <th>999</th>\n",
       "      <td>1.332446</td>\n",
       "      <td>3</td>\n",
       "      <td>43757</td>\n",
       "      <td>7.882601</td>\n",
       "    </tr>\n",
       "  </tbody>\n",
       "</table>\n",
       "<p>1000 rows × 4 columns</p>\n",
       "</div>"
      ],
      "text/plain": [
       "        冰淇淋升数  标签     航程    视频时间百分比\n",
       "0    0.953952   3  40920   8.326976\n",
       "1    1.673904   2  14488   7.153469\n",
       "2    0.805124   1  26052   1.441871\n",
       "3    0.428964   1  75136  13.147394\n",
       "4    0.134296   1  38344   1.669788\n",
       "..        ...  ..    ...        ...\n",
       "995  0.631838   2  11145   3.410627\n",
       "996  0.669787   1  68846   9.974715\n",
       "997  0.866627   3  26575  10.650102\n",
       "998  0.728045   3  48111   9.134528\n",
       "999  1.332446   3  43757   7.882601\n",
       "\n",
       "[1000 rows x 4 columns]"
      ]
     },
     "execution_count": 231,
     "metadata": {},
     "output_type": "execute_result"
    }
   ],
   "source": [
    "data.sort_index(axis=1)"
   ]
  },
  {
   "cell_type": "code",
   "execution_count": 232,
   "id": "b8804938-98e4-47df-8b48-bf4e94211918",
   "metadata": {},
   "outputs": [
    {
     "data": {
      "text/html": [
       "<div>\n",
       "<style scoped>\n",
       "    .dataframe tbody tr th:only-of-type {\n",
       "        vertical-align: middle;\n",
       "    }\n",
       "\n",
       "    .dataframe tbody tr th {\n",
       "        vertical-align: top;\n",
       "    }\n",
       "\n",
       "    .dataframe thead th {\n",
       "        text-align: right;\n",
       "    }\n",
       "</style>\n",
       "<table border=\"1\" class=\"dataframe\">\n",
       "  <thead>\n",
       "    <tr style=\"text-align: right;\">\n",
       "      <th></th>\n",
       "      <th>航程</th>\n",
       "      <th>视频时间百分比</th>\n",
       "      <th>冰淇淋升数</th>\n",
       "      <th>标签</th>\n",
       "    </tr>\n",
       "  </thead>\n",
       "  <tbody>\n",
       "    <tr>\n",
       "      <th>374</th>\n",
       "      <td>68997</td>\n",
       "      <td>9.778962</td>\n",
       "      <td>1.195498</td>\n",
       "      <td>1</td>\n",
       "    </tr>\n",
       "    <tr>\n",
       "      <th>293</th>\n",
       "      <td>22812</td>\n",
       "      <td>2.719723</td>\n",
       "      <td>1.142148</td>\n",
       "      <td>1</td>\n",
       "    </tr>\n",
       "    <tr>\n",
       "      <th>807</th>\n",
       "      <td>37980</td>\n",
       "      <td>1.723201</td>\n",
       "      <td>0.310488</td>\n",
       "      <td>1</td>\n",
       "    </tr>\n",
       "    <tr>\n",
       "      <th>290</th>\n",
       "      <td>55536</td>\n",
       "      <td>3.052505</td>\n",
       "      <td>1.335804</td>\n",
       "      <td>1</td>\n",
       "    </tr>\n",
       "    <tr>\n",
       "      <th>902</th>\n",
       "      <td>55783</td>\n",
       "      <td>3.612548</td>\n",
       "      <td>1.551911</td>\n",
       "      <td>1</td>\n",
       "    </tr>\n",
       "    <tr>\n",
       "      <th>...</th>\n",
       "      <td>...</td>\n",
       "      <td>...</td>\n",
       "      <td>...</td>\n",
       "      <td>...</td>\n",
       "    </tr>\n",
       "    <tr>\n",
       "      <th>472</th>\n",
       "      <td>48907</td>\n",
       "      <td>8.819454</td>\n",
       "      <td>0.649292</td>\n",
       "      <td>3</td>\n",
       "    </tr>\n",
       "    <tr>\n",
       "      <th>471</th>\n",
       "      <td>33564</td>\n",
       "      <td>7.474534</td>\n",
       "      <td>0.505790</td>\n",
       "      <td>3</td>\n",
       "    </tr>\n",
       "    <tr>\n",
       "      <th>470</th>\n",
       "      <td>22447</td>\n",
       "      <td>6.116109</td>\n",
       "      <td>0.701523</td>\n",
       "      <td>3</td>\n",
       "    </tr>\n",
       "    <tr>\n",
       "      <th>506</th>\n",
       "      <td>39296</td>\n",
       "      <td>9.923018</td>\n",
       "      <td>0.092192</td>\n",
       "      <td>3</td>\n",
       "    </tr>\n",
       "    <tr>\n",
       "      <th>999</th>\n",
       "      <td>43757</td>\n",
       "      <td>7.882601</td>\n",
       "      <td>1.332446</td>\n",
       "      <td>3</td>\n",
       "    </tr>\n",
       "  </tbody>\n",
       "</table>\n",
       "<p>1000 rows × 4 columns</p>\n",
       "</div>"
      ],
      "text/plain": [
       "        航程   视频时间百分比     冰淇淋升数  标签\n",
       "374  68997  9.778962  1.195498   1\n",
       "293  22812  2.719723  1.142148   1\n",
       "807  37980  1.723201  0.310488   1\n",
       "290  55536  3.052505  1.335804   1\n",
       "902  55783  3.612548  1.551911   1\n",
       "..     ...       ...       ...  ..\n",
       "472  48907  8.819454  0.649292   3\n",
       "471  33564  7.474534  0.505790   3\n",
       "470  22447  6.116109  0.701523   3\n",
       "506  39296  9.923018  0.092192   3\n",
       "999  43757  7.882601  1.332446   3\n",
       "\n",
       "[1000 rows x 4 columns]"
      ]
     },
     "execution_count": 232,
     "metadata": {},
     "output_type": "execute_result"
    }
   ],
   "source": [
    "data.sort_values('标签')"
   ]
  },
  {
   "cell_type": "code",
   "execution_count": 233,
   "id": "1ebf0c97-8422-4fe2-be85-ca08c4ed7e22",
   "metadata": {},
   "outputs": [
    {
     "data": {
      "text/plain": [
       "航程         3.363542e+07\n",
       "视频时间百分比    6.559961e+03\n",
       "冰淇淋升数      8.320730e+02\n",
       "标签         1.985000e+03\n",
       "dtype: float64"
      ]
     },
     "execution_count": 233,
     "metadata": {},
     "output_type": "execute_result"
    }
   ],
   "source": [
    "data.sum()"
   ]
  },
  {
   "cell_type": "code",
   "execution_count": 234,
   "id": "f8630d4e-fd40-4eeb-8a94-b59b4db055e9",
   "metadata": {},
   "outputs": [
    {
     "data": {
      "text/plain": [
       "航程         1000\n",
       "视频时间百分比    1000\n",
       "冰淇淋升数      1000\n",
       "标签         1000\n",
       "dtype: int64"
      ]
     },
     "execution_count": 234,
     "metadata": {},
     "output_type": "execute_result"
    }
   ],
   "source": [
    "data.count()"
   ]
  },
  {
   "cell_type": "code",
   "execution_count": 235,
   "id": "de4305bf-24e5-4542-a8d2-a86dac5bfa95",
   "metadata": {},
   "outputs": [
    {
     "data": {
      "text/plain": [
       "航程         33635.421000\n",
       "视频时间百分比        6.559961\n",
       "冰淇淋升数          0.832073\n",
       "标签             1.985000\n",
       "dtype: float64"
      ]
     },
     "execution_count": 235,
     "metadata": {},
     "output_type": "execute_result"
    }
   ],
   "source": [
    "data.mean()"
   ]
  },
  {
   "cell_type": "code",
   "execution_count": 236,
   "id": "1ba015a8-418b-4bd5-badd-a9a6a8c4b062",
   "metadata": {},
   "outputs": [
    {
     "data": {
      "text/html": [
       "<div>\n",
       "<style scoped>\n",
       "    .dataframe tbody tr th:only-of-type {\n",
       "        vertical-align: middle;\n",
       "    }\n",
       "\n",
       "    .dataframe tbody tr th {\n",
       "        vertical-align: top;\n",
       "    }\n",
       "\n",
       "    .dataframe thead th {\n",
       "        text-align: right;\n",
       "    }\n",
       "</style>\n",
       "<table border=\"1\" class=\"dataframe\">\n",
       "  <thead>\n",
       "    <tr style=\"text-align: right;\">\n",
       "      <th></th>\n",
       "      <th>航程</th>\n",
       "      <th>视频时间百分比</th>\n",
       "      <th>冰淇淋升数</th>\n",
       "      <th>标签</th>\n",
       "    </tr>\n",
       "  </thead>\n",
       "  <tbody>\n",
       "    <tr>\n",
       "      <th>count</th>\n",
       "      <td>1000.000000</td>\n",
       "      <td>1000.000000</td>\n",
       "      <td>1000.000000</td>\n",
       "      <td>1000.000000</td>\n",
       "    </tr>\n",
       "    <tr>\n",
       "      <th>mean</th>\n",
       "      <td>33635.421000</td>\n",
       "      <td>6.559961</td>\n",
       "      <td>0.832073</td>\n",
       "      <td>1.985000</td>\n",
       "    </tr>\n",
       "    <tr>\n",
       "      <th>std</th>\n",
       "      <td>21957.006833</td>\n",
       "      <td>4.243618</td>\n",
       "      <td>0.497239</td>\n",
       "      <td>0.818196</td>\n",
       "    </tr>\n",
       "    <tr>\n",
       "      <th>min</th>\n",
       "      <td>0.000000</td>\n",
       "      <td>0.000000</td>\n",
       "      <td>0.001156</td>\n",
       "      <td>1.000000</td>\n",
       "    </tr>\n",
       "    <tr>\n",
       "      <th>25%</th>\n",
       "      <td>13796.000000</td>\n",
       "      <td>2.933963</td>\n",
       "      <td>0.408995</td>\n",
       "      <td>1.000000</td>\n",
       "    </tr>\n",
       "    <tr>\n",
       "      <th>50%</th>\n",
       "      <td>31669.000000</td>\n",
       "      <td>6.595204</td>\n",
       "      <td>0.809420</td>\n",
       "      <td>2.000000</td>\n",
       "    </tr>\n",
       "    <tr>\n",
       "      <th>75%</th>\n",
       "      <td>47716.250000</td>\n",
       "      <td>10.056501</td>\n",
       "      <td>1.272847</td>\n",
       "      <td>3.000000</td>\n",
       "    </tr>\n",
       "    <tr>\n",
       "      <th>max</th>\n",
       "      <td>91273.000000</td>\n",
       "      <td>20.919349</td>\n",
       "      <td>1.695517</td>\n",
       "      <td>3.000000</td>\n",
       "    </tr>\n",
       "  </tbody>\n",
       "</table>\n",
       "</div>"
      ],
      "text/plain": [
       "                 航程      视频时间百分比        冰淇淋升数           标签\n",
       "count   1000.000000  1000.000000  1000.000000  1000.000000\n",
       "mean   33635.421000     6.559961     0.832073     1.985000\n",
       "std    21957.006833     4.243618     0.497239     0.818196\n",
       "min        0.000000     0.000000     0.001156     1.000000\n",
       "25%    13796.000000     2.933963     0.408995     1.000000\n",
       "50%    31669.000000     6.595204     0.809420     2.000000\n",
       "75%    47716.250000    10.056501     1.272847     3.000000\n",
       "max    91273.000000    20.919349     1.695517     3.000000"
      ]
     },
     "execution_count": 236,
     "metadata": {},
     "output_type": "execute_result"
    }
   ],
   "source": [
    "data.describe()"
   ]
  },
  {
   "cell_type": "code",
   "execution_count": 237,
   "id": "8ad72be6-2b09-4175-879b-f09fafee8bd1",
   "metadata": {},
   "outputs": [
    {
     "data": {
      "text/plain": [
       "航程         91273.000000\n",
       "视频时间百分比       20.919349\n",
       "冰淇淋升数          1.695517\n",
       "标签             3.000000\n",
       "dtype: float64"
      ]
     },
     "execution_count": 237,
     "metadata": {},
     "output_type": "execute_result"
    }
   ],
   "source": [
    "data.max()"
   ]
  },
  {
   "cell_type": "code",
   "execution_count": 238,
   "id": "93568929-43c7-4f68-8d71-f33e4da01a3f",
   "metadata": {},
   "outputs": [
    {
     "data": {
      "text/plain": [
       "航程         360\n",
       "视频时间百分比    360\n",
       "冰淇淋升数      392\n",
       "标签           0\n",
       "dtype: int64"
      ]
     },
     "execution_count": 238,
     "metadata": {},
     "output_type": "execute_result"
    }
   ],
   "source": [
    "data.idxmax()"
   ]
  },
  {
   "cell_type": "code",
   "execution_count": 239,
   "id": "e29f23d4-2324-4318-ac86-9fc56d19167d",
   "metadata": {},
   "outputs": [
    {
     "data": {
      "text/plain": [
       "航程          87\n",
       "视频时间百分比     18\n",
       "冰淇淋升数      537\n",
       "标签           2\n",
       "dtype: int64"
      ]
     },
     "execution_count": 239,
     "metadata": {},
     "output_type": "execute_result"
    }
   ],
   "source": [
    "data.idxmin()"
   ]
  },
  {
   "cell_type": "code",
   "execution_count": 240,
   "id": "8b0a2717-2d14-4b78-884b-d45ca896d830",
   "metadata": {},
   "outputs": [
    {
     "data": {
      "text/plain": [
       "<AxesSubplot:xlabel='航程', ylabel='视频时间百分比'>"
      ]
     },
     "execution_count": 240,
     "metadata": {},
     "output_type": "execute_result"
    },
    {
     "data": {
      "image/png": "[encoded data removed]",
      "text/plain": [
       "<Figure size 432x288 with 1 Axes>"
      ]
     },
     "metadata": {
      "needs_background": "light"
     },
     "output_type": "display_data"
    }
   ],
   "source": [
    "data.plot(kind='scatter', x='航程', y='视频时间百分比', )"
   ]
  },
  {
   "cell_type": "code",
   "execution_count": 244,
   "id": "95b8f643-0dc6-4b89-9278-3f9b1a89f065",
   "metadata": {},
   "outputs": [],
   "source": [
    "import pandas as pd\n",
    "import matplotlib.pyplot as plt"
   ]
  },
  {
   "cell_type": "code",
   "execution_count": 247,
   "id": "2b92e132-04a6-4476-8909-a0bfc2909044",
   "metadata": {},
   "outputs": [
    {
     "data": {
      "image/png": "[encoded data removed]",
      "text/plain": [
       "<Figure size 432x288 with 1 Axes>"
      ]
     },
     "metadata": {
      "needs_background": "light"
     },
     "output_type": "display_data"
    }
   ],
   "source": [
    "path = \"D:\\Project\\Data-Analysis-and-Display\\data\\datingTestSet2.txt\"\n",
    "data = pd.read_csv(path, sep = '\\t', names=['航程', '视频时间百分比', '冰淇淋升数', '标签'])\n",
    "# 第二步：将所需数据赋值给对应的变量\n",
    "x = data.航程\n",
    "y = data.视频时间百分比\n",
    "\n",
    "colors = 15.0 * data.标签\n",
    "\n",
    "plt.scatter(x, y, c=colors)\n",
    "plt.xlabel('X')\n",
    "plt.ylabel('Y')\n",
    "plt.show()"
   ]
  },
  {
   "cell_type": "code",
   "execution_count": 248,
   "id": "a96cd06d-c28b-4fd3-a573-b4ae491c5dcd",
   "metadata": {},
   "outputs": [
    {
     "ename": "TypeError",
     "evalue": "'numpy.ndarray' object is not callable",
     "output_type": "error",
     "traceback": [
      "\u001b[1;31m---------------------------------------------------------------------------\u001b[0m",
      "\u001b[1;31mTypeError\u001b[0m                                 Traceback (most recent call last)",
      "\u001b[1;32m~\\AppData\\Local\\Temp/ipykernel_2340/3376314301.py\u001b[0m in \u001b[0;36m<module>\u001b[1;34m\u001b[0m\n\u001b[1;32m----> 1\u001b[1;33m \u001b[0mdata\u001b[0m\u001b[1;33m.\u001b[0m\u001b[0mvalues\u001b[0m\u001b[1;33m(\u001b[0m\u001b[1;33m)\u001b[0m\u001b[1;33m\u001b[0m\u001b[1;33m\u001b[0m\u001b[0m\n\u001b[0m",
      "\u001b[1;31mTypeError\u001b[0m: 'numpy.ndarray' object is not callable"
     ]
    }
   ],
   "source": [
    "data.values()"
   ]
  },
  {
   "cell_type": "code",
   "execution_count": null,
   "id": "b9466722-6f95-41cd-8ed3-e0d8f7e04cfe",
   "metadata": {},
   "outputs": [],
   "source": []
  },
  {
   "cell_type": "code",
   "execution_count": null,
   "id": "17a65fbf-a68e-40a5-a878-bbed84b8d649",
   "metadata": {},
   "outputs": [],
   "source": []
  },
  {
   "cell_type": "code",
   "execution_count": 1,
   "id": "5d9aa570-605e-4035-9e5d-22deb0e80e55",
   "metadata": {},
   "outputs": [],
   "source": [
    "from urllib.request import urlopen"
   ]
  },
  {
   "cell_type": "code",
   "execution_count": 2,
   "id": "779775fb-ee41-43d8-bf70-167f54d81cf0",
   "metadata": {},
   "outputs": [],
   "source": [
    "html = urlopen(\"https://arctee.cn\")"
   ]
  },
  {
   "cell_type": "code",
   "execution_count": 3,
   "id": "6c0abfe3-12f6-4cce-b0a4-b0227ccb282a",
   "metadata": {},
   "outputs": [
    {
     "name": "stdout",
     "output_type": "stream",
     "text": [
      "b'<!DOCTYPE html>\\n<html lang=\"zh-cn\">\\n\\n<head>\\n    <meta charset=\"UTF-8\">\\n    <meta http-equiv=\"X-UA-Compatible\" content=\"ie=edge\">\\n    <title>\\xe7\\xa0\\xb4\\xe5\\xa3\\xb3AI - Tech For Social Good</title>\\n    <meta name=\"viewport\" content=\"width=device-width, initial-scale=1, shrink-to-fit=no\">\\n    <meta name=\"format-detection\" content=\"telphone=no, email=no\">\\n    <meta name=\"keywords\" content=\"\\xe7\\xa0\\xb4\\xe5\\xa3\\xb3AI,\\xe5\\x8f\\xa4\\xe6\\x9c\\x88\\xe5\\xbc\\xa7,AI\\xe6\\x8a\\x80\\xe6\\x9c\\xaf,\\xe6\\x9c\\xba\\xe5\\x99\\xa8\\xe5\\xad\\xa6\\xe4\\xb9\\xa0,\\xe6\\xb7\\xb1\\xe5\\xba\\xa6\\xe5\\xad\\xa6\\xe4\\xb9\\xa0,\\xe8\\xae\\xa1\\xe7\\xae\\x97\\xe6\\x9c\\xba\\xe5\\xba\\x95\\xe5\\xb1\\x82\">\\n    <meta name=\"description\" itemprop=\"description\" content=\"\\xe7\\xa0\\xb4\\xe5\\xa3\\xb3AI\\xef\\xbc\\x8c\\xe8\\xb7\\x9f\\xe9\\x9a\\x8f\\xe6\\x9c\\xaa\\xe6\\x9d\\xa5\\xe7\\xa7\\x91\\xe6\\x8a\\x80\\xe8\\xbf\\x9b\\xe5\\xb1\\x95\\xef\\xbc\\x8c\\xe5\\xa6\\x82\\xe5\\x89\\xa5\\xe5\\xa3\\xb3\\xe8\\x88\\xac\\xe4\\xbb\\x8e\\xe8\\xae\\xa1\\xe7\\xae\\x97\\xe6\\x9c\\xba\\xe5\\xba\\x95\\xe5\\xb1\\x82\\xe5\\x88\\xb0AI\\xe6\\x8a\\x80\\xe6\\x9c\\xaf\\xe5\\xb1\\x82\\xe7\\x9a\\x84\\xe8\\x87\\xaa\\xe5\\xad\\xa6\\xe3\\x80\\x81\\xe5\\x88\\x86\\xe4\\xba\\xab\\xe5\\x92\\x8c\\xe4\\xba\\xa4\\xe6\\xb5\\x81\\xe7\\x9a\\x84\\xe4\\xb8\\xaa\\xe4\\xba\\xba\\xe7\\xbd\\x91\\xe7\\xab\\x99\\xe3\\x80\\x82\">\\n    <meta name=\"theme-color\" content=\"#282a2c\">\\n    <meta itemprop=\"image\" content=\"https://arctee.cn/wp-content/uploads/2020/09/c-primer-plus.jpg\" />\\n    <link rel=\"shortcut icon\" href=\"https://arctee.cn/wp-content/uploads/2019/10/bitbug_favicon-1.ico\">    <meta name=\\'robots\\' content=\\'max-image-preview:large\\' />\\n<link rel=\\'dns-prefetch\\' href=\\'//arctee.cn\\' />\\n<link rel=\\'dns-prefetch\\' href=\\'//cdn.seatonjiang.com\\' />\\n<link rel=\\'dns-prefetch\\' href=\\'//cdn.jsdelivr.net\\' />\\n<style id=\\'global-styles-inline-css\\' type=\\'text/css\\'>\\nbody{--wp--preset--color--black: #000000;--wp--preset--color--cyan-bluish-gray: #abb8c3;--wp--preset--color--white: #ffffff;--wp--preset--color--pale-pink: #f78da7;--wp--preset--color--vivid-red: #cf2e2e;--wp--preset--color--luminous-vivid-orange: #ff6900;--wp--preset--color--luminous-vivid-amber: #fcb900;--wp--preset--color--light-green-cyan: #7bdcb5;--wp--preset--color--vivid-green-cyan: #00d084;--wp--preset--color--pale-cyan-blue: #8ed1fc;--wp--preset--color--vivid-cyan-blue: #0693e3;--wp--preset--color--vivid-purple: #9b51e0;--wp--preset--gradient--vivid-cyan-blue-to-vivid-purple: linear-gradient(135deg,rgba(6,147,227,1) 0%,rgb(155,81,224) 100%);--wp--preset--gradient--light-green-cyan-to-vivid-green-cyan: linear-gradient(135deg,rgb(122,220,180) 0%,rgb(0,208,130) 100%);--wp--preset--gradient--luminous-vivid-amber-to-luminous-vivid-orange: linear-gradient(135deg,rgba(252,185,0,1) 0%,rgba(255,105,0,1) 100%);--wp--preset--gradient--luminous-vivid-orange-to-vivid-red: linear-gradient(135deg,rgba(255,105,0,1) 0%,rgb(207,46,46) 100%);--wp--preset--gradient--very-light-gray-to-cyan-bluish-gray: linear-gradient(135deg,rgb(238,238,238) 0%,rgb(169,184,195) 100%);--wp--preset--gradient--cool-to-warm-spectrum: linear-gradient(135deg,rgb(74,234,220) 0%,rgb(151,120,209) 20%,rgb(207,42,186) 40%,rgb(238,44,130) 60%,rgb(251,105,98) 80%,rgb(254,248,76) 100%);--wp--preset--gradient--blush-light-purple: linear-gradient(135deg,rgb(255,206,236) 0%,rgb(152,150,240) 100%);--wp--preset--gradient--blush-bordeaux: linear-gradient(135deg,rgb(254,205,165) 0%,rgb(254,45,45) 50%,rgb(107,0,62) 100%);--wp--preset--gradient--luminous-dusk: linear-gradient(135deg,rgb(255,203,112) 0%,rgb(199,81,192) 50%,rgb(65,88,208) 100%);--wp--preset--gradient--pale-ocean: linear-gradient(135deg,rgb(255,245,203) 0%,rgb(182,227,212) 50%,rgb(51,167,181) 100%);--wp--preset--gradient--electric-grass: linear-gradient(135deg,rgb(202,248,128) 0%,rgb(113,206,126) 100%);--wp--preset--gradient--midnight: linear-gradient(135deg,rgb(2,3,129) 0%,rgb(40,116,252) 100%);--wp--preset--duotone--dark-grayscale: url(\\'#wp-duotone-dark-grayscale\\');--wp--preset--duotone--grayscale: url(\\'#wp-duotone-grayscale\\');--wp--preset--duotone--purple-yellow: url(\\'#wp-duotone-purple-yellow\\');--wp--preset--duotone--blue-red: url(\\'#wp-duotone-blue-red\\');--wp--preset--duotone--midnight: url(\\'#wp-duotone-midnight\\');--wp--preset--duotone--magenta-yellow: url(\\'#wp-duotone-magenta-yellow\\');--wp--preset--duotone--purple-green: url(\\'#wp-duotone-purple-green\\');--wp--preset--duotone--blue-orange: url(\\'#wp-duotone-blue-orange\\');--wp--preset--font-size--small: 13px;--wp--preset--font-size--medium: 20px;--wp--preset--font-size--large: 36px;--wp--preset--font-size--x-large: 42px;}.has-black-color{color: var(--wp--preset--color--black) !important;}.has-cyan-bluish-gray-color{color: var(--wp--preset--color--cyan-bluish-gray) !important;}.has-white-color{color: var(--wp--preset--color--white) !important;}.has-pale-pink-color{color: var(--wp--preset--color--pale-pink) !important;}.has-vivid-red-color{color: var(--wp--preset--color--vivid-red) !important;}.has-luminous-vivid-orange-color{color: var(--wp--preset--color--luminous-vivid-orange) !important;}.has-luminous-vivid-amber-color{color: var(--wp--preset--color--luminous-vivid-amber) !important;}.has-light-green-cyan-color{color: var(--wp--preset--color--light-green-cyan) !important;}.has-vivid-green-cyan-color{color: var(--wp--preset--color--vivid-green-cyan) !important;}.has-pale-cyan-blue-color{color: var(--wp--preset--color--pale-cyan-blue) !important;}.has-vivid-cyan-blue-color{color: var(--wp--preset--color--vivid-cyan-blue) !important;}.has-vivid-purple-color{color: var(--wp--preset--color--vivid-purple) !important;}.has-black-background-color{background-color: var(--wp--preset--color--black) !important;}.has-cyan-bluish-gray-background-color{background-color: var(--wp--preset--color--cyan-bluish-gray) !important;}.has-white-background-color{background-color: var(--wp--preset--color--white) !important;}.has-pale-pink-background-color{background-color: var(--wp--preset--color--pale-pink) !important;}.has-vivid-red-background-color{background-color: var(--wp--preset--color--vivid-red) !important;}.has-luminous-vivid-orange-background-color{background-color: var(--wp--preset--color--luminous-vivid-orange) !important;}.has-luminous-vivid-amber-background-color{background-color: var(--wp--preset--color--luminous-vivid-amber) !important;}.has-light-green-cyan-background-color{background-color: var(--wp--preset--color--light-green-cyan) !important;}.has-vivid-green-cyan-background-color{background-color: var(--wp--preset--color--vivid-green-cyan) !important;}.has-pale-cyan-blue-background-color{background-color: var(--wp--preset--color--pale-cyan-blue) !important;}.has-vivid-cyan-blue-background-color{background-color: var(--wp--preset--color--vivid-cyan-blue) !important;}.has-vivid-purple-background-color{background-color: var(--wp--preset--color--vivid-purple) !important;}.has-black-border-color{border-color: var(--wp--preset--color--black) !important;}.has-cyan-bluish-gray-border-color{border-color: var(--wp--preset--color--cyan-bluish-gray) !important;}.has-white-border-color{border-color: var(--wp--preset--color--white) !important;}.has-pale-pink-border-color{border-color: var(--wp--preset--color--pale-pink) !important;}.has-vivid-red-border-color{border-color: var(--wp--preset--color--vivid-red) !important;}.has-luminous-vivid-orange-border-color{border-color: var(--wp--preset--color--luminous-vivid-orange) !important;}.has-luminous-vivid-amber-border-color{border-color: var(--wp--preset--color--luminous-vivid-amber) !important;}.has-light-green-cyan-border-color{border-color: var(--wp--preset--color--light-green-cyan) !important;}.has-vivid-green-cyan-border-color{border-color: var(--wp--preset--color--vivid-green-cyan) !important;}.has-pale-cyan-blue-border-color{border-color: var(--wp--preset--color--pale-cyan-blue) !important;}.has-vivid-cyan-blue-border-color{border-color: var(--wp--preset--color--vivid-cyan-blue) !important;}.has-vivid-purple-border-color{border-color: var(--wp--preset--color--vivid-purple) !important;}.has-vivid-cyan-blue-to-vivid-purple-gradient-background{background: var(--wp--preset--gradient--vivid-cyan-blue-to-vivid-purple) !important;}.has-light-green-cyan-to-vivid-green-cyan-gradient-background{background: var(--wp--preset--gradient--light-green-cyan-to-vivid-green-cyan) !important;}.has-luminous-vivid-amber-to-luminous-vivid-orange-gradient-background{background: var(--wp--preset--gradient--luminous-vivid-amber-to-luminous-vivid-orange) !important;}.has-luminous-vivid-orange-to-vivid-red-gradient-background{background: var(--wp--preset--gradient--luminous-vivid-orange-to-vivid-red) !important;}.has-very-light-gray-to-cyan-bluish-gray-gradient-background{background: var(--wp--preset--gradient--very-light-gray-to-cyan-bluish-gray) !important;}.has-cool-to-warm-spectrum-gradient-background{background: var(--wp--preset--gradient--cool-to-warm-spectrum) !important;}.has-blush-light-purple-gradient-background{background: var(--wp--preset--gradient--blush-light-purple) !important;}.has-blush-bordeaux-gradient-background{background: var(--wp--preset--gradient--blush-bordeaux) !important;}.has-luminous-dusk-gradient-background{background: var(--wp--preset--gradient--luminous-dusk) !important;}.has-pale-ocean-gradient-background{background: var(--wp--preset--gradient--pale-ocean) !important;}.has-electric-grass-gradient-background{background: var(--wp--preset--gradient--electric-grass) !important;}.has-midnight-gradient-background{background: var(--wp--preset--gradient--midnight) !important;}.has-small-font-size{font-size: var(--wp--preset--font-size--small) !important;}.has-medium-font-size{font-size: var(--wp--preset--font-size--medium) !important;}.has-large-font-size{font-size: var(--wp--preset--font-size--large) !important;}.has-x-large-font-size{font-size: var(--wp--preset--font-size--x-large) !important;}\\n</style>\\n<link rel=\\'stylesheet\\' id=\\'contact-form-7-css\\'  href=\\'https://arctee.cn/wp-content/plugins/contact-form-7/includes/css/styles.css?ver=5.5.6.1\\' type=\\'text/css\\' media=\\'all\\' />\\n<link rel=\\'stylesheet\\' id=\\'Katex-css\\'  href=\\'https://cdn.jsdelivr.net/wp/wp-editormd/tags/10.2.1/assets/KaTeX/katex.min.css?ver=10.2.1\\' type=\\'text/css\\' media=\\'all\\' />\\n<link rel=\\'stylesheet\\' id=\\'Emojify.js-css\\'  href=\\'https://cdn.jsdelivr.net/wp/wp-editormd/tags/10.2.1/assets/Emojify.js/css/basic/emojify.min.css?ver=10.2.1\\' type=\\'text/css\\' media=\\'all\\' />\\n<link rel=\\'stylesheet\\' id=\\'prism-theme-style-css\\'  href=\\'https://cdn.jsdelivr.net/wp/wp-editormd/assets/prismjs-style/DuotoneSpace/prism-duotone-space.min.css?ver=1.15.0\\' type=\\'text/css\\' media=\\'all\\' />\\n<link rel=\\'stylesheet\\' id=\\'prism-plugin-toolbar-css\\'  href=\\'https://cdn.jsdelivr.net/wp/wp-editormd/tags/10.2.1/assets/Prism.js/plugins/toolbar/prism-toolbar.css?ver=1.15.0\\' type=\\'text/css\\' media=\\'all\\' />\\n<link rel=\\'stylesheet\\' id=\\'prism-plugin-line-numbers-css\\'  href=\\'https://cdn.jsdelivr.net/wp/wp-editormd/tags/10.2.1/assets/Prism.js/plugins/line-numbers/prism-line-numbers.css?ver=1.15.0\\' type=\\'text/css\\' media=\\'all\\' />\\n<link rel=\\'stylesheet\\' id=\\'bootstrap-css\\'  href=\\'https://cdn.seatonjiang.com/kratos/4.1.3/assets/css/bootstrap.min.css?ver=4.5.0\\' type=\\'text/css\\' media=\\'all\\' />\\n<link rel=\\'stylesheet\\' id=\\'kicon-css\\'  href=\\'https://cdn.seatonjiang.com/kratos/4.1.3/assets/css/iconfont.min.css?ver=4.1.3\\' type=\\'text/css\\' media=\\'all\\' />\\n<link rel=\\'stylesheet\\' id=\\'layer-css\\'  href=\\'https://cdn.seatonjiang.com/kratos/4.1.3/assets/css/layer.min.css?ver=3.1.1\\' type=\\'text/css\\' media=\\'all\\' />\\n<link rel=\\'stylesheet\\' id=\\'lightgallery-css\\'  href=\\'https://cdn.seatonjiang.com/kratos/4.1.3/assets/css/lightgallery.min.css?ver=1.4.0\\' type=\\'text/css\\' media=\\'all\\' />\\n<link rel=\\'stylesheet\\' id=\\'kratos-css\\'  href=\\'https://cdn.seatonjiang.com/kratos/4.1.3/style.css?ver=4.1.3\\' type=\\'text/css\\' media=\\'all\\' />\\n<style id=\\'kratos-inline-css\\' type=\\'text/css\\'>\\n\\n        @media screen and (min-width: 992px) {\\n            .k-nav .navbar-brand h1 {\\n                color: #ffffff;\\n            }\\n            .k-nav .navbar-nav > li.nav-item > a {\\n                color: #ffffff;\\n            }\\n        }\\n        \\n.sticky-sidebar {\\n                position: sticky;\\n                top: 8px;\\n                height: 100%;\\n            }\\n</style>\\n<link rel=\"preconnect\" href=\"https://cdnjs.cloudflare.com\"><link rel=\"icon\" href=\"https://arctee.cn/wp-content/uploads/2021/08/bitbug_favicon-1.ico\" sizes=\"32x32\" />\\n<link rel=\"icon\" href=\"https://arctee.cn/wp-content/uploads/2021/08/bitbug_favicon-1.ico\" sizes=\"192x192\" />\\n<link rel=\"apple-touch-icon\" href=\"https://arctee.cn/wp-content/uploads/2021/08/bitbug_favicon-1.ico\" />\\n<meta name=\"msapplication-TileImage\" content=\"https://arctee.cn/wp-content/uploads/2021/08/bitbug_favicon-1.ico\" />\\n    <script type=\\'text/javascript\\' src=\\'https://cdn.seatonjiang.com/kratos/4.1.3/assets/js/jquery.min.js?ver=3.4.1\\' id=\\'jquery-js\\'></script>\\n    </head>\\n\\n<body>\\n    <div class=\"k-header\">\\n        <nav class=\"k-nav navbar navbar-expand-lg navbar-light fixed-top\" >\\n            <div class=\"container\">\\n                <a class=\"navbar-brand\" href=\"https://arctee.cn\">\\n                    <img src=\"https://arctee.cn/wp-content/uploads/2021/08/\\xe7\\xa0\\xb4\\xe5\\xa3\\xb3AI-Logo.svg\"><h1 style=\"display:none\">\\xe7\\xa0\\xb4\\xe5\\xa3\\xb3AI</h1>                </a>\\n                                    <button class=\"navbar-toggler navbar-toggler-right\" id=\"navbutton\" type=\"button\" data-toggle=\"collapse\" data-target=\"#navbarResponsive\" aria-controls=\"navbarResponsive\" aria-expanded=\"false\" aria-label=\"Toggle navigation\">\\n                        <span class=\"line first-line\"></span>\\n                        <span class=\"line second-line\"></span>\\n                        <span class=\"line third-line\"></span>\\n                    </button>\\n                <div id=\"navbarResponsive\" class=\"collapse navbar-collapse\"><ul id=\"menu-%e9%a1%b6%e9%83%a8%e8%8f%9c%e5%8d%95%e5%85%a8%e9%9d%a2\" class=\"navbar-nav ml-auto\"><li class=\"nav-item dropdown\" ><a title=\"\\xe7\\xbc\\x96\\xe7\\xa8\\x8b\\xe5\\x85\\xa5\\xe9\\x97\\xa8\" href=\"#\" data-toggle=\"dropdown\" aria-haspopup=\"true\" aria-expanded=\"false\" class=\"dropdown-toggle nav-link\" id=\"menu-item-dropdown-858\">\\xe7\\xbc\\x96\\xe7\\xa8\\x8b\\xe5\\x85\\xa5\\xe9\\x97\\xa8</a>\\n<ul class=\"dropdown-menu\" aria-labelledby=\"menu-item-dropdown-858\" role=\"menu\">\\n\\t<li class=\"nav-item\" ><a title=\"C\\xe8\\xaf\\xad\\xe8\\xa8\\x80\" href=\"https://arctee.cn/category/program/c\" class=\"dropdown-item\">C\\xe8\\xaf\\xad\\xe8\\xa8\\x80</a></li>\\n\\t<li class=\"nav-item\" ><a title=\"\\xe6\\x95\\xb0\\xe6\\x8d\\xae\\xe7\\xbb\\x93\\xe6\\x9e\\x84\\xe5\\x8f\\x8a\\xe7\\xae\\x97\\xe6\\xb3\\x95\\xe5\\x9f\\xba\\xe7\\xa1\\x80\" href=\"https://arctee.cn/category/program/data-structure-and-algorithm\" class=\"dropdown-item\">\\xe6\\x95\\xb0\\xe6\\x8d\\xae\\xe7\\xbb\\x93\\xe6\\x9e\\x84\\xe5\\x8f\\x8a\\xe7\\xae\\x97\\xe6\\xb3\\x95\\xe5\\x9f\\xba\\xe7\\xa1\\x80</a></li>\\n</ul>\\n</li>\\n<li class=\"nav-item dropdown\" ><a title=\"\\xe5\\xba\\x94\\xe7\\x94\\xa8\\xe7\\xa8\\x8b\\xe5\\xba\\x8f\\xe5\\xbc\\x80\\xe5\\x8f\\x91\" href=\"#\" data-toggle=\"dropdown\" aria-haspopup=\"true\" aria-expanded=\"false\" class=\"dropdown-toggle nav-link\" id=\"menu-item-dropdown-861\">\\xe5\\xba\\x94\\xe7\\x94\\xa8\\xe7\\xa8\\x8b\\xe5\\xba\\x8f\\xe5\\xbc\\x80\\xe5\\x8f\\x91</a>\\n<ul class=\"dropdown-menu\" aria-labelledby=\"menu-item-dropdown-861\" role=\"menu\">\\n\\t<li class=\"nav-item\" ><a title=\"C++\" href=\"https://arctee.cn/category/application-development/cc\" class=\"dropdown-item\">C++</a></li>\\n\\t<li class=\"nav-item\" ><a title=\"Windows API\\xe7\\xbc\\x96\\xe7\\xa8\\x8b\" href=\"https://arctee.cn/category/application-development/windows-api\" class=\"dropdown-item\">Windows API\\xe7\\xbc\\x96\\xe7\\xa8\\x8b</a></li>\\n\\t<li class=\"nav-item\" ><a title=\"opengl\\xe5\\x9b\\xbe\\xe5\\xbd\\xa2\\xe7\\xbc\\x96\\xe7\\xa8\\x8b\" href=\"https://arctee.cn/category/application-development/opengl\" class=\"dropdown-item\">opengl\\xe5\\x9b\\xbe\\xe5\\xbd\\xa2\\xe7\\xbc\\x96\\xe7\\xa8\\x8b</a></li>\\n</ul>\\n</li>\\n<li class=\"nav-item dropdown\" ><a title=\"\\xe8\\xae\\xa1\\xe7\\xae\\x97\\xe6\\x9c\\xba\\xe7\\xa7\\x91\\xe5\\xad\\xa6\\xe4\\xb8\\x8eWeb\" href=\"#\" data-toggle=\"dropdown\" aria-haspopup=\"true\" aria-expanded=\"false\" class=\"dropdown-toggle nav-link\" id=\"menu-item-dropdown-865\">\\xe8\\xae\\xa1\\xe7\\xae\\x97\\xe6\\x9c\\xba\\xe7\\xa7\\x91\\xe5\\xad\\xa6\\xe4\\xb8\\x8eWeb</a>\\n<ul class=\"dropdown-menu\" aria-labelledby=\"menu-item-dropdown-865\" role=\"menu\">\\n\\t<li class=\"nav-item\" ><a title=\"Python\" href=\"https://arctee.cn/category/computer-science-and-the-web/python\" class=\"dropdown-item\">Python</a></li>\\n\\t<li class=\"nav-item\" ><a title=\"\\xe7\\xbc\\x96\\xe7\\xa8\\x8b\\xe8\\xaf\\xad\\xe8\\xa8\\x80\\xe5\\xad\\xa6\" href=\"https://arctee.cn/category/computer-science-and-the-web/programming-linguistics\" class=\"dropdown-item\">\\xe7\\xbc\\x96\\xe7\\xa8\\x8b\\xe8\\xaf\\xad\\xe8\\xa8\\x80\\xe5\\xad\\xa6</a></li>\\n\\t<li class=\"nav-item\" ><a title=\"\\xe4\\xbf\\xa1\\xe6\\x81\\xaf\\xe7\\x90\\x86\\xe8\\xae\\xba\" href=\"https://arctee.cn/category/computer-science-and-the-web/information-theory\" class=\"dropdown-item\">\\xe4\\xbf\\xa1\\xe6\\x81\\xaf\\xe7\\x90\\x86\\xe8\\xae\\xba</a></li>\\n\\t<li class=\"nav-item\" ><a title=\"\\xe4\\xba\\xba\\xe5\\xb7\\xa5\\xe6\\x99\\xba\\xe8\\x83\\xbd\" href=\"https://arctee.cn/category/computer-science-and-the-web/ai\" class=\"dropdown-item\">\\xe4\\xba\\xba\\xe5\\xb7\\xa5\\xe6\\x99\\xba\\xe8\\x83\\xbd</a></li>\\n</ul>\\n</li>\\n<li class=\"nav-item dropdown\" ><a title=\"\\xe8\\xae\\xa1\\xe7\\xae\\x97\\xe6\\x9c\\xba\\xe5\\x8e\\x9f\\xe7\\x90\\x86\" href=\"#\" data-toggle=\"dropdown\" aria-haspopup=\"true\" aria-expanded=\"false\" class=\"dropdown-toggle nav-link\" id=\"menu-item-dropdown-870\">\\xe8\\xae\\xa1\\xe7\\xae\\x97\\xe6\\x9c\\xba\\xe5\\x8e\\x9f\\xe7\\x90\\x86</a>\\n<ul class=\"dropdown-menu\" aria-labelledby=\"menu-item-dropdown-870\" role=\"menu\">\\n\\t<li class=\"nav-item\" ><a title=\"\\xe6\\xb1\\x87\\xe7\\xbc\\x96\" href=\"https://arctee.cn/category/computer-principles/assembly\" class=\"dropdown-item\">\\xe6\\xb1\\x87\\xe7\\xbc\\x96</a></li>\\n\\t<li class=\"nav-item\" ><a title=\"\\xe7\\xb3\\xbb\\xe7\\xbb\\x9f\\xe7\\xbc\\x96\\xe7\\xa8\\x8b\" href=\"https://arctee.cn/category/computer-principles/system-programming\" class=\"dropdown-item\">\\xe7\\xb3\\xbb\\xe7\\xbb\\x9f\\xe7\\xbc\\x96\\xe7\\xa8\\x8b</a></li>\\n\\t<li class=\"nav-item\" ><a title=\"\\xe6\\x93\\x8d\\xe4\\xbd\\x9c\\xe7\\xb3\\xbb\\xe7\\xbb\\x9f\" href=\"https://arctee.cn/category/computer-principles/operating-system\" class=\"dropdown-item\">\\xe6\\x93\\x8d\\xe4\\xbd\\x9c\\xe7\\xb3\\xbb\\xe7\\xbb\\x9f</a></li>\\n\\t<li class=\"nav-item\" ><a title=\"\\xe7\\xbc\\x96\\xe8\\xaf\\x91\\xe5\\x8e\\x9f\\xe7\\x90\\x86\" href=\"https://arctee.cn/category/computer-principles/compilation-principle\" class=\"dropdown-item\">\\xe7\\xbc\\x96\\xe8\\xaf\\x91\\xe5\\x8e\\x9f\\xe7\\x90\\x86</a></li>\\n\\t<li class=\"nav-item\" ><a title=\"\\xe7\\xbd\\x91\\xe7\\xbb\\x9c\" href=\"https://arctee.cn/category/computer-principles/network\" class=\"dropdown-item\">\\xe7\\xbd\\x91\\xe7\\xbb\\x9c</a></li>\\n</ul>\\n</li>\\n<li class=\"nav-item\" ><a title=\"\\xe6\\x9d\\x82\\xe8\\xb0\\x88\" href=\"https://arctee.cn/category/try\" class=\"nav-link\">\\xe6\\x9d\\x82\\xe8\\xb0\\x88</a></li>\\n<li class=\"nav-item dropdown\" ><a title=\"\\xe5\\x85\\xb6\\xe4\\xbb\\x96\" href=\"#\" data-toggle=\"dropdown\" aria-haspopup=\"true\" aria-expanded=\"false\" class=\"dropdown-toggle nav-link\" id=\"menu-item-dropdown-966\">\\xe5\\x85\\xb6\\xe4\\xbb\\x96</a>\\n<ul class=\"dropdown-menu\" aria-labelledby=\"menu-item-dropdown-966\" role=\"menu\">\\n\\t<li class=\"nav-item\" ><a title=\"\\xe5\\x85\\xb3\\xe4\\xba\\x8e\" href=\"https://arctee.cn/about\" class=\"dropdown-item\">\\xe5\\x85\\xb3\\xe4\\xba\\x8e</a></li>\\n\\t<li class=\"nav-item\" ><a title=\"\\xe5\\x8f\\x8b\\xe9\\x93\\xbe\" href=\"https://arctee.cn/friends\" class=\"dropdown-item\">\\xe5\\x8f\\x8b\\xe9\\x93\\xbe</a></li>\\n\\t<li class=\"nav-item\" ><a title=\"\\xe6\\x94\\xaf\\xe6\\x8c\\x81\\xe5\\xb0\\x8f\\xe7\\xab\\x99\" href=\"https://arctee.cn/donation\" class=\"dropdown-item\">\\xe6\\x94\\xaf\\xe6\\x8c\\x81\\xe5\\xb0\\x8f\\xe7\\xab\\x99</a></li>\\n\\t<li class=\"nav-item\" ><a title=\"\\xe7\\x95\\x99\\xe8\\xa8\\x80\" href=\"https://arctee.cn/guestbook\" class=\"dropdown-item\">\\xe7\\x95\\x99\\xe8\\xa8\\x80</a></li>\\n\\t<li class=\"nav-item\" ><a title=\"\\xe8\\xae\\xa2\\xe9\\x98\\x85\" href=\"https://arctee.cn/subscribe-blog\" class=\"dropdown-item\">\\xe8\\xae\\xa2\\xe9\\x98\\x85</a></li>\\n</ul>\\n</li>\\n</ul></div>            </div>\\n        </nav>\\n                    <div class=\"banner\">\\n                <div class=\"overlay\"></div>\\n                <div class=\"content text-center\" style=\"background-image: url(https://arctee.cn/wp-content/uploads/2020/07/bannner.jpg);\">\\n                    <div class=\"introduce animate__animated animate__fadeInUp\">\\n                        <div class=\"title\">Focus - Keep things simple</div><div class=\"mate\"></div>                    </div>\\n                </div>\\n            </div>\\n            </div>\\n<div class=\"k-main banner\" style=\"background:#f5f5f5\">\\n    <div class=\"container\">\\n        <div class=\"row\">\\n            <div class=\"col-lg-8 board\">\\n                <div class=\"article-panel\">\\n    <span class=\"a-card d-none d-md-block d-lg-block\">\\n                    <i class=\"kicon i-card-top\"></i>\\n            </span>\\n            <div class=\"a-thumb\">\\n            <a href=\"https://arctee.cn/519.html\">\\n                <img src=\"https://arctee.cn/wp-content/uploads/2020/09/c-primer-plus.jpg\" />            </a>\\n        </div>\\n        <div class=\"a-post 1\">\\n        <div class=\"header\">\\n            <a class=\"label\" href=\"https://arctee.cn/category/book\">Books<i class=\"label-arrow\"></i></a>            <h3 class=\"title\"><a href=\"https://arctee.cn/519.html\">C Primer Plus\\xef\\xbc\\x88\\xe7\\xac\\xac6\\xe7\\x89\\x88\\xef\\xbc\\x89\\xe4\\xb8\\xad\\xe6\\x96\\x87\\xe7\\x89\\x88 \\xe9\\xab\\x98\\xe6\\xb8\\x85[\\xe5\\xb8\\xa6\\xe4\\xb9\\xa6\\xe7\\xad\\xbe] PDF \\xe7\\x94\\xb5\\xe5\\xad\\x90\\xe4\\xb9\\xa6</a></h3>\\n        </div>\\n        <div class=\"content\">\\n            <p>C Primer Plus\\xef\\xbc\\x88\\xe7\\xac\\xac6\\xe7\\x89\\x88\\xef\\xbc\\x89\\xe4\\xb8\\xad\\xe6\\x96\\x87\\xe7\\x89\\x88 \\xe4\\xbd\\x9c\\xe8\\x80\\x85:\\xe6\\x99\\xae\\xe6\\x8b\\x89\\xe8\\xbe\\xbe (Stephen Prata)\\xe5\\x87\\xba\\xe7\\x89\\x88\\xe7\\xa4\\xbe:\\xe4\\xba\\xba\\xe6\\xb0\\x91\\xe9\\x82\\xae\\xe7\\x94\\xb5\\xe5\\x87\\xba\\xe7\\x89\\x88\\xe7\\xa4\\xbe\\xe5\\x89\\xaf\\xe6\\xa0\\x87\\xe9\\xa2\\x98:\\xe7\\xac\\xac\\xe5\\x85\\xad\\xe7\\x89\\x88\\xe5\\x87\\xba\\xe7\\x89\\x88\\xe5\\xb9\\xb4:2016-4-1\\xe9\\xa1\\xb5\\xe6\\x95\\xb0:730ISBN:9787115390592\\xe8\\xb1\\x86\\xe7\\x93\\xa3\\xe9\\x93\\xbe\\xe6\\x8e\\xa5: \\xe8\\xb1\\x86\\xe7\\x93\\xa3\\xe8\\xb1\\x86\\xe7\\x93\\xa3\\xe8\\xaf\\x84\\xe5\\x88\\x86: 9.3\\xe5\\x88\\x86 \\xe4\\xb8\\x80\\xe3\\x80\\x81\\xe4\\xbd\\x9c [&hellip;]</p>\\n        </div>\\n    </div>\\n    <div class=\"a-meta\">\\n        <span class=\"float-left d-none d-md-block\">\\n            <span class=\"mr-2\"><i class=\"kicon i-calendar\"></i>2020-08-23</span>\\n                            <span class=\"mr-2\"><i class=\"kicon i-comments\"></i>34\\xe6\\x9d\\xa1\\xe8\\xaf\\x84\\xe8\\xae\\xba</span>\\n                    </span>\\n        <span class=\"float-left d-block\">\\n                            <span class=\"mr-2\"><i class=\"kicon i-hot\"></i>8803\\xe7\\x82\\xb9\\xe7\\x83\\xad\\xe5\\xba\\xa6</span>\\n                            <span class=\"mr-2\"><i class=\"kicon i-good\"></i>28\\xe4\\xba\\xba\\xe7\\x82\\xb9\\xe8\\xb5\\x9e</span>\\n                            <span class=\"mr-2\"><i class=\"kicon i-author\"></i>\\xe5\\x8f\\xa4\\xe6\\x9c\\x88\\xe5\\xbc\\xa7</span>\\n                    </span>\\n        <span class=\"float-right\">\\n            <a href=\"https://arctee.cn/519.html\">\\xe9\\x98\\x85\\xe8\\xaf\\xbb\\xe5\\x85\\xa8\\xe6\\x96\\x87<i class=\"kicon i-rightbutton\"></i></a>\\n        </span>\\n    </div>\\n</div>\\n<div class=\"article-panel\">\\n    <span class=\"a-card d-none d-md-block d-lg-block\">\\n            </span>\\n            <div class=\"a-thumb\">\\n            <a href=\"https://arctee.cn/975.html\">\\n                <img fifu-featured=\"1\" src=\"https://img.arctee.cn/one/202206121852783.png\" />            </a>\\n        </div>\\n        <div class=\"a-post 1\">\\n        <div class=\"header\">\\n            <a class=\"label\" href=\"https://arctee.cn/category/program/data-structure-and-algorithm\">\\xe6\\x95\\xb0\\xe6\\x8d\\xae\\xe7\\xbb\\x93\\xe6\\x9e\\x84\\xe5\\x8f\\x8a\\xe7\\xae\\x97\\xe6\\xb3\\x95\\xe5\\x9f\\xba\\xe7\\xa1\\x80<i class=\"label-arrow\"></i></a>            <h3 class=\"title\"><a href=\"https://arctee.cn/975.html\">\\xe5\\x8a\\xa8\\xe6\\x80\\x81\\xe6\\x95\\xb0\\xe7\\xbb\\x84\\xe2\\x80\\x94C\\xe8\\xaf\\xad\\xe8\\xa8\\x80\\xe6\\x95\\xb0\\xe6\\x8d\\xae\\xe7\\xbb\\x93\\xe6\\x9e\\x84\\xe5\\xae\\x9e\\xe7\\x8e\\xb0</a></h3>\\n        </div>\\n        <div class=\"content\">\\n            <p>\\xe6\\xac\\xa2\\xe8\\xbf\\x8e\\xe5\\x85\\xb3\\xe6\\xb3\\xa8\\xe6\\x88\\x91\\xe7\\x9a\\x84 \\xe5\\xbe\\xae\\xe4\\xbf\\xa1\\xe5\\x85\\xac\\xe4\\xbc\\x97\\xe5\\x8f\\xb7\\xef\\xbc\\x9a\\xe7\\xa0\\xb4\\xe5\\xa3\\xb3Ai\\xef\\xbc\\x8c\\xe5\\x88\\x86\\xe4\\xba\\xab\\xe6\\x9c\\x80\\xe4\\xbd\\xb3\\xe5\\xad\\xa6\\xe4\\xb9\\xa0\\xe8\\xb7\\xaf\\xe5\\xbe\\x84\\xe3\\x80\\x81\\xe6\\x95\\x99\\xe7\\xa8\\x8b\\xe5\\x92\\x8c\\xe8\\xb5\\x84\\xe6\\xba\\x90\\xe3\\x80\\x82\\xe6\\x88\\x90\\xe9\\x95\\xbf\\xe8\\xb7\\xaf\\xe4\\xb8\\x8a\\xef\\xbc\\x8c\\xe6\\x9c\\x89\\xe6\\x88\\x91\\xe9\\x99\\xaa\\xe4\\xbd\\xa0\\xe3\\x80\\x82 \\xe6\\xb3\\xa8\\xef\\xbc\\x9a\\xe6\\x88\\x91\\xe5\\x8f\\x91\\xe5\\xb8\\x83\\xe7\\x9a\\x84\\xe6\\x95\\xb0\\xe6\\x8d\\xae\\xe7\\xbb\\x93\\xe6\\x9e\\x84\\xe9\\x83\\xa8\\xe5\\x88\\x86\\xe5\\x85\\xa8\\xe6\\x98\\xaf\\xe7\\x94\\xa8 C \\xe8\\xaf\\xad\\xe8\\xa8\\x80\\xe5\\xae\\x9e\\xe7\\x8e\\xb0\\xe7\\x9a\\x84\\xef\\xbc\\x8c\\xe6\\x98\\xaf\\xe4\\xbd\\xa0\\xe5\\xad\\xa6\\xe4\\xb9\\xa0\\xe5\\xae\\x8c C \\xe8\\xaf\\xad\\xe8\\xa8\\x80\\xe5\\x9f\\xba\\xe7\\xa1\\x80\\xe9\\x83\\xa8\\xe5\\x88\\x86\\xe5\\x90\\x8e\\xef\\xbc\\x8c\\xe6\\x83\\xb3\\xe8\\xa6\\x81\\xe8\\xbf\\x9b\\xe9\\x98\\xb6\\xe7\\x9a\\x84\\xe6\\x9e\\x81\\xe4\\xbd\\xb3\\xe7\\xbb\\x83\\xe4\\xb9\\xa0\\xe5\\x8f\\x82\\xe8\\x80\\x83\\xe3\\x80\\x82\\xe4\\xb8\\x8d\\xe6\\x87\\x82\\xe7\\x9a\\x84\\xe5\\x9c\\xb0\\xe6\\x96\\xb9\\xe5\\x8f\\xaf\\xe4\\xbb\\xa5\\xe7\\xa7\\x81\\xe4\\xbf\\xa1\\xe6\\x88\\x91\\xe3\\x80\\x82 /* * \\xe5\\x8a\\x9f\\xe8\\x83\\xbd: \\xe5\\x8a\\xa8\\xe6\\x80\\x81\\xe6\\x95\\xb0 [&hellip;]</p>\\n        </div>\\n    </div>\\n    <div class=\"a-meta\">\\n        <span class=\"float-left d-none d-md-block\">\\n            <span class=\"mr-2\"><i class=\"kicon i-calendar\"></i>2022-06-12</span>\\n                            <span class=\"mr-2\"><i class=\"kicon i-comments\"></i>0\\xe6\\x9d\\xa1\\xe8\\xaf\\x84\\xe8\\xae\\xba</span>\\n                    </span>\\n        <span class=\"float-left d-block\">\\n                            <span class=\"mr-2\"><i class=\"kicon i-hot\"></i>21\\xe7\\x82\\xb9\\xe7\\x83\\xad\\xe5\\xba\\xa6</span>\\n                            <span class=\"mr-2\"><i class=\"kicon i-good\"></i>0\\xe4\\xba\\xba\\xe7\\x82\\xb9\\xe8\\xb5\\x9e</span>\\n                            <span class=\"mr-2\"><i class=\"kicon i-author\"></i>\\xe5\\x8f\\xa4\\xe6\\x9c\\x88\\xe5\\xbc\\xa7</span>\\n                    </span>\\n        <span class=\"float-right\">\\n            <a href=\"https://arctee.cn/975.html\">\\xe9\\x98\\x85\\xe8\\xaf\\xbb\\xe5\\x85\\xa8\\xe6\\x96\\x87<i class=\"kicon i-rightbutton\"></i></a>\\n        </span>\\n    </div>\\n</div>\\n<div class=\"article-panel\">\\n    <span class=\"a-card d-none d-md-block d-lg-block\">\\n            </span>\\n            <div class=\"a-thumb\">\\n            <a href=\"https://arctee.cn/972.html\">\\n                <img fifu-featured=\"1\" src=\"https://img.arctee.cn/one/202205271210370.png\" />            </a>\\n        </div>\\n        <div class=\"a-post 1\">\\n        <div class=\"header\">\\n            <a class=\"label\" href=\"https://arctee.cn/category/computer-principles/operating-system\">\\xe6\\x93\\x8d\\xe4\\xbd\\x9c\\xe7\\xb3\\xbb\\xe7\\xbb\\x9f<i class=\"label-arrow\"></i></a>            <h3 class=\"title\"><a href=\"https://arctee.cn/972.html\">Ubuntu Linux\\xe5\\xae\\x89\\xe8\\xa3\\x85VMware Tools\\xe8\\xaf\\xa6\\xe7\\xbb\\x86\\xe6\\x8e\\x92\\xe9\\x94\\x99\\xe7\\xba\\xa0\\xe5\\xaf\\x9f\\xe6\\x95\\x99\\xe7\\xa8\\x8b</a></h3>\\n        </div>\\n        <div class=\"content\">\\n            <p>\\xe6\\xac\\xa2\\xe8\\xbf\\x8e\\xe5\\x85\\xb3\\xe6\\xb3\\xa8\\xe6\\x88\\x91\\xe7\\x9a\\x84 \\xe5\\xbe\\xae\\xe4\\xbf\\xa1\\xe5\\x85\\xac\\xe4\\xbc\\x97\\xe5\\x8f\\xb7\\xef\\xbc\\x9a\\xe7\\xa0\\xb4\\xe5\\xa3\\xb3Ai\\xef\\xbc\\x8c\\xe5\\x88\\x86\\xe4\\xba\\xab\\xe6\\x9c\\x80\\xe4\\xbd\\xb3\\xe5\\xad\\xa6\\xe4\\xb9\\xa0\\xe8\\xb7\\xaf\\xe5\\xbe\\x84\\xe3\\x80\\x81\\xe6\\x95\\x99\\xe7\\xa8\\x8b\\xe5\\x92\\x8c\\xe8\\xb5\\x84\\xe6\\xba\\x90\\xe3\\x80\\x82\\xe6\\x88\\x90\\xe9\\x95\\xbf\\xe8\\xb7\\xaf\\xe4\\xb8\\x8a\\xef\\xbc\\x8c\\xe6\\x9c\\x89\\xe6\\x88\\x91\\xe9\\x99\\xaa\\xe4\\xbd\\xa0\\xe3\\x80\\x82 \\xe9\\x97\\xae\\xe9\\xa2\\x98 \\xe7\\x94\\xa8 VMware \\xe5\\xae\\x89\\xe8\\xa3\\x85\\xe5\\xae\\x8c Ubuntu Linux \\xe7\\xb3\\xbb\\xe7\\xbb\\x9f\\xe5\\x90\\x8e\\xef\\xbc\\x8c\\xe9\\x87\\x8d\\xe5\\x90\\xaf\\xe8\\xbf\\x9b\\xe5\\x85\\xa5\\xe5\\x88\\xb0 Ubuntu \\xe7\\x95\\x8c\\xe9\\x9d\\xa2\\xef\\xbc\\x8c\\xe8\\xbf\\x99\\xe6\\x97\\xb6\\xe5\\x8f\\x91\\xe7\\x8e\\xb0\\xe6\\x95\\xb4\\xe4\\xb8\\xaa\\xe7\\xaa\\x97\\xe5\\x8f\\xa3\\xe5\\xbe\\x88\\xe5\\xb0\\x8f\\xef\\xbc\\x8c\\xe6\\xb2\\xa1\\xe6\\x9c\\x89\\xe9\\x93\\xba\\xe6\\xbb\\xa1 VMware \\xe7\\x9a\\x84\\xe7\\xaa\\x97\\xe5\\x8f\\xa3\\xef\\xbc\\x8c [&hellip;]</p>\\n        </div>\\n    </div>\\n    <div class=\"a-meta\">\\n        <span class=\"float-left d-none d-md-block\">\\n            <span class=\"mr-2\"><i class=\"kicon i-calendar\"></i>2022-05-28</span>\\n                            <span class=\"mr-2\"><i class=\"kicon i-comments\"></i>0\\xe6\\x9d\\xa1\\xe8\\xaf\\x84\\xe8\\xae\\xba</span>\\n                    </span>\\n        <span class=\"float-left d-block\">\\n                            <span class=\"mr-2\"><i class=\"kicon i-hot\"></i>63\\xe7\\x82\\xb9\\xe7\\x83\\xad\\xe5\\xba\\xa6</span>\\n                            <span class=\"mr-2\"><i class=\"kicon i-good\"></i>0\\xe4\\xba\\xba\\xe7\\x82\\xb9\\xe8\\xb5\\x9e</span>\\n                            <span class=\"mr-2\"><i class=\"kicon i-author\"></i>\\xe5\\x8f\\xa4\\xe6\\x9c\\x88\\xe5\\xbc\\xa7</span>\\n                    </span>\\n        <span class=\"float-right\">\\n            <a href=\"https://arctee.cn/972.html\">\\xe9\\x98\\x85\\xe8\\xaf\\xbb\\xe5\\x85\\xa8\\xe6\\x96\\x87<i class=\"kicon i-rightbutton\"></i></a>\\n        </span>\\n    </div>\\n</div>\\n<div class=\"article-panel\">\\n    <span class=\"a-card d-none d-md-block d-lg-block\">\\n            </span>\\n            <div class=\"a-thumb\">\\n            <a href=\"https://arctee.cn/960.html\">\\n                <img fifu-featured=\"1\" src=\"https://img.arctee.cn/one/202205040643998.png\" />            </a>\\n        </div>\\n        <div class=\"a-post 1\">\\n        <div class=\"header\">\\n            <a class=\"label\" href=\"https://arctee.cn/category/program/c\">C\\xe8\\xaf\\xad\\xe8\\xa8\\x80<i class=\"label-arrow\"></i></a>            <h3 class=\"title\"><a href=\"https://arctee.cn/960.html\">C\\xe8\\xaf\\xad\\xe8\\xa8\\x80\\xe7\\xbb\\x83\\xe6\\x89\\x8b\\xe5\\xb0\\x8f\\xe7\\xa8\\x8b\\xe5\\xba\\x8f-ACLLib\\xe7\\x95\\x8c\\xe9\\x9d\\xa2\\xe7\\xa8\\x8b\\xe5\\xba\\x8f\\xe5\\xbc\\x80\\xe5\\x8f\\x91</a></h3>\\n        </div>\\n        <div class=\"content\">\\n            <p>\\xe5\\x90\\x8c\\xe6\\x97\\xb6\\xe5\\x8f\\x91\\xe5\\xb8\\x83\\xe4\\xba\\x8e\\xe3\\x80\\x8c\\xe7\\xa0\\xb4\\xe5\\xa3\\xb3AI\\xe4\\xb8\\xaa\\xe4\\xba\\xba\\xe7\\xbd\\x91\\xe7\\xab\\x99\\xe3\\x80\\x8d\\xe3\\x80\\x81\\xe5\\xbe\\xae\\xe4\\xbf\\xa1\\xe5\\x85\\xac\\xe4\\xbc\\x97\\xe5\\x8f\\xb7:\\xe3\\x80\\x8c\\xe7\\xa0\\xb4\\xe5\\xa3\\xb3Ai\\xe3\\x80\\x8d\\xe3\\x80\\x82 About ACLLib \\xe5\\xa6\\x82\\xe6\\x9e\\x9c\\xe4\\xbd\\xa0\\xe6\\x83\\xb3\\xe5\\xb0\\x9d\\xe8\\xaf\\x95\\xe4\\xb8\\x80\\xe4\\xb8\\x8b\\xe5\\xa6\\x82\\xe4\\xbd\\x95\\xe7\\x94\\xa8 C \\xe8\\xaf\\xad\\xe8\\xa8\\x80\\xe5\\x86\\x99\\xe5\\x87\\xba\\xe5\\x9b\\xbe\\xe5\\xbd\\xa2\\xe7\\x95\\x8c\\xe9\\x9d\\xa2\\xe7\\x9a\\x84\\xe7\\xa8\\x8b\\xe5\\xba\\x8f\\xef\\xbc\\x8c\\xe5\\x8f\\xaf\\xe4\\xbb\\xa5\\xe6\\x9d\\xa5\\xe8\\xaf\\x95\\xe4\\xb8\\x80\\xe4\\xb8\\x8b\\xe8\\xbf\\x99\\xe4\\xb8\\xaa ACLLib\\xe3\\x80\\x82 C \\xe8\\xaf\\xad\\xe8\\xa8\\x80\\xe6\\x9c\\xac\\xe8\\xba\\xab\\xe6\\x98\\xaf\\xe6\\xb2\\xa1\\xe6\\x9c\\x89\\xe5\\x9b\\xbe\\xe5\\xbd\\xa2\\xe7\\x95\\x8c\\xe9\\x9d\\xa2\\xe5\\xba\\x93\\xe7\\x9a\\x84\\xef\\xbc\\x8c\\xe6\\x83\\xb3\\xe5\\x81\\x9a\\xe5\\x87\\xba GUI \\xe7\\xa8\\x8b\\xe5\\xba\\x8f\\xe5\\xb0\\xb1\\xe8\\xa6\\x81\\xe5\\xad\\xa6\\xe4\\xb9\\xa0 Win [&hellip;]</p>\\n        </div>\\n    </div>\\n    <div class=\"a-meta\">\\n        <span class=\"float-left d-none d-md-block\">\\n            <span class=\"mr-2\"><i class=\"kicon i-calendar\"></i>2022-05-05</span>\\n                            <span class=\"mr-2\"><i class=\"kicon i-comments\"></i>0\\xe6\\x9d\\xa1\\xe8\\xaf\\x84\\xe8\\xae\\xba</span>\\n                    </span>\\n        <span class=\"float-left d-block\">\\n                            <span class=\"mr-2\"><i class=\"kicon i-hot\"></i>165\\xe7\\x82\\xb9\\xe7\\x83\\xad\\xe5\\xba\\xa6</span>\\n                            <span class=\"mr-2\"><i class=\"kicon i-good\"></i>0\\xe4\\xba\\xba\\xe7\\x82\\xb9\\xe8\\xb5\\x9e</span>\\n                            <span class=\"mr-2\"><i class=\"kicon i-author\"></i>\\xe5\\x8f\\xa4\\xe6\\x9c\\x88\\xe5\\xbc\\xa7</span>\\n                    </span>\\n        <span class=\"float-right\">\\n            <a href=\"https://arctee.cn/960.html\">\\xe9\\x98\\x85\\xe8\\xaf\\xbb\\xe5\\x85\\xa8\\xe6\\x96\\x87<i class=\"kicon i-rightbutton\"></i></a>\\n        </span>\\n    </div>\\n</div>\\n<div class=\"article-panel\">\\n    <span class=\"a-card d-none d-md-block d-lg-block\">\\n            </span>\\n            <div class=\"a-thumb\">\\n            <a href=\"https://arctee.cn/959.html\">\\n                <img src=\"https://img.arctee.cn/one/202205040512381.jpg\" />            </a>\\n        </div>\\n        <div class=\"a-post 1\">\\n        <div class=\"header\">\\n            <a class=\"label\" href=\"https://arctee.cn/category/tools\">\\xe5\\xb7\\xa5\\xe5\\x85\\xb7\\xe9\\x9b\\x86<i class=\"label-arrow\"></i></a>            <h3 class=\"title\"><a href=\"https://arctee.cn/959.html\">Git\\xe4\\xb8\\xad\\xe5\\x90\\x88\\xe5\\xb9\\xb6\\xe5\\xa4\\x9a\\xe4\\xb8\\xaa\\xe6\\x8f\\x90\\xe4\\xba\\xa4\\xe7\\x9a\\x84\\xe6\\x96\\xb9\\xe6\\xb3\\x95\\xe6\\x80\\xbb\\xe7\\xbb\\x93</a></h3>\\n        </div>\\n        <div class=\"content\">\\n            <p>\\xe5\\x90\\x8c\\xe6\\x97\\xb6\\xe5\\x8f\\x91\\xe5\\xb8\\x83\\xe4\\xba\\x8e\\xe3\\x80\\x8c\\xe7\\xa0\\xb4\\xe5\\xa3\\xb3AI\\xe4\\xb8\\xaa\\xe4\\xba\\xba\\xe7\\xbd\\x91\\xe7\\xab\\x99\\xe3\\x80\\x8d\\xe3\\x80\\x81\\xe5\\xbe\\xae\\xe4\\xbf\\xa1\\xe5\\x85\\xac\\xe4\\xbc\\x97\\xe5\\x8f\\xb7:\\xe3\\x80\\x8c\\xe7\\xa0\\xb4\\xe5\\xa3\\xb3Ai\\xe3\\x80\\x8d\\xe3\\x80\\x82 \\xe4\\xb8\\xba\\xe4\\xba\\x86\\xe4\\xbf\\x9d\\xe6\\x8c\\x81\\xe5\\x88\\x86\\xe6\\x94\\xaf\\xe6\\x8f\\x90\\xe4\\xba\\xa4\\xe5\\x8e\\x86\\xe5\\x8f\\xb2\\xe7\\x9a\\x84\\xe6\\xb8\\x85\\xe6\\x99\\xb0\\xe3\\x80\\x81\\xe7\\x8b\\xac\\xe7\\xab\\x8b\\xef\\xbc\\x8c\\xe6\\x88\\x91\\xe4\\xbb\\xac\\xe7\\xbb\\x8f\\xe5\\xb8\\xb8\\xe9\\x9c\\x80\\xe8\\xa6\\x81\\xe5\\xb0\\x86\\xe5\\x87\\xa0\\xe4\\xb8\\xaa\\xe6\\x8f\\x90\\xe4\\xba\\xa4\\xe5\\x90\\x88\\xe5\\xb9\\xb6\\xe6\\x88\\x90\\xe4\\xb8\\x80\\xe4\\xb8\\xaa\\xef\\xbc\\x9b\\xe4\\xbd\\x86 Git \\xe6\\xb2\\xa1\\xe6\\x9c\\x89\\xe4\\xb8\\x93\\xe9\\x97\\xa8\\xe4\\xb8\\xba\\xe5\\x90\\x88\\xe5\\xb9\\xb6\\xe6\\x8f\\x90\\xe4\\xba\\xa4\\xe6\\x8f\\x90\\xe4\\xbe\\x9b\\xe7\\x9b\\xb8\\xe5\\xba\\x94\\xe7\\x9a\\x84\\xe5\\x91\\xbd\\xe4\\xbb\\xa4\\xef\\xbc\\x8c\\xe4\\xb8\\xba\\xe8\\xa7\\xa3\\xe5\\x86\\xb3\\xe8\\xbf\\x99\\xe4\\xb8\\xaa\\xe9\\x97\\xae\\xe9\\xa2\\x98\\xef\\xbc\\x8c\\xe6\\x88\\x91\\xe4\\xb8\\x93\\xe9\\x97\\xa8\\xe7\\xa0\\x94\\xe7\\xa9\\xb6\\xe4\\xba\\x86\\xe5\\x87\\xa0\\xe7\\xa7\\x8d\\xe6\\x96\\xb9\\xe6\\xb3\\x95\\xe6\\x9d\\xa5\\xe5\\xae\\x9e\\xe7\\x8e\\xb0 \\xe6\\x8f\\x90\\xe4\\xba\\xa4\\xe7\\x9a\\x84\\xe5\\x90\\x88\\xe5\\xb9\\xb6\\xef\\xbc\\x9b\\xe5\\xa6\\x82\\xe4\\xb8\\x8b\\xef\\xbc\\x9a \\xe6\\xa6\\x82 [&hellip;]</p>\\n        </div>\\n    </div>\\n    <div class=\"a-meta\">\\n        <span class=\"float-left d-none d-md-block\">\\n            <span class=\"mr-2\"><i class=\"kicon i-calendar\"></i>2022-05-04</span>\\n                            <span class=\"mr-2\"><i class=\"kicon i-comments\"></i>0\\xe6\\x9d\\xa1\\xe8\\xaf\\x84\\xe8\\xae\\xba</span>\\n                    </span>\\n        <span class=\"float-left d-block\">\\n                            <span class=\"mr-2\"><i class=\"kicon i-hot\"></i>146\\xe7\\x82\\xb9\\xe7\\x83\\xad\\xe5\\xba\\xa6</span>\\n                            <span class=\"mr-2\"><i class=\"kicon i-good\"></i>0\\xe4\\xba\\xba\\xe7\\x82\\xb9\\xe8\\xb5\\x9e</span>\\n                            <span class=\"mr-2\"><i class=\"kicon i-author\"></i>\\xe5\\x8f\\xa4\\xe6\\x9c\\x88\\xe5\\xbc\\xa7</span>\\n                    </span>\\n        <span class=\"float-right\">\\n            <a href=\"https://arctee.cn/959.html\">\\xe9\\x98\\x85\\xe8\\xaf\\xbb\\xe5\\x85\\xa8\\xe6\\x96\\x87<i class=\"kicon i-rightbutton\"></i></a>\\n        </span>\\n    </div>\\n</div>\\n<div class=\"article-panel\">\\n    <span class=\"a-card d-none d-md-block d-lg-block\">\\n            </span>\\n            <div class=\"a-thumb\">\\n            <a href=\"https://arctee.cn/957.html\">\\n                <img fifu-featured=\"1\" src=\"https://img.arctee.cn/one/git.jpg\" />            </a>\\n        </div>\\n        <div class=\"a-post 1\">\\n        <div class=\"header\">\\n            <a class=\"label\" href=\"https://arctee.cn/category/tools\">\\xe5\\xb7\\xa5\\xe5\\x85\\xb7\\xe9\\x9b\\x86<i class=\"label-arrow\"></i></a>            <h3 class=\"title\"><a href=\"https://arctee.cn/957.html\">\\xe5\\xb0\\x86\\xe6\\x9c\\xac\\xe5\\x9c\\xb0\\xe6\\x96\\x87\\xe4\\xbb\\xb6\\xe6\\x8e\\xa8\\xe9\\x80\\x81\\xe5\\x88\\xb0GitHub\\xe4\\xb8\\x8a</a></h3>\\n        </div>\\n        <div class=\"content\">\\n            <p>\\xe5\\x90\\x8c\\xe6\\x97\\xb6\\xe5\\x8f\\x91\\xe5\\xb8\\x83\\xe4\\xba\\x8e\\xe3\\x80\\x8c\\xe7\\xa0\\xb4\\xe5\\xa3\\xb3AI\\xe4\\xb8\\xaa\\xe4\\xba\\xba\\xe7\\xbd\\x91\\xe7\\xab\\x99\\xe3\\x80\\x8d\\xe3\\x80\\x81\\xe5\\xbe\\xae\\xe4\\xbf\\xa1\\xe5\\x85\\xac\\xe4\\xbc\\x97\\xe5\\x8f\\xb7:\\xe3\\x80\\x8c\\xe7\\xa0\\xb4\\xe5\\xa3\\xb3Ai\\xe3\\x80\\x8d\\xe3\\x80\\x82 \\xe5\\x9c\\xa8\\xe5\\xae\\x89\\xe8\\xa3\\x85\\xe5\\x92\\x8c\\xe9\\x85\\x8d\\xe7\\xbd\\xae\\xe5\\xa5\\xbd Git Bash \\xe5\\x90\\x8e\\xef\\xbc\\x8c\\xe5\\xb0\\x86\\xe6\\x96\\x87\\xe4\\xbb\\xb6\\xe6\\x88\\x96\\xe8\\x80\\x85\\xe4\\xbf\\xae\\xe6\\x94\\xb9\\xe5\\x90\\x8e\\xe7\\x9a\\x84\\xe6\\x96\\x87\\xe4\\xbb\\xb6\\xe6\\x8e\\xa8\\xe9\\x80\\x81\\xe5\\x88\\xb0 GitHub\\xe4\\xb8\\x8a\\xef\\xbc\\x8c\\xe5\\x88\\x86\\xe4\\xb8\\xba\\xe4\\xbb\\xa5\\xe4\\xb8\\x8b\\xe5\\x87\\xa0\\xe7\\xa7\\x8d\\xe6\\x83\\x85\\xe5\\x86\\xb5\\xef\\xbc\\x9a \\xe4\\xb8\\x80\\xe3\\x80\\x81\\xe6\\x9c\\xac\\xe5\\x9c\\xb0\\xe4\\xb8\\x8d\\xe5\\xad\\x98\\xe5\\x9c\\xa8\\xe8\\xaf\\xa5\\xe4\\xbb\\x93\\xe5\\xba\\x93\\xef\\xbc\\x8c\\xe8\\x80\\x8c GitHub \\xe4\\xb8\\x8a\\xe5\\xb7\\xb2\\xe6\\x9c\\x89\\xe8\\xaf\\xa5\\xe4\\xbb\\x93\\xe5\\xba\\x93 1\\xe3\\x80\\x81\\xe5\\x85\\x88\\xe5\\x9c\\xa8\\xe6\\x9c\\xac\\xe5\\x9c\\xb0\\xe5\\x88\\x9b\\xe5\\xbb\\xba\\xe4\\xb8\\x80\\xe4\\xb8\\xaa\\xe7\\xa9\\xba [&hellip;]</p>\\n        </div>\\n    </div>\\n    <div class=\"a-meta\">\\n        <span class=\"float-left d-none d-md-block\">\\n            <span class=\"mr-2\"><i class=\"kicon i-calendar\"></i>2022-05-04</span>\\n                            <span class=\"mr-2\"><i class=\"kicon i-comments\"></i>0\\xe6\\x9d\\xa1\\xe8\\xaf\\x84\\xe8\\xae\\xba</span>\\n                    </span>\\n        <span class=\"float-left d-block\">\\n                            <span class=\"mr-2\"><i class=\"kicon i-hot\"></i>114\\xe7\\x82\\xb9\\xe7\\x83\\xad\\xe5\\xba\\xa6</span>\\n                            <span class=\"mr-2\"><i class=\"kicon i-good\"></i>0\\xe4\\xba\\xba\\xe7\\x82\\xb9\\xe8\\xb5\\x9e</span>\\n                            <span class=\"mr-2\"><i class=\"kicon i-author\"></i>\\xe5\\x8f\\xa4\\xe6\\x9c\\x88\\xe5\\xbc\\xa7</span>\\n                    </span>\\n        <span class=\"float-right\">\\n            <a href=\"https://arctee.cn/957.html\">\\xe9\\x98\\x85\\xe8\\xaf\\xbb\\xe5\\x85\\xa8\\xe6\\x96\\x87<i class=\"kicon i-rightbutton\"></i></a>\\n        </span>\\n    </div>\\n</div>\\n<div class=\"article-panel\">\\n    <span class=\"a-card d-none d-md-block d-lg-block\">\\n            </span>\\n            <div class=\"a-thumb\">\\n            <a href=\"https://arctee.cn/963.html\">\\n                <img src=\"https://img.arctee.cn/one/202205040733564.jpg\" />            </a>\\n        </div>\\n        <div class=\"a-post 1\">\\n        <div class=\"header\">\\n            <a class=\"label\" href=\"https://arctee.cn/category/program/c\">C\\xe8\\xaf\\xad\\xe8\\xa8\\x80<i class=\"label-arrow\"></i></a>            <h3 class=\"title\"><a href=\"https://arctee.cn/963.html\">C\\xe8\\xaf\\xad\\xe8\\xa8\\x80\\xe5\\xad\\xa6\\xe4\\xb9\\xa0\\xe8\\xb7\\xaf\\xe5\\xbe\\x84</a></h3>\\n        </div>\\n        <div class=\"content\">\\n            <p>\\xe5\\x90\\x8c\\xe6\\x97\\xb6\\xe5\\x8f\\x91\\xe5\\xb8\\x83\\xe4\\xba\\x8e\\xe3\\x80\\x8c\\xe7\\xa0\\xb4\\xe5\\xa3\\xb3AI\\xe4\\xb8\\xaa\\xe4\\xba\\xba\\xe7\\xbd\\x91\\xe7\\xab\\x99\\xe3\\x80\\x8d\\xe3\\x80\\x81\\xe5\\xbe\\xae\\xe4\\xbf\\xa1\\xe5\\x85\\xac\\xe4\\xbc\\x97\\xe5\\x8f\\xb7:\\xe3\\x80\\x8c\\xe7\\xa0\\xb4\\xe5\\xa3\\xb3Ai\\xe3\\x80\\x8d\\xe3\\x80\\x82 \\xe5\\x9c\\xa8\\xe7\\xba\\xbf\\xe7\\xbc\\x96\\xe8\\xaf\\x91\\xe5\\x99\\xa8\\xef\\xbc\\x9ahttps://www.tutorialspoint.com/compile_c_online.php \\xe6\\xb3\\xa8\\xe6\\x84\\x8f\\xef\\xbc\\x9a\\xe5\\xad\\xa6\\xe4\\xb9\\xa0\\xe8\\xbf\\x87\\xe7\\xa8\\x8b\\xe4\\xb8\\xad \\xe5\\xa4\\x9a\\xe8\\xaf\\xbb\\xe4\\xbb\\xa3\\xe7\\xa0\\x81\\xef\\xbc\\x8c\\xe8\\xaf\\xbb\\xe4\\xbb\\xa3\\xe7\\xa0\\x81\\xe4\\xb8\\x80\\xe5\\xae\\x9a\\xe8\\xa6\\x81\\xe8\\x87\\xaa\\xe5\\xb7\\xb1\\xe5\\x86\\x99\\xe6\\xb3\\xa8\\xe9\\x87\\x8a\\xe3\\x80\\x82 onlin [&hellip;]</p>\\n        </div>\\n    </div>\\n    <div class=\"a-meta\">\\n        <span class=\"float-left d-none d-md-block\">\\n            <span class=\"mr-2\"><i class=\"kicon i-calendar\"></i>2022-05-04</span>\\n                            <span class=\"mr-2\"><i class=\"kicon i-comments\"></i>0\\xe6\\x9d\\xa1\\xe8\\xaf\\x84\\xe8\\xae\\xba</span>\\n                    </span>\\n        <span class=\"float-left d-block\">\\n                            <span class=\"mr-2\"><i class=\"kicon i-hot\"></i>104\\xe7\\x82\\xb9\\xe7\\x83\\xad\\xe5\\xba\\xa6</span>\\n                            <span class=\"mr-2\"><i class=\"kicon i-good\"></i>0\\xe4\\xba\\xba\\xe7\\x82\\xb9\\xe8\\xb5\\x9e</span>\\n                            <span class=\"mr-2\"><i class=\"kicon i-author\"></i>\\xe5\\x8f\\xa4\\xe6\\x9c\\x88\\xe5\\xbc\\xa7</span>\\n                    </span>\\n        <span class=\"float-right\">\\n            <a href=\"https://arctee.cn/963.html\">\\xe9\\x98\\x85\\xe8\\xaf\\xbb\\xe5\\x85\\xa8\\xe6\\x96\\x87<i class=\"kicon i-rightbutton\"></i></a>\\n        </span>\\n    </div>\\n</div>\\n<div class=\"article-panel\">\\n    <span class=\"a-card d-none d-md-block d-lg-block\">\\n            </span>\\n            <div class=\"a-thumb\">\\n            <a href=\"https://arctee.cn/702.html\">\\n                <img fifu-featured=\"1\" src=\"https://img.arctee.cn/one/manjaro.png\" />            </a>\\n        </div>\\n        <div class=\"a-post 1\">\\n        <div class=\"header\">\\n            <a class=\"label\" href=\"https://arctee.cn/category/computer-principles/operating-system\">\\xe6\\x93\\x8d\\xe4\\xbd\\x9c\\xe7\\xb3\\xbb\\xe7\\xbb\\x9f<i class=\"label-arrow\"></i></a>            <h3 class=\"title\"><a href=\"https://arctee.cn/702.html\">Manjaro Linus \\xe5\\xae\\x89\\xe8\\xa3\\x85\\xe5\\xae\\x8c\\xe6\\x88\\x90\\xe5\\x90\\x8e\\xe5\\xa6\\x82\\xe4\\xbd\\x95\\xe9\\x85\\x8d\\xe7\\xbd\\xae</a></h3>\\n        </div>\\n        <div class=\"content\">\\n            <p>\\xe5\\x90\\x8c\\xe6\\x97\\xb6\\xe5\\x8f\\x91\\xe5\\xb8\\x83\\xe4\\xba\\x8e\\xe3\\x80\\x8c\\xe7\\xa0\\xb4\\xe5\\xa3\\xb3AI\\xe4\\xb8\\xaa\\xe4\\xba\\xba\\xe7\\xbd\\x91\\xe7\\xab\\x99\\xe3\\x80\\x8d\\xe3\\x80\\x81\\xe5\\xbe\\xae\\xe4\\xbf\\xa1\\xe5\\x85\\xac\\xe4\\xbc\\x97\\xe5\\x8f\\xb7:\\xe3\\x80\\x8c\\xe7\\xa0\\xb4\\xe5\\xa3\\xb3Ai\\xe3\\x80\\x8d\\xe3\\x80\\x82 \\xe7\\xb3\\xbb\\xe7\\xbb\\x9f\\xe8\\xae\\xbe\\xe7\\xbd\\xae \\xe8\\xbd\\xaf\\xe4\\xbb\\xb6\\xe6\\xba\\x90\\xe6\\x9b\\xb4\\xe6\\x8d\\xa2\\xe4\\xb8\\xba\\xe5\\x9b\\xbd\\xe5\\x86\\x85\\xe7\\x9a\\x84\\xe9\\x95\\x9c\\xe5\\x83\\x8f\\xe6\\xba\\x90 \\xe8\\xae\\xbe\\xe7\\xbd\\xae\\xe5\\xae\\x98\\xe6\\x96\\xb9\\xe9\\x95\\x9c\\xe5\\x83\\x8f\\xe6\\xba\\x90\\xef\\xbc\\x88\\xe5\\x8c\\x85\\xe6\\x8b\\xaccore, extra, community, multilib\\xef\\xbc\\x89 # 1 \\xe6\\x8e\\x92\\xe5\\x88\\x97\\xe4\\xb8\\xad\\xe5\\x9b\\xbd\\xe9\\x95\\x9c\\xe5\\x83\\x8f\\xe9\\x80\\x9f\\xe5\\xba\\xa6 sudo pacman-mir [&hellip;]</p>\\n        </div>\\n    </div>\\n    <div class=\"a-meta\">\\n        <span class=\"float-left d-none d-md-block\">\\n            <span class=\"mr-2\"><i class=\"kicon i-calendar\"></i>2022-05-04</span>\\n                            <span class=\"mr-2\"><i class=\"kicon i-comments\"></i>0\\xe6\\x9d\\xa1\\xe8\\xaf\\x84\\xe8\\xae\\xba</span>\\n                    </span>\\n        <span class=\"float-left d-block\">\\n                            <span class=\"mr-2\"><i class=\"kicon i-hot\"></i>155\\xe7\\x82\\xb9\\xe7\\x83\\xad\\xe5\\xba\\xa6</span>\\n                            <span class=\"mr-2\"><i class=\"kicon i-good\"></i>0\\xe4\\xba\\xba\\xe7\\x82\\xb9\\xe8\\xb5\\x9e</span>\\n                            <span class=\"mr-2\"><i class=\"kicon i-author\"></i>\\xe5\\x8f\\xa4\\xe6\\x9c\\x88\\xe5\\xbc\\xa7</span>\\n                    </span>\\n        <span class=\"float-right\">\\n            <a href=\"https://arctee.cn/702.html\">\\xe9\\x98\\x85\\xe8\\xaf\\xbb\\xe5\\x85\\xa8\\xe6\\x96\\x87<i class=\"kicon i-rightbutton\"></i></a>\\n        </span>\\n    </div>\\n</div>\\n<div class=\"article-panel\">\\n    <span class=\"a-card d-none d-md-block d-lg-block\">\\n            </span>\\n            <div class=\"a-thumb\">\\n            <a href=\"https://arctee.cn/955.html\">\\n                <img fifu-featured=\"1\" src=\"https://img.arctee.cn/one/202205010406917.jpg\" />            </a>\\n        </div>\\n        <div class=\"a-post 1\">\\n        <div class=\"header\">\\n            <a class=\"label\" href=\"https://arctee.cn/category/program/c\">C\\xe8\\xaf\\xad\\xe8\\xa8\\x80<i class=\"label-arrow\"></i></a>            <h3 class=\"title\"><a href=\"https://arctee.cn/955.html\">C \\xe8\\xaf\\xad\\xe8\\xa8\\x80\\xe7\\x9a\\x84\\xe4\\xb8\\x80\\xe4\\xba\\x9b\\xe6\\xb3\\xa8\\xe6\\x84\\x8f\\xe4\\xba\\x8b\\xe9\\xa1\\xb9</a></h3>\\n        </div>\\n        <div class=\"content\">\\n            <p>\\xe5\\x90\\x8c\\xe6\\xad\\xa5\\xe5\\x8f\\x91\\xe5\\xb8\\x83\\xe4\\xba\\x8e\\xe3\\x80\\x8c\\xe7\\xa0\\xb4\\xe5\\xa3\\xb3AI\\xe4\\xb8\\xaa\\xe4\\xba\\xba\\xe7\\xbd\\x91\\xe7\\xab\\x99\\xe3\\x80\\x8d \\xe4\\xbb\\xa5\\xe5\\x8f\\x8a\\xe5\\xbe\\xae\\xe4\\xbf\\xa1\\xe5\\x85\\xac\\xe4\\xbc\\x97\\xe5\\x8f\\xb7:\\xe3\\x80\\x8c\\xe7\\xa0\\xb4\\xe5\\xa3\\xb3AI\\xe3\\x80\\x8d\\xe3\\x80\\x82 1. printf() \\xe4\\xb8\\xba\\xe4\\xbb\\x80\\xe4\\xb9\\x88\\xe9\\x9c\\x80\\xe8\\xa6\\x81\\xe8\\xbe\\x93\\xe5\\x87\\xba\\xe6\\x8e\\xa7\\xe5\\x88\\xb6\\xe7\\xac\\xa6\\xef\\xbc\\x9f \\xe8\\xbe\\x93\\xe5\\x87\\xba\\xe6\\x8e\\xa7\\xe5\\x88\\xb6\\xe7\\xac\\xa6\\xef\\xbc\\x9a%d\\xe3\\x80\\x81%c \\xe7\\xad\\x89 \\xe7\\xad\\x94\\xef\\xbc\\x9a\\xe8\\xae\\xa1\\xe7\\xae\\x97\\xe6\\x9c\\xba\\xe4\\xb8\\xad\\xe4\\xbb\\xbb\\xe4\\xbd\\x95\\xe4\\xbf\\xa1\\xe6\\x81\\xaf\\xe9\\x83\\xbd\\xe6\\x98\\xaf\\xe4\\xbb\\xa5 0 1 0 1 \\xe7\\xbb\\x84\\xe5\\x90\\x88\\xe5\\xbd\\xa2\\xe5\\xbc\\x8f\\xe5\\xad\\x98\\xe5\\x9c\\xa8\\xe7\\x9a\\x84\\xef\\xbc\\x8c\\xe5\\xaf\\xb9\\xe4\\xba\\x8e\\xe5\\x90\\x8c\\xe6\\xa0\\xb7\\xe7\\x9a\\x84 0 1 \\xe7\\xbb\\x84\\xe5\\x90\\x88\\xe4\\xbf\\xa1\\xe6\\x81\\xaf\\xef\\xbc\\x8c\\xe8\\xae\\xa1\\xe7\\xae\\x97\\xe6\\x9c\\xba\\xe4\\xb8\\x8d\\xe7\\x9f\\xa5 [&hellip;]</p>\\n        </div>\\n    </div>\\n    <div class=\"a-meta\">\\n        <span class=\"float-left d-none d-md-block\">\\n            <span class=\"mr-2\"><i class=\"kicon i-calendar\"></i>2022-05-01</span>\\n                            <span class=\"mr-2\"><i class=\"kicon i-comments\"></i>0\\xe6\\x9d\\xa1\\xe8\\xaf\\x84\\xe8\\xae\\xba</span>\\n                    </span>\\n        <span class=\"float-left d-block\">\\n                            <span class=\"mr-2\"><i class=\"kicon i-hot\"></i>133\\xe7\\x82\\xb9\\xe7\\x83\\xad\\xe5\\xba\\xa6</span>\\n                            <span class=\"mr-2\"><i class=\"kicon i-good\"></i>0\\xe4\\xba\\xba\\xe7\\x82\\xb9\\xe8\\xb5\\x9e</span>\\n                            <span class=\"mr-2\"><i class=\"kicon i-author\"></i>\\xe5\\x8f\\xa4\\xe6\\x9c\\x88\\xe5\\xbc\\xa7</span>\\n                    </span>\\n        <span class=\"float-right\">\\n            <a href=\"https://arctee.cn/955.html\">\\xe9\\x98\\x85\\xe8\\xaf\\xbb\\xe5\\x85\\xa8\\xe6\\x96\\x87<i class=\"kicon i-rightbutton\"></i></a>\\n        </span>\\n    </div>\\n</div>\\n<div class=\"article-panel\">\\n    <span class=\"a-card d-none d-md-block d-lg-block\">\\n            </span>\\n            <div class=\"a-thumb\">\\n            <a href=\"https://arctee.cn/943.html\">\\n                <img src=\"https://www.ruanyifeng.com/blogimg/asset/2015/bg2015072601.jpg\" />            </a>\\n        </div>\\n        <div class=\"a-post 1\">\\n        <div class=\"header\">\\n            <a class=\"label\" href=\"https://arctee.cn/category/computer-science-and-the-web/information-theory\">\\xe4\\xbf\\xa1\\xe6\\x81\\xaf\\xe7\\x90\\x86\\xe8\\xae\\xba<i class=\"label-arrow\"></i></a>            <h3 class=\"title\"><a href=\"https://arctee.cn/943.html\">\\xe8\\x92\\x99\\xe7\\x89\\xb9\\xe5\\x8d\\xa1\\xe7\\xbd\\x97\\xe6\\x96\\xb9\\xe6\\xb3\\x95\\xe5\\x85\\xa5\\xe9\\x97\\xa8</a></h3>\\n        </div>\\n        <div class=\"content\">\\n            <p>\\xe8\\x92\\x99\\xe7\\x89\\xb9\\xe5\\x8d\\xa1\\xe7\\xbd\\x97\\xe6\\x96\\xb9\\xe6\\xb3\\x95\\xe5\\x85\\xa5\\xe9\\x97\\xa8 \\xe4\\xbd\\x9c\\xe8\\x80\\x85\\xef\\xbc\\x9a \\xe9\\x98\\xae\\xe4\\xb8\\x80\\xe5\\xb3\\xb0 \\xe6\\x97\\xa5\\xe6\\x9c\\x9f\\xef\\xbc\\x9a 2015\\xe5\\xb9\\xb47\\xe6\\x9c\\x8827\\xe6\\x97\\xa5 \\xe6\\x9c\\xac\\xe6\\x96\\x87\\xe9\\x80\\x9a\\xe8\\xbf\\x87\\xe4\\xba\\x94\\xe4\\xb8\\xaa\\xe4\\xbe\\x8b\\xe5\\xad\\x90\\xef\\xbc\\x8c\\xe4\\xbb\\x8b\\xe7\\xbb\\x8d\\xe8\\x92\\x99\\xe7\\x89\\xb9\\xe5\\x8d\\xa1\\xe7\\xbd\\x97\\xe6\\x96\\xb9\\xe6\\xb3\\x95\\xef\\xbc\\x88Monte Carlo Method\\xef\\xbc\\x89\\xe3\\x80\\x82 \\xe4\\xb8\\x80\\xe3\\x80\\x81\\xe6\\xa6\\x82\\xe8\\xbf\\xb0 \\xe8\\x92\\x99\\xe7\\x89\\xb9\\xe5\\x8d\\xa1\\xe7\\xbd\\x97\\xe6\\x96\\xb9\\xe6\\xb3\\x95\\xe6\\x98\\xaf\\xe4\\xb8\\x80\\xe7\\xa7\\x8d\\xe8\\xae\\xa1\\xe7\\xae\\x97\\xe6\\x96\\xb9\\xe6\\xb3\\x95\\xe3\\x80\\x82\\xe5\\x8e\\x9f\\xe7\\x90\\x86\\xe6\\x98\\xaf\\xe9\\x80\\x9a\\xe8\\xbf\\x87\\xe5\\xa4\\xa7\\xe9\\x87\\x8f\\xe9\\x9a\\x8f\\xe6\\x9c\\xba\\xe6\\xa0\\xb7\\xe6\\x9c\\xac\\xef\\xbc\\x8c\\xe5\\x8e\\xbb\\xe4\\xba\\x86\\xe8\\xa7\\xa3\\xe4\\xb8\\x80\\xe4\\xb8\\xaa\\xe7\\xb3\\xbb\\xe7\\xbb\\x9f\\xef\\xbc\\x8c\\xe8\\xbf\\x9b\\xe8\\x80\\x8c\\xe5\\xbe\\x97\\xe5\\x88\\xb0\\xe6\\x89\\x80\\xe8\\xa6\\x81\\xe8\\xae\\xa1\\xe7\\xae\\x97\\xe7\\x9a\\x84\\xe5\\x80\\xbc [&hellip;]</p>\\n        </div>\\n    </div>\\n    <div class=\"a-meta\">\\n        <span class=\"float-left d-none d-md-block\">\\n            <span class=\"mr-2\"><i class=\"kicon i-calendar\"></i>2021-11-20</span>\\n                            <span class=\"mr-2\"><i class=\"kicon i-comments\"></i>0\\xe6\\x9d\\xa1\\xe8\\xaf\\x84\\xe8\\xae\\xba</span>\\n                    </span>\\n        <span class=\"float-left d-block\">\\n                            <span class=\"mr-2\"><i class=\"kicon i-hot\"></i>252\\xe7\\x82\\xb9\\xe7\\x83\\xad\\xe5\\xba\\xa6</span>\\n                            <span class=\"mr-2\"><i class=\"kicon i-good\"></i>0\\xe4\\xba\\xba\\xe7\\x82\\xb9\\xe8\\xb5\\x9e</span>\\n                            <span class=\"mr-2\"><i class=\"kicon i-author\"></i>kerbal</span>\\n                    </span>\\n        <span class=\"float-right\">\\n            <a href=\"https://arctee.cn/943.html\">\\xe9\\x98\\x85\\xe8\\xaf\\xbb\\xe5\\x85\\xa8\\xe6\\x96\\x87<i class=\"kicon i-rightbutton\"></i></a>\\n        </span>\\n    </div>\\n</div>\\n<div class=\\'paginations\\'><span class=\"page-numbers current\">1</span><a href=\\'https://arctee.cn/page/2\\'>2</a><a href=\\'https://arctee.cn/page/3\\'>3</a><a href=\\'https://arctee.cn/page/4\\'>4</a><a href=\\'https://arctee.cn/page/5\\'>5</a><span class=\"page-numbers dots\">\\xe2\\x80\\xa6</span><a href=\\'https://arctee.cn/page/7\\'>7</a><a href=\"https://arctee.cn/page/2\" class=\"next\" title=\"\\xe4\\xb8\\x8b\\xe4\\xb8\\x80\\xe9\\xa1\\xb5\"><i class=\"kicon i-rarrows\"></i></a></div>            </div>\\n            <div class=\"col-lg-4 sidebar sticky-sidebar d-none d-lg-block\">\\n                <div class=\"widget w-search\"><div class=\"item\"> <form role=\"search\" method=\"get\" id=\"searchform\" class=\"searchform\" action=\"https://arctee.cn/\"> <div class=\"input-group mt-2 mb-2\"> <input type=\"text\" name=\"s\" id=\"search-widgets\" class=\"form-control\" placeholder=\"\\xe6\\x90\\x9c\\xe7\\x82\\xb9\\xe4\\xbb\\x80\\xe4\\xb9\\x88\\xe5\\x91\\xa2?\"> <div class=\"input-group-append\"> <button class=\"btn btn-primary btn-search\" type=\"submit\" id=\"searchsubmit\">\\xe6\\x90\\x9c\\xe7\\xb4\\xa2</button> </div> </div> </form></div></div><div class=\"widget widget_text\"><div class=\"title\">\\xe5\\x85\\xac\\xe5\\x91\\x8a</div>\\t\\t\\t<div class=\"textwidget\"><p><strong><a href=\"https://arctee.cn/register\">\\xe7\\xbd\\x91\\xe7\\xab\\x99\\xe6\\xb3\\xa8\\xe5\\x86\\x8c</a></strong></p>\\n<p><strong>\\xe5\\xbe\\xae\\xe4\\xbf\\xa1\\xe5\\x85\\xac\\xe4\\xbc\\x97\\xe5\\x8f\\xb7</strong></p>\\n<p><a href=\"https://arctee.cn/wp-content/uploads/2021/08/\\xe7\\xa0\\xb4\\xe5\\xa3\\xb3AI\\xe5\\xbe\\xae\\xe4\\xbf\\xa1\\xe5\\x85\\xac\\xe4\\xbc\\x97\\xe5\\x8f\\xb7.png\"><img loading=\"lazy\" class=\"alignnone size-medium wp-image-734\" src=\"https://arctee.cn/wp-content/uploads/2021/08/\\xe7\\xa0\\xb4\\xe5\\xa3\\xb3AI\\xe5\\xbe\\xae\\xe4\\xbf\\xa1\\xe5\\x85\\xac\\xe4\\xbc\\x97\\xe5\\x8f\\xb7-300x300.png\" alt=\"\" width=\"300\" height=\"300\" srcset=\"https://arctee.cn/wp-content/uploads/2021/08/\\xe7\\xa0\\xb4\\xe5\\xa3\\xb3AI\\xe5\\xbe\\xae\\xe4\\xbf\\xa1\\xe5\\x85\\xac\\xe4\\xbc\\x97\\xe5\\x8f\\xb7-300x300.png 300w, https://arctee.cn/wp-content/uploads/2021/08/\\xe7\\xa0\\xb4\\xe5\\xa3\\xb3AI\\xe5\\xbe\\xae\\xe4\\xbf\\xa1\\xe5\\x85\\xac\\xe4\\xbc\\x97\\xe5\\x8f\\xb7-150x150.png 150w, https://arctee.cn/wp-content/uploads/2021/08/\\xe7\\xa0\\xb4\\xe5\\xa3\\xb3AI\\xe5\\xbe\\xae\\xe4\\xbf\\xa1\\xe5\\x85\\xac\\xe4\\xbc\\x97\\xe5\\x8f\\xb7.png 600w\" sizes=\"(max-width: 300px) 100vw, 300px\" /></a></p>\\n</div>\\n\\t\\t</div><div class=\"widget w-recommended\">        <div class=\"nav nav-tabs d-none d-xl-flex\" id=\"nav-tab\" role=\"tablist\">\\n            <a class=\"nav-item nav-link \" id=\"nav-new-tab\" data-toggle=\"tab\" href=\"#nav-new\" role=\"tab\" aria-controls=\"nav-new\" aria-selected=\"false\"><i class=\"kicon i-tabnew\"></i>\\xe6\\x9c\\x80\\xe6\\x96\\xb0</a>\\n            <a class=\"nav-item nav-link active\" id=\"nav-hot-tab\" data-toggle=\"tab\" href=\"#nav-hot\" role=\"tab\" aria-controls=\"nav-hot\" aria-selected=\"true\"><i class=\"kicon i-tabhot\"></i>\\xe7\\x83\\xad\\xe7\\x82\\xb9</a>\\n            <a class=\"nav-item nav-link \" id=\"nav-random-tab\" data-toggle=\"tab\" href=\"#nav-random\" role=\"tab\" aria-controls=\"nav-random\" aria-selected=\"false\"><i class=\"kicon i-tabrandom\"></i>\\xe9\\x9a\\x8f\\xe6\\x9c\\xba</a>\\n        </div>\\n        <div class=\"nav nav-tabs d-xl-none\" id=\"nav-tab\" role=\"tablist\">\\n            <a class=\"nav-item nav-link \" id=\"nav-new-tab\" data-toggle=\"tab\" href=\"#nav-new\" role=\"tab\" aria-controls=\"nav-new\" aria-selected=\"false\">\\xe6\\x9c\\x80\\xe6\\x96\\xb0</a>\\n            <a class=\"nav-item nav-link active\" id=\"nav-hot-tab\" data-toggle=\"tab\" href=\"#nav-hot\" role=\"tab\" aria-controls=\"nav-hot\" aria-selected=\"true\">\\xe7\\x83\\xad\\xe7\\x82\\xb9</a>\\n            <a class=\"nav-item nav-link \" id=\"nav-random-tab\" data-toggle=\"tab\" href=\"#nav-random\" role=\"tab\" aria-controls=\"nav-random\" aria-selected=\"false\">\\xe9\\x9a\\x8f\\xe6\\x9c\\xba</a>\\n        </div>\\n        <div class=\"tab-content\" id=\"nav-tabContent\">\\n            <div class=\"tab-pane fade \" id=\"nav-new\" role=\"tabpanel\" aria-labelledby=\"nav-new-tab\">\\n                                    <a class=\"bookmark-item\" rel=\"bookmark\" title=\"\\xe5\\x8a\\xa8\\xe6\\x80\\x81\\xe6\\x95\\xb0\\xe7\\xbb\\x84\\xe2\\x80\\x94C\\xe8\\xaf\\xad\\xe8\\xa8\\x80\\xe6\\x95\\xb0\\xe6\\x8d\\xae\\xe7\\xbb\\x93\\xe6\\x9e\\x84\\xe5\\xae\\x9e\\xe7\\x8e\\xb0\" href=\"https://arctee.cn/975.html\"><i class=\"kicon i-book\"></i>\\xe5\\x8a\\xa8\\xe6\\x80\\x81\\xe6\\x95\\xb0\\xe7\\xbb\\x84\\xe2\\x80\\x94C\\xe8\\xaf\\xad\\xe8\\xa8\\x80\\xe6\\x95\\xb0\\xe6\\x8d\\xae\\xe7\\xbb\\x93\\xe6\\x9e\\x84\\xe5\\xae\\x9e\\xe7\\x8e\\xb0</a>\\n                                    <a class=\"bookmark-item\" rel=\"bookmark\" title=\"Ubuntu Linux\\xe5\\xae\\x89\\xe8\\xa3\\x85VMware Tools\\xe8\\xaf\\xa6\\xe7\\xbb\\x86\\xe6\\x8e\\x92\\xe9\\x94\\x99\\xe7\\xba\\xa0\\xe5\\xaf\\x9f\\xe6\\x95\\x99\\xe7\\xa8\\x8b\" href=\"https://arctee.cn/972.html\"><i class=\"kicon i-book\"></i>Ubuntu Linux\\xe5\\xae\\x89\\xe8\\xa3\\x85VMware Tools\\xe8\\xaf\\xa6\\xe7\\xbb\\x86\\xe6\\x8e\\x92\\xe9\\x94\\x99\\xe7\\xba\\xa0\\xe5\\xaf\\x9f\\xe6\\x95\\x99\\xe7\\xa8\\x8b</a>\\n                                    <a class=\"bookmark-item\" rel=\"bookmark\" title=\"C\\xe8\\xaf\\xad\\xe8\\xa8\\x80\\xe7\\xbb\\x83\\xe6\\x89\\x8b\\xe5\\xb0\\x8f\\xe7\\xa8\\x8b\\xe5\\xba\\x8f-ACLLib\\xe7\\x95\\x8c\\xe9\\x9d\\xa2\\xe7\\xa8\\x8b\\xe5\\xba\\x8f\\xe5\\xbc\\x80\\xe5\\x8f\\x91\" href=\"https://arctee.cn/960.html\"><i class=\"kicon i-book\"></i>C\\xe8\\xaf\\xad\\xe8\\xa8\\x80\\xe7\\xbb\\x83\\xe6\\x89\\x8b\\xe5\\xb0\\x8f\\xe7\\xa8\\x8b\\xe5\\xba\\x8f-ACLLib\\xe7\\x95\\x8c\\xe9\\x9d\\xa2\\xe7\\xa8\\x8b\\xe5\\xba\\x8f\\xe5\\xbc\\x80\\xe5\\x8f\\x91</a>\\n                                    <a class=\"bookmark-item\" rel=\"bookmark\" title=\"Git\\xe4\\xb8\\xad\\xe5\\x90\\x88\\xe5\\xb9\\xb6\\xe5\\xa4\\x9a\\xe4\\xb8\\xaa\\xe6\\x8f\\x90\\xe4\\xba\\xa4\\xe7\\x9a\\x84\\xe6\\x96\\xb9\\xe6\\xb3\\x95\\xe6\\x80\\xbb\\xe7\\xbb\\x93\" href=\"https://arctee.cn/959.html\"><i class=\"kicon i-book\"></i>Git\\xe4\\xb8\\xad\\xe5\\x90\\x88\\xe5\\xb9\\xb6\\xe5\\xa4\\x9a\\xe4\\xb8\\xaa\\xe6\\x8f\\x90\\xe4\\xba\\xa4\\xe7\\x9a\\x84\\xe6\\x96\\xb9\\xe6\\xb3\\x95\\xe6\\x80\\xbb\\xe7\\xbb\\x93</a>\\n                                    <a class=\"bookmark-item\" rel=\"bookmark\" title=\"\\xe5\\xb0\\x86\\xe6\\x9c\\xac\\xe5\\x9c\\xb0\\xe6\\x96\\x87\\xe4\\xbb\\xb6\\xe6\\x8e\\xa8\\xe9\\x80\\x81\\xe5\\x88\\xb0GitHub\\xe4\\xb8\\x8a\" href=\"https://arctee.cn/957.html\"><i class=\"kicon i-book\"></i>\\xe5\\xb0\\x86\\xe6\\x9c\\xac\\xe5\\x9c\\xb0\\xe6\\x96\\x87\\xe4\\xbb\\xb6\\xe6\\x8e\\xa8\\xe9\\x80\\x81\\xe5\\x88\\xb0GitHub\\xe4\\xb8\\x8a</a>\\n                                    <a class=\"bookmark-item\" rel=\"bookmark\" title=\"C\\xe8\\xaf\\xad\\xe8\\xa8\\x80\\xe5\\xad\\xa6\\xe4\\xb9\\xa0\\xe8\\xb7\\xaf\\xe5\\xbe\\x84\" href=\"https://arctee.cn/963.html\"><i class=\"kicon i-book\"></i>C\\xe8\\xaf\\xad\\xe8\\xa8\\x80\\xe5\\xad\\xa6\\xe4\\xb9\\xa0\\xe8\\xb7\\xaf\\xe5\\xbe\\x84</a>\\n                                    <a class=\"bookmark-item\" rel=\"bookmark\" title=\"Manjaro Linus \\xe5\\xae\\x89\\xe8\\xa3\\x85\\xe5\\xae\\x8c\\xe6\\x88\\x90\\xe5\\x90\\x8e\\xe5\\xa6\\x82\\xe4\\xbd\\x95\\xe9\\x85\\x8d\\xe7\\xbd\\xae\" href=\"https://arctee.cn/702.html\"><i class=\"kicon i-book\"></i>Manjaro Linus \\xe5\\xae\\x89\\xe8\\xa3\\x85\\xe5\\xae\\x8c\\xe6\\x88\\x90\\xe5\\x90\\x8e\\xe5\\xa6\\x82\\xe4\\xbd\\x95\\xe9\\x85\\x8d\\xe7\\xbd\\xae</a>\\n                            </div>\\n            <div class=\"tab-pane fade show active\" id=\"nav-hot\" role=\"tabpanel\" aria-labelledby=\"nav-hot-tab\">\\n                <a class=\"bookmark-item\" title=\"Ubuntu Linux\\xe5\\xae\\x89\\xe8\\xa3\\x85VMware Tools\\xe8\\xaf\\xa6\\xe7\\xbb\\x86\\xe6\\x8e\\x92\\xe9\\x94\\x99\\xe7\\xba\\xa0\\xe5\\xaf\\x9f\\xe6\\x95\\x99\\xe7\\xa8\\x8b\" href=\"https://arctee.cn/972.html\" rel=\"bookmark\"><i class=\"kicon i-book\"></i>Ubuntu Linux\\xe5\\xae\\x89\\xe8\\xa3\\x85VMware Tools\\xe8\\xaf\\xa6\\xe7\\xbb\\x86\\xe6\\x8e\\x92\\xe9\\x94\\x99\\xe7\\xba\\xa0\\xe5\\xaf\\x9f\\xe6\\x95\\x99\\xe7\\xa8\\x8b</a><a class=\"bookmark-item\" title=\"\\xe5\\x8a\\xa8\\xe6\\x80\\x81\\xe6\\x95\\xb0\\xe7\\xbb\\x84\\xe2\\x80\\x94C\\xe8\\xaf\\xad\\xe8\\xa8\\x80\\xe6\\x95\\xb0\\xe6\\x8d\\xae\\xe7\\xbb\\x93\\xe6\\x9e\\x84\\xe5\\xae\\x9e\\xe7\\x8e\\xb0\" href=\"https://arctee.cn/975.html\" rel=\"bookmark\"><i class=\"kicon i-book\"></i>\\xe5\\x8a\\xa8\\xe6\\x80\\x81\\xe6\\x95\\xb0\\xe7\\xbb\\x84\\xe2\\x80\\x94C\\xe8\\xaf\\xad\\xe8\\xa8\\x80\\xe6\\x95\\xb0\\xe6\\x8d\\xae\\xe7\\xbb\\x93\\xe6\\x9e\\x84\\xe5\\xae\\x9e\\xe7\\x8e\\xb0</a>            </div>\\n            <div class=\"tab-pane fade \" id=\"nav-random\" role=\"tabpanel\" aria-labelledby=\"nav-random-tab\">\\n                                    <a class=\"bookmark-item\" rel=\"bookmark\" title=\"\\xe7\\x8e\\xb0\\xe4\\xbb\\xa3 C++\\xef\\xbc\\x9a\\xe8\\x87\\xaa\\xe5\\x8a\\xa8\\xe7\\xb1\\xbb\\xe5\\x9e\\x8b\\xe6\\x8e\\xa8\\xe5\\xaf\\xbc\" href=\"https://arctee.cn/797.html\"><i class=\"kicon i-book\"></i>\\xe7\\x8e\\xb0\\xe4\\xbb\\xa3 C++\\xef\\xbc\\x9a\\xe8\\x87\\xaa\\xe5\\x8a\\xa8\\xe7\\xb1\\xbb\\xe5\\x9e\\x8b\\xe6\\x8e\\xa8\\xe5\\xaf\\xbc</a>\\n                                    <a class=\"bookmark-item\" rel=\"bookmark\" title=\"\\xe7\\x8e\\xb0\\xe4\\xbb\\xa3 C++\\xef\\xbc\\x9a\\xe4\\xb8\\x80\\xe6\\x96\\x87\\xe8\\xaf\\xbb\\xe6\\x87\\x82\\xe6\\x99\\xba\\xe8\\x83\\xbd\\xe6\\x8c\\x87\\xe9\\x92\\x88\" href=\"https://arctee.cn/794.html\"><i class=\"kicon i-book\"></i>\\xe7\\x8e\\xb0\\xe4\\xbb\\xa3 C++\\xef\\xbc\\x9a\\xe4\\xb8\\x80\\xe6\\x96\\x87\\xe8\\xaf\\xbb\\xe6\\x87\\x82\\xe6\\x99\\xba\\xe8\\x83\\xbd\\xe6\\x8c\\x87\\xe9\\x92\\x88</a>\\n                                    <a class=\"bookmark-item\" rel=\"bookmark\" title=\"\\xe8\\xbd\\xaf\\xe4\\xbb\\xb6\\xe5\\xb7\\xa5\\xe7\\xa8\\x8b\\xe7\\x9a\\x84\\xe6\\x9c\\x80\\xe5\\xa4\\xa7\\xe9\\x9a\\xbe\\xe9\\xa2\\x98\" href=\"https://arctee.cn/833.html\"><i class=\"kicon i-book\"></i>\\xe8\\xbd\\xaf\\xe4\\xbb\\xb6\\xe5\\xb7\\xa5\\xe7\\xa8\\x8b\\xe7\\x9a\\x84\\xe6\\x9c\\x80\\xe5\\xa4\\xa7\\xe9\\x9a\\xbe\\xe9\\xa2\\x98</a>\\n                                    <a class=\"bookmark-item\" rel=\"bookmark\" title=\"\\xe8\\x92\\x99\\xe7\\x89\\xb9\\xe5\\x8d\\xa1\\xe7\\xbd\\x97\\xe6\\x96\\xb9\\xe6\\xb3\\x95\\xe5\\x85\\xa5\\xe9\\x97\\xa8\" href=\"https://arctee.cn/943.html\"><i class=\"kicon i-book\"></i>\\xe8\\x92\\x99\\xe7\\x89\\xb9\\xe5\\x8d\\xa1\\xe7\\xbd\\x97\\xe6\\x96\\xb9\\xe6\\xb3\\x95\\xe5\\x85\\xa5\\xe9\\x97\\xa8</a>\\n                                    <a class=\"bookmark-item\" rel=\"bookmark\" title=\"\\xe5\\x90\\xb4\\xe6\\x81\\xa9\\xe8\\xbe\\xbe\\xe6\\x9c\\xba\\xe5\\x99\\xa8\\xe5\\xad\\xa6\\xe4\\xb9\\xa0\\xe4\\xbd\\x9c\\xe4\\xb8\\x9aPython3\\xe5\\xae\\x9e\\xe7\\x8e\\xb0(\\xe5\\x85\\xad)\\xef\\xbc\\x9a\\xe6\\x94\\xaf\\xe6\\x8c\\x81\\xe5\\x90\\x91\\xe9\\x87\\x8f\\xe6\\x9c\\xbaSVM\" href=\"https://arctee.cn/668.html\"><i class=\"kicon i-book\"></i>\\xe5\\x90\\xb4\\xe6\\x81\\xa9\\xe8\\xbe\\xbe\\xe6\\x9c\\xba\\xe5\\x99\\xa8\\xe5\\xad\\xa6\\xe4\\xb9\\xa0\\xe4\\xbd\\x9c\\xe4\\xb8\\x9aPython3\\xe5\\xae\\x9e\\xe7\\x8e\\xb0(\\xe5\\x85\\xad)\\xef\\xbc\\x9a\\xe6\\x94\\xaf\\xe6\\x8c\\x81\\xe5\\x90\\x91\\xe9\\x87\\x8f\\xe6\\x9c\\xbaSVM</a>\\n                                    <a class=\"bookmark-item\" rel=\"bookmark\" title=\"C Primer Plus \\xe7\\xac\\xac\\xe5\\x85\\xad\\xe7\\x89\\x88 \\xe7\\xbc\\x96\\xe7\\xa8\\x8b\\xe7\\xbb\\x83\\xe4\\xb9\\xa0\\xe7\\xac\\xac\\xe4\\xba\\x8c\\xe7\\xab\\xa0\\xe7\\xad\\x94\\xe6\\xa1\\x88 \\xe6\\x9c\\x80\\xe6\\x96\\xb0\\xe5\\x87\\xba\\xe7\\x82\\x89\" href=\"https://arctee.cn/525.html\"><i class=\"kicon i-book\"></i>C Primer Plus \\xe7\\xac\\xac\\xe5\\x85\\xad\\xe7\\x89\\x88 \\xe7\\xbc\\x96\\xe7\\xa8\\x8b\\xe7\\xbb\\x83\\xe4\\xb9\\xa0\\xe7\\xac\\xac\\xe4\\xba\\x8c\\xe7\\xab\\xa0\\xe7\\xad\\x94\\xe6\\xa1\\x88 \\xe6\\x9c\\x80\\xe6\\x96\\xb0\\xe5\\x87\\xba\\xe7\\x82\\x89</a>\\n                                    <a class=\"bookmark-item\" rel=\"bookmark\" title=\"C\\xe8\\xaf\\xad\\xe8\\xa8\\x80\\xe7\\xbb\\x83\\xe6\\x89\\x8b\\xe5\\xb0\\x8f\\xe7\\xa8\\x8b\\xe5\\xba\\x8f-ACLLib\\xe7\\x95\\x8c\\xe9\\x9d\\xa2\\xe7\\xa8\\x8b\\xe5\\xba\\x8f\\xe5\\xbc\\x80\\xe5\\x8f\\x91\" href=\"https://arctee.cn/960.html\"><i class=\"kicon i-book\"></i>C\\xe8\\xaf\\xad\\xe8\\xa8\\x80\\xe7\\xbb\\x83\\xe6\\x89\\x8b\\xe5\\xb0\\x8f\\xe7\\xa8\\x8b\\xe5\\xba\\x8f-ACLLib\\xe7\\x95\\x8c\\xe9\\x9d\\xa2\\xe7\\xa8\\x8b\\xe5\\xba\\x8f\\xe5\\xbc\\x80\\xe5\\x8f\\x91</a>\\n                            </div>\\n        </div>\\n    </div><div class=\"widget w-tags\"><div class=\"title\">\\xe6\\xa0\\x87\\xe7\\xad\\xbe\\xe8\\x81\\x9a\\xe5\\x90\\x88</div><div class=\"item\"><a href=\"https://arctee.cn/tag/%e6%9c%ba%e5%99%a8%e5%ad%a6%e4%b9%a0\" class=\"tag-cloud-link tag-link-62 tag-link-position-1\" style=\"font-size: 14px;\">\\xe6\\x9c\\xba\\xe5\\x99\\xa8\\xe5\\xad\\xa6\\xe4\\xb9\\xa0</a>\\n<a href=\"https://arctee.cn/tag/linux\" class=\"tag-cloud-link tag-link-58 tag-link-position-2\" style=\"font-size: 14px;\">Linux</a>\\n<a href=\"https://arctee.cn/tag/%e7%8e%8b%e5%9e%a0\" class=\"tag-cloud-link tag-link-72 tag-link-position-3\" style=\"font-size: 14px;\">\\xe7\\x8e\\x8b\\xe5\\x9e\\xa0</a>\\n<a href=\"https://arctee.cn/tag/%e6%9d%82%e8%b0%88\" class=\"tag-cloud-link tag-link-71 tag-link-position-4\" style=\"font-size: 14px;\">\\xe6\\x9d\\x82\\xe8\\xb0\\x88</a>\\n<a href=\"https://arctee.cn/tag/vmware\" class=\"tag-cloud-link tag-link-104 tag-link-position-5\" style=\"font-size: 14px;\">VMware</a>\\n<a href=\"https://arctee.cn/tag/vscode\" class=\"tag-cloud-link tag-link-59 tag-link-position-6\" style=\"font-size: 14px;\">VSCode</a>\\n<a href=\"https://arctee.cn/tag/manjaro\" class=\"tag-cloud-link tag-link-103 tag-link-position-7\" style=\"font-size: 14px;\">Manjaro</a>\\n<a href=\"https://arctee.cn/tag/tool\" class=\"tag-cloud-link tag-link-101 tag-link-position-8\" style=\"font-size: 14px;\">tool</a>\\n<a href=\"https://arctee.cn/tag/ubuntu\" class=\"tag-cloud-link tag-link-105 tag-link-position-9\" style=\"font-size: 14px;\">Ubuntu</a>\\n<a href=\"https://arctee.cn/tag/focus\" class=\"tag-cloud-link tag-link-77 tag-link-position-10\" style=\"font-size: 14px;\">FOCUS</a>\\n<a href=\"https://arctee.cn/tag/java\" class=\"tag-cloud-link tag-link-61 tag-link-position-11\" style=\"font-size: 14px;\">Java</a>\\n<a href=\"https://arctee.cn/tag/%e6%93%8d%e4%bd%9c%e7%b3%bb%e7%bb%9f\" class=\"tag-cloud-link tag-link-78 tag-link-position-12\" style=\"font-size: 14px;\">\\xe6\\x93\\x8d\\xe4\\xbd\\x9c\\xe7\\xb3\\xbb\\xe7\\xbb\\x9f</a>\\n<a href=\"https://arctee.cn/tag/c%e4%b9%8b%e7%88%b6\" class=\"tag-cloud-link tag-link-76 tag-link-position-13\" style=\"font-size: 14px;\">c++\\xe4\\xb9\\x8b\\xe7\\x88\\xb6</a>\\n<a href=\"https://arctee.cn/tag/numpy\" class=\"tag-cloud-link tag-link-63 tag-link-position-14\" style=\"font-size: 14px;\">Numpy</a>\\n<a href=\"https://arctee.cn/tag/c\" class=\"tag-cloud-link tag-link-29 tag-link-position-15\" style=\"font-size: 14px;\">C</a>\\n<a href=\"https://arctee.cn/tag/web\" class=\"tag-cloud-link tag-link-79 tag-link-position-16\" style=\"font-size: 14px;\">web</a></div></div><div class=\"widget w-comments\"><div class=\"title\">\\xe6\\x9c\\x80\\xe8\\xbf\\x91\\xe8\\xaf\\x84\\xe8\\xae\\xba</div><div class=\"comments\"><a href=\"https://arctee.cn/519.html#commentform\">\\n            <div class=\"meta clearfix\">\\n                <div class=\"avatar float-left\"></div>\\n                <div class=\"profile d-block\">\\n                    <span class=\"date\">bobowu \\xe5\\x8f\\x91\\xe5\\xb8\\x83\\xe4\\xba\\x8e 9 \\xe4\\xb8\\xaa\\xe6\\x9c\\x88\\xe5\\x89\\x8d\\xef\\xbc\\x8809\\xe6\\x9c\\x8811\\xe6\\x97\\xa5\\xef\\xbc\\x89</span>\\n                    <span class=\"message d-block\">\\xe5\\xad\\xa6\\xe4\\xb9\\xa0\\xe4\\xb8\\x80\\xe4\\xb8\\x8b</span>\\n                </div>\\n            </div>\\n        </a><a href=\"https://arctee.cn/519.html#commentform\">\\n            <div class=\"meta clearfix\">\\n                <div class=\"avatar float-left\"></div>\\n                <div class=\"profile d-block\">\\n                    <span class=\"date\">Jasper \\xe5\\x8f\\x91\\xe5\\xb8\\x83\\xe4\\xba\\x8e 9 \\xe4\\xb8\\xaa\\xe6\\x9c\\x88\\xe5\\x89\\x8d\\xef\\xbc\\x8809\\xe6\\x9c\\x8810\\xe6\\x97\\xa5\\xef\\xbc\\x89</span>\\n                    <span class=\"message d-block\">\\xe5\\xad\\xa6\\xe4\\xb9\\xa0\\xe5\\xad\\xa6\\xe4\\xb9\\xa0</span>\\n                </div>\\n            </div>\\n        </a><a href=\"https://arctee.cn/519.html#commentform\">\\n            <div class=\"meta clearfix\">\\n                <div class=\"avatar float-left\"></div>\\n                <div class=\"profile d-block\">\\n                    <span class=\"date\">231 \\xe5\\x8f\\x91\\xe5\\xb8\\x83\\xe4\\xba\\x8e 9 \\xe4\\xb8\\xaa\\xe6\\x9c\\x88\\xe5\\x89\\x8d\\xef\\xbc\\x8809\\xe6\\x9c\\x8808\\xe6\\x97\\xa5\\xef\\xbc\\x89</span>\\n                    <span class=\"message d-block\">\\xe5\\xad\\xa6\\xe4\\xb9\\xa0\\xe5\\xad\\xa6\\xe4\\xb9\\xa0</span>\\n                </div>\\n            </div>\\n        </a><a href=\"https://arctee.cn/519.html#commentform\">\\n            <div class=\"meta clearfix\">\\n                <div class=\"avatar float-left\"></div>\\n                <div class=\"profile d-block\">\\n                    <span class=\"date\">WEIPENG \\xe5\\x8f\\x91\\xe5\\xb8\\x83\\xe4\\xba\\x8e 10 \\xe4\\xb8\\xaa\\xe6\\x9c\\x88\\xe5\\x89\\x8d\\xef\\xbc\\x8809\\xe6\\x9c\\x8801\\xe6\\x97\\xa5\\xef\\xbc\\x89</span>\\n                    <span class=\"message d-block\">\\xe6\\x9d\\xa5\\xe5\\xad\\xa6\\xe4\\xb9\\xa0\\xe4\\xba\\x86</span>\\n                </div>\\n            </div>\\n        </a><a href=\"https://arctee.cn/519.html#commentform\">\\n            <div class=\"meta clearfix\">\\n                <div class=\"avatar float-left\"></div>\\n                <div class=\"profile d-block\">\\n                    <span class=\"date\">wxllwj \\xe5\\x8f\\x91\\xe5\\xb8\\x83\\xe4\\xba\\x8e 10 \\xe4\\xb8\\xaa\\xe6\\x9c\\x88\\xe5\\x89\\x8d\\xef\\xbc\\x8808\\xe6\\x9c\\x8828\\xe6\\x97\\xa5\\xef\\xbc\\x89</span>\\n                    <span class=\"message d-block\">\\xe6\\xb1\\x82C Primer Plus\\xef\\xbc\\x88\\xe7\\xac\\xac6\\xe7\\x89\\x88\\xef\\xbc\\x89\\xe4\\xb8\\xad\\xe6\\x96\\x87\\xe7\\x89\\x88 \\xe9\\xab\\x98\\xe6\\xb8\\x85[\\xe5\\xb8\\xa6\\xe4\\xb9\\xa6\\xe7\\xad\\xbe] PDF \\xe7\\x94\\xb5\\xe5\\xad\\x90\\xe4\\xb9\\xa6</span>\\n                </div>\\n            </div>\\n        </a></div></div>            </div>\\n        </div>\\n    </div>\\n</div>\\n<div class=\"k-footer\">\\n    <div class=\"f-toolbox\">\\n        <div class=\"gotop gotop-haswechat\">\\n            <div class=\"gotop-btn\">\\n                <span class=\"kicon i-up\"></span>\\n            </div>\\n        </div>\\n                    <div class=\"wechat\">\\n                <span class=\"kicon i-wechat\"></span>\\n                <div class=\"wechat-pic\">\\n                    <img src=\"https://img.arctee.cn/one/pokeai-wechat.png\">\\n                </div>\\n            </div>\\n                <div class=\"search\">\\n            <span class=\"kicon i-find\"></span>\\n            <form class=\"search-form\" role=\"search\" method=\"get\" action=\"https://arctee.cn/\">\\n                <input type=\"text\" name=\"s\" id=\"search-footer\" placeholder=\"\\xe6\\x90\\x9c\\xe7\\x82\\xb9\\xe4\\xbb\\x80\\xe4\\xb9\\x88\\xe5\\x91\\xa2?\" style=\"display:none\" />\\n            </form>\\n        </div>\\n    </div>\\n    <div class=\"container\">\\n        <div class=\"row\">\\n            <div class=\"col-12 text-center\">\\n                <p class=\"social\">\\n                    <a target=\"_blank\" rel=\"nofollow\" href=\"https://github.com/pokoai\"><i class=\"kicon i-github\"></i></a><a target=\"_blank\" rel=\"nofollow\" href=\"mailto:pokeai@outlook.com\"><i class=\"kicon i-email\"></i></a>                </p>\\n                <p>COPYRIGHT \\xc2\\xa9 2019-2022 \\xe7\\xa0\\xb4\\xe5\\xa3\\xb3AI. ALL RIGHTS RESERVED.</p><p>Theme <a href=\"https://github.com/seatonjiang/kratos\" target=\"_blank\" rel=\"nofollow\">Kratos</a> Made By <a href=\"https://seatonjiang.com\" target=\"_blank\" rel=\"nofollow\">Seaton Jiang</a></p><p><a href=\"https://beian.miit.gov.cn/\" target=\"_blank\" rel=\"nofollow\">\\xe6\\xb5\\x99ICP\\xe5\\xa4\\x8719036001\\xe5\\x8f\\xb7</a></p><script type=\"text/javascript\">document.write(unescape(\"%3Cspan id=\\'cnzz_stat_icon_1278146437\\'%3E%3C/span%3E%3Cscript src=\\'https://s4.cnzz.com/z_stat.php%3Fid%3D1278146437%26show%3Dpic\\' type=\\'text/javascript\\'%3E%3C/script%3E\"));</script>            </div>\\n        </div>\\n    </div>\\n</div>\\n<script type=\\'text/javascript\\' src=\\'https://arctee.cn/wp-includes/js/dist/vendor/regenerator-runtime.min.js?ver=0.13.9\\' id=\\'regenerator-runtime-js\\'></script>\\n<script type=\\'text/javascript\\' src=\\'https://arctee.cn/wp-includes/js/dist/vendor/wp-polyfill.min.js?ver=3.15.0\\' id=\\'wp-polyfill-js\\'></script>\\n<script type=\\'text/javascript\\' id=\\'contact-form-7-js-extra\\'>\\n/* <![CDATA[ */\\nvar wpcf7 = {\"api\":{\"root\":\"https:\\\\/\\\\/arctee.cn\\\\/wp-json\\\\/\",\"namespace\":\"contact-form-7\\\\/v1\"},\"cached\":\"1\"};\\n/* ]]> */\\n</script>\\n<script type=\\'text/javascript\\' src=\\'https://arctee.cn/wp-content/plugins/contact-form-7/includes/js/index.js?ver=5.5.6.1\\' id=\\'contact-form-7-js\\'></script>\\n<script type=\\'text/javascript\\' src=\\'https://cdn.jsdelivr.net/wp/wp-editormd/tags/10.2.1/assets/KaTeX/katex.min.js?ver=10.2.1\\' id=\\'Katex-js\\'></script>\\n<script type=\\'text/javascript\\' src=\\'https://cdn.jsdelivr.net/wp/wp-editormd/tags/10.2.1/assets/Mermaid/mermaid.min.js?ver=10.2.1\\' id=\\'Mermaid-js\\'></script>\\n<script type=\\'text/javascript\\' src=\\'https://cdn.jsdelivr.net/wp/wp-editormd/tags/10.1.2/assets/MindMap/mindMap.min.js?ver=10.2.1\\' id=\\'MindMap-js\\'></script>\\n<script type=\\'text/javascript\\' src=\\'https://cdn.jsdelivr.net/wp/wp-editormd/tags/10.2.1/assets/Emojify.js/js/emojify.min.js?ver=10.2.1\\' id=\\'Emojify.js-js\\'></script>\\n<script type=\\'text/javascript\\' src=\\'https://cdn.jsdelivr.net/wp/wp-editormd/tags/10.2.1/assets/ClipBoard/clipboard.min.js?ver=2.0.1\\' id=\\'copy-clipboard-js\\'></script>\\n<script type=\\'text/javascript\\' src=\\'https://cdn.jsdelivr.net/wp/wp-editormd/tags/10.2.1/assets/Prism.js/components/prism-core.min.js?ver=1.15.0\\' id=\\'prism-core-js-js\\'></script>\\n<script type=\\'text/javascript\\' src=\\'https://cdn.jsdelivr.net/wp/wp-editormd/tags/10.2.1/assets/Prism.js/plugins/autoloader/prism-autoloader.min.js?ver=1.15.0\\' id=\\'prism-plugin-autoloader-js\\'></script>\\n<script type=\\'text/javascript\\' src=\\'https://cdn.jsdelivr.net/wp/wp-editormd/tags/10.2.1/assets/Prism.js/plugins/toolbar/prism-toolbar.min.js?ver=1.15.0\\' id=\\'prism-plugin-toolbar-js\\'></script>\\n<script type=\\'text/javascript\\' src=\\'https://cdn.jsdelivr.net/wp/wp-editormd/tags/10.2.1/assets/Prism.js/plugins/line-numbers/prism-line-numbers.min.js?ver=1.15.0\\' id=\\'prism-plugin-line-numbers-js\\'></script>\\n<script type=\\'text/javascript\\' src=\\'https://cdn.jsdelivr.net/wp/wp-editormd/tags/10.2.1/assets/Prism.js/plugins/show-language/prism-show-language.min.js?ver=1.15.0\\' id=\\'prism-plugin-show-language-js\\'></script>\\n<script type=\\'text/javascript\\' src=\\'https://cdn.jsdelivr.net/wp/wp-editormd/tags/10.2.1/assets/Prism.js/plugins/copy-to-clipboard/prism-copy-to-clipboard.min.js?ver=1.15.0\\' id=\\'prism-plugin-copy-to-clipboard-js\\'></script>\\n<script type=\\'text/javascript\\' id=\\'Front_Style-js-extra\\'>\\n/* <![CDATA[ */\\nvar FrontStyle = {\"openLinkInNewTab\":\"on\"};\\n/* ]]> */\\n</script>\\n<script type=\\'text/javascript\\' src=\\'https://cdn.jsdelivr.net/wp/wp-editormd/tags/10.2.1/assets/FrontStyle/frontstyle.min.js?ver=10.2.1\\' id=\\'Front_Style-js\\'></script>\\n<script type=\\'text/javascript\\' src=\\'https://cdn.seatonjiang.com/kratos/4.1.3/assets/js/bootstrap.bundle.min.js?ver=4.5.0\\' id=\\'bootstrap-bundle-js\\'></script>\\n<script type=\\'text/javascript\\' src=\\'https://cdn.seatonjiang.com/kratos/4.1.3/assets/js/layer.min.js?ver=3.1.1\\' id=\\'layer-js\\'></script>\\n<script type=\\'text/javascript\\' src=\\'https://cdn.seatonjiang.com/kratos/4.1.3/assets/js/DPlayer.min.js?ver=4.1.3\\' id=\\'dplayer-js\\'></script>\\n<script type=\\'text/javascript\\' src=\\'https://cdn.seatonjiang.com/kratos/4.1.3/assets/js/lightgallery.min.js?ver=1.4.0\\' id=\\'lightgallery-js\\'></script>\\n<script type=\\'text/javascript\\' id=\\'kratos-js-extra\\'>\\n/* <![CDATA[ */\\nvar kratos = {\"site\":\"https:\\\\/\\\\/arctee.cn\",\"directory\":\"https:\\\\/\\\\/cdn.seatonjiang.com\\\\/kratos\\\\/4.1.3\",\"alipay\":\"https:\\\\/\\\\/img.arctee.cn\\\\/qiniu_picgo\\\\/ali-pay.jpg\",\"wechat\":\"https:\\\\/\\\\/img.arctee.cn\\\\/qiniu_picgo\\\\/wechat-pay.jpg\",\"repeat\":\"\\\\u60a8\\\\u5df2\\\\u7ecf\\\\u8d5e\\\\u8fc7\\\\u4e86\",\"thanks\":\"\\\\u611f\\\\u8c22\\\\u60a8\\\\u7684\\\\u652f\\\\u6301\",\"donate\":\"\\\\u6253\\\\u8d4f\\\\u4f5c\\\\u8005\",\"scan\":\"\\\\u626b\\\\u7801\\\\u652f\\\\u4ed8\"};\\n/* ]]> */\\n</script>\\n<script type=\\'text/javascript\\' src=\\'https://cdn.seatonjiang.com/kratos/4.1.3/assets/js/kratos.js?ver=4.1.3\\' id=\\'kratos-js\\'></script>\\n<script type=\\'text/javascript\\' id=\\'comment-js-extra\\'>\\n/* <![CDATA[ */\\nvar ajaxcomment = {\"ajax_url\":\"https:\\\\/\\\\/arctee.cn\\\\/wp-admin\\\\/admin-ajax.php\",\"order\":\"desc\",\"compost\":\"\\\\u8bc4\\\\u8bba\\\\u6b63\\\\u5728\\\\u63d0\\\\u4ea4\\\\u4e2d\",\"comsucc\":\"\\\\u8bc4\\\\u8bba\\\\u63d0\\\\u4ea4\\\\u6210\\\\u529f\"};\\n/* ]]> */\\n</script>\\n<script type=\\'text/javascript\\' src=\\'https://cdn.seatonjiang.com/kratos/4.1.3/assets/js/comments.min.js?ver=4.1.3\\' id=\\'comment-js\\'></script>\\n<script type=\\'text/javascript\\' id=\\'fifu-image-js-js-extra\\'>\\n/* <![CDATA[ */\\nvar fifuImageVars = {\"fifu_lazy\":\"\",\"fifu_woo_lbox_enabled\":\"1\",\"fifu_woo_zoom\":\"inline\",\"fifu_is_product\":\"\",\"fifu_is_flatsome_active\":\"\",\"fifu_rest_url\":\"https:\\\\/\\\\/arctee.cn\\\\/wp-json\\\\/\",\"fifu_nonce\":\"4d1e36a794\"};\\n/* ]]> */\\n</script>\\n<script type=\\'text/javascript\\' src=\\'https://arctee.cn/wp-content/plugins/featured-image-from-url/includes/html/js/image.js?ver=3.9.8\\' id=\\'fifu-image-js-js\\'></script>\\n        <script type=\"text/javascript\">\\n            (function ($) {\\n                $(document).ready(function () {\\n                    $(\".katex.math.inline\").each(function () {\\n                        var parent = $(this).parent()[0];\\n                        if (parent.localName !== \"code\") {\\n                            var texTxt = $(this).text();\\n                            var el = $(this).get(0);\\n                            try {\\n                                katex.render(texTxt, el);\\n                            } catch (err) {\\n                                $(this).html(\"<span class=\\\\\"err\\\\\">\" + err);\\n                            }\\n                        } else {\\n                            $(this).parent().text($(this).parent().text());\\n                        }\\n                    });\\n                    $(\".katex.math.multi-line\").each(function () {\\n                        var texTxt = $(this).text();\\n                        var el = $(this).get(0);\\n                        try {\\n                            katex.render(texTxt, el, {displayMode: true})\\n                        } catch (err) {\\n                            $(this).html(\"<span class=\\\\\"err\\\\\">\" + err)\\n                        }\\n                    });\\n                })\\n            })(jQuery);\\n        </script>\\n                <script type=\"text/javascript\">\\n            (function ($) {\\n                $(document).ready(function () {\\n                    $(\".mermaid script\").remove();\\n                    mermaid.initialize({\\r\\n    \"theme\": \"dark\",\\r\\n    \"logLevel\": 5,\\r\\n    \"arrowMarkerAbsolute\": false,\\r\\n    \"startOnLoad\": true,\\r\\n    \"flowchart\": {\\r\\n        \"htmlLabels\": true,\\r\\n        \"curve\": \"linear\"\\r\\n    },\\r\\n    \"sequence\": {\\r\\n        \"diagramMarginX\": 50,\\r\\n        \"diagramMarginY\": 10,\\r\\n        \"actorMargin\": 50,\\r\\n        \"width\": 150,\\r\\n        \"height\": 65,\\r\\n        \"boxMargin\": 10,\\r\\n        \"boxTextMargin\": 5,\\r\\n        \"noteMargin\": 10,\\r\\n        \"messageMargin\": 35,\\r\\n        \"mirrorActors\": true,\\r\\n        \"bottomMarginAdj\": 1,\\r\\n        \"useMaxWidth\": true\\r\\n    },\\r\\n    \"gantt\": {\\r\\n        \"titleTopMargin\": 25,\\r\\n        \"barHeight\": 20,\\r\\n        \"barGap\": 4,\\r\\n        \"topPadding\": 50,\\r\\n        \"leftPadding\": 75,\\r\\n        \"gridLineStartPadding\": 35,\\r\\n        \"fontSize\": 11,\\r\\n        \"fontFamily\": \"\\\\\"Open-Sans\\\\\", \\\\\"sans-serif\\\\\"\",\\r\\n        \"numberSectionStyles\": 4,\\r\\n        \"axisFormat\": \"%Y-%m-%d\"\\r\\n    },\\r\\n    \"class\": {},\\r\\n    \"git\": {}\\r\\n},\".mermaid\");\\n                })\\n            })(jQuery)\\n        </script>\\n                <script type=\"text/javascript\">\\n            (function ($) {\\n                $(document).ready(function () {\\n                    $(\".mind p\").remove();\\n                    $(\".mind .mindTxt script\").remove();\\n                    var mind = $(\".mind\");\\n                    if (mind.drawMind !== undefined) {\\n                        mind.drawMind();\\n                    }\\n                })\\n            })(jQuery)\\n        </script>\\n                <script type=\"text/javascript\">\\n            window.onload = function () {\\n                emojify.setConfig({\\n                    img_dir: \"https://cdn.jsdelivr.net/wp/wp-editormd/tags/10.2.1/assets/Emojify.js/images/basic\",//\\xe5\\x89\\x8d\\xe7\\xab\\xafemoji\\xe8\\xb5\\x84\\xe6\\xba\\x90\\xe5\\x9c\\xb0\\xe5\\x9d\\x80\\n                    blacklist: {\\n                        \"ids\": [],\\n                        \"classes\": [\"no-emojify\"],\\n                        \"elements\": [\"^script$\", \"^textarea$\", \"^pre$\", \"^code$\"]\\n                    }\\n                });\\n                emojify.run();\\n            }\\n        </script>\\n                <script type=\"text/javascript\">\\n            Prism.plugins.autoloader.languages_path = \"https://cdn.jsdelivr.net/wp/wp-editormd/tags/10.2.1/assets/Prism.js/components/\";\\n        </script>\\n        </body>\\n\\n</html>\\n<!-- Dynamic page generated in 1.386 seconds. -->\\n<!-- Cached page generated by WP-Super-Cache on 2022-06-14 19:14:57 -->\\n\\n<!-- Compression = gzip -->\\n<!-- super cache -->'\n"
     ]
    }
   ],
   "source": [
    "print(html.read())"
   ]
  },
  {
   "cell_type": "code",
   "execution_count": 4,
   "id": "a379841a-5af4-4b20-ae2f-02c22b2c17ef",
   "metadata": {},
   "outputs": [],
   "source": [
    "from bs4 import BeautifulSoup"
   ]
  },
  {
   "cell_type": "code",
   "execution_count": 5,
   "id": "2db03abe-f4a2-496b-bf79-3dd5c4243ca8",
   "metadata": {},
   "outputs": [],
   "source": [
    "bsObj = BeautifulSoup(html.read())"
   ]
  },
  {
   "cell_type": "code",
   "execution_count": 9,
   "id": "d2fa4682-6b45-47c3-8095-002b76a41c46",
   "metadata": {},
   "outputs": [
    {
     "name": "stdout",
     "output_type": "stream",
     "text": [
      "None\n"
     ]
    }
   ],
   "source": [
    "print(bsObj.body)"
   ]
  },
  {
   "cell_type": "code",
   "execution_count": null,
   "id": "c960598a-9cc5-4097-abf5-2827ff76dedb",
   "metadata": {},
   "outputs": [],
   "source": []
  }
 ],
 "metadata": {
  "kernelspec": {
   "display_name": "Python 3 (ipykernel)",
   "language": "python",
   "name": "python3"
  },
  "language_info": {
   "codemirror_mode": {
    "name": "ipython",
    "version": 3
   },
   "file_extension": ".py",
   "mimetype": "text/x-python",
   "name": "python",
   "nbconvert_exporter": "python",
   "pygments_lexer": "ipython3",
   "version": "3.9.12"
  },
  "widgets": {
   "application/vnd.jupyter.widget-state+json": {
    "state": {},
    "version_major": 2,
    "version_minor": 0
   }
  }
 },
 "nbformat": 4,
 "nbformat_minor": 5
}
