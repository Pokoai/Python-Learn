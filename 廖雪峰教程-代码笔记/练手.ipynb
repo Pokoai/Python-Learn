{
 "cells": [
  {
   "cell_type": "code",
   "execution_count": 1,
   "id": "fa31028c-0565-468e-8a6a-de32133961d9",
   "metadata": {},
   "outputs": [
    {
     "name": "stdout",
     "output_type": "stream",
     "text": [
      "100 + 200 = 300\n"
     ]
    }
   ],
   "source": [
    "print('100 + 200 =', 100 + 200)"
   ]
  },
  {
   "cell_type": "code",
   "execution_count": 2,
   "id": "ad5ccea7-8724-4d5f-9177-842f4d56994a",
   "metadata": {},
   "outputs": [
    {
     "name": "stdin",
     "output_type": "stream",
     "text": [
      "请输入 234\n"
     ]
    }
   ],
   "source": [
    "name = input('请输入')"
   ]
  },
  {
   "cell_type": "code",
   "execution_count": 3,
   "id": "1024d513-fd27-41b5-8255-1785e073600a",
   "metadata": {},
   "outputs": [
    {
     "name": "stdout",
     "output_type": "stream",
     "text": [
      "My name is Hm\n"
     ]
    }
   ],
   "source": [
    "print('My name is %s' % 'Hm')"
   ]
  },
  {
   "cell_type": "code",
   "execution_count": 13,
   "id": "fefe1a1a-03a9-4918-b135-b371e4c59492",
   "metadata": {},
   "outputs": [
    {
     "name": "stdout",
     "output_type": "stream",
     "text": [
      "My name is Hm 3454.45\n"
     ]
    }
   ],
   "source": [
    "n = 'Hm'\n",
    "s1 = 3454.446\n",
    "\n",
    "print(f'My name is {n} {s1:.2f}')"
   ]
  },
  {
   "cell_type": "code",
   "execution_count": 10,
   "id": "8b701cd4-c267-4e9d-a5bc-ea3631ea7295",
   "metadata": {},
   "outputs": [
    {
     "name": "stdout",
     "output_type": "stream",
     "text": [
      "The area of a circle with radius 2.5 is 15.70\n"
     ]
    }
   ],
   "source": [
    "r = 2.5\n",
    "s = 3.14 * r *2\n",
    "\n",
    "print(f'The area of a circle with radius {r} is {s:.2f}')"
   ]
  },
  {
   "cell_type": "code",
   "execution_count": 16,
   "id": "8abfa247-9e97-4058-ac4b-33f11fefc6a5",
   "metadata": {},
   "outputs": [
    {
     "name": "stdout",
     "output_type": "stream",
     "text": [
      "Name: hm, f=24.46\n"
     ]
    }
   ],
   "source": [
    "name = 'hm'\n",
    "f =  24.456\n",
    "\n",
    "print(f'Name: {name}, f={f:.2f}')"
   ]
  },
  {
   "cell_type": "code",
   "execution_count": 17,
   "id": "92c8e206-4c62-4767-b3c5-6fa98a17b617",
   "metadata": {},
   "outputs": [],
   "source": [
    "L = ['adf', 345, 645]"
   ]
  },
  {
   "cell_type": "code",
   "execution_count": 18,
   "id": "70ab8b0e-4c27-41b2-b1e9-cbbfb87edce8",
   "metadata": {},
   "outputs": [
    {
     "data": {
      "text/plain": [
       "[645, 345, 'adf']"
      ]
     },
     "execution_count": 18,
     "metadata": {},
     "output_type": "execute_result"
    }
   ],
   "source": [
    "L[::-1\n",
    " ]"
   ]
  },
  {
   "cell_type": "code",
   "execution_count": 19,
   "id": "e52a7600-0261-4dd6-971d-54189fdb8984",
   "metadata": {},
   "outputs": [
    {
     "data": {
      "text/plain": [
       "['adf', 345, 645, 0]"
      ]
     },
     "execution_count": 19,
     "metadata": {},
     "output_type": "execute_result"
    }
   ],
   "source": [
    "L.append(0)\n",
    "L"
   ]
  },
  {
   "cell_type": "code",
   "execution_count": 20,
   "id": "9e750a67-8234-4a86-9f1d-c9aa5c5ce572",
   "metadata": {},
   "outputs": [],
   "source": [
    "L.remove('adf')"
   ]
  },
  {
   "cell_type": "code",
   "execution_count": 21,
   "id": "2029df6e-c143-4973-808d-622d09d1c441",
   "metadata": {},
   "outputs": [
    {
     "data": {
      "text/plain": [
       "[345, 645, 0]"
      ]
     },
     "execution_count": 21,
     "metadata": {},
     "output_type": "execute_result"
    }
   ],
   "source": [
    "L"
   ]
  },
  {
   "cell_type": "code",
   "execution_count": 22,
   "id": "16ea7ba8-9aef-43be-ba06-c4d44e0e49c9",
   "metadata": {},
   "outputs": [],
   "source": [
    "tp = (2, 4, 5)"
   ]
  },
  {
   "cell_type": "code",
   "execution_count": 23,
   "id": "10decb5f-d3f1-4eb7-959f-9c713ba07556",
   "metadata": {},
   "outputs": [
    {
     "data": {
      "text/plain": [
       "5"
      ]
     },
     "execution_count": 23,
     "metadata": {},
     "output_type": "execute_result"
    }
   ],
   "source": [
    "tp[2]"
   ]
  },
  {
   "cell_type": "code",
   "execution_count": 24,
   "id": "0689beae-11c3-4eb6-9d59-284754a0cb28",
   "metadata": {},
   "outputs": [
    {
     "data": {
      "text/plain": [
       "0"
      ]
     },
     "execution_count": 24,
     "metadata": {},
     "output_type": "execute_result"
    }
   ],
   "source": [
    "L.pop()"
   ]
  },
  {
   "cell_type": "code",
   "execution_count": 25,
   "id": "ad1fdf18-8267-466d-9334-c72f905e38e7",
   "metadata": {},
   "outputs": [
    {
     "ename": "AttributeError",
     "evalue": "'tuple' object has no attribute 'pop'",
     "output_type": "error",
     "traceback": [
      "\u001b[1;31m---------------------------------------------------------------------------\u001b[0m",
      "\u001b[1;31mAttributeError\u001b[0m                            Traceback (most recent call last)",
      "\u001b[1;32m~\\AppData\\Local\\Temp/ipykernel_8068/2662316510.py\u001b[0m in \u001b[0;36m<module>\u001b[1;34m\u001b[0m\n\u001b[1;32m----> 1\u001b[1;33m \u001b[0mtp\u001b[0m\u001b[1;33m.\u001b[0m\u001b[0mpop\u001b[0m\u001b[1;33m(\u001b[0m\u001b[1;33m)\u001b[0m\u001b[1;33m\u001b[0m\u001b[1;33m\u001b[0m\u001b[0m\n\u001b[0m",
      "\u001b[1;31mAttributeError\u001b[0m: 'tuple' object has no attribute 'pop'"
     ]
    }
   ],
   "source": [
    "tp.pop()"
   ]
  },
  {
   "cell_type": "code",
   "execution_count": 26,
   "id": "d6d1e94a-8f9c-48f5-834d-45b7ac80e22c",
   "metadata": {},
   "outputs": [
    {
     "name": "stdout",
     "output_type": "stream",
     "text": [
      "afasd\n"
     ]
    }
   ],
   "source": [
    "if True:\n",
    "    print('afasd')"
   ]
  },
  {
   "cell_type": "code",
   "execution_count": 28,
   "id": "43eebc3a-8696-47b2-9a1a-d7c93296f740",
   "metadata": {},
   "outputs": [
    {
     "name": "stdout",
     "output_type": "stream",
     "text": [
      "小于0\n"
     ]
    }
   ],
   "source": [
    "n = -1\n",
    "if n > 0:\n",
    "    print('n')\n",
    "    n -= 1\n",
    "elif:\n",
    "    ldfa;f\n",
    "else:\n",
    "    print('小于0')"
   ]
  },
  {
   "cell_type": "code",
   "execution_count": 29,
   "id": "1aa2b971-4e89-40d6-83bd-1da0dabf92f6",
   "metadata": {},
   "outputs": [
    {
     "name": "stdout",
     "output_type": "stream",
     "text": [
      "345\n",
      "645\n"
     ]
    }
   ],
   "source": [
    "for s in L:\n",
    "    print(s)"
   ]
  },
  {
   "cell_type": "code",
   "execution_count": 31,
   "id": "bc911792-5c18-4eab-b3cf-6708671425e1",
   "metadata": {},
   "outputs": [
    {
     "name": "stdout",
     "output_type": "stream",
     "text": [
      "0\n",
      "1\n",
      "2\n",
      "3\n",
      "4\n",
      "5\n",
      "6\n",
      "7\n",
      "8\n",
      "9\n"
     ]
    }
   ],
   "source": [
    "for n in range(10):\n",
    "    print(n)"
   ]
  },
  {
   "cell_type": "code",
   "execution_count": 33,
   "id": "c61704fe-adf8-4398-8c2c-e57e1e68bd35",
   "metadata": {},
   "outputs": [
    {
     "name": "stdout",
     "output_type": "stream",
     "text": [
      "1\n",
      "2\n",
      "3\n",
      "4\n",
      "5\n",
      "6\n",
      "7\n",
      "8\n",
      "9\n"
     ]
    }
   ],
   "source": [
    "for n in range(1, 10):\n",
    "    print(n)"
   ]
  },
  {
   "cell_type": "code",
   "execution_count": 34,
   "id": "3320b20f-3347-4de1-93c1-f8e7fab84406",
   "metadata": {},
   "outputs": [
    {
     "data": {
      "text/plain": [
       "{'key': 345, 'name': 'fd'}"
      ]
     },
     "execution_count": 34,
     "metadata": {},
     "output_type": "execute_result"
    }
   ],
   "source": [
    "d = {'key': 345, 'name': 'fd'}\n",
    "d"
   ]
  },
  {
   "cell_type": "code",
   "execution_count": 35,
   "id": "04cb3519-148c-4a88-870c-f8532b423a7c",
   "metadata": {},
   "outputs": [
    {
     "data": {
      "text/plain": [
       "['hhhh', 345, 645]"
      ]
     },
     "execution_count": 35,
     "metadata": {},
     "output_type": "execute_result"
    }
   ],
   "source": [
    "L.insert(0, 'hhhh')\n",
    "L"
   ]
  },
  {
   "cell_type": "code",
   "execution_count": 36,
   "id": "283194a3-7a89-4510-a8e1-2c9e6f4d4f75",
   "metadata": {},
   "outputs": [
    {
     "data": {
      "text/plain": [
       "{'key': 345, 'name': 'fd'}"
      ]
     },
     "execution_count": 36,
     "metadata": {},
     "output_type": "execute_result"
    }
   ],
   "source": [
    "d"
   ]
  },
  {
   "cell_type": "code",
   "execution_count": 37,
   "id": "feca92e5-4c09-46e2-b60d-ca00b1d6e526",
   "metadata": {},
   "outputs": [
    {
     "data": {
      "text/plain": [
       "False"
      ]
     },
     "execution_count": 37,
     "metadata": {},
     "output_type": "execute_result"
    }
   ],
   "source": [
    "'sdf' in d"
   ]
  },
  {
   "cell_type": "code",
   "execution_count": 38,
   "id": "c959d429-9cf1-48eb-ab80-db0318388013",
   "metadata": {},
   "outputs": [
    {
     "data": {
      "text/plain": [
       "True"
      ]
     },
     "execution_count": 38,
     "metadata": {},
     "output_type": "execute_result"
    }
   ],
   "source": [
    "'name' in d"
   ]
  },
  {
   "cell_type": "code",
   "execution_count": 39,
   "id": "4a149dd8-295c-4def-95c1-5e23e091efaf",
   "metadata": {},
   "outputs": [],
   "source": [
    "d.get('nem')"
   ]
  },
  {
   "cell_type": "code",
   "execution_count": 40,
   "id": "86c1d495-5562-454b-941c-69039fd5b23f",
   "metadata": {},
   "outputs": [
    {
     "data": {
      "text/plain": [
       "'fd'"
      ]
     },
     "execution_count": 40,
     "metadata": {},
     "output_type": "execute_result"
    }
   ],
   "source": [
    "d.get('name')"
   ]
  },
  {
   "cell_type": "code",
   "execution_count": 41,
   "id": "84ecbc7e-1b66-4a37-ab76-e79751d89a1e",
   "metadata": {},
   "outputs": [
    {
     "data": {
      "text/plain": [
       "-1"
      ]
     },
     "execution_count": 41,
     "metadata": {},
     "output_type": "execute_result"
    }
   ],
   "source": [
    "d.get('ss', -1)"
   ]
  },
  {
   "cell_type": "code",
   "execution_count": 42,
   "id": "2ccd4810-37eb-4e74-9c11-81399e7a52bd",
   "metadata": {},
   "outputs": [
    {
     "data": {
      "text/plain": [
       "1"
      ]
     },
     "execution_count": 42,
     "metadata": {},
     "output_type": "execute_result"
    }
   ],
   "source": [
    "d.get('ss', 1)"
   ]
  },
  {
   "cell_type": "code",
   "execution_count": 43,
   "id": "c451e419-50bd-4db8-8bed-4b896ba9b5f6",
   "metadata": {},
   "outputs": [
    {
     "ename": "TypeError",
     "evalue": "pop expected at least 1 argument, got 0",
     "output_type": "error",
     "traceback": [
      "\u001b[1;31m---------------------------------------------------------------------------\u001b[0m",
      "\u001b[1;31mTypeError\u001b[0m                                 Traceback (most recent call last)",
      "\u001b[1;32m~\\AppData\\Local\\Temp/ipykernel_8068/1274378990.py\u001b[0m in \u001b[0;36m<module>\u001b[1;34m\u001b[0m\n\u001b[1;32m----> 1\u001b[1;33m \u001b[0md\u001b[0m\u001b[1;33m.\u001b[0m\u001b[0mpop\u001b[0m\u001b[1;33m(\u001b[0m\u001b[1;33m)\u001b[0m\u001b[1;33m\u001b[0m\u001b[1;33m\u001b[0m\u001b[0m\n\u001b[0m",
      "\u001b[1;31mTypeError\u001b[0m: pop expected at least 1 argument, got 0"
     ]
    }
   ],
   "source": [
    "d.pop()"
   ]
  },
  {
   "cell_type": "code",
   "execution_count": 44,
   "id": "e37c5bb0-ab48-4543-934f-2572015cb07d",
   "metadata": {},
   "outputs": [
    {
     "data": {
      "text/plain": [
       "'fd'"
      ]
     },
     "execution_count": 44,
     "metadata": {},
     "output_type": "execute_result"
    }
   ],
   "source": [
    "d.pop('name')"
   ]
  },
  {
   "cell_type": "code",
   "execution_count": 45,
   "id": "72741001-f7e0-44cf-935c-e3ecb049224f",
   "metadata": {},
   "outputs": [
    {
     "data": {
      "text/plain": [
       "{'key': 345}"
      ]
     },
     "execution_count": 45,
     "metadata": {},
     "output_type": "execute_result"
    }
   ],
   "source": [
    "d"
   ]
  },
  {
   "cell_type": "code",
   "execution_count": 46,
   "id": "811999b8-7842-4718-a233-e67b0e3dec06",
   "metadata": {},
   "outputs": [
    {
     "ename": "TypeError",
     "evalue": "set expected at most 1 argument, got 3",
     "output_type": "error",
     "traceback": [
      "\u001b[1;31m---------------------------------------------------------------------------\u001b[0m",
      "\u001b[1;31mTypeError\u001b[0m                                 Traceback (most recent call last)",
      "\u001b[1;32m~\\AppData\\Local\\Temp/ipykernel_8068/3311531433.py\u001b[0m in \u001b[0;36m<module>\u001b[1;34m\u001b[0m\n\u001b[1;32m----> 1\u001b[1;33m \u001b[0ms\u001b[0m \u001b[1;33m=\u001b[0m \u001b[0mset\u001b[0m\u001b[1;33m(\u001b[0m\u001b[1;36m1\u001b[0m\u001b[1;33m,\u001b[0m \u001b[1;36m2\u001b[0m\u001b[1;33m,\u001b[0m \u001b[1;36m4\u001b[0m\u001b[1;33m)\u001b[0m\u001b[1;33m\u001b[0m\u001b[1;33m\u001b[0m\u001b[0m\n\u001b[0m",
      "\u001b[1;31mTypeError\u001b[0m: set expected at most 1 argument, got 3"
     ]
    }
   ],
   "source": [
    "s = set(1, 2, 4)"
   ]
  },
  {
   "cell_type": "code",
   "execution_count": 47,
   "id": "d695a5f8-1e65-4999-ac0f-534021faed88",
   "metadata": {},
   "outputs": [
    {
     "data": {
      "text/plain": [
       "{1, 2, 3}"
      ]
     },
     "execution_count": 47,
     "metadata": {},
     "output_type": "execute_result"
    }
   ],
   "source": [
    "s = set([1, 2, 3])\n",
    "s"
   ]
  },
  {
   "cell_type": "code",
   "execution_count": 48,
   "id": "1016eba6-0e1f-41b2-8e90-ce5582d12d2a",
   "metadata": {},
   "outputs": [
    {
     "data": {
      "text/plain": [
       "{0, 1, 2, 3, 4, 5, 6, 7, 8, 9, 10}"
      ]
     },
     "execution_count": 48,
     "metadata": {},
     "output_type": "execute_result"
    }
   ],
   "source": [
    "set(list(range(11)))"
   ]
  },
  {
   "cell_type": "code",
   "execution_count": 49,
   "id": "5cc1ee21-63f1-4ffb-831d-0ab4a5460b6b",
   "metadata": {},
   "outputs": [
    {
     "ename": "AttributeError",
     "evalue": "'list' object has no attribute 'add'",
     "output_type": "error",
     "traceback": [
      "\u001b[1;31m---------------------------------------------------------------------------\u001b[0m",
      "\u001b[1;31mAttributeError\u001b[0m                            Traceback (most recent call last)",
      "\u001b[1;32m~\\AppData\\Local\\Temp/ipykernel_8068/1278300876.py\u001b[0m in \u001b[0;36m<module>\u001b[1;34m\u001b[0m\n\u001b[1;32m----> 1\u001b[1;33m \u001b[0mL\u001b[0m\u001b[1;33m.\u001b[0m\u001b[0madd\u001b[0m\u001b[1;33m(\u001b[0m\u001b[1;36m2\u001b[0m\u001b[1;33m)\u001b[0m\u001b[1;33m\u001b[0m\u001b[1;33m\u001b[0m\u001b[0m\n\u001b[0m",
      "\u001b[1;31mAttributeError\u001b[0m: 'list' object has no attribute 'add'"
     ]
    }
   ],
   "source": [
    "L.add(2)"
   ]
  },
  {
   "cell_type": "code",
   "execution_count": 50,
   "id": "482107a6-c056-4735-b598-39c39ae347bf",
   "metadata": {},
   "outputs": [],
   "source": [
    "s.add(99)"
   ]
  },
  {
   "cell_type": "code",
   "execution_count": 51,
   "id": "3696b8a8-bfe6-45c7-b873-4d111afcd0db",
   "metadata": {},
   "outputs": [
    {
     "data": {
      "text/plain": [
       "{1, 2, 3, 99}"
      ]
     },
     "execution_count": 51,
     "metadata": {},
     "output_type": "execute_result"
    }
   ],
   "source": [
    "s"
   ]
  },
  {
   "cell_type": "code",
   "execution_count": 52,
   "id": "420fc260-f7cc-4161-8948-4f0394f46548",
   "metadata": {},
   "outputs": [],
   "source": [
    "s.remove(1)"
   ]
  },
  {
   "cell_type": "code",
   "execution_count": 53,
   "id": "bd09302f-1205-4d79-8990-742ac575b9ee",
   "metadata": {},
   "outputs": [
    {
     "data": {
      "text/plain": [
       "{2, 3, 99}"
      ]
     },
     "execution_count": 53,
     "metadata": {},
     "output_type": "execute_result"
    }
   ],
   "source": [
    "s"
   ]
  },
  {
   "cell_type": "code",
   "execution_count": 55,
   "id": "c0047dd5-36f9-496c-af06-1442cde8021b",
   "metadata": {},
   "outputs": [
    {
     "data": {
      "text/plain": [
       "['hhhh', 345, 645]"
      ]
     },
     "execution_count": 55,
     "metadata": {},
     "output_type": "execute_result"
    }
   ],
   "source": [
    "L\n"
   ]
  },
  {
   "cell_type": "code",
   "execution_count": 56,
   "id": "60802d85-33b3-468e-9545-0fa993c366a2",
   "metadata": {},
   "outputs": [],
   "source": [
    "L.remove(345)"
   ]
  },
  {
   "cell_type": "code",
   "execution_count": 57,
   "id": "c6c6b8e4-a8b1-4b0e-8927-fa775c7e56d3",
   "metadata": {},
   "outputs": [
    {
     "data": {
      "text/plain": [
       "['hhhh', 645]"
      ]
     },
     "execution_count": 57,
     "metadata": {},
     "output_type": "execute_result"
    }
   ],
   "source": [
    "L\n"
   ]
  },
  {
   "cell_type": "code",
   "execution_count": 58,
   "id": "47841c9a-e176-443a-bbb5-bbb45665bc88",
   "metadata": {},
   "outputs": [
    {
     "data": {
      "text/plain": [
       "['hhhh', 645]"
      ]
     },
     "execution_count": 58,
     "metadata": {},
     "output_type": "execute_result"
    }
   ],
   "source": [
    "L"
   ]
  },
  {
   "cell_type": "code",
   "execution_count": 59,
   "id": "fa19bbb0-2e4b-4b12-b640-bb3a81e22199",
   "metadata": {},
   "outputs": [],
   "source": [
    "st = 'abcdefg'"
   ]
  },
  {
   "cell_type": "code",
   "execution_count": 60,
   "id": "e57a4be1-805e-474b-afca-3f2162f0a4c7",
   "metadata": {},
   "outputs": [
    {
     "data": {
      "text/plain": [
       "'abcdefg'"
      ]
     },
     "execution_count": 60,
     "metadata": {},
     "output_type": "execute_result"
    }
   ],
   "source": [
    "st\n"
   ]
  },
  {
   "cell_type": "code",
   "execution_count": 61,
   "id": "d68e801b-d36a-4b8e-83d8-a2a0f4ce64ac",
   "metadata": {},
   "outputs": [
    {
     "ename": "AttributeError",
     "evalue": "'str' object has no attribute 'pop'",
     "output_type": "error",
     "traceback": [
      "\u001b[1;31m---------------------------------------------------------------------------\u001b[0m",
      "\u001b[1;31mAttributeError\u001b[0m                            Traceback (most recent call last)",
      "\u001b[1;32m~\\AppData\\Local\\Temp/ipykernel_8068/775700223.py\u001b[0m in \u001b[0;36m<module>\u001b[1;34m\u001b[0m\n\u001b[1;32m----> 1\u001b[1;33m \u001b[0mst\u001b[0m\u001b[1;33m.\u001b[0m\u001b[0mpop\u001b[0m\u001b[1;33m(\u001b[0m\u001b[1;33m)\u001b[0m\u001b[1;33m\u001b[0m\u001b[1;33m\u001b[0m\u001b[0m\n\u001b[0m",
      "\u001b[1;31mAttributeError\u001b[0m: 'str' object has no attribute 'pop'"
     ]
    }
   ],
   "source": [
    "st.pop()"
   ]
  },
  {
   "cell_type": "code",
   "execution_count": 62,
   "id": "40cad361-ae6d-4c76-916c-ebe127c8d2e6",
   "metadata": {},
   "outputs": [
    {
     "ename": "AttributeError",
     "evalue": "type object 'str' has no attribute 'len'",
     "output_type": "error",
     "traceback": [
      "\u001b[1;31m---------------------------------------------------------------------------\u001b[0m",
      "\u001b[1;31mAttributeError\u001b[0m                            Traceback (most recent call last)",
      "\u001b[1;32m~\\AppData\\Local\\Temp/ipykernel_8068/566145299.py\u001b[0m in \u001b[0;36m<module>\u001b[1;34m\u001b[0m\n\u001b[1;32m----> 1\u001b[1;33m \u001b[0mstr\u001b[0m\u001b[1;33m.\u001b[0m\u001b[0mlen\u001b[0m\u001b[1;33m(\u001b[0m\u001b[1;33m)\u001b[0m\u001b[1;33m\u001b[0m\u001b[1;33m\u001b[0m\u001b[0m\n\u001b[0m",
      "\u001b[1;31mAttributeError\u001b[0m: type object 'str' has no attribute 'len'"
     ]
    }
   ],
   "source": [
    "str.len()"
   ]
  },
  {
   "cell_type": "code",
   "execution_count": 63,
   "id": "5f4529ef-db9c-4408-99a7-7c3bc34e41a7",
   "metadata": {},
   "outputs": [
    {
     "ename": "TypeError",
     "evalue": "object of type 'type' has no len()",
     "output_type": "error",
     "traceback": [
      "\u001b[1;31m---------------------------------------------------------------------------\u001b[0m",
      "\u001b[1;31mTypeError\u001b[0m                                 Traceback (most recent call last)",
      "\u001b[1;32m~\\AppData\\Local\\Temp/ipykernel_8068/4121225437.py\u001b[0m in \u001b[0;36m<module>\u001b[1;34m\u001b[0m\n\u001b[1;32m----> 1\u001b[1;33m \u001b[0mlen\u001b[0m\u001b[1;33m(\u001b[0m\u001b[0mstr\u001b[0m\u001b[1;33m)\u001b[0m\u001b[1;33m\u001b[0m\u001b[1;33m\u001b[0m\u001b[0m\n\u001b[0m",
      "\u001b[1;31mTypeError\u001b[0m: object of type 'type' has no len()"
     ]
    }
   ],
   "source": [
    "len(str)"
   ]
  },
  {
   "cell_type": "code",
   "execution_count": 64,
   "id": "cd7858af-f8ba-4b39-a453-665d26cd8feb",
   "metadata": {},
   "outputs": [
    {
     "ename": "AttributeError",
     "evalue": "'list' object has no attribute 'len'",
     "output_type": "error",
     "traceback": [
      "\u001b[1;31m---------------------------------------------------------------------------\u001b[0m",
      "\u001b[1;31mAttributeError\u001b[0m                            Traceback (most recent call last)",
      "\u001b[1;32m~\\AppData\\Local\\Temp/ipykernel_8068/1094315257.py\u001b[0m in \u001b[0;36m<module>\u001b[1;34m\u001b[0m\n\u001b[1;32m----> 1\u001b[1;33m \u001b[0mL\u001b[0m\u001b[1;33m.\u001b[0m\u001b[0mlen\u001b[0m\u001b[1;33m(\u001b[0m\u001b[1;33m)\u001b[0m\u001b[1;33m\u001b[0m\u001b[1;33m\u001b[0m\u001b[0m\n\u001b[0m",
      "\u001b[1;31mAttributeError\u001b[0m: 'list' object has no attribute 'len'"
     ]
    }
   ],
   "source": [
    "L.len()"
   ]
  },
  {
   "cell_type": "code",
   "execution_count": 65,
   "id": "997ffe58-968d-4ab9-aaac-c4d3624a128e",
   "metadata": {},
   "outputs": [
    {
     "data": {
      "text/plain": [
       "2"
      ]
     },
     "execution_count": 65,
     "metadata": {},
     "output_type": "execute_result"
    }
   ],
   "source": [
    "len(L)"
   ]
  },
  {
   "cell_type": "code",
   "execution_count": 66,
   "id": "34f9a196-acb0-4154-aee3-e97ba1219ea3",
   "metadata": {},
   "outputs": [
    {
     "ename": "TypeError",
     "evalue": "object of type 'type' has no len()",
     "output_type": "error",
     "traceback": [
      "\u001b[1;31m---------------------------------------------------------------------------\u001b[0m",
      "\u001b[1;31mTypeError\u001b[0m                                 Traceback (most recent call last)",
      "\u001b[1;32m~\\AppData\\Local\\Temp/ipykernel_8068/4121225437.py\u001b[0m in \u001b[0;36m<module>\u001b[1;34m\u001b[0m\n\u001b[1;32m----> 1\u001b[1;33m \u001b[0mlen\u001b[0m\u001b[1;33m(\u001b[0m\u001b[0mstr\u001b[0m\u001b[1;33m)\u001b[0m\u001b[1;33m\u001b[0m\u001b[1;33m\u001b[0m\u001b[0m\n\u001b[0m",
      "\u001b[1;31mTypeError\u001b[0m: object of type 'type' has no len()"
     ]
    }
   ],
   "source": [
    "len(str)"
   ]
  },
  {
   "cell_type": "code",
   "execution_count": 67,
   "id": "3cbe2ef6-87ae-4ee0-9469-1f17775e22f9",
   "metadata": {},
   "outputs": [
    {
     "data": {
      "text/plain": [
       "['hhhh', 645]"
      ]
     },
     "execution_count": 67,
     "metadata": {},
     "output_type": "execute_result"
    }
   ],
   "source": [
    "L"
   ]
  },
  {
   "cell_type": "code",
   "execution_count": 68,
   "id": "135f6aa5-56e0-4854-8f1f-af38ed4a9c27",
   "metadata": {},
   "outputs": [
    {
     "ename": "TypeError",
     "evalue": "list.append() takes exactly one argument (3 given)",
     "output_type": "error",
     "traceback": [
      "\u001b[1;31m---------------------------------------------------------------------------\u001b[0m",
      "\u001b[1;31mTypeError\u001b[0m                                 Traceback (most recent call last)",
      "\u001b[1;32m~\\AppData\\Local\\Temp/ipykernel_8068/773257084.py\u001b[0m in \u001b[0;36m<module>\u001b[1;34m\u001b[0m\n\u001b[1;32m----> 1\u001b[1;33m \u001b[0mL\u001b[0m\u001b[1;33m.\u001b[0m\u001b[0mappend\u001b[0m\u001b[1;33m(\u001b[0m\u001b[1;36m4\u001b[0m\u001b[1;33m,\u001b[0m \u001b[1;36m56\u001b[0m\u001b[1;33m,\u001b[0m \u001b[1;36m67\u001b[0m\u001b[1;33m)\u001b[0m\u001b[1;33m\u001b[0m\u001b[1;33m\u001b[0m\u001b[0m\n\u001b[0m",
      "\u001b[1;31mTypeError\u001b[0m: list.append() takes exactly one argument (3 given)"
     ]
    }
   ],
   "source": [
    "L.append(4, 56, 67)"
   ]
  },
  {
   "cell_type": "code",
   "execution_count": 69,
   "id": "dae6ff73-f720-4597-956b-b52a3fdedce0",
   "metadata": {},
   "outputs": [],
   "source": [
    "L.append(4)"
   ]
  },
  {
   "cell_type": "code",
   "execution_count": 70,
   "id": "bbad3513-ea70-4717-b8df-c5394c6e4290",
   "metadata": {},
   "outputs": [],
   "source": [
    "L.append(546)"
   ]
  },
  {
   "cell_type": "code",
   "execution_count": 71,
   "id": "8e120e12-a78f-4305-8cb1-bc809395ef80",
   "metadata": {},
   "outputs": [
    {
     "data": {
      "text/plain": [
       "['hhhh', 645, 4, 546]"
      ]
     },
     "execution_count": 71,
     "metadata": {},
     "output_type": "execute_result"
    }
   ],
   "source": [
    "L\n"
   ]
  },
  {
   "cell_type": "code",
   "execution_count": 72,
   "id": "42fc524d-4674-44b4-81a4-8d54ede5e243",
   "metadata": {},
   "outputs": [
    {
     "ename": "TypeError",
     "evalue": "'<' not supported between instances of 'int' and 'str'",
     "output_type": "error",
     "traceback": [
      "\u001b[1;31m---------------------------------------------------------------------------\u001b[0m",
      "\u001b[1;31mTypeError\u001b[0m                                 Traceback (most recent call last)",
      "\u001b[1;32m~\\AppData\\Local\\Temp/ipykernel_8068/1576211776.py\u001b[0m in \u001b[0;36m<module>\u001b[1;34m\u001b[0m\n\u001b[1;32m----> 1\u001b[1;33m \u001b[0mL\u001b[0m\u001b[1;33m.\u001b[0m\u001b[0msort\u001b[0m\u001b[1;33m(\u001b[0m\u001b[1;33m)\u001b[0m\u001b[1;33m\u001b[0m\u001b[1;33m\u001b[0m\u001b[0m\n\u001b[0m",
      "\u001b[1;31mTypeError\u001b[0m: '<' not supported between instances of 'int' and 'str'"
     ]
    }
   ],
   "source": [
    "L.sort()"
   ]
  },
  {
   "cell_type": "code",
   "execution_count": 73,
   "id": "f6a92d43-abe2-4fff-9e12-3e1d0cd37ada",
   "metadata": {},
   "outputs": [
    {
     "ename": "TypeError",
     "evalue": "'str' object cannot be interpreted as an integer",
     "output_type": "error",
     "traceback": [
      "\u001b[1;31m---------------------------------------------------------------------------\u001b[0m",
      "\u001b[1;31mTypeError\u001b[0m                                 Traceback (most recent call last)",
      "\u001b[1;32m~\\AppData\\Local\\Temp/ipykernel_8068/82036956.py\u001b[0m in \u001b[0;36m<module>\u001b[1;34m\u001b[0m\n\u001b[1;32m----> 1\u001b[1;33m \u001b[0mL\u001b[0m\u001b[1;33m.\u001b[0m\u001b[0mpop\u001b[0m\u001b[1;33m(\u001b[0m\u001b[1;34m'hhh'\u001b[0m\u001b[1;33m)\u001b[0m\u001b[1;33m\u001b[0m\u001b[1;33m\u001b[0m\u001b[0m\n\u001b[0m",
      "\u001b[1;31mTypeError\u001b[0m: 'str' object cannot be interpreted as an integer"
     ]
    }
   ],
   "source": [
    "L.pop('hhh')"
   ]
  },
  {
   "cell_type": "code",
   "execution_count": 74,
   "id": "b703a99b-8d79-4452-b4a2-020a362f5cf2",
   "metadata": {},
   "outputs": [],
   "source": [
    "L.remove('hhhh')"
   ]
  },
  {
   "cell_type": "code",
   "execution_count": 75,
   "id": "9b50d5d8-5840-4724-8c96-69a1ebf9b1f1",
   "metadata": {},
   "outputs": [
    {
     "data": {
      "text/plain": [
       "[645, 4, 546]"
      ]
     },
     "execution_count": 75,
     "metadata": {},
     "output_type": "execute_result"
    }
   ],
   "source": [
    "L"
   ]
  },
  {
   "cell_type": "code",
   "execution_count": 76,
   "id": "443ee639-4eeb-4432-a4e8-449cdaee9203",
   "metadata": {},
   "outputs": [],
   "source": [
    "L.sort()"
   ]
  },
  {
   "cell_type": "code",
   "execution_count": 77,
   "id": "17cb8bb3-922d-4daa-8249-17711ab8b25b",
   "metadata": {},
   "outputs": [
    {
     "data": {
      "text/plain": [
       "[4, 546, 645]"
      ]
     },
     "execution_count": 77,
     "metadata": {},
     "output_type": "execute_result"
    }
   ],
   "source": [
    "L"
   ]
  },
  {
   "cell_type": "code",
   "execution_count": 78,
   "id": "23cdccd8-49ed-44d8-b7c4-b4209d80b8bb",
   "metadata": {},
   "outputs": [
    {
     "data": {
      "text/plain": [
       "str"
      ]
     },
     "execution_count": 78,
     "metadata": {},
     "output_type": "execute_result"
    }
   ],
   "source": [
    "str"
   ]
  },
  {
   "cell_type": "code",
   "execution_count": 79,
   "id": "0d1b5197-96fc-46b5-915b-0bee03f6b5e1",
   "metadata": {},
   "outputs": [
    {
     "data": {
      "text/plain": [
       "'abcdefg'"
      ]
     },
     "execution_count": 79,
     "metadata": {},
     "output_type": "execute_result"
    }
   ],
   "source": [
    "st"
   ]
  },
  {
   "cell_type": "code",
   "execution_count": 80,
   "id": "2077feb8-48cb-4c97-9c04-a68b61e90984",
   "metadata": {},
   "outputs": [
    {
     "data": {
      "text/plain": [
       "'Abcdefg'"
      ]
     },
     "execution_count": 80,
     "metadata": {},
     "output_type": "execute_result"
    }
   ],
   "source": [
    "st.replace('a', 'A')"
   ]
  },
  {
   "cell_type": "code",
   "execution_count": 81,
   "id": "fd652edb-a55c-42de-90d5-ca9de30a751c",
   "metadata": {},
   "outputs": [
    {
     "data": {
      "text/plain": [
       "'abcdefg'"
      ]
     },
     "execution_count": 81,
     "metadata": {},
     "output_type": "execute_result"
    }
   ],
   "source": [
    "st"
   ]
  },
  {
   "cell_type": "code",
   "execution_count": 82,
   "id": "43fb3820-4d5b-4895-a487-078ee4f7fec7",
   "metadata": {},
   "outputs": [
    {
     "data": {
      "text/plain": [
       "7"
      ]
     },
     "execution_count": 82,
     "metadata": {},
     "output_type": "execute_result"
    }
   ],
   "source": [
    "len(st)"
   ]
  },
  {
   "cell_type": "code",
   "execution_count": 83,
   "id": "6611f606-95b6-49bc-8ccd-d921d4bab237",
   "metadata": {},
   "outputs": [],
   "source": [
    "def my_abs(x):\n",
    "    if x > 0:\n",
    "        return x\n",
    "    else:\n",
    "        return -x"
   ]
  },
  {
   "cell_type": "code",
   "execution_count": 84,
   "id": "e078b242-fb45-410c-ae35-441b67882abf",
   "metadata": {},
   "outputs": [
    {
     "data": {
      "text/plain": [
       "34"
      ]
     },
     "execution_count": 84,
     "metadata": {},
     "output_type": "execute_result"
    }
   ],
   "source": [
    "my_abs(-34)"
   ]
  },
  {
   "cell_type": "code",
   "execution_count": 87,
   "id": "eb23df85-23f7-44f1-b8a2-5e8d5ba707a3",
   "metadata": {},
   "outputs": [],
   "source": [
    "def my_abs(x):\n",
    "    if not isinstance(x, (int, float)):\n",
    "        raise TypeError('bad type')\n",
    "    \n",
    "    if x > 0:\n",
    "        return x\n",
    "    else:\n",
    "        return -x"
   ]
  },
  {
   "cell_type": "code",
   "execution_count": 89,
   "id": "1ba42f21-e90b-4482-b179-301dbb8f57d8",
   "metadata": {},
   "outputs": [
    {
     "ename": "TypeError",
     "evalue": "bad type",
     "output_type": "error",
     "traceback": [
      "\u001b[1;31m---------------------------------------------------------------------------\u001b[0m",
      "\u001b[1;31mTypeError\u001b[0m                                 Traceback (most recent call last)",
      "\u001b[1;32m~\\AppData\\Local\\Temp/ipykernel_8068/4074497732.py\u001b[0m in \u001b[0;36m<module>\u001b[1;34m\u001b[0m\n\u001b[1;32m----> 1\u001b[1;33m \u001b[0mmy_abs\u001b[0m\u001b[1;33m(\u001b[0m\u001b[1;34m'sd'\u001b[0m\u001b[1;33m)\u001b[0m\u001b[1;33m\u001b[0m\u001b[1;33m\u001b[0m\u001b[0m\n\u001b[0m",
      "\u001b[1;32m~\\AppData\\Local\\Temp/ipykernel_8068/3313801036.py\u001b[0m in \u001b[0;36mmy_abs\u001b[1;34m(x)\u001b[0m\n\u001b[0;32m      1\u001b[0m \u001b[1;32mdef\u001b[0m \u001b[0mmy_abs\u001b[0m\u001b[1;33m(\u001b[0m\u001b[0mx\u001b[0m\u001b[1;33m)\u001b[0m\u001b[1;33m:\u001b[0m\u001b[1;33m\u001b[0m\u001b[1;33m\u001b[0m\u001b[0m\n\u001b[0;32m      2\u001b[0m     \u001b[1;32mif\u001b[0m \u001b[1;32mnot\u001b[0m \u001b[0misinstance\u001b[0m\u001b[1;33m(\u001b[0m\u001b[0mx\u001b[0m\u001b[1;33m,\u001b[0m \u001b[1;33m(\u001b[0m\u001b[0mint\u001b[0m\u001b[1;33m,\u001b[0m \u001b[0mfloat\u001b[0m\u001b[1;33m)\u001b[0m\u001b[1;33m)\u001b[0m\u001b[1;33m:\u001b[0m\u001b[1;33m\u001b[0m\u001b[1;33m\u001b[0m\u001b[0m\n\u001b[1;32m----> 3\u001b[1;33m         \u001b[1;32mraise\u001b[0m \u001b[0mTypeError\u001b[0m\u001b[1;33m(\u001b[0m\u001b[1;34m'bad type'\u001b[0m\u001b[1;33m)\u001b[0m\u001b[1;33m\u001b[0m\u001b[1;33m\u001b[0m\u001b[0m\n\u001b[0m\u001b[0;32m      4\u001b[0m \u001b[1;33m\u001b[0m\u001b[0m\n\u001b[0;32m      5\u001b[0m     \u001b[1;32mif\u001b[0m \u001b[0mx\u001b[0m \u001b[1;33m>\u001b[0m \u001b[1;36m0\u001b[0m\u001b[1;33m:\u001b[0m\u001b[1;33m\u001b[0m\u001b[1;33m\u001b[0m\u001b[0m\n",
      "\u001b[1;31mTypeError\u001b[0m: bad type"
     ]
    }
   ],
   "source": [
    "my_abs('sd')"
   ]
  },
  {
   "cell_type": "code",
   "execution_count": 90,
   "id": "f5ba9ef4-38a6-4650-9874-13f3917fe22c",
   "metadata": {},
   "outputs": [],
   "source": [
    "def calc(*numbers):\n",
    "    sum = 0\n",
    "    for n in numbers:\n",
    "        sum += n\n",
    "    return sum"
   ]
  },
  {
   "cell_type": "code",
   "execution_count": 91,
   "id": "d82d037b-89e8-415e-aaf8-d7c4ffbc40a3",
   "metadata": {},
   "outputs": [
    {
     "data": {
      "text/plain": [
       "8"
      ]
     },
     "execution_count": 91,
     "metadata": {},
     "output_type": "execute_result"
    }
   ],
   "source": [
    "calc(1, 3, 4)"
   ]
  },
  {
   "cell_type": "code",
   "execution_count": 92,
   "id": "cbaccba0-771b-46c2-8491-414d5c3ae763",
   "metadata": {},
   "outputs": [
    {
     "data": {
      "text/plain": [
       "70"
      ]
     },
     "execution_count": 92,
     "metadata": {},
     "output_type": "execute_result"
    }
   ],
   "source": [
    "li = [1, 4, 65]\n",
    "\n",
    "calc(*li)"
   ]
  },
  {
   "cell_type": "code",
   "execution_count": 93,
   "id": "93dd7453-c984-4fb6-8123-b92d32330302",
   "metadata": {},
   "outputs": [
    {
     "data": {
      "text/plain": [
       "[1, 4, 9, 16, 25, 36, 49, 64, 81, 100]"
      ]
     },
     "execution_count": 93,
     "metadata": {},
     "output_type": "execute_result"
    }
   ],
   "source": [
    "[i*i for i in range(1, 11)]"
   ]
  },
  {
   "cell_type": "code",
   "execution_count": 94,
   "id": "9ec5e595-c260-46f5-b8ea-4437f324030a",
   "metadata": {},
   "outputs": [
    {
     "data": {
      "text/plain": [
       "[4, 16, 36, 64, 100]"
      ]
     },
     "execution_count": 94,
     "metadata": {},
     "output_type": "execute_result"
    }
   ],
   "source": [
    "[i * i for i in range(1, 11) if i % 2 == 0]"
   ]
  },
  {
   "cell_type": "code",
   "execution_count": 95,
   "id": "7d3ccf30-e98d-40a0-b5f6-4c8ccc65c1cb",
   "metadata": {},
   "outputs": [
    {
     "data": {
      "text/plain": [
       "10"
      ]
     },
     "execution_count": 95,
     "metadata": {},
     "output_type": "execute_result"
    }
   ],
   "source": [
    "abs(-10)"
   ]
  },
  {
   "cell_type": "code",
   "execution_count": 97,
   "id": "73c41ea7-3c6a-4f64-bce1-567b6fb9c0cc",
   "metadata": {},
   "outputs": [
    {
     "data": {
      "text/plain": [
       "[1, 34, 32]"
      ]
     },
     "execution_count": 97,
     "metadata": {},
     "output_type": "execute_result"
    }
   ],
   "source": [
    "L = [-1, 34, -32]\n",
    "\n",
    "list(map(abs, L))"
   ]
  },
  {
   "cell_type": "code",
   "execution_count": 100,
   "id": "0781bc36-4f07-4b62-8355-e1574d37476c",
   "metadata": {},
   "outputs": [
    {
     "data": {
      "text/plain": [
       "[2,\n",
       " 4,\n",
       " 6,\n",
       " 8,\n",
       " 10,\n",
       " 12,\n",
       " 14,\n",
       " 16,\n",
       " 18,\n",
       " 20,\n",
       " 22,\n",
       " 24,\n",
       " 26,\n",
       " 28,\n",
       " 30,\n",
       " 32,\n",
       " 34,\n",
       " 36,\n",
       " 38,\n",
       " 40,\n",
       " 42,\n",
       " 44,\n",
       " 46,\n",
       " 48,\n",
       " 50,\n",
       " 52,\n",
       " 54,\n",
       " 56,\n",
       " 58,\n",
       " 60,\n",
       " 62,\n",
       " 64,\n",
       " 66,\n",
       " 68,\n",
       " 70,\n",
       " 72,\n",
       " 74,\n",
       " 76,\n",
       " 78,\n",
       " 80,\n",
       " 82,\n",
       " 84,\n",
       " 86,\n",
       " 88,\n",
       " 90,\n",
       " 92,\n",
       " 94,\n",
       " 96,\n",
       " 98]"
      ]
     },
     "execution_count": 100,
     "metadata": {},
     "output_type": "execute_result"
    }
   ],
   "source": [
    "def is_odd(n):\n",
    "    return n % 2 == 0\n",
    "\n",
    "list(filter(is_odd, list(range(1, 99))))"
   ]
  },
  {
   "cell_type": "code",
   "execution_count": 101,
   "id": "7a82943b-78ae-4b17-943a-5ead0637d646",
   "metadata": {},
   "outputs": [
    {
     "data": {
      "text/plain": [
       "[556, 34, 1]"
      ]
     },
     "execution_count": 101,
     "metadata": {},
     "output_type": "execute_result"
    }
   ],
   "source": [
    "sorted([1, 34, 556], reverse=True)"
   ]
  },
  {
   "cell_type": "code",
   "execution_count": 102,
   "id": "b9d76838-bdce-4e00-964f-6f9d7d10f527",
   "metadata": {},
   "outputs": [
    {
     "data": {
      "text/plain": [
       "['Credit', 'Zoo', 'about', 'bob']"
      ]
     },
     "execution_count": 102,
     "metadata": {},
     "output_type": "execute_result"
    }
   ],
   "source": [
    "sorted(['bob', 'about', 'Zoo', 'Credit'])"
   ]
  },
  {
   "cell_type": "code",
   "execution_count": 104,
   "id": "439778d5-8f7a-4ade-a666-e3cef72d665e",
   "metadata": {},
   "outputs": [
    {
     "data": {
      "text/plain": [
       "['about', 'bob', 'Credit', 'Zoo']"
      ]
     },
     "execution_count": 104,
     "metadata": {},
     "output_type": "execute_result"
    }
   ],
   "source": [
    "sorted(['bob', 'about', 'Zoo', 'Credit'], key=str.lower)"
   ]
  },
  {
   "cell_type": "code",
   "execution_count": 105,
   "id": "4b321ee3-90cd-4293-9185-000f9cc87efd",
   "metadata": {},
   "outputs": [],
   "source": [
    "L = [('Bob', 75), ('Adam', 92), ('Bart', 66), ('Lisa', 88)]"
   ]
  },
  {
   "cell_type": "code",
   "execution_count": 106,
   "id": "bede0adf-55b5-4f94-8efc-32cf494f2cc4",
   "metadata": {},
   "outputs": [
    {
     "data": {
      "text/plain": [
       "[('Adam', 92), ('Bart', 66), ('Bob', 75), ('Lisa', 88)]"
      ]
     },
     "execution_count": 106,
     "metadata": {},
     "output_type": "execute_result"
    }
   ],
   "source": [
    "sorted(L, key=lambda x : x[0])"
   ]
  },
  {
   "cell_type": "code",
   "execution_count": 107,
   "id": "c7851b3b-9d68-43c8-8152-7b8e4e457b21",
   "metadata": {},
   "outputs": [
    {
     "data": {
      "text/plain": [
       "[('Adam', 92), ('Bart', 66), ('Bob', 75), ('Lisa', 88)]"
      ]
     },
     "execution_count": 107,
     "metadata": {},
     "output_type": "execute_result"
    }
   ],
   "source": [
    "sorted(L)"
   ]
  },
  {
   "cell_type": "code",
   "execution_count": 108,
   "id": "cb8de8d7-19b2-4cff-829d-ec65b4fcef09",
   "metadata": {},
   "outputs": [
    {
     "data": {
      "text/plain": [
       "[('Bart', 66), ('Bob', 75), ('Lisa', 88), ('Adam', 92)]"
      ]
     },
     "execution_count": 108,
     "metadata": {},
     "output_type": "execute_result"
    }
   ],
   "source": [
    "sorted(L, key=lambda x : x[1])"
   ]
  },
  {
   "cell_type": "code",
   "execution_count": null,
   "id": "50563287-ef26-4f9e-9e3c-2e329806751c",
   "metadata": {},
   "outputs": [],
   "source": []
  }
 ],
 "metadata": {
  "kernelspec": {
   "display_name": "Python 3 (ipykernel)",
   "language": "python",
   "name": "python3"
  },
  "language_info": {
   "codemirror_mode": {
    "name": "ipython",
    "version": 3
   },
   "file_extension": ".py",
   "mimetype": "text/x-python",
   "name": "python",
   "nbconvert_exporter": "python",
   "pygments_lexer": "ipython3",
   "version": "3.9.7"
  },
  "widgets": {
   "application/vnd.jupyter.widget-state+json": {
    "state": {},
    "version_major": 2,
    "version_minor": 0
   }
  }
 },
 "nbformat": 4,
 "nbformat_minor": 5
}
